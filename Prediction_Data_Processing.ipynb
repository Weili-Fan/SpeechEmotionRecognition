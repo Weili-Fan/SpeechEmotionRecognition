{
 "cells": [
  {
   "cell_type": "code",
   "execution_count": 1,
   "metadata": {
    "collapsed": true,
    "pycharm": {
     "name": "#%%\n"
    }
   },
   "outputs": [],
   "source": [
    "import numpy as np\n",
    "import pandas as pd\n",
    "import scipy\n",
    "import os\n",
    "import librosa\n",
    "import librosa.display"
   ]
  },
  {
   "cell_type": "code",
   "execution_count": 14,
   "outputs": [],
   "source": [
    "# Extract Raw Data Files\n",
    "path = '/Users/ares/PycharmProjects/pythonProject/Emotion_Classifier/test/'\n",
    "os.chdir(path)\n",
    "filename = os.listdir(path)\n",
    "fs = 48000"
   ],
   "metadata": {
    "collapsed": false,
    "pycharm": {
     "name": "#%%\n"
    }
   }
  },
  {
   "cell_type": "code",
   "execution_count": 15,
   "outputs": [
    {
     "name": "stderr",
     "output_type": "stream",
     "text": [
      "/Users/ares/PycharmProjects/pythonProject/venv/lib/python3.10/site-packages/librosa/util/decorators.py:88: UserWarning: PySoundFile failed. Trying audioread instead.\n",
      "  return f(*args, **kwargs)\n"
     ]
    },
    {
     "ename": "NoBackendError",
     "evalue": "",
     "output_type": "error",
     "traceback": [
      "\u001B[0;31m---------------------------------------------------------------------------\u001B[0m",
      "\u001B[0;31mLibsndfileError\u001B[0m                           Traceback (most recent call last)",
      "File \u001B[0;32m~/PycharmProjects/pythonProject/venv/lib/python3.10/site-packages/librosa/core/audio.py:164\u001B[0m, in \u001B[0;36mload\u001B[0;34m(path, sr, mono, offset, duration, dtype, res_type)\u001B[0m\n\u001B[1;32m    163\u001B[0m \u001B[38;5;28;01mtry\u001B[39;00m:\n\u001B[0;32m--> 164\u001B[0m     y, sr_native \u001B[38;5;241m=\u001B[39m \u001B[43m__soundfile_load\u001B[49m\u001B[43m(\u001B[49m\u001B[43mpath\u001B[49m\u001B[43m,\u001B[49m\u001B[43m \u001B[49m\u001B[43moffset\u001B[49m\u001B[43m,\u001B[49m\u001B[43m \u001B[49m\u001B[43mduration\u001B[49m\u001B[43m,\u001B[49m\u001B[43m \u001B[49m\u001B[43mdtype\u001B[49m\u001B[43m)\u001B[49m\n\u001B[1;32m    166\u001B[0m \u001B[38;5;28;01mexcept\u001B[39;00m \u001B[38;5;167;01mRuntimeError\u001B[39;00m \u001B[38;5;28;01mas\u001B[39;00m exc:\n\u001B[1;32m    167\u001B[0m     \u001B[38;5;66;03m# If soundfile failed, try audioread instead\u001B[39;00m\n",
      "File \u001B[0;32m~/PycharmProjects/pythonProject/venv/lib/python3.10/site-packages/librosa/core/audio.py:195\u001B[0m, in \u001B[0;36m__soundfile_load\u001B[0;34m(path, offset, duration, dtype)\u001B[0m\n\u001B[1;32m    193\u001B[0m \u001B[38;5;28;01melse\u001B[39;00m:\n\u001B[1;32m    194\u001B[0m     \u001B[38;5;66;03m# Otherwise, create the soundfile object\u001B[39;00m\n\u001B[0;32m--> 195\u001B[0m     context \u001B[38;5;241m=\u001B[39m \u001B[43msf\u001B[49m\u001B[38;5;241;43m.\u001B[39;49m\u001B[43mSoundFile\u001B[49m\u001B[43m(\u001B[49m\u001B[43mpath\u001B[49m\u001B[43m)\u001B[49m\n\u001B[1;32m    197\u001B[0m \u001B[38;5;28;01mwith\u001B[39;00m context \u001B[38;5;28;01mas\u001B[39;00m sf_desc:\n",
      "File \u001B[0;32m~/PycharmProjects/pythonProject/venv/lib/python3.10/site-packages/soundfile.py:655\u001B[0m, in \u001B[0;36mSoundFile.__init__\u001B[0;34m(self, file, mode, samplerate, channels, subtype, endian, format, closefd)\u001B[0m\n\u001B[1;32m    653\u001B[0m \u001B[38;5;28mself\u001B[39m\u001B[38;5;241m.\u001B[39m_info \u001B[38;5;241m=\u001B[39m _create_info_struct(file, mode, samplerate, channels,\n\u001B[1;32m    654\u001B[0m                                  \u001B[38;5;28mformat\u001B[39m, subtype, endian)\n\u001B[0;32m--> 655\u001B[0m \u001B[38;5;28mself\u001B[39m\u001B[38;5;241m.\u001B[39m_file \u001B[38;5;241m=\u001B[39m \u001B[38;5;28;43mself\u001B[39;49m\u001B[38;5;241;43m.\u001B[39;49m\u001B[43m_open\u001B[49m\u001B[43m(\u001B[49m\u001B[43mfile\u001B[49m\u001B[43m,\u001B[49m\u001B[43m \u001B[49m\u001B[43mmode_int\u001B[49m\u001B[43m,\u001B[49m\u001B[43m \u001B[49m\u001B[43mclosefd\u001B[49m\u001B[43m)\u001B[49m\n\u001B[1;32m    656\u001B[0m \u001B[38;5;28;01mif\u001B[39;00m \u001B[38;5;28mset\u001B[39m(mode)\u001B[38;5;241m.\u001B[39missuperset(\u001B[38;5;124m'\u001B[39m\u001B[38;5;124mr+\u001B[39m\u001B[38;5;124m'\u001B[39m) \u001B[38;5;129;01mand\u001B[39;00m \u001B[38;5;28mself\u001B[39m\u001B[38;5;241m.\u001B[39mseekable():\n\u001B[1;32m    657\u001B[0m     \u001B[38;5;66;03m# Move write position to 0 (like in Python file objects)\u001B[39;00m\n",
      "File \u001B[0;32m~/PycharmProjects/pythonProject/venv/lib/python3.10/site-packages/soundfile.py:1213\u001B[0m, in \u001B[0;36mSoundFile._open\u001B[0;34m(self, file, mode_int, closefd)\u001B[0m\n\u001B[1;32m   1212\u001B[0m     err \u001B[38;5;241m=\u001B[39m _snd\u001B[38;5;241m.\u001B[39msf_error(file_ptr)\n\u001B[0;32m-> 1213\u001B[0m     \u001B[38;5;28;01mraise\u001B[39;00m LibsndfileError(err, prefix\u001B[38;5;241m=\u001B[39m\u001B[38;5;124m\"\u001B[39m\u001B[38;5;124mError opening \u001B[39m\u001B[38;5;132;01m{0!r}\u001B[39;00m\u001B[38;5;124m: \u001B[39m\u001B[38;5;124m\"\u001B[39m\u001B[38;5;241m.\u001B[39mformat(\u001B[38;5;28mself\u001B[39m\u001B[38;5;241m.\u001B[39mname))\n\u001B[1;32m   1214\u001B[0m \u001B[38;5;28;01mif\u001B[39;00m mode_int \u001B[38;5;241m==\u001B[39m _snd\u001B[38;5;241m.\u001B[39mSFM_WRITE:\n\u001B[1;32m   1215\u001B[0m     \u001B[38;5;66;03m# Due to a bug in libsndfile version <= 1.0.25, frames != 0\u001B[39;00m\n\u001B[1;32m   1216\u001B[0m     \u001B[38;5;66;03m# when opening a named pipe in SFM_WRITE mode.\u001B[39;00m\n\u001B[1;32m   1217\u001B[0m     \u001B[38;5;66;03m# See http://github.com/erikd/libsndfile/issues/77.\u001B[39;00m\n",
      "\u001B[0;31mLibsndfileError\u001B[0m: Error opening '/Users/ares/PycharmProjects/pythonProject/Emotion_Classifier/test/.DS_Store': Format not recognised.",
      "\nDuring handling of the above exception, another exception occurred:\n",
      "\u001B[0;31mNoBackendError\u001B[0m                            Traceback (most recent call last)",
      "Cell \u001B[0;32mIn [15], line 7\u001B[0m\n\u001B[1;32m      5\u001B[0m emotion \u001B[38;5;241m=\u001B[39m \u001B[38;5;124m'\u001B[39m\u001B[38;5;124m'\u001B[39m\u001B[38;5;241m.\u001B[39mjoin([i \u001B[38;5;28;01mfor\u001B[39;00m i \u001B[38;5;129;01min\u001B[39;00m wavfile[:\u001B[38;5;241m-\u001B[39m\u001B[38;5;241m4\u001B[39m]])\n\u001B[1;32m      6\u001B[0m \u001B[38;5;66;03m#index = int(wavfile[-7:-4])\u001B[39;00m\n\u001B[0;32m----> 7\u001B[0m waveform, rate \u001B[38;5;241m=\u001B[39m \u001B[43mlibrosa\u001B[49m\u001B[38;5;241;43m.\u001B[39;49m\u001B[43mload\u001B[49m\u001B[43m(\u001B[49m\u001B[43mpath\u001B[49m\u001B[43m \u001B[49m\u001B[38;5;241;43m+\u001B[39;49m\u001B[43m \u001B[49m\u001B[43mwavfile\u001B[49m\u001B[43m,\u001B[49m\u001B[43m \u001B[49m\u001B[43msr\u001B[49m\u001B[43m \u001B[49m\u001B[38;5;241;43m=\u001B[39;49m\u001B[43m \u001B[49m\u001B[43mfs\u001B[49m\u001B[43m)\u001B[49m\n\u001B[1;32m      8\u001B[0m waveform \u001B[38;5;241m=\u001B[39m waveform\u001B[38;5;241m.\u001B[39mastype(\u001B[38;5;124m'\u001B[39m\u001B[38;5;124mfloat64\u001B[39m\u001B[38;5;124m'\u001B[39m)\n\u001B[1;32m      9\u001B[0m effective \u001B[38;5;241m=\u001B[39m waveform[np\u001B[38;5;241m.\u001B[39margwhere(waveform\u001B[38;5;241m/\u001B[39m\u001B[38;5;28mmax\u001B[39m(waveform) \u001B[38;5;241m>\u001B[39m \u001B[38;5;241m0.05\u001B[39m)[\u001B[38;5;241m0\u001B[39m,\u001B[38;5;241m0\u001B[39m]:np\u001B[38;5;241m.\u001B[39margwhere(waveform\u001B[38;5;241m/\u001B[39m\u001B[38;5;28mmax\u001B[39m(waveform) \u001B[38;5;241m>\u001B[39m \u001B[38;5;241m0.05\u001B[39m)[\u001B[38;5;241m-\u001B[39m\u001B[38;5;241m1\u001B[39m,\u001B[38;5;241m0\u001B[39m]\u001B[38;5;241m+\u001B[39m\u001B[38;5;241m1\u001B[39m]\n",
      "File \u001B[0;32m~/PycharmProjects/pythonProject/venv/lib/python3.10/site-packages/librosa/util/decorators.py:88\u001B[0m, in \u001B[0;36mdeprecate_positional_args.<locals>._inner_deprecate_positional_args.<locals>.inner_f\u001B[0;34m(*args, **kwargs)\u001B[0m\n\u001B[1;32m     86\u001B[0m extra_args \u001B[38;5;241m=\u001B[39m \u001B[38;5;28mlen\u001B[39m(args) \u001B[38;5;241m-\u001B[39m \u001B[38;5;28mlen\u001B[39m(all_args)\n\u001B[1;32m     87\u001B[0m \u001B[38;5;28;01mif\u001B[39;00m extra_args \u001B[38;5;241m<\u001B[39m\u001B[38;5;241m=\u001B[39m \u001B[38;5;241m0\u001B[39m:\n\u001B[0;32m---> 88\u001B[0m     \u001B[38;5;28;01mreturn\u001B[39;00m \u001B[43mf\u001B[49m\u001B[43m(\u001B[49m\u001B[38;5;241;43m*\u001B[39;49m\u001B[43margs\u001B[49m\u001B[43m,\u001B[49m\u001B[43m \u001B[49m\u001B[38;5;241;43m*\u001B[39;49m\u001B[38;5;241;43m*\u001B[39;49m\u001B[43mkwargs\u001B[49m\u001B[43m)\u001B[49m\n\u001B[1;32m     90\u001B[0m \u001B[38;5;66;03m# extra_args > 0\u001B[39;00m\n\u001B[1;32m     91\u001B[0m args_msg \u001B[38;5;241m=\u001B[39m [\n\u001B[1;32m     92\u001B[0m     \u001B[38;5;124m\"\u001B[39m\u001B[38;5;132;01m{}\u001B[39;00m\u001B[38;5;124m=\u001B[39m\u001B[38;5;132;01m{}\u001B[39;00m\u001B[38;5;124m\"\u001B[39m\u001B[38;5;241m.\u001B[39mformat(name, arg)\n\u001B[1;32m     93\u001B[0m     \u001B[38;5;28;01mfor\u001B[39;00m name, arg \u001B[38;5;129;01min\u001B[39;00m \u001B[38;5;28mzip\u001B[39m(kwonly_args[:extra_args], args[\u001B[38;5;241m-\u001B[39mextra_args:])\n\u001B[1;32m     94\u001B[0m ]\n",
      "File \u001B[0;32m~/PycharmProjects/pythonProject/venv/lib/python3.10/site-packages/librosa/core/audio.py:170\u001B[0m, in \u001B[0;36mload\u001B[0;34m(path, sr, mono, offset, duration, dtype, res_type)\u001B[0m\n\u001B[1;32m    168\u001B[0m \u001B[38;5;28;01mif\u001B[39;00m \u001B[38;5;28misinstance\u001B[39m(path, (\u001B[38;5;28mstr\u001B[39m, pathlib\u001B[38;5;241m.\u001B[39mPurePath)):\n\u001B[1;32m    169\u001B[0m     warnings\u001B[38;5;241m.\u001B[39mwarn(\u001B[38;5;124m\"\u001B[39m\u001B[38;5;124mPySoundFile failed. Trying audioread instead.\u001B[39m\u001B[38;5;124m\"\u001B[39m, stacklevel\u001B[38;5;241m=\u001B[39m\u001B[38;5;241m2\u001B[39m)\n\u001B[0;32m--> 170\u001B[0m     y, sr_native \u001B[38;5;241m=\u001B[39m \u001B[43m__audioread_load\u001B[49m\u001B[43m(\u001B[49m\u001B[43mpath\u001B[49m\u001B[43m,\u001B[49m\u001B[43m \u001B[49m\u001B[43moffset\u001B[49m\u001B[43m,\u001B[49m\u001B[43m \u001B[49m\u001B[43mduration\u001B[49m\u001B[43m,\u001B[49m\u001B[43m \u001B[49m\u001B[43mdtype\u001B[49m\u001B[43m)\u001B[49m\n\u001B[1;32m    171\u001B[0m \u001B[38;5;28;01melse\u001B[39;00m:\n\u001B[1;32m    172\u001B[0m     \u001B[38;5;28;01mraise\u001B[39;00m exc\n",
      "File \u001B[0;32m~/PycharmProjects/pythonProject/venv/lib/python3.10/site-packages/librosa/core/audio.py:226\u001B[0m, in \u001B[0;36m__audioread_load\u001B[0;34m(path, offset, duration, dtype)\u001B[0m\n\u001B[1;32m    223\u001B[0m     reader \u001B[38;5;241m=\u001B[39m path\n\u001B[1;32m    224\u001B[0m \u001B[38;5;28;01melse\u001B[39;00m:\n\u001B[1;32m    225\u001B[0m     \u001B[38;5;66;03m# If the input was not an audioread object, try to open it\u001B[39;00m\n\u001B[0;32m--> 226\u001B[0m     reader \u001B[38;5;241m=\u001B[39m \u001B[43maudioread\u001B[49m\u001B[38;5;241;43m.\u001B[39;49m\u001B[43maudio_open\u001B[49m\u001B[43m(\u001B[49m\u001B[43mpath\u001B[49m\u001B[43m)\u001B[49m\n\u001B[1;32m    228\u001B[0m \u001B[38;5;28;01mwith\u001B[39;00m reader \u001B[38;5;28;01mas\u001B[39;00m input_file:\n\u001B[1;32m    229\u001B[0m     sr_native \u001B[38;5;241m=\u001B[39m input_file\u001B[38;5;241m.\u001B[39msamplerate\n",
      "File \u001B[0;32m~/PycharmProjects/pythonProject/venv/lib/python3.10/site-packages/audioread/__init__.py:132\u001B[0m, in \u001B[0;36maudio_open\u001B[0;34m(path, backends)\u001B[0m\n\u001B[1;32m    129\u001B[0m         \u001B[38;5;28;01mpass\u001B[39;00m\n\u001B[1;32m    131\u001B[0m \u001B[38;5;66;03m# All backends failed!\u001B[39;00m\n\u001B[0;32m--> 132\u001B[0m \u001B[38;5;28;01mraise\u001B[39;00m NoBackendError()\n",
      "\u001B[0;31mNoBackendError\u001B[0m: "
     ]
    }
   ],
   "source": [
    "raw = []\n",
    "length = []\n",
    "label = []\n",
    "for wavfile in filename:\n",
    "    emotion = ''.join([i for i in wavfile[:-4]])\n",
    "    #index = int(wavfile[-7:-4])\n",
    "    waveform, rate = librosa.load(path + wavfile, sr = fs)\n",
    "    waveform = waveform.astype('float64')\n",
    "    effective = waveform[np.argwhere(waveform/max(waveform) > 0.05)[0,0]:np.argwhere(waveform/max(waveform) > 0.05)[-1,0]+1]\n",
    "    raw.append(effective)\n",
    "    length.append(len(effective))\n",
    "    label.append(emotion)"
   ],
   "metadata": {
    "collapsed": false,
    "pycharm": {
     "name": "#%%\n"
    }
   }
  },
  {
   "cell_type": "code",
   "execution_count": 7,
   "outputs": [
    {
     "name": "stderr",
     "output_type": "stream",
     "text": [
      "/var/folders/dn/j0_7h7gx2sq58_nt9816ss480000gn/T/ipykernel_12410/2823102939.py:2: VisibleDeprecationWarning: Creating an ndarray from ragged nested sequences (which is a list-or-tuple of lists-or-tuples-or ndarrays with different lengths or shapes) is deprecated. If you meant to do this, you must specify 'dtype=object' when creating the ndarray.\n",
      "  raw = np.array(raw)\n"
     ]
    }
   ],
   "source": [
    "label = np.array(label)\n",
    "raw = np.array(raw)"
   ],
   "metadata": {
    "collapsed": false,
    "pycharm": {
     "name": "#%%\n"
    }
   }
  },
  {
   "cell_type": "code",
   "execution_count": 10,
   "outputs": [],
   "source": [
    "# Pandas Dataframe for Features\n",
    "feature = ['emotion','flatness','zerocr','meanMag','maxMag','meancent','stdcent','maxcent','stdMag'] + \\\n",
    "          ['pitchmean','pitchmax','pitchstd','pitch_tuning_offset','meanrms','maxrms','stdrms'] + \\\n",
    "          ['mfcc_' + str(i+1) + '_mean' for i in range(50)] + \\\n",
    "          ['mfcc_' + str(i+1) + '_std' for i in range(50)] + \\\n",
    "          ['mfcc_' + str(i+1) + '_max' for i in range(50)] + \\\n",
    "          ['chroma' + str(i+1) + '_mean' for i in range(12)] + \\\n",
    "          ['mels' + str(i+1) + '_mean' for i in range(128)] + \\\n",
    "          ['contrast' + str(i+1) + '_mean' for i in range(7)]\n",
    "\n",
    "feature_pd = pd.DataFrame(columns=feature)"
   ],
   "metadata": {
    "collapsed": false,
    "pycharm": {
     "name": "#%%\n"
    }
   }
  },
  {
   "cell_type": "code",
   "execution_count": 11,
   "outputs": [
    {
     "name": "stdout",
     "output_type": "stream",
     "text": [
      "0\n",
      "1\n",
      "2\n"
     ]
    },
    {
     "name": "stderr",
     "output_type": "stream",
     "text": [
      "/var/folders/dn/j0_7h7gx2sq58_nt9816ss480000gn/T/ipykernel_12410/12768543.py:74: FutureWarning: The frame.append method is deprecated and will be removed from pandas in a future version. Use pandas.concat instead.\n",
      "  feature_pd = feature_pd.append(pd.DataFrame(saving, index=feature).transpose(), ignore_index=True)\n",
      "/var/folders/dn/j0_7h7gx2sq58_nt9816ss480000gn/T/ipykernel_12410/12768543.py:74: FutureWarning: The frame.append method is deprecated and will be removed from pandas in a future version. Use pandas.concat instead.\n",
      "  feature_pd = feature_pd.append(pd.DataFrame(saving, index=feature).transpose(), ignore_index=True)\n",
      "/var/folders/dn/j0_7h7gx2sq58_nt9816ss480000gn/T/ipykernel_12410/12768543.py:74: FutureWarning: The frame.append method is deprecated and will be removed from pandas in a future version. Use pandas.concat instead.\n",
      "  feature_pd = feature_pd.append(pd.DataFrame(saving, index=feature).transpose(), ignore_index=True)\n"
     ]
    },
    {
     "name": "stdout",
     "output_type": "stream",
     "text": [
      "3\n",
      "4\n",
      "5\n"
     ]
    },
    {
     "name": "stderr",
     "output_type": "stream",
     "text": [
      "/var/folders/dn/j0_7h7gx2sq58_nt9816ss480000gn/T/ipykernel_12410/12768543.py:74: FutureWarning: The frame.append method is deprecated and will be removed from pandas in a future version. Use pandas.concat instead.\n",
      "  feature_pd = feature_pd.append(pd.DataFrame(saving, index=feature).transpose(), ignore_index=True)\n",
      "/var/folders/dn/j0_7h7gx2sq58_nt9816ss480000gn/T/ipykernel_12410/12768543.py:74: FutureWarning: The frame.append method is deprecated and will be removed from pandas in a future version. Use pandas.concat instead.\n",
      "  feature_pd = feature_pd.append(pd.DataFrame(saving, index=feature).transpose(), ignore_index=True)\n",
      "/var/folders/dn/j0_7h7gx2sq58_nt9816ss480000gn/T/ipykernel_12410/12768543.py:74: FutureWarning: The frame.append method is deprecated and will be removed from pandas in a future version. Use pandas.concat instead.\n",
      "  feature_pd = feature_pd.append(pd.DataFrame(saving, index=feature).transpose(), ignore_index=True)\n"
     ]
    },
    {
     "name": "stdout",
     "output_type": "stream",
     "text": [
      "6\n",
      "7\n",
      "8\n",
      "9\n"
     ]
    },
    {
     "name": "stderr",
     "output_type": "stream",
     "text": [
      "/var/folders/dn/j0_7h7gx2sq58_nt9816ss480000gn/T/ipykernel_12410/12768543.py:74: FutureWarning: The frame.append method is deprecated and will be removed from pandas in a future version. Use pandas.concat instead.\n",
      "  feature_pd = feature_pd.append(pd.DataFrame(saving, index=feature).transpose(), ignore_index=True)\n",
      "/var/folders/dn/j0_7h7gx2sq58_nt9816ss480000gn/T/ipykernel_12410/12768543.py:74: FutureWarning: The frame.append method is deprecated and will be removed from pandas in a future version. Use pandas.concat instead.\n",
      "  feature_pd = feature_pd.append(pd.DataFrame(saving, index=feature).transpose(), ignore_index=True)\n",
      "/var/folders/dn/j0_7h7gx2sq58_nt9816ss480000gn/T/ipykernel_12410/12768543.py:74: FutureWarning: The frame.append method is deprecated and will be removed from pandas in a future version. Use pandas.concat instead.\n",
      "  feature_pd = feature_pd.append(pd.DataFrame(saving, index=feature).transpose(), ignore_index=True)\n",
      "/var/folders/dn/j0_7h7gx2sq58_nt9816ss480000gn/T/ipykernel_12410/12768543.py:74: FutureWarning: The frame.append method is deprecated and will be removed from pandas in a future version. Use pandas.concat instead.\n",
      "  feature_pd = feature_pd.append(pd.DataFrame(saving, index=feature).transpose(), ignore_index=True)\n"
     ]
    },
    {
     "name": "stdout",
     "output_type": "stream",
     "text": [
      "10\n",
      "11\n",
      "12\n"
     ]
    },
    {
     "name": "stderr",
     "output_type": "stream",
     "text": [
      "/var/folders/dn/j0_7h7gx2sq58_nt9816ss480000gn/T/ipykernel_12410/12768543.py:74: FutureWarning: The frame.append method is deprecated and will be removed from pandas in a future version. Use pandas.concat instead.\n",
      "  feature_pd = feature_pd.append(pd.DataFrame(saving, index=feature).transpose(), ignore_index=True)\n",
      "/var/folders/dn/j0_7h7gx2sq58_nt9816ss480000gn/T/ipykernel_12410/12768543.py:74: FutureWarning: The frame.append method is deprecated and will be removed from pandas in a future version. Use pandas.concat instead.\n",
      "  feature_pd = feature_pd.append(pd.DataFrame(saving, index=feature).transpose(), ignore_index=True)\n",
      "/var/folders/dn/j0_7h7gx2sq58_nt9816ss480000gn/T/ipykernel_12410/12768543.py:74: FutureWarning: The frame.append method is deprecated and will be removed from pandas in a future version. Use pandas.concat instead.\n",
      "  feature_pd = feature_pd.append(pd.DataFrame(saving, index=feature).transpose(), ignore_index=True)\n"
     ]
    },
    {
     "name": "stdout",
     "output_type": "stream",
     "text": [
      "13\n",
      "14\n"
     ]
    },
    {
     "name": "stderr",
     "output_type": "stream",
     "text": [
      "/var/folders/dn/j0_7h7gx2sq58_nt9816ss480000gn/T/ipykernel_12410/12768543.py:74: FutureWarning: The frame.append method is deprecated and will be removed from pandas in a future version. Use pandas.concat instead.\n",
      "  feature_pd = feature_pd.append(pd.DataFrame(saving, index=feature).transpose(), ignore_index=True)\n",
      "/var/folders/dn/j0_7h7gx2sq58_nt9816ss480000gn/T/ipykernel_12410/12768543.py:74: FutureWarning: The frame.append method is deprecated and will be removed from pandas in a future version. Use pandas.concat instead.\n",
      "  feature_pd = feature_pd.append(pd.DataFrame(saving, index=feature).transpose(), ignore_index=True)\n"
     ]
    },
    {
     "name": "stdout",
     "output_type": "stream",
     "text": [
      "15\n",
      "16\n",
      "17\n",
      "18\n"
     ]
    },
    {
     "name": "stderr",
     "output_type": "stream",
     "text": [
      "/var/folders/dn/j0_7h7gx2sq58_nt9816ss480000gn/T/ipykernel_12410/12768543.py:74: FutureWarning: The frame.append method is deprecated and will be removed from pandas in a future version. Use pandas.concat instead.\n",
      "  feature_pd = feature_pd.append(pd.DataFrame(saving, index=feature).transpose(), ignore_index=True)\n",
      "/var/folders/dn/j0_7h7gx2sq58_nt9816ss480000gn/T/ipykernel_12410/12768543.py:74: FutureWarning: The frame.append method is deprecated and will be removed from pandas in a future version. Use pandas.concat instead.\n",
      "  feature_pd = feature_pd.append(pd.DataFrame(saving, index=feature).transpose(), ignore_index=True)\n",
      "/var/folders/dn/j0_7h7gx2sq58_nt9816ss480000gn/T/ipykernel_12410/12768543.py:74: FutureWarning: The frame.append method is deprecated and will be removed from pandas in a future version. Use pandas.concat instead.\n",
      "  feature_pd = feature_pd.append(pd.DataFrame(saving, index=feature).transpose(), ignore_index=True)\n",
      "/var/folders/dn/j0_7h7gx2sq58_nt9816ss480000gn/T/ipykernel_12410/12768543.py:74: FutureWarning: The frame.append method is deprecated and will be removed from pandas in a future version. Use pandas.concat instead.\n",
      "  feature_pd = feature_pd.append(pd.DataFrame(saving, index=feature).transpose(), ignore_index=True)\n"
     ]
    },
    {
     "name": "stdout",
     "output_type": "stream",
     "text": [
      "19\n",
      "20\n",
      "21\n",
      "22\n"
     ]
    },
    {
     "name": "stderr",
     "output_type": "stream",
     "text": [
      "/var/folders/dn/j0_7h7gx2sq58_nt9816ss480000gn/T/ipykernel_12410/12768543.py:74: FutureWarning: The frame.append method is deprecated and will be removed from pandas in a future version. Use pandas.concat instead.\n",
      "  feature_pd = feature_pd.append(pd.DataFrame(saving, index=feature).transpose(), ignore_index=True)\n",
      "/var/folders/dn/j0_7h7gx2sq58_nt9816ss480000gn/T/ipykernel_12410/12768543.py:74: FutureWarning: The frame.append method is deprecated and will be removed from pandas in a future version. Use pandas.concat instead.\n",
      "  feature_pd = feature_pd.append(pd.DataFrame(saving, index=feature).transpose(), ignore_index=True)\n",
      "/var/folders/dn/j0_7h7gx2sq58_nt9816ss480000gn/T/ipykernel_12410/12768543.py:74: FutureWarning: The frame.append method is deprecated and will be removed from pandas in a future version. Use pandas.concat instead.\n",
      "  feature_pd = feature_pd.append(pd.DataFrame(saving, index=feature).transpose(), ignore_index=True)\n",
      "/var/folders/dn/j0_7h7gx2sq58_nt9816ss480000gn/T/ipykernel_12410/12768543.py:74: FutureWarning: The frame.append method is deprecated and will be removed from pandas in a future version. Use pandas.concat instead.\n",
      "  feature_pd = feature_pd.append(pd.DataFrame(saving, index=feature).transpose(), ignore_index=True)\n"
     ]
    },
    {
     "name": "stdout",
     "output_type": "stream",
     "text": [
      "23\n",
      "24\n",
      "25\n",
      "26\n"
     ]
    },
    {
     "name": "stderr",
     "output_type": "stream",
     "text": [
      "/var/folders/dn/j0_7h7gx2sq58_nt9816ss480000gn/T/ipykernel_12410/12768543.py:74: FutureWarning: The frame.append method is deprecated and will be removed from pandas in a future version. Use pandas.concat instead.\n",
      "  feature_pd = feature_pd.append(pd.DataFrame(saving, index=feature).transpose(), ignore_index=True)\n",
      "/var/folders/dn/j0_7h7gx2sq58_nt9816ss480000gn/T/ipykernel_12410/12768543.py:74: FutureWarning: The frame.append method is deprecated and will be removed from pandas in a future version. Use pandas.concat instead.\n",
      "  feature_pd = feature_pd.append(pd.DataFrame(saving, index=feature).transpose(), ignore_index=True)\n",
      "/var/folders/dn/j0_7h7gx2sq58_nt9816ss480000gn/T/ipykernel_12410/12768543.py:74: FutureWarning: The frame.append method is deprecated and will be removed from pandas in a future version. Use pandas.concat instead.\n",
      "  feature_pd = feature_pd.append(pd.DataFrame(saving, index=feature).transpose(), ignore_index=True)\n",
      "/var/folders/dn/j0_7h7gx2sq58_nt9816ss480000gn/T/ipykernel_12410/12768543.py:74: FutureWarning: The frame.append method is deprecated and will be removed from pandas in a future version. Use pandas.concat instead.\n",
      "  feature_pd = feature_pd.append(pd.DataFrame(saving, index=feature).transpose(), ignore_index=True)\n"
     ]
    },
    {
     "name": "stdout",
     "output_type": "stream",
     "text": [
      "27\n",
      "28\n",
      "29\n",
      "30\n"
     ]
    },
    {
     "name": "stderr",
     "output_type": "stream",
     "text": [
      "/var/folders/dn/j0_7h7gx2sq58_nt9816ss480000gn/T/ipykernel_12410/12768543.py:74: FutureWarning: The frame.append method is deprecated and will be removed from pandas in a future version. Use pandas.concat instead.\n",
      "  feature_pd = feature_pd.append(pd.DataFrame(saving, index=feature).transpose(), ignore_index=True)\n",
      "/var/folders/dn/j0_7h7gx2sq58_nt9816ss480000gn/T/ipykernel_12410/12768543.py:74: FutureWarning: The frame.append method is deprecated and will be removed from pandas in a future version. Use pandas.concat instead.\n",
      "  feature_pd = feature_pd.append(pd.DataFrame(saving, index=feature).transpose(), ignore_index=True)\n",
      "/var/folders/dn/j0_7h7gx2sq58_nt9816ss480000gn/T/ipykernel_12410/12768543.py:74: FutureWarning: The frame.append method is deprecated and will be removed from pandas in a future version. Use pandas.concat instead.\n",
      "  feature_pd = feature_pd.append(pd.DataFrame(saving, index=feature).transpose(), ignore_index=True)\n",
      "/var/folders/dn/j0_7h7gx2sq58_nt9816ss480000gn/T/ipykernel_12410/12768543.py:74: FutureWarning: The frame.append method is deprecated and will be removed from pandas in a future version. Use pandas.concat instead.\n",
      "  feature_pd = feature_pd.append(pd.DataFrame(saving, index=feature).transpose(), ignore_index=True)\n"
     ]
    },
    {
     "name": "stdout",
     "output_type": "stream",
     "text": [
      "31\n",
      "32\n",
      "33\n"
     ]
    },
    {
     "name": "stderr",
     "output_type": "stream",
     "text": [
      "/var/folders/dn/j0_7h7gx2sq58_nt9816ss480000gn/T/ipykernel_12410/12768543.py:74: FutureWarning: The frame.append method is deprecated and will be removed from pandas in a future version. Use pandas.concat instead.\n",
      "  feature_pd = feature_pd.append(pd.DataFrame(saving, index=feature).transpose(), ignore_index=True)\n",
      "/var/folders/dn/j0_7h7gx2sq58_nt9816ss480000gn/T/ipykernel_12410/12768543.py:74: FutureWarning: The frame.append method is deprecated and will be removed from pandas in a future version. Use pandas.concat instead.\n",
      "  feature_pd = feature_pd.append(pd.DataFrame(saving, index=feature).transpose(), ignore_index=True)\n",
      "/var/folders/dn/j0_7h7gx2sq58_nt9816ss480000gn/T/ipykernel_12410/12768543.py:74: FutureWarning: The frame.append method is deprecated and will be removed from pandas in a future version. Use pandas.concat instead.\n",
      "  feature_pd = feature_pd.append(pd.DataFrame(saving, index=feature).transpose(), ignore_index=True)\n"
     ]
    },
    {
     "name": "stdout",
     "output_type": "stream",
     "text": [
      "34\n"
     ]
    },
    {
     "name": "stderr",
     "output_type": "stream",
     "text": [
      "/var/folders/dn/j0_7h7gx2sq58_nt9816ss480000gn/T/ipykernel_12410/12768543.py:74: FutureWarning: The frame.append method is deprecated and will be removed from pandas in a future version. Use pandas.concat instead.\n",
      "  feature_pd = feature_pd.append(pd.DataFrame(saving, index=feature).transpose(), ignore_index=True)\n"
     ]
    },
    {
     "name": "stdout",
     "output_type": "stream",
     "text": [
      "35\n"
     ]
    },
    {
     "name": "stderr",
     "output_type": "stream",
     "text": [
      "/var/folders/dn/j0_7h7gx2sq58_nt9816ss480000gn/T/ipykernel_12410/12768543.py:74: FutureWarning: The frame.append method is deprecated and will be removed from pandas in a future version. Use pandas.concat instead.\n",
      "  feature_pd = feature_pd.append(pd.DataFrame(saving, index=feature).transpose(), ignore_index=True)\n"
     ]
    },
    {
     "name": "stdout",
     "output_type": "stream",
     "text": [
      "36\n",
      "37\n",
      "38\n",
      "39\n"
     ]
    },
    {
     "name": "stderr",
     "output_type": "stream",
     "text": [
      "/var/folders/dn/j0_7h7gx2sq58_nt9816ss480000gn/T/ipykernel_12410/12768543.py:74: FutureWarning: The frame.append method is deprecated and will be removed from pandas in a future version. Use pandas.concat instead.\n",
      "  feature_pd = feature_pd.append(pd.DataFrame(saving, index=feature).transpose(), ignore_index=True)\n",
      "/var/folders/dn/j0_7h7gx2sq58_nt9816ss480000gn/T/ipykernel_12410/12768543.py:74: FutureWarning: The frame.append method is deprecated and will be removed from pandas in a future version. Use pandas.concat instead.\n",
      "  feature_pd = feature_pd.append(pd.DataFrame(saving, index=feature).transpose(), ignore_index=True)\n",
      "/var/folders/dn/j0_7h7gx2sq58_nt9816ss480000gn/T/ipykernel_12410/12768543.py:74: FutureWarning: The frame.append method is deprecated and will be removed from pandas in a future version. Use pandas.concat instead.\n",
      "  feature_pd = feature_pd.append(pd.DataFrame(saving, index=feature).transpose(), ignore_index=True)\n",
      "/var/folders/dn/j0_7h7gx2sq58_nt9816ss480000gn/T/ipykernel_12410/12768543.py:74: FutureWarning: The frame.append method is deprecated and will be removed from pandas in a future version. Use pandas.concat instead.\n",
      "  feature_pd = feature_pd.append(pd.DataFrame(saving, index=feature).transpose(), ignore_index=True)\n"
     ]
    },
    {
     "name": "stdout",
     "output_type": "stream",
     "text": [
      "40\n",
      "41\n",
      "42\n"
     ]
    },
    {
     "name": "stderr",
     "output_type": "stream",
     "text": [
      "/var/folders/dn/j0_7h7gx2sq58_nt9816ss480000gn/T/ipykernel_12410/12768543.py:74: FutureWarning: The frame.append method is deprecated and will be removed from pandas in a future version. Use pandas.concat instead.\n",
      "  feature_pd = feature_pd.append(pd.DataFrame(saving, index=feature).transpose(), ignore_index=True)\n",
      "/var/folders/dn/j0_7h7gx2sq58_nt9816ss480000gn/T/ipykernel_12410/12768543.py:74: FutureWarning: The frame.append method is deprecated and will be removed from pandas in a future version. Use pandas.concat instead.\n",
      "  feature_pd = feature_pd.append(pd.DataFrame(saving, index=feature).transpose(), ignore_index=True)\n",
      "/var/folders/dn/j0_7h7gx2sq58_nt9816ss480000gn/T/ipykernel_12410/12768543.py:74: FutureWarning: The frame.append method is deprecated and will be removed from pandas in a future version. Use pandas.concat instead.\n",
      "  feature_pd = feature_pd.append(pd.DataFrame(saving, index=feature).transpose(), ignore_index=True)\n"
     ]
    },
    {
     "name": "stdout",
     "output_type": "stream",
     "text": [
      "43\n",
      "44\n",
      "45\n"
     ]
    },
    {
     "name": "stderr",
     "output_type": "stream",
     "text": [
      "/var/folders/dn/j0_7h7gx2sq58_nt9816ss480000gn/T/ipykernel_12410/12768543.py:74: FutureWarning: The frame.append method is deprecated and will be removed from pandas in a future version. Use pandas.concat instead.\n",
      "  feature_pd = feature_pd.append(pd.DataFrame(saving, index=feature).transpose(), ignore_index=True)\n",
      "/var/folders/dn/j0_7h7gx2sq58_nt9816ss480000gn/T/ipykernel_12410/12768543.py:74: FutureWarning: The frame.append method is deprecated and will be removed from pandas in a future version. Use pandas.concat instead.\n",
      "  feature_pd = feature_pd.append(pd.DataFrame(saving, index=feature).transpose(), ignore_index=True)\n",
      "/var/folders/dn/j0_7h7gx2sq58_nt9816ss480000gn/T/ipykernel_12410/12768543.py:74: FutureWarning: The frame.append method is deprecated and will be removed from pandas in a future version. Use pandas.concat instead.\n",
      "  feature_pd = feature_pd.append(pd.DataFrame(saving, index=feature).transpose(), ignore_index=True)\n"
     ]
    },
    {
     "name": "stdout",
     "output_type": "stream",
     "text": [
      "46\n",
      "47\n",
      "48\n"
     ]
    },
    {
     "name": "stderr",
     "output_type": "stream",
     "text": [
      "/var/folders/dn/j0_7h7gx2sq58_nt9816ss480000gn/T/ipykernel_12410/12768543.py:74: FutureWarning: The frame.append method is deprecated and will be removed from pandas in a future version. Use pandas.concat instead.\n",
      "  feature_pd = feature_pd.append(pd.DataFrame(saving, index=feature).transpose(), ignore_index=True)\n",
      "/var/folders/dn/j0_7h7gx2sq58_nt9816ss480000gn/T/ipykernel_12410/12768543.py:74: FutureWarning: The frame.append method is deprecated and will be removed from pandas in a future version. Use pandas.concat instead.\n",
      "  feature_pd = feature_pd.append(pd.DataFrame(saving, index=feature).transpose(), ignore_index=True)\n",
      "/var/folders/dn/j0_7h7gx2sq58_nt9816ss480000gn/T/ipykernel_12410/12768543.py:74: FutureWarning: The frame.append method is deprecated and will be removed from pandas in a future version. Use pandas.concat instead.\n",
      "  feature_pd = feature_pd.append(pd.DataFrame(saving, index=feature).transpose(), ignore_index=True)\n"
     ]
    },
    {
     "name": "stdout",
     "output_type": "stream",
     "text": [
      "49\n",
      "50\n",
      "51\n"
     ]
    },
    {
     "name": "stderr",
     "output_type": "stream",
     "text": [
      "/var/folders/dn/j0_7h7gx2sq58_nt9816ss480000gn/T/ipykernel_12410/12768543.py:74: FutureWarning: The frame.append method is deprecated and will be removed from pandas in a future version. Use pandas.concat instead.\n",
      "  feature_pd = feature_pd.append(pd.DataFrame(saving, index=feature).transpose(), ignore_index=True)\n",
      "/var/folders/dn/j0_7h7gx2sq58_nt9816ss480000gn/T/ipykernel_12410/12768543.py:74: FutureWarning: The frame.append method is deprecated and will be removed from pandas in a future version. Use pandas.concat instead.\n",
      "  feature_pd = feature_pd.append(pd.DataFrame(saving, index=feature).transpose(), ignore_index=True)\n",
      "/var/folders/dn/j0_7h7gx2sq58_nt9816ss480000gn/T/ipykernel_12410/12768543.py:74: FutureWarning: The frame.append method is deprecated and will be removed from pandas in a future version. Use pandas.concat instead.\n",
      "  feature_pd = feature_pd.append(pd.DataFrame(saving, index=feature).transpose(), ignore_index=True)\n"
     ]
    },
    {
     "name": "stdout",
     "output_type": "stream",
     "text": [
      "52\n",
      "53\n",
      "54\n"
     ]
    },
    {
     "name": "stderr",
     "output_type": "stream",
     "text": [
      "/var/folders/dn/j0_7h7gx2sq58_nt9816ss480000gn/T/ipykernel_12410/12768543.py:74: FutureWarning: The frame.append method is deprecated and will be removed from pandas in a future version. Use pandas.concat instead.\n",
      "  feature_pd = feature_pd.append(pd.DataFrame(saving, index=feature).transpose(), ignore_index=True)\n",
      "/var/folders/dn/j0_7h7gx2sq58_nt9816ss480000gn/T/ipykernel_12410/12768543.py:74: FutureWarning: The frame.append method is deprecated and will be removed from pandas in a future version. Use pandas.concat instead.\n",
      "  feature_pd = feature_pd.append(pd.DataFrame(saving, index=feature).transpose(), ignore_index=True)\n",
      "/var/folders/dn/j0_7h7gx2sq58_nt9816ss480000gn/T/ipykernel_12410/12768543.py:74: FutureWarning: The frame.append method is deprecated and will be removed from pandas in a future version. Use pandas.concat instead.\n",
      "  feature_pd = feature_pd.append(pd.DataFrame(saving, index=feature).transpose(), ignore_index=True)\n"
     ]
    },
    {
     "name": "stdout",
     "output_type": "stream",
     "text": [
      "55\n",
      "56\n",
      "57\n",
      "58\n"
     ]
    },
    {
     "name": "stderr",
     "output_type": "stream",
     "text": [
      "/var/folders/dn/j0_7h7gx2sq58_nt9816ss480000gn/T/ipykernel_12410/12768543.py:74: FutureWarning: The frame.append method is deprecated and will be removed from pandas in a future version. Use pandas.concat instead.\n",
      "  feature_pd = feature_pd.append(pd.DataFrame(saving, index=feature).transpose(), ignore_index=True)\n",
      "/var/folders/dn/j0_7h7gx2sq58_nt9816ss480000gn/T/ipykernel_12410/12768543.py:74: FutureWarning: The frame.append method is deprecated and will be removed from pandas in a future version. Use pandas.concat instead.\n",
      "  feature_pd = feature_pd.append(pd.DataFrame(saving, index=feature).transpose(), ignore_index=True)\n",
      "/var/folders/dn/j0_7h7gx2sq58_nt9816ss480000gn/T/ipykernel_12410/12768543.py:74: FutureWarning: The frame.append method is deprecated and will be removed from pandas in a future version. Use pandas.concat instead.\n",
      "  feature_pd = feature_pd.append(pd.DataFrame(saving, index=feature).transpose(), ignore_index=True)\n",
      "/var/folders/dn/j0_7h7gx2sq58_nt9816ss480000gn/T/ipykernel_12410/12768543.py:74: FutureWarning: The frame.append method is deprecated and will be removed from pandas in a future version. Use pandas.concat instead.\n",
      "  feature_pd = feature_pd.append(pd.DataFrame(saving, index=feature).transpose(), ignore_index=True)\n"
     ]
    },
    {
     "name": "stdout",
     "output_type": "stream",
     "text": [
      "59\n",
      "60\n",
      "61\n"
     ]
    },
    {
     "name": "stderr",
     "output_type": "stream",
     "text": [
      "/var/folders/dn/j0_7h7gx2sq58_nt9816ss480000gn/T/ipykernel_12410/12768543.py:74: FutureWarning: The frame.append method is deprecated and will be removed from pandas in a future version. Use pandas.concat instead.\n",
      "  feature_pd = feature_pd.append(pd.DataFrame(saving, index=feature).transpose(), ignore_index=True)\n",
      "/var/folders/dn/j0_7h7gx2sq58_nt9816ss480000gn/T/ipykernel_12410/12768543.py:74: FutureWarning: The frame.append method is deprecated and will be removed from pandas in a future version. Use pandas.concat instead.\n",
      "  feature_pd = feature_pd.append(pd.DataFrame(saving, index=feature).transpose(), ignore_index=True)\n",
      "/var/folders/dn/j0_7h7gx2sq58_nt9816ss480000gn/T/ipykernel_12410/12768543.py:74: FutureWarning: The frame.append method is deprecated and will be removed from pandas in a future version. Use pandas.concat instead.\n",
      "  feature_pd = feature_pd.append(pd.DataFrame(saving, index=feature).transpose(), ignore_index=True)\n"
     ]
    },
    {
     "name": "stdout",
     "output_type": "stream",
     "text": [
      "62\n",
      "63\n",
      "64\n"
     ]
    },
    {
     "name": "stderr",
     "output_type": "stream",
     "text": [
      "/var/folders/dn/j0_7h7gx2sq58_nt9816ss480000gn/T/ipykernel_12410/12768543.py:74: FutureWarning: The frame.append method is deprecated and will be removed from pandas in a future version. Use pandas.concat instead.\n",
      "  feature_pd = feature_pd.append(pd.DataFrame(saving, index=feature).transpose(), ignore_index=True)\n",
      "/var/folders/dn/j0_7h7gx2sq58_nt9816ss480000gn/T/ipykernel_12410/12768543.py:74: FutureWarning: The frame.append method is deprecated and will be removed from pandas in a future version. Use pandas.concat instead.\n",
      "  feature_pd = feature_pd.append(pd.DataFrame(saving, index=feature).transpose(), ignore_index=True)\n",
      "/var/folders/dn/j0_7h7gx2sq58_nt9816ss480000gn/T/ipykernel_12410/12768543.py:74: FutureWarning: The frame.append method is deprecated and will be removed from pandas in a future version. Use pandas.concat instead.\n",
      "  feature_pd = feature_pd.append(pd.DataFrame(saving, index=feature).transpose(), ignore_index=True)\n"
     ]
    },
    {
     "name": "stdout",
     "output_type": "stream",
     "text": [
      "65\n",
      "66\n",
      "67\n",
      "68\n"
     ]
    },
    {
     "name": "stderr",
     "output_type": "stream",
     "text": [
      "/var/folders/dn/j0_7h7gx2sq58_nt9816ss480000gn/T/ipykernel_12410/12768543.py:74: FutureWarning: The frame.append method is deprecated and will be removed from pandas in a future version. Use pandas.concat instead.\n",
      "  feature_pd = feature_pd.append(pd.DataFrame(saving, index=feature).transpose(), ignore_index=True)\n",
      "/var/folders/dn/j0_7h7gx2sq58_nt9816ss480000gn/T/ipykernel_12410/12768543.py:74: FutureWarning: The frame.append method is deprecated and will be removed from pandas in a future version. Use pandas.concat instead.\n",
      "  feature_pd = feature_pd.append(pd.DataFrame(saving, index=feature).transpose(), ignore_index=True)\n",
      "/var/folders/dn/j0_7h7gx2sq58_nt9816ss480000gn/T/ipykernel_12410/12768543.py:74: FutureWarning: The frame.append method is deprecated and will be removed from pandas in a future version. Use pandas.concat instead.\n",
      "  feature_pd = feature_pd.append(pd.DataFrame(saving, index=feature).transpose(), ignore_index=True)\n",
      "/var/folders/dn/j0_7h7gx2sq58_nt9816ss480000gn/T/ipykernel_12410/12768543.py:74: FutureWarning: The frame.append method is deprecated and will be removed from pandas in a future version. Use pandas.concat instead.\n",
      "  feature_pd = feature_pd.append(pd.DataFrame(saving, index=feature).transpose(), ignore_index=True)\n"
     ]
    },
    {
     "name": "stdout",
     "output_type": "stream",
     "text": [
      "69\n",
      "70\n",
      "71\n"
     ]
    },
    {
     "name": "stderr",
     "output_type": "stream",
     "text": [
      "/var/folders/dn/j0_7h7gx2sq58_nt9816ss480000gn/T/ipykernel_12410/12768543.py:74: FutureWarning: The frame.append method is deprecated and will be removed from pandas in a future version. Use pandas.concat instead.\n",
      "  feature_pd = feature_pd.append(pd.DataFrame(saving, index=feature).transpose(), ignore_index=True)\n",
      "/var/folders/dn/j0_7h7gx2sq58_nt9816ss480000gn/T/ipykernel_12410/12768543.py:74: FutureWarning: The frame.append method is deprecated and will be removed from pandas in a future version. Use pandas.concat instead.\n",
      "  feature_pd = feature_pd.append(pd.DataFrame(saving, index=feature).transpose(), ignore_index=True)\n",
      "/var/folders/dn/j0_7h7gx2sq58_nt9816ss480000gn/T/ipykernel_12410/12768543.py:74: FutureWarning: The frame.append method is deprecated and will be removed from pandas in a future version. Use pandas.concat instead.\n",
      "  feature_pd = feature_pd.append(pd.DataFrame(saving, index=feature).transpose(), ignore_index=True)\n"
     ]
    },
    {
     "name": "stdout",
     "output_type": "stream",
     "text": [
      "72\n",
      "73\n",
      "74\n"
     ]
    },
    {
     "name": "stderr",
     "output_type": "stream",
     "text": [
      "/var/folders/dn/j0_7h7gx2sq58_nt9816ss480000gn/T/ipykernel_12410/12768543.py:74: FutureWarning: The frame.append method is deprecated and will be removed from pandas in a future version. Use pandas.concat instead.\n",
      "  feature_pd = feature_pd.append(pd.DataFrame(saving, index=feature).transpose(), ignore_index=True)\n",
      "/var/folders/dn/j0_7h7gx2sq58_nt9816ss480000gn/T/ipykernel_12410/12768543.py:74: FutureWarning: The frame.append method is deprecated and will be removed from pandas in a future version. Use pandas.concat instead.\n",
      "  feature_pd = feature_pd.append(pd.DataFrame(saving, index=feature).transpose(), ignore_index=True)\n",
      "/var/folders/dn/j0_7h7gx2sq58_nt9816ss480000gn/T/ipykernel_12410/12768543.py:74: FutureWarning: The frame.append method is deprecated and will be removed from pandas in a future version. Use pandas.concat instead.\n",
      "  feature_pd = feature_pd.append(pd.DataFrame(saving, index=feature).transpose(), ignore_index=True)\n"
     ]
    },
    {
     "name": "stdout",
     "output_type": "stream",
     "text": [
      "75\n",
      "76\n",
      "77\n"
     ]
    },
    {
     "name": "stderr",
     "output_type": "stream",
     "text": [
      "/var/folders/dn/j0_7h7gx2sq58_nt9816ss480000gn/T/ipykernel_12410/12768543.py:74: FutureWarning: The frame.append method is deprecated and will be removed from pandas in a future version. Use pandas.concat instead.\n",
      "  feature_pd = feature_pd.append(pd.DataFrame(saving, index=feature).transpose(), ignore_index=True)\n",
      "/var/folders/dn/j0_7h7gx2sq58_nt9816ss480000gn/T/ipykernel_12410/12768543.py:74: FutureWarning: The frame.append method is deprecated and will be removed from pandas in a future version. Use pandas.concat instead.\n",
      "  feature_pd = feature_pd.append(pd.DataFrame(saving, index=feature).transpose(), ignore_index=True)\n",
      "/var/folders/dn/j0_7h7gx2sq58_nt9816ss480000gn/T/ipykernel_12410/12768543.py:74: FutureWarning: The frame.append method is deprecated and will be removed from pandas in a future version. Use pandas.concat instead.\n",
      "  feature_pd = feature_pd.append(pd.DataFrame(saving, index=feature).transpose(), ignore_index=True)\n"
     ]
    },
    {
     "name": "stdout",
     "output_type": "stream",
     "text": [
      "78\n",
      "79\n",
      "80\n",
      "81\n"
     ]
    },
    {
     "name": "stderr",
     "output_type": "stream",
     "text": [
      "/var/folders/dn/j0_7h7gx2sq58_nt9816ss480000gn/T/ipykernel_12410/12768543.py:74: FutureWarning: The frame.append method is deprecated and will be removed from pandas in a future version. Use pandas.concat instead.\n",
      "  feature_pd = feature_pd.append(pd.DataFrame(saving, index=feature).transpose(), ignore_index=True)\n",
      "/var/folders/dn/j0_7h7gx2sq58_nt9816ss480000gn/T/ipykernel_12410/12768543.py:74: FutureWarning: The frame.append method is deprecated and will be removed from pandas in a future version. Use pandas.concat instead.\n",
      "  feature_pd = feature_pd.append(pd.DataFrame(saving, index=feature).transpose(), ignore_index=True)\n",
      "/var/folders/dn/j0_7h7gx2sq58_nt9816ss480000gn/T/ipykernel_12410/12768543.py:74: FutureWarning: The frame.append method is deprecated and will be removed from pandas in a future version. Use pandas.concat instead.\n",
      "  feature_pd = feature_pd.append(pd.DataFrame(saving, index=feature).transpose(), ignore_index=True)\n",
      "/var/folders/dn/j0_7h7gx2sq58_nt9816ss480000gn/T/ipykernel_12410/12768543.py:74: FutureWarning: The frame.append method is deprecated and will be removed from pandas in a future version. Use pandas.concat instead.\n",
      "  feature_pd = feature_pd.append(pd.DataFrame(saving, index=feature).transpose(), ignore_index=True)\n"
     ]
    },
    {
     "name": "stdout",
     "output_type": "stream",
     "text": [
      "82\n",
      "83\n",
      "84\n"
     ]
    },
    {
     "name": "stderr",
     "output_type": "stream",
     "text": [
      "/var/folders/dn/j0_7h7gx2sq58_nt9816ss480000gn/T/ipykernel_12410/12768543.py:74: FutureWarning: The frame.append method is deprecated and will be removed from pandas in a future version. Use pandas.concat instead.\n",
      "  feature_pd = feature_pd.append(pd.DataFrame(saving, index=feature).transpose(), ignore_index=True)\n",
      "/var/folders/dn/j0_7h7gx2sq58_nt9816ss480000gn/T/ipykernel_12410/12768543.py:74: FutureWarning: The frame.append method is deprecated and will be removed from pandas in a future version. Use pandas.concat instead.\n",
      "  feature_pd = feature_pd.append(pd.DataFrame(saving, index=feature).transpose(), ignore_index=True)\n",
      "/var/folders/dn/j0_7h7gx2sq58_nt9816ss480000gn/T/ipykernel_12410/12768543.py:74: FutureWarning: The frame.append method is deprecated and will be removed from pandas in a future version. Use pandas.concat instead.\n",
      "  feature_pd = feature_pd.append(pd.DataFrame(saving, index=feature).transpose(), ignore_index=True)\n"
     ]
    },
    {
     "name": "stdout",
     "output_type": "stream",
     "text": [
      "85\n",
      "86\n",
      "87\n"
     ]
    },
    {
     "name": "stderr",
     "output_type": "stream",
     "text": [
      "/var/folders/dn/j0_7h7gx2sq58_nt9816ss480000gn/T/ipykernel_12410/12768543.py:74: FutureWarning: The frame.append method is deprecated and will be removed from pandas in a future version. Use pandas.concat instead.\n",
      "  feature_pd = feature_pd.append(pd.DataFrame(saving, index=feature).transpose(), ignore_index=True)\n",
      "/var/folders/dn/j0_7h7gx2sq58_nt9816ss480000gn/T/ipykernel_12410/12768543.py:74: FutureWarning: The frame.append method is deprecated and will be removed from pandas in a future version. Use pandas.concat instead.\n",
      "  feature_pd = feature_pd.append(pd.DataFrame(saving, index=feature).transpose(), ignore_index=True)\n",
      "/var/folders/dn/j0_7h7gx2sq58_nt9816ss480000gn/T/ipykernel_12410/12768543.py:74: FutureWarning: The frame.append method is deprecated and will be removed from pandas in a future version. Use pandas.concat instead.\n",
      "  feature_pd = feature_pd.append(pd.DataFrame(saving, index=feature).transpose(), ignore_index=True)\n"
     ]
    },
    {
     "name": "stdout",
     "output_type": "stream",
     "text": [
      "88\n",
      "89\n",
      "90\n"
     ]
    },
    {
     "name": "stderr",
     "output_type": "stream",
     "text": [
      "/var/folders/dn/j0_7h7gx2sq58_nt9816ss480000gn/T/ipykernel_12410/12768543.py:74: FutureWarning: The frame.append method is deprecated and will be removed from pandas in a future version. Use pandas.concat instead.\n",
      "  feature_pd = feature_pd.append(pd.DataFrame(saving, index=feature).transpose(), ignore_index=True)\n",
      "/var/folders/dn/j0_7h7gx2sq58_nt9816ss480000gn/T/ipykernel_12410/12768543.py:74: FutureWarning: The frame.append method is deprecated and will be removed from pandas in a future version. Use pandas.concat instead.\n",
      "  feature_pd = feature_pd.append(pd.DataFrame(saving, index=feature).transpose(), ignore_index=True)\n",
      "/var/folders/dn/j0_7h7gx2sq58_nt9816ss480000gn/T/ipykernel_12410/12768543.py:74: FutureWarning: The frame.append method is deprecated and will be removed from pandas in a future version. Use pandas.concat instead.\n",
      "  feature_pd = feature_pd.append(pd.DataFrame(saving, index=feature).transpose(), ignore_index=True)\n"
     ]
    },
    {
     "name": "stdout",
     "output_type": "stream",
     "text": [
      "91\n",
      "92\n",
      "93\n"
     ]
    },
    {
     "name": "stderr",
     "output_type": "stream",
     "text": [
      "/var/folders/dn/j0_7h7gx2sq58_nt9816ss480000gn/T/ipykernel_12410/12768543.py:74: FutureWarning: The frame.append method is deprecated and will be removed from pandas in a future version. Use pandas.concat instead.\n",
      "  feature_pd = feature_pd.append(pd.DataFrame(saving, index=feature).transpose(), ignore_index=True)\n",
      "/var/folders/dn/j0_7h7gx2sq58_nt9816ss480000gn/T/ipykernel_12410/12768543.py:74: FutureWarning: The frame.append method is deprecated and will be removed from pandas in a future version. Use pandas.concat instead.\n",
      "  feature_pd = feature_pd.append(pd.DataFrame(saving, index=feature).transpose(), ignore_index=True)\n",
      "/var/folders/dn/j0_7h7gx2sq58_nt9816ss480000gn/T/ipykernel_12410/12768543.py:74: FutureWarning: The frame.append method is deprecated and will be removed from pandas in a future version. Use pandas.concat instead.\n",
      "  feature_pd = feature_pd.append(pd.DataFrame(saving, index=feature).transpose(), ignore_index=True)\n"
     ]
    },
    {
     "name": "stdout",
     "output_type": "stream",
     "text": [
      "94\n",
      "95\n"
     ]
    },
    {
     "name": "stderr",
     "output_type": "stream",
     "text": [
      "/var/folders/dn/j0_7h7gx2sq58_nt9816ss480000gn/T/ipykernel_12410/12768543.py:74: FutureWarning: The frame.append method is deprecated and will be removed from pandas in a future version. Use pandas.concat instead.\n",
      "  feature_pd = feature_pd.append(pd.DataFrame(saving, index=feature).transpose(), ignore_index=True)\n",
      "/var/folders/dn/j0_7h7gx2sq58_nt9816ss480000gn/T/ipykernel_12410/12768543.py:74: FutureWarning: The frame.append method is deprecated and will be removed from pandas in a future version. Use pandas.concat instead.\n",
      "  feature_pd = feature_pd.append(pd.DataFrame(saving, index=feature).transpose(), ignore_index=True)\n"
     ]
    },
    {
     "name": "stdout",
     "output_type": "stream",
     "text": [
      "96\n",
      "97\n",
      "98\n",
      "99\n"
     ]
    },
    {
     "name": "stderr",
     "output_type": "stream",
     "text": [
      "/var/folders/dn/j0_7h7gx2sq58_nt9816ss480000gn/T/ipykernel_12410/12768543.py:74: FutureWarning: The frame.append method is deprecated and will be removed from pandas in a future version. Use pandas.concat instead.\n",
      "  feature_pd = feature_pd.append(pd.DataFrame(saving, index=feature).transpose(), ignore_index=True)\n",
      "/var/folders/dn/j0_7h7gx2sq58_nt9816ss480000gn/T/ipykernel_12410/12768543.py:74: FutureWarning: The frame.append method is deprecated and will be removed from pandas in a future version. Use pandas.concat instead.\n",
      "  feature_pd = feature_pd.append(pd.DataFrame(saving, index=feature).transpose(), ignore_index=True)\n",
      "/var/folders/dn/j0_7h7gx2sq58_nt9816ss480000gn/T/ipykernel_12410/12768543.py:74: FutureWarning: The frame.append method is deprecated and will be removed from pandas in a future version. Use pandas.concat instead.\n",
      "  feature_pd = feature_pd.append(pd.DataFrame(saving, index=feature).transpose(), ignore_index=True)\n",
      "/var/folders/dn/j0_7h7gx2sq58_nt9816ss480000gn/T/ipykernel_12410/12768543.py:74: FutureWarning: The frame.append method is deprecated and will be removed from pandas in a future version. Use pandas.concat instead.\n",
      "  feature_pd = feature_pd.append(pd.DataFrame(saving, index=feature).transpose(), ignore_index=True)\n"
     ]
    },
    {
     "name": "stdout",
     "output_type": "stream",
     "text": [
      "100\n",
      "101\n",
      "102\n"
     ]
    },
    {
     "name": "stderr",
     "output_type": "stream",
     "text": [
      "/var/folders/dn/j0_7h7gx2sq58_nt9816ss480000gn/T/ipykernel_12410/12768543.py:74: FutureWarning: The frame.append method is deprecated and will be removed from pandas in a future version. Use pandas.concat instead.\n",
      "  feature_pd = feature_pd.append(pd.DataFrame(saving, index=feature).transpose(), ignore_index=True)\n",
      "/var/folders/dn/j0_7h7gx2sq58_nt9816ss480000gn/T/ipykernel_12410/12768543.py:74: FutureWarning: The frame.append method is deprecated and will be removed from pandas in a future version. Use pandas.concat instead.\n",
      "  feature_pd = feature_pd.append(pd.DataFrame(saving, index=feature).transpose(), ignore_index=True)\n",
      "/var/folders/dn/j0_7h7gx2sq58_nt9816ss480000gn/T/ipykernel_12410/12768543.py:74: FutureWarning: The frame.append method is deprecated and will be removed from pandas in a future version. Use pandas.concat instead.\n",
      "  feature_pd = feature_pd.append(pd.DataFrame(saving, index=feature).transpose(), ignore_index=True)\n"
     ]
    },
    {
     "name": "stdout",
     "output_type": "stream",
     "text": [
      "103\n",
      "104\n",
      "105\n",
      "106\n"
     ]
    },
    {
     "name": "stderr",
     "output_type": "stream",
     "text": [
      "/var/folders/dn/j0_7h7gx2sq58_nt9816ss480000gn/T/ipykernel_12410/12768543.py:74: FutureWarning: The frame.append method is deprecated and will be removed from pandas in a future version. Use pandas.concat instead.\n",
      "  feature_pd = feature_pd.append(pd.DataFrame(saving, index=feature).transpose(), ignore_index=True)\n",
      "/var/folders/dn/j0_7h7gx2sq58_nt9816ss480000gn/T/ipykernel_12410/12768543.py:74: FutureWarning: The frame.append method is deprecated and will be removed from pandas in a future version. Use pandas.concat instead.\n",
      "  feature_pd = feature_pd.append(pd.DataFrame(saving, index=feature).transpose(), ignore_index=True)\n",
      "/var/folders/dn/j0_7h7gx2sq58_nt9816ss480000gn/T/ipykernel_12410/12768543.py:74: FutureWarning: The frame.append method is deprecated and will be removed from pandas in a future version. Use pandas.concat instead.\n",
      "  feature_pd = feature_pd.append(pd.DataFrame(saving, index=feature).transpose(), ignore_index=True)\n",
      "/var/folders/dn/j0_7h7gx2sq58_nt9816ss480000gn/T/ipykernel_12410/12768543.py:74: FutureWarning: The frame.append method is deprecated and will be removed from pandas in a future version. Use pandas.concat instead.\n",
      "  feature_pd = feature_pd.append(pd.DataFrame(saving, index=feature).transpose(), ignore_index=True)\n"
     ]
    },
    {
     "name": "stdout",
     "output_type": "stream",
     "text": [
      "107\n",
      "108\n"
     ]
    },
    {
     "name": "stderr",
     "output_type": "stream",
     "text": [
      "/var/folders/dn/j0_7h7gx2sq58_nt9816ss480000gn/T/ipykernel_12410/12768543.py:74: FutureWarning: The frame.append method is deprecated and will be removed from pandas in a future version. Use pandas.concat instead.\n",
      "  feature_pd = feature_pd.append(pd.DataFrame(saving, index=feature).transpose(), ignore_index=True)\n",
      "/var/folders/dn/j0_7h7gx2sq58_nt9816ss480000gn/T/ipykernel_12410/12768543.py:74: FutureWarning: The frame.append method is deprecated and will be removed from pandas in a future version. Use pandas.concat instead.\n",
      "  feature_pd = feature_pd.append(pd.DataFrame(saving, index=feature).transpose(), ignore_index=True)\n"
     ]
    },
    {
     "name": "stdout",
     "output_type": "stream",
     "text": [
      "109\n",
      "110\n",
      "111\n",
      "112\n"
     ]
    },
    {
     "name": "stderr",
     "output_type": "stream",
     "text": [
      "/var/folders/dn/j0_7h7gx2sq58_nt9816ss480000gn/T/ipykernel_12410/12768543.py:74: FutureWarning: The frame.append method is deprecated and will be removed from pandas in a future version. Use pandas.concat instead.\n",
      "  feature_pd = feature_pd.append(pd.DataFrame(saving, index=feature).transpose(), ignore_index=True)\n",
      "/var/folders/dn/j0_7h7gx2sq58_nt9816ss480000gn/T/ipykernel_12410/12768543.py:74: FutureWarning: The frame.append method is deprecated and will be removed from pandas in a future version. Use pandas.concat instead.\n",
      "  feature_pd = feature_pd.append(pd.DataFrame(saving, index=feature).transpose(), ignore_index=True)\n",
      "/var/folders/dn/j0_7h7gx2sq58_nt9816ss480000gn/T/ipykernel_12410/12768543.py:74: FutureWarning: The frame.append method is deprecated and will be removed from pandas in a future version. Use pandas.concat instead.\n",
      "  feature_pd = feature_pd.append(pd.DataFrame(saving, index=feature).transpose(), ignore_index=True)\n",
      "/var/folders/dn/j0_7h7gx2sq58_nt9816ss480000gn/T/ipykernel_12410/12768543.py:74: FutureWarning: The frame.append method is deprecated and will be removed from pandas in a future version. Use pandas.concat instead.\n",
      "  feature_pd = feature_pd.append(pd.DataFrame(saving, index=feature).transpose(), ignore_index=True)\n"
     ]
    },
    {
     "name": "stdout",
     "output_type": "stream",
     "text": [
      "113\n",
      "114\n",
      "115\n"
     ]
    },
    {
     "name": "stderr",
     "output_type": "stream",
     "text": [
      "/var/folders/dn/j0_7h7gx2sq58_nt9816ss480000gn/T/ipykernel_12410/12768543.py:74: FutureWarning: The frame.append method is deprecated and will be removed from pandas in a future version. Use pandas.concat instead.\n",
      "  feature_pd = feature_pd.append(pd.DataFrame(saving, index=feature).transpose(), ignore_index=True)\n",
      "/var/folders/dn/j0_7h7gx2sq58_nt9816ss480000gn/T/ipykernel_12410/12768543.py:74: FutureWarning: The frame.append method is deprecated and will be removed from pandas in a future version. Use pandas.concat instead.\n",
      "  feature_pd = feature_pd.append(pd.DataFrame(saving, index=feature).transpose(), ignore_index=True)\n",
      "/var/folders/dn/j0_7h7gx2sq58_nt9816ss480000gn/T/ipykernel_12410/12768543.py:74: FutureWarning: The frame.append method is deprecated and will be removed from pandas in a future version. Use pandas.concat instead.\n",
      "  feature_pd = feature_pd.append(pd.DataFrame(saving, index=feature).transpose(), ignore_index=True)\n"
     ]
    },
    {
     "name": "stdout",
     "output_type": "stream",
     "text": [
      "116\n",
      "117\n",
      "118\n"
     ]
    },
    {
     "name": "stderr",
     "output_type": "stream",
     "text": [
      "/var/folders/dn/j0_7h7gx2sq58_nt9816ss480000gn/T/ipykernel_12410/12768543.py:74: FutureWarning: The frame.append method is deprecated and will be removed from pandas in a future version. Use pandas.concat instead.\n",
      "  feature_pd = feature_pd.append(pd.DataFrame(saving, index=feature).transpose(), ignore_index=True)\n",
      "/var/folders/dn/j0_7h7gx2sq58_nt9816ss480000gn/T/ipykernel_12410/12768543.py:74: FutureWarning: The frame.append method is deprecated and will be removed from pandas in a future version. Use pandas.concat instead.\n",
      "  feature_pd = feature_pd.append(pd.DataFrame(saving, index=feature).transpose(), ignore_index=True)\n",
      "/var/folders/dn/j0_7h7gx2sq58_nt9816ss480000gn/T/ipykernel_12410/12768543.py:74: FutureWarning: The frame.append method is deprecated and will be removed from pandas in a future version. Use pandas.concat instead.\n",
      "  feature_pd = feature_pd.append(pd.DataFrame(saving, index=feature).transpose(), ignore_index=True)\n"
     ]
    },
    {
     "name": "stdout",
     "output_type": "stream",
     "text": [
      "119\n",
      "120\n",
      "121\n"
     ]
    },
    {
     "name": "stderr",
     "output_type": "stream",
     "text": [
      "/var/folders/dn/j0_7h7gx2sq58_nt9816ss480000gn/T/ipykernel_12410/12768543.py:74: FutureWarning: The frame.append method is deprecated and will be removed from pandas in a future version. Use pandas.concat instead.\n",
      "  feature_pd = feature_pd.append(pd.DataFrame(saving, index=feature).transpose(), ignore_index=True)\n",
      "/var/folders/dn/j0_7h7gx2sq58_nt9816ss480000gn/T/ipykernel_12410/12768543.py:74: FutureWarning: The frame.append method is deprecated and will be removed from pandas in a future version. Use pandas.concat instead.\n",
      "  feature_pd = feature_pd.append(pd.DataFrame(saving, index=feature).transpose(), ignore_index=True)\n",
      "/var/folders/dn/j0_7h7gx2sq58_nt9816ss480000gn/T/ipykernel_12410/12768543.py:74: FutureWarning: The frame.append method is deprecated and will be removed from pandas in a future version. Use pandas.concat instead.\n",
      "  feature_pd = feature_pd.append(pd.DataFrame(saving, index=feature).transpose(), ignore_index=True)\n"
     ]
    },
    {
     "name": "stdout",
     "output_type": "stream",
     "text": [
      "122\n",
      "123\n"
     ]
    },
    {
     "name": "stderr",
     "output_type": "stream",
     "text": [
      "/var/folders/dn/j0_7h7gx2sq58_nt9816ss480000gn/T/ipykernel_12410/12768543.py:74: FutureWarning: The frame.append method is deprecated and will be removed from pandas in a future version. Use pandas.concat instead.\n",
      "  feature_pd = feature_pd.append(pd.DataFrame(saving, index=feature).transpose(), ignore_index=True)\n",
      "/var/folders/dn/j0_7h7gx2sq58_nt9816ss480000gn/T/ipykernel_12410/12768543.py:74: FutureWarning: The frame.append method is deprecated and will be removed from pandas in a future version. Use pandas.concat instead.\n",
      "  feature_pd = feature_pd.append(pd.DataFrame(saving, index=feature).transpose(), ignore_index=True)\n"
     ]
    },
    {
     "name": "stdout",
     "output_type": "stream",
     "text": [
      "124\n",
      "125\n"
     ]
    },
    {
     "name": "stderr",
     "output_type": "stream",
     "text": [
      "/var/folders/dn/j0_7h7gx2sq58_nt9816ss480000gn/T/ipykernel_12410/12768543.py:74: FutureWarning: The frame.append method is deprecated and will be removed from pandas in a future version. Use pandas.concat instead.\n",
      "  feature_pd = feature_pd.append(pd.DataFrame(saving, index=feature).transpose(), ignore_index=True)\n",
      "/var/folders/dn/j0_7h7gx2sq58_nt9816ss480000gn/T/ipykernel_12410/12768543.py:74: FutureWarning: The frame.append method is deprecated and will be removed from pandas in a future version. Use pandas.concat instead.\n",
      "  feature_pd = feature_pd.append(pd.DataFrame(saving, index=feature).transpose(), ignore_index=True)\n"
     ]
    },
    {
     "name": "stdout",
     "output_type": "stream",
     "text": [
      "126\n",
      "127\n",
      "128\n",
      "129\n"
     ]
    },
    {
     "name": "stderr",
     "output_type": "stream",
     "text": [
      "/var/folders/dn/j0_7h7gx2sq58_nt9816ss480000gn/T/ipykernel_12410/12768543.py:74: FutureWarning: The frame.append method is deprecated and will be removed from pandas in a future version. Use pandas.concat instead.\n",
      "  feature_pd = feature_pd.append(pd.DataFrame(saving, index=feature).transpose(), ignore_index=True)\n",
      "/var/folders/dn/j0_7h7gx2sq58_nt9816ss480000gn/T/ipykernel_12410/12768543.py:74: FutureWarning: The frame.append method is deprecated and will be removed from pandas in a future version. Use pandas.concat instead.\n",
      "  feature_pd = feature_pd.append(pd.DataFrame(saving, index=feature).transpose(), ignore_index=True)\n",
      "/var/folders/dn/j0_7h7gx2sq58_nt9816ss480000gn/T/ipykernel_12410/12768543.py:74: FutureWarning: The frame.append method is deprecated and will be removed from pandas in a future version. Use pandas.concat instead.\n",
      "  feature_pd = feature_pd.append(pd.DataFrame(saving, index=feature).transpose(), ignore_index=True)\n",
      "/var/folders/dn/j0_7h7gx2sq58_nt9816ss480000gn/T/ipykernel_12410/12768543.py:74: FutureWarning: The frame.append method is deprecated and will be removed from pandas in a future version. Use pandas.concat instead.\n",
      "  feature_pd = feature_pd.append(pd.DataFrame(saving, index=feature).transpose(), ignore_index=True)\n"
     ]
    },
    {
     "name": "stdout",
     "output_type": "stream",
     "text": [
      "130\n",
      "131\n",
      "132\n",
      "133\n"
     ]
    },
    {
     "name": "stderr",
     "output_type": "stream",
     "text": [
      "/var/folders/dn/j0_7h7gx2sq58_nt9816ss480000gn/T/ipykernel_12410/12768543.py:74: FutureWarning: The frame.append method is deprecated and will be removed from pandas in a future version. Use pandas.concat instead.\n",
      "  feature_pd = feature_pd.append(pd.DataFrame(saving, index=feature).transpose(), ignore_index=True)\n",
      "/var/folders/dn/j0_7h7gx2sq58_nt9816ss480000gn/T/ipykernel_12410/12768543.py:74: FutureWarning: The frame.append method is deprecated and will be removed from pandas in a future version. Use pandas.concat instead.\n",
      "  feature_pd = feature_pd.append(pd.DataFrame(saving, index=feature).transpose(), ignore_index=True)\n",
      "/var/folders/dn/j0_7h7gx2sq58_nt9816ss480000gn/T/ipykernel_12410/12768543.py:74: FutureWarning: The frame.append method is deprecated and will be removed from pandas in a future version. Use pandas.concat instead.\n",
      "  feature_pd = feature_pd.append(pd.DataFrame(saving, index=feature).transpose(), ignore_index=True)\n",
      "/var/folders/dn/j0_7h7gx2sq58_nt9816ss480000gn/T/ipykernel_12410/12768543.py:74: FutureWarning: The frame.append method is deprecated and will be removed from pandas in a future version. Use pandas.concat instead.\n",
      "  feature_pd = feature_pd.append(pd.DataFrame(saving, index=feature).transpose(), ignore_index=True)\n"
     ]
    },
    {
     "name": "stdout",
     "output_type": "stream",
     "text": [
      "134\n",
      "135\n",
      "136\n"
     ]
    },
    {
     "name": "stderr",
     "output_type": "stream",
     "text": [
      "/var/folders/dn/j0_7h7gx2sq58_nt9816ss480000gn/T/ipykernel_12410/12768543.py:74: FutureWarning: The frame.append method is deprecated and will be removed from pandas in a future version. Use pandas.concat instead.\n",
      "  feature_pd = feature_pd.append(pd.DataFrame(saving, index=feature).transpose(), ignore_index=True)\n",
      "/var/folders/dn/j0_7h7gx2sq58_nt9816ss480000gn/T/ipykernel_12410/12768543.py:74: FutureWarning: The frame.append method is deprecated and will be removed from pandas in a future version. Use pandas.concat instead.\n",
      "  feature_pd = feature_pd.append(pd.DataFrame(saving, index=feature).transpose(), ignore_index=True)\n",
      "/var/folders/dn/j0_7h7gx2sq58_nt9816ss480000gn/T/ipykernel_12410/12768543.py:74: FutureWarning: The frame.append method is deprecated and will be removed from pandas in a future version. Use pandas.concat instead.\n",
      "  feature_pd = feature_pd.append(pd.DataFrame(saving, index=feature).transpose(), ignore_index=True)\n"
     ]
    },
    {
     "name": "stdout",
     "output_type": "stream",
     "text": [
      "137\n",
      "138\n"
     ]
    },
    {
     "name": "stderr",
     "output_type": "stream",
     "text": [
      "/var/folders/dn/j0_7h7gx2sq58_nt9816ss480000gn/T/ipykernel_12410/12768543.py:74: FutureWarning: The frame.append method is deprecated and will be removed from pandas in a future version. Use pandas.concat instead.\n",
      "  feature_pd = feature_pd.append(pd.DataFrame(saving, index=feature).transpose(), ignore_index=True)\n",
      "/var/folders/dn/j0_7h7gx2sq58_nt9816ss480000gn/T/ipykernel_12410/12768543.py:74: FutureWarning: The frame.append method is deprecated and will be removed from pandas in a future version. Use pandas.concat instead.\n",
      "  feature_pd = feature_pd.append(pd.DataFrame(saving, index=feature).transpose(), ignore_index=True)\n"
     ]
    },
    {
     "name": "stdout",
     "output_type": "stream",
     "text": [
      "139\n",
      "140\n",
      "141\n",
      "142\n"
     ]
    },
    {
     "name": "stderr",
     "output_type": "stream",
     "text": [
      "/var/folders/dn/j0_7h7gx2sq58_nt9816ss480000gn/T/ipykernel_12410/12768543.py:74: FutureWarning: The frame.append method is deprecated and will be removed from pandas in a future version. Use pandas.concat instead.\n",
      "  feature_pd = feature_pd.append(pd.DataFrame(saving, index=feature).transpose(), ignore_index=True)\n",
      "/var/folders/dn/j0_7h7gx2sq58_nt9816ss480000gn/T/ipykernel_12410/12768543.py:74: FutureWarning: The frame.append method is deprecated and will be removed from pandas in a future version. Use pandas.concat instead.\n",
      "  feature_pd = feature_pd.append(pd.DataFrame(saving, index=feature).transpose(), ignore_index=True)\n",
      "/var/folders/dn/j0_7h7gx2sq58_nt9816ss480000gn/T/ipykernel_12410/12768543.py:74: FutureWarning: The frame.append method is deprecated and will be removed from pandas in a future version. Use pandas.concat instead.\n",
      "  feature_pd = feature_pd.append(pd.DataFrame(saving, index=feature).transpose(), ignore_index=True)\n",
      "/var/folders/dn/j0_7h7gx2sq58_nt9816ss480000gn/T/ipykernel_12410/12768543.py:74: FutureWarning: The frame.append method is deprecated and will be removed from pandas in a future version. Use pandas.concat instead.\n",
      "  feature_pd = feature_pd.append(pd.DataFrame(saving, index=feature).transpose(), ignore_index=True)\n"
     ]
    },
    {
     "name": "stdout",
     "output_type": "stream",
     "text": [
      "143\n",
      "144\n",
      "145\n",
      "146\n"
     ]
    },
    {
     "name": "stderr",
     "output_type": "stream",
     "text": [
      "/var/folders/dn/j0_7h7gx2sq58_nt9816ss480000gn/T/ipykernel_12410/12768543.py:74: FutureWarning: The frame.append method is deprecated and will be removed from pandas in a future version. Use pandas.concat instead.\n",
      "  feature_pd = feature_pd.append(pd.DataFrame(saving, index=feature).transpose(), ignore_index=True)\n",
      "/var/folders/dn/j0_7h7gx2sq58_nt9816ss480000gn/T/ipykernel_12410/12768543.py:74: FutureWarning: The frame.append method is deprecated and will be removed from pandas in a future version. Use pandas.concat instead.\n",
      "  feature_pd = feature_pd.append(pd.DataFrame(saving, index=feature).transpose(), ignore_index=True)\n",
      "/var/folders/dn/j0_7h7gx2sq58_nt9816ss480000gn/T/ipykernel_12410/12768543.py:74: FutureWarning: The frame.append method is deprecated and will be removed from pandas in a future version. Use pandas.concat instead.\n",
      "  feature_pd = feature_pd.append(pd.DataFrame(saving, index=feature).transpose(), ignore_index=True)\n",
      "/var/folders/dn/j0_7h7gx2sq58_nt9816ss480000gn/T/ipykernel_12410/12768543.py:74: FutureWarning: The frame.append method is deprecated and will be removed from pandas in a future version. Use pandas.concat instead.\n",
      "  feature_pd = feature_pd.append(pd.DataFrame(saving, index=feature).transpose(), ignore_index=True)\n"
     ]
    },
    {
     "name": "stdout",
     "output_type": "stream",
     "text": [
      "147\n",
      "148\n",
      "149\n"
     ]
    },
    {
     "name": "stderr",
     "output_type": "stream",
     "text": [
      "/var/folders/dn/j0_7h7gx2sq58_nt9816ss480000gn/T/ipykernel_12410/12768543.py:74: FutureWarning: The frame.append method is deprecated and will be removed from pandas in a future version. Use pandas.concat instead.\n",
      "  feature_pd = feature_pd.append(pd.DataFrame(saving, index=feature).transpose(), ignore_index=True)\n",
      "/var/folders/dn/j0_7h7gx2sq58_nt9816ss480000gn/T/ipykernel_12410/12768543.py:74: FutureWarning: The frame.append method is deprecated and will be removed from pandas in a future version. Use pandas.concat instead.\n",
      "  feature_pd = feature_pd.append(pd.DataFrame(saving, index=feature).transpose(), ignore_index=True)\n",
      "/var/folders/dn/j0_7h7gx2sq58_nt9816ss480000gn/T/ipykernel_12410/12768543.py:74: FutureWarning: The frame.append method is deprecated and will be removed from pandas in a future version. Use pandas.concat instead.\n",
      "  feature_pd = feature_pd.append(pd.DataFrame(saving, index=feature).transpose(), ignore_index=True)\n"
     ]
    },
    {
     "name": "stdout",
     "output_type": "stream",
     "text": [
      "150\n",
      "151\n",
      "152\n",
      "153\n"
     ]
    },
    {
     "name": "stderr",
     "output_type": "stream",
     "text": [
      "/var/folders/dn/j0_7h7gx2sq58_nt9816ss480000gn/T/ipykernel_12410/12768543.py:74: FutureWarning: The frame.append method is deprecated and will be removed from pandas in a future version. Use pandas.concat instead.\n",
      "  feature_pd = feature_pd.append(pd.DataFrame(saving, index=feature).transpose(), ignore_index=True)\n",
      "/var/folders/dn/j0_7h7gx2sq58_nt9816ss480000gn/T/ipykernel_12410/12768543.py:74: FutureWarning: The frame.append method is deprecated and will be removed from pandas in a future version. Use pandas.concat instead.\n",
      "  feature_pd = feature_pd.append(pd.DataFrame(saving, index=feature).transpose(), ignore_index=True)\n",
      "/var/folders/dn/j0_7h7gx2sq58_nt9816ss480000gn/T/ipykernel_12410/12768543.py:74: FutureWarning: The frame.append method is deprecated and will be removed from pandas in a future version. Use pandas.concat instead.\n",
      "  feature_pd = feature_pd.append(pd.DataFrame(saving, index=feature).transpose(), ignore_index=True)\n",
      "/var/folders/dn/j0_7h7gx2sq58_nt9816ss480000gn/T/ipykernel_12410/12768543.py:74: FutureWarning: The frame.append method is deprecated and will be removed from pandas in a future version. Use pandas.concat instead.\n",
      "  feature_pd = feature_pd.append(pd.DataFrame(saving, index=feature).transpose(), ignore_index=True)\n"
     ]
    },
    {
     "name": "stdout",
     "output_type": "stream",
     "text": [
      "154\n",
      "155\n",
      "156\n"
     ]
    },
    {
     "name": "stderr",
     "output_type": "stream",
     "text": [
      "/var/folders/dn/j0_7h7gx2sq58_nt9816ss480000gn/T/ipykernel_12410/12768543.py:74: FutureWarning: The frame.append method is deprecated and will be removed from pandas in a future version. Use pandas.concat instead.\n",
      "  feature_pd = feature_pd.append(pd.DataFrame(saving, index=feature).transpose(), ignore_index=True)\n",
      "/var/folders/dn/j0_7h7gx2sq58_nt9816ss480000gn/T/ipykernel_12410/12768543.py:74: FutureWarning: The frame.append method is deprecated and will be removed from pandas in a future version. Use pandas.concat instead.\n",
      "  feature_pd = feature_pd.append(pd.DataFrame(saving, index=feature).transpose(), ignore_index=True)\n",
      "/var/folders/dn/j0_7h7gx2sq58_nt9816ss480000gn/T/ipykernel_12410/12768543.py:74: FutureWarning: The frame.append method is deprecated and will be removed from pandas in a future version. Use pandas.concat instead.\n",
      "  feature_pd = feature_pd.append(pd.DataFrame(saving, index=feature).transpose(), ignore_index=True)\n"
     ]
    },
    {
     "name": "stdout",
     "output_type": "stream",
     "text": [
      "157\n",
      "158\n",
      "159\n"
     ]
    },
    {
     "name": "stderr",
     "output_type": "stream",
     "text": [
      "/var/folders/dn/j0_7h7gx2sq58_nt9816ss480000gn/T/ipykernel_12410/12768543.py:74: FutureWarning: The frame.append method is deprecated and will be removed from pandas in a future version. Use pandas.concat instead.\n",
      "  feature_pd = feature_pd.append(pd.DataFrame(saving, index=feature).transpose(), ignore_index=True)\n",
      "/var/folders/dn/j0_7h7gx2sq58_nt9816ss480000gn/T/ipykernel_12410/12768543.py:74: FutureWarning: The frame.append method is deprecated and will be removed from pandas in a future version. Use pandas.concat instead.\n",
      "  feature_pd = feature_pd.append(pd.DataFrame(saving, index=feature).transpose(), ignore_index=True)\n",
      "/var/folders/dn/j0_7h7gx2sq58_nt9816ss480000gn/T/ipykernel_12410/12768543.py:74: FutureWarning: The frame.append method is deprecated and will be removed from pandas in a future version. Use pandas.concat instead.\n",
      "  feature_pd = feature_pd.append(pd.DataFrame(saving, index=feature).transpose(), ignore_index=True)\n"
     ]
    },
    {
     "name": "stdout",
     "output_type": "stream",
     "text": [
      "160\n"
     ]
    },
    {
     "name": "stderr",
     "output_type": "stream",
     "text": [
      "/var/folders/dn/j0_7h7gx2sq58_nt9816ss480000gn/T/ipykernel_12410/12768543.py:74: FutureWarning: The frame.append method is deprecated and will be removed from pandas in a future version. Use pandas.concat instead.\n",
      "  feature_pd = feature_pd.append(pd.DataFrame(saving, index=feature).transpose(), ignore_index=True)\n"
     ]
    },
    {
     "name": "stdout",
     "output_type": "stream",
     "text": [
      "161\n",
      "162\n"
     ]
    },
    {
     "name": "stderr",
     "output_type": "stream",
     "text": [
      "/var/folders/dn/j0_7h7gx2sq58_nt9816ss480000gn/T/ipykernel_12410/12768543.py:74: FutureWarning: The frame.append method is deprecated and will be removed from pandas in a future version. Use pandas.concat instead.\n",
      "  feature_pd = feature_pd.append(pd.DataFrame(saving, index=feature).transpose(), ignore_index=True)\n",
      "/var/folders/dn/j0_7h7gx2sq58_nt9816ss480000gn/T/ipykernel_12410/12768543.py:74: FutureWarning: The frame.append method is deprecated and will be removed from pandas in a future version. Use pandas.concat instead.\n",
      "  feature_pd = feature_pd.append(pd.DataFrame(saving, index=feature).transpose(), ignore_index=True)\n"
     ]
    },
    {
     "name": "stdout",
     "output_type": "stream",
     "text": [
      "163\n",
      "164\n",
      "165\n"
     ]
    },
    {
     "name": "stderr",
     "output_type": "stream",
     "text": [
      "/var/folders/dn/j0_7h7gx2sq58_nt9816ss480000gn/T/ipykernel_12410/12768543.py:74: FutureWarning: The frame.append method is deprecated and will be removed from pandas in a future version. Use pandas.concat instead.\n",
      "  feature_pd = feature_pd.append(pd.DataFrame(saving, index=feature).transpose(), ignore_index=True)\n",
      "/var/folders/dn/j0_7h7gx2sq58_nt9816ss480000gn/T/ipykernel_12410/12768543.py:74: FutureWarning: The frame.append method is deprecated and will be removed from pandas in a future version. Use pandas.concat instead.\n",
      "  feature_pd = feature_pd.append(pd.DataFrame(saving, index=feature).transpose(), ignore_index=True)\n",
      "/var/folders/dn/j0_7h7gx2sq58_nt9816ss480000gn/T/ipykernel_12410/12768543.py:74: FutureWarning: The frame.append method is deprecated and will be removed from pandas in a future version. Use pandas.concat instead.\n",
      "  feature_pd = feature_pd.append(pd.DataFrame(saving, index=feature).transpose(), ignore_index=True)\n",
      "/var/folders/dn/j0_7h7gx2sq58_nt9816ss480000gn/T/ipykernel_12410/12768543.py:74: FutureWarning: The frame.append method is deprecated and will be removed from pandas in a future version. Use pandas.concat instead.\n",
      "  feature_pd = feature_pd.append(pd.DataFrame(saving, index=feature).transpose(), ignore_index=True)\n"
     ]
    },
    {
     "name": "stdout",
     "output_type": "stream",
     "text": [
      "166\n",
      "167\n"
     ]
    },
    {
     "name": "stderr",
     "output_type": "stream",
     "text": [
      "/var/folders/dn/j0_7h7gx2sq58_nt9816ss480000gn/T/ipykernel_12410/12768543.py:74: FutureWarning: The frame.append method is deprecated and will be removed from pandas in a future version. Use pandas.concat instead.\n",
      "  feature_pd = feature_pd.append(pd.DataFrame(saving, index=feature).transpose(), ignore_index=True)\n",
      "/var/folders/dn/j0_7h7gx2sq58_nt9816ss480000gn/T/ipykernel_12410/12768543.py:74: FutureWarning: The frame.append method is deprecated and will be removed from pandas in a future version. Use pandas.concat instead.\n",
      "  feature_pd = feature_pd.append(pd.DataFrame(saving, index=feature).transpose(), ignore_index=True)\n",
      "/var/folders/dn/j0_7h7gx2sq58_nt9816ss480000gn/T/ipykernel_12410/12768543.py:74: FutureWarning: The frame.append method is deprecated and will be removed from pandas in a future version. Use pandas.concat instead.\n",
      "  feature_pd = feature_pd.append(pd.DataFrame(saving, index=feature).transpose(), ignore_index=True)\n"
     ]
    },
    {
     "name": "stdout",
     "output_type": "stream",
     "text": [
      "168\n",
      "169\n",
      "170\n",
      "171\n"
     ]
    },
    {
     "name": "stderr",
     "output_type": "stream",
     "text": [
      "/var/folders/dn/j0_7h7gx2sq58_nt9816ss480000gn/T/ipykernel_12410/12768543.py:74: FutureWarning: The frame.append method is deprecated and will be removed from pandas in a future version. Use pandas.concat instead.\n",
      "  feature_pd = feature_pd.append(pd.DataFrame(saving, index=feature).transpose(), ignore_index=True)\n",
      "/var/folders/dn/j0_7h7gx2sq58_nt9816ss480000gn/T/ipykernel_12410/12768543.py:74: FutureWarning: The frame.append method is deprecated and will be removed from pandas in a future version. Use pandas.concat instead.\n",
      "  feature_pd = feature_pd.append(pd.DataFrame(saving, index=feature).transpose(), ignore_index=True)\n",
      "/var/folders/dn/j0_7h7gx2sq58_nt9816ss480000gn/T/ipykernel_12410/12768543.py:74: FutureWarning: The frame.append method is deprecated and will be removed from pandas in a future version. Use pandas.concat instead.\n",
      "  feature_pd = feature_pd.append(pd.DataFrame(saving, index=feature).transpose(), ignore_index=True)\n",
      "/var/folders/dn/j0_7h7gx2sq58_nt9816ss480000gn/T/ipykernel_12410/12768543.py:74: FutureWarning: The frame.append method is deprecated and will be removed from pandas in a future version. Use pandas.concat instead.\n",
      "  feature_pd = feature_pd.append(pd.DataFrame(saving, index=feature).transpose(), ignore_index=True)\n"
     ]
    },
    {
     "name": "stdout",
     "output_type": "stream",
     "text": [
      "172\n",
      "173\n",
      "174\n"
     ]
    },
    {
     "name": "stderr",
     "output_type": "stream",
     "text": [
      "/var/folders/dn/j0_7h7gx2sq58_nt9816ss480000gn/T/ipykernel_12410/12768543.py:74: FutureWarning: The frame.append method is deprecated and will be removed from pandas in a future version. Use pandas.concat instead.\n",
      "  feature_pd = feature_pd.append(pd.DataFrame(saving, index=feature).transpose(), ignore_index=True)\n",
      "/var/folders/dn/j0_7h7gx2sq58_nt9816ss480000gn/T/ipykernel_12410/12768543.py:74: FutureWarning: The frame.append method is deprecated and will be removed from pandas in a future version. Use pandas.concat instead.\n",
      "  feature_pd = feature_pd.append(pd.DataFrame(saving, index=feature).transpose(), ignore_index=True)\n"
     ]
    },
    {
     "name": "stdout",
     "output_type": "stream",
     "text": [
      "175\n",
      "176\n"
     ]
    },
    {
     "name": "stderr",
     "output_type": "stream",
     "text": [
      "/var/folders/dn/j0_7h7gx2sq58_nt9816ss480000gn/T/ipykernel_12410/12768543.py:74: FutureWarning: The frame.append method is deprecated and will be removed from pandas in a future version. Use pandas.concat instead.\n",
      "  feature_pd = feature_pd.append(pd.DataFrame(saving, index=feature).transpose(), ignore_index=True)\n",
      "/var/folders/dn/j0_7h7gx2sq58_nt9816ss480000gn/T/ipykernel_12410/12768543.py:74: FutureWarning: The frame.append method is deprecated and will be removed from pandas in a future version. Use pandas.concat instead.\n",
      "  feature_pd = feature_pd.append(pd.DataFrame(saving, index=feature).transpose(), ignore_index=True)\n",
      "/var/folders/dn/j0_7h7gx2sq58_nt9816ss480000gn/T/ipykernel_12410/12768543.py:74: FutureWarning: The frame.append method is deprecated and will be removed from pandas in a future version. Use pandas.concat instead.\n",
      "  feature_pd = feature_pd.append(pd.DataFrame(saving, index=feature).transpose(), ignore_index=True)\n"
     ]
    },
    {
     "name": "stdout",
     "output_type": "stream",
     "text": [
      "177\n",
      "178\n",
      "179\n"
     ]
    },
    {
     "name": "stderr",
     "output_type": "stream",
     "text": [
      "/var/folders/dn/j0_7h7gx2sq58_nt9816ss480000gn/T/ipykernel_12410/12768543.py:74: FutureWarning: The frame.append method is deprecated and will be removed from pandas in a future version. Use pandas.concat instead.\n",
      "  feature_pd = feature_pd.append(pd.DataFrame(saving, index=feature).transpose(), ignore_index=True)\n",
      "/var/folders/dn/j0_7h7gx2sq58_nt9816ss480000gn/T/ipykernel_12410/12768543.py:74: FutureWarning: The frame.append method is deprecated and will be removed from pandas in a future version. Use pandas.concat instead.\n",
      "  feature_pd = feature_pd.append(pd.DataFrame(saving, index=feature).transpose(), ignore_index=True)\n"
     ]
    },
    {
     "name": "stdout",
     "output_type": "stream",
     "text": [
      "180\n",
      "181\n"
     ]
    },
    {
     "name": "stderr",
     "output_type": "stream",
     "text": [
      "/var/folders/dn/j0_7h7gx2sq58_nt9816ss480000gn/T/ipykernel_12410/12768543.py:74: FutureWarning: The frame.append method is deprecated and will be removed from pandas in a future version. Use pandas.concat instead.\n",
      "  feature_pd = feature_pd.append(pd.DataFrame(saving, index=feature).transpose(), ignore_index=True)\n",
      "/var/folders/dn/j0_7h7gx2sq58_nt9816ss480000gn/T/ipykernel_12410/12768543.py:74: FutureWarning: The frame.append method is deprecated and will be removed from pandas in a future version. Use pandas.concat instead.\n",
      "  feature_pd = feature_pd.append(pd.DataFrame(saving, index=feature).transpose(), ignore_index=True)\n",
      "/var/folders/dn/j0_7h7gx2sq58_nt9816ss480000gn/T/ipykernel_12410/12768543.py:74: FutureWarning: The frame.append method is deprecated and will be removed from pandas in a future version. Use pandas.concat instead.\n",
      "  feature_pd = feature_pd.append(pd.DataFrame(saving, index=feature).transpose(), ignore_index=True)\n"
     ]
    },
    {
     "name": "stdout",
     "output_type": "stream",
     "text": [
      "182\n",
      "183\n",
      "184\n"
     ]
    },
    {
     "name": "stderr",
     "output_type": "stream",
     "text": [
      "/var/folders/dn/j0_7h7gx2sq58_nt9816ss480000gn/T/ipykernel_12410/12768543.py:74: FutureWarning: The frame.append method is deprecated and will be removed from pandas in a future version. Use pandas.concat instead.\n",
      "  feature_pd = feature_pd.append(pd.DataFrame(saving, index=feature).transpose(), ignore_index=True)\n",
      "/var/folders/dn/j0_7h7gx2sq58_nt9816ss480000gn/T/ipykernel_12410/12768543.py:74: FutureWarning: The frame.append method is deprecated and will be removed from pandas in a future version. Use pandas.concat instead.\n",
      "  feature_pd = feature_pd.append(pd.DataFrame(saving, index=feature).transpose(), ignore_index=True)\n",
      "/var/folders/dn/j0_7h7gx2sq58_nt9816ss480000gn/T/ipykernel_12410/12768543.py:74: FutureWarning: The frame.append method is deprecated and will be removed from pandas in a future version. Use pandas.concat instead.\n",
      "  feature_pd = feature_pd.append(pd.DataFrame(saving, index=feature).transpose(), ignore_index=True)\n",
      "/var/folders/dn/j0_7h7gx2sq58_nt9816ss480000gn/T/ipykernel_12410/12768543.py:74: FutureWarning: The frame.append method is deprecated and will be removed from pandas in a future version. Use pandas.concat instead.\n",
      "  feature_pd = feature_pd.append(pd.DataFrame(saving, index=feature).transpose(), ignore_index=True)\n"
     ]
    },
    {
     "name": "stdout",
     "output_type": "stream",
     "text": [
      "185\n",
      "186\n",
      "187\n",
      "188\n"
     ]
    },
    {
     "name": "stderr",
     "output_type": "stream",
     "text": [
      "/var/folders/dn/j0_7h7gx2sq58_nt9816ss480000gn/T/ipykernel_12410/12768543.py:74: FutureWarning: The frame.append method is deprecated and will be removed from pandas in a future version. Use pandas.concat instead.\n",
      "  feature_pd = feature_pd.append(pd.DataFrame(saving, index=feature).transpose(), ignore_index=True)\n",
      "/var/folders/dn/j0_7h7gx2sq58_nt9816ss480000gn/T/ipykernel_12410/12768543.py:74: FutureWarning: The frame.append method is deprecated and will be removed from pandas in a future version. Use pandas.concat instead.\n",
      "  feature_pd = feature_pd.append(pd.DataFrame(saving, index=feature).transpose(), ignore_index=True)\n"
     ]
    },
    {
     "name": "stdout",
     "output_type": "stream",
     "text": [
      "189\n",
      "190\n",
      "191\n"
     ]
    },
    {
     "name": "stderr",
     "output_type": "stream",
     "text": [
      "/var/folders/dn/j0_7h7gx2sq58_nt9816ss480000gn/T/ipykernel_12410/12768543.py:74: FutureWarning: The frame.append method is deprecated and will be removed from pandas in a future version. Use pandas.concat instead.\n",
      "  feature_pd = feature_pd.append(pd.DataFrame(saving, index=feature).transpose(), ignore_index=True)\n",
      "/var/folders/dn/j0_7h7gx2sq58_nt9816ss480000gn/T/ipykernel_12410/12768543.py:74: FutureWarning: The frame.append method is deprecated and will be removed from pandas in a future version. Use pandas.concat instead.\n",
      "  feature_pd = feature_pd.append(pd.DataFrame(saving, index=feature).transpose(), ignore_index=True)\n",
      "/var/folders/dn/j0_7h7gx2sq58_nt9816ss480000gn/T/ipykernel_12410/12768543.py:74: FutureWarning: The frame.append method is deprecated and will be removed from pandas in a future version. Use pandas.concat instead.\n",
      "  feature_pd = feature_pd.append(pd.DataFrame(saving, index=feature).transpose(), ignore_index=True)\n"
     ]
    },
    {
     "name": "stdout",
     "output_type": "stream",
     "text": [
      "192\n",
      "193\n",
      "194\n"
     ]
    },
    {
     "name": "stderr",
     "output_type": "stream",
     "text": [
      "/var/folders/dn/j0_7h7gx2sq58_nt9816ss480000gn/T/ipykernel_12410/12768543.py:74: FutureWarning: The frame.append method is deprecated and will be removed from pandas in a future version. Use pandas.concat instead.\n",
      "  feature_pd = feature_pd.append(pd.DataFrame(saving, index=feature).transpose(), ignore_index=True)\n",
      "/var/folders/dn/j0_7h7gx2sq58_nt9816ss480000gn/T/ipykernel_12410/12768543.py:74: FutureWarning: The frame.append method is deprecated and will be removed from pandas in a future version. Use pandas.concat instead.\n",
      "  feature_pd = feature_pd.append(pd.DataFrame(saving, index=feature).transpose(), ignore_index=True)\n"
     ]
    },
    {
     "name": "stdout",
     "output_type": "stream",
     "text": [
      "195\n",
      "196\n",
      "197\n"
     ]
    },
    {
     "name": "stderr",
     "output_type": "stream",
     "text": [
      "/var/folders/dn/j0_7h7gx2sq58_nt9816ss480000gn/T/ipykernel_12410/12768543.py:74: FutureWarning: The frame.append method is deprecated and will be removed from pandas in a future version. Use pandas.concat instead.\n",
      "  feature_pd = feature_pd.append(pd.DataFrame(saving, index=feature).transpose(), ignore_index=True)\n",
      "/var/folders/dn/j0_7h7gx2sq58_nt9816ss480000gn/T/ipykernel_12410/12768543.py:74: FutureWarning: The frame.append method is deprecated and will be removed from pandas in a future version. Use pandas.concat instead.\n",
      "  feature_pd = feature_pd.append(pd.DataFrame(saving, index=feature).transpose(), ignore_index=True)\n",
      "/var/folders/dn/j0_7h7gx2sq58_nt9816ss480000gn/T/ipykernel_12410/12768543.py:74: FutureWarning: The frame.append method is deprecated and will be removed from pandas in a future version. Use pandas.concat instead.\n",
      "  feature_pd = feature_pd.append(pd.DataFrame(saving, index=feature).transpose(), ignore_index=True)\n"
     ]
    },
    {
     "name": "stdout",
     "output_type": "stream",
     "text": [
      "198\n",
      "199\n",
      "200\n",
      "201\n"
     ]
    },
    {
     "name": "stderr",
     "output_type": "stream",
     "text": [
      "/var/folders/dn/j0_7h7gx2sq58_nt9816ss480000gn/T/ipykernel_12410/12768543.py:74: FutureWarning: The frame.append method is deprecated and will be removed from pandas in a future version. Use pandas.concat instead.\n",
      "  feature_pd = feature_pd.append(pd.DataFrame(saving, index=feature).transpose(), ignore_index=True)\n",
      "/var/folders/dn/j0_7h7gx2sq58_nt9816ss480000gn/T/ipykernel_12410/12768543.py:74: FutureWarning: The frame.append method is deprecated and will be removed from pandas in a future version. Use pandas.concat instead.\n",
      "  feature_pd = feature_pd.append(pd.DataFrame(saving, index=feature).transpose(), ignore_index=True)\n",
      "/var/folders/dn/j0_7h7gx2sq58_nt9816ss480000gn/T/ipykernel_12410/12768543.py:74: FutureWarning: The frame.append method is deprecated and will be removed from pandas in a future version. Use pandas.concat instead.\n",
      "  feature_pd = feature_pd.append(pd.DataFrame(saving, index=feature).transpose(), ignore_index=True)\n",
      "/var/folders/dn/j0_7h7gx2sq58_nt9816ss480000gn/T/ipykernel_12410/12768543.py:74: FutureWarning: The frame.append method is deprecated and will be removed from pandas in a future version. Use pandas.concat instead.\n",
      "  feature_pd = feature_pd.append(pd.DataFrame(saving, index=feature).transpose(), ignore_index=True)\n"
     ]
    },
    {
     "name": "stdout",
     "output_type": "stream",
     "text": [
      "202\n",
      "203\n",
      "204\n",
      "205\n"
     ]
    },
    {
     "name": "stderr",
     "output_type": "stream",
     "text": [
      "/var/folders/dn/j0_7h7gx2sq58_nt9816ss480000gn/T/ipykernel_12410/12768543.py:74: FutureWarning: The frame.append method is deprecated and will be removed from pandas in a future version. Use pandas.concat instead.\n",
      "  feature_pd = feature_pd.append(pd.DataFrame(saving, index=feature).transpose(), ignore_index=True)\n",
      "/var/folders/dn/j0_7h7gx2sq58_nt9816ss480000gn/T/ipykernel_12410/12768543.py:74: FutureWarning: The frame.append method is deprecated and will be removed from pandas in a future version. Use pandas.concat instead.\n",
      "  feature_pd = feature_pd.append(pd.DataFrame(saving, index=feature).transpose(), ignore_index=True)\n",
      "/var/folders/dn/j0_7h7gx2sq58_nt9816ss480000gn/T/ipykernel_12410/12768543.py:74: FutureWarning: The frame.append method is deprecated and will be removed from pandas in a future version. Use pandas.concat instead.\n",
      "  feature_pd = feature_pd.append(pd.DataFrame(saving, index=feature).transpose(), ignore_index=True)\n",
      "/var/folders/dn/j0_7h7gx2sq58_nt9816ss480000gn/T/ipykernel_12410/12768543.py:74: FutureWarning: The frame.append method is deprecated and will be removed from pandas in a future version. Use pandas.concat instead.\n",
      "  feature_pd = feature_pd.append(pd.DataFrame(saving, index=feature).transpose(), ignore_index=True)\n"
     ]
    },
    {
     "name": "stdout",
     "output_type": "stream",
     "text": [
      "206\n",
      "207\n"
     ]
    },
    {
     "name": "stderr",
     "output_type": "stream",
     "text": [
      "/var/folders/dn/j0_7h7gx2sq58_nt9816ss480000gn/T/ipykernel_12410/12768543.py:74: FutureWarning: The frame.append method is deprecated and will be removed from pandas in a future version. Use pandas.concat instead.\n",
      "  feature_pd = feature_pd.append(pd.DataFrame(saving, index=feature).transpose(), ignore_index=True)\n",
      "/var/folders/dn/j0_7h7gx2sq58_nt9816ss480000gn/T/ipykernel_12410/12768543.py:74: FutureWarning: The frame.append method is deprecated and will be removed from pandas in a future version. Use pandas.concat instead.\n",
      "  feature_pd = feature_pd.append(pd.DataFrame(saving, index=feature).transpose(), ignore_index=True)\n"
     ]
    },
    {
     "name": "stdout",
     "output_type": "stream",
     "text": [
      "208\n",
      "209\n",
      "210\n"
     ]
    },
    {
     "name": "stderr",
     "output_type": "stream",
     "text": [
      "/var/folders/dn/j0_7h7gx2sq58_nt9816ss480000gn/T/ipykernel_12410/12768543.py:74: FutureWarning: The frame.append method is deprecated and will be removed from pandas in a future version. Use pandas.concat instead.\n",
      "  feature_pd = feature_pd.append(pd.DataFrame(saving, index=feature).transpose(), ignore_index=True)\n",
      "/var/folders/dn/j0_7h7gx2sq58_nt9816ss480000gn/T/ipykernel_12410/12768543.py:74: FutureWarning: The frame.append method is deprecated and will be removed from pandas in a future version. Use pandas.concat instead.\n",
      "  feature_pd = feature_pd.append(pd.DataFrame(saving, index=feature).transpose(), ignore_index=True)\n",
      "/var/folders/dn/j0_7h7gx2sq58_nt9816ss480000gn/T/ipykernel_12410/12768543.py:74: FutureWarning: The frame.append method is deprecated and will be removed from pandas in a future version. Use pandas.concat instead.\n",
      "  feature_pd = feature_pd.append(pd.DataFrame(saving, index=feature).transpose(), ignore_index=True)\n"
     ]
    },
    {
     "name": "stdout",
     "output_type": "stream",
     "text": [
      "211\n",
      "212\n",
      "213\n"
     ]
    },
    {
     "name": "stderr",
     "output_type": "stream",
     "text": [
      "/var/folders/dn/j0_7h7gx2sq58_nt9816ss480000gn/T/ipykernel_12410/12768543.py:74: FutureWarning: The frame.append method is deprecated and will be removed from pandas in a future version. Use pandas.concat instead.\n",
      "  feature_pd = feature_pd.append(pd.DataFrame(saving, index=feature).transpose(), ignore_index=True)\n",
      "/var/folders/dn/j0_7h7gx2sq58_nt9816ss480000gn/T/ipykernel_12410/12768543.py:74: FutureWarning: The frame.append method is deprecated and will be removed from pandas in a future version. Use pandas.concat instead.\n",
      "  feature_pd = feature_pd.append(pd.DataFrame(saving, index=feature).transpose(), ignore_index=True)\n",
      "/var/folders/dn/j0_7h7gx2sq58_nt9816ss480000gn/T/ipykernel_12410/12768543.py:74: FutureWarning: The frame.append method is deprecated and will be removed from pandas in a future version. Use pandas.concat instead.\n",
      "  feature_pd = feature_pd.append(pd.DataFrame(saving, index=feature).transpose(), ignore_index=True)\n"
     ]
    },
    {
     "name": "stdout",
     "output_type": "stream",
     "text": [
      "214\n",
      "215\n"
     ]
    },
    {
     "name": "stderr",
     "output_type": "stream",
     "text": [
      "/var/folders/dn/j0_7h7gx2sq58_nt9816ss480000gn/T/ipykernel_12410/12768543.py:74: FutureWarning: The frame.append method is deprecated and will be removed from pandas in a future version. Use pandas.concat instead.\n",
      "  feature_pd = feature_pd.append(pd.DataFrame(saving, index=feature).transpose(), ignore_index=True)\n",
      "/var/folders/dn/j0_7h7gx2sq58_nt9816ss480000gn/T/ipykernel_12410/12768543.py:74: FutureWarning: The frame.append method is deprecated and will be removed from pandas in a future version. Use pandas.concat instead.\n",
      "  feature_pd = feature_pd.append(pd.DataFrame(saving, index=feature).transpose(), ignore_index=True)\n"
     ]
    },
    {
     "name": "stdout",
     "output_type": "stream",
     "text": [
      "216\n",
      "217\n",
      "218\n",
      "219\n"
     ]
    },
    {
     "name": "stderr",
     "output_type": "stream",
     "text": [
      "/var/folders/dn/j0_7h7gx2sq58_nt9816ss480000gn/T/ipykernel_12410/12768543.py:74: FutureWarning: The frame.append method is deprecated and will be removed from pandas in a future version. Use pandas.concat instead.\n",
      "  feature_pd = feature_pd.append(pd.DataFrame(saving, index=feature).transpose(), ignore_index=True)\n",
      "/var/folders/dn/j0_7h7gx2sq58_nt9816ss480000gn/T/ipykernel_12410/12768543.py:74: FutureWarning: The frame.append method is deprecated and will be removed from pandas in a future version. Use pandas.concat instead.\n",
      "  feature_pd = feature_pd.append(pd.DataFrame(saving, index=feature).transpose(), ignore_index=True)\n",
      "/var/folders/dn/j0_7h7gx2sq58_nt9816ss480000gn/T/ipykernel_12410/12768543.py:74: FutureWarning: The frame.append method is deprecated and will be removed from pandas in a future version. Use pandas.concat instead.\n",
      "  feature_pd = feature_pd.append(pd.DataFrame(saving, index=feature).transpose(), ignore_index=True)\n",
      "/var/folders/dn/j0_7h7gx2sq58_nt9816ss480000gn/T/ipykernel_12410/12768543.py:74: FutureWarning: The frame.append method is deprecated and will be removed from pandas in a future version. Use pandas.concat instead.\n",
      "  feature_pd = feature_pd.append(pd.DataFrame(saving, index=feature).transpose(), ignore_index=True)\n"
     ]
    },
    {
     "name": "stdout",
     "output_type": "stream",
     "text": [
      "220\n",
      "221\n"
     ]
    },
    {
     "name": "stderr",
     "output_type": "stream",
     "text": [
      "/var/folders/dn/j0_7h7gx2sq58_nt9816ss480000gn/T/ipykernel_12410/12768543.py:74: FutureWarning: The frame.append method is deprecated and will be removed from pandas in a future version. Use pandas.concat instead.\n",
      "  feature_pd = feature_pd.append(pd.DataFrame(saving, index=feature).transpose(), ignore_index=True)\n",
      "/var/folders/dn/j0_7h7gx2sq58_nt9816ss480000gn/T/ipykernel_12410/12768543.py:74: FutureWarning: The frame.append method is deprecated and will be removed from pandas in a future version. Use pandas.concat instead.\n",
      "  feature_pd = feature_pd.append(pd.DataFrame(saving, index=feature).transpose(), ignore_index=True)\n"
     ]
    },
    {
     "name": "stdout",
     "output_type": "stream",
     "text": [
      "222\n",
      "223\n",
      "224\n"
     ]
    },
    {
     "name": "stderr",
     "output_type": "stream",
     "text": [
      "/var/folders/dn/j0_7h7gx2sq58_nt9816ss480000gn/T/ipykernel_12410/12768543.py:74: FutureWarning: The frame.append method is deprecated and will be removed from pandas in a future version. Use pandas.concat instead.\n",
      "  feature_pd = feature_pd.append(pd.DataFrame(saving, index=feature).transpose(), ignore_index=True)\n",
      "/var/folders/dn/j0_7h7gx2sq58_nt9816ss480000gn/T/ipykernel_12410/12768543.py:74: FutureWarning: The frame.append method is deprecated and will be removed from pandas in a future version. Use pandas.concat instead.\n",
      "  feature_pd = feature_pd.append(pd.DataFrame(saving, index=feature).transpose(), ignore_index=True)\n",
      "/var/folders/dn/j0_7h7gx2sq58_nt9816ss480000gn/T/ipykernel_12410/12768543.py:74: FutureWarning: The frame.append method is deprecated and will be removed from pandas in a future version. Use pandas.concat instead.\n",
      "  feature_pd = feature_pd.append(pd.DataFrame(saving, index=feature).transpose(), ignore_index=True)\n"
     ]
    },
    {
     "name": "stdout",
     "output_type": "stream",
     "text": [
      "225\n",
      "226\n",
      "227\n"
     ]
    },
    {
     "name": "stderr",
     "output_type": "stream",
     "text": [
      "/var/folders/dn/j0_7h7gx2sq58_nt9816ss480000gn/T/ipykernel_12410/12768543.py:74: FutureWarning: The frame.append method is deprecated and will be removed from pandas in a future version. Use pandas.concat instead.\n",
      "  feature_pd = feature_pd.append(pd.DataFrame(saving, index=feature).transpose(), ignore_index=True)\n",
      "/var/folders/dn/j0_7h7gx2sq58_nt9816ss480000gn/T/ipykernel_12410/12768543.py:74: FutureWarning: The frame.append method is deprecated and will be removed from pandas in a future version. Use pandas.concat instead.\n",
      "  feature_pd = feature_pd.append(pd.DataFrame(saving, index=feature).transpose(), ignore_index=True)\n",
      "/var/folders/dn/j0_7h7gx2sq58_nt9816ss480000gn/T/ipykernel_12410/12768543.py:74: FutureWarning: The frame.append method is deprecated and will be removed from pandas in a future version. Use pandas.concat instead.\n",
      "  feature_pd = feature_pd.append(pd.DataFrame(saving, index=feature).transpose(), ignore_index=True)\n"
     ]
    },
    {
     "name": "stdout",
     "output_type": "stream",
     "text": [
      "228\n"
     ]
    },
    {
     "name": "stderr",
     "output_type": "stream",
     "text": [
      "/var/folders/dn/j0_7h7gx2sq58_nt9816ss480000gn/T/ipykernel_12410/12768543.py:74: FutureWarning: The frame.append method is deprecated and will be removed from pandas in a future version. Use pandas.concat instead.\n",
      "  feature_pd = feature_pd.append(pd.DataFrame(saving, index=feature).transpose(), ignore_index=True)\n"
     ]
    },
    {
     "name": "stdout",
     "output_type": "stream",
     "text": [
      "229\n",
      "230\n",
      "231\n"
     ]
    },
    {
     "name": "stderr",
     "output_type": "stream",
     "text": [
      "/var/folders/dn/j0_7h7gx2sq58_nt9816ss480000gn/T/ipykernel_12410/12768543.py:74: FutureWarning: The frame.append method is deprecated and will be removed from pandas in a future version. Use pandas.concat instead.\n",
      "  feature_pd = feature_pd.append(pd.DataFrame(saving, index=feature).transpose(), ignore_index=True)\n",
      "/var/folders/dn/j0_7h7gx2sq58_nt9816ss480000gn/T/ipykernel_12410/12768543.py:74: FutureWarning: The frame.append method is deprecated and will be removed from pandas in a future version. Use pandas.concat instead.\n",
      "  feature_pd = feature_pd.append(pd.DataFrame(saving, index=feature).transpose(), ignore_index=True)\n",
      "/var/folders/dn/j0_7h7gx2sq58_nt9816ss480000gn/T/ipykernel_12410/12768543.py:74: FutureWarning: The frame.append method is deprecated and will be removed from pandas in a future version. Use pandas.concat instead.\n",
      "  feature_pd = feature_pd.append(pd.DataFrame(saving, index=feature).transpose(), ignore_index=True)\n"
     ]
    },
    {
     "name": "stdout",
     "output_type": "stream",
     "text": [
      "232\n",
      "233\n",
      "234\n"
     ]
    },
    {
     "name": "stderr",
     "output_type": "stream",
     "text": [
      "/var/folders/dn/j0_7h7gx2sq58_nt9816ss480000gn/T/ipykernel_12410/12768543.py:74: FutureWarning: The frame.append method is deprecated and will be removed from pandas in a future version. Use pandas.concat instead.\n",
      "  feature_pd = feature_pd.append(pd.DataFrame(saving, index=feature).transpose(), ignore_index=True)\n",
      "/var/folders/dn/j0_7h7gx2sq58_nt9816ss480000gn/T/ipykernel_12410/12768543.py:74: FutureWarning: The frame.append method is deprecated and will be removed from pandas in a future version. Use pandas.concat instead.\n",
      "  feature_pd = feature_pd.append(pd.DataFrame(saving, index=feature).transpose(), ignore_index=True)\n",
      "/var/folders/dn/j0_7h7gx2sq58_nt9816ss480000gn/T/ipykernel_12410/12768543.py:74: FutureWarning: The frame.append method is deprecated and will be removed from pandas in a future version. Use pandas.concat instead.\n",
      "  feature_pd = feature_pd.append(pd.DataFrame(saving, index=feature).transpose(), ignore_index=True)\n"
     ]
    },
    {
     "name": "stdout",
     "output_type": "stream",
     "text": [
      "235\n",
      "236\n"
     ]
    },
    {
     "name": "stderr",
     "output_type": "stream",
     "text": [
      "/var/folders/dn/j0_7h7gx2sq58_nt9816ss480000gn/T/ipykernel_12410/12768543.py:74: FutureWarning: The frame.append method is deprecated and will be removed from pandas in a future version. Use pandas.concat instead.\n",
      "  feature_pd = feature_pd.append(pd.DataFrame(saving, index=feature).transpose(), ignore_index=True)\n",
      "/var/folders/dn/j0_7h7gx2sq58_nt9816ss480000gn/T/ipykernel_12410/12768543.py:74: FutureWarning: The frame.append method is deprecated and will be removed from pandas in a future version. Use pandas.concat instead.\n",
      "  feature_pd = feature_pd.append(pd.DataFrame(saving, index=feature).transpose(), ignore_index=True)\n"
     ]
    },
    {
     "name": "stdout",
     "output_type": "stream",
     "text": [
      "237\n",
      "238\n",
      "239\n",
      "240\n"
     ]
    },
    {
     "name": "stderr",
     "output_type": "stream",
     "text": [
      "/var/folders/dn/j0_7h7gx2sq58_nt9816ss480000gn/T/ipykernel_12410/12768543.py:74: FutureWarning: The frame.append method is deprecated and will be removed from pandas in a future version. Use pandas.concat instead.\n",
      "  feature_pd = feature_pd.append(pd.DataFrame(saving, index=feature).transpose(), ignore_index=True)\n",
      "/var/folders/dn/j0_7h7gx2sq58_nt9816ss480000gn/T/ipykernel_12410/12768543.py:74: FutureWarning: The frame.append method is deprecated and will be removed from pandas in a future version. Use pandas.concat instead.\n",
      "  feature_pd = feature_pd.append(pd.DataFrame(saving, index=feature).transpose(), ignore_index=True)\n",
      "/var/folders/dn/j0_7h7gx2sq58_nt9816ss480000gn/T/ipykernel_12410/12768543.py:74: FutureWarning: The frame.append method is deprecated and will be removed from pandas in a future version. Use pandas.concat instead.\n",
      "  feature_pd = feature_pd.append(pd.DataFrame(saving, index=feature).transpose(), ignore_index=True)\n",
      "/var/folders/dn/j0_7h7gx2sq58_nt9816ss480000gn/T/ipykernel_12410/12768543.py:74: FutureWarning: The frame.append method is deprecated and will be removed from pandas in a future version. Use pandas.concat instead.\n",
      "  feature_pd = feature_pd.append(pd.DataFrame(saving, index=feature).transpose(), ignore_index=True)\n"
     ]
    },
    {
     "name": "stdout",
     "output_type": "stream",
     "text": [
      "241\n",
      "242\n",
      "243\n"
     ]
    },
    {
     "name": "stderr",
     "output_type": "stream",
     "text": [
      "/var/folders/dn/j0_7h7gx2sq58_nt9816ss480000gn/T/ipykernel_12410/12768543.py:74: FutureWarning: The frame.append method is deprecated and will be removed from pandas in a future version. Use pandas.concat instead.\n",
      "  feature_pd = feature_pd.append(pd.DataFrame(saving, index=feature).transpose(), ignore_index=True)\n",
      "/var/folders/dn/j0_7h7gx2sq58_nt9816ss480000gn/T/ipykernel_12410/12768543.py:74: FutureWarning: The frame.append method is deprecated and will be removed from pandas in a future version. Use pandas.concat instead.\n",
      "  feature_pd = feature_pd.append(pd.DataFrame(saving, index=feature).transpose(), ignore_index=True)\n",
      "/var/folders/dn/j0_7h7gx2sq58_nt9816ss480000gn/T/ipykernel_12410/12768543.py:74: FutureWarning: The frame.append method is deprecated and will be removed from pandas in a future version. Use pandas.concat instead.\n",
      "  feature_pd = feature_pd.append(pd.DataFrame(saving, index=feature).transpose(), ignore_index=True)\n"
     ]
    },
    {
     "name": "stdout",
     "output_type": "stream",
     "text": [
      "244\n",
      "245\n",
      "246\n"
     ]
    },
    {
     "name": "stderr",
     "output_type": "stream",
     "text": [
      "/var/folders/dn/j0_7h7gx2sq58_nt9816ss480000gn/T/ipykernel_12410/12768543.py:74: FutureWarning: The frame.append method is deprecated and will be removed from pandas in a future version. Use pandas.concat instead.\n",
      "  feature_pd = feature_pd.append(pd.DataFrame(saving, index=feature).transpose(), ignore_index=True)\n",
      "/var/folders/dn/j0_7h7gx2sq58_nt9816ss480000gn/T/ipykernel_12410/12768543.py:74: FutureWarning: The frame.append method is deprecated and will be removed from pandas in a future version. Use pandas.concat instead.\n",
      "  feature_pd = feature_pd.append(pd.DataFrame(saving, index=feature).transpose(), ignore_index=True)\n",
      "/var/folders/dn/j0_7h7gx2sq58_nt9816ss480000gn/T/ipykernel_12410/12768543.py:74: FutureWarning: The frame.append method is deprecated and will be removed from pandas in a future version. Use pandas.concat instead.\n",
      "  feature_pd = feature_pd.append(pd.DataFrame(saving, index=feature).transpose(), ignore_index=True)\n"
     ]
    },
    {
     "name": "stdout",
     "output_type": "stream",
     "text": [
      "247\n",
      "248\n",
      "249\n"
     ]
    },
    {
     "name": "stderr",
     "output_type": "stream",
     "text": [
      "/var/folders/dn/j0_7h7gx2sq58_nt9816ss480000gn/T/ipykernel_12410/12768543.py:74: FutureWarning: The frame.append method is deprecated and will be removed from pandas in a future version. Use pandas.concat instead.\n",
      "  feature_pd = feature_pd.append(pd.DataFrame(saving, index=feature).transpose(), ignore_index=True)\n",
      "/var/folders/dn/j0_7h7gx2sq58_nt9816ss480000gn/T/ipykernel_12410/12768543.py:74: FutureWarning: The frame.append method is deprecated and will be removed from pandas in a future version. Use pandas.concat instead.\n",
      "  feature_pd = feature_pd.append(pd.DataFrame(saving, index=feature).transpose(), ignore_index=True)\n",
      "/var/folders/dn/j0_7h7gx2sq58_nt9816ss480000gn/T/ipykernel_12410/12768543.py:74: FutureWarning: The frame.append method is deprecated and will be removed from pandas in a future version. Use pandas.concat instead.\n",
      "  feature_pd = feature_pd.append(pd.DataFrame(saving, index=feature).transpose(), ignore_index=True)\n"
     ]
    },
    {
     "name": "stdout",
     "output_type": "stream",
     "text": [
      "250\n",
      "251\n",
      "252\n"
     ]
    },
    {
     "name": "stderr",
     "output_type": "stream",
     "text": [
      "/var/folders/dn/j0_7h7gx2sq58_nt9816ss480000gn/T/ipykernel_12410/12768543.py:74: FutureWarning: The frame.append method is deprecated and will be removed from pandas in a future version. Use pandas.concat instead.\n",
      "  feature_pd = feature_pd.append(pd.DataFrame(saving, index=feature).transpose(), ignore_index=True)\n",
      "/var/folders/dn/j0_7h7gx2sq58_nt9816ss480000gn/T/ipykernel_12410/12768543.py:74: FutureWarning: The frame.append method is deprecated and will be removed from pandas in a future version. Use pandas.concat instead.\n",
      "  feature_pd = feature_pd.append(pd.DataFrame(saving, index=feature).transpose(), ignore_index=True)\n",
      "/var/folders/dn/j0_7h7gx2sq58_nt9816ss480000gn/T/ipykernel_12410/12768543.py:74: FutureWarning: The frame.append method is deprecated and will be removed from pandas in a future version. Use pandas.concat instead.\n",
      "  feature_pd = feature_pd.append(pd.DataFrame(saving, index=feature).transpose(), ignore_index=True)\n"
     ]
    },
    {
     "name": "stdout",
     "output_type": "stream",
     "text": [
      "253\n",
      "254\n",
      "255\n"
     ]
    },
    {
     "name": "stderr",
     "output_type": "stream",
     "text": [
      "/var/folders/dn/j0_7h7gx2sq58_nt9816ss480000gn/T/ipykernel_12410/12768543.py:74: FutureWarning: The frame.append method is deprecated and will be removed from pandas in a future version. Use pandas.concat instead.\n",
      "  feature_pd = feature_pd.append(pd.DataFrame(saving, index=feature).transpose(), ignore_index=True)\n",
      "/var/folders/dn/j0_7h7gx2sq58_nt9816ss480000gn/T/ipykernel_12410/12768543.py:74: FutureWarning: The frame.append method is deprecated and will be removed from pandas in a future version. Use pandas.concat instead.\n",
      "  feature_pd = feature_pd.append(pd.DataFrame(saving, index=feature).transpose(), ignore_index=True)\n",
      "/var/folders/dn/j0_7h7gx2sq58_nt9816ss480000gn/T/ipykernel_12410/12768543.py:74: FutureWarning: The frame.append method is deprecated and will be removed from pandas in a future version. Use pandas.concat instead.\n",
      "  feature_pd = feature_pd.append(pd.DataFrame(saving, index=feature).transpose(), ignore_index=True)\n"
     ]
    },
    {
     "name": "stdout",
     "output_type": "stream",
     "text": [
      "256\n",
      "257\n",
      "258\n"
     ]
    },
    {
     "name": "stderr",
     "output_type": "stream",
     "text": [
      "/var/folders/dn/j0_7h7gx2sq58_nt9816ss480000gn/T/ipykernel_12410/12768543.py:74: FutureWarning: The frame.append method is deprecated and will be removed from pandas in a future version. Use pandas.concat instead.\n",
      "  feature_pd = feature_pd.append(pd.DataFrame(saving, index=feature).transpose(), ignore_index=True)\n",
      "/var/folders/dn/j0_7h7gx2sq58_nt9816ss480000gn/T/ipykernel_12410/12768543.py:74: FutureWarning: The frame.append method is deprecated and will be removed from pandas in a future version. Use pandas.concat instead.\n",
      "  feature_pd = feature_pd.append(pd.DataFrame(saving, index=feature).transpose(), ignore_index=True)\n",
      "/var/folders/dn/j0_7h7gx2sq58_nt9816ss480000gn/T/ipykernel_12410/12768543.py:74: FutureWarning: The frame.append method is deprecated and will be removed from pandas in a future version. Use pandas.concat instead.\n",
      "  feature_pd = feature_pd.append(pd.DataFrame(saving, index=feature).transpose(), ignore_index=True)\n"
     ]
    },
    {
     "name": "stdout",
     "output_type": "stream",
     "text": [
      "259\n",
      "260\n",
      "261\n",
      "262\n"
     ]
    },
    {
     "name": "stderr",
     "output_type": "stream",
     "text": [
      "/var/folders/dn/j0_7h7gx2sq58_nt9816ss480000gn/T/ipykernel_12410/12768543.py:74: FutureWarning: The frame.append method is deprecated and will be removed from pandas in a future version. Use pandas.concat instead.\n",
      "  feature_pd = feature_pd.append(pd.DataFrame(saving, index=feature).transpose(), ignore_index=True)\n",
      "/var/folders/dn/j0_7h7gx2sq58_nt9816ss480000gn/T/ipykernel_12410/12768543.py:74: FutureWarning: The frame.append method is deprecated and will be removed from pandas in a future version. Use pandas.concat instead.\n",
      "  feature_pd = feature_pd.append(pd.DataFrame(saving, index=feature).transpose(), ignore_index=True)\n",
      "/var/folders/dn/j0_7h7gx2sq58_nt9816ss480000gn/T/ipykernel_12410/12768543.py:74: FutureWarning: The frame.append method is deprecated and will be removed from pandas in a future version. Use pandas.concat instead.\n",
      "  feature_pd = feature_pd.append(pd.DataFrame(saving, index=feature).transpose(), ignore_index=True)\n",
      "/var/folders/dn/j0_7h7gx2sq58_nt9816ss480000gn/T/ipykernel_12410/12768543.py:74: FutureWarning: The frame.append method is deprecated and will be removed from pandas in a future version. Use pandas.concat instead.\n",
      "  feature_pd = feature_pd.append(pd.DataFrame(saving, index=feature).transpose(), ignore_index=True)\n"
     ]
    },
    {
     "name": "stdout",
     "output_type": "stream",
     "text": [
      "263\n"
     ]
    },
    {
     "name": "stderr",
     "output_type": "stream",
     "text": [
      "/var/folders/dn/j0_7h7gx2sq58_nt9816ss480000gn/T/ipykernel_12410/12768543.py:74: FutureWarning: The frame.append method is deprecated and will be removed from pandas in a future version. Use pandas.concat instead.\n",
      "  feature_pd = feature_pd.append(pd.DataFrame(saving, index=feature).transpose(), ignore_index=True)\n"
     ]
    },
    {
     "name": "stdout",
     "output_type": "stream",
     "text": [
      "264\n",
      "265\n",
      "266\n"
     ]
    },
    {
     "name": "stderr",
     "output_type": "stream",
     "text": [
      "/var/folders/dn/j0_7h7gx2sq58_nt9816ss480000gn/T/ipykernel_12410/12768543.py:74: FutureWarning: The frame.append method is deprecated and will be removed from pandas in a future version. Use pandas.concat instead.\n",
      "  feature_pd = feature_pd.append(pd.DataFrame(saving, index=feature).transpose(), ignore_index=True)\n",
      "/var/folders/dn/j0_7h7gx2sq58_nt9816ss480000gn/T/ipykernel_12410/12768543.py:74: FutureWarning: The frame.append method is deprecated and will be removed from pandas in a future version. Use pandas.concat instead.\n",
      "  feature_pd = feature_pd.append(pd.DataFrame(saving, index=feature).transpose(), ignore_index=True)\n",
      "/var/folders/dn/j0_7h7gx2sq58_nt9816ss480000gn/T/ipykernel_12410/12768543.py:74: FutureWarning: The frame.append method is deprecated and will be removed from pandas in a future version. Use pandas.concat instead.\n",
      "  feature_pd = feature_pd.append(pd.DataFrame(saving, index=feature).transpose(), ignore_index=True)\n"
     ]
    },
    {
     "name": "stdout",
     "output_type": "stream",
     "text": [
      "267\n",
      "268\n"
     ]
    },
    {
     "name": "stderr",
     "output_type": "stream",
     "text": [
      "/var/folders/dn/j0_7h7gx2sq58_nt9816ss480000gn/T/ipykernel_12410/12768543.py:74: FutureWarning: The frame.append method is deprecated and will be removed from pandas in a future version. Use pandas.concat instead.\n",
      "  feature_pd = feature_pd.append(pd.DataFrame(saving, index=feature).transpose(), ignore_index=True)\n",
      "/var/folders/dn/j0_7h7gx2sq58_nt9816ss480000gn/T/ipykernel_12410/12768543.py:74: FutureWarning: The frame.append method is deprecated and will be removed from pandas in a future version. Use pandas.concat instead.\n",
      "  feature_pd = feature_pd.append(pd.DataFrame(saving, index=feature).transpose(), ignore_index=True)\n"
     ]
    },
    {
     "name": "stdout",
     "output_type": "stream",
     "text": [
      "269\n",
      "270\n",
      "271\n"
     ]
    },
    {
     "name": "stderr",
     "output_type": "stream",
     "text": [
      "/var/folders/dn/j0_7h7gx2sq58_nt9816ss480000gn/T/ipykernel_12410/12768543.py:74: FutureWarning: The frame.append method is deprecated and will be removed from pandas in a future version. Use pandas.concat instead.\n",
      "  feature_pd = feature_pd.append(pd.DataFrame(saving, index=feature).transpose(), ignore_index=True)\n",
      "/var/folders/dn/j0_7h7gx2sq58_nt9816ss480000gn/T/ipykernel_12410/12768543.py:74: FutureWarning: The frame.append method is deprecated and will be removed from pandas in a future version. Use pandas.concat instead.\n",
      "  feature_pd = feature_pd.append(pd.DataFrame(saving, index=feature).transpose(), ignore_index=True)\n",
      "/var/folders/dn/j0_7h7gx2sq58_nt9816ss480000gn/T/ipykernel_12410/12768543.py:74: FutureWarning: The frame.append method is deprecated and will be removed from pandas in a future version. Use pandas.concat instead.\n",
      "  feature_pd = feature_pd.append(pd.DataFrame(saving, index=feature).transpose(), ignore_index=True)\n"
     ]
    },
    {
     "name": "stdout",
     "output_type": "stream",
     "text": [
      "272\n",
      "273\n",
      "274\n"
     ]
    },
    {
     "name": "stderr",
     "output_type": "stream",
     "text": [
      "/var/folders/dn/j0_7h7gx2sq58_nt9816ss480000gn/T/ipykernel_12410/12768543.py:74: FutureWarning: The frame.append method is deprecated and will be removed from pandas in a future version. Use pandas.concat instead.\n",
      "  feature_pd = feature_pd.append(pd.DataFrame(saving, index=feature).transpose(), ignore_index=True)\n",
      "/var/folders/dn/j0_7h7gx2sq58_nt9816ss480000gn/T/ipykernel_12410/12768543.py:74: FutureWarning: The frame.append method is deprecated and will be removed from pandas in a future version. Use pandas.concat instead.\n",
      "  feature_pd = feature_pd.append(pd.DataFrame(saving, index=feature).transpose(), ignore_index=True)\n",
      "/var/folders/dn/j0_7h7gx2sq58_nt9816ss480000gn/T/ipykernel_12410/12768543.py:74: FutureWarning: The frame.append method is deprecated and will be removed from pandas in a future version. Use pandas.concat instead.\n",
      "  feature_pd = feature_pd.append(pd.DataFrame(saving, index=feature).transpose(), ignore_index=True)\n"
     ]
    },
    {
     "name": "stdout",
     "output_type": "stream",
     "text": [
      "275\n",
      "276\n",
      "277\n"
     ]
    },
    {
     "name": "stderr",
     "output_type": "stream",
     "text": [
      "/var/folders/dn/j0_7h7gx2sq58_nt9816ss480000gn/T/ipykernel_12410/12768543.py:74: FutureWarning: The frame.append method is deprecated and will be removed from pandas in a future version. Use pandas.concat instead.\n",
      "  feature_pd = feature_pd.append(pd.DataFrame(saving, index=feature).transpose(), ignore_index=True)\n",
      "/var/folders/dn/j0_7h7gx2sq58_nt9816ss480000gn/T/ipykernel_12410/12768543.py:74: FutureWarning: The frame.append method is deprecated and will be removed from pandas in a future version. Use pandas.concat instead.\n",
      "  feature_pd = feature_pd.append(pd.DataFrame(saving, index=feature).transpose(), ignore_index=True)\n",
      "/var/folders/dn/j0_7h7gx2sq58_nt9816ss480000gn/T/ipykernel_12410/12768543.py:74: FutureWarning: The frame.append method is deprecated and will be removed from pandas in a future version. Use pandas.concat instead.\n",
      "  feature_pd = feature_pd.append(pd.DataFrame(saving, index=feature).transpose(), ignore_index=True)\n"
     ]
    },
    {
     "name": "stdout",
     "output_type": "stream",
     "text": [
      "278\n",
      "279\n",
      "280\n"
     ]
    },
    {
     "name": "stderr",
     "output_type": "stream",
     "text": [
      "/var/folders/dn/j0_7h7gx2sq58_nt9816ss480000gn/T/ipykernel_12410/12768543.py:74: FutureWarning: The frame.append method is deprecated and will be removed from pandas in a future version. Use pandas.concat instead.\n",
      "  feature_pd = feature_pd.append(pd.DataFrame(saving, index=feature).transpose(), ignore_index=True)\n",
      "/var/folders/dn/j0_7h7gx2sq58_nt9816ss480000gn/T/ipykernel_12410/12768543.py:74: FutureWarning: The frame.append method is deprecated and will be removed from pandas in a future version. Use pandas.concat instead.\n",
      "  feature_pd = feature_pd.append(pd.DataFrame(saving, index=feature).transpose(), ignore_index=True)\n",
      "/var/folders/dn/j0_7h7gx2sq58_nt9816ss480000gn/T/ipykernel_12410/12768543.py:74: FutureWarning: The frame.append method is deprecated and will be removed from pandas in a future version. Use pandas.concat instead.\n",
      "  feature_pd = feature_pd.append(pd.DataFrame(saving, index=feature).transpose(), ignore_index=True)\n"
     ]
    },
    {
     "name": "stdout",
     "output_type": "stream",
     "text": [
      "281\n"
     ]
    },
    {
     "name": "stderr",
     "output_type": "stream",
     "text": [
      "/var/folders/dn/j0_7h7gx2sq58_nt9816ss480000gn/T/ipykernel_12410/12768543.py:74: FutureWarning: The frame.append method is deprecated and will be removed from pandas in a future version. Use pandas.concat instead.\n",
      "  feature_pd = feature_pd.append(pd.DataFrame(saving, index=feature).transpose(), ignore_index=True)\n"
     ]
    },
    {
     "name": "stdout",
     "output_type": "stream",
     "text": [
      "282\n",
      "283\n",
      "284\n",
      "285\n"
     ]
    },
    {
     "name": "stderr",
     "output_type": "stream",
     "text": [
      "/var/folders/dn/j0_7h7gx2sq58_nt9816ss480000gn/T/ipykernel_12410/12768543.py:74: FutureWarning: The frame.append method is deprecated and will be removed from pandas in a future version. Use pandas.concat instead.\n",
      "  feature_pd = feature_pd.append(pd.DataFrame(saving, index=feature).transpose(), ignore_index=True)\n",
      "/var/folders/dn/j0_7h7gx2sq58_nt9816ss480000gn/T/ipykernel_12410/12768543.py:74: FutureWarning: The frame.append method is deprecated and will be removed from pandas in a future version. Use pandas.concat instead.\n",
      "  feature_pd = feature_pd.append(pd.DataFrame(saving, index=feature).transpose(), ignore_index=True)\n",
      "/var/folders/dn/j0_7h7gx2sq58_nt9816ss480000gn/T/ipykernel_12410/12768543.py:74: FutureWarning: The frame.append method is deprecated and will be removed from pandas in a future version. Use pandas.concat instead.\n",
      "  feature_pd = feature_pd.append(pd.DataFrame(saving, index=feature).transpose(), ignore_index=True)\n",
      "/var/folders/dn/j0_7h7gx2sq58_nt9816ss480000gn/T/ipykernel_12410/12768543.py:74: FutureWarning: The frame.append method is deprecated and will be removed from pandas in a future version. Use pandas.concat instead.\n",
      "  feature_pd = feature_pd.append(pd.DataFrame(saving, index=feature).transpose(), ignore_index=True)\n"
     ]
    },
    {
     "name": "stdout",
     "output_type": "stream",
     "text": [
      "286\n",
      "287\n"
     ]
    },
    {
     "name": "stderr",
     "output_type": "stream",
     "text": [
      "/var/folders/dn/j0_7h7gx2sq58_nt9816ss480000gn/T/ipykernel_12410/12768543.py:74: FutureWarning: The frame.append method is deprecated and will be removed from pandas in a future version. Use pandas.concat instead.\n",
      "  feature_pd = feature_pd.append(pd.DataFrame(saving, index=feature).transpose(), ignore_index=True)\n",
      "/var/folders/dn/j0_7h7gx2sq58_nt9816ss480000gn/T/ipykernel_12410/12768543.py:74: FutureWarning: The frame.append method is deprecated and will be removed from pandas in a future version. Use pandas.concat instead.\n",
      "  feature_pd = feature_pd.append(pd.DataFrame(saving, index=feature).transpose(), ignore_index=True)\n"
     ]
    },
    {
     "name": "stdout",
     "output_type": "stream",
     "text": [
      "288\n",
      "289\n",
      "290\n",
      "291\n"
     ]
    },
    {
     "name": "stderr",
     "output_type": "stream",
     "text": [
      "/var/folders/dn/j0_7h7gx2sq58_nt9816ss480000gn/T/ipykernel_12410/12768543.py:74: FutureWarning: The frame.append method is deprecated and will be removed from pandas in a future version. Use pandas.concat instead.\n",
      "  feature_pd = feature_pd.append(pd.DataFrame(saving, index=feature).transpose(), ignore_index=True)\n",
      "/var/folders/dn/j0_7h7gx2sq58_nt9816ss480000gn/T/ipykernel_12410/12768543.py:74: FutureWarning: The frame.append method is deprecated and will be removed from pandas in a future version. Use pandas.concat instead.\n",
      "  feature_pd = feature_pd.append(pd.DataFrame(saving, index=feature).transpose(), ignore_index=True)\n",
      "/var/folders/dn/j0_7h7gx2sq58_nt9816ss480000gn/T/ipykernel_12410/12768543.py:74: FutureWarning: The frame.append method is deprecated and will be removed from pandas in a future version. Use pandas.concat instead.\n",
      "  feature_pd = feature_pd.append(pd.DataFrame(saving, index=feature).transpose(), ignore_index=True)\n",
      "/var/folders/dn/j0_7h7gx2sq58_nt9816ss480000gn/T/ipykernel_12410/12768543.py:74: FutureWarning: The frame.append method is deprecated and will be removed from pandas in a future version. Use pandas.concat instead.\n",
      "  feature_pd = feature_pd.append(pd.DataFrame(saving, index=feature).transpose(), ignore_index=True)\n"
     ]
    },
    {
     "name": "stdout",
     "output_type": "stream",
     "text": [
      "292\n",
      "293\n"
     ]
    },
    {
     "name": "stderr",
     "output_type": "stream",
     "text": [
      "/var/folders/dn/j0_7h7gx2sq58_nt9816ss480000gn/T/ipykernel_12410/12768543.py:74: FutureWarning: The frame.append method is deprecated and will be removed from pandas in a future version. Use pandas.concat instead.\n",
      "  feature_pd = feature_pd.append(pd.DataFrame(saving, index=feature).transpose(), ignore_index=True)\n",
      "/var/folders/dn/j0_7h7gx2sq58_nt9816ss480000gn/T/ipykernel_12410/12768543.py:74: FutureWarning: The frame.append method is deprecated and will be removed from pandas in a future version. Use pandas.concat instead.\n",
      "  feature_pd = feature_pd.append(pd.DataFrame(saving, index=feature).transpose(), ignore_index=True)\n"
     ]
    },
    {
     "name": "stdout",
     "output_type": "stream",
     "text": [
      "294\n",
      "295\n",
      "296\n"
     ]
    },
    {
     "name": "stderr",
     "output_type": "stream",
     "text": [
      "/var/folders/dn/j0_7h7gx2sq58_nt9816ss480000gn/T/ipykernel_12410/12768543.py:74: FutureWarning: The frame.append method is deprecated and will be removed from pandas in a future version. Use pandas.concat instead.\n",
      "  feature_pd = feature_pd.append(pd.DataFrame(saving, index=feature).transpose(), ignore_index=True)\n",
      "/var/folders/dn/j0_7h7gx2sq58_nt9816ss480000gn/T/ipykernel_12410/12768543.py:74: FutureWarning: The frame.append method is deprecated and will be removed from pandas in a future version. Use pandas.concat instead.\n",
      "  feature_pd = feature_pd.append(pd.DataFrame(saving, index=feature).transpose(), ignore_index=True)\n",
      "/var/folders/dn/j0_7h7gx2sq58_nt9816ss480000gn/T/ipykernel_12410/12768543.py:74: FutureWarning: The frame.append method is deprecated and will be removed from pandas in a future version. Use pandas.concat instead.\n",
      "  feature_pd = feature_pd.append(pd.DataFrame(saving, index=feature).transpose(), ignore_index=True)\n"
     ]
    },
    {
     "name": "stdout",
     "output_type": "stream",
     "text": [
      "297\n",
      "298\n",
      "299\n"
     ]
    },
    {
     "name": "stderr",
     "output_type": "stream",
     "text": [
      "/var/folders/dn/j0_7h7gx2sq58_nt9816ss480000gn/T/ipykernel_12410/12768543.py:74: FutureWarning: The frame.append method is deprecated and will be removed from pandas in a future version. Use pandas.concat instead.\n",
      "  feature_pd = feature_pd.append(pd.DataFrame(saving, index=feature).transpose(), ignore_index=True)\n",
      "/var/folders/dn/j0_7h7gx2sq58_nt9816ss480000gn/T/ipykernel_12410/12768543.py:74: FutureWarning: The frame.append method is deprecated and will be removed from pandas in a future version. Use pandas.concat instead.\n",
      "  feature_pd = feature_pd.append(pd.DataFrame(saving, index=feature).transpose(), ignore_index=True)\n",
      "/var/folders/dn/j0_7h7gx2sq58_nt9816ss480000gn/T/ipykernel_12410/12768543.py:74: FutureWarning: The frame.append method is deprecated and will be removed from pandas in a future version. Use pandas.concat instead.\n",
      "  feature_pd = feature_pd.append(pd.DataFrame(saving, index=feature).transpose(), ignore_index=True)\n"
     ]
    },
    {
     "name": "stdout",
     "output_type": "stream",
     "text": [
      "300\n",
      "301\n",
      "302\n"
     ]
    },
    {
     "name": "stderr",
     "output_type": "stream",
     "text": [
      "/var/folders/dn/j0_7h7gx2sq58_nt9816ss480000gn/T/ipykernel_12410/12768543.py:74: FutureWarning: The frame.append method is deprecated and will be removed from pandas in a future version. Use pandas.concat instead.\n",
      "  feature_pd = feature_pd.append(pd.DataFrame(saving, index=feature).transpose(), ignore_index=True)\n",
      "/var/folders/dn/j0_7h7gx2sq58_nt9816ss480000gn/T/ipykernel_12410/12768543.py:74: FutureWarning: The frame.append method is deprecated and will be removed from pandas in a future version. Use pandas.concat instead.\n",
      "  feature_pd = feature_pd.append(pd.DataFrame(saving, index=feature).transpose(), ignore_index=True)\n",
      "/var/folders/dn/j0_7h7gx2sq58_nt9816ss480000gn/T/ipykernel_12410/12768543.py:74: FutureWarning: The frame.append method is deprecated and will be removed from pandas in a future version. Use pandas.concat instead.\n",
      "  feature_pd = feature_pd.append(pd.DataFrame(saving, index=feature).transpose(), ignore_index=True)\n"
     ]
    },
    {
     "name": "stdout",
     "output_type": "stream",
     "text": [
      "303\n",
      "304\n",
      "305\n"
     ]
    },
    {
     "name": "stderr",
     "output_type": "stream",
     "text": [
      "/var/folders/dn/j0_7h7gx2sq58_nt9816ss480000gn/T/ipykernel_12410/12768543.py:74: FutureWarning: The frame.append method is deprecated and will be removed from pandas in a future version. Use pandas.concat instead.\n",
      "  feature_pd = feature_pd.append(pd.DataFrame(saving, index=feature).transpose(), ignore_index=True)\n",
      "/var/folders/dn/j0_7h7gx2sq58_nt9816ss480000gn/T/ipykernel_12410/12768543.py:74: FutureWarning: The frame.append method is deprecated and will be removed from pandas in a future version. Use pandas.concat instead.\n",
      "  feature_pd = feature_pd.append(pd.DataFrame(saving, index=feature).transpose(), ignore_index=True)\n",
      "/var/folders/dn/j0_7h7gx2sq58_nt9816ss480000gn/T/ipykernel_12410/12768543.py:74: FutureWarning: The frame.append method is deprecated and will be removed from pandas in a future version. Use pandas.concat instead.\n",
      "  feature_pd = feature_pd.append(pd.DataFrame(saving, index=feature).transpose(), ignore_index=True)\n"
     ]
    },
    {
     "name": "stdout",
     "output_type": "stream",
     "text": [
      "306\n"
     ]
    },
    {
     "name": "stderr",
     "output_type": "stream",
     "text": [
      "/var/folders/dn/j0_7h7gx2sq58_nt9816ss480000gn/T/ipykernel_12410/12768543.py:74: FutureWarning: The frame.append method is deprecated and will be removed from pandas in a future version. Use pandas.concat instead.\n",
      "  feature_pd = feature_pd.append(pd.DataFrame(saving, index=feature).transpose(), ignore_index=True)\n"
     ]
    },
    {
     "name": "stdout",
     "output_type": "stream",
     "text": [
      "307\n",
      "308\n",
      "309\n"
     ]
    },
    {
     "name": "stderr",
     "output_type": "stream",
     "text": [
      "/var/folders/dn/j0_7h7gx2sq58_nt9816ss480000gn/T/ipykernel_12410/12768543.py:74: FutureWarning: The frame.append method is deprecated and will be removed from pandas in a future version. Use pandas.concat instead.\n",
      "  feature_pd = feature_pd.append(pd.DataFrame(saving, index=feature).transpose(), ignore_index=True)\n",
      "/var/folders/dn/j0_7h7gx2sq58_nt9816ss480000gn/T/ipykernel_12410/12768543.py:74: FutureWarning: The frame.append method is deprecated and will be removed from pandas in a future version. Use pandas.concat instead.\n",
      "  feature_pd = feature_pd.append(pd.DataFrame(saving, index=feature).transpose(), ignore_index=True)\n",
      "/var/folders/dn/j0_7h7gx2sq58_nt9816ss480000gn/T/ipykernel_12410/12768543.py:74: FutureWarning: The frame.append method is deprecated and will be removed from pandas in a future version. Use pandas.concat instead.\n",
      "  feature_pd = feature_pd.append(pd.DataFrame(saving, index=feature).transpose(), ignore_index=True)\n"
     ]
    },
    {
     "name": "stdout",
     "output_type": "stream",
     "text": [
      "310\n",
      "311\n",
      "312\n"
     ]
    },
    {
     "name": "stderr",
     "output_type": "stream",
     "text": [
      "/var/folders/dn/j0_7h7gx2sq58_nt9816ss480000gn/T/ipykernel_12410/12768543.py:74: FutureWarning: The frame.append method is deprecated and will be removed from pandas in a future version. Use pandas.concat instead.\n",
      "  feature_pd = feature_pd.append(pd.DataFrame(saving, index=feature).transpose(), ignore_index=True)\n",
      "/var/folders/dn/j0_7h7gx2sq58_nt9816ss480000gn/T/ipykernel_12410/12768543.py:74: FutureWarning: The frame.append method is deprecated and will be removed from pandas in a future version. Use pandas.concat instead.\n",
      "  feature_pd = feature_pd.append(pd.DataFrame(saving, index=feature).transpose(), ignore_index=True)\n",
      "/var/folders/dn/j0_7h7gx2sq58_nt9816ss480000gn/T/ipykernel_12410/12768543.py:74: FutureWarning: The frame.append method is deprecated and will be removed from pandas in a future version. Use pandas.concat instead.\n",
      "  feature_pd = feature_pd.append(pd.DataFrame(saving, index=feature).transpose(), ignore_index=True)\n"
     ]
    },
    {
     "name": "stdout",
     "output_type": "stream",
     "text": [
      "313\n",
      "314\n"
     ]
    },
    {
     "name": "stderr",
     "output_type": "stream",
     "text": [
      "/var/folders/dn/j0_7h7gx2sq58_nt9816ss480000gn/T/ipykernel_12410/12768543.py:74: FutureWarning: The frame.append method is deprecated and will be removed from pandas in a future version. Use pandas.concat instead.\n",
      "  feature_pd = feature_pd.append(pd.DataFrame(saving, index=feature).transpose(), ignore_index=True)\n",
      "/var/folders/dn/j0_7h7gx2sq58_nt9816ss480000gn/T/ipykernel_12410/12768543.py:74: FutureWarning: The frame.append method is deprecated and will be removed from pandas in a future version. Use pandas.concat instead.\n",
      "  feature_pd = feature_pd.append(pd.DataFrame(saving, index=feature).transpose(), ignore_index=True)\n"
     ]
    }
   ],
   "source": [
    "for i in range(315):\n",
    "    saving = []\n",
    "    saving.append(label[i])\n",
    "    stft = np.abs(librosa.stft(raw[i]))\n",
    "    #flatness\n",
    "    flatness = np.mean(librosa.feature.spectral_flatness(y=raw[i]))\n",
    "    saving.append(flatness)\n",
    "    #zero-crossing\n",
    "    zerocr = np.mean(librosa.feature.zero_crossing_rate(raw[i]))\n",
    "    saving.append(zerocr)\n",
    "\n",
    "    S, phase = librosa.magphase(stft)\n",
    "    meanMagnitude = np.mean(S)\n",
    "    stdMagnitude = np.std(S)\n",
    "    maxMagnitude = np.max(S)\n",
    "    saving.append(meanMagnitude)\n",
    "    saving.append(maxMagnitude)\n",
    "\n",
    "    #Centroid\n",
    "    cent = librosa.feature.spectral_centroid(y=raw[i], sr=fs)\n",
    "    cent = cent / np.sum(cent)\n",
    "    meancent = np.mean(cent)\n",
    "    stdcent = np.std(cent)\n",
    "    maxcent = np.max(cent)\n",
    "    saving.append(meancent)\n",
    "    saving.append(stdcent)\n",
    "    saving.append(maxcent)\n",
    "    saving.append(stdMagnitude)\n",
    "\n",
    "    # pitch\n",
    "    pitches, magnitudes = librosa.piptrack(y=raw[i], sr=fs, S=stft, fmin=70, fmax=400)\n",
    "    pitch = []\n",
    "    for j in range(magnitudes.shape[1]):\n",
    "        indexs = magnitudes[:, 1].argmax()\n",
    "        pitch.append(pitches[indexs, j])\n",
    "    pitch_tuning_offset = librosa.pitch_tuning(pitches)\n",
    "    pitchmean = np.mean(pitch)\n",
    "    pitchstd = np.std(pitch)\n",
    "    pitchmax = np.max(pitch)\n",
    "    pitchmin = np.min(pitch)\n",
    "    saving.append(pitchmean)\n",
    "    saving.append(pitchmax)\n",
    "    saving.append(pitchstd)\n",
    "    saving.append(pitch_tuning_offset)\n",
    "\n",
    "    #rmse\n",
    "    rmse = librosa.feature.rms(S=S)[0]\n",
    "    meanrms = np.mean(rmse)\n",
    "    stdrms = np.std(rmse)\n",
    "    maxrms = np.max(rmse)\n",
    "    saving.append(meanrms)\n",
    "    saving.append(maxrms)\n",
    "    saving.append(stdrms)\n",
    "\n",
    "    #mfcc\n",
    "    mfccs = np.mean(librosa.feature.mfcc(y=raw[i], sr=fs, n_mfcc=50).T, axis=0)\n",
    "    mfccsstd = np.std(librosa.feature.mfcc(y=raw[i], sr=fs, n_mfcc=50).T, axis=0)\n",
    "    mfccmax = np.max(librosa.feature.mfcc(y=raw[i], sr=fs, n_mfcc=50).T, axis=0)\n",
    "    saving.extend(mfccs.tolist())\n",
    "    saving.extend(mfccsstd.tolist())\n",
    "    saving.extend(mfccmax.tolist())\n",
    "\n",
    "    #chromagram\n",
    "    chroma = np.mean(librosa.feature.chroma_stft(S=stft, sr=fs).T, axis=0)\n",
    "    saving.extend(chroma.tolist())\n",
    "\n",
    "    #mels\n",
    "    mel = np.mean(librosa.feature.melspectrogram(y=raw[i], sr=fs).T, axis=0)\n",
    "    saving.extend(mel.tolist())\n",
    "    #ottava对比\n",
    "    contrast = np.mean(librosa.feature.spectral_contrast(S=stft, sr=fs).T, axis=0)\n",
    "    saving.extend(contrast.tolist())\n",
    "    print(i)\n",
    "    feature_pd = feature_pd.append(pd.DataFrame(saving, index=feature).transpose(), ignore_index=True)"
   ],
   "metadata": {
    "collapsed": false,
    "pycharm": {
     "name": "#%%\n"
    }
   }
  },
  {
   "cell_type": "code",
   "execution_count": 13,
   "outputs": [],
   "source": [
    "# Save as CSV File\n",
    "feature_pd.to_csv('testcaca.csv', index=False)"
   ],
   "metadata": {
    "collapsed": false,
    "pycharm": {
     "name": "#%%\n"
    }
   }
  },
  {
   "cell_type": "code",
   "execution_count": 12,
   "outputs": [
    {
     "data": {
      "text/plain": "       emotion  flatness    zerocr   meanMag     maxMag  meancent   stdcent  \\\n0    sample126  0.015528  0.087085  0.070772   15.75928   0.00625  0.005655   \n1    sample132  0.009618  0.071732  0.178309  22.532114  0.008403  0.006198   \n2    sample293  0.012239  0.077164  0.315822  96.385171  0.006211  0.003992   \n3    sample287  0.009297  0.079915  0.468824  70.299249  0.007407  0.004992   \n4    sample278  0.019939  0.062083  0.036468  11.851839  0.004032  0.002874   \n..         ...       ...       ...       ...        ...       ...       ...   \n310  sample261  0.003577  0.047503  0.094719  30.975827  0.006369  0.003669   \n311  sample275  0.005997  0.049146  0.067331  15.693934  0.006024  0.003276   \n312  sample301  0.012417  0.066659   0.02594   8.286562  0.005814  0.003998   \n313  sample117  0.013496  0.047937  0.018764  14.254542  0.003704  0.002247   \n314  sample103  0.007591  0.050785  0.017043   7.745109  0.006757  0.004448   \n\n      maxcent    stdMag   pitchmean  ... mels126_mean mels127_mean  \\\n0    0.018733  0.361107   82.917546  ...          0.0          0.0   \n1    0.026034  0.724208   59.667287  ...      0.00001     0.000001   \n2    0.017512  1.761209   67.423299  ...     0.000016     0.000001   \n3    0.022235  2.371914   71.206999  ...     0.000052     0.000005   \n4    0.018908  0.224354  101.459327  ...     0.000001          0.0   \n..        ...       ...         ...  ...          ...          ...   \n310  0.019176  0.587049  121.229031  ...     0.000001          0.0   \n311  0.014909  0.379183   40.663742  ...          0.0          0.0   \n312  0.016155  0.164348         0.0  ...          0.0          0.0   \n313   0.01001  0.188882    2.956083  ...          0.0          0.0   \n314  0.019109  0.112467    59.80808  ...          0.0          0.0   \n\n    mels128_mean contrast1_mean contrast2_mean contrast3_mean contrast4_mean  \\\n0            0.0      17.356484      13.458761      16.395743      16.597768   \n1            0.0      19.928806      13.987185      16.997238      17.294785   \n2            0.0      18.581371      19.169468      20.179739      19.424581   \n3            0.0      19.430849      15.088321      18.531389      17.738966   \n4            0.0      20.067168      10.245237      14.382245      14.172796   \n..           ...            ...            ...            ...            ...   \n310          0.0      17.961796       13.84973        17.6787      16.690567   \n311          0.0      18.822102      15.729889      19.049431      17.858672   \n312          0.0      15.752075      14.856104      16.306742      16.804416   \n313          0.0      14.954121      15.055287      14.809998      16.169041   \n314          0.0      16.154977      11.079539      16.006785      16.834973   \n\n    contrast5_mean contrast6_mean contrast7_mean  \n0        18.669926      22.138548      25.247338  \n1        17.482041      23.376291      27.859975  \n2        19.973051      19.451462      31.962849  \n3        18.560208      24.146823      32.266224  \n4        17.777726      19.170206      22.080153  \n..             ...            ...            ...  \n310      19.884503       19.65532      25.197853  \n311      20.103282      18.359068      26.559382  \n312      18.454394      18.025632      22.880373  \n313      19.172355      18.726308      19.920733  \n314      17.614164      18.545945      21.235576  \n\n[315 rows x 313 columns]",
      "text/html": "<div>\n<style scoped>\n    .dataframe tbody tr th:only-of-type {\n        vertical-align: middle;\n    }\n\n    .dataframe tbody tr th {\n        vertical-align: top;\n    }\n\n    .dataframe thead th {\n        text-align: right;\n    }\n</style>\n<table border=\"1\" class=\"dataframe\">\n  <thead>\n    <tr style=\"text-align: right;\">\n      <th></th>\n      <th>emotion</th>\n      <th>flatness</th>\n      <th>zerocr</th>\n      <th>meanMag</th>\n      <th>maxMag</th>\n      <th>meancent</th>\n      <th>stdcent</th>\n      <th>maxcent</th>\n      <th>stdMag</th>\n      <th>pitchmean</th>\n      <th>...</th>\n      <th>mels126_mean</th>\n      <th>mels127_mean</th>\n      <th>mels128_mean</th>\n      <th>contrast1_mean</th>\n      <th>contrast2_mean</th>\n      <th>contrast3_mean</th>\n      <th>contrast4_mean</th>\n      <th>contrast5_mean</th>\n      <th>contrast6_mean</th>\n      <th>contrast7_mean</th>\n    </tr>\n  </thead>\n  <tbody>\n    <tr>\n      <th>0</th>\n      <td>sample126</td>\n      <td>0.015528</td>\n      <td>0.087085</td>\n      <td>0.070772</td>\n      <td>15.75928</td>\n      <td>0.00625</td>\n      <td>0.005655</td>\n      <td>0.018733</td>\n      <td>0.361107</td>\n      <td>82.917546</td>\n      <td>...</td>\n      <td>0.0</td>\n      <td>0.0</td>\n      <td>0.0</td>\n      <td>17.356484</td>\n      <td>13.458761</td>\n      <td>16.395743</td>\n      <td>16.597768</td>\n      <td>18.669926</td>\n      <td>22.138548</td>\n      <td>25.247338</td>\n    </tr>\n    <tr>\n      <th>1</th>\n      <td>sample132</td>\n      <td>0.009618</td>\n      <td>0.071732</td>\n      <td>0.178309</td>\n      <td>22.532114</td>\n      <td>0.008403</td>\n      <td>0.006198</td>\n      <td>0.026034</td>\n      <td>0.724208</td>\n      <td>59.667287</td>\n      <td>...</td>\n      <td>0.00001</td>\n      <td>0.000001</td>\n      <td>0.0</td>\n      <td>19.928806</td>\n      <td>13.987185</td>\n      <td>16.997238</td>\n      <td>17.294785</td>\n      <td>17.482041</td>\n      <td>23.376291</td>\n      <td>27.859975</td>\n    </tr>\n    <tr>\n      <th>2</th>\n      <td>sample293</td>\n      <td>0.012239</td>\n      <td>0.077164</td>\n      <td>0.315822</td>\n      <td>96.385171</td>\n      <td>0.006211</td>\n      <td>0.003992</td>\n      <td>0.017512</td>\n      <td>1.761209</td>\n      <td>67.423299</td>\n      <td>...</td>\n      <td>0.000016</td>\n      <td>0.000001</td>\n      <td>0.0</td>\n      <td>18.581371</td>\n      <td>19.169468</td>\n      <td>20.179739</td>\n      <td>19.424581</td>\n      <td>19.973051</td>\n      <td>19.451462</td>\n      <td>31.962849</td>\n    </tr>\n    <tr>\n      <th>3</th>\n      <td>sample287</td>\n      <td>0.009297</td>\n      <td>0.079915</td>\n      <td>0.468824</td>\n      <td>70.299249</td>\n      <td>0.007407</td>\n      <td>0.004992</td>\n      <td>0.022235</td>\n      <td>2.371914</td>\n      <td>71.206999</td>\n      <td>...</td>\n      <td>0.000052</td>\n      <td>0.000005</td>\n      <td>0.0</td>\n      <td>19.430849</td>\n      <td>15.088321</td>\n      <td>18.531389</td>\n      <td>17.738966</td>\n      <td>18.560208</td>\n      <td>24.146823</td>\n      <td>32.266224</td>\n    </tr>\n    <tr>\n      <th>4</th>\n      <td>sample278</td>\n      <td>0.019939</td>\n      <td>0.062083</td>\n      <td>0.036468</td>\n      <td>11.851839</td>\n      <td>0.004032</td>\n      <td>0.002874</td>\n      <td>0.018908</td>\n      <td>0.224354</td>\n      <td>101.459327</td>\n      <td>...</td>\n      <td>0.000001</td>\n      <td>0.0</td>\n      <td>0.0</td>\n      <td>20.067168</td>\n      <td>10.245237</td>\n      <td>14.382245</td>\n      <td>14.172796</td>\n      <td>17.777726</td>\n      <td>19.170206</td>\n      <td>22.080153</td>\n    </tr>\n    <tr>\n      <th>...</th>\n      <td>...</td>\n      <td>...</td>\n      <td>...</td>\n      <td>...</td>\n      <td>...</td>\n      <td>...</td>\n      <td>...</td>\n      <td>...</td>\n      <td>...</td>\n      <td>...</td>\n      <td>...</td>\n      <td>...</td>\n      <td>...</td>\n      <td>...</td>\n      <td>...</td>\n      <td>...</td>\n      <td>...</td>\n      <td>...</td>\n      <td>...</td>\n      <td>...</td>\n      <td>...</td>\n    </tr>\n    <tr>\n      <th>310</th>\n      <td>sample261</td>\n      <td>0.003577</td>\n      <td>0.047503</td>\n      <td>0.094719</td>\n      <td>30.975827</td>\n      <td>0.006369</td>\n      <td>0.003669</td>\n      <td>0.019176</td>\n      <td>0.587049</td>\n      <td>121.229031</td>\n      <td>...</td>\n      <td>0.000001</td>\n      <td>0.0</td>\n      <td>0.0</td>\n      <td>17.961796</td>\n      <td>13.84973</td>\n      <td>17.6787</td>\n      <td>16.690567</td>\n      <td>19.884503</td>\n      <td>19.65532</td>\n      <td>25.197853</td>\n    </tr>\n    <tr>\n      <th>311</th>\n      <td>sample275</td>\n      <td>0.005997</td>\n      <td>0.049146</td>\n      <td>0.067331</td>\n      <td>15.693934</td>\n      <td>0.006024</td>\n      <td>0.003276</td>\n      <td>0.014909</td>\n      <td>0.379183</td>\n      <td>40.663742</td>\n      <td>...</td>\n      <td>0.0</td>\n      <td>0.0</td>\n      <td>0.0</td>\n      <td>18.822102</td>\n      <td>15.729889</td>\n      <td>19.049431</td>\n      <td>17.858672</td>\n      <td>20.103282</td>\n      <td>18.359068</td>\n      <td>26.559382</td>\n    </tr>\n    <tr>\n      <th>312</th>\n      <td>sample301</td>\n      <td>0.012417</td>\n      <td>0.066659</td>\n      <td>0.02594</td>\n      <td>8.286562</td>\n      <td>0.005814</td>\n      <td>0.003998</td>\n      <td>0.016155</td>\n      <td>0.164348</td>\n      <td>0.0</td>\n      <td>...</td>\n      <td>0.0</td>\n      <td>0.0</td>\n      <td>0.0</td>\n      <td>15.752075</td>\n      <td>14.856104</td>\n      <td>16.306742</td>\n      <td>16.804416</td>\n      <td>18.454394</td>\n      <td>18.025632</td>\n      <td>22.880373</td>\n    </tr>\n    <tr>\n      <th>313</th>\n      <td>sample117</td>\n      <td>0.013496</td>\n      <td>0.047937</td>\n      <td>0.018764</td>\n      <td>14.254542</td>\n      <td>0.003704</td>\n      <td>0.002247</td>\n      <td>0.01001</td>\n      <td>0.188882</td>\n      <td>2.956083</td>\n      <td>...</td>\n      <td>0.0</td>\n      <td>0.0</td>\n      <td>0.0</td>\n      <td>14.954121</td>\n      <td>15.055287</td>\n      <td>14.809998</td>\n      <td>16.169041</td>\n      <td>19.172355</td>\n      <td>18.726308</td>\n      <td>19.920733</td>\n    </tr>\n    <tr>\n      <th>314</th>\n      <td>sample103</td>\n      <td>0.007591</td>\n      <td>0.050785</td>\n      <td>0.017043</td>\n      <td>7.745109</td>\n      <td>0.006757</td>\n      <td>0.004448</td>\n      <td>0.019109</td>\n      <td>0.112467</td>\n      <td>59.80808</td>\n      <td>...</td>\n      <td>0.0</td>\n      <td>0.0</td>\n      <td>0.0</td>\n      <td>16.154977</td>\n      <td>11.079539</td>\n      <td>16.006785</td>\n      <td>16.834973</td>\n      <td>17.614164</td>\n      <td>18.545945</td>\n      <td>21.235576</td>\n    </tr>\n  </tbody>\n</table>\n<p>315 rows × 313 columns</p>\n</div>"
     },
     "execution_count": 12,
     "metadata": {},
     "output_type": "execute_result"
    }
   ],
   "source": [
    "feature_pd"
   ],
   "metadata": {
    "collapsed": false,
    "pycharm": {
     "name": "#%%\n"
    }
   }
  },
  {
   "cell_type": "code",
   "execution_count": null,
   "outputs": [],
   "source": [],
   "metadata": {
    "collapsed": false,
    "pycharm": {
     "name": "#%%\n"
    }
   }
  }
 ],
 "metadata": {
  "kernelspec": {
   "display_name": "Python 3",
   "language": "python",
   "name": "python3"
  },
  "language_info": {
   "codemirror_mode": {
    "name": "ipython",
    "version": 2
   },
   "file_extension": ".py",
   "mimetype": "text/x-python",
   "name": "python",
   "nbconvert_exporter": "python",
   "pygments_lexer": "ipython2",
   "version": "2.7.6"
  }
 },
 "nbformat": 4,
 "nbformat_minor": 0
}