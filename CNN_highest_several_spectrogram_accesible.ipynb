{
  "nbformat": 4,
  "nbformat_minor": 0,
  "metadata": {
    "colab": {
      "provenance": []
    },
    "kernelspec": {
      "name": "python3",
      "display_name": "Python 3"
    },
    "language_info": {
      "name": "python"
    }
  },
  "cells": [
    {
      "cell_type": "markdown",
      "source": [
        "Data Preparation"
      ],
      "metadata": {
        "id": "4K8Qz_7t4vNJ"
      }
    },
    {
      "cell_type": "code",
      "execution_count": 1,
      "metadata": {
        "id": "GOa2Ymyi4c91",
        "colab": {
          "base_uri": "https://localhost:8080/"
        },
        "outputId": "a4d9ba6c-0f3b-471e-93ae-20e147216571"
      },
      "outputs": [
        {
          "output_type": "stream",
          "name": "stdout",
          "text": [
            "/content\n",
            "drive  sample_data\n"
          ]
        }
      ],
      "source": [
        "!pwd\n",
        "!ls"
      ]
    },
    {
      "cell_type": "code",
      "source": [
        "path = \"/content/drive/MyDrive/ELEC301/data\"\n",
        "os.chdir(path)"
      ],
      "metadata": {
        "id": "ivzLa1fw4kme"
      },
      "execution_count": null,
      "outputs": []
    },
    {
      "cell_type": "code",
      "source": [
        "import os\n",
        "import numpy as np\n",
        "import matplotlib.pyplot as plt\n",
        "from scipy.io import wavfile"
      ],
      "metadata": {
        "id": "VWVWc6Rm4qlC"
      },
      "execution_count": null,
      "outputs": []
    },
    {
      "cell_type": "code",
      "source": [
        "# Time Domain Data\n",
        "data_t = []\n",
        "label = []\n",
        "for filename in os.listdir():\n",
        "    fs, data = wavfile.read(filename)\n",
        "    if len(data.shape) > 1:\n",
        "        data = data[:, 0]\n",
        "    data = data.astype(float)\n",
        "    data_t.append(data)\n",
        "    label.append(str(filename[: -7]))"
      ],
      "metadata": {
        "id": "60HOUhoB4rzI"
      },
      "execution_count": null,
      "outputs": []
    },
    {
      "cell_type": "code",
      "source": [
        "threshold = 0.1\n",
        "cut = []\n",
        "for i in range(1125):\n",
        "  effect = data_t[i][np.argwhere(data_t[i]/max(data_t[i]) > threshold)[0,0]:np.argwhere(data_t[i]/max(data_t[i]) > threshold)[-1,0]+1]\n",
        "  cut.append(effect)"
      ],
      "metadata": {
        "id": "IDZUKDO75TpJ"
      },
      "execution_count": null,
      "outputs": []
    },
    {
      "cell_type": "code",
      "source": [
        "from IPython import display\n",
        "display.display(display.Audio(data_pad[24,0], rate=48000))\n",
        "display.display(display.Audio(D[400,1], rate=48000))\n",
        "display.display(display.Audio(D[50,2], rate=48000))\n",
        "display.display(display.Audio(D[2,3], rate=48000))"
      ],
      "metadata": {
        "id": "dgvq4vae5Dtn"
      },
      "execution_count": null,
      "outputs": []
    },
    {
      "cell_type": "code",
      "source": [
        "# Put Data Into 2D Matrix\n",
        "D = []\n",
        "maxl = 0\n",
        "for i in range(1125):\n",
        "  print(len(cut[i]))\n",
        "  seg_data = []\n",
        "  for j in range(6):\n",
        "    data = cut[i]\n",
        "    seg = int(len(data)/(6))\n",
        "    if j < (5):\n",
        "      seg_data.append(data[j*seg:j*seg+seg])\n",
        "    else:\n",
        "      seg_data.append(data[5*seg:-1])\n",
        "  D.append(seg_data)\n",
        "D = np.array(D)"
      ],
      "metadata": {
        "id": "92SO-EGi6GMU"
      },
      "execution_count": null,
      "outputs": []
    },
    {
      "cell_type": "code",
      "source": [
        "for i in range(1125):\n",
        "  for j in range(6):\n",
        "    if len(D[i,j]) > maxl:\n",
        "      maxl = len(D[i,j])\n",
        "maxl"
      ],
      "metadata": {
        "id": "HjrvJlql7RZh"
      },
      "execution_count": null,
      "outputs": []
    },
    {
      "cell_type": "code",
      "source": [
        "data_pad = [] # Time Domain Data\n",
        "for i in range(1125):\n",
        "  zero_pad = np.zeros((6, maxl))\n",
        "  for j in range(6):\n",
        "    zero_pad[j, range(0, len(D[i,j]))] = D[i,j]\n",
        "  data_pad.append(zero_pad)"
      ],
      "metadata": {
        "id": "HibaJQv67mlC"
      },
      "execution_count": null,
      "outputs": []
    },
    {
      "cell_type": "code",
      "source": [
        "data_pad = np.array(data_pad)\n",
        "data_pad.shape"
      ],
      "metadata": {
        "id": "mwhoK2uQ8E2_"
      },
      "execution_count": null,
      "outputs": []
    },
    {
      "cell_type": "code",
      "source": [
        "# Make Number Label (1125)\n",
        "Y = []\n",
        "for emo in range(0, len(label)):\n",
        "    if label[emo] == 'angry':\n",
        "        Y.append(0)\n",
        "    if label[emo] == 'calm':\n",
        "        Y.append(1)\n",
        "    if label[emo] == 'disgust':\n",
        "        Y.append(2)\n",
        "    if label[emo] == 'fearful':\n",
        "        Y.append(3)\n",
        "    if label[emo] == 'happy':\n",
        "        Y.append(4)\n",
        "    if label[emo] == 'neutral':\n",
        "        Y.append(5)\n",
        "    if label[emo] == 'sad':\n",
        "        Y.append(6)\n",
        "    if label[emo] == 'surprised':\n",
        "        Y.append(7)\n",
        "Y = np.array(Y)"
      ],
      "metadata": {
        "id": "UK-e93RM-HlI"
      },
      "execution_count": null,
      "outputs": []
    },
    {
      "cell_type": "markdown",
      "source": [
        "Spectral Process"
      ],
      "metadata": {
        "id": "5KmQv0UtCuX_"
      }
    },
    {
      "cell_type": "code",
      "source": [
        "import librosa\n",
        "import librosa.display"
      ],
      "metadata": {
        "id": "XikBUUsvCw_9"
      },
      "execution_count": null,
      "outputs": []
    },
    {
      "cell_type": "code",
      "source": [
        "# MFCC\n",
        "MFCC = np.zeros((1125,54,54,6))\n",
        "for i in range(1125):\n",
        "  print(i)\n",
        "  for j in range(6):\n",
        "    MFCC[i,:,:,j] = (librosa.feature.mfcc(y=data_pad[i,j], sr=fs, n_mfcc = 54))"
      ],
      "metadata": {
        "id": "CDSg4YvoC1HA"
      },
      "execution_count": null,
      "outputs": []
    },
    {
      "cell_type": "code",
      "source": [
        "# STFT\n",
        "STFT = np.zeros((1125,65,80,4))\n",
        "for i in range(1125):\n",
        "  for j in range(4):\n",
        "    STFT[i,:,:,j] = np.abs(librosa.stft(data_pad[i,j],n_fft=128,hop_length=512))"
      ],
      "metadata": {
        "id": "gB9qkp6alH3P"
      },
      "execution_count": null,
      "outputs": []
    },
    {
      "cell_type": "code",
      "source": [
        "# Chroma\n",
        "Chroma = np.zeros((1125,54,54,6))\n",
        "for i in range(1125):\n",
        "  for j in range(6):\n",
        "    Chroma[i,:,:,j] = (librosa.feature.chroma_stft(y=data_pad[i,j], sr=fs, n_chroma = 54))"
      ],
      "metadata": {
        "colab": {
          "base_uri": "https://localhost:8080/"
        },
        "id": "xksBQKlCD-F1",
        "outputId": "468327e6-3924-4e08-8b19-7f9262313fe2"
      },
      "execution_count": null,
      "outputs": [
        {
          "output_type": "stream",
          "name": "stderr",
          "text": [
            "/usr/local/lib/python3.8/dist-packages/librosa/core/pitch.py:153: UserWarning: Trying to estimate tuning from empty frequency set.\n",
            "  warnings.warn(\"Trying to estimate tuning from empty frequency set.\")\n"
          ]
        }
      ]
    },
    {
      "cell_type": "code",
      "source": [
        "# MelSpectrogram\n",
        "MELS = np.zeros((1125,54,54,6))\n",
        "for i in range(1125):\n",
        "  for j in range(4):\n",
        "    MELS[i,:,:,j] = (librosa.feature.melspectrogram(y=data_pad[i,j], sr=fs, n_mels = 54))"
      ],
      "metadata": {
        "id": "B5IK2S0pEo7N"
      },
      "execution_count": null,
      "outputs": []
    },
    {
      "cell_type": "code",
      "source": [
        "print(MELS.shape)\n",
        "print(Chroma.shape)\n",
        "print(MFCC.shape)\n"
      ],
      "metadata": {
        "id": "q4z8BfOqEj19"
      },
      "execution_count": null,
      "outputs": []
    },
    {
      "cell_type": "code",
      "source": [
        "DATA = np.zeros((1125, 54, 54, 12))\n",
        "for i in range(1125):\n",
        "  for j in range(6):\n",
        "    #DATA[i*4+j,:,:,0] = MFCC[i,:,:,j]\n",
        "    DATA[i,:,:,j] = MFCC[i,:,:,j]\n",
        "    DATA[i,:,:,j+6] = Chroma[i,:,:,j]"
      ],
      "metadata": {
        "id": "cSTUfAt5GNU_"
      },
      "execution_count": null,
      "outputs": []
    },
    {
      "cell_type": "code",
      "source": [
        "DATA.shape"
      ],
      "metadata": {
        "id": "aSYV_qPFGSmw"
      },
      "execution_count": null,
      "outputs": []
    },
    {
      "cell_type": "code",
      "source": [
        "# Make Number Label\n",
        "Y = []\n",
        "for emo in range(0, len(label)):\n",
        "    if label[emo] == 'angry':\n",
        "      for i in range(4):\n",
        "        Y.append(0)\n",
        "    if label[emo] == 'calm':\n",
        "      for i in range(4):\n",
        "        Y.append(1)\n",
        "    if label[emo] == 'disgust':\n",
        "      for i in range(4):\n",
        "        Y.append(2)\n",
        "    if label[emo] == 'fearful':\n",
        "      for i in range(4):\n",
        "        Y.append(3)\n",
        "    if label[emo] == 'happy':\n",
        "      for i in range(4):\n",
        "        Y.append(4)\n",
        "    if label[emo] == 'neutral':\n",
        "      for i in range(4):\n",
        "        Y.append(5)\n",
        "    if label[emo] == 'sad':\n",
        "      for i in range(4):\n",
        "        Y.append(6)\n",
        "    if label[emo] == 'surprised':\n",
        "      for i in range(4):\n",
        "        Y.append(7)\n",
        "Y = np.array(Y)"
      ],
      "metadata": {
        "id": "e4gmzmZYu5mX"
      },
      "execution_count": null,
      "outputs": []
    },
    {
      "cell_type": "markdown",
      "source": [
        "Train/Test Set Making"
      ],
      "metadata": {
        "id": "94bQ09m_-Dem"
      }
    },
    {
      "cell_type": "code",
      "source": [
        "# Select Training and Test Data\n",
        "random_traning_data = np.random.choice(len(Y), 900, replace=False)\n",
        "train_data = DATA[random_traning_data]\n",
        "train_label = Y[random_traning_data]\n",
        "remaining_data = np.setdiff1d(range(0, len(Y)), random_traning_data)\n",
        "test_data = DATA[remaining_data]\n",
        "test_label = Y[remaining_data]\n",
        "len(test_label)+len(train_label)"
      ],
      "metadata": {
        "id": "8yN0WHHH-Cya"
      },
      "execution_count": null,
      "outputs": []
    },
    {
      "cell_type": "markdown",
      "source": [
        "CNN"
      ],
      "metadata": {
        "id": "35b8QWsc98Qo"
      }
    },
    {
      "cell_type": "code",
      "source": [
        "import tensorflow as tf\n",
        "from tensorflow.keras import layers\n",
        "from tensorflow.keras import models"
      ],
      "metadata": {
        "id": "1sasNzTl-rd2"
      },
      "execution_count": null,
      "outputs": []
    },
    {
      "cell_type": "code",
      "source": [
        "input_shape = DATA.shape[1:]\n",
        "num_labels = 8\n",
        "# Instantiate the `tf.keras.layers.Normalization` layer.\n",
        "norm_layer = layers.Normalization()\n",
        "norm_layer.adapt(train_data)\n",
        "\n",
        "model = models.Sequential([\n",
        "    layers.Input(shape=input_shape),\n",
        "\n",
        "    #Downsample the input.\n",
        "    #layers.Resizing(64, 64),\n",
        "\n",
        "    norm_layer,\n",
        "    layers.Conv2D(32, 2, activation='relu'),\n",
        "    layers.MaxPooling2D(),\n",
        "    layers.Conv2D(64, 2, activation='relu'),\n",
        "    layers.MaxPooling2D(),\n",
        "    #layers.Conv2D(64, 2, activation='relu'),\n",
        "    #layers.MaxPooling2D(),\n",
        "    #layers.Conv2D(32, 2, activation='relu'),\n",
        "    #layers.MaxPooling2D(),\n",
        "    #layers.Conv2D(32, 2, activation='relu'),\n",
        "    layers.Dropout(0.25),\n",
        "    layers.Flatten(),\n",
        "    layers.Dense(128, activation='relu'),\n",
        "    layers.Dropout(0.5),\n",
        "    layers.Dense(num_labels),\n",
        "])\n",
        "model.summary()"
      ],
      "metadata": {
        "id": "yONNiL_592L0"
      },
      "execution_count": null,
      "outputs": []
    },
    {
      "cell_type": "code",
      "source": [
        "\n",
        "  random_traning_data = np.random.choice(len(Y), 900, replace=False)\n",
        "  train_data = DATA[random_traning_data]\n",
        "  train_label = Y[random_traning_data]\n",
        "  remaining_data = np.setdiff1d(range(0, len(Y)), random_traning_data)\n",
        "  test_data = DATA[remaining_data]\n",
        "  test_label = Y[remaining_data]\n",
        "  len(test_label)+len(train_label)\n",
        "  model.compile(\n",
        "      optimizer=tf.keras.optimizers.Adam(),\n",
        "      loss=tf.keras.losses.SparseCategoricalCrossentropy(from_logits=True),\n",
        "      metrics=['accuracy'])\n",
        "#history = model.fit(train_data, train_label, epochs=10, validation_data=(test_data, test_label), callbacks=tf.keras.callbacks.EarlyStopping(verbose=1, patience=2))\n",
        "  history = model.fit(train_data, train_label, epochs=5, validation_data=(test_data, test_label))"
      ],
      "metadata": {
        "id": "bNJt1J3f--3h"
      },
      "execution_count": null,
      "outputs": []
    },
    {
      "cell_type": "markdown",
      "source": [
        "Prediction"
      ],
      "metadata": {
        "id": "LofKKz93TKQ9"
      }
    },
    {
      "cell_type": "code",
      "source": [
        "path = \"/content/drive/MyDrive/ELEC301/test\"\n",
        "os.chdir(path)"
      ],
      "metadata": {
        "id": "52VNar3iTJcK"
      },
      "execution_count": null,
      "outputs": []
    },
    {
      "cell_type": "code",
      "source": [
        "!unzip 'test.zip'"
      ],
      "metadata": {
        "id": "ArN7hu3qWRZp"
      },
      "execution_count": null,
      "outputs": []
    },
    {
      "cell_type": "markdown",
      "source": [],
      "metadata": {
        "id": "v0QwlISw_2Ww"
      }
    },
    {
      "cell_type": "code",
      "source": [
        "# Time Domain Data\n",
        "data_test = []\n",
        "label_test = []\n",
        "NUM = []\n",
        "L_test = [] # length of each audio\n",
        "for filename in os.listdir():\n",
        "    label_test.append(str(filename[: -7]))\n",
        "    fs, data = wavfile.read(filename)\n",
        "    if len(data.shape) > 1:\n",
        "        data = data[:, 0]\n",
        "    data = data.astype(float)\n",
        "    data_test.append(data)\n",
        "    L_test.append(len(data))\n",
        "    NUM.append(str(filename[6: 9]))\n",
        "print(L_test)"
      ],
      "metadata": {
        "id": "Nsn6VnjNTNsw"
      },
      "execution_count": null,
      "outputs": []
    },
    {
      "cell_type": "code",
      "source": [
        "for i in range(315):\n",
        "  data_test[i] = data_test[i].astype(float)"
      ],
      "metadata": {
        "id": "ZFMn9Y5cW4UX"
      },
      "execution_count": null,
      "outputs": []
    },
    {
      "cell_type": "code",
      "source": [
        "cut = []\n",
        "for i in range(315):\n",
        "  posi = np.argmax(data_test[i])\n",
        "  small = np.argwhere(data_test[i]/data_test[i][posi] > 0.1)[0,0]\n",
        "  big = np.argwhere(data_test[i]/data_test[i][posi] > 0.1)[-1,0]\n",
        "  eff = data_test[i][small : big+1]\n",
        "  cut.append(eff)"
      ],
      "metadata": {
        "id": "UKHBK69WW8W4"
      },
      "execution_count": null,
      "outputs": []
    },
    {
      "cell_type": "code",
      "source": [
        "# Put Data Into 2D Matrix\n",
        "D_test = []\n",
        "for i in range(315):\n",
        "  seg_data = []\n",
        "  for j in range(6):\n",
        "    data = cut[i]\n",
        "    seg = int(len(data)/(6))\n",
        "    if j < (5):\n",
        "      seg_data.append(data[j*seg:j*seg+seg])\n",
        "    else:\n",
        "      seg_data.append(data[5*seg:-1])\n",
        "  D_test.append(seg_data)"
      ],
      "metadata": {
        "id": "vCkn0Eq7W_Dg"
      },
      "execution_count": null,
      "outputs": []
    },
    {
      "cell_type": "code",
      "source": [
        "D_test = np.array(D_test)"
      ],
      "metadata": {
        "id": "qiQMFqx2XD5a"
      },
      "execution_count": null,
      "outputs": []
    },
    {
      "cell_type": "code",
      "source": [
        "data_pad1 = [] # Time Domain Data\n",
        "for i in range(315):\n",
        "  zero_pad = np.zeros((6, maxl))\n",
        "  for j in range(6):\n",
        "    zero_pad[j, range(0, len(D_test[i,j]))] = D_test[i,j]\n",
        "  data_pad1.append(zero_pad)"
      ],
      "metadata": {
        "id": "D91mjYHaXNhU"
      },
      "execution_count": null,
      "outputs": []
    },
    {
      "cell_type": "code",
      "source": [
        "data_pad1 = np.array(data_pad1)\n",
        "data_pad1.shape"
      ],
      "metadata": {
        "id": "XqERUjKDXTlV"
      },
      "execution_count": null,
      "outputs": []
    },
    {
      "cell_type": "code",
      "source": [
        "# MFCC\n",
        "MFCCt = np.zeros((315,54,54,6))\n",
        "Chromat = np.zeros((315,54,54,6))\n",
        "MELSt = np.zeros((315,54,54,6))\n",
        "for i in range(315):\n",
        "  for j in range(6):\n",
        "    MFCCt[i,:,:,j] = (librosa.feature.mfcc(y=data_pad1[i,j], sr=fs,n_mfcc=54))\n",
        "    Chromat[i,:,:,j] = (librosa.feature.chroma_stft(y=data_pad1[i,j], sr=fs, n_chroma = 54))\n",
        "    MELSt[i,:,:,j] = (librosa.feature.melspectrogram(y=data_pad1[i,j], sr=fs, n_mels = 54))\n"
      ],
      "metadata": {
        "id": "mEgnIsenXeOU"
      },
      "execution_count": null,
      "outputs": []
    },
    {
      "cell_type": "code",
      "source": [
        "DATAt = np.zeros((315, 54, 54, 12))\n",
        "for i in range(315):\n",
        "  for j in range(6):\n",
        "    #DATA[i*4+j,:,:,0] = MFCC[i,:,:,j]\n",
        "    DATAt[i,:,:,j] = MFCCt[i,:,:,j]\n",
        "    DATAt[i,:,:,j+6] = Chromat[i,:,:,j]"
      ],
      "metadata": {
        "id": "jvbW98jBJS--"
      },
      "execution_count": null,
      "outputs": []
    },
    {
      "cell_type": "code",
      "source": [
        "predictions = model.predict(DATAt)\n",
        "score = tf.nn.softmax(predictions)\n",
        "label_predict = []\n",
        "for i in range(315):\n",
        "  label_predict.append(np.argmax(score[i]))\n",
        "res = []\n",
        "for emo in range(0, len(label_predict)):\n",
        "    if label_predict[emo] == 0:\n",
        "      res.append('angry')\n",
        "    if label_predict[emo] == 1:\n",
        "      res.append('calm')\n",
        "    if label_predict[emo] == 2:\n",
        "      res.append('disgust')\n",
        "    if label_predict[emo] == 3:\n",
        "      res.append('fearful')\n",
        "    if label_predict[emo] == 4:\n",
        "      res.append('happy')\n",
        "    if label_predict[emo] == 5:\n",
        "      res.append('neutral')\n",
        "    if label_predict[emo] == 6:\n",
        "      res.append('sad')\n",
        "    if label_predict[emo] == 7:\n",
        "      res.append('surprised')\n",
        "print(res)\n",
        "res = np.array(res).transpose()\n",
        "NUM = np.array(NUM).transpose()\n",
        "sample = np.column_stack([NUM, res])\n",
        "sort_sample = sample[sample[:, 0].argsort()]\n",
        "name = []\n",
        "for item in sort_sample[:,0]:\n",
        "  item = 'sample'+str(item)\n",
        "  name.append(item)\n",
        "name = np.array(name).transpose()\n",
        "sort_sample[:,0] = name\n",
        "sort_sample"
      ],
      "metadata": {
        "id": "_dq3_0QzXtNb"
      },
      "execution_count": null,
      "outputs": []
    },
    {
      "cell_type": "code",
      "source": [
        "res_chroma = sort_sample"
      ],
      "metadata": {
        "id": "PFjR2P7ZL3Ne"
      },
      "execution_count": null,
      "outputs": []
    },
    {
      "cell_type": "code",
      "source": [
        "import pandas as pd\n",
        "DF = pd.DataFrame(sort_sample)\n",
        "DF.to_csv(\"res1201_all.csv\")"
      ],
      "metadata": {
        "id": "nwDeEHNLYDiS"
      },
      "execution_count": null,
      "outputs": []
    }
  ]
}