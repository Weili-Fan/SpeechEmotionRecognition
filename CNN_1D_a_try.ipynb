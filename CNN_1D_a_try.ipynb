{
  "nbformat": 4,
  "nbformat_minor": 0,
  "metadata": {
    "colab": {
      "provenance": []
    },
    "kernelspec": {
      "name": "python3",
      "display_name": "Python 3"
    },
    "language_info": {
      "name": "python"
    }
  },
  "cells": [
    {
      "cell_type": "code",
      "execution_count": 1,
      "metadata": {
        "id": "9l3bODJiN7GH"
      },
      "outputs": [],
      "source": [
        "import os\n",
        "import pandas as pd\n",
        "import numpy as np"
      ]
    },
    {
      "cell_type": "code",
      "source": [
        "path = \"/content/drive/MyDrive\"\n",
        "os.chdir(path)"
      ],
      "metadata": {
        "id": "wu_QzoJmOS0E"
      },
      "execution_count": 2,
      "outputs": []
    },
    {
      "cell_type": "code",
      "source": [
        "features = pd.read_csv('mfcc_mean_caca.csv')"
      ],
      "metadata": {
        "id": "xMhmGaaIOamw"
      },
      "execution_count": 3,
      "outputs": []
    },
    {
      "cell_type": "code",
      "source": [
        "label = features.loc[:, 'emotion'].values"
      ],
      "metadata": {
        "id": "2qs3FKLmOmv2"
      },
      "execution_count": 4,
      "outputs": []
    },
    {
      "cell_type": "code",
      "source": [
        "index = ['emotion'] + \\\n",
        "          ['mfcc_' + str(i+1) + '_mean' for i in range(50)] + \\\n",
        "          ['mfcc_' + str(i+1) + '_std' for i in range(50)]\n",
        "          #['contrast' + str(i+1) + '_mean' for i in range(7)]\n",
        "          #['chroma' + str(i+1) + '_mean' for i in range(12)] + \\\n",
        "          #['mels' + str(i+1) + '_mean' for i in range(128)] + \\\n",
        "mfcc_ind = index[1:]\n",
        "mfccs = features.loc[:, mfcc_ind].values"
      ],
      "metadata": {
        "id": "vat9Qd_6O2kn"
      },
      "execution_count": 372,
      "outputs": []
    },
    {
      "cell_type": "code",
      "source": [
        "mfccs.shape\n",
        "label.shape"
      ],
      "metadata": {
        "colab": {
          "base_uri": "https://localhost:8080/"
        },
        "id": "qZoz1ohGvF2Y",
        "outputId": "e771cf23-71bf-4f7b-f288-268345c82a09"
      },
      "execution_count": 373,
      "outputs": [
        {
          "output_type": "execute_result",
          "data": {
            "text/plain": [
              "(1125,)"
            ]
          },
          "metadata": {},
          "execution_count": 373
        }
      ]
    },
    {
      "cell_type": "code",
      "source": [
        "# Make Number Label (1125)\n",
        "Y = []\n",
        "for emo in range(0, len(label)):\n",
        "    if label[emo] == 'angry':\n",
        "        Y.append(0)\n",
        "    if label[emo] == 'calm':\n",
        "        Y.append(1)\n",
        "    if label[emo] == 'disgust':\n",
        "        Y.append(2)\n",
        "    if label[emo] == 'fearful':\n",
        "        Y.append(3)\n",
        "    if label[emo] == 'happy':\n",
        "        Y.append(4)\n",
        "    if label[emo] == 'neutral':\n",
        "        Y.append(5)\n",
        "    if label[emo] == 'sad':\n",
        "        Y.append(6)\n",
        "    if label[emo] == 'surprised':\n",
        "        Y.append(7)\n",
        "Y = np.array(Y)"
      ],
      "metadata": {
        "id": "es2VrzJdbd-R"
      },
      "execution_count": 374,
      "outputs": []
    },
    {
      "cell_type": "code",
      "source": [
        "import tensorflow as tf\n",
        "from keras.preprocessing import sequence\n",
        "from keras.models import Sequential\n",
        "from keras.layers import Dense, Embedding, BatchNormalization\n",
        "from keras.utils import to_categorical\n",
        "from keras.layers import Input, Flatten, Dropout, Activation, BatchNormalization\n",
        "from keras.layers import Conv1D, MaxPooling1D\n",
        "from keras.models import Model\n",
        "from keras.callbacks import ModelCheckpoint\n",
        "from keras.utils import plot_model"
      ],
      "metadata": {
        "id": "930mMKmFPbTY"
      },
      "execution_count": 375,
      "outputs": []
    },
    {
      "cell_type": "code",
      "source": [
        "from sklearn.model_selection import train_test_split\n",
        "from sklearn.preprocessing import StandardScaler\n",
        "X_train, X_test, y_train, y_test = train_test_split(mfccs, Y, test_size=0.1)"
      ],
      "metadata": {
        "id": "CprcxkyLRBhz"
      },
      "execution_count": 532,
      "outputs": []
    },
    {
      "cell_type": "code",
      "source": [
        "x_traincnn = np.expand_dims(X_train, axis=2)\n",
        "x_testcnn = np.expand_dims(X_test, axis=2)"
      ],
      "metadata": {
        "id": "_ajOLhF5V-eR"
      },
      "execution_count": 535,
      "outputs": []
    },
    {
      "cell_type": "code",
      "source": [
        "x_traincnn.shape"
      ],
      "metadata": {
        "id": "fyxd7f0fV_8S",
        "colab": {
          "base_uri": "https://localhost:8080/"
        },
        "outputId": "8715dd40-674e-49a8-b350-11b1c9870189"
      },
      "execution_count": 536,
      "outputs": [
        {
          "output_type": "execute_result",
          "data": {
            "text/plain": [
              "(1012, 100, 1)"
            ]
          },
          "metadata": {},
          "execution_count": 536
        }
      ]
    },
    {
      "cell_type": "code",
      "source": [
        "model = Sequential()\n",
        "model.add(Conv1D(32, 2,\n",
        "                 input_shape=x_traincnn.shape[1:]))\n",
        "model.add(Activation('relu'))\n",
        "model.add(MaxPooling1D())\n",
        "\n",
        "model.add(Conv1D(64, 2,))\n",
        "model.add(Activation('relu'))\n",
        "model.add(MaxPooling1D())\n",
        "\n",
        "model.add(Dropout(0.25))\n",
        "model.add(Flatten())\n",
        "\n",
        "model.add(Dense(64, activation='relu'))\n",
        "model.add(Dropout(0.5))\n",
        "model.add(Dense(8, activation = 'softmax'))\n",
        "#opt = tf.keras.optimizers.RMSprop(lr=0.0005, rho=0.9, epsilon=1e-07, decay=0.0)\n",
        "opt=tf.keras.optimizers.Adam()\n",
        "model.summary()\n"
      ],
      "metadata": {
        "id": "TisjytdJPkE9"
      },
      "execution_count": null,
      "outputs": []
    },
    {
      "cell_type": "code",
      "source": [
        "model.compile(loss='sparse_categorical_crossentropy',\n",
        "              optimizer=opt,\n",
        "              metrics=['accuracy'])"
      ],
      "metadata": {
        "id": "ig9K49LURpTp"
      },
      "execution_count": 428,
      "outputs": []
    },
    {
      "cell_type": "code",
      "source": [
        "history=model.fit(x_traincnn, y_train, epochs=30, validation_data=(x_testcnn, y_test))"
      ],
      "metadata": {
        "colab": {
          "base_uri": "https://localhost:8080/"
        },
        "id": "-9bTdIv3R_VB",
        "outputId": "28d15a11-0b75-4d32-da6f-48c806f5212a"
      },
      "execution_count": 537,
      "outputs": [
        {
          "output_type": "stream",
          "name": "stdout",
          "text": [
            "Epoch 1/30\n",
            "32/32 [==============================] - 0s 12ms/step - loss: 0.6153 - accuracy: 0.7836 - val_loss: 0.1701 - val_accuracy: 0.9735\n",
            "Epoch 2/30\n",
            "32/32 [==============================] - 1s 16ms/step - loss: 0.6095 - accuracy: 0.7826 - val_loss: 0.1556 - val_accuracy: 0.9735\n",
            "Epoch 3/30\n",
            "32/32 [==============================] - 0s 15ms/step - loss: 0.6413 - accuracy: 0.7609 - val_loss: 0.1646 - val_accuracy: 0.9912\n",
            "Epoch 4/30\n",
            "32/32 [==============================] - 0s 10ms/step - loss: 0.6124 - accuracy: 0.7757 - val_loss: 0.1534 - val_accuracy: 0.9823\n",
            "Epoch 5/30\n",
            "32/32 [==============================] - 0s 11ms/step - loss: 0.6887 - accuracy: 0.7381 - val_loss: 0.1768 - val_accuracy: 0.9823\n",
            "Epoch 6/30\n",
            "32/32 [==============================] - 0s 12ms/step - loss: 0.6261 - accuracy: 0.7609 - val_loss: 0.1690 - val_accuracy: 0.9646\n",
            "Epoch 7/30\n",
            "32/32 [==============================] - 0s 11ms/step - loss: 0.5929 - accuracy: 0.7787 - val_loss: 0.1815 - val_accuracy: 0.9823\n",
            "Epoch 8/30\n",
            "32/32 [==============================] - 0s 10ms/step - loss: 0.6082 - accuracy: 0.7747 - val_loss: 0.1516 - val_accuracy: 0.9735\n",
            "Epoch 9/30\n",
            "32/32 [==============================] - 0s 11ms/step - loss: 0.6427 - accuracy: 0.7569 - val_loss: 0.1726 - val_accuracy: 0.9823\n",
            "Epoch 10/30\n",
            "32/32 [==============================] - 0s 11ms/step - loss: 0.6208 - accuracy: 0.7717 - val_loss: 0.2004 - val_accuracy: 0.9646\n",
            "Epoch 11/30\n",
            "32/32 [==============================] - 0s 11ms/step - loss: 0.6676 - accuracy: 0.7401 - val_loss: 0.1707 - val_accuracy: 0.9646\n",
            "Epoch 12/30\n",
            "32/32 [==============================] - 0s 11ms/step - loss: 0.6444 - accuracy: 0.7559 - val_loss: 0.1944 - val_accuracy: 0.9469\n",
            "Epoch 13/30\n",
            "32/32 [==============================] - 0s 11ms/step - loss: 0.6376 - accuracy: 0.7559 - val_loss: 0.1796 - val_accuracy: 0.9735\n",
            "Epoch 14/30\n",
            "32/32 [==============================] - 0s 11ms/step - loss: 0.6329 - accuracy: 0.7658 - val_loss: 0.1784 - val_accuracy: 0.9912\n",
            "Epoch 15/30\n",
            "32/32 [==============================] - 0s 11ms/step - loss: 0.6608 - accuracy: 0.7708 - val_loss: 0.1792 - val_accuracy: 0.9735\n",
            "Epoch 16/30\n",
            "32/32 [==============================] - 0s 10ms/step - loss: 0.6344 - accuracy: 0.7589 - val_loss: 0.2398 - val_accuracy: 0.9646\n",
            "Epoch 17/30\n",
            "32/32 [==============================] - 0s 11ms/step - loss: 0.6068 - accuracy: 0.7688 - val_loss: 0.1726 - val_accuracy: 0.9823\n",
            "Epoch 18/30\n",
            "32/32 [==============================] - 0s 11ms/step - loss: 0.6265 - accuracy: 0.7609 - val_loss: 0.2025 - val_accuracy: 0.9646\n",
            "Epoch 19/30\n",
            "32/32 [==============================] - 0s 11ms/step - loss: 0.6001 - accuracy: 0.7787 - val_loss: 0.2015 - val_accuracy: 0.9558\n",
            "Epoch 20/30\n",
            "32/32 [==============================] - 0s 11ms/step - loss: 0.6470 - accuracy: 0.7510 - val_loss: 0.1955 - val_accuracy: 0.9646\n",
            "Epoch 21/30\n",
            "32/32 [==============================] - 0s 11ms/step - loss: 0.6455 - accuracy: 0.7460 - val_loss: 0.2062 - val_accuracy: 0.9735\n",
            "Epoch 22/30\n",
            "32/32 [==============================] - 0s 11ms/step - loss: 0.6265 - accuracy: 0.7638 - val_loss: 0.1854 - val_accuracy: 0.9646\n",
            "Epoch 23/30\n",
            "32/32 [==============================] - 0s 11ms/step - loss: 0.6247 - accuracy: 0.7678 - val_loss: 0.1854 - val_accuracy: 0.9735\n",
            "Epoch 24/30\n",
            "32/32 [==============================] - 0s 11ms/step - loss: 0.6059 - accuracy: 0.7866 - val_loss: 0.1869 - val_accuracy: 0.9558\n",
            "Epoch 25/30\n",
            "32/32 [==============================] - 0s 11ms/step - loss: 0.5952 - accuracy: 0.7787 - val_loss: 0.1931 - val_accuracy: 0.9469\n",
            "Epoch 26/30\n",
            "32/32 [==============================] - 0s 11ms/step - loss: 0.6230 - accuracy: 0.7708 - val_loss: 0.2160 - val_accuracy: 0.9735\n",
            "Epoch 27/30\n",
            "32/32 [==============================] - 0s 10ms/step - loss: 0.6088 - accuracy: 0.7688 - val_loss: 0.2220 - val_accuracy: 0.9381\n",
            "Epoch 28/30\n",
            "32/32 [==============================] - 0s 11ms/step - loss: 0.6130 - accuracy: 0.7747 - val_loss: 0.2316 - val_accuracy: 0.9381\n",
            "Epoch 29/30\n",
            "32/32 [==============================] - 0s 11ms/step - loss: 0.5952 - accuracy: 0.7875 - val_loss: 0.2239 - val_accuracy: 0.9558\n",
            "Epoch 30/30\n",
            "32/32 [==============================] - 0s 12ms/step - loss: 0.5843 - accuracy: 0.7757 - val_loss: 0.1815 - val_accuracy: 0.9735\n"
          ]
        }
      ]
    },
    {
      "cell_type": "code",
      "source": [
        "path = \"/content/drive/MyDrive/ELEC301/test\"\n",
        "os.chdir(path)"
      ],
      "metadata": {
        "id": "OU-nlJbxQHRL"
      },
      "execution_count": 122,
      "outputs": []
    },
    {
      "cell_type": "code",
      "source": [
        "features_test = pd.read_csv('testcaca.csv')"
      ],
      "metadata": {
        "id": "PrREu3eKQIHU"
      },
      "execution_count": 34,
      "outputs": []
    },
    {
      "cell_type": "code",
      "source": [
        "NUM = features_test.loc[:, 'emotion'].values"
      ],
      "metadata": {
        "id": "kxWPMceJSqXi"
      },
      "execution_count": 35,
      "outputs": []
    },
    {
      "cell_type": "code",
      "source": [
        "NUM"
      ],
      "metadata": {
        "id": "xqtfBi43SuGl"
      },
      "execution_count": null,
      "outputs": []
    },
    {
      "cell_type": "code",
      "source": [
        "index = ['emotion'] + \\\n",
        "          ['mfcc_' + str(i+1) + '_mean' for i in range(50)] + \\\n",
        "          ['mfcc_' + str(i+1) + '_std' for i in range(50)] \n",
        "          #['contrast' + str(i+1) + '_mean' for i in range(7)]\n",
        "          #['chroma' + str(i+1) + '_mean' for i in range(12)] + \\\n",
        "          #['mels' + str(i+1) + '_mean' for i in range(128)] + \\\n",
        "test_ind = index[1:]\n",
        "test = features_test.loc[:, test_ind].values"
      ],
      "metadata": {
        "id": "1j8D3YrCSwjG"
      },
      "execution_count": null,
      "outputs": []
    },
    {
      "cell_type": "code",
      "source": [
        "predictions = model.predict(test)\n",
        "score = tf.nn.softmax(predictions)"
      ],
      "metadata": {
        "colab": {
          "base_uri": "https://localhost:8080/"
        },
        "id": "MwQA2YtRTFOF",
        "outputId": "a9b1b46f-88cf-4e34-c882-017a0420c46b"
      },
      "execution_count": 538,
      "outputs": [
        {
          "output_type": "stream",
          "name": "stdout",
          "text": [
            "10/10 [==============================] - 0s 3ms/step\n"
          ]
        }
      ]
    },
    {
      "cell_type": "code",
      "source": [
        "label_predict = []\n",
        "for i in range(315):\n",
        "  label_predict.append(np.argmax(score[i]))\n",
        "res = []"
      ],
      "metadata": {
        "id": "0Tz34YNoTHLz"
      },
      "execution_count": 539,
      "outputs": []
    },
    {
      "cell_type": "code",
      "source": [
        "score"
      ],
      "metadata": {
        "id": "2BQDocSzlEmP"
      },
      "execution_count": null,
      "outputs": []
    },
    {
      "cell_type": "code",
      "source": [
        "for emo in range(0, len(label_predict)):\n",
        "    if label_predict[emo] == 0:\n",
        "      res.append('angry')\n",
        "    if label_predict[emo] == 1:\n",
        "      res.append('calm')\n",
        "    if label_predict[emo] == 2:\n",
        "      res.append('disgust')\n",
        "    if label_predict[emo] == 3:\n",
        "      res.append('fearful')\n",
        "    if label_predict[emo] == 4:\n",
        "      res.append('happy')\n",
        "    if label_predict[emo] == 5:\n",
        "      res.append('neutral')\n",
        "    if label_predict[emo] == 6:\n",
        "      res.append('sad')\n",
        "    if label_predict[emo] == 7:\n",
        "      res.append('surprised')\n",
        "print(res)\n",
        "res = np.array(res).transpose()\n",
        "NUM = np.array(NUM).transpose()"
      ],
      "metadata": {
        "colab": {
          "base_uri": "https://localhost:8080/"
        },
        "id": "08wGzHK8TXH2",
        "outputId": "d47e9052-016b-4fd2-8496-9fa358dbd0cb"
      },
      "execution_count": 541,
      "outputs": [
        {
          "output_type": "stream",
          "name": "stdout",
          "text": [
            "['surprised', 'angry', 'happy', 'angry', 'calm', 'happy', 'calm', 'neutral', 'surprised', 'angry', 'angry', 'angry', 'calm', 'disgust', 'angry', 'sad', 'sad', 'calm', 'calm', 'happy', 'fearful', 'surprised', 'fearful', 'surprised', 'angry', 'happy', 'surprised', 'sad', 'calm', 'fearful', 'sad', 'fearful', 'happy', 'neutral', 'angry', 'surprised', 'sad', 'fearful', 'angry', 'angry', 'calm', 'calm', 'disgust', 'angry', 'calm', 'surprised', 'fearful', 'fearful', 'angry', 'sad', 'angry', 'fearful', 'surprised', 'surprised', 'disgust', 'sad', 'happy', 'calm', 'happy', 'fearful', 'calm', 'calm', 'disgust', 'happy', 'angry', 'fearful', 'angry', 'neutral', 'fearful', 'surprised', 'calm', 'happy', 'angry', 'angry', 'happy', 'angry', 'calm', 'sad', 'calm', 'calm', 'fearful', 'angry', 'happy', 'surprised', 'disgust', 'sad', 'happy', 'calm', 'neutral', 'disgust', 'disgust', 'happy', 'angry', 'calm', 'angry', 'sad', 'angry', 'disgust', 'happy', 'happy', 'sad', 'calm', 'happy', 'disgust', 'sad', 'angry', 'fearful', 'happy', 'happy', 'sad', 'disgust', 'disgust', 'surprised', 'calm', 'angry', 'surprised', 'happy', 'fearful', 'happy', 'fearful', 'fearful', 'sad', 'fearful', 'disgust', 'calm', 'happy', 'happy', 'disgust', 'fearful', 'surprised', 'happy', 'calm', 'angry', 'neutral', 'calm', 'fearful', 'sad', 'calm', 'calm', 'angry', 'surprised', 'sad', 'fearful', 'calm', 'calm', 'happy', 'calm', 'disgust', 'neutral', 'happy', 'fearful', 'sad', 'surprised', 'happy', 'happy', 'calm', 'calm', 'sad', 'disgust', 'sad', 'angry', 'surprised', 'disgust', 'surprised', 'happy', 'happy', 'neutral', 'surprised', 'happy', 'sad', 'happy', 'surprised', 'disgust', 'angry', 'angry', 'calm', 'sad', 'happy', 'disgust', 'surprised', 'surprised', 'fearful', 'surprised', 'fearful', 'fearful', 'sad', 'calm', 'disgust', 'angry', 'happy', 'calm', 'neutral', 'disgust', 'disgust', 'calm', 'calm', 'surprised', 'fearful', 'sad', 'surprised', 'disgust', 'calm', 'sad', 'calm', 'happy', 'angry', 'disgust', 'disgust', 'neutral', 'angry', 'fearful', 'neutral', 'angry', 'calm', 'fearful', 'calm', 'sad', 'sad', 'surprised', 'fearful', 'surprised', 'sad', 'disgust', 'sad', 'calm', 'happy', 'calm', 'surprised', 'calm', 'angry', 'angry', 'calm', 'calm', 'happy', 'disgust', 'disgust', 'sad', 'angry', 'calm', 'happy', 'surprised', 'angry', 'disgust', 'calm', 'sad', 'happy', 'fearful', 'calm', 'surprised', 'sad', 'calm', 'disgust', 'calm', 'happy', 'happy', 'calm', 'disgust', 'disgust', 'calm', 'calm', 'happy', 'happy', 'calm', 'happy', 'disgust', 'fearful', 'happy', 'angry', 'happy', 'angry', 'fearful', 'happy', 'fearful', 'happy', 'calm', 'fearful', 'happy', 'disgust', 'surprised', 'happy', 'angry', 'happy', 'fearful', 'angry', 'happy', 'sad', 'disgust', 'fearful', 'sad', 'angry', 'calm', 'happy', 'neutral', 'happy', 'sad', 'happy', 'disgust', 'calm', 'happy', 'angry', 'calm', 'neutral', 'calm', 'sad', 'neutral', 'happy', 'angry', 'fearful', 'angry', 'neutral', 'angry', 'surprised', 'calm', 'sad', 'calm']\n"
          ]
        }
      ]
    },
    {
      "cell_type": "code",
      "source": [
        "sample = np.column_stack([NUM, res])\n",
        "sort_sample = sample[sample[:, 0].argsort()]\n",
        "name = []\n",
        "for item in sort_sample[:,0]:\n",
        "  item = str(item)\n",
        "  name.append(item)\n",
        "name = np.array(name).transpose()\n",
        "sort_sample[:,0] = name\n",
        "sort_sample"
      ],
      "metadata": {
        "id": "hzwNBWVKTddF"
      },
      "execution_count": null,
      "outputs": []
    },
    {
      "cell_type": "code",
      "source": [
        "res_chroma = sort_sample"
      ],
      "metadata": {
        "id": "7dM7qm5ETpNJ"
      },
      "execution_count": 543,
      "outputs": []
    },
    {
      "cell_type": "code",
      "source": [
        "import pandas as pd\n",
        "DF = pd.DataFrame(sort_sample)\n",
        "DF.to_csv(\"res1213_all.csv\")"
      ],
      "metadata": {
        "id": "DoNe88WBi1bg"
      },
      "execution_count": 544,
      "outputs": []
    }
  ]
}