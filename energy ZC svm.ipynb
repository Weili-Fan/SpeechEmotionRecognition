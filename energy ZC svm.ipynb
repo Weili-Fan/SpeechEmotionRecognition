{
  "cells": [
    {
      "cell_type": "code",
      "execution_count": 1,
      "metadata": {
        "id": "3jJdz1bIOoF9"
      },
      "outputs": [],
      "source": [
        "import os\n",
        "import numpy as np\n",
        "from scipy.io import wavfile\n",
        "from scipy.fft import fft\n",
        "import librosa\n"
      ]
    },
    {
      "cell_type": "code",
      "execution_count": 22,
      "metadata": {},
      "outputs": [],
      "source": [
        "path = \"./Documents/all/rice/courses/2022 Fall/ELEC 301\"\n",
        "os.chdir(path)"
      ]
    },
    {
      "cell_type": "code",
      "execution_count": 24,
      "metadata": {},
      "outputs": [],
      "source": [
        "path = \"./project\"\n",
        "os.chdir(path)"
      ]
    },
    {
      "cell_type": "code",
      "execution_count": 25,
      "metadata": {},
      "outputs": [],
      "source": [
        "path = \"./elec-301-speech-emotion-classification/data/data/\"\n",
        "os.chdir(path)"
      ]
    },
    {
      "cell_type": "code",
      "execution_count": 26,
      "metadata": {
        "colab": {
          "base_uri": "https://localhost:8080/",
          "height": 356
        },
        "id": "fA-7vS8uORy6",
        "outputId": "44d88cb5-e760-4451-bb03-f792d2911feb"
      },
      "outputs": [
        {
          "name": "stderr",
          "output_type": "stream",
          "text": [
            "C:\\Users\\Weili Fan\\AppData\\Local\\Temp\\ipykernel_46928\\4244071234.py:8: WavFileWarning: Chunk (non-data) not understood, skipping it.\n",
            "  fs, data = wavfile.read(filename)\n"
          ]
        }
      ],
      "source": [
        "label = [] # Labels of Training Data\n",
        "raw_data = [] # Different Length\n",
        "L = [] # Specify Length\n",
        "E = [] # Energy\n",
        "ZC = [] # Zero Crossing\n",
        "\n",
        "for filename in os.listdir():\n",
        "    fs, data = wavfile.read(filename)\n",
        "    if len(data.shape) > 1:\n",
        "        data = data[:,0]\n",
        "    data = data.astype(float)\n",
        "    energy = np.inner(data,data)\n",
        "    label.append(str(filename[: -7]))\n",
        "    raw_data.append(data)\n",
        "    L.append(len(data))\n",
        "    E.append(int(energy))\n",
        "    zero_crossings = librosa.zero_crossings(data, pad=False)\n",
        "    ZC.append(sum(zero_crossings))"
      ]
    },
    {
      "cell_type": "code",
      "execution_count": 27,
      "metadata": {
        "id": "Tg7XORwYhVaY"
      },
      "outputs": [],
      "source": [
        "# print(E)\n",
        "# print(ZC)\n",
        "# print(label)"
      ]
    },
    {
      "cell_type": "code",
      "execution_count": 28,
      "metadata": {
        "id": "4HtLHVItfQd-"
      },
      "outputs": [],
      "source": [
        "E1 = np.array(E).transpose()\n",
        "ZC1 = np.array(ZC).transpose()\n",
        "P = E1 * ZC1\n",
        "X = np.column_stack([E1, ZC1, P])"
      ]
    },
    {
      "cell_type": "code",
      "execution_count": 29,
      "metadata": {
        "id": "RVO8jfW_6D_Y"
      },
      "outputs": [
        {
          "name": "stdout",
          "output_type": "stream",
          "text": [
            "[0, 0, 0, 0, 0, 0, 0, 0, 0, 0, 0, 0, 0, 0, 0, 0, 0, 0, 0, 0, 0, 0, 0, 0, 0, 0, 0, 0, 0, 0, 0, 0, 0, 0, 0, 0, 0, 0, 0, 0, 0, 0, 0, 0, 0, 0, 0, 0, 0, 0, 0, 0, 0, 0, 0, 0, 0, 0, 0, 0, 0, 0, 0, 0, 0, 0, 0, 0, 0, 0, 0, 0, 0, 0, 0, 0, 0, 0, 0, 0, 0, 0, 0, 0, 0, 0, 0, 0, 0, 0, 0, 0, 0, 0, 0, 0, 0, 0, 0, 0, 0, 0, 0, 0, 0, 0, 0, 0, 0, 0, 0, 0, 0, 0, 0, 0, 0, 0, 0, 0, 0, 0, 0, 0, 0, 0, 0, 0, 0, 0, 0, 0, 0, 0, 0, 0, 0, 0, 0, 0, 0, 0, 0, 0, 0, 0, 0, 0, 0, 0, 1, 1, 1, 1, 1, 1, 1, 1, 1, 1, 1, 1, 1, 1, 1, 1, 1, 1, 1, 1, 1, 1, 1, 1, 1, 1, 1, 1, 1, 1, 1, 1, 1, 1, 1, 1, 1, 1, 1, 1, 1, 1, 1, 1, 1, 1, 1, 1, 1, 1, 1, 1, 1, 1, 1, 1, 1, 1, 1, 1, 1, 1, 1, 1, 1, 1, 1, 1, 1, 1, 1, 1, 1, 1, 1, 1, 1, 1, 1, 1, 1, 1, 1, 1, 1, 1, 1, 1, 1, 1, 1, 1, 1, 1, 1, 1, 1, 1, 1, 1, 1, 1, 1, 1, 1, 1, 1, 1, 1, 1, 1, 1, 1, 1, 1, 1, 1, 1, 1, 1, 1, 1, 1, 1, 1, 1, 1, 1, 1, 1, 1, 1, 1, 1, 1, 1, 1, 1, 1, 1, 1, 1, 1, 1, 1, 1, 1, 1, 1, 1, 2, 2, 2, 2, 2, 2, 2, 2, 2, 2, 2, 2, 2, 2, 2, 2, 2, 2, 2, 2, 2, 2, 2, 2, 2, 2, 2, 2, 2, 2, 2, 2, 2, 2, 2, 2, 2, 2, 2, 2, 2, 2, 2, 2, 2, 2, 2, 2, 2, 2, 2, 2, 2, 2, 2, 2, 2, 2, 2, 2, 2, 2, 2, 2, 2, 2, 2, 2, 2, 2, 2, 2, 2, 2, 2, 2, 2, 2, 2, 2, 2, 2, 2, 2, 2, 2, 2, 2, 2, 2, 2, 2, 2, 2, 2, 2, 2, 2, 2, 2, 2, 2, 2, 2, 2, 2, 2, 2, 2, 2, 2, 2, 2, 2, 2, 2, 2, 2, 2, 2, 2, 2, 2, 2, 2, 2, 2, 2, 2, 2, 2, 2, 2, 2, 2, 2, 2, 2, 2, 2, 2, 2, 2, 2, 2, 2, 2, 2, 2, 2, 3, 3, 3, 3, 3, 3, 3, 3, 3, 3, 3, 3, 3, 3, 3, 3, 3, 3, 3, 3, 3, 3, 3, 3, 3, 3, 3, 3, 3, 3, 3, 3, 3, 3, 3, 3, 3, 3, 3, 3, 3, 3, 3, 3, 3, 3, 3, 3, 3, 3, 3, 3, 3, 3, 3, 3, 3, 3, 3, 3, 3, 3, 3, 3, 3, 3, 3, 3, 3, 3, 3, 3, 3, 3, 3, 3, 3, 3, 3, 3, 3, 3, 3, 3, 3, 3, 3, 3, 3, 3, 3, 3, 3, 3, 3, 3, 3, 3, 3, 3, 3, 3, 3, 3, 3, 3, 3, 3, 3, 3, 3, 3, 3, 3, 3, 3, 3, 3, 3, 3, 3, 3, 3, 3, 3, 3, 3, 3, 3, 3, 3, 3, 3, 3, 3, 3, 3, 3, 3, 3, 3, 3, 3, 3, 3, 3, 3, 3, 3, 3, 4, 4, 4, 4, 4, 4, 4, 4, 4, 4, 4, 4, 4, 4, 4, 4, 4, 4, 4, 4, 4, 4, 4, 4, 4, 4, 4, 4, 4, 4, 4, 4, 4, 4, 4, 4, 4, 4, 4, 4, 4, 4, 4, 4, 4, 4, 4, 4, 4, 4, 4, 4, 4, 4, 4, 4, 4, 4, 4, 4, 4, 4, 4, 4, 4, 4, 4, 4, 4, 4, 4, 4, 4, 4, 4, 4, 4, 4, 4, 4, 4, 4, 4, 4, 4, 4, 4, 4, 4, 4, 4, 4, 4, 4, 4, 4, 4, 4, 4, 4, 4, 4, 4, 4, 4, 4, 4, 4, 4, 4, 4, 4, 4, 4, 4, 4, 4, 4, 4, 4, 4, 4, 4, 4, 4, 4, 4, 4, 4, 4, 4, 4, 4, 4, 4, 4, 4, 4, 4, 4, 4, 4, 4, 4, 4, 4, 4, 4, 4, 4, 5, 5, 5, 5, 5, 5, 5, 5, 5, 5, 5, 5, 5, 5, 5, 5, 5, 5, 5, 5, 5, 5, 5, 5, 5, 5, 5, 5, 5, 5, 5, 5, 5, 5, 5, 5, 5, 5, 5, 5, 5, 5, 5, 5, 5, 5, 5, 5, 5, 5, 5, 5, 5, 5, 5, 5, 5, 5, 5, 5, 5, 5, 5, 5, 5, 5, 5, 5, 5, 5, 5, 5, 5, 5, 5, 6, 6, 6, 6, 6, 6, 6, 6, 6, 6, 6, 6, 6, 6, 6, 6, 6, 6, 6, 6, 6, 6, 6, 6, 6, 6, 6, 6, 6, 6, 6, 6, 6, 6, 6, 6, 6, 6, 6, 6, 6, 6, 6, 6, 6, 6, 6, 6, 6, 6, 6, 6, 6, 6, 6, 6, 6, 6, 6, 6, 6, 6, 6, 6, 6, 6, 6, 6, 6, 6, 6, 6, 6, 6, 6, 6, 6, 6, 6, 6, 6, 6, 6, 6, 6, 6, 6, 6, 6, 6, 6, 6, 6, 6, 6, 6, 6, 6, 6, 6, 6, 6, 6, 6, 6, 6, 6, 6, 6, 6, 6, 6, 6, 6, 6, 6, 6, 6, 6, 6, 6, 6, 6, 6, 6, 6, 6, 6, 6, 6, 6, 6, 6, 6, 6, 6, 6, 6, 6, 6, 6, 6, 6, 6, 6, 6, 6, 6, 6, 6, 7, 7, 7, 7, 7, 7, 7, 7, 7, 7, 7, 7, 7, 7, 7, 7, 7, 7, 7, 7, 7, 7, 7, 7, 7, 7, 7, 7, 7, 7, 7, 7, 7, 7, 7, 7, 7, 7, 7, 7, 7, 7, 7, 7, 7, 7, 7, 7, 7, 7, 7, 7, 7, 7, 7, 7, 7, 7, 7, 7, 7, 7, 7, 7, 7, 7, 7, 7, 7, 7, 7, 7, 7, 7, 7, 7, 7, 7, 7, 7, 7, 7, 7, 7, 7, 7, 7, 7, 7, 7, 7, 7, 7, 7, 7, 7, 7, 7, 7, 7, 7, 7, 7, 7, 7, 7, 7, 7, 7, 7, 7, 7, 7, 7, 7, 7, 7, 7, 7, 7, 7, 7, 7, 7, 7, 7, 7, 7, 7, 7, 7, 7, 7, 7, 7, 7, 7, 7, 7, 7, 7, 7, 7, 7, 7, 7, 7, 7, 7, 7]\n"
          ]
        }
      ],
      "source": [
        "Y = [] # New Label\n",
        "for emo in range(0, len(label)):\n",
        "    if label[emo] == 'angry':\n",
        "      Y.append(0)\n",
        "    if label[emo] == 'calm':\n",
        "      Y.append(1)\n",
        "    if label[emo] == 'disgust':\n",
        "      Y.append(2)\n",
        "    if label[emo] == 'fearful':\n",
        "      Y.append(3)\n",
        "    if label[emo] == 'happy':\n",
        "      Y.append(4)\n",
        "    if label[emo] == 'neutral':\n",
        "      Y.append(5)\n",
        "    if label[emo] == 'sad':\n",
        "      Y.append(6)\n",
        "    if label[emo] == 'surprised':\n",
        "      Y.append(7)\n",
        "print(Y)"
      ]
    },
    {
      "cell_type": "code",
      "execution_count": 30,
      "metadata": {
        "id": "yOh5Troc7H2v"
      },
      "outputs": [],
      "source": [
        "from sklearn import svm\n",
        "from sklearn.metrics import accuracy_score\n",
        "import matplotlib.pyplot as plt"
      ]
    },
    {
      "cell_type": "code",
      "execution_count": 31,
      "metadata": {
        "id": "OSBWyNNp7QNs"
      },
      "outputs": [
        {
          "data": {
            "text/plain": [
              "<mpl_toolkits.mplot3d.art3d.Path3DCollection at 0x2350a625e80>"
            ]
          },
          "execution_count": 31,
          "metadata": {},
          "output_type": "execute_result"
        },
        {
          "data": {
            "image/png": "[encoded data removed]",
            "text/plain": [
              "<Figure size 640x480 with 1 Axes>"
            ]
          },
          "metadata": {},
          "output_type": "display_data"
        }
      ],
      "source": [
        "ax = plt.axes(projection =\"3d\")\n",
        "ax.scatter3D(X[:,0], X[:,1], X[:,2], c=Y)"
      ]
    },
    {
      "cell_type": "code",
      "execution_count": 32,
      "metadata": {
        "id": "dhF-aiuG_eHE"
      },
      "outputs": [
        {
          "name": "stdout",
          "output_type": "stream",
          "text": [
            "0.26755555555555555\n"
          ]
        }
      ],
      "source": [
        "lkf = svm.SVC(C=100, kernel='rbf', gamma = 'scale')\n",
        "lkf.fit(X,Y)\n",
        "accuracy = accuracy_score(Y, lkf.predict(X))\n",
        "print(accuracy)"
      ]
    },
    {
      "cell_type": "code",
      "execution_count": 33,
      "metadata": {
        "id": "x0kg21np9AlT"
      },
      "outputs": [
        {
          "name": "stderr",
          "output_type": "stream",
          "text": [
            "C:\\Users\\Weili Fan\\AppData\\Local\\Temp\\ipykernel_46928\\2291474973.py:7: WavFileWarning: Chunk (non-data) not understood, skipping it.\n",
            "  fs, data = wavfile.read(filename)\n"
          ]
        }
      ],
      "source": [
        "path = \"../../test/test\"\n",
        "os.chdir(path)\n",
        "Et = []\n",
        "ZCt = []\n",
        "NUM = []\n",
        "for filename in os.listdir():\n",
        "    fs, data = wavfile.read(filename)\n",
        "    if len(data.shape) > 1:\n",
        "        data = data[:,0]\n",
        "    data = data.astype(float)\n",
        "    energy = np.inner(data,data)\n",
        "    Et.append(int(energy))\n",
        "    zero_crossings = librosa.zero_crossings(data, pad=False)\n",
        "    ZCt.append(sum(zero_crossings))\n",
        "    NUM.append(str(filename[6: 9]))"
      ]
    },
    {
      "cell_type": "code",
      "execution_count": 34,
      "metadata": {
        "id": "fCD39hxK9426"
      },
      "outputs": [
        {
          "name": "stdout",
          "output_type": "stream",
          "text": [
            "[7 1 4 1 0 1 1 2 6 6 1 1 1 1 1 1 0 4 1 1 1 6 1 3 2 1 1 1 1 1 1 7 1 7 6 6 2\n",
            " 2 7 3 6 1 2 0 7 1 2 6 2 1 7 1 0 1 7 3 2 3 1 0 1 3 1 6 4 6 2 1 1 4 2 4 4 1\n",
            " 1 7 1 1 1 7 1 2 4 1 2 7 7 1 7 7 0 1 1 3 1 1 1 7 0 2 1 1 1 1 4 6 1 1 0 1 2\n",
            " 1 1 1 2 1 1 1 1 1 1 3 1 1 1 7 1 1 3 7 3 6 2 4 1 7 0 1 1 4 2 1 1 3 1 1 1 7\n",
            " 1 4 1 1 1 4 6 1 1 1 7 1 3 4 1 1 7 4 2 3 2 2 1 0 6 1 1 4 1 2 6 0 1 1 1 1 7\n",
            " 7 7 1 1 1 1 0 1 2 6 4 6 1 1 1 4 3 2 1 1 1 6 1 4 1 1 1 3 6 2 1 7 1 1 6 1 1\n",
            " 1 6 3 4 7 1 1 4 3 3 1 1 1 1 1 4 7 3 1 1 0 7 1 1 1 1 1 1 3 2 2 1 1 6 7 4 7\n",
            " 1 2 6 1 0 1 7 2 7 4 6 1 1 4 4 1 1 0 1 1 1 0 1 2 6 6 7 1 3 1 6 2 1 7 3 0 0\n",
            " 2 2 1 1 7 1 1 3 1 1 1 7 1 1 1 6 6 3 3]\n",
            "315\n"
          ]
        }
      ],
      "source": [
        "E1t = np.array(Et).transpose()\n",
        "ZC1t = np.array(ZCt).transpose()\n",
        "P1t = E1t * ZC1t\n",
        "Xt = np.column_stack([E1t, ZC1t, P1t])\n",
        "Yt = lkf.predict(Xt)\n",
        "print(Yt)\n",
        "print(len(Yt))"
      ]
    },
    {
      "cell_type": "code",
      "execution_count": 35,
      "metadata": {
        "id": "pnZy9wlNBar_"
      },
      "outputs": [
        {
          "name": "stdout",
          "output_type": "stream",
          "text": [
            "['000', '001', '002', '003', '004', '005', '006', '007', '008', '009', '010', '011', '012', '013', '014', '015', '016', '017', '018', '019', '020', '021', '022', '023', '024', '025', '026', '027', '028', '029', '030', '031', '032', '033', '034', '035', '036', '037', '038', '039', '040', '041', '042', '043', '044', '045', '046', '047', '048', '049', '050', '051', '052', '053', '054', '055', '056', '057', '058', '059', '060', '061', '062', '063', '064', '065', '066', '067', '068', '069', '070', '071', '072', '073', '074', '075', '076', '077', '078', '079', '080', '081', '082', '083', '084', '085', '086', '087', '088', '089', '090', '091', '092', '093', '094', '095', '096', '097', '098', '099', '100', '101', '102', '103', '104', '105', '106', '107', '108', '109', '110', '111', '112', '113', '114', '115', '116', '117', '118', '119', '120', '121', '122', '123', '124', '125', '126', '127', '128', '129', '130', '131', '132', '133', '134', '135', '136', '137', '138', '139', '140', '141', '142', '143', '144', '145', '146', '147', '148', '149', '150', '151', '152', '153', '154', '155', '156', '157', '158', '159', '160', '161', '162', '163', '164', '165', '166', '167', '168', '169', '170', '171', '172', '173', '174', '175', '176', '177', '178', '179', '180', '181', '182', '183', '184', '185', '186', '187', '188', '189', '190', '191', '192', '193', '194', '195', '196', '197', '198', '199', '200', '201', '202', '203', '204', '205', '206', '207', '208', '209', '210', '211', '212', '213', '214', '215', '216', '217', '218', '219', '220', '221', '222', '223', '224', '225', '226', '227', '228', '229', '230', '231', '232', '233', '234', '235', '236', '237', '238', '239', '240', '241', '242', '243', '244', '245', '246', '247', '248', '249', '250', '251', '252', '253', '254', '255', '256', '257', '258', '259', '260', '261', '262', '263', '264', '265', '266', '267', '268', '269', '270', '271', '272', '273', '274', '275', '276', '277', '278', '279', '280', '281', '282', '283', '284', '285', '286', '287', '288', '289', '290', '291', '292', '293', '294', '295', '296', '297', '298', '299', '300', '301', '302', '303', '304', '305', '306', '307', '308', '309', '310', '311', '312', '313', '314']\n",
            "['surprised', 'calm', 'happy', 'calm', 'angry', 'calm', 'calm', 'disgust', 'sad', 'sad', 'calm', 'calm', 'calm', 'calm', 'calm', 'calm', 'angry', 'happy', 'calm', 'calm', 'calm', 'sad', 'calm', 'fearful', 'disgust', 'calm', 'calm', 'calm', 'calm', 'calm', 'calm', 'surprised', 'calm', 'surprised', 'sad', 'sad', 'disgust', 'disgust', 'surprised', 'fearful', 'sad', 'calm', 'disgust', 'angry', 'surprised', 'calm', 'disgust', 'sad', 'disgust', 'calm', 'surprised', 'calm', 'angry', 'calm', 'surprised', 'fearful', 'disgust', 'fearful', 'calm', 'angry', 'calm', 'fearful', 'calm', 'sad', 'happy', 'sad', 'disgust', 'calm', 'calm', 'happy', 'disgust', 'happy', 'happy', 'calm', 'calm', 'surprised', 'calm', 'calm', 'calm', 'surprised', 'calm', 'disgust', 'happy', 'calm', 'disgust', 'surprised', 'surprised', 'calm', 'surprised', 'surprised', 'angry', 'calm', 'calm', 'fearful', 'calm', 'calm', 'calm', 'surprised', 'angry', 'disgust', 'calm', 'calm', 'calm', 'calm', 'happy', 'sad', 'calm', 'calm', 'angry', 'calm', 'disgust', 'calm', 'calm', 'calm', 'disgust', 'calm', 'calm', 'calm', 'calm', 'calm', 'calm', 'fearful', 'calm', 'calm', 'calm', 'surprised', 'calm', 'calm', 'fearful', 'surprised', 'fearful', 'sad', 'disgust', 'happy', 'calm', 'surprised', 'angry', 'calm', 'calm', 'happy', 'disgust', 'calm', 'calm', 'fearful', 'calm', 'calm', 'calm', 'surprised', 'calm', 'happy', 'calm', 'calm', 'calm', 'happy', 'sad', 'calm', 'calm', 'calm', 'surprised', 'calm', 'fearful', 'happy', 'calm', 'calm', 'surprised', 'happy', 'disgust', 'fearful', 'disgust', 'disgust', 'calm', 'angry', 'sad', 'calm', 'calm', 'happy', 'calm', 'disgust', 'sad', 'angry', 'calm', 'calm', 'calm', 'calm', 'surprised', 'surprised', 'surprised', 'calm', 'calm', 'calm', 'calm', 'angry', 'calm', 'disgust', 'sad', 'happy', 'sad', 'calm', 'calm', 'calm', 'happy', 'fearful', 'disgust', 'calm', 'calm', 'calm', 'sad', 'calm', 'happy', 'calm', 'calm', 'calm', 'fearful', 'sad', 'disgust', 'calm', 'surprised', 'calm', 'calm', 'sad', 'calm', 'calm', 'calm', 'sad', 'fearful', 'happy', 'surprised', 'calm', 'calm', 'happy', 'fearful', 'fearful', 'calm', 'calm', 'calm', 'calm', 'calm', 'happy', 'surprised', 'fearful', 'calm', 'calm', 'angry', 'surprised', 'calm', 'calm', 'calm', 'calm', 'calm', 'calm', 'fearful', 'disgust', 'disgust', 'calm', 'calm', 'sad', 'surprised', 'happy', 'surprised', 'calm', 'disgust', 'sad', 'calm', 'angry', 'calm', 'surprised', 'disgust', 'surprised', 'happy', 'sad', 'calm', 'calm', 'happy', 'happy', 'calm', 'calm', 'angry', 'calm', 'calm', 'calm', 'angry', 'calm', 'disgust', 'sad', 'sad', 'surprised', 'calm', 'fearful', 'calm', 'sad', 'disgust', 'calm', 'surprised', 'fearful', 'angry', 'angry', 'disgust', 'disgust', 'calm', 'calm', 'surprised', 'calm', 'calm', 'fearful', 'calm', 'calm', 'calm', 'surprised', 'calm', 'calm', 'calm', 'sad', 'sad', 'fearful', 'fearful']\n"
          ]
        }
      ],
      "source": [
        "res = []\n",
        "for emo in range(0, len(Yt)):\n",
        "    if Yt[emo] == 0:\n",
        "      res.append('angry')\n",
        "    if Yt[emo] == 1:\n",
        "      res.append('calm')\n",
        "    if Yt[emo] == 2:\n",
        "      res.append('disgust')\n",
        "    if Yt[emo] == 3:\n",
        "      res.append('fearful')\n",
        "    if Yt[emo] == 4:\n",
        "      res.append('happy')\n",
        "    if Yt[emo] == 5:\n",
        "      res.append('neutral')\n",
        "    if Yt[emo] == 6:\n",
        "      res.append('sad')\n",
        "    if Yt[emo] == 7:\n",
        "      res.append('surprised')\n",
        "print(NUM)\n",
        "print(res)"
      ]
    },
    {
      "cell_type": "code",
      "execution_count": 36,
      "metadata": {
        "id": "7IEUxEv-DJgP"
      },
      "outputs": [
        {
          "data": {
            "text/plain": [
              "array([['sample000', 'surprised'],\n",
              "       ['sample001', 'calm'],\n",
              "       ['sample002', 'happy'],\n",
              "       ['sample003', 'calm'],\n",
              "       ['sample004', 'angry'],\n",
              "       ['sample005', 'calm'],\n",
              "       ['sample006', 'calm'],\n",
              "       ['sample007', 'disgust'],\n",
              "       ['sample008', 'sad'],\n",
              "       ['sample009', 'sad'],\n",
              "       ['sample010', 'calm'],\n",
              "       ['sample011', 'calm'],\n",
              "       ['sample012', 'calm'],\n",
              "       ['sample013', 'calm'],\n",
              "       ['sample014', 'calm'],\n",
              "       ['sample015', 'calm'],\n",
              "       ['sample016', 'angry'],\n",
              "       ['sample017', 'happy'],\n",
              "       ['sample018', 'calm'],\n",
              "       ['sample019', 'calm'],\n",
              "       ['sample020', 'calm'],\n",
              "       ['sample021', 'sad'],\n",
              "       ['sample022', 'calm'],\n",
              "       ['sample023', 'fearful'],\n",
              "       ['sample024', 'disgust'],\n",
              "       ['sample025', 'calm'],\n",
              "       ['sample026', 'calm'],\n",
              "       ['sample027', 'calm'],\n",
              "       ['sample028', 'calm'],\n",
              "       ['sample029', 'calm'],\n",
              "       ['sample030', 'calm'],\n",
              "       ['sample031', 'surprised'],\n",
              "       ['sample032', 'calm'],\n",
              "       ['sample033', 'surprised'],\n",
              "       ['sample034', 'sad'],\n",
              "       ['sample035', 'sad'],\n",
              "       ['sample036', 'disgust'],\n",
              "       ['sample037', 'disgust'],\n",
              "       ['sample038', 'surprised'],\n",
              "       ['sample039', 'fearful'],\n",
              "       ['sample040', 'sad'],\n",
              "       ['sample041', 'calm'],\n",
              "       ['sample042', 'disgust'],\n",
              "       ['sample043', 'angry'],\n",
              "       ['sample044', 'surprised'],\n",
              "       ['sample045', 'calm'],\n",
              "       ['sample046', 'disgust'],\n",
              "       ['sample047', 'sad'],\n",
              "       ['sample048', 'disgust'],\n",
              "       ['sample049', 'calm'],\n",
              "       ['sample050', 'surprised'],\n",
              "       ['sample051', 'calm'],\n",
              "       ['sample052', 'angry'],\n",
              "       ['sample053', 'calm'],\n",
              "       ['sample054', 'surprised'],\n",
              "       ['sample055', 'fearful'],\n",
              "       ['sample056', 'disgust'],\n",
              "       ['sample057', 'fearful'],\n",
              "       ['sample058', 'calm'],\n",
              "       ['sample059', 'angry'],\n",
              "       ['sample060', 'calm'],\n",
              "       ['sample061', 'fearful'],\n",
              "       ['sample062', 'calm'],\n",
              "       ['sample063', 'sad'],\n",
              "       ['sample064', 'happy'],\n",
              "       ['sample065', 'sad'],\n",
              "       ['sample066', 'disgust'],\n",
              "       ['sample067', 'calm'],\n",
              "       ['sample068', 'calm'],\n",
              "       ['sample069', 'happy'],\n",
              "       ['sample070', 'disgust'],\n",
              "       ['sample071', 'happy'],\n",
              "       ['sample072', 'happy'],\n",
              "       ['sample073', 'calm'],\n",
              "       ['sample074', 'calm'],\n",
              "       ['sample075', 'surprised'],\n",
              "       ['sample076', 'calm'],\n",
              "       ['sample077', 'calm'],\n",
              "       ['sample078', 'calm'],\n",
              "       ['sample079', 'surprised'],\n",
              "       ['sample080', 'calm'],\n",
              "       ['sample081', 'disgust'],\n",
              "       ['sample082', 'happy'],\n",
              "       ['sample083', 'calm'],\n",
              "       ['sample084', 'disgust'],\n",
              "       ['sample085', 'surprised'],\n",
              "       ['sample086', 'surprised'],\n",
              "       ['sample087', 'calm'],\n",
              "       ['sample088', 'surprised'],\n",
              "       ['sample089', 'surprised'],\n",
              "       ['sample090', 'angry'],\n",
              "       ['sample091', 'calm'],\n",
              "       ['sample092', 'calm'],\n",
              "       ['sample093', 'fearful'],\n",
              "       ['sample094', 'calm'],\n",
              "       ['sample095', 'calm'],\n",
              "       ['sample096', 'calm'],\n",
              "       ['sample097', 'surprised'],\n",
              "       ['sample098', 'angry'],\n",
              "       ['sample099', 'disgust'],\n",
              "       ['sample100', 'calm'],\n",
              "       ['sample101', 'calm'],\n",
              "       ['sample102', 'calm'],\n",
              "       ['sample103', 'calm'],\n",
              "       ['sample104', 'happy'],\n",
              "       ['sample105', 'sad'],\n",
              "       ['sample106', 'calm'],\n",
              "       ['sample107', 'calm'],\n",
              "       ['sample108', 'angry'],\n",
              "       ['sample109', 'calm'],\n",
              "       ['sample110', 'disgust'],\n",
              "       ['sample111', 'calm'],\n",
              "       ['sample112', 'calm'],\n",
              "       ['sample113', 'calm'],\n",
              "       ['sample114', 'disgust'],\n",
              "       ['sample115', 'calm'],\n",
              "       ['sample116', 'calm'],\n",
              "       ['sample117', 'calm'],\n",
              "       ['sample118', 'calm'],\n",
              "       ['sample119', 'calm'],\n",
              "       ['sample120', 'calm'],\n",
              "       ['sample121', 'fearful'],\n",
              "       ['sample122', 'calm'],\n",
              "       ['sample123', 'calm'],\n",
              "       ['sample124', 'calm'],\n",
              "       ['sample125', 'surprised'],\n",
              "       ['sample126', 'calm'],\n",
              "       ['sample127', 'calm'],\n",
              "       ['sample128', 'fearful'],\n",
              "       ['sample129', 'surprised'],\n",
              "       ['sample130', 'fearful'],\n",
              "       ['sample131', 'sad'],\n",
              "       ['sample132', 'disgust'],\n",
              "       ['sample133', 'happy'],\n",
              "       ['sample134', 'calm'],\n",
              "       ['sample135', 'surprised'],\n",
              "       ['sample136', 'angry'],\n",
              "       ['sample137', 'calm'],\n",
              "       ['sample138', 'calm'],\n",
              "       ['sample139', 'happy'],\n",
              "       ['sample140', 'disgust'],\n",
              "       ['sample141', 'calm'],\n",
              "       ['sample142', 'calm'],\n",
              "       ['sample143', 'fearful'],\n",
              "       ['sample144', 'calm'],\n",
              "       ['sample145', 'calm'],\n",
              "       ['sample146', 'calm'],\n",
              "       ['sample147', 'surprised'],\n",
              "       ['sample148', 'calm'],\n",
              "       ['sample149', 'happy'],\n",
              "       ['sample150', 'calm'],\n",
              "       ['sample151', 'calm'],\n",
              "       ['sample152', 'calm'],\n",
              "       ['sample153', 'happy'],\n",
              "       ['sample154', 'sad'],\n",
              "       ['sample155', 'calm'],\n",
              "       ['sample156', 'calm'],\n",
              "       ['sample157', 'calm'],\n",
              "       ['sample158', 'surprised'],\n",
              "       ['sample159', 'calm'],\n",
              "       ['sample160', 'fearful'],\n",
              "       ['sample161', 'happy'],\n",
              "       ['sample162', 'calm'],\n",
              "       ['sample163', 'calm'],\n",
              "       ['sample164', 'surprised'],\n",
              "       ['sample165', 'happy'],\n",
              "       ['sample166', 'disgust'],\n",
              "       ['sample167', 'fearful'],\n",
              "       ['sample168', 'disgust'],\n",
              "       ['sample169', 'disgust'],\n",
              "       ['sample170', 'calm'],\n",
              "       ['sample171', 'angry'],\n",
              "       ['sample172', 'sad'],\n",
              "       ['sample173', 'calm'],\n",
              "       ['sample174', 'calm'],\n",
              "       ['sample175', 'happy'],\n",
              "       ['sample176', 'calm'],\n",
              "       ['sample177', 'disgust'],\n",
              "       ['sample178', 'sad'],\n",
              "       ['sample179', 'angry'],\n",
              "       ['sample180', 'calm'],\n",
              "       ['sample181', 'calm'],\n",
              "       ['sample182', 'calm'],\n",
              "       ['sample183', 'calm'],\n",
              "       ['sample184', 'surprised'],\n",
              "       ['sample185', 'surprised'],\n",
              "       ['sample186', 'surprised'],\n",
              "       ['sample187', 'calm'],\n",
              "       ['sample188', 'calm'],\n",
              "       ['sample189', 'calm'],\n",
              "       ['sample190', 'calm'],\n",
              "       ['sample191', 'angry'],\n",
              "       ['sample192', 'calm'],\n",
              "       ['sample193', 'disgust'],\n",
              "       ['sample194', 'sad'],\n",
              "       ['sample195', 'happy'],\n",
              "       ['sample196', 'sad'],\n",
              "       ['sample197', 'calm'],\n",
              "       ['sample198', 'calm'],\n",
              "       ['sample199', 'calm'],\n",
              "       ['sample200', 'happy'],\n",
              "       ['sample201', 'fearful'],\n",
              "       ['sample202', 'disgust'],\n",
              "       ['sample203', 'calm'],\n",
              "       ['sample204', 'calm'],\n",
              "       ['sample205', 'calm'],\n",
              "       ['sample206', 'sad'],\n",
              "       ['sample207', 'calm'],\n",
              "       ['sample208', 'happy'],\n",
              "       ['sample209', 'calm'],\n",
              "       ['sample210', 'calm'],\n",
              "       ['sample211', 'calm'],\n",
              "       ['sample212', 'fearful'],\n",
              "       ['sample213', 'sad'],\n",
              "       ['sample214', 'disgust'],\n",
              "       ['sample215', 'calm'],\n",
              "       ['sample216', 'surprised'],\n",
              "       ['sample217', 'calm'],\n",
              "       ['sample218', 'calm'],\n",
              "       ['sample219', 'sad'],\n",
              "       ['sample220', 'calm'],\n",
              "       ['sample221', 'calm'],\n",
              "       ['sample222', 'calm'],\n",
              "       ['sample223', 'sad'],\n",
              "       ['sample224', 'fearful'],\n",
              "       ['sample225', 'happy'],\n",
              "       ['sample226', 'surprised'],\n",
              "       ['sample227', 'calm'],\n",
              "       ['sample228', 'calm'],\n",
              "       ['sample229', 'happy'],\n",
              "       ['sample230', 'fearful'],\n",
              "       ['sample231', 'fearful'],\n",
              "       ['sample232', 'calm'],\n",
              "       ['sample233', 'calm'],\n",
              "       ['sample234', 'calm'],\n",
              "       ['sample235', 'calm'],\n",
              "       ['sample236', 'calm'],\n",
              "       ['sample237', 'happy'],\n",
              "       ['sample238', 'surprised'],\n",
              "       ['sample239', 'fearful'],\n",
              "       ['sample240', 'calm'],\n",
              "       ['sample241', 'calm'],\n",
              "       ['sample242', 'angry'],\n",
              "       ['sample243', 'surprised'],\n",
              "       ['sample244', 'calm'],\n",
              "       ['sample245', 'calm'],\n",
              "       ['sample246', 'calm'],\n",
              "       ['sample247', 'calm'],\n",
              "       ['sample248', 'calm'],\n",
              "       ['sample249', 'calm'],\n",
              "       ['sample250', 'fearful'],\n",
              "       ['sample251', 'disgust'],\n",
              "       ['sample252', 'disgust'],\n",
              "       ['sample253', 'calm'],\n",
              "       ['sample254', 'calm'],\n",
              "       ['sample255', 'sad'],\n",
              "       ['sample256', 'surprised'],\n",
              "       ['sample257', 'happy'],\n",
              "       ['sample258', 'surprised'],\n",
              "       ['sample259', 'calm'],\n",
              "       ['sample260', 'disgust'],\n",
              "       ['sample261', 'sad'],\n",
              "       ['sample262', 'calm'],\n",
              "       ['sample263', 'angry'],\n",
              "       ['sample264', 'calm'],\n",
              "       ['sample265', 'surprised'],\n",
              "       ['sample266', 'disgust'],\n",
              "       ['sample267', 'surprised'],\n",
              "       ['sample268', 'happy'],\n",
              "       ['sample269', 'sad'],\n",
              "       ['sample270', 'calm'],\n",
              "       ['sample271', 'calm'],\n",
              "       ['sample272', 'happy'],\n",
              "       ['sample273', 'happy'],\n",
              "       ['sample274', 'calm'],\n",
              "       ['sample275', 'calm'],\n",
              "       ['sample276', 'angry'],\n",
              "       ['sample277', 'calm'],\n",
              "       ['sample278', 'calm'],\n",
              "       ['sample279', 'calm'],\n",
              "       ['sample280', 'angry'],\n",
              "       ['sample281', 'calm'],\n",
              "       ['sample282', 'disgust'],\n",
              "       ['sample283', 'sad'],\n",
              "       ['sample284', 'sad'],\n",
              "       ['sample285', 'surprised'],\n",
              "       ['sample286', 'calm'],\n",
              "       ['sample287', 'fearful'],\n",
              "       ['sample288', 'calm'],\n",
              "       ['sample289', 'sad'],\n",
              "       ['sample290', 'disgust'],\n",
              "       ['sample291', 'calm'],\n",
              "       ['sample292', 'surprised'],\n",
              "       ['sample293', 'fearful'],\n",
              "       ['sample294', 'angry'],\n",
              "       ['sample295', 'angry'],\n",
              "       ['sample296', 'disgust'],\n",
              "       ['sample297', 'disgust'],\n",
              "       ['sample298', 'calm'],\n",
              "       ['sample299', 'calm'],\n",
              "       ['sample300', 'surprised'],\n",
              "       ['sample301', 'calm'],\n",
              "       ['sample302', 'calm'],\n",
              "       ['sample303', 'fearful'],\n",
              "       ['sample304', 'calm'],\n",
              "       ['sample305', 'calm'],\n",
              "       ['sample306', 'calm'],\n",
              "       ['sample307', 'surprised'],\n",
              "       ['sample308', 'calm'],\n",
              "       ['sample309', 'calm'],\n",
              "       ['sample310', 'calm'],\n",
              "       ['sample311', 'sad'],\n",
              "       ['sample312', 'sad'],\n",
              "       ['sample313', 'fearful'],\n",
              "       ['sample314', 'fearful']], dtype='<U9')"
            ]
          },
          "execution_count": 36,
          "metadata": {},
          "output_type": "execute_result"
        }
      ],
      "source": [
        "res = np.array(res).transpose()\n",
        "NUM = np.array(NUM).transpose()\n",
        "sample = np.column_stack([NUM, res])\n",
        "sort_sample = sample[sample[:, 0].argsort()]\n",
        "name = []\n",
        "for item in sort_sample[:,0]:\n",
        "  item = 'sample'+str(item)\n",
        "  name.append(item)\n",
        "name = np.array(name).transpose()\n",
        "sort_sample[:,0] = name\n",
        "sort_sample"
      ]
    },
    {
      "cell_type": "code",
      "execution_count": 37,
      "metadata": {},
      "outputs": [],
      "source": [
        "path = \"../../\"\n",
        "os.chdir(path)"
      ]
    },
    {
      "cell_type": "code",
      "execution_count": 38,
      "metadata": {
        "id": "JqZD9kZLI0my"
      },
      "outputs": [],
      "source": [
        "\n",
        "\n",
        "import pandas as pd\n",
        "DF = pd.DataFrame(sort_sample)\n",
        "DF.columns = ['filename', 'label']\n",
        "DF.to_csv(\"energy ZC SVM.csv\", index=False)"
      ]
    }
  ],
  "metadata": {
    "colab": {
      "provenance": []
    },
    "kernelspec": {
      "display_name": "Python 3.9.1 64-bit",
      "language": "python",
      "name": "python3"
    },
    "language_info": {
      "codemirror_mode": {
        "name": "ipython",
        "version": 3
      },
      "file_extension": ".py",
      "mimetype": "text/x-python",
      "name": "python",
      "nbconvert_exporter": "python",
      "pygments_lexer": "ipython3",
      "version": "3.9.1"
    },
    "vscode": {
      "interpreter": {
        "hash": "1069c1e00a215b1f02473d6a16c0760db8a56168728b44b16b6ac804c935dc98"
      }
    }
  },
  "nbformat": 4,
  "nbformat_minor": 0
}
