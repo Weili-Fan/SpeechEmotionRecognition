{
  "nbformat": 4,
  "nbformat_minor": 0,
  "metadata": {
    "colab": {
      "provenance": []
    },
    "kernelspec": {
      "name": "python3",
      "display_name": "Python 3"
    },
    "language_info": {
      "name": "python"
    }
  },
  "cells": [
    {
      "cell_type": "code",
      "execution_count": null,
      "metadata": {
        "id": "hITzMUVYw9OJ"
      },
      "outputs": [],
      "source": [
        "!pwd\n",
        "!ls"
      ]
    },
    {
      "cell_type": "code",
      "source": [
        "import os\n",
        "import numpy as np\n",
        "import matplotlib.pyplot as plt\n",
        "from scipy.io import wavfile\n",
        "from scipy.fft import fft\n",
        "import scipy.signal as signal"
      ],
      "metadata": {
        "id": "Oyoc479wxWSv"
      },
      "execution_count": null,
      "outputs": []
    },
    {
      "cell_type": "code",
      "source": [
        "path = \"./drive/MyDrive/ELEC301/data\"\n",
        "os.chdir(path)"
      ],
      "metadata": {
        "id": "HnYbN7JUxbOn"
      },
      "execution_count": null,
      "outputs": []
    },
    {
      "cell_type": "code",
      "source": [
        "# Time Domain Data\n",
        "data_t = []\n",
        "label = []\n",
        "for filename in os.listdir():\n",
        "    fs, data = wavfile.read(filename)\n",
        "    if len(data.shape) > 1:\n",
        "        data = data[:, 0]\n",
        "    data = data.astype(float)\n",
        "    data_t.append(data)\n",
        "    label.append(str(filename[: -7]))\n"
      ],
      "metadata": {
        "id": "Zd43PPKSyXmw"
      },
      "execution_count": null,
      "outputs": []
    },
    {
      "cell_type": "code",
      "source": [],
      "metadata": {
        "colab": {
          "base_uri": "https://localhost:8080/",
          "height": 173
        },
        "id": "xOdHAph_SToZ",
        "outputId": "6ae0c176-6e69-469a-cb6d-2f274cc5edcc"
      },
      "execution_count": null,
      "outputs": [
        {
          "output_type": "error",
          "ename": "IndexError",
          "evalue": "ignored",
          "traceback": [
            "\u001b[0;31m---------------------------------------------------------------------------\u001b[0m",
            "\u001b[0;31mIndexError\u001b[0m                                Traceback (most recent call last)",
            "\u001b[0;32m<ipython-input-11-9307d3484865>\u001b[0m in \u001b[0;36m<module>\u001b[0;34m\u001b[0m\n\u001b[0;32m----> 1\u001b[0;31m \u001b[0mdata_t\u001b[0m\u001b[0;34m[\u001b[0m\u001b[0;36m1124\u001b[0m\u001b[0;34m]\u001b[0m\u001b[0;34m.\u001b[0m\u001b[0mshape\u001b[0m\u001b[0;34m\u001b[0m\u001b[0;34m\u001b[0m\u001b[0m\n\u001b[0m",
            "\u001b[0;31mIndexError\u001b[0m: list index out of range"
          ]
        }
      ]
    },
    {
      "cell_type": "code",
      "source": [
        "data_pad = np.zeros((len(L), max(L))) # Time Domain Data\n",
        "for i in range(0, len(L)):\n",
        "    data_pad[i, range(0, L[i])] = data_t[i]\n",
        "print(data_pad)"
      ],
      "metadata": {
        "id": "YoVazRMdl_Ju"
      },
      "execution_count": null,
      "outputs": []
    },
    {
      "cell_type": "code",
      "source": [
        "# Spectrogram\n",
        "DFT = []\n",
        "for i in range(1125):\n",
        "  seg = []\n",
        "  for j in range(6):\n",
        "    f,t,Sxx = signal.spectrogram(D[i][j], fs=48000, nperseg=1024)\n",
        "    Sxx_cut = Sxx[range(46)]\n",
        "    Sxx_final = Sxx_cut[:,range(0,46)]\n",
        "    seg.append(Sxx_final)\n",
        "  DFT.append(seg)"
      ],
      "metadata": {
        "id": "xYzNFC18YhO-"
      },
      "execution_count": null,
      "outputs": []
    },
    {
      "cell_type": "code",
      "source": [
        "print(DFT[0][0].shape)\n",
        "print(t.shape)\n",
        "print(f[45])\n",
        "fig, ax = plt.subplots(1,1)\n",
        "ax.pcolormesh(t[range(46)],f[range(46)],DFT[10][1],shading='gouraud')"
      ],
      "metadata": {
        "id": "aKLvOA9en52R"
      },
      "execution_count": null,
      "outputs": []
    },
    {
      "cell_type": "code",
      "source": [
        "DFT = np.array(DFT)\n",
        "DFT.shape"
      ],
      "metadata": {
        "colab": {
          "base_uri": "https://localhost:8080/"
        },
        "id": "JCjZj3kOwrf-",
        "outputId": "499357a9-e917-400e-d037-97a443ed706a"
      },
      "execution_count": null,
      "outputs": [
        {
          "output_type": "execute_result",
          "data": {
            "text/plain": [
              "(1125, 6, 46, 46)"
            ]
          },
          "metadata": {},
          "execution_count": 19
        }
      ]
    },
    {
      "cell_type": "code",
      "source": [
        "DATA = np.zeros((1125,46,46,6))\n",
        "for i in range(1125):\n",
        "  for j in range(46):\n",
        "    for k in range(46):\n",
        "      for m in range(6):\n",
        "        DATA[i,j,k,m] = DFT[i,m,j,k]"
      ],
      "metadata": {
        "id": "OQEcR5tJ-4Dd"
      },
      "execution_count": null,
      "outputs": []
    },
    {
      "cell_type": "code",
      "source": [
        "# Put Data Into 2D Matrix\n",
        "D = []\n",
        "for i in range(1125):\n",
        "  seg_data = []\n",
        "  for j in range(6):\n",
        "    data = data_pad[i]\n",
        "    seg = int(len(data)/(6))\n",
        "    if j < (5):\n",
        "      seg_data.append(data[j*seg:j*seg+seg])\n",
        "    else:\n",
        "      seg_data.append(data[5*seg:-3])\n",
        "  D.append(seg_data)"
      ],
      "metadata": {
        "id": "kz7uWRV-XBha"
      },
      "execution_count": null,
      "outputs": []
    },
    {
      "cell_type": "code",
      "source": [
        "D[0][1].shape"
      ],
      "metadata": {
        "colab": {
          "base_uri": "https://localhost:8080/"
        },
        "id": "xIjUskMa7IAj",
        "outputId": "e6b498db-c6dd-4ecb-f3bf-79b2a79a21b8"
      },
      "execution_count": null,
      "outputs": [
        {
          "output_type": "execute_result",
          "data": {
            "text/plain": [
              "(42175,)"
            ]
          },
          "metadata": {},
          "execution_count": 12
        }
      ]
    },
    {
      "cell_type": "code",
      "source": [
        "!pip install python_speech_features"
      ],
      "metadata": {
        "id": "f-E6FKeiAzQT"
      },
      "execution_count": null,
      "outputs": []
    },
    {
      "cell_type": "code",
      "source": [
        "# MFCC\n",
        "from python_speech_features import mfcc\n",
        "MFCC = []\n",
        "for i in range(len(data_pad)):\n",
        "    features_mfcc = mfcc(data_pad[i], fs, nfft=1200)\n",
        "    features_mfcc = features_mfcc[:, 1:]\n",
        "    features_mfcc = features_mfcc.T\n",
        "    #mfcc_processed = np.mean(features_mfcc,axis=1)\n",
        "    #mid.append(features_mfcc)\n",
        "    MFCC.append(features_mfcc)"
      ],
      "metadata": {
        "id": "DgOJ_Kjczu32"
      },
      "execution_count": null,
      "outputs": []
    },
    {
      "cell_type": "code",
      "source": [
        "MFCC = np.array(MFCC)\n",
        "MFCC.shape"
      ],
      "metadata": {
        "id": "B4Jvf4JlZT9-",
        "colab": {
          "base_uri": "https://localhost:8080/"
        },
        "outputId": "8d91288e-009e-4e05-cee2-18f20662547f"
      },
      "execution_count": null,
      "outputs": [
        {
          "output_type": "execute_result",
          "data": {
            "text/plain": [
              "(1125, 12, 526)"
            ]
          },
          "metadata": {},
          "execution_count": 103
        }
      ]
    },
    {
      "cell_type": "code",
      "source": [
        "print(type(MFCC[0]))\n",
        "MFCC1= np.zeros((1125,3,3,12))\n",
        "for i in range(1125):\n",
        "  for j in range(3):\n",
        "    for k in range(3):\n",
        "      MFCC1[i,j,k] = MFCC[i,3*j+k,:]\n",
        "print(MFCC1[0][1][1])"
      ],
      "metadata": {
        "colab": {
          "base_uri": "https://localhost:8080/",
          "height": 244
        },
        "id": "Dwlt37qnasHC",
        "outputId": "306c23ad-eebd-4331-a1cf-6204600f1545"
      },
      "execution_count": null,
      "outputs": [
        {
          "output_type": "stream",
          "name": "stdout",
          "text": [
            "<class 'numpy.ndarray'>\n"
          ]
        },
        {
          "output_type": "error",
          "ename": "IndexError",
          "evalue": "ignored",
          "traceback": [
            "\u001b[0;31m---------------------------------------------------------------------------\u001b[0m",
            "\u001b[0;31mIndexError\u001b[0m                                Traceback (most recent call last)",
            "\u001b[0;32m<ipython-input-216-c31225ebca26>\u001b[0m in \u001b[0;36m<module>\u001b[0;34m\u001b[0m\n\u001b[1;32m      4\u001b[0m   \u001b[0;32mfor\u001b[0m \u001b[0mj\u001b[0m \u001b[0;32min\u001b[0m \u001b[0mrange\u001b[0m\u001b[0;34m(\u001b[0m\u001b[0;36m3\u001b[0m\u001b[0;34m)\u001b[0m\u001b[0;34m:\u001b[0m\u001b[0;34m\u001b[0m\u001b[0;34m\u001b[0m\u001b[0m\n\u001b[1;32m      5\u001b[0m     \u001b[0;32mfor\u001b[0m \u001b[0mk\u001b[0m \u001b[0;32min\u001b[0m \u001b[0mrange\u001b[0m\u001b[0;34m(\u001b[0m\u001b[0;36m3\u001b[0m\u001b[0;34m)\u001b[0m\u001b[0;34m:\u001b[0m\u001b[0;34m\u001b[0m\u001b[0;34m\u001b[0m\u001b[0m\n\u001b[0;32m----> 6\u001b[0;31m       \u001b[0mMFCC1\u001b[0m\u001b[0;34m[\u001b[0m\u001b[0mi\u001b[0m\u001b[0;34m,\u001b[0m\u001b[0mj\u001b[0m\u001b[0;34m,\u001b[0m\u001b[0mk\u001b[0m\u001b[0;34m]\u001b[0m \u001b[0;34m=\u001b[0m \u001b[0mMFCC\u001b[0m\u001b[0;34m[\u001b[0m\u001b[0mi\u001b[0m\u001b[0;34m,\u001b[0m\u001b[0;36m3\u001b[0m\u001b[0;34m*\u001b[0m\u001b[0mj\u001b[0m\u001b[0;34m+\u001b[0m\u001b[0mk\u001b[0m\u001b[0;34m,\u001b[0m\u001b[0;34m:\u001b[0m\u001b[0;34m]\u001b[0m\u001b[0;34m\u001b[0m\u001b[0;34m\u001b[0m\u001b[0m\n\u001b[0m\u001b[1;32m      7\u001b[0m \u001b[0mprint\u001b[0m\u001b[0;34m(\u001b[0m\u001b[0mMFCC1\u001b[0m\u001b[0;34m[\u001b[0m\u001b[0;36m0\u001b[0m\u001b[0;34m]\u001b[0m\u001b[0;34m[\u001b[0m\u001b[0;36m1\u001b[0m\u001b[0;34m]\u001b[0m\u001b[0;34m[\u001b[0m\u001b[0;36m1\u001b[0m\u001b[0;34m]\u001b[0m\u001b[0;34m)\u001b[0m\u001b[0;34m\u001b[0m\u001b[0;34m\u001b[0m\u001b[0m\n",
            "\u001b[0;31mIndexError\u001b[0m: index 6 is out of bounds for axis 1 with size 6"
          ]
        }
      ]
    },
    {
      "cell_type": "code",
      "source": [
        "# Make Number Label\n",
        "Y = []\n",
        "for emo in range(0, len(label)):\n",
        "    if label[emo] == 'angry':\n",
        "      Y.append(0)\n",
        "    if label[emo] == 'calm':\n",
        "      Y.append(1)\n",
        "    if label[emo] == 'disgust':\n",
        "      Y.append(2)\n",
        "    if label[emo] == 'fearful':\n",
        "      Y.append(3)\n",
        "    if label[emo] == 'happy':\n",
        "      Y.append(4)\n",
        "    if label[emo] == 'neutral':\n",
        "      Y.append(5)\n",
        "    if label[emo] == 'sad':\n",
        "      Y.append(6)\n",
        "    if label[emo] == 'surprised':\n",
        "      Y.append(7)"
      ],
      "metadata": {
        "id": "TZFNni_UyhRz"
      },
      "execution_count": null,
      "outputs": []
    },
    {
      "cell_type": "code",
      "source": [
        "DATA[0].shape"
      ],
      "metadata": {
        "colab": {
          "base_uri": "https://localhost:8080/"
        },
        "id": "fDewgEwjw3dU",
        "outputId": "e3f76a98-afae-479a-f43b-3df34093bded"
      },
      "execution_count": null,
      "outputs": [
        {
          "output_type": "execute_result",
          "data": {
            "text/plain": [
              "(46, 46, 6)"
            ]
          },
          "metadata": {},
          "execution_count": 23
        }
      ]
    },
    {
      "cell_type": "code",
      "source": [
        "# Select Training and Test Data\n",
        "#MFCC = MFCC1\n",
        "Y = np.array(Y)\n",
        "random_traning_data = np.random.choice(len(Y), 500, replace=False)\n",
        "#train_data = DATA[random_traning_data]\n",
        "train_data = MFCC[random_traning_data]\n",
        "train_label = Y[random_traning_data]\n",
        "remaining_data = np.setdiff1d(range(0, len(Y)), random_traning_data)\n",
        "#test_data = DATA[remaining_data]\n",
        "test_data = MFCC[remaining_data]\n",
        "test_label = Y[remaining_data]\n",
        "len(test_label)+len(train_label)"
      ],
      "metadata": {
        "id": "wMqx5IMiKudt",
        "colab": {
          "base_uri": "https://localhost:8080/"
        },
        "outputId": "7f85596d-e3c4-40ae-a1ad-3490b687baf3"
      },
      "execution_count": null,
      "outputs": [
        {
          "output_type": "execute_result",
          "data": {
            "text/plain": [
              "1125"
            ]
          },
          "metadata": {},
          "execution_count": 129
        }
      ]
    },
    {
      "cell_type": "code",
      "source": [
        "train_data"
      ],
      "metadata": {
        "id": "mHz3rMMbA7mY"
      },
      "execution_count": null,
      "outputs": []
    },
    {
      "cell_type": "code",
      "source": [
        "!pip install tensorflow"
      ],
      "metadata": {
        "id": "R7mpdd-5Hbnm"
      },
      "execution_count": null,
      "outputs": []
    },
    {
      "cell_type": "code",
      "source": [
        "import tensorflow as tf\n",
        "from tensorflow.keras import datasets, layers, models"
      ],
      "metadata": {
        "id": "5oKKS7LJHjIW"
      },
      "execution_count": null,
      "outputs": []
    },
    {
      "cell_type": "code",
      "source": [
        "model = models.Sequential()\n",
        "model.add(layers.Conv2D(32, (2, 2), activation='softmax', input_shape=(12, 526, 1)))\n",
        "model.add(layers.MaxPooling2D((1, 2)))\n",
        "model.add(layers.Conv2D(32, (2, 2), activation='relu'))\n",
        "model.add(layers.MaxPooling2D((1, 2)))\n",
        "model.add(layers.Conv2D(32, (2, 2), activation='relu'))\n",
        "model.add(layers.MaxPooling2D((1, 2)))\n",
        "model.add(layers.Conv2D(32, (2, 2), activation='relu'))\n",
        "model.add(layers.MaxPooling2D((1, 2)))\n",
        "model.add(layers.Flatten())\n",
        "model.add(layers.Dense(32, activation='relu'))\n",
        "model.add(layers.Dense(8))\n",
        "model.summary()"
      ],
      "metadata": {
        "id": "dPm5e0XgIgx6"
      },
      "execution_count": null,
      "outputs": []
    },
    {
      "cell_type": "code",
      "source": [
        "from google.colab import drive\n",
        "drive.mount('/content/drive')"
      ],
      "metadata": {
        "colab": {
          "base_uri": "https://localhost:8080/"
        },
        "id": "2a65dIVm1LUa",
        "outputId": "2f61df07-f9aa-4d27-ff26-81afa32fe477"
      },
      "execution_count": null,
      "outputs": [
        {
          "output_type": "stream",
          "name": "stdout",
          "text": [
            "Drive already mounted at /content/drive; to attempt to forcibly remount, call drive.mount(\"/content/drive\", force_remount=True).\n"
          ]
        }
      ]
    },
    {
      "cell_type": "code",
      "source": [
        "model.compile(optimizer='adam',\n",
        "              loss=tf.keras.losses.SparseCategoricalCrossentropy(from_logits=True),\n",
        "              metrics=['accuracy'])\n",
        "history = model.fit(train_data, train_label, epochs=15, \n",
        "                    validation_data=(test_data, test_label))"
      ],
      "metadata": {
        "colab": {
          "base_uri": "https://localhost:8080/",
          "height": 931
        },
        "id": "DjySPuqjg9EP",
        "outputId": "7fd28462-8226-4c23-b7fd-bfd6a43e6387"
      },
      "execution_count": null,
      "outputs": [
        {
          "output_type": "stream",
          "name": "stdout",
          "text": [
            "Epoch 1/15\n",
            "16/16 [==============================] - 7s 408ms/step - loss: 2.0607 - accuracy: 0.1700 - val_loss: 2.0220 - val_accuracy: 0.1552\n",
            "Epoch 2/15\n",
            "16/16 [==============================] - 6s 396ms/step - loss: 1.9380 - accuracy: 0.2560 - val_loss: 1.9636 - val_accuracy: 0.2416\n",
            "Epoch 3/15\n",
            "16/16 [==============================] - 7s 414ms/step - loss: 1.7294 - accuracy: 0.3720 - val_loss: 1.8493 - val_accuracy: 0.3168\n",
            "Epoch 4/15\n",
            "16/16 [==============================] - 6s 395ms/step - loss: 1.4342 - accuracy: 0.5560 - val_loss: 1.8195 - val_accuracy: 0.3600\n",
            "Epoch 5/15\n",
            "16/16 [==============================] - 6s 396ms/step - loss: 1.2445 - accuracy: 0.6060 - val_loss: 1.8260 - val_accuracy: 0.3776\n",
            "Epoch 6/15\n",
            "16/16 [==============================] - 8s 536ms/step - loss: 1.0277 - accuracy: 0.6440 - val_loss: 1.5998 - val_accuracy: 0.4416\n",
            "Epoch 7/15\n",
            "16/16 [==============================] - 6s 406ms/step - loss: 0.7349 - accuracy: 0.7620 - val_loss: 1.7383 - val_accuracy: 0.4320\n",
            "Epoch 8/15\n",
            "16/16 [==============================] - 6s 405ms/step - loss: 0.5757 - accuracy: 0.8420 - val_loss: 1.7432 - val_accuracy: 0.4384\n",
            "Epoch 9/15\n",
            "16/16 [==============================] - 6s 398ms/step - loss: 0.3839 - accuracy: 0.9080 - val_loss: 1.9354 - val_accuracy: 0.4496\n",
            "Epoch 10/15\n",
            "16/16 [==============================] - 6s 399ms/step - loss: 0.2547 - accuracy: 0.9300 - val_loss: 2.2205 - val_accuracy: 0.4464\n",
            "Epoch 11/15\n",
            "16/16 [==============================] - 6s 398ms/step - loss: 0.2264 - accuracy: 0.9280 - val_loss: 2.1888 - val_accuracy: 0.4256\n",
            "Epoch 12/15\n",
            "16/16 [==============================] - 6s 398ms/step - loss: 0.1091 - accuracy: 0.9820 - val_loss: 2.2843 - val_accuracy: 0.4496\n",
            "Epoch 13/15\n",
            "16/16 [==============================] - 6s 400ms/step - loss: 0.0483 - accuracy: 0.9980 - val_loss: 2.5183 - val_accuracy: 0.4528\n",
            "Epoch 14/15\n",
            "16/16 [==============================] - 6s 395ms/step - loss: 0.0280 - accuracy: 1.0000 - val_loss: 2.7315 - val_accuracy: 0.4560\n",
            "Epoch 15/15\n",
            "11/16 [===================>..........] - ETA: 1s - loss: 0.0175 - accuracy: 1.0000"
          ]
        },
        {
          "output_type": "error",
          "ename": "KeyboardInterrupt",
          "evalue": "ignored",
          "traceback": [
            "\u001b[0;31m---------------------------------------------------------------------------\u001b[0m",
            "\u001b[0;31mKeyboardInterrupt\u001b[0m                         Traceback (most recent call last)",
            "\u001b[0;32m<ipython-input-141-5488d836d869>\u001b[0m in \u001b[0;36m<module>\u001b[0;34m\u001b[0m\n\u001b[1;32m      3\u001b[0m               metrics=['accuracy'])\n\u001b[1;32m      4\u001b[0m history = model.fit(train_data, train_label, epochs=15, \n\u001b[0;32m----> 5\u001b[0;31m                     validation_data=(test_data, test_label))\n\u001b[0m",
            "\u001b[0;32m/usr/local/lib/python3.7/dist-packages/keras/utils/traceback_utils.py\u001b[0m in \u001b[0;36merror_handler\u001b[0;34m(*args, **kwargs)\u001b[0m\n\u001b[1;32m     62\u001b[0m     \u001b[0mfiltered_tb\u001b[0m \u001b[0;34m=\u001b[0m \u001b[0;32mNone\u001b[0m\u001b[0;34m\u001b[0m\u001b[0;34m\u001b[0m\u001b[0m\n\u001b[1;32m     63\u001b[0m     \u001b[0;32mtry\u001b[0m\u001b[0;34m:\u001b[0m\u001b[0;34m\u001b[0m\u001b[0;34m\u001b[0m\u001b[0m\n\u001b[0;32m---> 64\u001b[0;31m       \u001b[0;32mreturn\u001b[0m \u001b[0mfn\u001b[0m\u001b[0;34m(\u001b[0m\u001b[0;34m*\u001b[0m\u001b[0margs\u001b[0m\u001b[0;34m,\u001b[0m \u001b[0;34m**\u001b[0m\u001b[0mkwargs\u001b[0m\u001b[0;34m)\u001b[0m\u001b[0;34m\u001b[0m\u001b[0;34m\u001b[0m\u001b[0m\n\u001b[0m\u001b[1;32m     65\u001b[0m     \u001b[0;32mexcept\u001b[0m \u001b[0mException\u001b[0m \u001b[0;32mas\u001b[0m \u001b[0me\u001b[0m\u001b[0;34m:\u001b[0m  \u001b[0;31m# pylint: disable=broad-except\u001b[0m\u001b[0;34m\u001b[0m\u001b[0;34m\u001b[0m\u001b[0m\n\u001b[1;32m     66\u001b[0m       \u001b[0mfiltered_tb\u001b[0m \u001b[0;34m=\u001b[0m \u001b[0m_process_traceback_frames\u001b[0m\u001b[0;34m(\u001b[0m\u001b[0me\u001b[0m\u001b[0;34m.\u001b[0m\u001b[0m__traceback__\u001b[0m\u001b[0;34m)\u001b[0m\u001b[0;34m\u001b[0m\u001b[0;34m\u001b[0m\u001b[0m\n",
            "\u001b[0;32m/usr/local/lib/python3.7/dist-packages/keras/engine/training.py\u001b[0m in \u001b[0;36mfit\u001b[0;34m(self, x, y, batch_size, epochs, verbose, callbacks, validation_split, validation_data, shuffle, class_weight, sample_weight, initial_epoch, steps_per_epoch, validation_steps, validation_batch_size, validation_freq, max_queue_size, workers, use_multiprocessing)\u001b[0m\n\u001b[1;32m   1407\u001b[0m                 _r=1):\n\u001b[1;32m   1408\u001b[0m               \u001b[0mcallbacks\u001b[0m\u001b[0;34m.\u001b[0m\u001b[0mon_train_batch_begin\u001b[0m\u001b[0;34m(\u001b[0m\u001b[0mstep\u001b[0m\u001b[0;34m)\u001b[0m\u001b[0;34m\u001b[0m\u001b[0;34m\u001b[0m\u001b[0m\n\u001b[0;32m-> 1409\u001b[0;31m               \u001b[0mtmp_logs\u001b[0m \u001b[0;34m=\u001b[0m \u001b[0mself\u001b[0m\u001b[0;34m.\u001b[0m\u001b[0mtrain_function\u001b[0m\u001b[0;34m(\u001b[0m\u001b[0miterator\u001b[0m\u001b[0;34m)\u001b[0m\u001b[0;34m\u001b[0m\u001b[0;34m\u001b[0m\u001b[0m\n\u001b[0m\u001b[1;32m   1410\u001b[0m               \u001b[0;32mif\u001b[0m \u001b[0mdata_handler\u001b[0m\u001b[0;34m.\u001b[0m\u001b[0mshould_sync\u001b[0m\u001b[0;34m:\u001b[0m\u001b[0;34m\u001b[0m\u001b[0;34m\u001b[0m\u001b[0m\n\u001b[1;32m   1411\u001b[0m                 \u001b[0mcontext\u001b[0m\u001b[0;34m.\u001b[0m\u001b[0masync_wait\u001b[0m\u001b[0;34m(\u001b[0m\u001b[0;34m)\u001b[0m\u001b[0;34m\u001b[0m\u001b[0;34m\u001b[0m\u001b[0m\n",
            "\u001b[0;32m/usr/local/lib/python3.7/dist-packages/tensorflow/python/util/traceback_utils.py\u001b[0m in \u001b[0;36merror_handler\u001b[0;34m(*args, **kwargs)\u001b[0m\n\u001b[1;32m    148\u001b[0m     \u001b[0mfiltered_tb\u001b[0m \u001b[0;34m=\u001b[0m \u001b[0;32mNone\u001b[0m\u001b[0;34m\u001b[0m\u001b[0;34m\u001b[0m\u001b[0m\n\u001b[1;32m    149\u001b[0m     \u001b[0;32mtry\u001b[0m\u001b[0;34m:\u001b[0m\u001b[0;34m\u001b[0m\u001b[0;34m\u001b[0m\u001b[0m\n\u001b[0;32m--> 150\u001b[0;31m       \u001b[0;32mreturn\u001b[0m \u001b[0mfn\u001b[0m\u001b[0;34m(\u001b[0m\u001b[0;34m*\u001b[0m\u001b[0margs\u001b[0m\u001b[0;34m,\u001b[0m \u001b[0;34m**\u001b[0m\u001b[0mkwargs\u001b[0m\u001b[0;34m)\u001b[0m\u001b[0;34m\u001b[0m\u001b[0;34m\u001b[0m\u001b[0m\n\u001b[0m\u001b[1;32m    151\u001b[0m     \u001b[0;32mexcept\u001b[0m \u001b[0mException\u001b[0m \u001b[0;32mas\u001b[0m \u001b[0me\u001b[0m\u001b[0;34m:\u001b[0m\u001b[0;34m\u001b[0m\u001b[0;34m\u001b[0m\u001b[0m\n\u001b[1;32m    152\u001b[0m       \u001b[0mfiltered_tb\u001b[0m \u001b[0;34m=\u001b[0m \u001b[0m_process_traceback_frames\u001b[0m\u001b[0;34m(\u001b[0m\u001b[0me\u001b[0m\u001b[0;34m.\u001b[0m\u001b[0m__traceback__\u001b[0m\u001b[0;34m)\u001b[0m\u001b[0;34m\u001b[0m\u001b[0;34m\u001b[0m\u001b[0m\n",
            "\u001b[0;32m/usr/local/lib/python3.7/dist-packages/tensorflow/python/eager/def_function.py\u001b[0m in \u001b[0;36m__call__\u001b[0;34m(self, *args, **kwds)\u001b[0m\n\u001b[1;32m    913\u001b[0m \u001b[0;34m\u001b[0m\u001b[0m\n\u001b[1;32m    914\u001b[0m       \u001b[0;32mwith\u001b[0m \u001b[0mOptionalXlaContext\u001b[0m\u001b[0;34m(\u001b[0m\u001b[0mself\u001b[0m\u001b[0;34m.\u001b[0m\u001b[0m_jit_compile\u001b[0m\u001b[0;34m)\u001b[0m\u001b[0;34m:\u001b[0m\u001b[0;34m\u001b[0m\u001b[0;34m\u001b[0m\u001b[0m\n\u001b[0;32m--> 915\u001b[0;31m         \u001b[0mresult\u001b[0m \u001b[0;34m=\u001b[0m \u001b[0mself\u001b[0m\u001b[0;34m.\u001b[0m\u001b[0m_call\u001b[0m\u001b[0;34m(\u001b[0m\u001b[0;34m*\u001b[0m\u001b[0margs\u001b[0m\u001b[0;34m,\u001b[0m \u001b[0;34m**\u001b[0m\u001b[0mkwds\u001b[0m\u001b[0;34m)\u001b[0m\u001b[0;34m\u001b[0m\u001b[0;34m\u001b[0m\u001b[0m\n\u001b[0m\u001b[1;32m    916\u001b[0m \u001b[0;34m\u001b[0m\u001b[0m\n\u001b[1;32m    917\u001b[0m       \u001b[0mnew_tracing_count\u001b[0m \u001b[0;34m=\u001b[0m \u001b[0mself\u001b[0m\u001b[0;34m.\u001b[0m\u001b[0mexperimental_get_tracing_count\u001b[0m\u001b[0;34m(\u001b[0m\u001b[0;34m)\u001b[0m\u001b[0;34m\u001b[0m\u001b[0;34m\u001b[0m\u001b[0m\n",
            "\u001b[0;32m/usr/local/lib/python3.7/dist-packages/tensorflow/python/eager/def_function.py\u001b[0m in \u001b[0;36m_call\u001b[0;34m(self, *args, **kwds)\u001b[0m\n\u001b[1;32m    945\u001b[0m       \u001b[0;31m# In this case we have created variables on the first call, so we run the\u001b[0m\u001b[0;34m\u001b[0m\u001b[0;34m\u001b[0m\u001b[0;34m\u001b[0m\u001b[0m\n\u001b[1;32m    946\u001b[0m       \u001b[0;31m# defunned version which is guaranteed to never create variables.\u001b[0m\u001b[0;34m\u001b[0m\u001b[0;34m\u001b[0m\u001b[0;34m\u001b[0m\u001b[0m\n\u001b[0;32m--> 947\u001b[0;31m       \u001b[0;32mreturn\u001b[0m \u001b[0mself\u001b[0m\u001b[0;34m.\u001b[0m\u001b[0m_stateless_fn\u001b[0m\u001b[0;34m(\u001b[0m\u001b[0;34m*\u001b[0m\u001b[0margs\u001b[0m\u001b[0;34m,\u001b[0m \u001b[0;34m**\u001b[0m\u001b[0mkwds\u001b[0m\u001b[0;34m)\u001b[0m  \u001b[0;31m# pylint: disable=not-callable\u001b[0m\u001b[0;34m\u001b[0m\u001b[0;34m\u001b[0m\u001b[0m\n\u001b[0m\u001b[1;32m    948\u001b[0m     \u001b[0;32melif\u001b[0m \u001b[0mself\u001b[0m\u001b[0;34m.\u001b[0m\u001b[0m_stateful_fn\u001b[0m \u001b[0;32mis\u001b[0m \u001b[0;32mnot\u001b[0m \u001b[0;32mNone\u001b[0m\u001b[0;34m:\u001b[0m\u001b[0;34m\u001b[0m\u001b[0;34m\u001b[0m\u001b[0m\n\u001b[1;32m    949\u001b[0m       \u001b[0;31m# Release the lock early so that multiple threads can perform the call\u001b[0m\u001b[0;34m\u001b[0m\u001b[0;34m\u001b[0m\u001b[0;34m\u001b[0m\u001b[0m\n",
            "\u001b[0;32m/usr/local/lib/python3.7/dist-packages/tensorflow/python/eager/function.py\u001b[0m in \u001b[0;36m__call__\u001b[0;34m(self, *args, **kwargs)\u001b[0m\n\u001b[1;32m   2452\u001b[0m        filtered_flat_args) = self._maybe_define_function(args, kwargs)\n\u001b[1;32m   2453\u001b[0m     return graph_function._call_flat(\n\u001b[0;32m-> 2454\u001b[0;31m         filtered_flat_args, captured_inputs=graph_function.captured_inputs)  # pylint: disable=protected-access\n\u001b[0m\u001b[1;32m   2455\u001b[0m \u001b[0;34m\u001b[0m\u001b[0m\n\u001b[1;32m   2456\u001b[0m   \u001b[0;34m@\u001b[0m\u001b[0mproperty\u001b[0m\u001b[0;34m\u001b[0m\u001b[0;34m\u001b[0m\u001b[0m\n",
            "\u001b[0;32m/usr/local/lib/python3.7/dist-packages/tensorflow/python/eager/function.py\u001b[0m in \u001b[0;36m_call_flat\u001b[0;34m(self, args, captured_inputs, cancellation_manager)\u001b[0m\n\u001b[1;32m   1859\u001b[0m       \u001b[0;31m# No tape is watching; skip to running the function.\u001b[0m\u001b[0;34m\u001b[0m\u001b[0;34m\u001b[0m\u001b[0;34m\u001b[0m\u001b[0m\n\u001b[1;32m   1860\u001b[0m       return self._build_call_outputs(self._inference_function.call(\n\u001b[0;32m-> 1861\u001b[0;31m           ctx, args, cancellation_manager=cancellation_manager))\n\u001b[0m\u001b[1;32m   1862\u001b[0m     forward_backward = self._select_forward_and_backward_functions(\n\u001b[1;32m   1863\u001b[0m         \u001b[0margs\u001b[0m\u001b[0;34m,\u001b[0m\u001b[0;34m\u001b[0m\u001b[0;34m\u001b[0m\u001b[0m\n",
            "\u001b[0;32m/usr/local/lib/python3.7/dist-packages/tensorflow/python/eager/function.py\u001b[0m in \u001b[0;36mcall\u001b[0;34m(self, ctx, args, cancellation_manager)\u001b[0m\n\u001b[1;32m    500\u001b[0m               \u001b[0minputs\u001b[0m\u001b[0;34m=\u001b[0m\u001b[0margs\u001b[0m\u001b[0;34m,\u001b[0m\u001b[0;34m\u001b[0m\u001b[0;34m\u001b[0m\u001b[0m\n\u001b[1;32m    501\u001b[0m               \u001b[0mattrs\u001b[0m\u001b[0;34m=\u001b[0m\u001b[0mattrs\u001b[0m\u001b[0;34m,\u001b[0m\u001b[0;34m\u001b[0m\u001b[0;34m\u001b[0m\u001b[0m\n\u001b[0;32m--> 502\u001b[0;31m               ctx=ctx)\n\u001b[0m\u001b[1;32m    503\u001b[0m         \u001b[0;32melse\u001b[0m\u001b[0;34m:\u001b[0m\u001b[0;34m\u001b[0m\u001b[0;34m\u001b[0m\u001b[0m\n\u001b[1;32m    504\u001b[0m           outputs = execute.execute_with_cancellation(\n",
            "\u001b[0;32m/usr/local/lib/python3.7/dist-packages/tensorflow/python/eager/execute.py\u001b[0m in \u001b[0;36mquick_execute\u001b[0;34m(op_name, num_outputs, inputs, attrs, ctx, name)\u001b[0m\n\u001b[1;32m     53\u001b[0m     \u001b[0mctx\u001b[0m\u001b[0;34m.\u001b[0m\u001b[0mensure_initialized\u001b[0m\u001b[0;34m(\u001b[0m\u001b[0;34m)\u001b[0m\u001b[0;34m\u001b[0m\u001b[0;34m\u001b[0m\u001b[0m\n\u001b[1;32m     54\u001b[0m     tensors = pywrap_tfe.TFE_Py_Execute(ctx._handle, device_name, op_name,\n\u001b[0;32m---> 55\u001b[0;31m                                         inputs, attrs, num_outputs)\n\u001b[0m\u001b[1;32m     56\u001b[0m   \u001b[0;32mexcept\u001b[0m \u001b[0mcore\u001b[0m\u001b[0;34m.\u001b[0m\u001b[0m_NotOkStatusException\u001b[0m \u001b[0;32mas\u001b[0m \u001b[0me\u001b[0m\u001b[0;34m:\u001b[0m\u001b[0;34m\u001b[0m\u001b[0;34m\u001b[0m\u001b[0m\n\u001b[1;32m     57\u001b[0m     \u001b[0;32mif\u001b[0m \u001b[0mname\u001b[0m \u001b[0;32mis\u001b[0m \u001b[0;32mnot\u001b[0m \u001b[0;32mNone\u001b[0m\u001b[0;34m:\u001b[0m\u001b[0;34m\u001b[0m\u001b[0;34m\u001b[0m\u001b[0m\n",
            "\u001b[0;31mKeyboardInterrupt\u001b[0m: "
          ]
        }
      ]
    },
    {
      "cell_type": "code",
      "source": [
        "plt.plot(history.history['accuracy'], label='accuracy')\n",
        "plt.plot(history.history['val_accuracy'], label = 'val_accuracy')\n",
        "plt.xlabel('Epoch')\n",
        "plt.ylabel('Accuracy')\n",
        "plt.ylim([0, 1])\n",
        "plt.legend(loc='lower right')\n",
        "test_loss, test_acc = model.evaluate(test_data,  test_label, verbose=2)\n",
        "print(test_acc)"
      ],
      "metadata": {
        "id": "kxXdq_jpzoRI"
      },
      "execution_count": null,
      "outputs": []
    },
    {
      "cell_type": "code",
      "source": [
        "path = \"/content/drive/MyDrive/ELEC301/test\"\n",
        "os.chdir(path)"
      ],
      "metadata": {
        "id": "5UqXs5S6ecds"
      },
      "execution_count": null,
      "outputs": []
    },
    {
      "cell_type": "code",
      "source": [
        "# Time Domain Data\n",
        "data_test = []\n",
        "label_test = []\n",
        "NUM = []\n",
        "L_test = [] # length of each audio\n",
        "for filename in os.listdir():\n",
        "    label_test.append(str(filename[: -7]))\n",
        "    fs, data = wavfile.read(filename)\n",
        "    if len(data.shape) > 1:\n",
        "        data = data[:, 0]\n",
        "    data = data.astype(float)\n",
        "    data_test.append(data)\n",
        "    L_test.append(len(data))\n",
        "    NUM.append(str(filename[6: 9]))\n",
        "print(L_test)"
      ],
      "metadata": {
        "id": "ZHZlBUmC6E1b"
      },
      "execution_count": null,
      "outputs": []
    },
    {
      "cell_type": "code",
      "source": [
        "L_test"
      ],
      "metadata": {
        "id": "0BdQsQWkBK2w"
      },
      "execution_count": null,
      "outputs": []
    },
    {
      "cell_type": "code",
      "source": [
        "data_pad_test = np.zeros((len(L_test), max(L))) # Time Domain Data\n",
        "for i in range(0, len(L_test)):\n",
        "    data_pad_test[i, range(0, L_test[i])] = data_test[i]\n",
        "print(data_pad_test.shape)"
      ],
      "metadata": {
        "colab": {
          "base_uri": "https://localhost:8080/",
          "height": 226
        },
        "id": "hQ7HJ_226oh1",
        "outputId": "5a4265db-3434-4f11-ba28-63600592f633"
      },
      "execution_count": null,
      "outputs": [
        {
          "output_type": "error",
          "ename": "NameError",
          "evalue": "ignored",
          "traceback": [
            "\u001b[0;31m---------------------------------------------------------------------------\u001b[0m",
            "\u001b[0;31mNameError\u001b[0m                                 Traceback (most recent call last)",
            "\u001b[0;32m<ipython-input-14-ec5a5de7e47f>\u001b[0m in \u001b[0;36m<module>\u001b[0;34m\u001b[0m\n\u001b[0;32m----> 1\u001b[0;31m \u001b[0mdata_pad_test\u001b[0m \u001b[0;34m=\u001b[0m \u001b[0mnp\u001b[0m\u001b[0;34m.\u001b[0m\u001b[0mzeros\u001b[0m\u001b[0;34m(\u001b[0m\u001b[0;34m(\u001b[0m\u001b[0mlen\u001b[0m\u001b[0;34m(\u001b[0m\u001b[0mL_test\u001b[0m\u001b[0;34m)\u001b[0m\u001b[0;34m,\u001b[0m \u001b[0mmax\u001b[0m\u001b[0;34m(\u001b[0m\u001b[0mL\u001b[0m\u001b[0;34m)\u001b[0m\u001b[0;34m)\u001b[0m\u001b[0;34m)\u001b[0m \u001b[0;31m# Time Domain Data\u001b[0m\u001b[0;34m\u001b[0m\u001b[0;34m\u001b[0m\u001b[0m\n\u001b[0m\u001b[1;32m      2\u001b[0m \u001b[0;32mfor\u001b[0m \u001b[0mi\u001b[0m \u001b[0;32min\u001b[0m \u001b[0mrange\u001b[0m\u001b[0;34m(\u001b[0m\u001b[0;36m0\u001b[0m\u001b[0;34m,\u001b[0m \u001b[0mlen\u001b[0m\u001b[0;34m(\u001b[0m\u001b[0mL_test\u001b[0m\u001b[0;34m)\u001b[0m\u001b[0;34m)\u001b[0m\u001b[0;34m:\u001b[0m\u001b[0;34m\u001b[0m\u001b[0;34m\u001b[0m\u001b[0m\n\u001b[1;32m      3\u001b[0m     \u001b[0mdata_pad_test\u001b[0m\u001b[0;34m[\u001b[0m\u001b[0mi\u001b[0m\u001b[0;34m,\u001b[0m \u001b[0mrange\u001b[0m\u001b[0;34m(\u001b[0m\u001b[0;36m0\u001b[0m\u001b[0;34m,\u001b[0m \u001b[0mL_test\u001b[0m\u001b[0;34m[\u001b[0m\u001b[0mi\u001b[0m\u001b[0;34m]\u001b[0m\u001b[0;34m)\u001b[0m\u001b[0;34m]\u001b[0m \u001b[0;34m=\u001b[0m \u001b[0mdata_test\u001b[0m\u001b[0;34m[\u001b[0m\u001b[0mi\u001b[0m\u001b[0;34m]\u001b[0m\u001b[0;34m\u001b[0m\u001b[0;34m\u001b[0m\u001b[0m\n\u001b[1;32m      4\u001b[0m \u001b[0mprint\u001b[0m\u001b[0;34m(\u001b[0m\u001b[0mdata_pad_test\u001b[0m\u001b[0;34m.\u001b[0m\u001b[0mshape\u001b[0m\u001b[0;34m)\u001b[0m\u001b[0;34m\u001b[0m\u001b[0;34m\u001b[0m\u001b[0m\n",
            "\u001b[0;31mNameError\u001b[0m: name 'L_test' is not defined"
          ]
        }
      ]
    },
    {
      "cell_type": "code",
      "source": [
        "D_test = []\n",
        "for i in range(315):\n",
        "  seg_data = []\n",
        "  for j in range(6):\n",
        "    data = data_pad_test[i]\n",
        "    seg = int(len(data)/(6))\n",
        "    if j < (5):\n",
        "      seg_data.append(data[j*seg:j*seg+seg])\n",
        "    else:\n",
        "      seg_data.append(data[5*seg:-3])\n",
        "  D_test.append(seg_data)"
      ],
      "metadata": {
        "id": "lCHkkrOR7F3C"
      },
      "execution_count": null,
      "outputs": []
    },
    {
      "cell_type": "code",
      "source": [
        "# Spectrogram\n",
        "DFT_test = []\n",
        "for i in range(315):\n",
        "  seg = []\n",
        "  for j in range(6):\n",
        "    f,t,Sxx = signal.spectrogram(D_test[i][j], fs=48000, nperseg=1024)\n",
        "    Sxx_cut = Sxx[range(46)]\n",
        "    Sxx_final = Sxx_cut[:,range(0,46)]\n",
        "    seg.append(Sxx_final)\n",
        "  DFT_test.append(seg)"
      ],
      "metadata": {
        "id": "vhPRTZ3Z7lKH"
      },
      "execution_count": null,
      "outputs": []
    },
    {
      "cell_type": "code",
      "source": [
        "Y_test = np.array(Y_test)\n",
        "DFT_test = np.array(DFT_test)\n",
        "DATA_test = np.zeros((315,46,46,6))\n",
        "for i in range(315):\n",
        "  for j in range(46):\n",
        "    for k in range(46):\n",
        "      for m in range(6):\n",
        "        DATA_test[i,j,k,m] = DFT_test[i,m,j,k]"
      ],
      "metadata": {
        "id": "aUKA7nBh8uQN"
      },
      "execution_count": null,
      "outputs": []
    },
    {
      "cell_type": "code",
      "source": [
        "DATA_test.shape"
      ],
      "metadata": {
        "id": "LQmABsc79LP_"
      },
      "execution_count": null,
      "outputs": []
    },
    {
      "cell_type": "code",
      "source": [
        "label_test"
      ],
      "metadata": {
        "id": "pLF7Xkvw9VJA"
      },
      "execution_count": null,
      "outputs": []
    },
    {
      "cell_type": "code",
      "source": [
        "predictions = model.predict(DATA_test) # 1125 * 48 *28 *10 for DFT, MFCC 还没做\n",
        "score = tf.nn.softmax(predictions)\n",
        "label_predict = []\n",
        "for i in range(315):\n",
        "  label_predict.append(np.argmax(score[i]))\n",
        "\n",
        "label_predict"
      ],
      "metadata": {
        "id": "vMYkGjWz9R-r"
      },
      "execution_count": null,
      "outputs": []
    },
    {
      "cell_type": "code",
      "source": [
        "class_names = np.array(['angry', 'calm', 'disgust', 'fearful', 'happy', 'neutral','sad', 'surprised'])"
      ],
      "metadata": {
        "id": "hdTvjhOM-imT"
      },
      "execution_count": null,
      "outputs": []
    },
    {
      "cell_type": "code",
      "source": [
        "print(\n",
        "    \"This image most likely belongs to {} with a {:.2f} percent confidence.\"\n",
        "    .format(class_names[np.argmax(score)], 100 * np.max(score))\n",
        ")"
      ],
      "metadata": {
        "colab": {
          "base_uri": "https://localhost:8080/"
        },
        "id": "uayDuS3L9fbn",
        "outputId": "05a2d174-40d1-4b74-abaf-6533fa3d62d1"
      },
      "execution_count": null,
      "outputs": [
        {
          "output_type": "stream",
          "name": "stdout",
          "text": [
            "This image most likely belongs to happy with a 39.44 percent confidence.\n"
          ]
        }
      ]
    },
    {
      "cell_type": "code",
      "source": [
        "res = []\n",
        "for emo in range(0, len(label_predict)):\n",
        "    if label_predict[emo] == 0:\n",
        "      res.append('angry')\n",
        "    if label_predict[emo] == 1:\n",
        "      res.append('calm')\n",
        "    if label_predict[emo] == 2:\n",
        "      res.append('disgust')\n",
        "    if label_predict[emo] == 3:\n",
        "      res.append('fearful')\n",
        "    if label_predict[emo] == 4:\n",
        "      res.append('happy')\n",
        "    if label_predict[emo] == 5:\n",
        "      res.append('neutral')\n",
        "    if label_predict[emo] == 6:\n",
        "      res.append('sad')\n",
        "    if label_predict[emo] == 7:\n",
        "      res.append('surprised')\n",
        "print(res)"
      ],
      "metadata": {
        "id": "KqpWaKrhAWLZ"
      },
      "execution_count": null,
      "outputs": []
    },
    {
      "cell_type": "code",
      "source": [
        "res = np.array(res).transpose()\n",
        "NUM = np.array(NUM).transpose()\n",
        "sample = np.column_stack([NUM, res])\n",
        "sort_sample = sample[sample[:, 0].argsort()]\n",
        "name = []\n",
        "for item in sort_sample[:,0]:\n",
        "  item = 'sample'+str(item)\n",
        "  name.append(item)\n",
        "name = np.array(name).transpose()\n",
        "sort_sample[:,0] = name\n",
        "sort_sample"
      ],
      "metadata": {
        "id": "JrjQa6d2Bcd3"
      },
      "execution_count": null,
      "outputs": []
    },
    {
      "cell_type": "code",
      "source": [
        "import pandas as pd\n",
        "DF = pd.DataFrame(sort_sample)\n",
        "DF.to_csv(\"res.csv\")"
      ],
      "metadata": {
        "id": "mje2JKyyBmY0"
      },
      "execution_count": null,
      "outputs": []
    }
  ]
}