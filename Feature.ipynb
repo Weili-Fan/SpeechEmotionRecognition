{
 "cells": [
  {
   "cell_type": "code",
   "execution_count": 147,
   "metadata": {
    "collapsed": true,
    "pycharm": {
     "name": "#%%\n"
    }
   },
   "outputs": [],
   "source": [
    "import numpy as np\n",
    "import pandas as pd\n",
    "import scipy\n",
    "import os\n",
    "import librosa\n",
    "import librosa.display"
   ]
  },
  {
   "cell_type": "code",
   "execution_count": 148,
   "outputs": [],
   "source": [
    "# Extract Raw Data Files\n",
    "fs = 48000\n",
    "path = \"/Users/ares/PycharmProjects/pythonProject/Emotion_Classifier/data/\"\n",
    "os.chdir(path)\n",
    "filename = os.listdir(path)"
   ],
   "metadata": {
    "collapsed": false,
    "pycharm": {
     "name": "#%%\n"
    }
   }
  },
  {
   "cell_type": "code",
   "execution_count": 149,
   "outputs": [],
   "source": [
    "raw = []\n",
    "length = []\n",
    "label = []\n",
    "for wavfile in filename:\n",
    "    emotion = ''.join([i for i in wavfile[:-7]])\n",
    "    #index = int(wavfile[-7:-4])\n",
    "    waveform, rate = librosa.load(path + wavfile, sr = fs)\n",
    "    waveform = waveform.astype('float64')\n",
    "    effective = waveform[np.argwhere(waveform/max(waveform) > 0.05)[0,0]:np.argwhere(waveform/max(waveform) > 0.05)[-1,0]+1]\n",
    "    raw.append(effective)\n",
    "    length.append(len(effective))\n",
    "    label.append(emotion)"
   ],
   "metadata": {
    "collapsed": false,
    "pycharm": {
     "name": "#%%\n"
    }
   }
  },
  {
   "cell_type": "code",
   "execution_count": 150,
   "outputs": [
    {
     "name": "stderr",
     "output_type": "stream",
     "text": [
      "/var/folders/dn/j0_7h7gx2sq58_nt9816ss480000gn/T/ipykernel_6547/2823102939.py:2: VisibleDeprecationWarning: Creating an ndarray from ragged nested sequences (which is a list-or-tuple of lists-or-tuples-or ndarrays with different lengths or shapes) is deprecated. If you meant to do this, you must specify 'dtype=object' when creating the ndarray.\n",
      "  raw = np.array(raw)\n"
     ]
    }
   ],
   "source": [
    "label = np.array(label)\n",
    "raw = np.array(raw)"
   ],
   "metadata": {
    "collapsed": false,
    "pycharm": {
     "name": "#%%\n"
    }
   }
  },
  {
   "cell_type": "code",
   "execution_count": 194,
   "outputs": [],
   "source": [
    "feature = ['emotion','flatness','zerocr','meanMag','maxMag','meancent','stdcent','maxcent','stdMag'] + \\\n",
    "          ['pitchmean','pitchmax','pitchstd','pitch_tuning_offset','meanrms','maxrms','stdrms'] + \\\n",
    "          ['mfcc_' + str(i+1) + '_mean' for i in range(50)] + \\\n",
    "          ['mfcc_' + str(i+1) + '_std' for i in range(50)] + \\\n",
    "          ['mfcc_' + str(i+1) + '_max' for i in range(50)] + \\\n",
    "          ['chroma' + str(i+1) + '_mean' for i in range(12)] + \\\n",
    "          ['mels' + str(i+1) + '_mean' for i in range(128)] + \\\n",
    "          ['contrast' + str(i+1) + '_mean' for i in range(7)]\n",
    "\n",
    "feature_pd = pd.DataFrame(columns=feature)"
   ],
   "metadata": {
    "collapsed": false,
    "pycharm": {
     "name": "#%%\n"
    }
   }
  },
  {
   "cell_type": "code",
   "execution_count": 195,
   "outputs": [
    {
     "name": "stdout",
     "output_type": "stream",
     "text": [
      "0\n",
      "1\n",
      "2\n"
     ]
    },
    {
     "name": "stderr",
     "output_type": "stream",
     "text": [
      "/var/folders/dn/j0_7h7gx2sq58_nt9816ss480000gn/T/ipykernel_6547/4250457866.py:74: FutureWarning: The frame.append method is deprecated and will be removed from pandas in a future version. Use pandas.concat instead.\n",
      "  feature_pd = feature_pd.append(pd.DataFrame(saving, index=feature).transpose(), ignore_index=True)\n",
      "/var/folders/dn/j0_7h7gx2sq58_nt9816ss480000gn/T/ipykernel_6547/4250457866.py:74: FutureWarning: The frame.append method is deprecated and will be removed from pandas in a future version. Use pandas.concat instead.\n",
      "  feature_pd = feature_pd.append(pd.DataFrame(saving, index=feature).transpose(), ignore_index=True)\n",
      "/var/folders/dn/j0_7h7gx2sq58_nt9816ss480000gn/T/ipykernel_6547/4250457866.py:74: FutureWarning: The frame.append method is deprecated and will be removed from pandas in a future version. Use pandas.concat instead.\n",
      "  feature_pd = feature_pd.append(pd.DataFrame(saving, index=feature).transpose(), ignore_index=True)\n"
     ]
    },
    {
     "name": "stdout",
     "output_type": "stream",
     "text": [
      "3\n",
      "4\n",
      "5\n"
     ]
    },
    {
     "name": "stderr",
     "output_type": "stream",
     "text": [
      "/var/folders/dn/j0_7h7gx2sq58_nt9816ss480000gn/T/ipykernel_6547/4250457866.py:74: FutureWarning: The frame.append method is deprecated and will be removed from pandas in a future version. Use pandas.concat instead.\n",
      "  feature_pd = feature_pd.append(pd.DataFrame(saving, index=feature).transpose(), ignore_index=True)\n",
      "/var/folders/dn/j0_7h7gx2sq58_nt9816ss480000gn/T/ipykernel_6547/4250457866.py:74: FutureWarning: The frame.append method is deprecated and will be removed from pandas in a future version. Use pandas.concat instead.\n",
      "  feature_pd = feature_pd.append(pd.DataFrame(saving, index=feature).transpose(), ignore_index=True)\n",
      "/var/folders/dn/j0_7h7gx2sq58_nt9816ss480000gn/T/ipykernel_6547/4250457866.py:74: FutureWarning: The frame.append method is deprecated and will be removed from pandas in a future version. Use pandas.concat instead.\n",
      "  feature_pd = feature_pd.append(pd.DataFrame(saving, index=feature).transpose(), ignore_index=True)\n"
     ]
    },
    {
     "name": "stdout",
     "output_type": "stream",
     "text": [
      "6\n",
      "7\n",
      "8\n",
      "9\n"
     ]
    },
    {
     "name": "stderr",
     "output_type": "stream",
     "text": [
      "/var/folders/dn/j0_7h7gx2sq58_nt9816ss480000gn/T/ipykernel_6547/4250457866.py:74: FutureWarning: The frame.append method is deprecated and will be removed from pandas in a future version. Use pandas.concat instead.\n",
      "  feature_pd = feature_pd.append(pd.DataFrame(saving, index=feature).transpose(), ignore_index=True)\n",
      "/var/folders/dn/j0_7h7gx2sq58_nt9816ss480000gn/T/ipykernel_6547/4250457866.py:74: FutureWarning: The frame.append method is deprecated and will be removed from pandas in a future version. Use pandas.concat instead.\n",
      "  feature_pd = feature_pd.append(pd.DataFrame(saving, index=feature).transpose(), ignore_index=True)\n",
      "/var/folders/dn/j0_7h7gx2sq58_nt9816ss480000gn/T/ipykernel_6547/4250457866.py:74: FutureWarning: The frame.append method is deprecated and will be removed from pandas in a future version. Use pandas.concat instead.\n",
      "  feature_pd = feature_pd.append(pd.DataFrame(saving, index=feature).transpose(), ignore_index=True)\n",
      "/var/folders/dn/j0_7h7gx2sq58_nt9816ss480000gn/T/ipykernel_6547/4250457866.py:74: FutureWarning: The frame.append method is deprecated and will be removed from pandas in a future version. Use pandas.concat instead.\n",
      "  feature_pd = feature_pd.append(pd.DataFrame(saving, index=feature).transpose(), ignore_index=True)\n"
     ]
    },
    {
     "name": "stdout",
     "output_type": "stream",
     "text": [
      "10\n",
      "11\n",
      "12\n"
     ]
    },
    {
     "name": "stderr",
     "output_type": "stream",
     "text": [
      "/var/folders/dn/j0_7h7gx2sq58_nt9816ss480000gn/T/ipykernel_6547/4250457866.py:74: FutureWarning: The frame.append method is deprecated and will be removed from pandas in a future version. Use pandas.concat instead.\n",
      "  feature_pd = feature_pd.append(pd.DataFrame(saving, index=feature).transpose(), ignore_index=True)\n",
      "/var/folders/dn/j0_7h7gx2sq58_nt9816ss480000gn/T/ipykernel_6547/4250457866.py:74: FutureWarning: The frame.append method is deprecated and will be removed from pandas in a future version. Use pandas.concat instead.\n",
      "  feature_pd = feature_pd.append(pd.DataFrame(saving, index=feature).transpose(), ignore_index=True)\n",
      "/var/folders/dn/j0_7h7gx2sq58_nt9816ss480000gn/T/ipykernel_6547/4250457866.py:74: FutureWarning: The frame.append method is deprecated and will be removed from pandas in a future version. Use pandas.concat instead.\n",
      "  feature_pd = feature_pd.append(pd.DataFrame(saving, index=feature).transpose(), ignore_index=True)\n"
     ]
    },
    {
     "name": "stdout",
     "output_type": "stream",
     "text": [
      "13\n",
      "14\n",
      "15\n",
      "16\n"
     ]
    },
    {
     "name": "stderr",
     "output_type": "stream",
     "text": [
      "/var/folders/dn/j0_7h7gx2sq58_nt9816ss480000gn/T/ipykernel_6547/4250457866.py:74: FutureWarning: The frame.append method is deprecated and will be removed from pandas in a future version. Use pandas.concat instead.\n",
      "  feature_pd = feature_pd.append(pd.DataFrame(saving, index=feature).transpose(), ignore_index=True)\n",
      "/var/folders/dn/j0_7h7gx2sq58_nt9816ss480000gn/T/ipykernel_6547/4250457866.py:74: FutureWarning: The frame.append method is deprecated and will be removed from pandas in a future version. Use pandas.concat instead.\n",
      "  feature_pd = feature_pd.append(pd.DataFrame(saving, index=feature).transpose(), ignore_index=True)\n",
      "/var/folders/dn/j0_7h7gx2sq58_nt9816ss480000gn/T/ipykernel_6547/4250457866.py:74: FutureWarning: The frame.append method is deprecated and will be removed from pandas in a future version. Use pandas.concat instead.\n",
      "  feature_pd = feature_pd.append(pd.DataFrame(saving, index=feature).transpose(), ignore_index=True)\n",
      "/var/folders/dn/j0_7h7gx2sq58_nt9816ss480000gn/T/ipykernel_6547/4250457866.py:74: FutureWarning: The frame.append method is deprecated and will be removed from pandas in a future version. Use pandas.concat instead.\n",
      "  feature_pd = feature_pd.append(pd.DataFrame(saving, index=feature).transpose(), ignore_index=True)\n"
     ]
    },
    {
     "name": "stdout",
     "output_type": "stream",
     "text": [
      "17\n",
      "18\n"
     ]
    },
    {
     "name": "stderr",
     "output_type": "stream",
     "text": [
      "/var/folders/dn/j0_7h7gx2sq58_nt9816ss480000gn/T/ipykernel_6547/4250457866.py:74: FutureWarning: The frame.append method is deprecated and will be removed from pandas in a future version. Use pandas.concat instead.\n",
      "  feature_pd = feature_pd.append(pd.DataFrame(saving, index=feature).transpose(), ignore_index=True)\n",
      "/var/folders/dn/j0_7h7gx2sq58_nt9816ss480000gn/T/ipykernel_6547/4250457866.py:74: FutureWarning: The frame.append method is deprecated and will be removed from pandas in a future version. Use pandas.concat instead.\n",
      "  feature_pd = feature_pd.append(pd.DataFrame(saving, index=feature).transpose(), ignore_index=True)\n"
     ]
    },
    {
     "name": "stdout",
     "output_type": "stream",
     "text": [
      "19\n",
      "20\n",
      "21\n"
     ]
    },
    {
     "name": "stderr",
     "output_type": "stream",
     "text": [
      "/var/folders/dn/j0_7h7gx2sq58_nt9816ss480000gn/T/ipykernel_6547/4250457866.py:74: FutureWarning: The frame.append method is deprecated and will be removed from pandas in a future version. Use pandas.concat instead.\n",
      "  feature_pd = feature_pd.append(pd.DataFrame(saving, index=feature).transpose(), ignore_index=True)\n",
      "/var/folders/dn/j0_7h7gx2sq58_nt9816ss480000gn/T/ipykernel_6547/4250457866.py:74: FutureWarning: The frame.append method is deprecated and will be removed from pandas in a future version. Use pandas.concat instead.\n",
      "  feature_pd = feature_pd.append(pd.DataFrame(saving, index=feature).transpose(), ignore_index=True)\n",
      "/var/folders/dn/j0_7h7gx2sq58_nt9816ss480000gn/T/ipykernel_6547/4250457866.py:74: FutureWarning: The frame.append method is deprecated and will be removed from pandas in a future version. Use pandas.concat instead.\n",
      "  feature_pd = feature_pd.append(pd.DataFrame(saving, index=feature).transpose(), ignore_index=True)\n"
     ]
    },
    {
     "name": "stdout",
     "output_type": "stream",
     "text": [
      "22\n",
      "23\n"
     ]
    },
    {
     "name": "stderr",
     "output_type": "stream",
     "text": [
      "/var/folders/dn/j0_7h7gx2sq58_nt9816ss480000gn/T/ipykernel_6547/4250457866.py:74: FutureWarning: The frame.append method is deprecated and will be removed from pandas in a future version. Use pandas.concat instead.\n",
      "  feature_pd = feature_pd.append(pd.DataFrame(saving, index=feature).transpose(), ignore_index=True)\n",
      "/var/folders/dn/j0_7h7gx2sq58_nt9816ss480000gn/T/ipykernel_6547/4250457866.py:74: FutureWarning: The frame.append method is deprecated and will be removed from pandas in a future version. Use pandas.concat instead.\n",
      "  feature_pd = feature_pd.append(pd.DataFrame(saving, index=feature).transpose(), ignore_index=True)\n"
     ]
    },
    {
     "name": "stdout",
     "output_type": "stream",
     "text": [
      "24\n",
      "25\n",
      "26\n",
      "27\n"
     ]
    },
    {
     "name": "stderr",
     "output_type": "stream",
     "text": [
      "/var/folders/dn/j0_7h7gx2sq58_nt9816ss480000gn/T/ipykernel_6547/4250457866.py:74: FutureWarning: The frame.append method is deprecated and will be removed from pandas in a future version. Use pandas.concat instead.\n",
      "  feature_pd = feature_pd.append(pd.DataFrame(saving, index=feature).transpose(), ignore_index=True)\n",
      "/var/folders/dn/j0_7h7gx2sq58_nt9816ss480000gn/T/ipykernel_6547/4250457866.py:74: FutureWarning: The frame.append method is deprecated and will be removed from pandas in a future version. Use pandas.concat instead.\n",
      "  feature_pd = feature_pd.append(pd.DataFrame(saving, index=feature).transpose(), ignore_index=True)\n",
      "/var/folders/dn/j0_7h7gx2sq58_nt9816ss480000gn/T/ipykernel_6547/4250457866.py:74: FutureWarning: The frame.append method is deprecated and will be removed from pandas in a future version. Use pandas.concat instead.\n",
      "  feature_pd = feature_pd.append(pd.DataFrame(saving, index=feature).transpose(), ignore_index=True)\n",
      "/var/folders/dn/j0_7h7gx2sq58_nt9816ss480000gn/T/ipykernel_6547/4250457866.py:74: FutureWarning: The frame.append method is deprecated and will be removed from pandas in a future version. Use pandas.concat instead.\n",
      "  feature_pd = feature_pd.append(pd.DataFrame(saving, index=feature).transpose(), ignore_index=True)\n"
     ]
    },
    {
     "name": "stdout",
     "output_type": "stream",
     "text": [
      "28\n",
      "29\n",
      "30\n"
     ]
    },
    {
     "name": "stderr",
     "output_type": "stream",
     "text": [
      "/var/folders/dn/j0_7h7gx2sq58_nt9816ss480000gn/T/ipykernel_6547/4250457866.py:74: FutureWarning: The frame.append method is deprecated and will be removed from pandas in a future version. Use pandas.concat instead.\n",
      "  feature_pd = feature_pd.append(pd.DataFrame(saving, index=feature).transpose(), ignore_index=True)\n",
      "/var/folders/dn/j0_7h7gx2sq58_nt9816ss480000gn/T/ipykernel_6547/4250457866.py:74: FutureWarning: The frame.append method is deprecated and will be removed from pandas in a future version. Use pandas.concat instead.\n",
      "  feature_pd = feature_pd.append(pd.DataFrame(saving, index=feature).transpose(), ignore_index=True)\n",
      "/var/folders/dn/j0_7h7gx2sq58_nt9816ss480000gn/T/ipykernel_6547/4250457866.py:74: FutureWarning: The frame.append method is deprecated and will be removed from pandas in a future version. Use pandas.concat instead.\n",
      "  feature_pd = feature_pd.append(pd.DataFrame(saving, index=feature).transpose(), ignore_index=True)\n"
     ]
    },
    {
     "name": "stdout",
     "output_type": "stream",
     "text": [
      "31\n",
      "32\n",
      "33\n",
      "34\n"
     ]
    },
    {
     "name": "stderr",
     "output_type": "stream",
     "text": [
      "/var/folders/dn/j0_7h7gx2sq58_nt9816ss480000gn/T/ipykernel_6547/4250457866.py:74: FutureWarning: The frame.append method is deprecated and will be removed from pandas in a future version. Use pandas.concat instead.\n",
      "  feature_pd = feature_pd.append(pd.DataFrame(saving, index=feature).transpose(), ignore_index=True)\n",
      "/var/folders/dn/j0_7h7gx2sq58_nt9816ss480000gn/T/ipykernel_6547/4250457866.py:74: FutureWarning: The frame.append method is deprecated and will be removed from pandas in a future version. Use pandas.concat instead.\n",
      "  feature_pd = feature_pd.append(pd.DataFrame(saving, index=feature).transpose(), ignore_index=True)\n",
      "/var/folders/dn/j0_7h7gx2sq58_nt9816ss480000gn/T/ipykernel_6547/4250457866.py:74: FutureWarning: The frame.append method is deprecated and will be removed from pandas in a future version. Use pandas.concat instead.\n",
      "  feature_pd = feature_pd.append(pd.DataFrame(saving, index=feature).transpose(), ignore_index=True)\n",
      "/var/folders/dn/j0_7h7gx2sq58_nt9816ss480000gn/T/ipykernel_6547/4250457866.py:74: FutureWarning: The frame.append method is deprecated and will be removed from pandas in a future version. Use pandas.concat instead.\n",
      "  feature_pd = feature_pd.append(pd.DataFrame(saving, index=feature).transpose(), ignore_index=True)\n"
     ]
    },
    {
     "name": "stdout",
     "output_type": "stream",
     "text": [
      "35\n",
      "36\n",
      "37\n"
     ]
    },
    {
     "name": "stderr",
     "output_type": "stream",
     "text": [
      "/var/folders/dn/j0_7h7gx2sq58_nt9816ss480000gn/T/ipykernel_6547/4250457866.py:74: FutureWarning: The frame.append method is deprecated and will be removed from pandas in a future version. Use pandas.concat instead.\n",
      "  feature_pd = feature_pd.append(pd.DataFrame(saving, index=feature).transpose(), ignore_index=True)\n",
      "/var/folders/dn/j0_7h7gx2sq58_nt9816ss480000gn/T/ipykernel_6547/4250457866.py:74: FutureWarning: The frame.append method is deprecated and will be removed from pandas in a future version. Use pandas.concat instead.\n",
      "  feature_pd = feature_pd.append(pd.DataFrame(saving, index=feature).transpose(), ignore_index=True)\n",
      "/var/folders/dn/j0_7h7gx2sq58_nt9816ss480000gn/T/ipykernel_6547/4250457866.py:74: FutureWarning: The frame.append method is deprecated and will be removed from pandas in a future version. Use pandas.concat instead.\n",
      "  feature_pd = feature_pd.append(pd.DataFrame(saving, index=feature).transpose(), ignore_index=True)\n"
     ]
    },
    {
     "name": "stdout",
     "output_type": "stream",
     "text": [
      "38\n",
      "39\n",
      "40\n"
     ]
    },
    {
     "name": "stderr",
     "output_type": "stream",
     "text": [
      "/var/folders/dn/j0_7h7gx2sq58_nt9816ss480000gn/T/ipykernel_6547/4250457866.py:74: FutureWarning: The frame.append method is deprecated and will be removed from pandas in a future version. Use pandas.concat instead.\n",
      "  feature_pd = feature_pd.append(pd.DataFrame(saving, index=feature).transpose(), ignore_index=True)\n",
      "/var/folders/dn/j0_7h7gx2sq58_nt9816ss480000gn/T/ipykernel_6547/4250457866.py:74: FutureWarning: The frame.append method is deprecated and will be removed from pandas in a future version. Use pandas.concat instead.\n",
      "  feature_pd = feature_pd.append(pd.DataFrame(saving, index=feature).transpose(), ignore_index=True)\n",
      "/var/folders/dn/j0_7h7gx2sq58_nt9816ss480000gn/T/ipykernel_6547/4250457866.py:74: FutureWarning: The frame.append method is deprecated and will be removed from pandas in a future version. Use pandas.concat instead.\n",
      "  feature_pd = feature_pd.append(pd.DataFrame(saving, index=feature).transpose(), ignore_index=True)\n"
     ]
    },
    {
     "name": "stdout",
     "output_type": "stream",
     "text": [
      "41\n",
      "42\n",
      "43\n",
      "44\n"
     ]
    },
    {
     "name": "stderr",
     "output_type": "stream",
     "text": [
      "/var/folders/dn/j0_7h7gx2sq58_nt9816ss480000gn/T/ipykernel_6547/4250457866.py:74: FutureWarning: The frame.append method is deprecated and will be removed from pandas in a future version. Use pandas.concat instead.\n",
      "  feature_pd = feature_pd.append(pd.DataFrame(saving, index=feature).transpose(), ignore_index=True)\n",
      "/var/folders/dn/j0_7h7gx2sq58_nt9816ss480000gn/T/ipykernel_6547/4250457866.py:74: FutureWarning: The frame.append method is deprecated and will be removed from pandas in a future version. Use pandas.concat instead.\n",
      "  feature_pd = feature_pd.append(pd.DataFrame(saving, index=feature).transpose(), ignore_index=True)\n",
      "/var/folders/dn/j0_7h7gx2sq58_nt9816ss480000gn/T/ipykernel_6547/4250457866.py:74: FutureWarning: The frame.append method is deprecated and will be removed from pandas in a future version. Use pandas.concat instead.\n",
      "  feature_pd = feature_pd.append(pd.DataFrame(saving, index=feature).transpose(), ignore_index=True)\n",
      "/var/folders/dn/j0_7h7gx2sq58_nt9816ss480000gn/T/ipykernel_6547/4250457866.py:74: FutureWarning: The frame.append method is deprecated and will be removed from pandas in a future version. Use pandas.concat instead.\n",
      "  feature_pd = feature_pd.append(pd.DataFrame(saving, index=feature).transpose(), ignore_index=True)\n"
     ]
    },
    {
     "name": "stdout",
     "output_type": "stream",
     "text": [
      "45\n",
      "46\n",
      "47\n"
     ]
    },
    {
     "name": "stderr",
     "output_type": "stream",
     "text": [
      "/var/folders/dn/j0_7h7gx2sq58_nt9816ss480000gn/T/ipykernel_6547/4250457866.py:74: FutureWarning: The frame.append method is deprecated and will be removed from pandas in a future version. Use pandas.concat instead.\n",
      "  feature_pd = feature_pd.append(pd.DataFrame(saving, index=feature).transpose(), ignore_index=True)\n",
      "/var/folders/dn/j0_7h7gx2sq58_nt9816ss480000gn/T/ipykernel_6547/4250457866.py:74: FutureWarning: The frame.append method is deprecated and will be removed from pandas in a future version. Use pandas.concat instead.\n",
      "  feature_pd = feature_pd.append(pd.DataFrame(saving, index=feature).transpose(), ignore_index=True)\n",
      "/var/folders/dn/j0_7h7gx2sq58_nt9816ss480000gn/T/ipykernel_6547/4250457866.py:74: FutureWarning: The frame.append method is deprecated and will be removed from pandas in a future version. Use pandas.concat instead.\n",
      "  feature_pd = feature_pd.append(pd.DataFrame(saving, index=feature).transpose(), ignore_index=True)\n"
     ]
    },
    {
     "name": "stdout",
     "output_type": "stream",
     "text": [
      "48\n",
      "49\n",
      "50\n",
      "51\n"
     ]
    },
    {
     "name": "stderr",
     "output_type": "stream",
     "text": [
      "/var/folders/dn/j0_7h7gx2sq58_nt9816ss480000gn/T/ipykernel_6547/4250457866.py:74: FutureWarning: The frame.append method is deprecated and will be removed from pandas in a future version. Use pandas.concat instead.\n",
      "  feature_pd = feature_pd.append(pd.DataFrame(saving, index=feature).transpose(), ignore_index=True)\n",
      "/var/folders/dn/j0_7h7gx2sq58_nt9816ss480000gn/T/ipykernel_6547/4250457866.py:74: FutureWarning: The frame.append method is deprecated and will be removed from pandas in a future version. Use pandas.concat instead.\n",
      "  feature_pd = feature_pd.append(pd.DataFrame(saving, index=feature).transpose(), ignore_index=True)\n",
      "/var/folders/dn/j0_7h7gx2sq58_nt9816ss480000gn/T/ipykernel_6547/4250457866.py:74: FutureWarning: The frame.append method is deprecated and will be removed from pandas in a future version. Use pandas.concat instead.\n",
      "  feature_pd = feature_pd.append(pd.DataFrame(saving, index=feature).transpose(), ignore_index=True)\n",
      "/var/folders/dn/j0_7h7gx2sq58_nt9816ss480000gn/T/ipykernel_6547/4250457866.py:74: FutureWarning: The frame.append method is deprecated and will be removed from pandas in a future version. Use pandas.concat instead.\n",
      "  feature_pd = feature_pd.append(pd.DataFrame(saving, index=feature).transpose(), ignore_index=True)\n"
     ]
    },
    {
     "name": "stdout",
     "output_type": "stream",
     "text": [
      "52\n",
      "53\n",
      "54\n",
      "55\n"
     ]
    },
    {
     "name": "stderr",
     "output_type": "stream",
     "text": [
      "/var/folders/dn/j0_7h7gx2sq58_nt9816ss480000gn/T/ipykernel_6547/4250457866.py:74: FutureWarning: The frame.append method is deprecated and will be removed from pandas in a future version. Use pandas.concat instead.\n",
      "  feature_pd = feature_pd.append(pd.DataFrame(saving, index=feature).transpose(), ignore_index=True)\n",
      "/var/folders/dn/j0_7h7gx2sq58_nt9816ss480000gn/T/ipykernel_6547/4250457866.py:74: FutureWarning: The frame.append method is deprecated and will be removed from pandas in a future version. Use pandas.concat instead.\n",
      "  feature_pd = feature_pd.append(pd.DataFrame(saving, index=feature).transpose(), ignore_index=True)\n",
      "/var/folders/dn/j0_7h7gx2sq58_nt9816ss480000gn/T/ipykernel_6547/4250457866.py:74: FutureWarning: The frame.append method is deprecated and will be removed from pandas in a future version. Use pandas.concat instead.\n",
      "  feature_pd = feature_pd.append(pd.DataFrame(saving, index=feature).transpose(), ignore_index=True)\n",
      "/var/folders/dn/j0_7h7gx2sq58_nt9816ss480000gn/T/ipykernel_6547/4250457866.py:74: FutureWarning: The frame.append method is deprecated and will be removed from pandas in a future version. Use pandas.concat instead.\n",
      "  feature_pd = feature_pd.append(pd.DataFrame(saving, index=feature).transpose(), ignore_index=True)\n"
     ]
    },
    {
     "name": "stdout",
     "output_type": "stream",
     "text": [
      "56\n",
      "57\n",
      "58\n",
      "59\n"
     ]
    },
    {
     "name": "stderr",
     "output_type": "stream",
     "text": [
      "/var/folders/dn/j0_7h7gx2sq58_nt9816ss480000gn/T/ipykernel_6547/4250457866.py:74: FutureWarning: The frame.append method is deprecated and will be removed from pandas in a future version. Use pandas.concat instead.\n",
      "  feature_pd = feature_pd.append(pd.DataFrame(saving, index=feature).transpose(), ignore_index=True)\n",
      "/var/folders/dn/j0_7h7gx2sq58_nt9816ss480000gn/T/ipykernel_6547/4250457866.py:74: FutureWarning: The frame.append method is deprecated and will be removed from pandas in a future version. Use pandas.concat instead.\n",
      "  feature_pd = feature_pd.append(pd.DataFrame(saving, index=feature).transpose(), ignore_index=True)\n",
      "/var/folders/dn/j0_7h7gx2sq58_nt9816ss480000gn/T/ipykernel_6547/4250457866.py:74: FutureWarning: The frame.append method is deprecated and will be removed from pandas in a future version. Use pandas.concat instead.\n",
      "  feature_pd = feature_pd.append(pd.DataFrame(saving, index=feature).transpose(), ignore_index=True)\n",
      "/var/folders/dn/j0_7h7gx2sq58_nt9816ss480000gn/T/ipykernel_6547/4250457866.py:74: FutureWarning: The frame.append method is deprecated and will be removed from pandas in a future version. Use pandas.concat instead.\n",
      "  feature_pd = feature_pd.append(pd.DataFrame(saving, index=feature).transpose(), ignore_index=True)\n"
     ]
    },
    {
     "name": "stdout",
     "output_type": "stream",
     "text": [
      "60\n",
      "61\n",
      "62\n",
      "63\n"
     ]
    },
    {
     "name": "stderr",
     "output_type": "stream",
     "text": [
      "/var/folders/dn/j0_7h7gx2sq58_nt9816ss480000gn/T/ipykernel_6547/4250457866.py:74: FutureWarning: The frame.append method is deprecated and will be removed from pandas in a future version. Use pandas.concat instead.\n",
      "  feature_pd = feature_pd.append(pd.DataFrame(saving, index=feature).transpose(), ignore_index=True)\n",
      "/var/folders/dn/j0_7h7gx2sq58_nt9816ss480000gn/T/ipykernel_6547/4250457866.py:74: FutureWarning: The frame.append method is deprecated and will be removed from pandas in a future version. Use pandas.concat instead.\n",
      "  feature_pd = feature_pd.append(pd.DataFrame(saving, index=feature).transpose(), ignore_index=True)\n",
      "/var/folders/dn/j0_7h7gx2sq58_nt9816ss480000gn/T/ipykernel_6547/4250457866.py:74: FutureWarning: The frame.append method is deprecated and will be removed from pandas in a future version. Use pandas.concat instead.\n",
      "  feature_pd = feature_pd.append(pd.DataFrame(saving, index=feature).transpose(), ignore_index=True)\n",
      "/var/folders/dn/j0_7h7gx2sq58_nt9816ss480000gn/T/ipykernel_6547/4250457866.py:74: FutureWarning: The frame.append method is deprecated and will be removed from pandas in a future version. Use pandas.concat instead.\n",
      "  feature_pd = feature_pd.append(pd.DataFrame(saving, index=feature).transpose(), ignore_index=True)\n"
     ]
    },
    {
     "name": "stdout",
     "output_type": "stream",
     "text": [
      "64\n"
     ]
    },
    {
     "name": "stderr",
     "output_type": "stream",
     "text": [
      "/var/folders/dn/j0_7h7gx2sq58_nt9816ss480000gn/T/ipykernel_6547/4250457866.py:74: FutureWarning: The frame.append method is deprecated and will be removed from pandas in a future version. Use pandas.concat instead.\n",
      "  feature_pd = feature_pd.append(pd.DataFrame(saving, index=feature).transpose(), ignore_index=True)\n"
     ]
    },
    {
     "name": "stdout",
     "output_type": "stream",
     "text": [
      "65\n",
      "66\n"
     ]
    },
    {
     "name": "stderr",
     "output_type": "stream",
     "text": [
      "/var/folders/dn/j0_7h7gx2sq58_nt9816ss480000gn/T/ipykernel_6547/4250457866.py:74: FutureWarning: The frame.append method is deprecated and will be removed from pandas in a future version. Use pandas.concat instead.\n",
      "  feature_pd = feature_pd.append(pd.DataFrame(saving, index=feature).transpose(), ignore_index=True)\n",
      "/var/folders/dn/j0_7h7gx2sq58_nt9816ss480000gn/T/ipykernel_6547/4250457866.py:74: FutureWarning: The frame.append method is deprecated and will be removed from pandas in a future version. Use pandas.concat instead.\n",
      "  feature_pd = feature_pd.append(pd.DataFrame(saving, index=feature).transpose(), ignore_index=True)\n"
     ]
    },
    {
     "name": "stdout",
     "output_type": "stream",
     "text": [
      "67\n",
      "68\n"
     ]
    },
    {
     "name": "stderr",
     "output_type": "stream",
     "text": [
      "/var/folders/dn/j0_7h7gx2sq58_nt9816ss480000gn/T/ipykernel_6547/4250457866.py:74: FutureWarning: The frame.append method is deprecated and will be removed from pandas in a future version. Use pandas.concat instead.\n",
      "  feature_pd = feature_pd.append(pd.DataFrame(saving, index=feature).transpose(), ignore_index=True)\n",
      "/var/folders/dn/j0_7h7gx2sq58_nt9816ss480000gn/T/ipykernel_6547/4250457866.py:74: FutureWarning: The frame.append method is deprecated and will be removed from pandas in a future version. Use pandas.concat instead.\n",
      "  feature_pd = feature_pd.append(pd.DataFrame(saving, index=feature).transpose(), ignore_index=True)\n"
     ]
    },
    {
     "name": "stdout",
     "output_type": "stream",
     "text": [
      "69\n",
      "70\n",
      "71\n",
      "72\n"
     ]
    },
    {
     "name": "stderr",
     "output_type": "stream",
     "text": [
      "/var/folders/dn/j0_7h7gx2sq58_nt9816ss480000gn/T/ipykernel_6547/4250457866.py:74: FutureWarning: The frame.append method is deprecated and will be removed from pandas in a future version. Use pandas.concat instead.\n",
      "  feature_pd = feature_pd.append(pd.DataFrame(saving, index=feature).transpose(), ignore_index=True)\n",
      "/var/folders/dn/j0_7h7gx2sq58_nt9816ss480000gn/T/ipykernel_6547/4250457866.py:74: FutureWarning: The frame.append method is deprecated and will be removed from pandas in a future version. Use pandas.concat instead.\n",
      "  feature_pd = feature_pd.append(pd.DataFrame(saving, index=feature).transpose(), ignore_index=True)\n",
      "/var/folders/dn/j0_7h7gx2sq58_nt9816ss480000gn/T/ipykernel_6547/4250457866.py:74: FutureWarning: The frame.append method is deprecated and will be removed from pandas in a future version. Use pandas.concat instead.\n",
      "  feature_pd = feature_pd.append(pd.DataFrame(saving, index=feature).transpose(), ignore_index=True)\n",
      "/var/folders/dn/j0_7h7gx2sq58_nt9816ss480000gn/T/ipykernel_6547/4250457866.py:74: FutureWarning: The frame.append method is deprecated and will be removed from pandas in a future version. Use pandas.concat instead.\n",
      "  feature_pd = feature_pd.append(pd.DataFrame(saving, index=feature).transpose(), ignore_index=True)\n"
     ]
    },
    {
     "name": "stdout",
     "output_type": "stream",
     "text": [
      "73\n",
      "74\n",
      "75\n",
      "76\n",
      "77\n"
     ]
    },
    {
     "name": "stderr",
     "output_type": "stream",
     "text": [
      "/var/folders/dn/j0_7h7gx2sq58_nt9816ss480000gn/T/ipykernel_6547/4250457866.py:74: FutureWarning: The frame.append method is deprecated and will be removed from pandas in a future version. Use pandas.concat instead.\n",
      "  feature_pd = feature_pd.append(pd.DataFrame(saving, index=feature).transpose(), ignore_index=True)\n",
      "/var/folders/dn/j0_7h7gx2sq58_nt9816ss480000gn/T/ipykernel_6547/4250457866.py:74: FutureWarning: The frame.append method is deprecated and will be removed from pandas in a future version. Use pandas.concat instead.\n",
      "  feature_pd = feature_pd.append(pd.DataFrame(saving, index=feature).transpose(), ignore_index=True)\n",
      "/var/folders/dn/j0_7h7gx2sq58_nt9816ss480000gn/T/ipykernel_6547/4250457866.py:74: FutureWarning: The frame.append method is deprecated and will be removed from pandas in a future version. Use pandas.concat instead.\n",
      "  feature_pd = feature_pd.append(pd.DataFrame(saving, index=feature).transpose(), ignore_index=True)\n",
      "/var/folders/dn/j0_7h7gx2sq58_nt9816ss480000gn/T/ipykernel_6547/4250457866.py:74: FutureWarning: The frame.append method is deprecated and will be removed from pandas in a future version. Use pandas.concat instead.\n",
      "  feature_pd = feature_pd.append(pd.DataFrame(saving, index=feature).transpose(), ignore_index=True)\n",
      "/var/folders/dn/j0_7h7gx2sq58_nt9816ss480000gn/T/ipykernel_6547/4250457866.py:74: FutureWarning: The frame.append method is deprecated and will be removed from pandas in a future version. Use pandas.concat instead.\n",
      "  feature_pd = feature_pd.append(pd.DataFrame(saving, index=feature).transpose(), ignore_index=True)\n"
     ]
    },
    {
     "name": "stdout",
     "output_type": "stream",
     "text": [
      "78\n",
      "79\n"
     ]
    },
    {
     "name": "stderr",
     "output_type": "stream",
     "text": [
      "/var/folders/dn/j0_7h7gx2sq58_nt9816ss480000gn/T/ipykernel_6547/4250457866.py:74: FutureWarning: The frame.append method is deprecated and will be removed from pandas in a future version. Use pandas.concat instead.\n",
      "  feature_pd = feature_pd.append(pd.DataFrame(saving, index=feature).transpose(), ignore_index=True)\n",
      "/var/folders/dn/j0_7h7gx2sq58_nt9816ss480000gn/T/ipykernel_6547/4250457866.py:74: FutureWarning: The frame.append method is deprecated and will be removed from pandas in a future version. Use pandas.concat instead.\n",
      "  feature_pd = feature_pd.append(pd.DataFrame(saving, index=feature).transpose(), ignore_index=True)\n"
     ]
    },
    {
     "name": "stdout",
     "output_type": "stream",
     "text": [
      "80\n",
      "81\n",
      "82\n"
     ]
    },
    {
     "name": "stderr",
     "output_type": "stream",
     "text": [
      "/var/folders/dn/j0_7h7gx2sq58_nt9816ss480000gn/T/ipykernel_6547/4250457866.py:74: FutureWarning: The frame.append method is deprecated and will be removed from pandas in a future version. Use pandas.concat instead.\n",
      "  feature_pd = feature_pd.append(pd.DataFrame(saving, index=feature).transpose(), ignore_index=True)\n",
      "/var/folders/dn/j0_7h7gx2sq58_nt9816ss480000gn/T/ipykernel_6547/4250457866.py:74: FutureWarning: The frame.append method is deprecated and will be removed from pandas in a future version. Use pandas.concat instead.\n",
      "  feature_pd = feature_pd.append(pd.DataFrame(saving, index=feature).transpose(), ignore_index=True)\n",
      "/var/folders/dn/j0_7h7gx2sq58_nt9816ss480000gn/T/ipykernel_6547/4250457866.py:74: FutureWarning: The frame.append method is deprecated and will be removed from pandas in a future version. Use pandas.concat instead.\n",
      "  feature_pd = feature_pd.append(pd.DataFrame(saving, index=feature).transpose(), ignore_index=True)\n"
     ]
    },
    {
     "name": "stdout",
     "output_type": "stream",
     "text": [
      "83\n",
      "84\n"
     ]
    },
    {
     "name": "stderr",
     "output_type": "stream",
     "text": [
      "/var/folders/dn/j0_7h7gx2sq58_nt9816ss480000gn/T/ipykernel_6547/4250457866.py:74: FutureWarning: The frame.append method is deprecated and will be removed from pandas in a future version. Use pandas.concat instead.\n",
      "  feature_pd = feature_pd.append(pd.DataFrame(saving, index=feature).transpose(), ignore_index=True)\n",
      "/var/folders/dn/j0_7h7gx2sq58_nt9816ss480000gn/T/ipykernel_6547/4250457866.py:74: FutureWarning: The frame.append method is deprecated and will be removed from pandas in a future version. Use pandas.concat instead.\n",
      "  feature_pd = feature_pd.append(pd.DataFrame(saving, index=feature).transpose(), ignore_index=True)\n"
     ]
    },
    {
     "name": "stdout",
     "output_type": "stream",
     "text": [
      "85\n",
      "86\n",
      "87\n"
     ]
    },
    {
     "name": "stderr",
     "output_type": "stream",
     "text": [
      "/var/folders/dn/j0_7h7gx2sq58_nt9816ss480000gn/T/ipykernel_6547/4250457866.py:74: FutureWarning: The frame.append method is deprecated and will be removed from pandas in a future version. Use pandas.concat instead.\n",
      "  feature_pd = feature_pd.append(pd.DataFrame(saving, index=feature).transpose(), ignore_index=True)\n",
      "/var/folders/dn/j0_7h7gx2sq58_nt9816ss480000gn/T/ipykernel_6547/4250457866.py:74: FutureWarning: The frame.append method is deprecated and will be removed from pandas in a future version. Use pandas.concat instead.\n",
      "  feature_pd = feature_pd.append(pd.DataFrame(saving, index=feature).transpose(), ignore_index=True)\n",
      "/var/folders/dn/j0_7h7gx2sq58_nt9816ss480000gn/T/ipykernel_6547/4250457866.py:74: FutureWarning: The frame.append method is deprecated and will be removed from pandas in a future version. Use pandas.concat instead.\n",
      "  feature_pd = feature_pd.append(pd.DataFrame(saving, index=feature).transpose(), ignore_index=True)\n"
     ]
    },
    {
     "name": "stdout",
     "output_type": "stream",
     "text": [
      "88\n",
      "89\n",
      "90\n"
     ]
    },
    {
     "name": "stderr",
     "output_type": "stream",
     "text": [
      "/var/folders/dn/j0_7h7gx2sq58_nt9816ss480000gn/T/ipykernel_6547/4250457866.py:74: FutureWarning: The frame.append method is deprecated and will be removed from pandas in a future version. Use pandas.concat instead.\n",
      "  feature_pd = feature_pd.append(pd.DataFrame(saving, index=feature).transpose(), ignore_index=True)\n",
      "/var/folders/dn/j0_7h7gx2sq58_nt9816ss480000gn/T/ipykernel_6547/4250457866.py:74: FutureWarning: The frame.append method is deprecated and will be removed from pandas in a future version. Use pandas.concat instead.\n",
      "  feature_pd = feature_pd.append(pd.DataFrame(saving, index=feature).transpose(), ignore_index=True)\n",
      "/var/folders/dn/j0_7h7gx2sq58_nt9816ss480000gn/T/ipykernel_6547/4250457866.py:74: FutureWarning: The frame.append method is deprecated and will be removed from pandas in a future version. Use pandas.concat instead.\n",
      "  feature_pd = feature_pd.append(pd.DataFrame(saving, index=feature).transpose(), ignore_index=True)\n"
     ]
    },
    {
     "name": "stdout",
     "output_type": "stream",
     "text": [
      "91\n",
      "92\n",
      "93\n",
      "94\n"
     ]
    },
    {
     "name": "stderr",
     "output_type": "stream",
     "text": [
      "/var/folders/dn/j0_7h7gx2sq58_nt9816ss480000gn/T/ipykernel_6547/4250457866.py:74: FutureWarning: The frame.append method is deprecated and will be removed from pandas in a future version. Use pandas.concat instead.\n",
      "  feature_pd = feature_pd.append(pd.DataFrame(saving, index=feature).transpose(), ignore_index=True)\n",
      "/var/folders/dn/j0_7h7gx2sq58_nt9816ss480000gn/T/ipykernel_6547/4250457866.py:74: FutureWarning: The frame.append method is deprecated and will be removed from pandas in a future version. Use pandas.concat instead.\n",
      "  feature_pd = feature_pd.append(pd.DataFrame(saving, index=feature).transpose(), ignore_index=True)\n",
      "/var/folders/dn/j0_7h7gx2sq58_nt9816ss480000gn/T/ipykernel_6547/4250457866.py:74: FutureWarning: The frame.append method is deprecated and will be removed from pandas in a future version. Use pandas.concat instead.\n",
      "  feature_pd = feature_pd.append(pd.DataFrame(saving, index=feature).transpose(), ignore_index=True)\n",
      "/var/folders/dn/j0_7h7gx2sq58_nt9816ss480000gn/T/ipykernel_6547/4250457866.py:74: FutureWarning: The frame.append method is deprecated and will be removed from pandas in a future version. Use pandas.concat instead.\n",
      "  feature_pd = feature_pd.append(pd.DataFrame(saving, index=feature).transpose(), ignore_index=True)\n"
     ]
    },
    {
     "name": "stdout",
     "output_type": "stream",
     "text": [
      "95\n",
      "96\n",
      "97\n"
     ]
    },
    {
     "name": "stderr",
     "output_type": "stream",
     "text": [
      "/var/folders/dn/j0_7h7gx2sq58_nt9816ss480000gn/T/ipykernel_6547/4250457866.py:74: FutureWarning: The frame.append method is deprecated and will be removed from pandas in a future version. Use pandas.concat instead.\n",
      "  feature_pd = feature_pd.append(pd.DataFrame(saving, index=feature).transpose(), ignore_index=True)\n",
      "/var/folders/dn/j0_7h7gx2sq58_nt9816ss480000gn/T/ipykernel_6547/4250457866.py:74: FutureWarning: The frame.append method is deprecated and will be removed from pandas in a future version. Use pandas.concat instead.\n",
      "  feature_pd = feature_pd.append(pd.DataFrame(saving, index=feature).transpose(), ignore_index=True)\n",
      "/var/folders/dn/j0_7h7gx2sq58_nt9816ss480000gn/T/ipykernel_6547/4250457866.py:74: FutureWarning: The frame.append method is deprecated and will be removed from pandas in a future version. Use pandas.concat instead.\n",
      "  feature_pd = feature_pd.append(pd.DataFrame(saving, index=feature).transpose(), ignore_index=True)\n"
     ]
    },
    {
     "name": "stdout",
     "output_type": "stream",
     "text": [
      "98\n",
      "99\n",
      "100\n"
     ]
    },
    {
     "name": "stderr",
     "output_type": "stream",
     "text": [
      "/var/folders/dn/j0_7h7gx2sq58_nt9816ss480000gn/T/ipykernel_6547/4250457866.py:74: FutureWarning: The frame.append method is deprecated and will be removed from pandas in a future version. Use pandas.concat instead.\n",
      "  feature_pd = feature_pd.append(pd.DataFrame(saving, index=feature).transpose(), ignore_index=True)\n",
      "/var/folders/dn/j0_7h7gx2sq58_nt9816ss480000gn/T/ipykernel_6547/4250457866.py:74: FutureWarning: The frame.append method is deprecated and will be removed from pandas in a future version. Use pandas.concat instead.\n",
      "  feature_pd = feature_pd.append(pd.DataFrame(saving, index=feature).transpose(), ignore_index=True)\n",
      "/var/folders/dn/j0_7h7gx2sq58_nt9816ss480000gn/T/ipykernel_6547/4250457866.py:74: FutureWarning: The frame.append method is deprecated and will be removed from pandas in a future version. Use pandas.concat instead.\n",
      "  feature_pd = feature_pd.append(pd.DataFrame(saving, index=feature).transpose(), ignore_index=True)\n"
     ]
    },
    {
     "name": "stdout",
     "output_type": "stream",
     "text": [
      "101\n",
      "102\n"
     ]
    },
    {
     "name": "stderr",
     "output_type": "stream",
     "text": [
      "/var/folders/dn/j0_7h7gx2sq58_nt9816ss480000gn/T/ipykernel_6547/4250457866.py:74: FutureWarning: The frame.append method is deprecated and will be removed from pandas in a future version. Use pandas.concat instead.\n",
      "  feature_pd = feature_pd.append(pd.DataFrame(saving, index=feature).transpose(), ignore_index=True)\n",
      "/var/folders/dn/j0_7h7gx2sq58_nt9816ss480000gn/T/ipykernel_6547/4250457866.py:74: FutureWarning: The frame.append method is deprecated and will be removed from pandas in a future version. Use pandas.concat instead.\n",
      "  feature_pd = feature_pd.append(pd.DataFrame(saving, index=feature).transpose(), ignore_index=True)\n"
     ]
    },
    {
     "name": "stdout",
     "output_type": "stream",
     "text": [
      "103\n"
     ]
    },
    {
     "name": "stderr",
     "output_type": "stream",
     "text": [
      "/var/folders/dn/j0_7h7gx2sq58_nt9816ss480000gn/T/ipykernel_6547/4250457866.py:74: FutureWarning: The frame.append method is deprecated and will be removed from pandas in a future version. Use pandas.concat instead.\n",
      "  feature_pd = feature_pd.append(pd.DataFrame(saving, index=feature).transpose(), ignore_index=True)\n"
     ]
    },
    {
     "name": "stdout",
     "output_type": "stream",
     "text": [
      "104\n",
      "105\n"
     ]
    },
    {
     "name": "stderr",
     "output_type": "stream",
     "text": [
      "/var/folders/dn/j0_7h7gx2sq58_nt9816ss480000gn/T/ipykernel_6547/4250457866.py:74: FutureWarning: The frame.append method is deprecated and will be removed from pandas in a future version. Use pandas.concat instead.\n",
      "  feature_pd = feature_pd.append(pd.DataFrame(saving, index=feature).transpose(), ignore_index=True)\n",
      "/var/folders/dn/j0_7h7gx2sq58_nt9816ss480000gn/T/ipykernel_6547/4250457866.py:74: FutureWarning: The frame.append method is deprecated and will be removed from pandas in a future version. Use pandas.concat instead.\n",
      "  feature_pd = feature_pd.append(pd.DataFrame(saving, index=feature).transpose(), ignore_index=True)\n"
     ]
    },
    {
     "name": "stdout",
     "output_type": "stream",
     "text": [
      "106\n",
      "107\n",
      "108\n",
      "109\n"
     ]
    },
    {
     "name": "stderr",
     "output_type": "stream",
     "text": [
      "/var/folders/dn/j0_7h7gx2sq58_nt9816ss480000gn/T/ipykernel_6547/4250457866.py:74: FutureWarning: The frame.append method is deprecated and will be removed from pandas in a future version. Use pandas.concat instead.\n",
      "  feature_pd = feature_pd.append(pd.DataFrame(saving, index=feature).transpose(), ignore_index=True)\n",
      "/var/folders/dn/j0_7h7gx2sq58_nt9816ss480000gn/T/ipykernel_6547/4250457866.py:74: FutureWarning: The frame.append method is deprecated and will be removed from pandas in a future version. Use pandas.concat instead.\n",
      "  feature_pd = feature_pd.append(pd.DataFrame(saving, index=feature).transpose(), ignore_index=True)\n",
      "/var/folders/dn/j0_7h7gx2sq58_nt9816ss480000gn/T/ipykernel_6547/4250457866.py:74: FutureWarning: The frame.append method is deprecated and will be removed from pandas in a future version. Use pandas.concat instead.\n",
      "  feature_pd = feature_pd.append(pd.DataFrame(saving, index=feature).transpose(), ignore_index=True)\n",
      "/var/folders/dn/j0_7h7gx2sq58_nt9816ss480000gn/T/ipykernel_6547/4250457866.py:74: FutureWarning: The frame.append method is deprecated and will be removed from pandas in a future version. Use pandas.concat instead.\n",
      "  feature_pd = feature_pd.append(pd.DataFrame(saving, index=feature).transpose(), ignore_index=True)\n"
     ]
    },
    {
     "name": "stdout",
     "output_type": "stream",
     "text": [
      "110\n",
      "111\n"
     ]
    },
    {
     "name": "stderr",
     "output_type": "stream",
     "text": [
      "/var/folders/dn/j0_7h7gx2sq58_nt9816ss480000gn/T/ipykernel_6547/4250457866.py:74: FutureWarning: The frame.append method is deprecated and will be removed from pandas in a future version. Use pandas.concat instead.\n",
      "  feature_pd = feature_pd.append(pd.DataFrame(saving, index=feature).transpose(), ignore_index=True)\n",
      "/var/folders/dn/j0_7h7gx2sq58_nt9816ss480000gn/T/ipykernel_6547/4250457866.py:74: FutureWarning: The frame.append method is deprecated and will be removed from pandas in a future version. Use pandas.concat instead.\n",
      "  feature_pd = feature_pd.append(pd.DataFrame(saving, index=feature).transpose(), ignore_index=True)\n"
     ]
    },
    {
     "name": "stdout",
     "output_type": "stream",
     "text": [
      "112\n",
      "113\n",
      "114\n",
      "115\n"
     ]
    },
    {
     "name": "stderr",
     "output_type": "stream",
     "text": [
      "/var/folders/dn/j0_7h7gx2sq58_nt9816ss480000gn/T/ipykernel_6547/4250457866.py:74: FutureWarning: The frame.append method is deprecated and will be removed from pandas in a future version. Use pandas.concat instead.\n",
      "  feature_pd = feature_pd.append(pd.DataFrame(saving, index=feature).transpose(), ignore_index=True)\n",
      "/var/folders/dn/j0_7h7gx2sq58_nt9816ss480000gn/T/ipykernel_6547/4250457866.py:74: FutureWarning: The frame.append method is deprecated and will be removed from pandas in a future version. Use pandas.concat instead.\n",
      "  feature_pd = feature_pd.append(pd.DataFrame(saving, index=feature).transpose(), ignore_index=True)\n",
      "/var/folders/dn/j0_7h7gx2sq58_nt9816ss480000gn/T/ipykernel_6547/4250457866.py:74: FutureWarning: The frame.append method is deprecated and will be removed from pandas in a future version. Use pandas.concat instead.\n",
      "  feature_pd = feature_pd.append(pd.DataFrame(saving, index=feature).transpose(), ignore_index=True)\n",
      "/var/folders/dn/j0_7h7gx2sq58_nt9816ss480000gn/T/ipykernel_6547/4250457866.py:74: FutureWarning: The frame.append method is deprecated and will be removed from pandas in a future version. Use pandas.concat instead.\n",
      "  feature_pd = feature_pd.append(pd.DataFrame(saving, index=feature).transpose(), ignore_index=True)\n"
     ]
    },
    {
     "name": "stdout",
     "output_type": "stream",
     "text": [
      "116\n",
      "117\n",
      "118\n"
     ]
    },
    {
     "name": "stderr",
     "output_type": "stream",
     "text": [
      "/var/folders/dn/j0_7h7gx2sq58_nt9816ss480000gn/T/ipykernel_6547/4250457866.py:74: FutureWarning: The frame.append method is deprecated and will be removed from pandas in a future version. Use pandas.concat instead.\n",
      "  feature_pd = feature_pd.append(pd.DataFrame(saving, index=feature).transpose(), ignore_index=True)\n",
      "/var/folders/dn/j0_7h7gx2sq58_nt9816ss480000gn/T/ipykernel_6547/4250457866.py:74: FutureWarning: The frame.append method is deprecated and will be removed from pandas in a future version. Use pandas.concat instead.\n",
      "  feature_pd = feature_pd.append(pd.DataFrame(saving, index=feature).transpose(), ignore_index=True)\n",
      "/var/folders/dn/j0_7h7gx2sq58_nt9816ss480000gn/T/ipykernel_6547/4250457866.py:74: FutureWarning: The frame.append method is deprecated and will be removed from pandas in a future version. Use pandas.concat instead.\n",
      "  feature_pd = feature_pd.append(pd.DataFrame(saving, index=feature).transpose(), ignore_index=True)\n"
     ]
    },
    {
     "name": "stdout",
     "output_type": "stream",
     "text": [
      "119\n"
     ]
    },
    {
     "name": "stderr",
     "output_type": "stream",
     "text": [
      "/var/folders/dn/j0_7h7gx2sq58_nt9816ss480000gn/T/ipykernel_6547/4250457866.py:74: FutureWarning: The frame.append method is deprecated and will be removed from pandas in a future version. Use pandas.concat instead.\n",
      "  feature_pd = feature_pd.append(pd.DataFrame(saving, index=feature).transpose(), ignore_index=True)\n"
     ]
    },
    {
     "name": "stdout",
     "output_type": "stream",
     "text": [
      "120\n",
      "121\n",
      "122\n"
     ]
    },
    {
     "name": "stderr",
     "output_type": "stream",
     "text": [
      "/var/folders/dn/j0_7h7gx2sq58_nt9816ss480000gn/T/ipykernel_6547/4250457866.py:74: FutureWarning: The frame.append method is deprecated and will be removed from pandas in a future version. Use pandas.concat instead.\n",
      "  feature_pd = feature_pd.append(pd.DataFrame(saving, index=feature).transpose(), ignore_index=True)\n",
      "/var/folders/dn/j0_7h7gx2sq58_nt9816ss480000gn/T/ipykernel_6547/4250457866.py:74: FutureWarning: The frame.append method is deprecated and will be removed from pandas in a future version. Use pandas.concat instead.\n",
      "  feature_pd = feature_pd.append(pd.DataFrame(saving, index=feature).transpose(), ignore_index=True)\n",
      "/var/folders/dn/j0_7h7gx2sq58_nt9816ss480000gn/T/ipykernel_6547/4250457866.py:74: FutureWarning: The frame.append method is deprecated and will be removed from pandas in a future version. Use pandas.concat instead.\n",
      "  feature_pd = feature_pd.append(pd.DataFrame(saving, index=feature).transpose(), ignore_index=True)\n"
     ]
    },
    {
     "name": "stdout",
     "output_type": "stream",
     "text": [
      "123\n",
      "124\n"
     ]
    },
    {
     "name": "stderr",
     "output_type": "stream",
     "text": [
      "/var/folders/dn/j0_7h7gx2sq58_nt9816ss480000gn/T/ipykernel_6547/4250457866.py:74: FutureWarning: The frame.append method is deprecated and will be removed from pandas in a future version. Use pandas.concat instead.\n",
      "  feature_pd = feature_pd.append(pd.DataFrame(saving, index=feature).transpose(), ignore_index=True)\n",
      "/var/folders/dn/j0_7h7gx2sq58_nt9816ss480000gn/T/ipykernel_6547/4250457866.py:74: FutureWarning: The frame.append method is deprecated and will be removed from pandas in a future version. Use pandas.concat instead.\n",
      "  feature_pd = feature_pd.append(pd.DataFrame(saving, index=feature).transpose(), ignore_index=True)\n"
     ]
    },
    {
     "name": "stdout",
     "output_type": "stream",
     "text": [
      "125\n",
      "126\n",
      "127\n"
     ]
    },
    {
     "name": "stderr",
     "output_type": "stream",
     "text": [
      "/var/folders/dn/j0_7h7gx2sq58_nt9816ss480000gn/T/ipykernel_6547/4250457866.py:74: FutureWarning: The frame.append method is deprecated and will be removed from pandas in a future version. Use pandas.concat instead.\n",
      "  feature_pd = feature_pd.append(pd.DataFrame(saving, index=feature).transpose(), ignore_index=True)\n",
      "/var/folders/dn/j0_7h7gx2sq58_nt9816ss480000gn/T/ipykernel_6547/4250457866.py:74: FutureWarning: The frame.append method is deprecated and will be removed from pandas in a future version. Use pandas.concat instead.\n",
      "  feature_pd = feature_pd.append(pd.DataFrame(saving, index=feature).transpose(), ignore_index=True)\n",
      "/var/folders/dn/j0_7h7gx2sq58_nt9816ss480000gn/T/ipykernel_6547/4250457866.py:74: FutureWarning: The frame.append method is deprecated and will be removed from pandas in a future version. Use pandas.concat instead.\n",
      "  feature_pd = feature_pd.append(pd.DataFrame(saving, index=feature).transpose(), ignore_index=True)\n"
     ]
    },
    {
     "name": "stdout",
     "output_type": "stream",
     "text": [
      "128\n",
      "129\n",
      "130\n"
     ]
    },
    {
     "name": "stderr",
     "output_type": "stream",
     "text": [
      "/var/folders/dn/j0_7h7gx2sq58_nt9816ss480000gn/T/ipykernel_6547/4250457866.py:74: FutureWarning: The frame.append method is deprecated and will be removed from pandas in a future version. Use pandas.concat instead.\n",
      "  feature_pd = feature_pd.append(pd.DataFrame(saving, index=feature).transpose(), ignore_index=True)\n",
      "/var/folders/dn/j0_7h7gx2sq58_nt9816ss480000gn/T/ipykernel_6547/4250457866.py:74: FutureWarning: The frame.append method is deprecated and will be removed from pandas in a future version. Use pandas.concat instead.\n",
      "  feature_pd = feature_pd.append(pd.DataFrame(saving, index=feature).transpose(), ignore_index=True)\n",
      "/var/folders/dn/j0_7h7gx2sq58_nt9816ss480000gn/T/ipykernel_6547/4250457866.py:74: FutureWarning: The frame.append method is deprecated and will be removed from pandas in a future version. Use pandas.concat instead.\n",
      "  feature_pd = feature_pd.append(pd.DataFrame(saving, index=feature).transpose(), ignore_index=True)\n"
     ]
    },
    {
     "name": "stdout",
     "output_type": "stream",
     "text": [
      "131\n",
      "132\n",
      "133\n"
     ]
    },
    {
     "name": "stderr",
     "output_type": "stream",
     "text": [
      "/var/folders/dn/j0_7h7gx2sq58_nt9816ss480000gn/T/ipykernel_6547/4250457866.py:74: FutureWarning: The frame.append method is deprecated and will be removed from pandas in a future version. Use pandas.concat instead.\n",
      "  feature_pd = feature_pd.append(pd.DataFrame(saving, index=feature).transpose(), ignore_index=True)\n",
      "/var/folders/dn/j0_7h7gx2sq58_nt9816ss480000gn/T/ipykernel_6547/4250457866.py:74: FutureWarning: The frame.append method is deprecated and will be removed from pandas in a future version. Use pandas.concat instead.\n",
      "  feature_pd = feature_pd.append(pd.DataFrame(saving, index=feature).transpose(), ignore_index=True)\n",
      "/var/folders/dn/j0_7h7gx2sq58_nt9816ss480000gn/T/ipykernel_6547/4250457866.py:74: FutureWarning: The frame.append method is deprecated and will be removed from pandas in a future version. Use pandas.concat instead.\n",
      "  feature_pd = feature_pd.append(pd.DataFrame(saving, index=feature).transpose(), ignore_index=True)\n"
     ]
    },
    {
     "name": "stdout",
     "output_type": "stream",
     "text": [
      "134\n",
      "135\n",
      "136\n",
      "137\n",
      "138\n"
     ]
    },
    {
     "name": "stderr",
     "output_type": "stream",
     "text": [
      "/var/folders/dn/j0_7h7gx2sq58_nt9816ss480000gn/T/ipykernel_6547/4250457866.py:74: FutureWarning: The frame.append method is deprecated and will be removed from pandas in a future version. Use pandas.concat instead.\n",
      "  feature_pd = feature_pd.append(pd.DataFrame(saving, index=feature).transpose(), ignore_index=True)\n",
      "/var/folders/dn/j0_7h7gx2sq58_nt9816ss480000gn/T/ipykernel_6547/4250457866.py:74: FutureWarning: The frame.append method is deprecated and will be removed from pandas in a future version. Use pandas.concat instead.\n",
      "  feature_pd = feature_pd.append(pd.DataFrame(saving, index=feature).transpose(), ignore_index=True)\n",
      "/var/folders/dn/j0_7h7gx2sq58_nt9816ss480000gn/T/ipykernel_6547/4250457866.py:74: FutureWarning: The frame.append method is deprecated and will be removed from pandas in a future version. Use pandas.concat instead.\n",
      "  feature_pd = feature_pd.append(pd.DataFrame(saving, index=feature).transpose(), ignore_index=True)\n",
      "/var/folders/dn/j0_7h7gx2sq58_nt9816ss480000gn/T/ipykernel_6547/4250457866.py:74: FutureWarning: The frame.append method is deprecated and will be removed from pandas in a future version. Use pandas.concat instead.\n",
      "  feature_pd = feature_pd.append(pd.DataFrame(saving, index=feature).transpose(), ignore_index=True)\n",
      "/var/folders/dn/j0_7h7gx2sq58_nt9816ss480000gn/T/ipykernel_6547/4250457866.py:74: FutureWarning: The frame.append method is deprecated and will be removed from pandas in a future version. Use pandas.concat instead.\n",
      "  feature_pd = feature_pd.append(pd.DataFrame(saving, index=feature).transpose(), ignore_index=True)\n"
     ]
    },
    {
     "name": "stdout",
     "output_type": "stream",
     "text": [
      "139\n",
      "140\n",
      "141\n"
     ]
    },
    {
     "name": "stderr",
     "output_type": "stream",
     "text": [
      "/var/folders/dn/j0_7h7gx2sq58_nt9816ss480000gn/T/ipykernel_6547/4250457866.py:74: FutureWarning: The frame.append method is deprecated and will be removed from pandas in a future version. Use pandas.concat instead.\n",
      "  feature_pd = feature_pd.append(pd.DataFrame(saving, index=feature).transpose(), ignore_index=True)\n",
      "/var/folders/dn/j0_7h7gx2sq58_nt9816ss480000gn/T/ipykernel_6547/4250457866.py:74: FutureWarning: The frame.append method is deprecated and will be removed from pandas in a future version. Use pandas.concat instead.\n",
      "  feature_pd = feature_pd.append(pd.DataFrame(saving, index=feature).transpose(), ignore_index=True)\n",
      "/var/folders/dn/j0_7h7gx2sq58_nt9816ss480000gn/T/ipykernel_6547/4250457866.py:74: FutureWarning: The frame.append method is deprecated and will be removed from pandas in a future version. Use pandas.concat instead.\n",
      "  feature_pd = feature_pd.append(pd.DataFrame(saving, index=feature).transpose(), ignore_index=True)\n"
     ]
    },
    {
     "name": "stdout",
     "output_type": "stream",
     "text": [
      "142\n",
      "143\n",
      "144\n"
     ]
    },
    {
     "name": "stderr",
     "output_type": "stream",
     "text": [
      "/var/folders/dn/j0_7h7gx2sq58_nt9816ss480000gn/T/ipykernel_6547/4250457866.py:74: FutureWarning: The frame.append method is deprecated and will be removed from pandas in a future version. Use pandas.concat instead.\n",
      "  feature_pd = feature_pd.append(pd.DataFrame(saving, index=feature).transpose(), ignore_index=True)\n",
      "/var/folders/dn/j0_7h7gx2sq58_nt9816ss480000gn/T/ipykernel_6547/4250457866.py:74: FutureWarning: The frame.append method is deprecated and will be removed from pandas in a future version. Use pandas.concat instead.\n",
      "  feature_pd = feature_pd.append(pd.DataFrame(saving, index=feature).transpose(), ignore_index=True)\n",
      "/var/folders/dn/j0_7h7gx2sq58_nt9816ss480000gn/T/ipykernel_6547/4250457866.py:74: FutureWarning: The frame.append method is deprecated and will be removed from pandas in a future version. Use pandas.concat instead.\n",
      "  feature_pd = feature_pd.append(pd.DataFrame(saving, index=feature).transpose(), ignore_index=True)\n"
     ]
    },
    {
     "name": "stdout",
     "output_type": "stream",
     "text": [
      "145\n",
      "146\n",
      "147\n"
     ]
    },
    {
     "name": "stderr",
     "output_type": "stream",
     "text": [
      "/var/folders/dn/j0_7h7gx2sq58_nt9816ss480000gn/T/ipykernel_6547/4250457866.py:74: FutureWarning: The frame.append method is deprecated and will be removed from pandas in a future version. Use pandas.concat instead.\n",
      "  feature_pd = feature_pd.append(pd.DataFrame(saving, index=feature).transpose(), ignore_index=True)\n",
      "/var/folders/dn/j0_7h7gx2sq58_nt9816ss480000gn/T/ipykernel_6547/4250457866.py:74: FutureWarning: The frame.append method is deprecated and will be removed from pandas in a future version. Use pandas.concat instead.\n",
      "  feature_pd = feature_pd.append(pd.DataFrame(saving, index=feature).transpose(), ignore_index=True)\n",
      "/var/folders/dn/j0_7h7gx2sq58_nt9816ss480000gn/T/ipykernel_6547/4250457866.py:74: FutureWarning: The frame.append method is deprecated and will be removed from pandas in a future version. Use pandas.concat instead.\n",
      "  feature_pd = feature_pd.append(pd.DataFrame(saving, index=feature).transpose(), ignore_index=True)\n"
     ]
    },
    {
     "name": "stdout",
     "output_type": "stream",
     "text": [
      "148\n",
      "149\n",
      "150\n"
     ]
    },
    {
     "name": "stderr",
     "output_type": "stream",
     "text": [
      "/var/folders/dn/j0_7h7gx2sq58_nt9816ss480000gn/T/ipykernel_6547/4250457866.py:74: FutureWarning: The frame.append method is deprecated and will be removed from pandas in a future version. Use pandas.concat instead.\n",
      "  feature_pd = feature_pd.append(pd.DataFrame(saving, index=feature).transpose(), ignore_index=True)\n",
      "/var/folders/dn/j0_7h7gx2sq58_nt9816ss480000gn/T/ipykernel_6547/4250457866.py:74: FutureWarning: The frame.append method is deprecated and will be removed from pandas in a future version. Use pandas.concat instead.\n",
      "  feature_pd = feature_pd.append(pd.DataFrame(saving, index=feature).transpose(), ignore_index=True)\n",
      "/var/folders/dn/j0_7h7gx2sq58_nt9816ss480000gn/T/ipykernel_6547/4250457866.py:74: FutureWarning: The frame.append method is deprecated and will be removed from pandas in a future version. Use pandas.concat instead.\n",
      "  feature_pd = feature_pd.append(pd.DataFrame(saving, index=feature).transpose(), ignore_index=True)\n"
     ]
    },
    {
     "name": "stdout",
     "output_type": "stream",
     "text": [
      "151\n",
      "152\n",
      "153\n"
     ]
    },
    {
     "name": "stderr",
     "output_type": "stream",
     "text": [
      "/var/folders/dn/j0_7h7gx2sq58_nt9816ss480000gn/T/ipykernel_6547/4250457866.py:74: FutureWarning: The frame.append method is deprecated and will be removed from pandas in a future version. Use pandas.concat instead.\n",
      "  feature_pd = feature_pd.append(pd.DataFrame(saving, index=feature).transpose(), ignore_index=True)\n",
      "/var/folders/dn/j0_7h7gx2sq58_nt9816ss480000gn/T/ipykernel_6547/4250457866.py:74: FutureWarning: The frame.append method is deprecated and will be removed from pandas in a future version. Use pandas.concat instead.\n",
      "  feature_pd = feature_pd.append(pd.DataFrame(saving, index=feature).transpose(), ignore_index=True)\n",
      "/var/folders/dn/j0_7h7gx2sq58_nt9816ss480000gn/T/ipykernel_6547/4250457866.py:74: FutureWarning: The frame.append method is deprecated and will be removed from pandas in a future version. Use pandas.concat instead.\n",
      "  feature_pd = feature_pd.append(pd.DataFrame(saving, index=feature).transpose(), ignore_index=True)\n"
     ]
    },
    {
     "name": "stdout",
     "output_type": "stream",
     "text": [
      "154\n",
      "155\n",
      "156\n"
     ]
    },
    {
     "name": "stderr",
     "output_type": "stream",
     "text": [
      "/var/folders/dn/j0_7h7gx2sq58_nt9816ss480000gn/T/ipykernel_6547/4250457866.py:74: FutureWarning: The frame.append method is deprecated and will be removed from pandas in a future version. Use pandas.concat instead.\n",
      "  feature_pd = feature_pd.append(pd.DataFrame(saving, index=feature).transpose(), ignore_index=True)\n",
      "/var/folders/dn/j0_7h7gx2sq58_nt9816ss480000gn/T/ipykernel_6547/4250457866.py:74: FutureWarning: The frame.append method is deprecated and will be removed from pandas in a future version. Use pandas.concat instead.\n",
      "  feature_pd = feature_pd.append(pd.DataFrame(saving, index=feature).transpose(), ignore_index=True)\n",
      "/var/folders/dn/j0_7h7gx2sq58_nt9816ss480000gn/T/ipykernel_6547/4250457866.py:74: FutureWarning: The frame.append method is deprecated and will be removed from pandas in a future version. Use pandas.concat instead.\n",
      "  feature_pd = feature_pd.append(pd.DataFrame(saving, index=feature).transpose(), ignore_index=True)\n"
     ]
    },
    {
     "name": "stdout",
     "output_type": "stream",
     "text": [
      "157\n",
      "158\n"
     ]
    },
    {
     "name": "stderr",
     "output_type": "stream",
     "text": [
      "/var/folders/dn/j0_7h7gx2sq58_nt9816ss480000gn/T/ipykernel_6547/4250457866.py:74: FutureWarning: The frame.append method is deprecated and will be removed from pandas in a future version. Use pandas.concat instead.\n",
      "  feature_pd = feature_pd.append(pd.DataFrame(saving, index=feature).transpose(), ignore_index=True)\n",
      "/var/folders/dn/j0_7h7gx2sq58_nt9816ss480000gn/T/ipykernel_6547/4250457866.py:74: FutureWarning: The frame.append method is deprecated and will be removed from pandas in a future version. Use pandas.concat instead.\n",
      "  feature_pd = feature_pd.append(pd.DataFrame(saving, index=feature).transpose(), ignore_index=True)\n"
     ]
    },
    {
     "name": "stdout",
     "output_type": "stream",
     "text": [
      "159\n",
      "160\n",
      "161\n",
      "162\n"
     ]
    },
    {
     "name": "stderr",
     "output_type": "stream",
     "text": [
      "/var/folders/dn/j0_7h7gx2sq58_nt9816ss480000gn/T/ipykernel_6547/4250457866.py:74: FutureWarning: The frame.append method is deprecated and will be removed from pandas in a future version. Use pandas.concat instead.\n",
      "  feature_pd = feature_pd.append(pd.DataFrame(saving, index=feature).transpose(), ignore_index=True)\n",
      "/var/folders/dn/j0_7h7gx2sq58_nt9816ss480000gn/T/ipykernel_6547/4250457866.py:74: FutureWarning: The frame.append method is deprecated and will be removed from pandas in a future version. Use pandas.concat instead.\n",
      "  feature_pd = feature_pd.append(pd.DataFrame(saving, index=feature).transpose(), ignore_index=True)\n",
      "/var/folders/dn/j0_7h7gx2sq58_nt9816ss480000gn/T/ipykernel_6547/4250457866.py:74: FutureWarning: The frame.append method is deprecated and will be removed from pandas in a future version. Use pandas.concat instead.\n",
      "  feature_pd = feature_pd.append(pd.DataFrame(saving, index=feature).transpose(), ignore_index=True)\n",
      "/var/folders/dn/j0_7h7gx2sq58_nt9816ss480000gn/T/ipykernel_6547/4250457866.py:74: FutureWarning: The frame.append method is deprecated and will be removed from pandas in a future version. Use pandas.concat instead.\n",
      "  feature_pd = feature_pd.append(pd.DataFrame(saving, index=feature).transpose(), ignore_index=True)\n"
     ]
    },
    {
     "name": "stdout",
     "output_type": "stream",
     "text": [
      "163\n",
      "164\n",
      "165\n",
      "166\n"
     ]
    },
    {
     "name": "stderr",
     "output_type": "stream",
     "text": [
      "/var/folders/dn/j0_7h7gx2sq58_nt9816ss480000gn/T/ipykernel_6547/4250457866.py:74: FutureWarning: The frame.append method is deprecated and will be removed from pandas in a future version. Use pandas.concat instead.\n",
      "  feature_pd = feature_pd.append(pd.DataFrame(saving, index=feature).transpose(), ignore_index=True)\n",
      "/var/folders/dn/j0_7h7gx2sq58_nt9816ss480000gn/T/ipykernel_6547/4250457866.py:74: FutureWarning: The frame.append method is deprecated and will be removed from pandas in a future version. Use pandas.concat instead.\n",
      "  feature_pd = feature_pd.append(pd.DataFrame(saving, index=feature).transpose(), ignore_index=True)\n",
      "/var/folders/dn/j0_7h7gx2sq58_nt9816ss480000gn/T/ipykernel_6547/4250457866.py:74: FutureWarning: The frame.append method is deprecated and will be removed from pandas in a future version. Use pandas.concat instead.\n",
      "  feature_pd = feature_pd.append(pd.DataFrame(saving, index=feature).transpose(), ignore_index=True)\n",
      "/var/folders/dn/j0_7h7gx2sq58_nt9816ss480000gn/T/ipykernel_6547/4250457866.py:74: FutureWarning: The frame.append method is deprecated and will be removed from pandas in a future version. Use pandas.concat instead.\n",
      "  feature_pd = feature_pd.append(pd.DataFrame(saving, index=feature).transpose(), ignore_index=True)\n"
     ]
    },
    {
     "name": "stdout",
     "output_type": "stream",
     "text": [
      "167\n"
     ]
    },
    {
     "name": "stderr",
     "output_type": "stream",
     "text": [
      "/var/folders/dn/j0_7h7gx2sq58_nt9816ss480000gn/T/ipykernel_6547/4250457866.py:74: FutureWarning: The frame.append method is deprecated and will be removed from pandas in a future version. Use pandas.concat instead.\n",
      "  feature_pd = feature_pd.append(pd.DataFrame(saving, index=feature).transpose(), ignore_index=True)\n"
     ]
    },
    {
     "name": "stdout",
     "output_type": "stream",
     "text": [
      "168\n"
     ]
    },
    {
     "name": "stderr",
     "output_type": "stream",
     "text": [
      "/var/folders/dn/j0_7h7gx2sq58_nt9816ss480000gn/T/ipykernel_6547/4250457866.py:74: FutureWarning: The frame.append method is deprecated and will be removed from pandas in a future version. Use pandas.concat instead.\n",
      "  feature_pd = feature_pd.append(pd.DataFrame(saving, index=feature).transpose(), ignore_index=True)\n"
     ]
    },
    {
     "name": "stdout",
     "output_type": "stream",
     "text": [
      "169\n",
      "170\n"
     ]
    },
    {
     "name": "stderr",
     "output_type": "stream",
     "text": [
      "/var/folders/dn/j0_7h7gx2sq58_nt9816ss480000gn/T/ipykernel_6547/4250457866.py:74: FutureWarning: The frame.append method is deprecated and will be removed from pandas in a future version. Use pandas.concat instead.\n",
      "  feature_pd = feature_pd.append(pd.DataFrame(saving, index=feature).transpose(), ignore_index=True)\n",
      "/var/folders/dn/j0_7h7gx2sq58_nt9816ss480000gn/T/ipykernel_6547/4250457866.py:74: FutureWarning: The frame.append method is deprecated and will be removed from pandas in a future version. Use pandas.concat instead.\n",
      "  feature_pd = feature_pd.append(pd.DataFrame(saving, index=feature).transpose(), ignore_index=True)\n"
     ]
    },
    {
     "name": "stdout",
     "output_type": "stream",
     "text": [
      "171\n"
     ]
    },
    {
     "name": "stderr",
     "output_type": "stream",
     "text": [
      "/var/folders/dn/j0_7h7gx2sq58_nt9816ss480000gn/T/ipykernel_6547/4250457866.py:74: FutureWarning: The frame.append method is deprecated and will be removed from pandas in a future version. Use pandas.concat instead.\n",
      "  feature_pd = feature_pd.append(pd.DataFrame(saving, index=feature).transpose(), ignore_index=True)\n"
     ]
    },
    {
     "name": "stdout",
     "output_type": "stream",
     "text": [
      "172\n",
      "173\n",
      "174\n"
     ]
    },
    {
     "name": "stderr",
     "output_type": "stream",
     "text": [
      "/var/folders/dn/j0_7h7gx2sq58_nt9816ss480000gn/T/ipykernel_6547/4250457866.py:74: FutureWarning: The frame.append method is deprecated and will be removed from pandas in a future version. Use pandas.concat instead.\n",
      "  feature_pd = feature_pd.append(pd.DataFrame(saving, index=feature).transpose(), ignore_index=True)\n",
      "/var/folders/dn/j0_7h7gx2sq58_nt9816ss480000gn/T/ipykernel_6547/4250457866.py:74: FutureWarning: The frame.append method is deprecated and will be removed from pandas in a future version. Use pandas.concat instead.\n",
      "  feature_pd = feature_pd.append(pd.DataFrame(saving, index=feature).transpose(), ignore_index=True)\n",
      "/var/folders/dn/j0_7h7gx2sq58_nt9816ss480000gn/T/ipykernel_6547/4250457866.py:74: FutureWarning: The frame.append method is deprecated and will be removed from pandas in a future version. Use pandas.concat instead.\n",
      "  feature_pd = feature_pd.append(pd.DataFrame(saving, index=feature).transpose(), ignore_index=True)\n",
      "/var/folders/dn/j0_7h7gx2sq58_nt9816ss480000gn/T/ipykernel_6547/4250457866.py:74: FutureWarning: The frame.append method is deprecated and will be removed from pandas in a future version. Use pandas.concat instead.\n",
      "  feature_pd = feature_pd.append(pd.DataFrame(saving, index=feature).transpose(), ignore_index=True)\n"
     ]
    },
    {
     "name": "stdout",
     "output_type": "stream",
     "text": [
      "175\n",
      "176\n",
      "177\n"
     ]
    },
    {
     "name": "stderr",
     "output_type": "stream",
     "text": [
      "/var/folders/dn/j0_7h7gx2sq58_nt9816ss480000gn/T/ipykernel_6547/4250457866.py:74: FutureWarning: The frame.append method is deprecated and will be removed from pandas in a future version. Use pandas.concat instead.\n",
      "  feature_pd = feature_pd.append(pd.DataFrame(saving, index=feature).transpose(), ignore_index=True)\n",
      "/var/folders/dn/j0_7h7gx2sq58_nt9816ss480000gn/T/ipykernel_6547/4250457866.py:74: FutureWarning: The frame.append method is deprecated and will be removed from pandas in a future version. Use pandas.concat instead.\n",
      "  feature_pd = feature_pd.append(pd.DataFrame(saving, index=feature).transpose(), ignore_index=True)\n",
      "/var/folders/dn/j0_7h7gx2sq58_nt9816ss480000gn/T/ipykernel_6547/4250457866.py:74: FutureWarning: The frame.append method is deprecated and will be removed from pandas in a future version. Use pandas.concat instead.\n",
      "  feature_pd = feature_pd.append(pd.DataFrame(saving, index=feature).transpose(), ignore_index=True)\n",
      "/var/folders/dn/j0_7h7gx2sq58_nt9816ss480000gn/T/ipykernel_6547/4250457866.py:74: FutureWarning: The frame.append method is deprecated and will be removed from pandas in a future version. Use pandas.concat instead.\n",
      "  feature_pd = feature_pd.append(pd.DataFrame(saving, index=feature).transpose(), ignore_index=True)\n"
     ]
    },
    {
     "name": "stdout",
     "output_type": "stream",
     "text": [
      "178\n",
      "179\n",
      "180\n",
      "181\n",
      "182\n"
     ]
    },
    {
     "name": "stderr",
     "output_type": "stream",
     "text": [
      "/var/folders/dn/j0_7h7gx2sq58_nt9816ss480000gn/T/ipykernel_6547/4250457866.py:74: FutureWarning: The frame.append method is deprecated and will be removed from pandas in a future version. Use pandas.concat instead.\n",
      "  feature_pd = feature_pd.append(pd.DataFrame(saving, index=feature).transpose(), ignore_index=True)\n",
      "/var/folders/dn/j0_7h7gx2sq58_nt9816ss480000gn/T/ipykernel_6547/4250457866.py:74: FutureWarning: The frame.append method is deprecated and will be removed from pandas in a future version. Use pandas.concat instead.\n",
      "  feature_pd = feature_pd.append(pd.DataFrame(saving, index=feature).transpose(), ignore_index=True)\n",
      "/var/folders/dn/j0_7h7gx2sq58_nt9816ss480000gn/T/ipykernel_6547/4250457866.py:74: FutureWarning: The frame.append method is deprecated and will be removed from pandas in a future version. Use pandas.concat instead.\n",
      "  feature_pd = feature_pd.append(pd.DataFrame(saving, index=feature).transpose(), ignore_index=True)\n"
     ]
    },
    {
     "name": "stdout",
     "output_type": "stream",
     "text": [
      "183\n",
      "184\n"
     ]
    },
    {
     "name": "stderr",
     "output_type": "stream",
     "text": [
      "/var/folders/dn/j0_7h7gx2sq58_nt9816ss480000gn/T/ipykernel_6547/4250457866.py:74: FutureWarning: The frame.append method is deprecated and will be removed from pandas in a future version. Use pandas.concat instead.\n",
      "  feature_pd = feature_pd.append(pd.DataFrame(saving, index=feature).transpose(), ignore_index=True)\n",
      "/var/folders/dn/j0_7h7gx2sq58_nt9816ss480000gn/T/ipykernel_6547/4250457866.py:74: FutureWarning: The frame.append method is deprecated and will be removed from pandas in a future version. Use pandas.concat instead.\n",
      "  feature_pd = feature_pd.append(pd.DataFrame(saving, index=feature).transpose(), ignore_index=True)\n"
     ]
    },
    {
     "name": "stdout",
     "output_type": "stream",
     "text": [
      "185\n",
      "186\n",
      "187\n"
     ]
    },
    {
     "name": "stderr",
     "output_type": "stream",
     "text": [
      "/var/folders/dn/j0_7h7gx2sq58_nt9816ss480000gn/T/ipykernel_6547/4250457866.py:74: FutureWarning: The frame.append method is deprecated and will be removed from pandas in a future version. Use pandas.concat instead.\n",
      "  feature_pd = feature_pd.append(pd.DataFrame(saving, index=feature).transpose(), ignore_index=True)\n",
      "/var/folders/dn/j0_7h7gx2sq58_nt9816ss480000gn/T/ipykernel_6547/4250457866.py:74: FutureWarning: The frame.append method is deprecated and will be removed from pandas in a future version. Use pandas.concat instead.\n",
      "  feature_pd = feature_pd.append(pd.DataFrame(saving, index=feature).transpose(), ignore_index=True)\n",
      "/var/folders/dn/j0_7h7gx2sq58_nt9816ss480000gn/T/ipykernel_6547/4250457866.py:74: FutureWarning: The frame.append method is deprecated and will be removed from pandas in a future version. Use pandas.concat instead.\n",
      "  feature_pd = feature_pd.append(pd.DataFrame(saving, index=feature).transpose(), ignore_index=True)\n"
     ]
    },
    {
     "name": "stdout",
     "output_type": "stream",
     "text": [
      "188\n",
      "189\n",
      "190\n",
      "191\n"
     ]
    },
    {
     "name": "stderr",
     "output_type": "stream",
     "text": [
      "/var/folders/dn/j0_7h7gx2sq58_nt9816ss480000gn/T/ipykernel_6547/4250457866.py:74: FutureWarning: The frame.append method is deprecated and will be removed from pandas in a future version. Use pandas.concat instead.\n",
      "  feature_pd = feature_pd.append(pd.DataFrame(saving, index=feature).transpose(), ignore_index=True)\n",
      "/var/folders/dn/j0_7h7gx2sq58_nt9816ss480000gn/T/ipykernel_6547/4250457866.py:74: FutureWarning: The frame.append method is deprecated and will be removed from pandas in a future version. Use pandas.concat instead.\n",
      "  feature_pd = feature_pd.append(pd.DataFrame(saving, index=feature).transpose(), ignore_index=True)\n",
      "/var/folders/dn/j0_7h7gx2sq58_nt9816ss480000gn/T/ipykernel_6547/4250457866.py:74: FutureWarning: The frame.append method is deprecated and will be removed from pandas in a future version. Use pandas.concat instead.\n",
      "  feature_pd = feature_pd.append(pd.DataFrame(saving, index=feature).transpose(), ignore_index=True)\n",
      "/var/folders/dn/j0_7h7gx2sq58_nt9816ss480000gn/T/ipykernel_6547/4250457866.py:74: FutureWarning: The frame.append method is deprecated and will be removed from pandas in a future version. Use pandas.concat instead.\n",
      "  feature_pd = feature_pd.append(pd.DataFrame(saving, index=feature).transpose(), ignore_index=True)\n"
     ]
    },
    {
     "name": "stdout",
     "output_type": "stream",
     "text": [
      "192\n",
      "193\n"
     ]
    },
    {
     "name": "stderr",
     "output_type": "stream",
     "text": [
      "/var/folders/dn/j0_7h7gx2sq58_nt9816ss480000gn/T/ipykernel_6547/4250457866.py:74: FutureWarning: The frame.append method is deprecated and will be removed from pandas in a future version. Use pandas.concat instead.\n",
      "  feature_pd = feature_pd.append(pd.DataFrame(saving, index=feature).transpose(), ignore_index=True)\n",
      "/var/folders/dn/j0_7h7gx2sq58_nt9816ss480000gn/T/ipykernel_6547/4250457866.py:74: FutureWarning: The frame.append method is deprecated and will be removed from pandas in a future version. Use pandas.concat instead.\n",
      "  feature_pd = feature_pd.append(pd.DataFrame(saving, index=feature).transpose(), ignore_index=True)\n"
     ]
    },
    {
     "name": "stdout",
     "output_type": "stream",
     "text": [
      "194\n",
      "195\n",
      "196\n"
     ]
    },
    {
     "name": "stderr",
     "output_type": "stream",
     "text": [
      "/var/folders/dn/j0_7h7gx2sq58_nt9816ss480000gn/T/ipykernel_6547/4250457866.py:74: FutureWarning: The frame.append method is deprecated and will be removed from pandas in a future version. Use pandas.concat instead.\n",
      "  feature_pd = feature_pd.append(pd.DataFrame(saving, index=feature).transpose(), ignore_index=True)\n",
      "/var/folders/dn/j0_7h7gx2sq58_nt9816ss480000gn/T/ipykernel_6547/4250457866.py:74: FutureWarning: The frame.append method is deprecated and will be removed from pandas in a future version. Use pandas.concat instead.\n",
      "  feature_pd = feature_pd.append(pd.DataFrame(saving, index=feature).transpose(), ignore_index=True)\n",
      "/var/folders/dn/j0_7h7gx2sq58_nt9816ss480000gn/T/ipykernel_6547/4250457866.py:74: FutureWarning: The frame.append method is deprecated and will be removed from pandas in a future version. Use pandas.concat instead.\n",
      "  feature_pd = feature_pd.append(pd.DataFrame(saving, index=feature).transpose(), ignore_index=True)\n"
     ]
    },
    {
     "name": "stdout",
     "output_type": "stream",
     "text": [
      "197\n",
      "198\n",
      "199\n",
      "200\n"
     ]
    },
    {
     "name": "stderr",
     "output_type": "stream",
     "text": [
      "/var/folders/dn/j0_7h7gx2sq58_nt9816ss480000gn/T/ipykernel_6547/4250457866.py:74: FutureWarning: The frame.append method is deprecated and will be removed from pandas in a future version. Use pandas.concat instead.\n",
      "  feature_pd = feature_pd.append(pd.DataFrame(saving, index=feature).transpose(), ignore_index=True)\n",
      "/var/folders/dn/j0_7h7gx2sq58_nt9816ss480000gn/T/ipykernel_6547/4250457866.py:74: FutureWarning: The frame.append method is deprecated and will be removed from pandas in a future version. Use pandas.concat instead.\n",
      "  feature_pd = feature_pd.append(pd.DataFrame(saving, index=feature).transpose(), ignore_index=True)\n",
      "/var/folders/dn/j0_7h7gx2sq58_nt9816ss480000gn/T/ipykernel_6547/4250457866.py:74: FutureWarning: The frame.append method is deprecated and will be removed from pandas in a future version. Use pandas.concat instead.\n",
      "  feature_pd = feature_pd.append(pd.DataFrame(saving, index=feature).transpose(), ignore_index=True)\n",
      "/var/folders/dn/j0_7h7gx2sq58_nt9816ss480000gn/T/ipykernel_6547/4250457866.py:74: FutureWarning: The frame.append method is deprecated and will be removed from pandas in a future version. Use pandas.concat instead.\n",
      "  feature_pd = feature_pd.append(pd.DataFrame(saving, index=feature).transpose(), ignore_index=True)\n"
     ]
    },
    {
     "name": "stdout",
     "output_type": "stream",
     "text": [
      "201\n",
      "202\n"
     ]
    },
    {
     "name": "stderr",
     "output_type": "stream",
     "text": [
      "/var/folders/dn/j0_7h7gx2sq58_nt9816ss480000gn/T/ipykernel_6547/4250457866.py:74: FutureWarning: The frame.append method is deprecated and will be removed from pandas in a future version. Use pandas.concat instead.\n",
      "  feature_pd = feature_pd.append(pd.DataFrame(saving, index=feature).transpose(), ignore_index=True)\n",
      "/var/folders/dn/j0_7h7gx2sq58_nt9816ss480000gn/T/ipykernel_6547/4250457866.py:74: FutureWarning: The frame.append method is deprecated and will be removed from pandas in a future version. Use pandas.concat instead.\n",
      "  feature_pd = feature_pd.append(pd.DataFrame(saving, index=feature).transpose(), ignore_index=True)\n"
     ]
    },
    {
     "name": "stdout",
     "output_type": "stream",
     "text": [
      "203\n"
     ]
    },
    {
     "name": "stderr",
     "output_type": "stream",
     "text": [
      "/var/folders/dn/j0_7h7gx2sq58_nt9816ss480000gn/T/ipykernel_6547/4250457866.py:74: FutureWarning: The frame.append method is deprecated and will be removed from pandas in a future version. Use pandas.concat instead.\n",
      "  feature_pd = feature_pd.append(pd.DataFrame(saving, index=feature).transpose(), ignore_index=True)\n"
     ]
    },
    {
     "name": "stdout",
     "output_type": "stream",
     "text": [
      "204\n",
      "205\n",
      "206\n"
     ]
    },
    {
     "name": "stderr",
     "output_type": "stream",
     "text": [
      "/var/folders/dn/j0_7h7gx2sq58_nt9816ss480000gn/T/ipykernel_6547/4250457866.py:74: FutureWarning: The frame.append method is deprecated and will be removed from pandas in a future version. Use pandas.concat instead.\n",
      "  feature_pd = feature_pd.append(pd.DataFrame(saving, index=feature).transpose(), ignore_index=True)\n",
      "/var/folders/dn/j0_7h7gx2sq58_nt9816ss480000gn/T/ipykernel_6547/4250457866.py:74: FutureWarning: The frame.append method is deprecated and will be removed from pandas in a future version. Use pandas.concat instead.\n",
      "  feature_pd = feature_pd.append(pd.DataFrame(saving, index=feature).transpose(), ignore_index=True)\n",
      "/var/folders/dn/j0_7h7gx2sq58_nt9816ss480000gn/T/ipykernel_6547/4250457866.py:74: FutureWarning: The frame.append method is deprecated and will be removed from pandas in a future version. Use pandas.concat instead.\n",
      "  feature_pd = feature_pd.append(pd.DataFrame(saving, index=feature).transpose(), ignore_index=True)\n"
     ]
    },
    {
     "name": "stdout",
     "output_type": "stream",
     "text": [
      "207\n",
      "208\n"
     ]
    },
    {
     "name": "stderr",
     "output_type": "stream",
     "text": [
      "/var/folders/dn/j0_7h7gx2sq58_nt9816ss480000gn/T/ipykernel_6547/4250457866.py:74: FutureWarning: The frame.append method is deprecated and will be removed from pandas in a future version. Use pandas.concat instead.\n",
      "  feature_pd = feature_pd.append(pd.DataFrame(saving, index=feature).transpose(), ignore_index=True)\n",
      "/var/folders/dn/j0_7h7gx2sq58_nt9816ss480000gn/T/ipykernel_6547/4250457866.py:74: FutureWarning: The frame.append method is deprecated and will be removed from pandas in a future version. Use pandas.concat instead.\n",
      "  feature_pd = feature_pd.append(pd.DataFrame(saving, index=feature).transpose(), ignore_index=True)\n"
     ]
    },
    {
     "name": "stdout",
     "output_type": "stream",
     "text": [
      "209\n",
      "210\n"
     ]
    },
    {
     "name": "stderr",
     "output_type": "stream",
     "text": [
      "/var/folders/dn/j0_7h7gx2sq58_nt9816ss480000gn/T/ipykernel_6547/4250457866.py:74: FutureWarning: The frame.append method is deprecated and will be removed from pandas in a future version. Use pandas.concat instead.\n",
      "  feature_pd = feature_pd.append(pd.DataFrame(saving, index=feature).transpose(), ignore_index=True)\n",
      "/var/folders/dn/j0_7h7gx2sq58_nt9816ss480000gn/T/ipykernel_6547/4250457866.py:74: FutureWarning: The frame.append method is deprecated and will be removed from pandas in a future version. Use pandas.concat instead.\n",
      "  feature_pd = feature_pd.append(pd.DataFrame(saving, index=feature).transpose(), ignore_index=True)\n"
     ]
    },
    {
     "name": "stdout",
     "output_type": "stream",
     "text": [
      "211\n",
      "212\n",
      "213\n"
     ]
    },
    {
     "name": "stderr",
     "output_type": "stream",
     "text": [
      "/var/folders/dn/j0_7h7gx2sq58_nt9816ss480000gn/T/ipykernel_6547/4250457866.py:74: FutureWarning: The frame.append method is deprecated and will be removed from pandas in a future version. Use pandas.concat instead.\n",
      "  feature_pd = feature_pd.append(pd.DataFrame(saving, index=feature).transpose(), ignore_index=True)\n",
      "/var/folders/dn/j0_7h7gx2sq58_nt9816ss480000gn/T/ipykernel_6547/4250457866.py:74: FutureWarning: The frame.append method is deprecated and will be removed from pandas in a future version. Use pandas.concat instead.\n",
      "  feature_pd = feature_pd.append(pd.DataFrame(saving, index=feature).transpose(), ignore_index=True)\n",
      "/var/folders/dn/j0_7h7gx2sq58_nt9816ss480000gn/T/ipykernel_6547/4250457866.py:74: FutureWarning: The frame.append method is deprecated and will be removed from pandas in a future version. Use pandas.concat instead.\n",
      "  feature_pd = feature_pd.append(pd.DataFrame(saving, index=feature).transpose(), ignore_index=True)\n"
     ]
    },
    {
     "name": "stdout",
     "output_type": "stream",
     "text": [
      "214\n",
      "215\n",
      "216\n"
     ]
    },
    {
     "name": "stderr",
     "output_type": "stream",
     "text": [
      "/var/folders/dn/j0_7h7gx2sq58_nt9816ss480000gn/T/ipykernel_6547/4250457866.py:74: FutureWarning: The frame.append method is deprecated and will be removed from pandas in a future version. Use pandas.concat instead.\n",
      "  feature_pd = feature_pd.append(pd.DataFrame(saving, index=feature).transpose(), ignore_index=True)\n",
      "/var/folders/dn/j0_7h7gx2sq58_nt9816ss480000gn/T/ipykernel_6547/4250457866.py:74: FutureWarning: The frame.append method is deprecated and will be removed from pandas in a future version. Use pandas.concat instead.\n",
      "  feature_pd = feature_pd.append(pd.DataFrame(saving, index=feature).transpose(), ignore_index=True)\n",
      "/var/folders/dn/j0_7h7gx2sq58_nt9816ss480000gn/T/ipykernel_6547/4250457866.py:74: FutureWarning: The frame.append method is deprecated and will be removed from pandas in a future version. Use pandas.concat instead.\n",
      "  feature_pd = feature_pd.append(pd.DataFrame(saving, index=feature).transpose(), ignore_index=True)\n"
     ]
    },
    {
     "name": "stdout",
     "output_type": "stream",
     "text": [
      "217\n",
      "218\n",
      "219\n"
     ]
    },
    {
     "name": "stderr",
     "output_type": "stream",
     "text": [
      "/var/folders/dn/j0_7h7gx2sq58_nt9816ss480000gn/T/ipykernel_6547/4250457866.py:74: FutureWarning: The frame.append method is deprecated and will be removed from pandas in a future version. Use pandas.concat instead.\n",
      "  feature_pd = feature_pd.append(pd.DataFrame(saving, index=feature).transpose(), ignore_index=True)\n",
      "/var/folders/dn/j0_7h7gx2sq58_nt9816ss480000gn/T/ipykernel_6547/4250457866.py:74: FutureWarning: The frame.append method is deprecated and will be removed from pandas in a future version. Use pandas.concat instead.\n",
      "  feature_pd = feature_pd.append(pd.DataFrame(saving, index=feature).transpose(), ignore_index=True)\n",
      "/var/folders/dn/j0_7h7gx2sq58_nt9816ss480000gn/T/ipykernel_6547/4250457866.py:74: FutureWarning: The frame.append method is deprecated and will be removed from pandas in a future version. Use pandas.concat instead.\n",
      "  feature_pd = feature_pd.append(pd.DataFrame(saving, index=feature).transpose(), ignore_index=True)\n"
     ]
    },
    {
     "name": "stdout",
     "output_type": "stream",
     "text": [
      "220\n",
      "221\n",
      "222\n",
      "223\n"
     ]
    },
    {
     "name": "stderr",
     "output_type": "stream",
     "text": [
      "/var/folders/dn/j0_7h7gx2sq58_nt9816ss480000gn/T/ipykernel_6547/4250457866.py:74: FutureWarning: The frame.append method is deprecated and will be removed from pandas in a future version. Use pandas.concat instead.\n",
      "  feature_pd = feature_pd.append(pd.DataFrame(saving, index=feature).transpose(), ignore_index=True)\n",
      "/var/folders/dn/j0_7h7gx2sq58_nt9816ss480000gn/T/ipykernel_6547/4250457866.py:74: FutureWarning: The frame.append method is deprecated and will be removed from pandas in a future version. Use pandas.concat instead.\n",
      "  feature_pd = feature_pd.append(pd.DataFrame(saving, index=feature).transpose(), ignore_index=True)\n",
      "/var/folders/dn/j0_7h7gx2sq58_nt9816ss480000gn/T/ipykernel_6547/4250457866.py:74: FutureWarning: The frame.append method is deprecated and will be removed from pandas in a future version. Use pandas.concat instead.\n",
      "  feature_pd = feature_pd.append(pd.DataFrame(saving, index=feature).transpose(), ignore_index=True)\n",
      "/var/folders/dn/j0_7h7gx2sq58_nt9816ss480000gn/T/ipykernel_6547/4250457866.py:74: FutureWarning: The frame.append method is deprecated and will be removed from pandas in a future version. Use pandas.concat instead.\n",
      "  feature_pd = feature_pd.append(pd.DataFrame(saving, index=feature).transpose(), ignore_index=True)\n"
     ]
    },
    {
     "name": "stdout",
     "output_type": "stream",
     "text": [
      "224\n"
     ]
    },
    {
     "name": "stderr",
     "output_type": "stream",
     "text": [
      "/var/folders/dn/j0_7h7gx2sq58_nt9816ss480000gn/T/ipykernel_6547/4250457866.py:74: FutureWarning: The frame.append method is deprecated and will be removed from pandas in a future version. Use pandas.concat instead.\n",
      "  feature_pd = feature_pd.append(pd.DataFrame(saving, index=feature).transpose(), ignore_index=True)\n"
     ]
    },
    {
     "name": "stdout",
     "output_type": "stream",
     "text": [
      "225\n",
      "226\n"
     ]
    },
    {
     "name": "stderr",
     "output_type": "stream",
     "text": [
      "/var/folders/dn/j0_7h7gx2sq58_nt9816ss480000gn/T/ipykernel_6547/4250457866.py:74: FutureWarning: The frame.append method is deprecated and will be removed from pandas in a future version. Use pandas.concat instead.\n",
      "  feature_pd = feature_pd.append(pd.DataFrame(saving, index=feature).transpose(), ignore_index=True)\n",
      "/var/folders/dn/j0_7h7gx2sq58_nt9816ss480000gn/T/ipykernel_6547/4250457866.py:74: FutureWarning: The frame.append method is deprecated and will be removed from pandas in a future version. Use pandas.concat instead.\n",
      "  feature_pd = feature_pd.append(pd.DataFrame(saving, index=feature).transpose(), ignore_index=True)\n"
     ]
    },
    {
     "name": "stdout",
     "output_type": "stream",
     "text": [
      "227\n",
      "228\n",
      "229\n"
     ]
    },
    {
     "name": "stderr",
     "output_type": "stream",
     "text": [
      "/var/folders/dn/j0_7h7gx2sq58_nt9816ss480000gn/T/ipykernel_6547/4250457866.py:74: FutureWarning: The frame.append method is deprecated and will be removed from pandas in a future version. Use pandas.concat instead.\n",
      "  feature_pd = feature_pd.append(pd.DataFrame(saving, index=feature).transpose(), ignore_index=True)\n",
      "/var/folders/dn/j0_7h7gx2sq58_nt9816ss480000gn/T/ipykernel_6547/4250457866.py:74: FutureWarning: The frame.append method is deprecated and will be removed from pandas in a future version. Use pandas.concat instead.\n",
      "  feature_pd = feature_pd.append(pd.DataFrame(saving, index=feature).transpose(), ignore_index=True)\n",
      "/var/folders/dn/j0_7h7gx2sq58_nt9816ss480000gn/T/ipykernel_6547/4250457866.py:74: FutureWarning: The frame.append method is deprecated and will be removed from pandas in a future version. Use pandas.concat instead.\n",
      "  feature_pd = feature_pd.append(pd.DataFrame(saving, index=feature).transpose(), ignore_index=True)\n"
     ]
    },
    {
     "name": "stdout",
     "output_type": "stream",
     "text": [
      "230\n",
      "231\n",
      "232\n"
     ]
    },
    {
     "name": "stderr",
     "output_type": "stream",
     "text": [
      "/var/folders/dn/j0_7h7gx2sq58_nt9816ss480000gn/T/ipykernel_6547/4250457866.py:74: FutureWarning: The frame.append method is deprecated and will be removed from pandas in a future version. Use pandas.concat instead.\n",
      "  feature_pd = feature_pd.append(pd.DataFrame(saving, index=feature).transpose(), ignore_index=True)\n",
      "/var/folders/dn/j0_7h7gx2sq58_nt9816ss480000gn/T/ipykernel_6547/4250457866.py:74: FutureWarning: The frame.append method is deprecated and will be removed from pandas in a future version. Use pandas.concat instead.\n",
      "  feature_pd = feature_pd.append(pd.DataFrame(saving, index=feature).transpose(), ignore_index=True)\n",
      "/var/folders/dn/j0_7h7gx2sq58_nt9816ss480000gn/T/ipykernel_6547/4250457866.py:74: FutureWarning: The frame.append method is deprecated and will be removed from pandas in a future version. Use pandas.concat instead.\n",
      "  feature_pd = feature_pd.append(pd.DataFrame(saving, index=feature).transpose(), ignore_index=True)\n"
     ]
    },
    {
     "name": "stdout",
     "output_type": "stream",
     "text": [
      "233\n",
      "234\n",
      "235\n"
     ]
    },
    {
     "name": "stderr",
     "output_type": "stream",
     "text": [
      "/var/folders/dn/j0_7h7gx2sq58_nt9816ss480000gn/T/ipykernel_6547/4250457866.py:74: FutureWarning: The frame.append method is deprecated and will be removed from pandas in a future version. Use pandas.concat instead.\n",
      "  feature_pd = feature_pd.append(pd.DataFrame(saving, index=feature).transpose(), ignore_index=True)\n",
      "/var/folders/dn/j0_7h7gx2sq58_nt9816ss480000gn/T/ipykernel_6547/4250457866.py:74: FutureWarning: The frame.append method is deprecated and will be removed from pandas in a future version. Use pandas.concat instead.\n",
      "  feature_pd = feature_pd.append(pd.DataFrame(saving, index=feature).transpose(), ignore_index=True)\n",
      "/var/folders/dn/j0_7h7gx2sq58_nt9816ss480000gn/T/ipykernel_6547/4250457866.py:74: FutureWarning: The frame.append method is deprecated and will be removed from pandas in a future version. Use pandas.concat instead.\n",
      "  feature_pd = feature_pd.append(pd.DataFrame(saving, index=feature).transpose(), ignore_index=True)\n"
     ]
    },
    {
     "name": "stdout",
     "output_type": "stream",
     "text": [
      "236\n",
      "237\n",
      "238\n"
     ]
    },
    {
     "name": "stderr",
     "output_type": "stream",
     "text": [
      "/var/folders/dn/j0_7h7gx2sq58_nt9816ss480000gn/T/ipykernel_6547/4250457866.py:74: FutureWarning: The frame.append method is deprecated and will be removed from pandas in a future version. Use pandas.concat instead.\n",
      "  feature_pd = feature_pd.append(pd.DataFrame(saving, index=feature).transpose(), ignore_index=True)\n",
      "/var/folders/dn/j0_7h7gx2sq58_nt9816ss480000gn/T/ipykernel_6547/4250457866.py:74: FutureWarning: The frame.append method is deprecated and will be removed from pandas in a future version. Use pandas.concat instead.\n",
      "  feature_pd = feature_pd.append(pd.DataFrame(saving, index=feature).transpose(), ignore_index=True)\n",
      "/var/folders/dn/j0_7h7gx2sq58_nt9816ss480000gn/T/ipykernel_6547/4250457866.py:74: FutureWarning: The frame.append method is deprecated and will be removed from pandas in a future version. Use pandas.concat instead.\n",
      "  feature_pd = feature_pd.append(pd.DataFrame(saving, index=feature).transpose(), ignore_index=True)\n"
     ]
    },
    {
     "name": "stdout",
     "output_type": "stream",
     "text": [
      "239\n",
      "240\n",
      "241\n"
     ]
    },
    {
     "name": "stderr",
     "output_type": "stream",
     "text": [
      "/var/folders/dn/j0_7h7gx2sq58_nt9816ss480000gn/T/ipykernel_6547/4250457866.py:74: FutureWarning: The frame.append method is deprecated and will be removed from pandas in a future version. Use pandas.concat instead.\n",
      "  feature_pd = feature_pd.append(pd.DataFrame(saving, index=feature).transpose(), ignore_index=True)\n",
      "/var/folders/dn/j0_7h7gx2sq58_nt9816ss480000gn/T/ipykernel_6547/4250457866.py:74: FutureWarning: The frame.append method is deprecated and will be removed from pandas in a future version. Use pandas.concat instead.\n",
      "  feature_pd = feature_pd.append(pd.DataFrame(saving, index=feature).transpose(), ignore_index=True)\n",
      "/var/folders/dn/j0_7h7gx2sq58_nt9816ss480000gn/T/ipykernel_6547/4250457866.py:74: FutureWarning: The frame.append method is deprecated and will be removed from pandas in a future version. Use pandas.concat instead.\n",
      "  feature_pd = feature_pd.append(pd.DataFrame(saving, index=feature).transpose(), ignore_index=True)\n"
     ]
    },
    {
     "name": "stdout",
     "output_type": "stream",
     "text": [
      "242\n",
      "243\n",
      "244\n"
     ]
    },
    {
     "name": "stderr",
     "output_type": "stream",
     "text": [
      "/var/folders/dn/j0_7h7gx2sq58_nt9816ss480000gn/T/ipykernel_6547/4250457866.py:74: FutureWarning: The frame.append method is deprecated and will be removed from pandas in a future version. Use pandas.concat instead.\n",
      "  feature_pd = feature_pd.append(pd.DataFrame(saving, index=feature).transpose(), ignore_index=True)\n",
      "/var/folders/dn/j0_7h7gx2sq58_nt9816ss480000gn/T/ipykernel_6547/4250457866.py:74: FutureWarning: The frame.append method is deprecated and will be removed from pandas in a future version. Use pandas.concat instead.\n",
      "  feature_pd = feature_pd.append(pd.DataFrame(saving, index=feature).transpose(), ignore_index=True)\n",
      "/var/folders/dn/j0_7h7gx2sq58_nt9816ss480000gn/T/ipykernel_6547/4250457866.py:74: FutureWarning: The frame.append method is deprecated and will be removed from pandas in a future version. Use pandas.concat instead.\n",
      "  feature_pd = feature_pd.append(pd.DataFrame(saving, index=feature).transpose(), ignore_index=True)\n"
     ]
    },
    {
     "name": "stdout",
     "output_type": "stream",
     "text": [
      "245\n",
      "246\n"
     ]
    },
    {
     "name": "stderr",
     "output_type": "stream",
     "text": [
      "/var/folders/dn/j0_7h7gx2sq58_nt9816ss480000gn/T/ipykernel_6547/4250457866.py:74: FutureWarning: The frame.append method is deprecated and will be removed from pandas in a future version. Use pandas.concat instead.\n",
      "  feature_pd = feature_pd.append(pd.DataFrame(saving, index=feature).transpose(), ignore_index=True)\n",
      "/var/folders/dn/j0_7h7gx2sq58_nt9816ss480000gn/T/ipykernel_6547/4250457866.py:74: FutureWarning: The frame.append method is deprecated and will be removed from pandas in a future version. Use pandas.concat instead.\n",
      "  feature_pd = feature_pd.append(pd.DataFrame(saving, index=feature).transpose(), ignore_index=True)\n"
     ]
    },
    {
     "name": "stdout",
     "output_type": "stream",
     "text": [
      "247\n",
      "248\n",
      "249\n"
     ]
    },
    {
     "name": "stderr",
     "output_type": "stream",
     "text": [
      "/var/folders/dn/j0_7h7gx2sq58_nt9816ss480000gn/T/ipykernel_6547/4250457866.py:74: FutureWarning: The frame.append method is deprecated and will be removed from pandas in a future version. Use pandas.concat instead.\n",
      "  feature_pd = feature_pd.append(pd.DataFrame(saving, index=feature).transpose(), ignore_index=True)\n",
      "/var/folders/dn/j0_7h7gx2sq58_nt9816ss480000gn/T/ipykernel_6547/4250457866.py:74: FutureWarning: The frame.append method is deprecated and will be removed from pandas in a future version. Use pandas.concat instead.\n",
      "  feature_pd = feature_pd.append(pd.DataFrame(saving, index=feature).transpose(), ignore_index=True)\n",
      "/var/folders/dn/j0_7h7gx2sq58_nt9816ss480000gn/T/ipykernel_6547/4250457866.py:74: FutureWarning: The frame.append method is deprecated and will be removed from pandas in a future version. Use pandas.concat instead.\n",
      "  feature_pd = feature_pd.append(pd.DataFrame(saving, index=feature).transpose(), ignore_index=True)\n",
      "/var/folders/dn/j0_7h7gx2sq58_nt9816ss480000gn/T/ipykernel_6547/4250457866.py:74: FutureWarning: The frame.append method is deprecated and will be removed from pandas in a future version. Use pandas.concat instead.\n",
      "  feature_pd = feature_pd.append(pd.DataFrame(saving, index=feature).transpose(), ignore_index=True)\n"
     ]
    },
    {
     "name": "stdout",
     "output_type": "stream",
     "text": [
      "250\n",
      "251\n",
      "252\n"
     ]
    },
    {
     "name": "stderr",
     "output_type": "stream",
     "text": [
      "/var/folders/dn/j0_7h7gx2sq58_nt9816ss480000gn/T/ipykernel_6547/4250457866.py:74: FutureWarning: The frame.append method is deprecated and will be removed from pandas in a future version. Use pandas.concat instead.\n",
      "  feature_pd = feature_pd.append(pd.DataFrame(saving, index=feature).transpose(), ignore_index=True)\n",
      "/var/folders/dn/j0_7h7gx2sq58_nt9816ss480000gn/T/ipykernel_6547/4250457866.py:74: FutureWarning: The frame.append method is deprecated and will be removed from pandas in a future version. Use pandas.concat instead.\n",
      "  feature_pd = feature_pd.append(pd.DataFrame(saving, index=feature).transpose(), ignore_index=True)\n",
      "/var/folders/dn/j0_7h7gx2sq58_nt9816ss480000gn/T/ipykernel_6547/4250457866.py:74: FutureWarning: The frame.append method is deprecated and will be removed from pandas in a future version. Use pandas.concat instead.\n",
      "  feature_pd = feature_pd.append(pd.DataFrame(saving, index=feature).transpose(), ignore_index=True)\n"
     ]
    },
    {
     "name": "stdout",
     "output_type": "stream",
     "text": [
      "253\n",
      "254\n",
      "255\n"
     ]
    },
    {
     "name": "stderr",
     "output_type": "stream",
     "text": [
      "/var/folders/dn/j0_7h7gx2sq58_nt9816ss480000gn/T/ipykernel_6547/4250457866.py:74: FutureWarning: The frame.append method is deprecated and will be removed from pandas in a future version. Use pandas.concat instead.\n",
      "  feature_pd = feature_pd.append(pd.DataFrame(saving, index=feature).transpose(), ignore_index=True)\n",
      "/var/folders/dn/j0_7h7gx2sq58_nt9816ss480000gn/T/ipykernel_6547/4250457866.py:74: FutureWarning: The frame.append method is deprecated and will be removed from pandas in a future version. Use pandas.concat instead.\n",
      "  feature_pd = feature_pd.append(pd.DataFrame(saving, index=feature).transpose(), ignore_index=True)\n",
      "/var/folders/dn/j0_7h7gx2sq58_nt9816ss480000gn/T/ipykernel_6547/4250457866.py:74: FutureWarning: The frame.append method is deprecated and will be removed from pandas in a future version. Use pandas.concat instead.\n",
      "  feature_pd = feature_pd.append(pd.DataFrame(saving, index=feature).transpose(), ignore_index=True)\n"
     ]
    },
    {
     "name": "stdout",
     "output_type": "stream",
     "text": [
      "256\n",
      "257\n",
      "258\n"
     ]
    },
    {
     "name": "stderr",
     "output_type": "stream",
     "text": [
      "/var/folders/dn/j0_7h7gx2sq58_nt9816ss480000gn/T/ipykernel_6547/4250457866.py:74: FutureWarning: The frame.append method is deprecated and will be removed from pandas in a future version. Use pandas.concat instead.\n",
      "  feature_pd = feature_pd.append(pd.DataFrame(saving, index=feature).transpose(), ignore_index=True)\n",
      "/var/folders/dn/j0_7h7gx2sq58_nt9816ss480000gn/T/ipykernel_6547/4250457866.py:74: FutureWarning: The frame.append method is deprecated and will be removed from pandas in a future version. Use pandas.concat instead.\n",
      "  feature_pd = feature_pd.append(pd.DataFrame(saving, index=feature).transpose(), ignore_index=True)\n",
      "/var/folders/dn/j0_7h7gx2sq58_nt9816ss480000gn/T/ipykernel_6547/4250457866.py:74: FutureWarning: The frame.append method is deprecated and will be removed from pandas in a future version. Use pandas.concat instead.\n",
      "  feature_pd = feature_pd.append(pd.DataFrame(saving, index=feature).transpose(), ignore_index=True)\n"
     ]
    },
    {
     "name": "stdout",
     "output_type": "stream",
     "text": [
      "259\n",
      "260\n",
      "261\n"
     ]
    },
    {
     "name": "stderr",
     "output_type": "stream",
     "text": [
      "/var/folders/dn/j0_7h7gx2sq58_nt9816ss480000gn/T/ipykernel_6547/4250457866.py:74: FutureWarning: The frame.append method is deprecated and will be removed from pandas in a future version. Use pandas.concat instead.\n",
      "  feature_pd = feature_pd.append(pd.DataFrame(saving, index=feature).transpose(), ignore_index=True)\n",
      "/var/folders/dn/j0_7h7gx2sq58_nt9816ss480000gn/T/ipykernel_6547/4250457866.py:74: FutureWarning: The frame.append method is deprecated and will be removed from pandas in a future version. Use pandas.concat instead.\n",
      "  feature_pd = feature_pd.append(pd.DataFrame(saving, index=feature).transpose(), ignore_index=True)\n"
     ]
    },
    {
     "name": "stdout",
     "output_type": "stream",
     "text": [
      "262\n"
     ]
    },
    {
     "name": "stderr",
     "output_type": "stream",
     "text": [
      "/var/folders/dn/j0_7h7gx2sq58_nt9816ss480000gn/T/ipykernel_6547/4250457866.py:74: FutureWarning: The frame.append method is deprecated and will be removed from pandas in a future version. Use pandas.concat instead.\n",
      "  feature_pd = feature_pd.append(pd.DataFrame(saving, index=feature).transpose(), ignore_index=True)\n"
     ]
    },
    {
     "name": "stdout",
     "output_type": "stream",
     "text": [
      "263\n",
      "264\n",
      "265\n"
     ]
    },
    {
     "name": "stderr",
     "output_type": "stream",
     "text": [
      "/var/folders/dn/j0_7h7gx2sq58_nt9816ss480000gn/T/ipykernel_6547/4250457866.py:74: FutureWarning: The frame.append method is deprecated and will be removed from pandas in a future version. Use pandas.concat instead.\n",
      "  feature_pd = feature_pd.append(pd.DataFrame(saving, index=feature).transpose(), ignore_index=True)\n",
      "/var/folders/dn/j0_7h7gx2sq58_nt9816ss480000gn/T/ipykernel_6547/4250457866.py:74: FutureWarning: The frame.append method is deprecated and will be removed from pandas in a future version. Use pandas.concat instead.\n",
      "  feature_pd = feature_pd.append(pd.DataFrame(saving, index=feature).transpose(), ignore_index=True)\n",
      "/var/folders/dn/j0_7h7gx2sq58_nt9816ss480000gn/T/ipykernel_6547/4250457866.py:74: FutureWarning: The frame.append method is deprecated and will be removed from pandas in a future version. Use pandas.concat instead.\n",
      "  feature_pd = feature_pd.append(pd.DataFrame(saving, index=feature).transpose(), ignore_index=True)\n"
     ]
    },
    {
     "name": "stdout",
     "output_type": "stream",
     "text": [
      "266\n",
      "267\n",
      "268\n"
     ]
    },
    {
     "name": "stderr",
     "output_type": "stream",
     "text": [
      "/var/folders/dn/j0_7h7gx2sq58_nt9816ss480000gn/T/ipykernel_6547/4250457866.py:74: FutureWarning: The frame.append method is deprecated and will be removed from pandas in a future version. Use pandas.concat instead.\n",
      "  feature_pd = feature_pd.append(pd.DataFrame(saving, index=feature).transpose(), ignore_index=True)\n",
      "/var/folders/dn/j0_7h7gx2sq58_nt9816ss480000gn/T/ipykernel_6547/4250457866.py:74: FutureWarning: The frame.append method is deprecated and will be removed from pandas in a future version. Use pandas.concat instead.\n",
      "  feature_pd = feature_pd.append(pd.DataFrame(saving, index=feature).transpose(), ignore_index=True)\n",
      "/var/folders/dn/j0_7h7gx2sq58_nt9816ss480000gn/T/ipykernel_6547/4250457866.py:74: FutureWarning: The frame.append method is deprecated and will be removed from pandas in a future version. Use pandas.concat instead.\n",
      "  feature_pd = feature_pd.append(pd.DataFrame(saving, index=feature).transpose(), ignore_index=True)\n"
     ]
    },
    {
     "name": "stdout",
     "output_type": "stream",
     "text": [
      "269\n",
      "270\n",
      "271\n"
     ]
    },
    {
     "name": "stderr",
     "output_type": "stream",
     "text": [
      "/var/folders/dn/j0_7h7gx2sq58_nt9816ss480000gn/T/ipykernel_6547/4250457866.py:74: FutureWarning: The frame.append method is deprecated and will be removed from pandas in a future version. Use pandas.concat instead.\n",
      "  feature_pd = feature_pd.append(pd.DataFrame(saving, index=feature).transpose(), ignore_index=True)\n",
      "/var/folders/dn/j0_7h7gx2sq58_nt9816ss480000gn/T/ipykernel_6547/4250457866.py:74: FutureWarning: The frame.append method is deprecated and will be removed from pandas in a future version. Use pandas.concat instead.\n",
      "  feature_pd = feature_pd.append(pd.DataFrame(saving, index=feature).transpose(), ignore_index=True)\n",
      "/var/folders/dn/j0_7h7gx2sq58_nt9816ss480000gn/T/ipykernel_6547/4250457866.py:74: FutureWarning: The frame.append method is deprecated and will be removed from pandas in a future version. Use pandas.concat instead.\n",
      "  feature_pd = feature_pd.append(pd.DataFrame(saving, index=feature).transpose(), ignore_index=True)\n"
     ]
    },
    {
     "name": "stdout",
     "output_type": "stream",
     "text": [
      "272\n",
      "273\n",
      "274\n",
      "275\n",
      "276\n"
     ]
    },
    {
     "name": "stderr",
     "output_type": "stream",
     "text": [
      "/var/folders/dn/j0_7h7gx2sq58_nt9816ss480000gn/T/ipykernel_6547/4250457866.py:74: FutureWarning: The frame.append method is deprecated and will be removed from pandas in a future version. Use pandas.concat instead.\n",
      "  feature_pd = feature_pd.append(pd.DataFrame(saving, index=feature).transpose(), ignore_index=True)\n",
      "/var/folders/dn/j0_7h7gx2sq58_nt9816ss480000gn/T/ipykernel_6547/4250457866.py:74: FutureWarning: The frame.append method is deprecated and will be removed from pandas in a future version. Use pandas.concat instead.\n",
      "  feature_pd = feature_pd.append(pd.DataFrame(saving, index=feature).transpose(), ignore_index=True)\n",
      "/var/folders/dn/j0_7h7gx2sq58_nt9816ss480000gn/T/ipykernel_6547/4250457866.py:74: FutureWarning: The frame.append method is deprecated and will be removed from pandas in a future version. Use pandas.concat instead.\n",
      "  feature_pd = feature_pd.append(pd.DataFrame(saving, index=feature).transpose(), ignore_index=True)\n",
      "/var/folders/dn/j0_7h7gx2sq58_nt9816ss480000gn/T/ipykernel_6547/4250457866.py:74: FutureWarning: The frame.append method is deprecated and will be removed from pandas in a future version. Use pandas.concat instead.\n",
      "  feature_pd = feature_pd.append(pd.DataFrame(saving, index=feature).transpose(), ignore_index=True)\n",
      "/var/folders/dn/j0_7h7gx2sq58_nt9816ss480000gn/T/ipykernel_6547/4250457866.py:74: FutureWarning: The frame.append method is deprecated and will be removed from pandas in a future version. Use pandas.concat instead.\n",
      "  feature_pd = feature_pd.append(pd.DataFrame(saving, index=feature).transpose(), ignore_index=True)\n"
     ]
    },
    {
     "name": "stdout",
     "output_type": "stream",
     "text": [
      "277\n",
      "278\n",
      "279\n"
     ]
    },
    {
     "name": "stderr",
     "output_type": "stream",
     "text": [
      "/var/folders/dn/j0_7h7gx2sq58_nt9816ss480000gn/T/ipykernel_6547/4250457866.py:74: FutureWarning: The frame.append method is deprecated and will be removed from pandas in a future version. Use pandas.concat instead.\n",
      "  feature_pd = feature_pd.append(pd.DataFrame(saving, index=feature).transpose(), ignore_index=True)\n",
      "/var/folders/dn/j0_7h7gx2sq58_nt9816ss480000gn/T/ipykernel_6547/4250457866.py:74: FutureWarning: The frame.append method is deprecated and will be removed from pandas in a future version. Use pandas.concat instead.\n",
      "  feature_pd = feature_pd.append(pd.DataFrame(saving, index=feature).transpose(), ignore_index=True)\n",
      "/var/folders/dn/j0_7h7gx2sq58_nt9816ss480000gn/T/ipykernel_6547/4250457866.py:74: FutureWarning: The frame.append method is deprecated and will be removed from pandas in a future version. Use pandas.concat instead.\n",
      "  feature_pd = feature_pd.append(pd.DataFrame(saving, index=feature).transpose(), ignore_index=True)\n"
     ]
    },
    {
     "name": "stdout",
     "output_type": "stream",
     "text": [
      "280\n",
      "281\n",
      "282\n",
      "283\n"
     ]
    },
    {
     "name": "stderr",
     "output_type": "stream",
     "text": [
      "/var/folders/dn/j0_7h7gx2sq58_nt9816ss480000gn/T/ipykernel_6547/4250457866.py:74: FutureWarning: The frame.append method is deprecated and will be removed from pandas in a future version. Use pandas.concat instead.\n",
      "  feature_pd = feature_pd.append(pd.DataFrame(saving, index=feature).transpose(), ignore_index=True)\n",
      "/var/folders/dn/j0_7h7gx2sq58_nt9816ss480000gn/T/ipykernel_6547/4250457866.py:74: FutureWarning: The frame.append method is deprecated and will be removed from pandas in a future version. Use pandas.concat instead.\n",
      "  feature_pd = feature_pd.append(pd.DataFrame(saving, index=feature).transpose(), ignore_index=True)\n",
      "/var/folders/dn/j0_7h7gx2sq58_nt9816ss480000gn/T/ipykernel_6547/4250457866.py:74: FutureWarning: The frame.append method is deprecated and will be removed from pandas in a future version. Use pandas.concat instead.\n",
      "  feature_pd = feature_pd.append(pd.DataFrame(saving, index=feature).transpose(), ignore_index=True)\n",
      "/var/folders/dn/j0_7h7gx2sq58_nt9816ss480000gn/T/ipykernel_6547/4250457866.py:74: FutureWarning: The frame.append method is deprecated and will be removed from pandas in a future version. Use pandas.concat instead.\n",
      "  feature_pd = feature_pd.append(pd.DataFrame(saving, index=feature).transpose(), ignore_index=True)\n"
     ]
    },
    {
     "name": "stdout",
     "output_type": "stream",
     "text": [
      "284\n"
     ]
    },
    {
     "name": "stderr",
     "output_type": "stream",
     "text": [
      "/var/folders/dn/j0_7h7gx2sq58_nt9816ss480000gn/T/ipykernel_6547/4250457866.py:74: FutureWarning: The frame.append method is deprecated and will be removed from pandas in a future version. Use pandas.concat instead.\n",
      "  feature_pd = feature_pd.append(pd.DataFrame(saving, index=feature).transpose(), ignore_index=True)\n"
     ]
    },
    {
     "name": "stdout",
     "output_type": "stream",
     "text": [
      "285\n",
      "286\n",
      "287\n",
      "288\n"
     ]
    },
    {
     "name": "stderr",
     "output_type": "stream",
     "text": [
      "/var/folders/dn/j0_7h7gx2sq58_nt9816ss480000gn/T/ipykernel_6547/4250457866.py:74: FutureWarning: The frame.append method is deprecated and will be removed from pandas in a future version. Use pandas.concat instead.\n",
      "  feature_pd = feature_pd.append(pd.DataFrame(saving, index=feature).transpose(), ignore_index=True)\n",
      "/var/folders/dn/j0_7h7gx2sq58_nt9816ss480000gn/T/ipykernel_6547/4250457866.py:74: FutureWarning: The frame.append method is deprecated and will be removed from pandas in a future version. Use pandas.concat instead.\n",
      "  feature_pd = feature_pd.append(pd.DataFrame(saving, index=feature).transpose(), ignore_index=True)\n",
      "/var/folders/dn/j0_7h7gx2sq58_nt9816ss480000gn/T/ipykernel_6547/4250457866.py:74: FutureWarning: The frame.append method is deprecated and will be removed from pandas in a future version. Use pandas.concat instead.\n",
      "  feature_pd = feature_pd.append(pd.DataFrame(saving, index=feature).transpose(), ignore_index=True)\n",
      "/var/folders/dn/j0_7h7gx2sq58_nt9816ss480000gn/T/ipykernel_6547/4250457866.py:74: FutureWarning: The frame.append method is deprecated and will be removed from pandas in a future version. Use pandas.concat instead.\n",
      "  feature_pd = feature_pd.append(pd.DataFrame(saving, index=feature).transpose(), ignore_index=True)\n"
     ]
    },
    {
     "name": "stdout",
     "output_type": "stream",
     "text": [
      "289\n",
      "290\n",
      "291\n",
      "292\n"
     ]
    },
    {
     "name": "stderr",
     "output_type": "stream",
     "text": [
      "/var/folders/dn/j0_7h7gx2sq58_nt9816ss480000gn/T/ipykernel_6547/4250457866.py:74: FutureWarning: The frame.append method is deprecated and will be removed from pandas in a future version. Use pandas.concat instead.\n",
      "  feature_pd = feature_pd.append(pd.DataFrame(saving, index=feature).transpose(), ignore_index=True)\n",
      "/var/folders/dn/j0_7h7gx2sq58_nt9816ss480000gn/T/ipykernel_6547/4250457866.py:74: FutureWarning: The frame.append method is deprecated and will be removed from pandas in a future version. Use pandas.concat instead.\n",
      "  feature_pd = feature_pd.append(pd.DataFrame(saving, index=feature).transpose(), ignore_index=True)\n",
      "/var/folders/dn/j0_7h7gx2sq58_nt9816ss480000gn/T/ipykernel_6547/4250457866.py:74: FutureWarning: The frame.append method is deprecated and will be removed from pandas in a future version. Use pandas.concat instead.\n",
      "  feature_pd = feature_pd.append(pd.DataFrame(saving, index=feature).transpose(), ignore_index=True)\n",
      "/var/folders/dn/j0_7h7gx2sq58_nt9816ss480000gn/T/ipykernel_6547/4250457866.py:74: FutureWarning: The frame.append method is deprecated and will be removed from pandas in a future version. Use pandas.concat instead.\n",
      "  feature_pd = feature_pd.append(pd.DataFrame(saving, index=feature).transpose(), ignore_index=True)\n"
     ]
    },
    {
     "name": "stdout",
     "output_type": "stream",
     "text": [
      "293\n",
      "294\n",
      "295\n",
      "296\n"
     ]
    },
    {
     "name": "stderr",
     "output_type": "stream",
     "text": [
      "/var/folders/dn/j0_7h7gx2sq58_nt9816ss480000gn/T/ipykernel_6547/4250457866.py:74: FutureWarning: The frame.append method is deprecated and will be removed from pandas in a future version. Use pandas.concat instead.\n",
      "  feature_pd = feature_pd.append(pd.DataFrame(saving, index=feature).transpose(), ignore_index=True)\n",
      "/var/folders/dn/j0_7h7gx2sq58_nt9816ss480000gn/T/ipykernel_6547/4250457866.py:74: FutureWarning: The frame.append method is deprecated and will be removed from pandas in a future version. Use pandas.concat instead.\n",
      "  feature_pd = feature_pd.append(pd.DataFrame(saving, index=feature).transpose(), ignore_index=True)\n",
      "/var/folders/dn/j0_7h7gx2sq58_nt9816ss480000gn/T/ipykernel_6547/4250457866.py:74: FutureWarning: The frame.append method is deprecated and will be removed from pandas in a future version. Use pandas.concat instead.\n",
      "  feature_pd = feature_pd.append(pd.DataFrame(saving, index=feature).transpose(), ignore_index=True)\n",
      "/var/folders/dn/j0_7h7gx2sq58_nt9816ss480000gn/T/ipykernel_6547/4250457866.py:74: FutureWarning: The frame.append method is deprecated and will be removed from pandas in a future version. Use pandas.concat instead.\n",
      "  feature_pd = feature_pd.append(pd.DataFrame(saving, index=feature).transpose(), ignore_index=True)\n"
     ]
    },
    {
     "name": "stdout",
     "output_type": "stream",
     "text": [
      "297\n",
      "298\n",
      "299\n"
     ]
    },
    {
     "name": "stderr",
     "output_type": "stream",
     "text": [
      "/var/folders/dn/j0_7h7gx2sq58_nt9816ss480000gn/T/ipykernel_6547/4250457866.py:74: FutureWarning: The frame.append method is deprecated and will be removed from pandas in a future version. Use pandas.concat instead.\n",
      "  feature_pd = feature_pd.append(pd.DataFrame(saving, index=feature).transpose(), ignore_index=True)\n",
      "/var/folders/dn/j0_7h7gx2sq58_nt9816ss480000gn/T/ipykernel_6547/4250457866.py:74: FutureWarning: The frame.append method is deprecated and will be removed from pandas in a future version. Use pandas.concat instead.\n",
      "  feature_pd = feature_pd.append(pd.DataFrame(saving, index=feature).transpose(), ignore_index=True)\n",
      "/var/folders/dn/j0_7h7gx2sq58_nt9816ss480000gn/T/ipykernel_6547/4250457866.py:74: FutureWarning: The frame.append method is deprecated and will be removed from pandas in a future version. Use pandas.concat instead.\n",
      "  feature_pd = feature_pd.append(pd.DataFrame(saving, index=feature).transpose(), ignore_index=True)\n"
     ]
    },
    {
     "name": "stdout",
     "output_type": "stream",
     "text": [
      "300\n",
      "301\n",
      "302\n"
     ]
    },
    {
     "name": "stderr",
     "output_type": "stream",
     "text": [
      "/var/folders/dn/j0_7h7gx2sq58_nt9816ss480000gn/T/ipykernel_6547/4250457866.py:74: FutureWarning: The frame.append method is deprecated and will be removed from pandas in a future version. Use pandas.concat instead.\n",
      "  feature_pd = feature_pd.append(pd.DataFrame(saving, index=feature).transpose(), ignore_index=True)\n",
      "/var/folders/dn/j0_7h7gx2sq58_nt9816ss480000gn/T/ipykernel_6547/4250457866.py:74: FutureWarning: The frame.append method is deprecated and will be removed from pandas in a future version. Use pandas.concat instead.\n",
      "  feature_pd = feature_pd.append(pd.DataFrame(saving, index=feature).transpose(), ignore_index=True)\n",
      "/var/folders/dn/j0_7h7gx2sq58_nt9816ss480000gn/T/ipykernel_6547/4250457866.py:74: FutureWarning: The frame.append method is deprecated and will be removed from pandas in a future version. Use pandas.concat instead.\n",
      "  feature_pd = feature_pd.append(pd.DataFrame(saving, index=feature).transpose(), ignore_index=True)\n"
     ]
    },
    {
     "name": "stdout",
     "output_type": "stream",
     "text": [
      "303\n",
      "304\n"
     ]
    },
    {
     "name": "stderr",
     "output_type": "stream",
     "text": [
      "/var/folders/dn/j0_7h7gx2sq58_nt9816ss480000gn/T/ipykernel_6547/4250457866.py:74: FutureWarning: The frame.append method is deprecated and will be removed from pandas in a future version. Use pandas.concat instead.\n",
      "  feature_pd = feature_pd.append(pd.DataFrame(saving, index=feature).transpose(), ignore_index=True)\n",
      "/var/folders/dn/j0_7h7gx2sq58_nt9816ss480000gn/T/ipykernel_6547/4250457866.py:74: FutureWarning: The frame.append method is deprecated and will be removed from pandas in a future version. Use pandas.concat instead.\n",
      "  feature_pd = feature_pd.append(pd.DataFrame(saving, index=feature).transpose(), ignore_index=True)\n"
     ]
    },
    {
     "name": "stdout",
     "output_type": "stream",
     "text": [
      "305\n",
      "306\n"
     ]
    },
    {
     "name": "stderr",
     "output_type": "stream",
     "text": [
      "/var/folders/dn/j0_7h7gx2sq58_nt9816ss480000gn/T/ipykernel_6547/4250457866.py:74: FutureWarning: The frame.append method is deprecated and will be removed from pandas in a future version. Use pandas.concat instead.\n",
      "  feature_pd = feature_pd.append(pd.DataFrame(saving, index=feature).transpose(), ignore_index=True)\n",
      "/var/folders/dn/j0_7h7gx2sq58_nt9816ss480000gn/T/ipykernel_6547/4250457866.py:74: FutureWarning: The frame.append method is deprecated and will be removed from pandas in a future version. Use pandas.concat instead.\n",
      "  feature_pd = feature_pd.append(pd.DataFrame(saving, index=feature).transpose(), ignore_index=True)\n"
     ]
    },
    {
     "name": "stdout",
     "output_type": "stream",
     "text": [
      "307\n"
     ]
    },
    {
     "name": "stderr",
     "output_type": "stream",
     "text": [
      "/var/folders/dn/j0_7h7gx2sq58_nt9816ss480000gn/T/ipykernel_6547/4250457866.py:74: FutureWarning: The frame.append method is deprecated and will be removed from pandas in a future version. Use pandas.concat instead.\n",
      "  feature_pd = feature_pd.append(pd.DataFrame(saving, index=feature).transpose(), ignore_index=True)\n"
     ]
    },
    {
     "name": "stdout",
     "output_type": "stream",
     "text": [
      "308\n",
      "309\n"
     ]
    },
    {
     "name": "stderr",
     "output_type": "stream",
     "text": [
      "/var/folders/dn/j0_7h7gx2sq58_nt9816ss480000gn/T/ipykernel_6547/4250457866.py:74: FutureWarning: The frame.append method is deprecated and will be removed from pandas in a future version. Use pandas.concat instead.\n",
      "  feature_pd = feature_pd.append(pd.DataFrame(saving, index=feature).transpose(), ignore_index=True)\n",
      "/var/folders/dn/j0_7h7gx2sq58_nt9816ss480000gn/T/ipykernel_6547/4250457866.py:74: FutureWarning: The frame.append method is deprecated and will be removed from pandas in a future version. Use pandas.concat instead.\n",
      "  feature_pd = feature_pd.append(pd.DataFrame(saving, index=feature).transpose(), ignore_index=True)\n"
     ]
    },
    {
     "name": "stdout",
     "output_type": "stream",
     "text": [
      "310\n"
     ]
    },
    {
     "name": "stderr",
     "output_type": "stream",
     "text": [
      "/var/folders/dn/j0_7h7gx2sq58_nt9816ss480000gn/T/ipykernel_6547/4250457866.py:74: FutureWarning: The frame.append method is deprecated and will be removed from pandas in a future version. Use pandas.concat instead.\n",
      "  feature_pd = feature_pd.append(pd.DataFrame(saving, index=feature).transpose(), ignore_index=True)\n"
     ]
    },
    {
     "name": "stdout",
     "output_type": "stream",
     "text": [
      "311\n",
      "312\n"
     ]
    },
    {
     "name": "stderr",
     "output_type": "stream",
     "text": [
      "/var/folders/dn/j0_7h7gx2sq58_nt9816ss480000gn/T/ipykernel_6547/4250457866.py:74: FutureWarning: The frame.append method is deprecated and will be removed from pandas in a future version. Use pandas.concat instead.\n",
      "  feature_pd = feature_pd.append(pd.DataFrame(saving, index=feature).transpose(), ignore_index=True)\n",
      "/var/folders/dn/j0_7h7gx2sq58_nt9816ss480000gn/T/ipykernel_6547/4250457866.py:74: FutureWarning: The frame.append method is deprecated and will be removed from pandas in a future version. Use pandas.concat instead.\n",
      "  feature_pd = feature_pd.append(pd.DataFrame(saving, index=feature).transpose(), ignore_index=True)\n"
     ]
    },
    {
     "name": "stdout",
     "output_type": "stream",
     "text": [
      "313\n",
      "314\n",
      "315\n"
     ]
    },
    {
     "name": "stderr",
     "output_type": "stream",
     "text": [
      "/var/folders/dn/j0_7h7gx2sq58_nt9816ss480000gn/T/ipykernel_6547/4250457866.py:74: FutureWarning: The frame.append method is deprecated and will be removed from pandas in a future version. Use pandas.concat instead.\n",
      "  feature_pd = feature_pd.append(pd.DataFrame(saving, index=feature).transpose(), ignore_index=True)\n",
      "/var/folders/dn/j0_7h7gx2sq58_nt9816ss480000gn/T/ipykernel_6547/4250457866.py:74: FutureWarning: The frame.append method is deprecated and will be removed from pandas in a future version. Use pandas.concat instead.\n",
      "  feature_pd = feature_pd.append(pd.DataFrame(saving, index=feature).transpose(), ignore_index=True)\n",
      "/var/folders/dn/j0_7h7gx2sq58_nt9816ss480000gn/T/ipykernel_6547/4250457866.py:74: FutureWarning: The frame.append method is deprecated and will be removed from pandas in a future version. Use pandas.concat instead.\n",
      "  feature_pd = feature_pd.append(pd.DataFrame(saving, index=feature).transpose(), ignore_index=True)\n"
     ]
    },
    {
     "name": "stdout",
     "output_type": "stream",
     "text": [
      "316\n",
      "317\n",
      "318\n"
     ]
    },
    {
     "name": "stderr",
     "output_type": "stream",
     "text": [
      "/var/folders/dn/j0_7h7gx2sq58_nt9816ss480000gn/T/ipykernel_6547/4250457866.py:74: FutureWarning: The frame.append method is deprecated and will be removed from pandas in a future version. Use pandas.concat instead.\n",
      "  feature_pd = feature_pd.append(pd.DataFrame(saving, index=feature).transpose(), ignore_index=True)\n",
      "/var/folders/dn/j0_7h7gx2sq58_nt9816ss480000gn/T/ipykernel_6547/4250457866.py:74: FutureWarning: The frame.append method is deprecated and will be removed from pandas in a future version. Use pandas.concat instead.\n",
      "  feature_pd = feature_pd.append(pd.DataFrame(saving, index=feature).transpose(), ignore_index=True)\n",
      "/var/folders/dn/j0_7h7gx2sq58_nt9816ss480000gn/T/ipykernel_6547/4250457866.py:74: FutureWarning: The frame.append method is deprecated and will be removed from pandas in a future version. Use pandas.concat instead.\n",
      "  feature_pd = feature_pd.append(pd.DataFrame(saving, index=feature).transpose(), ignore_index=True)\n"
     ]
    },
    {
     "name": "stdout",
     "output_type": "stream",
     "text": [
      "319\n",
      "320\n",
      "321\n"
     ]
    },
    {
     "name": "stderr",
     "output_type": "stream",
     "text": [
      "/var/folders/dn/j0_7h7gx2sq58_nt9816ss480000gn/T/ipykernel_6547/4250457866.py:74: FutureWarning: The frame.append method is deprecated and will be removed from pandas in a future version. Use pandas.concat instead.\n",
      "  feature_pd = feature_pd.append(pd.DataFrame(saving, index=feature).transpose(), ignore_index=True)\n",
      "/var/folders/dn/j0_7h7gx2sq58_nt9816ss480000gn/T/ipykernel_6547/4250457866.py:74: FutureWarning: The frame.append method is deprecated and will be removed from pandas in a future version. Use pandas.concat instead.\n",
      "  feature_pd = feature_pd.append(pd.DataFrame(saving, index=feature).transpose(), ignore_index=True)\n",
      "/var/folders/dn/j0_7h7gx2sq58_nt9816ss480000gn/T/ipykernel_6547/4250457866.py:74: FutureWarning: The frame.append method is deprecated and will be removed from pandas in a future version. Use pandas.concat instead.\n",
      "  feature_pd = feature_pd.append(pd.DataFrame(saving, index=feature).transpose(), ignore_index=True)\n"
     ]
    },
    {
     "name": "stdout",
     "output_type": "stream",
     "text": [
      "322\n"
     ]
    },
    {
     "name": "stderr",
     "output_type": "stream",
     "text": [
      "/var/folders/dn/j0_7h7gx2sq58_nt9816ss480000gn/T/ipykernel_6547/4250457866.py:74: FutureWarning: The frame.append method is deprecated and will be removed from pandas in a future version. Use pandas.concat instead.\n",
      "  feature_pd = feature_pd.append(pd.DataFrame(saving, index=feature).transpose(), ignore_index=True)\n"
     ]
    },
    {
     "name": "stdout",
     "output_type": "stream",
     "text": [
      "323\n",
      "324\n",
      "325\n"
     ]
    },
    {
     "name": "stderr",
     "output_type": "stream",
     "text": [
      "/var/folders/dn/j0_7h7gx2sq58_nt9816ss480000gn/T/ipykernel_6547/4250457866.py:74: FutureWarning: The frame.append method is deprecated and will be removed from pandas in a future version. Use pandas.concat instead.\n",
      "  feature_pd = feature_pd.append(pd.DataFrame(saving, index=feature).transpose(), ignore_index=True)\n",
      "/var/folders/dn/j0_7h7gx2sq58_nt9816ss480000gn/T/ipykernel_6547/4250457866.py:74: FutureWarning: The frame.append method is deprecated and will be removed from pandas in a future version. Use pandas.concat instead.\n",
      "  feature_pd = feature_pd.append(pd.DataFrame(saving, index=feature).transpose(), ignore_index=True)\n",
      "/var/folders/dn/j0_7h7gx2sq58_nt9816ss480000gn/T/ipykernel_6547/4250457866.py:74: FutureWarning: The frame.append method is deprecated and will be removed from pandas in a future version. Use pandas.concat instead.\n",
      "  feature_pd = feature_pd.append(pd.DataFrame(saving, index=feature).transpose(), ignore_index=True)\n"
     ]
    },
    {
     "name": "stdout",
     "output_type": "stream",
     "text": [
      "326\n"
     ]
    },
    {
     "name": "stderr",
     "output_type": "stream",
     "text": [
      "/var/folders/dn/j0_7h7gx2sq58_nt9816ss480000gn/T/ipykernel_6547/4250457866.py:74: FutureWarning: The frame.append method is deprecated and will be removed from pandas in a future version. Use pandas.concat instead.\n",
      "  feature_pd = feature_pd.append(pd.DataFrame(saving, index=feature).transpose(), ignore_index=True)\n"
     ]
    },
    {
     "name": "stdout",
     "output_type": "stream",
     "text": [
      "327\n",
      "328\n",
      "329\n",
      "330\n"
     ]
    },
    {
     "name": "stderr",
     "output_type": "stream",
     "text": [
      "/var/folders/dn/j0_7h7gx2sq58_nt9816ss480000gn/T/ipykernel_6547/4250457866.py:74: FutureWarning: The frame.append method is deprecated and will be removed from pandas in a future version. Use pandas.concat instead.\n",
      "  feature_pd = feature_pd.append(pd.DataFrame(saving, index=feature).transpose(), ignore_index=True)\n",
      "/var/folders/dn/j0_7h7gx2sq58_nt9816ss480000gn/T/ipykernel_6547/4250457866.py:74: FutureWarning: The frame.append method is deprecated and will be removed from pandas in a future version. Use pandas.concat instead.\n",
      "  feature_pd = feature_pd.append(pd.DataFrame(saving, index=feature).transpose(), ignore_index=True)\n",
      "/var/folders/dn/j0_7h7gx2sq58_nt9816ss480000gn/T/ipykernel_6547/4250457866.py:74: FutureWarning: The frame.append method is deprecated and will be removed from pandas in a future version. Use pandas.concat instead.\n",
      "  feature_pd = feature_pd.append(pd.DataFrame(saving, index=feature).transpose(), ignore_index=True)\n",
      "/var/folders/dn/j0_7h7gx2sq58_nt9816ss480000gn/T/ipykernel_6547/4250457866.py:74: FutureWarning: The frame.append method is deprecated and will be removed from pandas in a future version. Use pandas.concat instead.\n",
      "  feature_pd = feature_pd.append(pd.DataFrame(saving, index=feature).transpose(), ignore_index=True)\n"
     ]
    },
    {
     "name": "stdout",
     "output_type": "stream",
     "text": [
      "331\n",
      "332\n",
      "333\n"
     ]
    },
    {
     "name": "stderr",
     "output_type": "stream",
     "text": [
      "/var/folders/dn/j0_7h7gx2sq58_nt9816ss480000gn/T/ipykernel_6547/4250457866.py:74: FutureWarning: The frame.append method is deprecated and will be removed from pandas in a future version. Use pandas.concat instead.\n",
      "  feature_pd = feature_pd.append(pd.DataFrame(saving, index=feature).transpose(), ignore_index=True)\n",
      "/var/folders/dn/j0_7h7gx2sq58_nt9816ss480000gn/T/ipykernel_6547/4250457866.py:74: FutureWarning: The frame.append method is deprecated and will be removed from pandas in a future version. Use pandas.concat instead.\n",
      "  feature_pd = feature_pd.append(pd.DataFrame(saving, index=feature).transpose(), ignore_index=True)\n",
      "/var/folders/dn/j0_7h7gx2sq58_nt9816ss480000gn/T/ipykernel_6547/4250457866.py:74: FutureWarning: The frame.append method is deprecated and will be removed from pandas in a future version. Use pandas.concat instead.\n",
      "  feature_pd = feature_pd.append(pd.DataFrame(saving, index=feature).transpose(), ignore_index=True)\n"
     ]
    },
    {
     "name": "stdout",
     "output_type": "stream",
     "text": [
      "334\n",
      "335\n",
      "336\n"
     ]
    },
    {
     "name": "stderr",
     "output_type": "stream",
     "text": [
      "/var/folders/dn/j0_7h7gx2sq58_nt9816ss480000gn/T/ipykernel_6547/4250457866.py:74: FutureWarning: The frame.append method is deprecated and will be removed from pandas in a future version. Use pandas.concat instead.\n",
      "  feature_pd = feature_pd.append(pd.DataFrame(saving, index=feature).transpose(), ignore_index=True)\n",
      "/var/folders/dn/j0_7h7gx2sq58_nt9816ss480000gn/T/ipykernel_6547/4250457866.py:74: FutureWarning: The frame.append method is deprecated and will be removed from pandas in a future version. Use pandas.concat instead.\n",
      "  feature_pd = feature_pd.append(pd.DataFrame(saving, index=feature).transpose(), ignore_index=True)\n",
      "/var/folders/dn/j0_7h7gx2sq58_nt9816ss480000gn/T/ipykernel_6547/4250457866.py:74: FutureWarning: The frame.append method is deprecated and will be removed from pandas in a future version. Use pandas.concat instead.\n",
      "  feature_pd = feature_pd.append(pd.DataFrame(saving, index=feature).transpose(), ignore_index=True)\n"
     ]
    },
    {
     "name": "stdout",
     "output_type": "stream",
     "text": [
      "337\n",
      "338\n",
      "339\n",
      "340\n"
     ]
    },
    {
     "name": "stderr",
     "output_type": "stream",
     "text": [
      "/var/folders/dn/j0_7h7gx2sq58_nt9816ss480000gn/T/ipykernel_6547/4250457866.py:74: FutureWarning: The frame.append method is deprecated and will be removed from pandas in a future version. Use pandas.concat instead.\n",
      "  feature_pd = feature_pd.append(pd.DataFrame(saving, index=feature).transpose(), ignore_index=True)\n",
      "/var/folders/dn/j0_7h7gx2sq58_nt9816ss480000gn/T/ipykernel_6547/4250457866.py:74: FutureWarning: The frame.append method is deprecated and will be removed from pandas in a future version. Use pandas.concat instead.\n",
      "  feature_pd = feature_pd.append(pd.DataFrame(saving, index=feature).transpose(), ignore_index=True)\n",
      "/var/folders/dn/j0_7h7gx2sq58_nt9816ss480000gn/T/ipykernel_6547/4250457866.py:74: FutureWarning: The frame.append method is deprecated and will be removed from pandas in a future version. Use pandas.concat instead.\n",
      "  feature_pd = feature_pd.append(pd.DataFrame(saving, index=feature).transpose(), ignore_index=True)\n",
      "/var/folders/dn/j0_7h7gx2sq58_nt9816ss480000gn/T/ipykernel_6547/4250457866.py:74: FutureWarning: The frame.append method is deprecated and will be removed from pandas in a future version. Use pandas.concat instead.\n",
      "  feature_pd = feature_pd.append(pd.DataFrame(saving, index=feature).transpose(), ignore_index=True)\n"
     ]
    },
    {
     "name": "stdout",
     "output_type": "stream",
     "text": [
      "341\n",
      "342\n",
      "343\n",
      "344\n"
     ]
    },
    {
     "name": "stderr",
     "output_type": "stream",
     "text": [
      "/var/folders/dn/j0_7h7gx2sq58_nt9816ss480000gn/T/ipykernel_6547/4250457866.py:74: FutureWarning: The frame.append method is deprecated and will be removed from pandas in a future version. Use pandas.concat instead.\n",
      "  feature_pd = feature_pd.append(pd.DataFrame(saving, index=feature).transpose(), ignore_index=True)\n",
      "/var/folders/dn/j0_7h7gx2sq58_nt9816ss480000gn/T/ipykernel_6547/4250457866.py:74: FutureWarning: The frame.append method is deprecated and will be removed from pandas in a future version. Use pandas.concat instead.\n",
      "  feature_pd = feature_pd.append(pd.DataFrame(saving, index=feature).transpose(), ignore_index=True)\n",
      "/var/folders/dn/j0_7h7gx2sq58_nt9816ss480000gn/T/ipykernel_6547/4250457866.py:74: FutureWarning: The frame.append method is deprecated and will be removed from pandas in a future version. Use pandas.concat instead.\n",
      "  feature_pd = feature_pd.append(pd.DataFrame(saving, index=feature).transpose(), ignore_index=True)\n",
      "/var/folders/dn/j0_7h7gx2sq58_nt9816ss480000gn/T/ipykernel_6547/4250457866.py:74: FutureWarning: The frame.append method is deprecated and will be removed from pandas in a future version. Use pandas.concat instead.\n",
      "  feature_pd = feature_pd.append(pd.DataFrame(saving, index=feature).transpose(), ignore_index=True)\n"
     ]
    },
    {
     "name": "stdout",
     "output_type": "stream",
     "text": [
      "345\n",
      "346\n",
      "347\n",
      "348\n"
     ]
    },
    {
     "name": "stderr",
     "output_type": "stream",
     "text": [
      "/var/folders/dn/j0_7h7gx2sq58_nt9816ss480000gn/T/ipykernel_6547/4250457866.py:74: FutureWarning: The frame.append method is deprecated and will be removed from pandas in a future version. Use pandas.concat instead.\n",
      "  feature_pd = feature_pd.append(pd.DataFrame(saving, index=feature).transpose(), ignore_index=True)\n",
      "/var/folders/dn/j0_7h7gx2sq58_nt9816ss480000gn/T/ipykernel_6547/4250457866.py:74: FutureWarning: The frame.append method is deprecated and will be removed from pandas in a future version. Use pandas.concat instead.\n",
      "  feature_pd = feature_pd.append(pd.DataFrame(saving, index=feature).transpose(), ignore_index=True)\n",
      "/var/folders/dn/j0_7h7gx2sq58_nt9816ss480000gn/T/ipykernel_6547/4250457866.py:74: FutureWarning: The frame.append method is deprecated and will be removed from pandas in a future version. Use pandas.concat instead.\n",
      "  feature_pd = feature_pd.append(pd.DataFrame(saving, index=feature).transpose(), ignore_index=True)\n",
      "/var/folders/dn/j0_7h7gx2sq58_nt9816ss480000gn/T/ipykernel_6547/4250457866.py:74: FutureWarning: The frame.append method is deprecated and will be removed from pandas in a future version. Use pandas.concat instead.\n",
      "  feature_pd = feature_pd.append(pd.DataFrame(saving, index=feature).transpose(), ignore_index=True)\n"
     ]
    },
    {
     "name": "stdout",
     "output_type": "stream",
     "text": [
      "349\n",
      "350\n",
      "351\n",
      "352\n",
      "353\n"
     ]
    },
    {
     "name": "stderr",
     "output_type": "stream",
     "text": [
      "/var/folders/dn/j0_7h7gx2sq58_nt9816ss480000gn/T/ipykernel_6547/4250457866.py:74: FutureWarning: The frame.append method is deprecated and will be removed from pandas in a future version. Use pandas.concat instead.\n",
      "  feature_pd = feature_pd.append(pd.DataFrame(saving, index=feature).transpose(), ignore_index=True)\n",
      "/var/folders/dn/j0_7h7gx2sq58_nt9816ss480000gn/T/ipykernel_6547/4250457866.py:74: FutureWarning: The frame.append method is deprecated and will be removed from pandas in a future version. Use pandas.concat instead.\n",
      "  feature_pd = feature_pd.append(pd.DataFrame(saving, index=feature).transpose(), ignore_index=True)\n",
      "/var/folders/dn/j0_7h7gx2sq58_nt9816ss480000gn/T/ipykernel_6547/4250457866.py:74: FutureWarning: The frame.append method is deprecated and will be removed from pandas in a future version. Use pandas.concat instead.\n",
      "  feature_pd = feature_pd.append(pd.DataFrame(saving, index=feature).transpose(), ignore_index=True)\n",
      "/var/folders/dn/j0_7h7gx2sq58_nt9816ss480000gn/T/ipykernel_6547/4250457866.py:74: FutureWarning: The frame.append method is deprecated and will be removed from pandas in a future version. Use pandas.concat instead.\n",
      "  feature_pd = feature_pd.append(pd.DataFrame(saving, index=feature).transpose(), ignore_index=True)\n",
      "/var/folders/dn/j0_7h7gx2sq58_nt9816ss480000gn/T/ipykernel_6547/4250457866.py:74: FutureWarning: The frame.append method is deprecated and will be removed from pandas in a future version. Use pandas.concat instead.\n",
      "  feature_pd = feature_pd.append(pd.DataFrame(saving, index=feature).transpose(), ignore_index=True)\n"
     ]
    },
    {
     "name": "stdout",
     "output_type": "stream",
     "text": [
      "354\n",
      "355\n",
      "356\n"
     ]
    },
    {
     "name": "stderr",
     "output_type": "stream",
     "text": [
      "/var/folders/dn/j0_7h7gx2sq58_nt9816ss480000gn/T/ipykernel_6547/4250457866.py:74: FutureWarning: The frame.append method is deprecated and will be removed from pandas in a future version. Use pandas.concat instead.\n",
      "  feature_pd = feature_pd.append(pd.DataFrame(saving, index=feature).transpose(), ignore_index=True)\n",
      "/var/folders/dn/j0_7h7gx2sq58_nt9816ss480000gn/T/ipykernel_6547/4250457866.py:74: FutureWarning: The frame.append method is deprecated and will be removed from pandas in a future version. Use pandas.concat instead.\n",
      "  feature_pd = feature_pd.append(pd.DataFrame(saving, index=feature).transpose(), ignore_index=True)\n",
      "/var/folders/dn/j0_7h7gx2sq58_nt9816ss480000gn/T/ipykernel_6547/4250457866.py:74: FutureWarning: The frame.append method is deprecated and will be removed from pandas in a future version. Use pandas.concat instead.\n",
      "  feature_pd = feature_pd.append(pd.DataFrame(saving, index=feature).transpose(), ignore_index=True)\n"
     ]
    },
    {
     "name": "stdout",
     "output_type": "stream",
     "text": [
      "357\n",
      "358\n"
     ]
    },
    {
     "name": "stderr",
     "output_type": "stream",
     "text": [
      "/var/folders/dn/j0_7h7gx2sq58_nt9816ss480000gn/T/ipykernel_6547/4250457866.py:74: FutureWarning: The frame.append method is deprecated and will be removed from pandas in a future version. Use pandas.concat instead.\n",
      "  feature_pd = feature_pd.append(pd.DataFrame(saving, index=feature).transpose(), ignore_index=True)\n",
      "/var/folders/dn/j0_7h7gx2sq58_nt9816ss480000gn/T/ipykernel_6547/4250457866.py:74: FutureWarning: The frame.append method is deprecated and will be removed from pandas in a future version. Use pandas.concat instead.\n",
      "  feature_pd = feature_pd.append(pd.DataFrame(saving, index=feature).transpose(), ignore_index=True)\n"
     ]
    },
    {
     "name": "stdout",
     "output_type": "stream",
     "text": [
      "359\n",
      "360\n",
      "361\n",
      "362\n"
     ]
    },
    {
     "name": "stderr",
     "output_type": "stream",
     "text": [
      "/var/folders/dn/j0_7h7gx2sq58_nt9816ss480000gn/T/ipykernel_6547/4250457866.py:74: FutureWarning: The frame.append method is deprecated and will be removed from pandas in a future version. Use pandas.concat instead.\n",
      "  feature_pd = feature_pd.append(pd.DataFrame(saving, index=feature).transpose(), ignore_index=True)\n",
      "/var/folders/dn/j0_7h7gx2sq58_nt9816ss480000gn/T/ipykernel_6547/4250457866.py:74: FutureWarning: The frame.append method is deprecated and will be removed from pandas in a future version. Use pandas.concat instead.\n",
      "  feature_pd = feature_pd.append(pd.DataFrame(saving, index=feature).transpose(), ignore_index=True)\n",
      "/var/folders/dn/j0_7h7gx2sq58_nt9816ss480000gn/T/ipykernel_6547/4250457866.py:74: FutureWarning: The frame.append method is deprecated and will be removed from pandas in a future version. Use pandas.concat instead.\n",
      "  feature_pd = feature_pd.append(pd.DataFrame(saving, index=feature).transpose(), ignore_index=True)\n",
      "/var/folders/dn/j0_7h7gx2sq58_nt9816ss480000gn/T/ipykernel_6547/4250457866.py:74: FutureWarning: The frame.append method is deprecated and will be removed from pandas in a future version. Use pandas.concat instead.\n",
      "  feature_pd = feature_pd.append(pd.DataFrame(saving, index=feature).transpose(), ignore_index=True)\n"
     ]
    },
    {
     "name": "stdout",
     "output_type": "stream",
     "text": [
      "363\n",
      "364\n",
      "365\n"
     ]
    },
    {
     "name": "stderr",
     "output_type": "stream",
     "text": [
      "/var/folders/dn/j0_7h7gx2sq58_nt9816ss480000gn/T/ipykernel_6547/4250457866.py:74: FutureWarning: The frame.append method is deprecated and will be removed from pandas in a future version. Use pandas.concat instead.\n",
      "  feature_pd = feature_pd.append(pd.DataFrame(saving, index=feature).transpose(), ignore_index=True)\n",
      "/var/folders/dn/j0_7h7gx2sq58_nt9816ss480000gn/T/ipykernel_6547/4250457866.py:74: FutureWarning: The frame.append method is deprecated and will be removed from pandas in a future version. Use pandas.concat instead.\n",
      "  feature_pd = feature_pd.append(pd.DataFrame(saving, index=feature).transpose(), ignore_index=True)\n",
      "/var/folders/dn/j0_7h7gx2sq58_nt9816ss480000gn/T/ipykernel_6547/4250457866.py:74: FutureWarning: The frame.append method is deprecated and will be removed from pandas in a future version. Use pandas.concat instead.\n",
      "  feature_pd = feature_pd.append(pd.DataFrame(saving, index=feature).transpose(), ignore_index=True)\n"
     ]
    },
    {
     "name": "stdout",
     "output_type": "stream",
     "text": [
      "366\n",
      "367\n",
      "368\n",
      "369\n"
     ]
    },
    {
     "name": "stderr",
     "output_type": "stream",
     "text": [
      "/var/folders/dn/j0_7h7gx2sq58_nt9816ss480000gn/T/ipykernel_6547/4250457866.py:74: FutureWarning: The frame.append method is deprecated and will be removed from pandas in a future version. Use pandas.concat instead.\n",
      "  feature_pd = feature_pd.append(pd.DataFrame(saving, index=feature).transpose(), ignore_index=True)\n",
      "/var/folders/dn/j0_7h7gx2sq58_nt9816ss480000gn/T/ipykernel_6547/4250457866.py:74: FutureWarning: The frame.append method is deprecated and will be removed from pandas in a future version. Use pandas.concat instead.\n",
      "  feature_pd = feature_pd.append(pd.DataFrame(saving, index=feature).transpose(), ignore_index=True)\n",
      "/var/folders/dn/j0_7h7gx2sq58_nt9816ss480000gn/T/ipykernel_6547/4250457866.py:74: FutureWarning: The frame.append method is deprecated and will be removed from pandas in a future version. Use pandas.concat instead.\n",
      "  feature_pd = feature_pd.append(pd.DataFrame(saving, index=feature).transpose(), ignore_index=True)\n",
      "/var/folders/dn/j0_7h7gx2sq58_nt9816ss480000gn/T/ipykernel_6547/4250457866.py:74: FutureWarning: The frame.append method is deprecated and will be removed from pandas in a future version. Use pandas.concat instead.\n",
      "  feature_pd = feature_pd.append(pd.DataFrame(saving, index=feature).transpose(), ignore_index=True)\n"
     ]
    },
    {
     "name": "stdout",
     "output_type": "stream",
     "text": [
      "370\n",
      "371\n",
      "372\n",
      "373\n"
     ]
    },
    {
     "name": "stderr",
     "output_type": "stream",
     "text": [
      "/var/folders/dn/j0_7h7gx2sq58_nt9816ss480000gn/T/ipykernel_6547/4250457866.py:74: FutureWarning: The frame.append method is deprecated and will be removed from pandas in a future version. Use pandas.concat instead.\n",
      "  feature_pd = feature_pd.append(pd.DataFrame(saving, index=feature).transpose(), ignore_index=True)\n",
      "/var/folders/dn/j0_7h7gx2sq58_nt9816ss480000gn/T/ipykernel_6547/4250457866.py:74: FutureWarning: The frame.append method is deprecated and will be removed from pandas in a future version. Use pandas.concat instead.\n",
      "  feature_pd = feature_pd.append(pd.DataFrame(saving, index=feature).transpose(), ignore_index=True)\n",
      "/var/folders/dn/j0_7h7gx2sq58_nt9816ss480000gn/T/ipykernel_6547/4250457866.py:74: FutureWarning: The frame.append method is deprecated and will be removed from pandas in a future version. Use pandas.concat instead.\n",
      "  feature_pd = feature_pd.append(pd.DataFrame(saving, index=feature).transpose(), ignore_index=True)\n",
      "/var/folders/dn/j0_7h7gx2sq58_nt9816ss480000gn/T/ipykernel_6547/4250457866.py:74: FutureWarning: The frame.append method is deprecated and will be removed from pandas in a future version. Use pandas.concat instead.\n",
      "  feature_pd = feature_pd.append(pd.DataFrame(saving, index=feature).transpose(), ignore_index=True)\n"
     ]
    },
    {
     "name": "stdout",
     "output_type": "stream",
     "text": [
      "374\n",
      "375\n",
      "376\n"
     ]
    },
    {
     "name": "stderr",
     "output_type": "stream",
     "text": [
      "/var/folders/dn/j0_7h7gx2sq58_nt9816ss480000gn/T/ipykernel_6547/4250457866.py:74: FutureWarning: The frame.append method is deprecated and will be removed from pandas in a future version. Use pandas.concat instead.\n",
      "  feature_pd = feature_pd.append(pd.DataFrame(saving, index=feature).transpose(), ignore_index=True)\n",
      "/var/folders/dn/j0_7h7gx2sq58_nt9816ss480000gn/T/ipykernel_6547/4250457866.py:74: FutureWarning: The frame.append method is deprecated and will be removed from pandas in a future version. Use pandas.concat instead.\n",
      "  feature_pd = feature_pd.append(pd.DataFrame(saving, index=feature).transpose(), ignore_index=True)\n",
      "/var/folders/dn/j0_7h7gx2sq58_nt9816ss480000gn/T/ipykernel_6547/4250457866.py:74: FutureWarning: The frame.append method is deprecated and will be removed from pandas in a future version. Use pandas.concat instead.\n",
      "  feature_pd = feature_pd.append(pd.DataFrame(saving, index=feature).transpose(), ignore_index=True)\n"
     ]
    },
    {
     "name": "stdout",
     "output_type": "stream",
     "text": [
      "377\n",
      "378\n",
      "379\n"
     ]
    },
    {
     "name": "stderr",
     "output_type": "stream",
     "text": [
      "/var/folders/dn/j0_7h7gx2sq58_nt9816ss480000gn/T/ipykernel_6547/4250457866.py:74: FutureWarning: The frame.append method is deprecated and will be removed from pandas in a future version. Use pandas.concat instead.\n",
      "  feature_pd = feature_pd.append(pd.DataFrame(saving, index=feature).transpose(), ignore_index=True)\n",
      "/var/folders/dn/j0_7h7gx2sq58_nt9816ss480000gn/T/ipykernel_6547/4250457866.py:74: FutureWarning: The frame.append method is deprecated and will be removed from pandas in a future version. Use pandas.concat instead.\n",
      "  feature_pd = feature_pd.append(pd.DataFrame(saving, index=feature).transpose(), ignore_index=True)\n",
      "/var/folders/dn/j0_7h7gx2sq58_nt9816ss480000gn/T/ipykernel_6547/4250457866.py:74: FutureWarning: The frame.append method is deprecated and will be removed from pandas in a future version. Use pandas.concat instead.\n",
      "  feature_pd = feature_pd.append(pd.DataFrame(saving, index=feature).transpose(), ignore_index=True)\n",
      "/var/folders/dn/j0_7h7gx2sq58_nt9816ss480000gn/T/ipykernel_6547/4250457866.py:74: FutureWarning: The frame.append method is deprecated and will be removed from pandas in a future version. Use pandas.concat instead.\n",
      "  feature_pd = feature_pd.append(pd.DataFrame(saving, index=feature).transpose(), ignore_index=True)\n"
     ]
    },
    {
     "name": "stdout",
     "output_type": "stream",
     "text": [
      "380\n",
      "381\n"
     ]
    },
    {
     "name": "stderr",
     "output_type": "stream",
     "text": [
      "/var/folders/dn/j0_7h7gx2sq58_nt9816ss480000gn/T/ipykernel_6547/4250457866.py:74: FutureWarning: The frame.append method is deprecated and will be removed from pandas in a future version. Use pandas.concat instead.\n",
      "  feature_pd = feature_pd.append(pd.DataFrame(saving, index=feature).transpose(), ignore_index=True)\n",
      "/var/folders/dn/j0_7h7gx2sq58_nt9816ss480000gn/T/ipykernel_6547/4250457866.py:74: FutureWarning: The frame.append method is deprecated and will be removed from pandas in a future version. Use pandas.concat instead.\n",
      "  feature_pd = feature_pd.append(pd.DataFrame(saving, index=feature).transpose(), ignore_index=True)\n",
      "/var/folders/dn/j0_7h7gx2sq58_nt9816ss480000gn/T/ipykernel_6547/4250457866.py:74: FutureWarning: The frame.append method is deprecated and will be removed from pandas in a future version. Use pandas.concat instead.\n",
      "  feature_pd = feature_pd.append(pd.DataFrame(saving, index=feature).transpose(), ignore_index=True)\n"
     ]
    },
    {
     "name": "stdout",
     "output_type": "stream",
     "text": [
      "382\n",
      "383\n",
      "384\n"
     ]
    },
    {
     "name": "stderr",
     "output_type": "stream",
     "text": [
      "/var/folders/dn/j0_7h7gx2sq58_nt9816ss480000gn/T/ipykernel_6547/4250457866.py:74: FutureWarning: The frame.append method is deprecated and will be removed from pandas in a future version. Use pandas.concat instead.\n",
      "  feature_pd = feature_pd.append(pd.DataFrame(saving, index=feature).transpose(), ignore_index=True)\n"
     ]
    },
    {
     "name": "stdout",
     "output_type": "stream",
     "text": [
      "385\n",
      "386\n",
      "387\n",
      "388\n"
     ]
    },
    {
     "name": "stderr",
     "output_type": "stream",
     "text": [
      "/var/folders/dn/j0_7h7gx2sq58_nt9816ss480000gn/T/ipykernel_6547/4250457866.py:74: FutureWarning: The frame.append method is deprecated and will be removed from pandas in a future version. Use pandas.concat instead.\n",
      "  feature_pd = feature_pd.append(pd.DataFrame(saving, index=feature).transpose(), ignore_index=True)\n",
      "/var/folders/dn/j0_7h7gx2sq58_nt9816ss480000gn/T/ipykernel_6547/4250457866.py:74: FutureWarning: The frame.append method is deprecated and will be removed from pandas in a future version. Use pandas.concat instead.\n",
      "  feature_pd = feature_pd.append(pd.DataFrame(saving, index=feature).transpose(), ignore_index=True)\n",
      "/var/folders/dn/j0_7h7gx2sq58_nt9816ss480000gn/T/ipykernel_6547/4250457866.py:74: FutureWarning: The frame.append method is deprecated and will be removed from pandas in a future version. Use pandas.concat instead.\n",
      "  feature_pd = feature_pd.append(pd.DataFrame(saving, index=feature).transpose(), ignore_index=True)\n",
      "/var/folders/dn/j0_7h7gx2sq58_nt9816ss480000gn/T/ipykernel_6547/4250457866.py:74: FutureWarning: The frame.append method is deprecated and will be removed from pandas in a future version. Use pandas.concat instead.\n",
      "  feature_pd = feature_pd.append(pd.DataFrame(saving, index=feature).transpose(), ignore_index=True)\n"
     ]
    },
    {
     "name": "stdout",
     "output_type": "stream",
     "text": [
      "389\n",
      "390\n",
      "391\n"
     ]
    },
    {
     "name": "stderr",
     "output_type": "stream",
     "text": [
      "/var/folders/dn/j0_7h7gx2sq58_nt9816ss480000gn/T/ipykernel_6547/4250457866.py:74: FutureWarning: The frame.append method is deprecated and will be removed from pandas in a future version. Use pandas.concat instead.\n",
      "  feature_pd = feature_pd.append(pd.DataFrame(saving, index=feature).transpose(), ignore_index=True)\n",
      "/var/folders/dn/j0_7h7gx2sq58_nt9816ss480000gn/T/ipykernel_6547/4250457866.py:74: FutureWarning: The frame.append method is deprecated and will be removed from pandas in a future version. Use pandas.concat instead.\n",
      "  feature_pd = feature_pd.append(pd.DataFrame(saving, index=feature).transpose(), ignore_index=True)\n",
      "/var/folders/dn/j0_7h7gx2sq58_nt9816ss480000gn/T/ipykernel_6547/4250457866.py:74: FutureWarning: The frame.append method is deprecated and will be removed from pandas in a future version. Use pandas.concat instead.\n",
      "  feature_pd = feature_pd.append(pd.DataFrame(saving, index=feature).transpose(), ignore_index=True)\n"
     ]
    },
    {
     "name": "stdout",
     "output_type": "stream",
     "text": [
      "392\n",
      "393\n",
      "394\n"
     ]
    },
    {
     "name": "stderr",
     "output_type": "stream",
     "text": [
      "/var/folders/dn/j0_7h7gx2sq58_nt9816ss480000gn/T/ipykernel_6547/4250457866.py:74: FutureWarning: The frame.append method is deprecated and will be removed from pandas in a future version. Use pandas.concat instead.\n",
      "  feature_pd = feature_pd.append(pd.DataFrame(saving, index=feature).transpose(), ignore_index=True)\n",
      "/var/folders/dn/j0_7h7gx2sq58_nt9816ss480000gn/T/ipykernel_6547/4250457866.py:74: FutureWarning: The frame.append method is deprecated and will be removed from pandas in a future version. Use pandas.concat instead.\n",
      "  feature_pd = feature_pd.append(pd.DataFrame(saving, index=feature).transpose(), ignore_index=True)\n",
      "/var/folders/dn/j0_7h7gx2sq58_nt9816ss480000gn/T/ipykernel_6547/4250457866.py:74: FutureWarning: The frame.append method is deprecated and will be removed from pandas in a future version. Use pandas.concat instead.\n",
      "  feature_pd = feature_pd.append(pd.DataFrame(saving, index=feature).transpose(), ignore_index=True)\n"
     ]
    },
    {
     "name": "stdout",
     "output_type": "stream",
     "text": [
      "395\n",
      "396\n",
      "397\n"
     ]
    },
    {
     "name": "stderr",
     "output_type": "stream",
     "text": [
      "/var/folders/dn/j0_7h7gx2sq58_nt9816ss480000gn/T/ipykernel_6547/4250457866.py:74: FutureWarning: The frame.append method is deprecated and will be removed from pandas in a future version. Use pandas.concat instead.\n",
      "  feature_pd = feature_pd.append(pd.DataFrame(saving, index=feature).transpose(), ignore_index=True)\n",
      "/var/folders/dn/j0_7h7gx2sq58_nt9816ss480000gn/T/ipykernel_6547/4250457866.py:74: FutureWarning: The frame.append method is deprecated and will be removed from pandas in a future version. Use pandas.concat instead.\n",
      "  feature_pd = feature_pd.append(pd.DataFrame(saving, index=feature).transpose(), ignore_index=True)\n",
      "/var/folders/dn/j0_7h7gx2sq58_nt9816ss480000gn/T/ipykernel_6547/4250457866.py:74: FutureWarning: The frame.append method is deprecated and will be removed from pandas in a future version. Use pandas.concat instead.\n",
      "  feature_pd = feature_pd.append(pd.DataFrame(saving, index=feature).transpose(), ignore_index=True)\n"
     ]
    },
    {
     "name": "stdout",
     "output_type": "stream",
     "text": [
      "398\n",
      "399\n",
      "400\n"
     ]
    },
    {
     "name": "stderr",
     "output_type": "stream",
     "text": [
      "/var/folders/dn/j0_7h7gx2sq58_nt9816ss480000gn/T/ipykernel_6547/4250457866.py:74: FutureWarning: The frame.append method is deprecated and will be removed from pandas in a future version. Use pandas.concat instead.\n",
      "  feature_pd = feature_pd.append(pd.DataFrame(saving, index=feature).transpose(), ignore_index=True)\n",
      "/var/folders/dn/j0_7h7gx2sq58_nt9816ss480000gn/T/ipykernel_6547/4250457866.py:74: FutureWarning: The frame.append method is deprecated and will be removed from pandas in a future version. Use pandas.concat instead.\n",
      "  feature_pd = feature_pd.append(pd.DataFrame(saving, index=feature).transpose(), ignore_index=True)\n",
      "/var/folders/dn/j0_7h7gx2sq58_nt9816ss480000gn/T/ipykernel_6547/4250457866.py:74: FutureWarning: The frame.append method is deprecated and will be removed from pandas in a future version. Use pandas.concat instead.\n",
      "  feature_pd = feature_pd.append(pd.DataFrame(saving, index=feature).transpose(), ignore_index=True)\n"
     ]
    },
    {
     "name": "stdout",
     "output_type": "stream",
     "text": [
      "401\n",
      "402\n",
      "403\n",
      "404\n"
     ]
    },
    {
     "name": "stderr",
     "output_type": "stream",
     "text": [
      "/var/folders/dn/j0_7h7gx2sq58_nt9816ss480000gn/T/ipykernel_6547/4250457866.py:74: FutureWarning: The frame.append method is deprecated and will be removed from pandas in a future version. Use pandas.concat instead.\n",
      "  feature_pd = feature_pd.append(pd.DataFrame(saving, index=feature).transpose(), ignore_index=True)\n",
      "/var/folders/dn/j0_7h7gx2sq58_nt9816ss480000gn/T/ipykernel_6547/4250457866.py:74: FutureWarning: The frame.append method is deprecated and will be removed from pandas in a future version. Use pandas.concat instead.\n",
      "  feature_pd = feature_pd.append(pd.DataFrame(saving, index=feature).transpose(), ignore_index=True)\n",
      "/var/folders/dn/j0_7h7gx2sq58_nt9816ss480000gn/T/ipykernel_6547/4250457866.py:74: FutureWarning: The frame.append method is deprecated and will be removed from pandas in a future version. Use pandas.concat instead.\n",
      "  feature_pd = feature_pd.append(pd.DataFrame(saving, index=feature).transpose(), ignore_index=True)\n",
      "/var/folders/dn/j0_7h7gx2sq58_nt9816ss480000gn/T/ipykernel_6547/4250457866.py:74: FutureWarning: The frame.append method is deprecated and will be removed from pandas in a future version. Use pandas.concat instead.\n",
      "  feature_pd = feature_pd.append(pd.DataFrame(saving, index=feature).transpose(), ignore_index=True)\n"
     ]
    },
    {
     "name": "stdout",
     "output_type": "stream",
     "text": [
      "405\n",
      "406\n"
     ]
    },
    {
     "name": "stderr",
     "output_type": "stream",
     "text": [
      "/var/folders/dn/j0_7h7gx2sq58_nt9816ss480000gn/T/ipykernel_6547/4250457866.py:74: FutureWarning: The frame.append method is deprecated and will be removed from pandas in a future version. Use pandas.concat instead.\n",
      "  feature_pd = feature_pd.append(pd.DataFrame(saving, index=feature).transpose(), ignore_index=True)\n",
      "/var/folders/dn/j0_7h7gx2sq58_nt9816ss480000gn/T/ipykernel_6547/4250457866.py:74: FutureWarning: The frame.append method is deprecated and will be removed from pandas in a future version. Use pandas.concat instead.\n",
      "  feature_pd = feature_pd.append(pd.DataFrame(saving, index=feature).transpose(), ignore_index=True)\n"
     ]
    },
    {
     "name": "stdout",
     "output_type": "stream",
     "text": [
      "407\n",
      "408\n"
     ]
    },
    {
     "name": "stderr",
     "output_type": "stream",
     "text": [
      "/var/folders/dn/j0_7h7gx2sq58_nt9816ss480000gn/T/ipykernel_6547/4250457866.py:74: FutureWarning: The frame.append method is deprecated and will be removed from pandas in a future version. Use pandas.concat instead.\n",
      "  feature_pd = feature_pd.append(pd.DataFrame(saving, index=feature).transpose(), ignore_index=True)\n",
      "/var/folders/dn/j0_7h7gx2sq58_nt9816ss480000gn/T/ipykernel_6547/4250457866.py:74: FutureWarning: The frame.append method is deprecated and will be removed from pandas in a future version. Use pandas.concat instead.\n",
      "  feature_pd = feature_pd.append(pd.DataFrame(saving, index=feature).transpose(), ignore_index=True)\n"
     ]
    },
    {
     "name": "stdout",
     "output_type": "stream",
     "text": [
      "409\n",
      "410\n"
     ]
    },
    {
     "name": "stderr",
     "output_type": "stream",
     "text": [
      "/var/folders/dn/j0_7h7gx2sq58_nt9816ss480000gn/T/ipykernel_6547/4250457866.py:74: FutureWarning: The frame.append method is deprecated and will be removed from pandas in a future version. Use pandas.concat instead.\n",
      "  feature_pd = feature_pd.append(pd.DataFrame(saving, index=feature).transpose(), ignore_index=True)\n",
      "/var/folders/dn/j0_7h7gx2sq58_nt9816ss480000gn/T/ipykernel_6547/4250457866.py:74: FutureWarning: The frame.append method is deprecated and will be removed from pandas in a future version. Use pandas.concat instead.\n",
      "  feature_pd = feature_pd.append(pd.DataFrame(saving, index=feature).transpose(), ignore_index=True)\n"
     ]
    },
    {
     "name": "stdout",
     "output_type": "stream",
     "text": [
      "411\n",
      "412\n"
     ]
    },
    {
     "name": "stderr",
     "output_type": "stream",
     "text": [
      "/var/folders/dn/j0_7h7gx2sq58_nt9816ss480000gn/T/ipykernel_6547/4250457866.py:74: FutureWarning: The frame.append method is deprecated and will be removed from pandas in a future version. Use pandas.concat instead.\n",
      "  feature_pd = feature_pd.append(pd.DataFrame(saving, index=feature).transpose(), ignore_index=True)\n",
      "/var/folders/dn/j0_7h7gx2sq58_nt9816ss480000gn/T/ipykernel_6547/4250457866.py:74: FutureWarning: The frame.append method is deprecated and will be removed from pandas in a future version. Use pandas.concat instead.\n",
      "  feature_pd = feature_pd.append(pd.DataFrame(saving, index=feature).transpose(), ignore_index=True)\n"
     ]
    },
    {
     "name": "stdout",
     "output_type": "stream",
     "text": [
      "413\n",
      "414\n"
     ]
    },
    {
     "name": "stderr",
     "output_type": "stream",
     "text": [
      "/var/folders/dn/j0_7h7gx2sq58_nt9816ss480000gn/T/ipykernel_6547/4250457866.py:74: FutureWarning: The frame.append method is deprecated and will be removed from pandas in a future version. Use pandas.concat instead.\n",
      "  feature_pd = feature_pd.append(pd.DataFrame(saving, index=feature).transpose(), ignore_index=True)\n",
      "/var/folders/dn/j0_7h7gx2sq58_nt9816ss480000gn/T/ipykernel_6547/4250457866.py:74: FutureWarning: The frame.append method is deprecated and will be removed from pandas in a future version. Use pandas.concat instead.\n",
      "  feature_pd = feature_pd.append(pd.DataFrame(saving, index=feature).transpose(), ignore_index=True)\n"
     ]
    },
    {
     "name": "stdout",
     "output_type": "stream",
     "text": [
      "415\n",
      "416\n",
      "417\n"
     ]
    },
    {
     "name": "stderr",
     "output_type": "stream",
     "text": [
      "/var/folders/dn/j0_7h7gx2sq58_nt9816ss480000gn/T/ipykernel_6547/4250457866.py:74: FutureWarning: The frame.append method is deprecated and will be removed from pandas in a future version. Use pandas.concat instead.\n",
      "  feature_pd = feature_pd.append(pd.DataFrame(saving, index=feature).transpose(), ignore_index=True)\n",
      "/var/folders/dn/j0_7h7gx2sq58_nt9816ss480000gn/T/ipykernel_6547/4250457866.py:74: FutureWarning: The frame.append method is deprecated and will be removed from pandas in a future version. Use pandas.concat instead.\n",
      "  feature_pd = feature_pd.append(pd.DataFrame(saving, index=feature).transpose(), ignore_index=True)\n",
      "/var/folders/dn/j0_7h7gx2sq58_nt9816ss480000gn/T/ipykernel_6547/4250457866.py:74: FutureWarning: The frame.append method is deprecated and will be removed from pandas in a future version. Use pandas.concat instead.\n",
      "  feature_pd = feature_pd.append(pd.DataFrame(saving, index=feature).transpose(), ignore_index=True)\n"
     ]
    },
    {
     "name": "stdout",
     "output_type": "stream",
     "text": [
      "418\n",
      "419\n",
      "420\n"
     ]
    },
    {
     "name": "stderr",
     "output_type": "stream",
     "text": [
      "/var/folders/dn/j0_7h7gx2sq58_nt9816ss480000gn/T/ipykernel_6547/4250457866.py:74: FutureWarning: The frame.append method is deprecated and will be removed from pandas in a future version. Use pandas.concat instead.\n",
      "  feature_pd = feature_pd.append(pd.DataFrame(saving, index=feature).transpose(), ignore_index=True)\n",
      "/var/folders/dn/j0_7h7gx2sq58_nt9816ss480000gn/T/ipykernel_6547/4250457866.py:74: FutureWarning: The frame.append method is deprecated and will be removed from pandas in a future version. Use pandas.concat instead.\n",
      "  feature_pd = feature_pd.append(pd.DataFrame(saving, index=feature).transpose(), ignore_index=True)\n",
      "/var/folders/dn/j0_7h7gx2sq58_nt9816ss480000gn/T/ipykernel_6547/4250457866.py:74: FutureWarning: The frame.append method is deprecated and will be removed from pandas in a future version. Use pandas.concat instead.\n",
      "  feature_pd = feature_pd.append(pd.DataFrame(saving, index=feature).transpose(), ignore_index=True)\n"
     ]
    },
    {
     "name": "stdout",
     "output_type": "stream",
     "text": [
      "421\n",
      "422\n",
      "423\n"
     ]
    },
    {
     "name": "stderr",
     "output_type": "stream",
     "text": [
      "/var/folders/dn/j0_7h7gx2sq58_nt9816ss480000gn/T/ipykernel_6547/4250457866.py:74: FutureWarning: The frame.append method is deprecated and will be removed from pandas in a future version. Use pandas.concat instead.\n",
      "  feature_pd = feature_pd.append(pd.DataFrame(saving, index=feature).transpose(), ignore_index=True)\n",
      "/var/folders/dn/j0_7h7gx2sq58_nt9816ss480000gn/T/ipykernel_6547/4250457866.py:74: FutureWarning: The frame.append method is deprecated and will be removed from pandas in a future version. Use pandas.concat instead.\n",
      "  feature_pd = feature_pd.append(pd.DataFrame(saving, index=feature).transpose(), ignore_index=True)\n",
      "/var/folders/dn/j0_7h7gx2sq58_nt9816ss480000gn/T/ipykernel_6547/4250457866.py:74: FutureWarning: The frame.append method is deprecated and will be removed from pandas in a future version. Use pandas.concat instead.\n",
      "  feature_pd = feature_pd.append(pd.DataFrame(saving, index=feature).transpose(), ignore_index=True)\n"
     ]
    },
    {
     "name": "stdout",
     "output_type": "stream",
     "text": [
      "424\n",
      "425\n",
      "426\n"
     ]
    },
    {
     "name": "stderr",
     "output_type": "stream",
     "text": [
      "/var/folders/dn/j0_7h7gx2sq58_nt9816ss480000gn/T/ipykernel_6547/4250457866.py:74: FutureWarning: The frame.append method is deprecated and will be removed from pandas in a future version. Use pandas.concat instead.\n",
      "  feature_pd = feature_pd.append(pd.DataFrame(saving, index=feature).transpose(), ignore_index=True)\n",
      "/var/folders/dn/j0_7h7gx2sq58_nt9816ss480000gn/T/ipykernel_6547/4250457866.py:74: FutureWarning: The frame.append method is deprecated and will be removed from pandas in a future version. Use pandas.concat instead.\n",
      "  feature_pd = feature_pd.append(pd.DataFrame(saving, index=feature).transpose(), ignore_index=True)\n",
      "/var/folders/dn/j0_7h7gx2sq58_nt9816ss480000gn/T/ipykernel_6547/4250457866.py:74: FutureWarning: The frame.append method is deprecated and will be removed from pandas in a future version. Use pandas.concat instead.\n",
      "  feature_pd = feature_pd.append(pd.DataFrame(saving, index=feature).transpose(), ignore_index=True)\n"
     ]
    },
    {
     "name": "stdout",
     "output_type": "stream",
     "text": [
      "427\n",
      "428\n",
      "429\n",
      "430\n"
     ]
    },
    {
     "name": "stderr",
     "output_type": "stream",
     "text": [
      "/var/folders/dn/j0_7h7gx2sq58_nt9816ss480000gn/T/ipykernel_6547/4250457866.py:74: FutureWarning: The frame.append method is deprecated and will be removed from pandas in a future version. Use pandas.concat instead.\n",
      "  feature_pd = feature_pd.append(pd.DataFrame(saving, index=feature).transpose(), ignore_index=True)\n",
      "/var/folders/dn/j0_7h7gx2sq58_nt9816ss480000gn/T/ipykernel_6547/4250457866.py:74: FutureWarning: The frame.append method is deprecated and will be removed from pandas in a future version. Use pandas.concat instead.\n",
      "  feature_pd = feature_pd.append(pd.DataFrame(saving, index=feature).transpose(), ignore_index=True)\n",
      "/var/folders/dn/j0_7h7gx2sq58_nt9816ss480000gn/T/ipykernel_6547/4250457866.py:74: FutureWarning: The frame.append method is deprecated and will be removed from pandas in a future version. Use pandas.concat instead.\n",
      "  feature_pd = feature_pd.append(pd.DataFrame(saving, index=feature).transpose(), ignore_index=True)\n",
      "/var/folders/dn/j0_7h7gx2sq58_nt9816ss480000gn/T/ipykernel_6547/4250457866.py:74: FutureWarning: The frame.append method is deprecated and will be removed from pandas in a future version. Use pandas.concat instead.\n",
      "  feature_pd = feature_pd.append(pd.DataFrame(saving, index=feature).transpose(), ignore_index=True)\n"
     ]
    },
    {
     "name": "stdout",
     "output_type": "stream",
     "text": [
      "431\n",
      "432\n",
      "433\n"
     ]
    },
    {
     "name": "stderr",
     "output_type": "stream",
     "text": [
      "/var/folders/dn/j0_7h7gx2sq58_nt9816ss480000gn/T/ipykernel_6547/4250457866.py:74: FutureWarning: The frame.append method is deprecated and will be removed from pandas in a future version. Use pandas.concat instead.\n",
      "  feature_pd = feature_pd.append(pd.DataFrame(saving, index=feature).transpose(), ignore_index=True)\n",
      "/var/folders/dn/j0_7h7gx2sq58_nt9816ss480000gn/T/ipykernel_6547/4250457866.py:74: FutureWarning: The frame.append method is deprecated and will be removed from pandas in a future version. Use pandas.concat instead.\n",
      "  feature_pd = feature_pd.append(pd.DataFrame(saving, index=feature).transpose(), ignore_index=True)\n",
      "/var/folders/dn/j0_7h7gx2sq58_nt9816ss480000gn/T/ipykernel_6547/4250457866.py:74: FutureWarning: The frame.append method is deprecated and will be removed from pandas in a future version. Use pandas.concat instead.\n",
      "  feature_pd = feature_pd.append(pd.DataFrame(saving, index=feature).transpose(), ignore_index=True)\n"
     ]
    },
    {
     "name": "stdout",
     "output_type": "stream",
     "text": [
      "434\n",
      "435\n",
      "436\n",
      "437\n"
     ]
    },
    {
     "name": "stderr",
     "output_type": "stream",
     "text": [
      "/var/folders/dn/j0_7h7gx2sq58_nt9816ss480000gn/T/ipykernel_6547/4250457866.py:74: FutureWarning: The frame.append method is deprecated and will be removed from pandas in a future version. Use pandas.concat instead.\n",
      "  feature_pd = feature_pd.append(pd.DataFrame(saving, index=feature).transpose(), ignore_index=True)\n",
      "/var/folders/dn/j0_7h7gx2sq58_nt9816ss480000gn/T/ipykernel_6547/4250457866.py:74: FutureWarning: The frame.append method is deprecated and will be removed from pandas in a future version. Use pandas.concat instead.\n",
      "  feature_pd = feature_pd.append(pd.DataFrame(saving, index=feature).transpose(), ignore_index=True)\n",
      "/var/folders/dn/j0_7h7gx2sq58_nt9816ss480000gn/T/ipykernel_6547/4250457866.py:74: FutureWarning: The frame.append method is deprecated and will be removed from pandas in a future version. Use pandas.concat instead.\n",
      "  feature_pd = feature_pd.append(pd.DataFrame(saving, index=feature).transpose(), ignore_index=True)\n",
      "/var/folders/dn/j0_7h7gx2sq58_nt9816ss480000gn/T/ipykernel_6547/4250457866.py:74: FutureWarning: The frame.append method is deprecated and will be removed from pandas in a future version. Use pandas.concat instead.\n",
      "  feature_pd = feature_pd.append(pd.DataFrame(saving, index=feature).transpose(), ignore_index=True)\n"
     ]
    },
    {
     "name": "stdout",
     "output_type": "stream",
     "text": [
      "438\n",
      "439\n",
      "440\n",
      "441\n"
     ]
    },
    {
     "name": "stderr",
     "output_type": "stream",
     "text": [
      "/var/folders/dn/j0_7h7gx2sq58_nt9816ss480000gn/T/ipykernel_6547/4250457866.py:74: FutureWarning: The frame.append method is deprecated and will be removed from pandas in a future version. Use pandas.concat instead.\n",
      "  feature_pd = feature_pd.append(pd.DataFrame(saving, index=feature).transpose(), ignore_index=True)\n",
      "/var/folders/dn/j0_7h7gx2sq58_nt9816ss480000gn/T/ipykernel_6547/4250457866.py:74: FutureWarning: The frame.append method is deprecated and will be removed from pandas in a future version. Use pandas.concat instead.\n",
      "  feature_pd = feature_pd.append(pd.DataFrame(saving, index=feature).transpose(), ignore_index=True)\n",
      "/var/folders/dn/j0_7h7gx2sq58_nt9816ss480000gn/T/ipykernel_6547/4250457866.py:74: FutureWarning: The frame.append method is deprecated and will be removed from pandas in a future version. Use pandas.concat instead.\n",
      "  feature_pd = feature_pd.append(pd.DataFrame(saving, index=feature).transpose(), ignore_index=True)\n",
      "/var/folders/dn/j0_7h7gx2sq58_nt9816ss480000gn/T/ipykernel_6547/4250457866.py:74: FutureWarning: The frame.append method is deprecated and will be removed from pandas in a future version. Use pandas.concat instead.\n",
      "  feature_pd = feature_pd.append(pd.DataFrame(saving, index=feature).transpose(), ignore_index=True)\n"
     ]
    },
    {
     "name": "stdout",
     "output_type": "stream",
     "text": [
      "442\n",
      "443\n",
      "444\n",
      "445\n",
      "446\n"
     ]
    },
    {
     "name": "stderr",
     "output_type": "stream",
     "text": [
      "/var/folders/dn/j0_7h7gx2sq58_nt9816ss480000gn/T/ipykernel_6547/4250457866.py:74: FutureWarning: The frame.append method is deprecated and will be removed from pandas in a future version. Use pandas.concat instead.\n",
      "  feature_pd = feature_pd.append(pd.DataFrame(saving, index=feature).transpose(), ignore_index=True)\n",
      "/var/folders/dn/j0_7h7gx2sq58_nt9816ss480000gn/T/ipykernel_6547/4250457866.py:74: FutureWarning: The frame.append method is deprecated and will be removed from pandas in a future version. Use pandas.concat instead.\n",
      "  feature_pd = feature_pd.append(pd.DataFrame(saving, index=feature).transpose(), ignore_index=True)\n",
      "/var/folders/dn/j0_7h7gx2sq58_nt9816ss480000gn/T/ipykernel_6547/4250457866.py:74: FutureWarning: The frame.append method is deprecated and will be removed from pandas in a future version. Use pandas.concat instead.\n",
      "  feature_pd = feature_pd.append(pd.DataFrame(saving, index=feature).transpose(), ignore_index=True)\n",
      "/var/folders/dn/j0_7h7gx2sq58_nt9816ss480000gn/T/ipykernel_6547/4250457866.py:74: FutureWarning: The frame.append method is deprecated and will be removed from pandas in a future version. Use pandas.concat instead.\n",
      "  feature_pd = feature_pd.append(pd.DataFrame(saving, index=feature).transpose(), ignore_index=True)\n",
      "/var/folders/dn/j0_7h7gx2sq58_nt9816ss480000gn/T/ipykernel_6547/4250457866.py:74: FutureWarning: The frame.append method is deprecated and will be removed from pandas in a future version. Use pandas.concat instead.\n",
      "  feature_pd = feature_pd.append(pd.DataFrame(saving, index=feature).transpose(), ignore_index=True)\n"
     ]
    },
    {
     "name": "stdout",
     "output_type": "stream",
     "text": [
      "447\n",
      "448\n",
      "449\n",
      "450\n"
     ]
    },
    {
     "name": "stderr",
     "output_type": "stream",
     "text": [
      "/var/folders/dn/j0_7h7gx2sq58_nt9816ss480000gn/T/ipykernel_6547/4250457866.py:74: FutureWarning: The frame.append method is deprecated and will be removed from pandas in a future version. Use pandas.concat instead.\n",
      "  feature_pd = feature_pd.append(pd.DataFrame(saving, index=feature).transpose(), ignore_index=True)\n",
      "/var/folders/dn/j0_7h7gx2sq58_nt9816ss480000gn/T/ipykernel_6547/4250457866.py:74: FutureWarning: The frame.append method is deprecated and will be removed from pandas in a future version. Use pandas.concat instead.\n",
      "  feature_pd = feature_pd.append(pd.DataFrame(saving, index=feature).transpose(), ignore_index=True)\n",
      "/var/folders/dn/j0_7h7gx2sq58_nt9816ss480000gn/T/ipykernel_6547/4250457866.py:74: FutureWarning: The frame.append method is deprecated and will be removed from pandas in a future version. Use pandas.concat instead.\n",
      "  feature_pd = feature_pd.append(pd.DataFrame(saving, index=feature).transpose(), ignore_index=True)\n",
      "/var/folders/dn/j0_7h7gx2sq58_nt9816ss480000gn/T/ipykernel_6547/4250457866.py:74: FutureWarning: The frame.append method is deprecated and will be removed from pandas in a future version. Use pandas.concat instead.\n",
      "  feature_pd = feature_pd.append(pd.DataFrame(saving, index=feature).transpose(), ignore_index=True)\n"
     ]
    },
    {
     "name": "stdout",
     "output_type": "stream",
     "text": [
      "451\n",
      "452\n",
      "453\n"
     ]
    },
    {
     "name": "stderr",
     "output_type": "stream",
     "text": [
      "/var/folders/dn/j0_7h7gx2sq58_nt9816ss480000gn/T/ipykernel_6547/4250457866.py:74: FutureWarning: The frame.append method is deprecated and will be removed from pandas in a future version. Use pandas.concat instead.\n",
      "  feature_pd = feature_pd.append(pd.DataFrame(saving, index=feature).transpose(), ignore_index=True)\n",
      "/var/folders/dn/j0_7h7gx2sq58_nt9816ss480000gn/T/ipykernel_6547/4250457866.py:74: FutureWarning: The frame.append method is deprecated and will be removed from pandas in a future version. Use pandas.concat instead.\n",
      "  feature_pd = feature_pd.append(pd.DataFrame(saving, index=feature).transpose(), ignore_index=True)\n",
      "/var/folders/dn/j0_7h7gx2sq58_nt9816ss480000gn/T/ipykernel_6547/4250457866.py:74: FutureWarning: The frame.append method is deprecated and will be removed from pandas in a future version. Use pandas.concat instead.\n",
      "  feature_pd = feature_pd.append(pd.DataFrame(saving, index=feature).transpose(), ignore_index=True)\n"
     ]
    },
    {
     "name": "stdout",
     "output_type": "stream",
     "text": [
      "454\n",
      "455\n",
      "456\n"
     ]
    },
    {
     "name": "stderr",
     "output_type": "stream",
     "text": [
      "/var/folders/dn/j0_7h7gx2sq58_nt9816ss480000gn/T/ipykernel_6547/4250457866.py:74: FutureWarning: The frame.append method is deprecated and will be removed from pandas in a future version. Use pandas.concat instead.\n",
      "  feature_pd = feature_pd.append(pd.DataFrame(saving, index=feature).transpose(), ignore_index=True)\n",
      "/var/folders/dn/j0_7h7gx2sq58_nt9816ss480000gn/T/ipykernel_6547/4250457866.py:74: FutureWarning: The frame.append method is deprecated and will be removed from pandas in a future version. Use pandas.concat instead.\n",
      "  feature_pd = feature_pd.append(pd.DataFrame(saving, index=feature).transpose(), ignore_index=True)\n",
      "/var/folders/dn/j0_7h7gx2sq58_nt9816ss480000gn/T/ipykernel_6547/4250457866.py:74: FutureWarning: The frame.append method is deprecated and will be removed from pandas in a future version. Use pandas.concat instead.\n",
      "  feature_pd = feature_pd.append(pd.DataFrame(saving, index=feature).transpose(), ignore_index=True)\n"
     ]
    },
    {
     "name": "stdout",
     "output_type": "stream",
     "text": [
      "457\n",
      "458\n",
      "459\n"
     ]
    },
    {
     "name": "stderr",
     "output_type": "stream",
     "text": [
      "/var/folders/dn/j0_7h7gx2sq58_nt9816ss480000gn/T/ipykernel_6547/4250457866.py:74: FutureWarning: The frame.append method is deprecated and will be removed from pandas in a future version. Use pandas.concat instead.\n",
      "  feature_pd = feature_pd.append(pd.DataFrame(saving, index=feature).transpose(), ignore_index=True)\n",
      "/var/folders/dn/j0_7h7gx2sq58_nt9816ss480000gn/T/ipykernel_6547/4250457866.py:74: FutureWarning: The frame.append method is deprecated and will be removed from pandas in a future version. Use pandas.concat instead.\n",
      "  feature_pd = feature_pd.append(pd.DataFrame(saving, index=feature).transpose(), ignore_index=True)\n",
      "/var/folders/dn/j0_7h7gx2sq58_nt9816ss480000gn/T/ipykernel_6547/4250457866.py:74: FutureWarning: The frame.append method is deprecated and will be removed from pandas in a future version. Use pandas.concat instead.\n",
      "  feature_pd = feature_pd.append(pd.DataFrame(saving, index=feature).transpose(), ignore_index=True)\n"
     ]
    },
    {
     "name": "stdout",
     "output_type": "stream",
     "text": [
      "460\n",
      "461\n",
      "462\n"
     ]
    },
    {
     "name": "stderr",
     "output_type": "stream",
     "text": [
      "/var/folders/dn/j0_7h7gx2sq58_nt9816ss480000gn/T/ipykernel_6547/4250457866.py:74: FutureWarning: The frame.append method is deprecated and will be removed from pandas in a future version. Use pandas.concat instead.\n",
      "  feature_pd = feature_pd.append(pd.DataFrame(saving, index=feature).transpose(), ignore_index=True)\n",
      "/var/folders/dn/j0_7h7gx2sq58_nt9816ss480000gn/T/ipykernel_6547/4250457866.py:74: FutureWarning: The frame.append method is deprecated and will be removed from pandas in a future version. Use pandas.concat instead.\n",
      "  feature_pd = feature_pd.append(pd.DataFrame(saving, index=feature).transpose(), ignore_index=True)\n",
      "/var/folders/dn/j0_7h7gx2sq58_nt9816ss480000gn/T/ipykernel_6547/4250457866.py:74: FutureWarning: The frame.append method is deprecated and will be removed from pandas in a future version. Use pandas.concat instead.\n",
      "  feature_pd = feature_pd.append(pd.DataFrame(saving, index=feature).transpose(), ignore_index=True)\n"
     ]
    },
    {
     "name": "stdout",
     "output_type": "stream",
     "text": [
      "463\n",
      "464\n",
      "465\n",
      "466\n"
     ]
    },
    {
     "name": "stderr",
     "output_type": "stream",
     "text": [
      "/var/folders/dn/j0_7h7gx2sq58_nt9816ss480000gn/T/ipykernel_6547/4250457866.py:74: FutureWarning: The frame.append method is deprecated and will be removed from pandas in a future version. Use pandas.concat instead.\n",
      "  feature_pd = feature_pd.append(pd.DataFrame(saving, index=feature).transpose(), ignore_index=True)\n",
      "/var/folders/dn/j0_7h7gx2sq58_nt9816ss480000gn/T/ipykernel_6547/4250457866.py:74: FutureWarning: The frame.append method is deprecated and will be removed from pandas in a future version. Use pandas.concat instead.\n",
      "  feature_pd = feature_pd.append(pd.DataFrame(saving, index=feature).transpose(), ignore_index=True)\n",
      "/var/folders/dn/j0_7h7gx2sq58_nt9816ss480000gn/T/ipykernel_6547/4250457866.py:74: FutureWarning: The frame.append method is deprecated and will be removed from pandas in a future version. Use pandas.concat instead.\n",
      "  feature_pd = feature_pd.append(pd.DataFrame(saving, index=feature).transpose(), ignore_index=True)\n",
      "/var/folders/dn/j0_7h7gx2sq58_nt9816ss480000gn/T/ipykernel_6547/4250457866.py:74: FutureWarning: The frame.append method is deprecated and will be removed from pandas in a future version. Use pandas.concat instead.\n",
      "  feature_pd = feature_pd.append(pd.DataFrame(saving, index=feature).transpose(), ignore_index=True)\n"
     ]
    },
    {
     "name": "stdout",
     "output_type": "stream",
     "text": [
      "467\n",
      "468\n",
      "469\n"
     ]
    },
    {
     "name": "stderr",
     "output_type": "stream",
     "text": [
      "/var/folders/dn/j0_7h7gx2sq58_nt9816ss480000gn/T/ipykernel_6547/4250457866.py:74: FutureWarning: The frame.append method is deprecated and will be removed from pandas in a future version. Use pandas.concat instead.\n",
      "  feature_pd = feature_pd.append(pd.DataFrame(saving, index=feature).transpose(), ignore_index=True)\n",
      "/var/folders/dn/j0_7h7gx2sq58_nt9816ss480000gn/T/ipykernel_6547/4250457866.py:74: FutureWarning: The frame.append method is deprecated and will be removed from pandas in a future version. Use pandas.concat instead.\n",
      "  feature_pd = feature_pd.append(pd.DataFrame(saving, index=feature).transpose(), ignore_index=True)\n",
      "/var/folders/dn/j0_7h7gx2sq58_nt9816ss480000gn/T/ipykernel_6547/4250457866.py:74: FutureWarning: The frame.append method is deprecated and will be removed from pandas in a future version. Use pandas.concat instead.\n",
      "  feature_pd = feature_pd.append(pd.DataFrame(saving, index=feature).transpose(), ignore_index=True)\n"
     ]
    },
    {
     "name": "stdout",
     "output_type": "stream",
     "text": [
      "470\n",
      "471\n",
      "472\n",
      "473\n"
     ]
    },
    {
     "name": "stderr",
     "output_type": "stream",
     "text": [
      "/var/folders/dn/j0_7h7gx2sq58_nt9816ss480000gn/T/ipykernel_6547/4250457866.py:74: FutureWarning: The frame.append method is deprecated and will be removed from pandas in a future version. Use pandas.concat instead.\n",
      "  feature_pd = feature_pd.append(pd.DataFrame(saving, index=feature).transpose(), ignore_index=True)\n",
      "/var/folders/dn/j0_7h7gx2sq58_nt9816ss480000gn/T/ipykernel_6547/4250457866.py:74: FutureWarning: The frame.append method is deprecated and will be removed from pandas in a future version. Use pandas.concat instead.\n",
      "  feature_pd = feature_pd.append(pd.DataFrame(saving, index=feature).transpose(), ignore_index=True)\n",
      "/var/folders/dn/j0_7h7gx2sq58_nt9816ss480000gn/T/ipykernel_6547/4250457866.py:74: FutureWarning: The frame.append method is deprecated and will be removed from pandas in a future version. Use pandas.concat instead.\n",
      "  feature_pd = feature_pd.append(pd.DataFrame(saving, index=feature).transpose(), ignore_index=True)\n",
      "/var/folders/dn/j0_7h7gx2sq58_nt9816ss480000gn/T/ipykernel_6547/4250457866.py:74: FutureWarning: The frame.append method is deprecated and will be removed from pandas in a future version. Use pandas.concat instead.\n",
      "  feature_pd = feature_pd.append(pd.DataFrame(saving, index=feature).transpose(), ignore_index=True)\n"
     ]
    },
    {
     "name": "stdout",
     "output_type": "stream",
     "text": [
      "474\n",
      "475\n",
      "476\n"
     ]
    },
    {
     "name": "stderr",
     "output_type": "stream",
     "text": [
      "/var/folders/dn/j0_7h7gx2sq58_nt9816ss480000gn/T/ipykernel_6547/4250457866.py:74: FutureWarning: The frame.append method is deprecated and will be removed from pandas in a future version. Use pandas.concat instead.\n",
      "  feature_pd = feature_pd.append(pd.DataFrame(saving, index=feature).transpose(), ignore_index=True)\n",
      "/var/folders/dn/j0_7h7gx2sq58_nt9816ss480000gn/T/ipykernel_6547/4250457866.py:74: FutureWarning: The frame.append method is deprecated and will be removed from pandas in a future version. Use pandas.concat instead.\n",
      "  feature_pd = feature_pd.append(pd.DataFrame(saving, index=feature).transpose(), ignore_index=True)\n",
      "/var/folders/dn/j0_7h7gx2sq58_nt9816ss480000gn/T/ipykernel_6547/4250457866.py:74: FutureWarning: The frame.append method is deprecated and will be removed from pandas in a future version. Use pandas.concat instead.\n",
      "  feature_pd = feature_pd.append(pd.DataFrame(saving, index=feature).transpose(), ignore_index=True)\n"
     ]
    },
    {
     "name": "stdout",
     "output_type": "stream",
     "text": [
      "477\n"
     ]
    },
    {
     "name": "stderr",
     "output_type": "stream",
     "text": [
      "/var/folders/dn/j0_7h7gx2sq58_nt9816ss480000gn/T/ipykernel_6547/4250457866.py:74: FutureWarning: The frame.append method is deprecated and will be removed from pandas in a future version. Use pandas.concat instead.\n",
      "  feature_pd = feature_pd.append(pd.DataFrame(saving, index=feature).transpose(), ignore_index=True)\n"
     ]
    },
    {
     "name": "stdout",
     "output_type": "stream",
     "text": [
      "478\n",
      "479\n"
     ]
    },
    {
     "name": "stderr",
     "output_type": "stream",
     "text": [
      "/var/folders/dn/j0_7h7gx2sq58_nt9816ss480000gn/T/ipykernel_6547/4250457866.py:74: FutureWarning: The frame.append method is deprecated and will be removed from pandas in a future version. Use pandas.concat instead.\n",
      "  feature_pd = feature_pd.append(pd.DataFrame(saving, index=feature).transpose(), ignore_index=True)\n",
      "/var/folders/dn/j0_7h7gx2sq58_nt9816ss480000gn/T/ipykernel_6547/4250457866.py:74: FutureWarning: The frame.append method is deprecated and will be removed from pandas in a future version. Use pandas.concat instead.\n",
      "  feature_pd = feature_pd.append(pd.DataFrame(saving, index=feature).transpose(), ignore_index=True)\n"
     ]
    },
    {
     "name": "stdout",
     "output_type": "stream",
     "text": [
      "480\n",
      "481\n",
      "482\n",
      "483\n"
     ]
    },
    {
     "name": "stderr",
     "output_type": "stream",
     "text": [
      "/var/folders/dn/j0_7h7gx2sq58_nt9816ss480000gn/T/ipykernel_6547/4250457866.py:74: FutureWarning: The frame.append method is deprecated and will be removed from pandas in a future version. Use pandas.concat instead.\n",
      "  feature_pd = feature_pd.append(pd.DataFrame(saving, index=feature).transpose(), ignore_index=True)\n",
      "/var/folders/dn/j0_7h7gx2sq58_nt9816ss480000gn/T/ipykernel_6547/4250457866.py:74: FutureWarning: The frame.append method is deprecated and will be removed from pandas in a future version. Use pandas.concat instead.\n",
      "  feature_pd = feature_pd.append(pd.DataFrame(saving, index=feature).transpose(), ignore_index=True)\n",
      "/var/folders/dn/j0_7h7gx2sq58_nt9816ss480000gn/T/ipykernel_6547/4250457866.py:74: FutureWarning: The frame.append method is deprecated and will be removed from pandas in a future version. Use pandas.concat instead.\n",
      "  feature_pd = feature_pd.append(pd.DataFrame(saving, index=feature).transpose(), ignore_index=True)\n",
      "/var/folders/dn/j0_7h7gx2sq58_nt9816ss480000gn/T/ipykernel_6547/4250457866.py:74: FutureWarning: The frame.append method is deprecated and will be removed from pandas in a future version. Use pandas.concat instead.\n",
      "  feature_pd = feature_pd.append(pd.DataFrame(saving, index=feature).transpose(), ignore_index=True)\n"
     ]
    },
    {
     "name": "stdout",
     "output_type": "stream",
     "text": [
      "484\n",
      "485\n",
      "486\n"
     ]
    },
    {
     "name": "stderr",
     "output_type": "stream",
     "text": [
      "/var/folders/dn/j0_7h7gx2sq58_nt9816ss480000gn/T/ipykernel_6547/4250457866.py:74: FutureWarning: The frame.append method is deprecated and will be removed from pandas in a future version. Use pandas.concat instead.\n",
      "  feature_pd = feature_pd.append(pd.DataFrame(saving, index=feature).transpose(), ignore_index=True)\n",
      "/var/folders/dn/j0_7h7gx2sq58_nt9816ss480000gn/T/ipykernel_6547/4250457866.py:74: FutureWarning: The frame.append method is deprecated and will be removed from pandas in a future version. Use pandas.concat instead.\n",
      "  feature_pd = feature_pd.append(pd.DataFrame(saving, index=feature).transpose(), ignore_index=True)\n",
      "/var/folders/dn/j0_7h7gx2sq58_nt9816ss480000gn/T/ipykernel_6547/4250457866.py:74: FutureWarning: The frame.append method is deprecated and will be removed from pandas in a future version. Use pandas.concat instead.\n",
      "  feature_pd = feature_pd.append(pd.DataFrame(saving, index=feature).transpose(), ignore_index=True)\n"
     ]
    },
    {
     "name": "stdout",
     "output_type": "stream",
     "text": [
      "487\n"
     ]
    },
    {
     "name": "stderr",
     "output_type": "stream",
     "text": [
      "/var/folders/dn/j0_7h7gx2sq58_nt9816ss480000gn/T/ipykernel_6547/4250457866.py:74: FutureWarning: The frame.append method is deprecated and will be removed from pandas in a future version. Use pandas.concat instead.\n",
      "  feature_pd = feature_pd.append(pd.DataFrame(saving, index=feature).transpose(), ignore_index=True)\n"
     ]
    },
    {
     "name": "stdout",
     "output_type": "stream",
     "text": [
      "488\n",
      "489\n"
     ]
    },
    {
     "name": "stderr",
     "output_type": "stream",
     "text": [
      "/var/folders/dn/j0_7h7gx2sq58_nt9816ss480000gn/T/ipykernel_6547/4250457866.py:74: FutureWarning: The frame.append method is deprecated and will be removed from pandas in a future version. Use pandas.concat instead.\n",
      "  feature_pd = feature_pd.append(pd.DataFrame(saving, index=feature).transpose(), ignore_index=True)\n",
      "/var/folders/dn/j0_7h7gx2sq58_nt9816ss480000gn/T/ipykernel_6547/4250457866.py:74: FutureWarning: The frame.append method is deprecated and will be removed from pandas in a future version. Use pandas.concat instead.\n",
      "  feature_pd = feature_pd.append(pd.DataFrame(saving, index=feature).transpose(), ignore_index=True)\n"
     ]
    },
    {
     "name": "stdout",
     "output_type": "stream",
     "text": [
      "490\n",
      "491\n",
      "492\n"
     ]
    },
    {
     "name": "stderr",
     "output_type": "stream",
     "text": [
      "/var/folders/dn/j0_7h7gx2sq58_nt9816ss480000gn/T/ipykernel_6547/4250457866.py:74: FutureWarning: The frame.append method is deprecated and will be removed from pandas in a future version. Use pandas.concat instead.\n",
      "  feature_pd = feature_pd.append(pd.DataFrame(saving, index=feature).transpose(), ignore_index=True)\n",
      "/var/folders/dn/j0_7h7gx2sq58_nt9816ss480000gn/T/ipykernel_6547/4250457866.py:74: FutureWarning: The frame.append method is deprecated and will be removed from pandas in a future version. Use pandas.concat instead.\n",
      "  feature_pd = feature_pd.append(pd.DataFrame(saving, index=feature).transpose(), ignore_index=True)\n",
      "/var/folders/dn/j0_7h7gx2sq58_nt9816ss480000gn/T/ipykernel_6547/4250457866.py:74: FutureWarning: The frame.append method is deprecated and will be removed from pandas in a future version. Use pandas.concat instead.\n",
      "  feature_pd = feature_pd.append(pd.DataFrame(saving, index=feature).transpose(), ignore_index=True)\n"
     ]
    },
    {
     "name": "stdout",
     "output_type": "stream",
     "text": [
      "493\n",
      "494\n",
      "495\n",
      "496\n"
     ]
    },
    {
     "name": "stderr",
     "output_type": "stream",
     "text": [
      "/var/folders/dn/j0_7h7gx2sq58_nt9816ss480000gn/T/ipykernel_6547/4250457866.py:74: FutureWarning: The frame.append method is deprecated and will be removed from pandas in a future version. Use pandas.concat instead.\n",
      "  feature_pd = feature_pd.append(pd.DataFrame(saving, index=feature).transpose(), ignore_index=True)\n",
      "/var/folders/dn/j0_7h7gx2sq58_nt9816ss480000gn/T/ipykernel_6547/4250457866.py:74: FutureWarning: The frame.append method is deprecated and will be removed from pandas in a future version. Use pandas.concat instead.\n",
      "  feature_pd = feature_pd.append(pd.DataFrame(saving, index=feature).transpose(), ignore_index=True)\n",
      "/var/folders/dn/j0_7h7gx2sq58_nt9816ss480000gn/T/ipykernel_6547/4250457866.py:74: FutureWarning: The frame.append method is deprecated and will be removed from pandas in a future version. Use pandas.concat instead.\n",
      "  feature_pd = feature_pd.append(pd.DataFrame(saving, index=feature).transpose(), ignore_index=True)\n",
      "/var/folders/dn/j0_7h7gx2sq58_nt9816ss480000gn/T/ipykernel_6547/4250457866.py:74: FutureWarning: The frame.append method is deprecated and will be removed from pandas in a future version. Use pandas.concat instead.\n",
      "  feature_pd = feature_pd.append(pd.DataFrame(saving, index=feature).transpose(), ignore_index=True)\n"
     ]
    },
    {
     "name": "stdout",
     "output_type": "stream",
     "text": [
      "497\n",
      "498\n",
      "499\n",
      "500\n"
     ]
    },
    {
     "name": "stderr",
     "output_type": "stream",
     "text": [
      "/var/folders/dn/j0_7h7gx2sq58_nt9816ss480000gn/T/ipykernel_6547/4250457866.py:74: FutureWarning: The frame.append method is deprecated and will be removed from pandas in a future version. Use pandas.concat instead.\n",
      "  feature_pd = feature_pd.append(pd.DataFrame(saving, index=feature).transpose(), ignore_index=True)\n",
      "/var/folders/dn/j0_7h7gx2sq58_nt9816ss480000gn/T/ipykernel_6547/4250457866.py:74: FutureWarning: The frame.append method is deprecated and will be removed from pandas in a future version. Use pandas.concat instead.\n",
      "  feature_pd = feature_pd.append(pd.DataFrame(saving, index=feature).transpose(), ignore_index=True)\n",
      "/var/folders/dn/j0_7h7gx2sq58_nt9816ss480000gn/T/ipykernel_6547/4250457866.py:74: FutureWarning: The frame.append method is deprecated and will be removed from pandas in a future version. Use pandas.concat instead.\n",
      "  feature_pd = feature_pd.append(pd.DataFrame(saving, index=feature).transpose(), ignore_index=True)\n",
      "/var/folders/dn/j0_7h7gx2sq58_nt9816ss480000gn/T/ipykernel_6547/4250457866.py:74: FutureWarning: The frame.append method is deprecated and will be removed from pandas in a future version. Use pandas.concat instead.\n",
      "  feature_pd = feature_pd.append(pd.DataFrame(saving, index=feature).transpose(), ignore_index=True)\n"
     ]
    },
    {
     "name": "stdout",
     "output_type": "stream",
     "text": [
      "501\n",
      "502\n",
      "503\n"
     ]
    },
    {
     "name": "stderr",
     "output_type": "stream",
     "text": [
      "/var/folders/dn/j0_7h7gx2sq58_nt9816ss480000gn/T/ipykernel_6547/4250457866.py:74: FutureWarning: The frame.append method is deprecated and will be removed from pandas in a future version. Use pandas.concat instead.\n",
      "  feature_pd = feature_pd.append(pd.DataFrame(saving, index=feature).transpose(), ignore_index=True)\n",
      "/var/folders/dn/j0_7h7gx2sq58_nt9816ss480000gn/T/ipykernel_6547/4250457866.py:74: FutureWarning: The frame.append method is deprecated and will be removed from pandas in a future version. Use pandas.concat instead.\n",
      "  feature_pd = feature_pd.append(pd.DataFrame(saving, index=feature).transpose(), ignore_index=True)\n",
      "/var/folders/dn/j0_7h7gx2sq58_nt9816ss480000gn/T/ipykernel_6547/4250457866.py:74: FutureWarning: The frame.append method is deprecated and will be removed from pandas in a future version. Use pandas.concat instead.\n",
      "  feature_pd = feature_pd.append(pd.DataFrame(saving, index=feature).transpose(), ignore_index=True)\n"
     ]
    },
    {
     "name": "stdout",
     "output_type": "stream",
     "text": [
      "504\n",
      "505\n",
      "506\n"
     ]
    },
    {
     "name": "stderr",
     "output_type": "stream",
     "text": [
      "/var/folders/dn/j0_7h7gx2sq58_nt9816ss480000gn/T/ipykernel_6547/4250457866.py:74: FutureWarning: The frame.append method is deprecated and will be removed from pandas in a future version. Use pandas.concat instead.\n",
      "  feature_pd = feature_pd.append(pd.DataFrame(saving, index=feature).transpose(), ignore_index=True)\n",
      "/var/folders/dn/j0_7h7gx2sq58_nt9816ss480000gn/T/ipykernel_6547/4250457866.py:74: FutureWarning: The frame.append method is deprecated and will be removed from pandas in a future version. Use pandas.concat instead.\n",
      "  feature_pd = feature_pd.append(pd.DataFrame(saving, index=feature).transpose(), ignore_index=True)\n",
      "/var/folders/dn/j0_7h7gx2sq58_nt9816ss480000gn/T/ipykernel_6547/4250457866.py:74: FutureWarning: The frame.append method is deprecated and will be removed from pandas in a future version. Use pandas.concat instead.\n",
      "  feature_pd = feature_pd.append(pd.DataFrame(saving, index=feature).transpose(), ignore_index=True)\n"
     ]
    },
    {
     "name": "stdout",
     "output_type": "stream",
     "text": [
      "507\n",
      "508\n",
      "509\n",
      "510\n"
     ]
    },
    {
     "name": "stderr",
     "output_type": "stream",
     "text": [
      "/var/folders/dn/j0_7h7gx2sq58_nt9816ss480000gn/T/ipykernel_6547/4250457866.py:74: FutureWarning: The frame.append method is deprecated and will be removed from pandas in a future version. Use pandas.concat instead.\n",
      "  feature_pd = feature_pd.append(pd.DataFrame(saving, index=feature).transpose(), ignore_index=True)\n",
      "/var/folders/dn/j0_7h7gx2sq58_nt9816ss480000gn/T/ipykernel_6547/4250457866.py:74: FutureWarning: The frame.append method is deprecated and will be removed from pandas in a future version. Use pandas.concat instead.\n",
      "  feature_pd = feature_pd.append(pd.DataFrame(saving, index=feature).transpose(), ignore_index=True)\n",
      "/var/folders/dn/j0_7h7gx2sq58_nt9816ss480000gn/T/ipykernel_6547/4250457866.py:74: FutureWarning: The frame.append method is deprecated and will be removed from pandas in a future version. Use pandas.concat instead.\n",
      "  feature_pd = feature_pd.append(pd.DataFrame(saving, index=feature).transpose(), ignore_index=True)\n",
      "/var/folders/dn/j0_7h7gx2sq58_nt9816ss480000gn/T/ipykernel_6547/4250457866.py:74: FutureWarning: The frame.append method is deprecated and will be removed from pandas in a future version. Use pandas.concat instead.\n",
      "  feature_pd = feature_pd.append(pd.DataFrame(saving, index=feature).transpose(), ignore_index=True)\n"
     ]
    },
    {
     "name": "stdout",
     "output_type": "stream",
     "text": [
      "511\n",
      "512\n",
      "513\n",
      "514\n"
     ]
    },
    {
     "name": "stderr",
     "output_type": "stream",
     "text": [
      "/var/folders/dn/j0_7h7gx2sq58_nt9816ss480000gn/T/ipykernel_6547/4250457866.py:74: FutureWarning: The frame.append method is deprecated and will be removed from pandas in a future version. Use pandas.concat instead.\n",
      "  feature_pd = feature_pd.append(pd.DataFrame(saving, index=feature).transpose(), ignore_index=True)\n",
      "/var/folders/dn/j0_7h7gx2sq58_nt9816ss480000gn/T/ipykernel_6547/4250457866.py:74: FutureWarning: The frame.append method is deprecated and will be removed from pandas in a future version. Use pandas.concat instead.\n",
      "  feature_pd = feature_pd.append(pd.DataFrame(saving, index=feature).transpose(), ignore_index=True)\n",
      "/var/folders/dn/j0_7h7gx2sq58_nt9816ss480000gn/T/ipykernel_6547/4250457866.py:74: FutureWarning: The frame.append method is deprecated and will be removed from pandas in a future version. Use pandas.concat instead.\n",
      "  feature_pd = feature_pd.append(pd.DataFrame(saving, index=feature).transpose(), ignore_index=True)\n",
      "/var/folders/dn/j0_7h7gx2sq58_nt9816ss480000gn/T/ipykernel_6547/4250457866.py:74: FutureWarning: The frame.append method is deprecated and will be removed from pandas in a future version. Use pandas.concat instead.\n",
      "  feature_pd = feature_pd.append(pd.DataFrame(saving, index=feature).transpose(), ignore_index=True)\n"
     ]
    },
    {
     "name": "stdout",
     "output_type": "stream",
     "text": [
      "515\n",
      "516\n",
      "517\n"
     ]
    },
    {
     "name": "stderr",
     "output_type": "stream",
     "text": [
      "/var/folders/dn/j0_7h7gx2sq58_nt9816ss480000gn/T/ipykernel_6547/4250457866.py:74: FutureWarning: The frame.append method is deprecated and will be removed from pandas in a future version. Use pandas.concat instead.\n",
      "  feature_pd = feature_pd.append(pd.DataFrame(saving, index=feature).transpose(), ignore_index=True)\n",
      "/var/folders/dn/j0_7h7gx2sq58_nt9816ss480000gn/T/ipykernel_6547/4250457866.py:74: FutureWarning: The frame.append method is deprecated and will be removed from pandas in a future version. Use pandas.concat instead.\n",
      "  feature_pd = feature_pd.append(pd.DataFrame(saving, index=feature).transpose(), ignore_index=True)\n",
      "/var/folders/dn/j0_7h7gx2sq58_nt9816ss480000gn/T/ipykernel_6547/4250457866.py:74: FutureWarning: The frame.append method is deprecated and will be removed from pandas in a future version. Use pandas.concat instead.\n",
      "  feature_pd = feature_pd.append(pd.DataFrame(saving, index=feature).transpose(), ignore_index=True)\n"
     ]
    },
    {
     "name": "stdout",
     "output_type": "stream",
     "text": [
      "518\n",
      "519\n",
      "520\n"
     ]
    },
    {
     "name": "stderr",
     "output_type": "stream",
     "text": [
      "/var/folders/dn/j0_7h7gx2sq58_nt9816ss480000gn/T/ipykernel_6547/4250457866.py:74: FutureWarning: The frame.append method is deprecated and will be removed from pandas in a future version. Use pandas.concat instead.\n",
      "  feature_pd = feature_pd.append(pd.DataFrame(saving, index=feature).transpose(), ignore_index=True)\n",
      "/var/folders/dn/j0_7h7gx2sq58_nt9816ss480000gn/T/ipykernel_6547/4250457866.py:74: FutureWarning: The frame.append method is deprecated and will be removed from pandas in a future version. Use pandas.concat instead.\n",
      "  feature_pd = feature_pd.append(pd.DataFrame(saving, index=feature).transpose(), ignore_index=True)\n",
      "/var/folders/dn/j0_7h7gx2sq58_nt9816ss480000gn/T/ipykernel_6547/4250457866.py:74: FutureWarning: The frame.append method is deprecated and will be removed from pandas in a future version. Use pandas.concat instead.\n",
      "  feature_pd = feature_pd.append(pd.DataFrame(saving, index=feature).transpose(), ignore_index=True)\n"
     ]
    },
    {
     "name": "stdout",
     "output_type": "stream",
     "text": [
      "521\n",
      "522\n",
      "523\n",
      "524\n"
     ]
    },
    {
     "name": "stderr",
     "output_type": "stream",
     "text": [
      "/var/folders/dn/j0_7h7gx2sq58_nt9816ss480000gn/T/ipykernel_6547/4250457866.py:74: FutureWarning: The frame.append method is deprecated and will be removed from pandas in a future version. Use pandas.concat instead.\n",
      "  feature_pd = feature_pd.append(pd.DataFrame(saving, index=feature).transpose(), ignore_index=True)\n",
      "/var/folders/dn/j0_7h7gx2sq58_nt9816ss480000gn/T/ipykernel_6547/4250457866.py:74: FutureWarning: The frame.append method is deprecated and will be removed from pandas in a future version. Use pandas.concat instead.\n",
      "  feature_pd = feature_pd.append(pd.DataFrame(saving, index=feature).transpose(), ignore_index=True)\n",
      "/var/folders/dn/j0_7h7gx2sq58_nt9816ss480000gn/T/ipykernel_6547/4250457866.py:74: FutureWarning: The frame.append method is deprecated and will be removed from pandas in a future version. Use pandas.concat instead.\n",
      "  feature_pd = feature_pd.append(pd.DataFrame(saving, index=feature).transpose(), ignore_index=True)\n",
      "/var/folders/dn/j0_7h7gx2sq58_nt9816ss480000gn/T/ipykernel_6547/4250457866.py:74: FutureWarning: The frame.append method is deprecated and will be removed from pandas in a future version. Use pandas.concat instead.\n",
      "  feature_pd = feature_pd.append(pd.DataFrame(saving, index=feature).transpose(), ignore_index=True)\n"
     ]
    },
    {
     "name": "stdout",
     "output_type": "stream",
     "text": [
      "525\n",
      "526\n",
      "527\n"
     ]
    },
    {
     "name": "stderr",
     "output_type": "stream",
     "text": [
      "/var/folders/dn/j0_7h7gx2sq58_nt9816ss480000gn/T/ipykernel_6547/4250457866.py:74: FutureWarning: The frame.append method is deprecated and will be removed from pandas in a future version. Use pandas.concat instead.\n",
      "  feature_pd = feature_pd.append(pd.DataFrame(saving, index=feature).transpose(), ignore_index=True)\n",
      "/var/folders/dn/j0_7h7gx2sq58_nt9816ss480000gn/T/ipykernel_6547/4250457866.py:74: FutureWarning: The frame.append method is deprecated and will be removed from pandas in a future version. Use pandas.concat instead.\n",
      "  feature_pd = feature_pd.append(pd.DataFrame(saving, index=feature).transpose(), ignore_index=True)\n",
      "/var/folders/dn/j0_7h7gx2sq58_nt9816ss480000gn/T/ipykernel_6547/4250457866.py:74: FutureWarning: The frame.append method is deprecated and will be removed from pandas in a future version. Use pandas.concat instead.\n",
      "  feature_pd = feature_pd.append(pd.DataFrame(saving, index=feature).transpose(), ignore_index=True)\n"
     ]
    },
    {
     "name": "stdout",
     "output_type": "stream",
     "text": [
      "528\n",
      "529\n",
      "530\n",
      "531\n"
     ]
    },
    {
     "name": "stderr",
     "output_type": "stream",
     "text": [
      "/var/folders/dn/j0_7h7gx2sq58_nt9816ss480000gn/T/ipykernel_6547/4250457866.py:74: FutureWarning: The frame.append method is deprecated and will be removed from pandas in a future version. Use pandas.concat instead.\n",
      "  feature_pd = feature_pd.append(pd.DataFrame(saving, index=feature).transpose(), ignore_index=True)\n",
      "/var/folders/dn/j0_7h7gx2sq58_nt9816ss480000gn/T/ipykernel_6547/4250457866.py:74: FutureWarning: The frame.append method is deprecated and will be removed from pandas in a future version. Use pandas.concat instead.\n",
      "  feature_pd = feature_pd.append(pd.DataFrame(saving, index=feature).transpose(), ignore_index=True)\n",
      "/var/folders/dn/j0_7h7gx2sq58_nt9816ss480000gn/T/ipykernel_6547/4250457866.py:74: FutureWarning: The frame.append method is deprecated and will be removed from pandas in a future version. Use pandas.concat instead.\n",
      "  feature_pd = feature_pd.append(pd.DataFrame(saving, index=feature).transpose(), ignore_index=True)\n",
      "/var/folders/dn/j0_7h7gx2sq58_nt9816ss480000gn/T/ipykernel_6547/4250457866.py:74: FutureWarning: The frame.append method is deprecated and will be removed from pandas in a future version. Use pandas.concat instead.\n",
      "  feature_pd = feature_pd.append(pd.DataFrame(saving, index=feature).transpose(), ignore_index=True)\n"
     ]
    },
    {
     "name": "stdout",
     "output_type": "stream",
     "text": [
      "532\n",
      "533\n",
      "534\n"
     ]
    },
    {
     "name": "stderr",
     "output_type": "stream",
     "text": [
      "/var/folders/dn/j0_7h7gx2sq58_nt9816ss480000gn/T/ipykernel_6547/4250457866.py:74: FutureWarning: The frame.append method is deprecated and will be removed from pandas in a future version. Use pandas.concat instead.\n",
      "  feature_pd = feature_pd.append(pd.DataFrame(saving, index=feature).transpose(), ignore_index=True)\n",
      "/var/folders/dn/j0_7h7gx2sq58_nt9816ss480000gn/T/ipykernel_6547/4250457866.py:74: FutureWarning: The frame.append method is deprecated and will be removed from pandas in a future version. Use pandas.concat instead.\n",
      "  feature_pd = feature_pd.append(pd.DataFrame(saving, index=feature).transpose(), ignore_index=True)\n",
      "/var/folders/dn/j0_7h7gx2sq58_nt9816ss480000gn/T/ipykernel_6547/4250457866.py:74: FutureWarning: The frame.append method is deprecated and will be removed from pandas in a future version. Use pandas.concat instead.\n",
      "  feature_pd = feature_pd.append(pd.DataFrame(saving, index=feature).transpose(), ignore_index=True)\n"
     ]
    },
    {
     "name": "stdout",
     "output_type": "stream",
     "text": [
      "535\n",
      "536\n",
      "537\n"
     ]
    },
    {
     "name": "stderr",
     "output_type": "stream",
     "text": [
      "/var/folders/dn/j0_7h7gx2sq58_nt9816ss480000gn/T/ipykernel_6547/4250457866.py:74: FutureWarning: The frame.append method is deprecated and will be removed from pandas in a future version. Use pandas.concat instead.\n",
      "  feature_pd = feature_pd.append(pd.DataFrame(saving, index=feature).transpose(), ignore_index=True)\n",
      "/var/folders/dn/j0_7h7gx2sq58_nt9816ss480000gn/T/ipykernel_6547/4250457866.py:74: FutureWarning: The frame.append method is deprecated and will be removed from pandas in a future version. Use pandas.concat instead.\n",
      "  feature_pd = feature_pd.append(pd.DataFrame(saving, index=feature).transpose(), ignore_index=True)\n",
      "/var/folders/dn/j0_7h7gx2sq58_nt9816ss480000gn/T/ipykernel_6547/4250457866.py:74: FutureWarning: The frame.append method is deprecated and will be removed from pandas in a future version. Use pandas.concat instead.\n",
      "  feature_pd = feature_pd.append(pd.DataFrame(saving, index=feature).transpose(), ignore_index=True)\n"
     ]
    },
    {
     "name": "stdout",
     "output_type": "stream",
     "text": [
      "538\n",
      "539\n",
      "540\n",
      "541\n"
     ]
    },
    {
     "name": "stderr",
     "output_type": "stream",
     "text": [
      "/var/folders/dn/j0_7h7gx2sq58_nt9816ss480000gn/T/ipykernel_6547/4250457866.py:74: FutureWarning: The frame.append method is deprecated and will be removed from pandas in a future version. Use pandas.concat instead.\n",
      "  feature_pd = feature_pd.append(pd.DataFrame(saving, index=feature).transpose(), ignore_index=True)\n",
      "/var/folders/dn/j0_7h7gx2sq58_nt9816ss480000gn/T/ipykernel_6547/4250457866.py:74: FutureWarning: The frame.append method is deprecated and will be removed from pandas in a future version. Use pandas.concat instead.\n",
      "  feature_pd = feature_pd.append(pd.DataFrame(saving, index=feature).transpose(), ignore_index=True)\n",
      "/var/folders/dn/j0_7h7gx2sq58_nt9816ss480000gn/T/ipykernel_6547/4250457866.py:74: FutureWarning: The frame.append method is deprecated and will be removed from pandas in a future version. Use pandas.concat instead.\n",
      "  feature_pd = feature_pd.append(pd.DataFrame(saving, index=feature).transpose(), ignore_index=True)\n",
      "/var/folders/dn/j0_7h7gx2sq58_nt9816ss480000gn/T/ipykernel_6547/4250457866.py:74: FutureWarning: The frame.append method is deprecated and will be removed from pandas in a future version. Use pandas.concat instead.\n",
      "  feature_pd = feature_pd.append(pd.DataFrame(saving, index=feature).transpose(), ignore_index=True)\n"
     ]
    },
    {
     "name": "stdout",
     "output_type": "stream",
     "text": [
      "542\n",
      "543\n",
      "544\n",
      "545\n"
     ]
    },
    {
     "name": "stderr",
     "output_type": "stream",
     "text": [
      "/var/folders/dn/j0_7h7gx2sq58_nt9816ss480000gn/T/ipykernel_6547/4250457866.py:74: FutureWarning: The frame.append method is deprecated and will be removed from pandas in a future version. Use pandas.concat instead.\n",
      "  feature_pd = feature_pd.append(pd.DataFrame(saving, index=feature).transpose(), ignore_index=True)\n",
      "/var/folders/dn/j0_7h7gx2sq58_nt9816ss480000gn/T/ipykernel_6547/4250457866.py:74: FutureWarning: The frame.append method is deprecated and will be removed from pandas in a future version. Use pandas.concat instead.\n",
      "  feature_pd = feature_pd.append(pd.DataFrame(saving, index=feature).transpose(), ignore_index=True)\n",
      "/var/folders/dn/j0_7h7gx2sq58_nt9816ss480000gn/T/ipykernel_6547/4250457866.py:74: FutureWarning: The frame.append method is deprecated and will be removed from pandas in a future version. Use pandas.concat instead.\n",
      "  feature_pd = feature_pd.append(pd.DataFrame(saving, index=feature).transpose(), ignore_index=True)\n",
      "/var/folders/dn/j0_7h7gx2sq58_nt9816ss480000gn/T/ipykernel_6547/4250457866.py:74: FutureWarning: The frame.append method is deprecated and will be removed from pandas in a future version. Use pandas.concat instead.\n",
      "  feature_pd = feature_pd.append(pd.DataFrame(saving, index=feature).transpose(), ignore_index=True)\n"
     ]
    },
    {
     "name": "stdout",
     "output_type": "stream",
     "text": [
      "546\n",
      "547\n",
      "548\n",
      "549\n"
     ]
    },
    {
     "name": "stderr",
     "output_type": "stream",
     "text": [
      "/var/folders/dn/j0_7h7gx2sq58_nt9816ss480000gn/T/ipykernel_6547/4250457866.py:74: FutureWarning: The frame.append method is deprecated and will be removed from pandas in a future version. Use pandas.concat instead.\n",
      "  feature_pd = feature_pd.append(pd.DataFrame(saving, index=feature).transpose(), ignore_index=True)\n",
      "/var/folders/dn/j0_7h7gx2sq58_nt9816ss480000gn/T/ipykernel_6547/4250457866.py:74: FutureWarning: The frame.append method is deprecated and will be removed from pandas in a future version. Use pandas.concat instead.\n",
      "  feature_pd = feature_pd.append(pd.DataFrame(saving, index=feature).transpose(), ignore_index=True)\n",
      "/var/folders/dn/j0_7h7gx2sq58_nt9816ss480000gn/T/ipykernel_6547/4250457866.py:74: FutureWarning: The frame.append method is deprecated and will be removed from pandas in a future version. Use pandas.concat instead.\n",
      "  feature_pd = feature_pd.append(pd.DataFrame(saving, index=feature).transpose(), ignore_index=True)\n",
      "/var/folders/dn/j0_7h7gx2sq58_nt9816ss480000gn/T/ipykernel_6547/4250457866.py:74: FutureWarning: The frame.append method is deprecated and will be removed from pandas in a future version. Use pandas.concat instead.\n",
      "  feature_pd = feature_pd.append(pd.DataFrame(saving, index=feature).transpose(), ignore_index=True)\n"
     ]
    },
    {
     "name": "stdout",
     "output_type": "stream",
     "text": [
      "550\n",
      "551\n",
      "552\n"
     ]
    },
    {
     "name": "stderr",
     "output_type": "stream",
     "text": [
      "/var/folders/dn/j0_7h7gx2sq58_nt9816ss480000gn/T/ipykernel_6547/4250457866.py:74: FutureWarning: The frame.append method is deprecated and will be removed from pandas in a future version. Use pandas.concat instead.\n",
      "  feature_pd = feature_pd.append(pd.DataFrame(saving, index=feature).transpose(), ignore_index=True)\n",
      "/var/folders/dn/j0_7h7gx2sq58_nt9816ss480000gn/T/ipykernel_6547/4250457866.py:74: FutureWarning: The frame.append method is deprecated and will be removed from pandas in a future version. Use pandas.concat instead.\n",
      "  feature_pd = feature_pd.append(pd.DataFrame(saving, index=feature).transpose(), ignore_index=True)\n",
      "/var/folders/dn/j0_7h7gx2sq58_nt9816ss480000gn/T/ipykernel_6547/4250457866.py:74: FutureWarning: The frame.append method is deprecated and will be removed from pandas in a future version. Use pandas.concat instead.\n",
      "  feature_pd = feature_pd.append(pd.DataFrame(saving, index=feature).transpose(), ignore_index=True)\n"
     ]
    },
    {
     "name": "stdout",
     "output_type": "stream",
     "text": [
      "553\n",
      "554\n",
      "555\n"
     ]
    },
    {
     "name": "stderr",
     "output_type": "stream",
     "text": [
      "/var/folders/dn/j0_7h7gx2sq58_nt9816ss480000gn/T/ipykernel_6547/4250457866.py:74: FutureWarning: The frame.append method is deprecated and will be removed from pandas in a future version. Use pandas.concat instead.\n",
      "  feature_pd = feature_pd.append(pd.DataFrame(saving, index=feature).transpose(), ignore_index=True)\n",
      "/var/folders/dn/j0_7h7gx2sq58_nt9816ss480000gn/T/ipykernel_6547/4250457866.py:74: FutureWarning: The frame.append method is deprecated and will be removed from pandas in a future version. Use pandas.concat instead.\n",
      "  feature_pd = feature_pd.append(pd.DataFrame(saving, index=feature).transpose(), ignore_index=True)\n",
      "/var/folders/dn/j0_7h7gx2sq58_nt9816ss480000gn/T/ipykernel_6547/4250457866.py:74: FutureWarning: The frame.append method is deprecated and will be removed from pandas in a future version. Use pandas.concat instead.\n",
      "  feature_pd = feature_pd.append(pd.DataFrame(saving, index=feature).transpose(), ignore_index=True)\n"
     ]
    },
    {
     "name": "stdout",
     "output_type": "stream",
     "text": [
      "556\n",
      "557\n",
      "558\n"
     ]
    },
    {
     "name": "stderr",
     "output_type": "stream",
     "text": [
      "/var/folders/dn/j0_7h7gx2sq58_nt9816ss480000gn/T/ipykernel_6547/4250457866.py:74: FutureWarning: The frame.append method is deprecated and will be removed from pandas in a future version. Use pandas.concat instead.\n",
      "  feature_pd = feature_pd.append(pd.DataFrame(saving, index=feature).transpose(), ignore_index=True)\n",
      "/var/folders/dn/j0_7h7gx2sq58_nt9816ss480000gn/T/ipykernel_6547/4250457866.py:74: FutureWarning: The frame.append method is deprecated and will be removed from pandas in a future version. Use pandas.concat instead.\n",
      "  feature_pd = feature_pd.append(pd.DataFrame(saving, index=feature).transpose(), ignore_index=True)\n",
      "/var/folders/dn/j0_7h7gx2sq58_nt9816ss480000gn/T/ipykernel_6547/4250457866.py:74: FutureWarning: The frame.append method is deprecated and will be removed from pandas in a future version. Use pandas.concat instead.\n",
      "  feature_pd = feature_pd.append(pd.DataFrame(saving, index=feature).transpose(), ignore_index=True)\n"
     ]
    },
    {
     "name": "stdout",
     "output_type": "stream",
     "text": [
      "559\n",
      "560\n",
      "561\n",
      "562\n"
     ]
    },
    {
     "name": "stderr",
     "output_type": "stream",
     "text": [
      "/var/folders/dn/j0_7h7gx2sq58_nt9816ss480000gn/T/ipykernel_6547/4250457866.py:74: FutureWarning: The frame.append method is deprecated and will be removed from pandas in a future version. Use pandas.concat instead.\n",
      "  feature_pd = feature_pd.append(pd.DataFrame(saving, index=feature).transpose(), ignore_index=True)\n",
      "/var/folders/dn/j0_7h7gx2sq58_nt9816ss480000gn/T/ipykernel_6547/4250457866.py:74: FutureWarning: The frame.append method is deprecated and will be removed from pandas in a future version. Use pandas.concat instead.\n",
      "  feature_pd = feature_pd.append(pd.DataFrame(saving, index=feature).transpose(), ignore_index=True)\n",
      "/var/folders/dn/j0_7h7gx2sq58_nt9816ss480000gn/T/ipykernel_6547/4250457866.py:74: FutureWarning: The frame.append method is deprecated and will be removed from pandas in a future version. Use pandas.concat instead.\n",
      "  feature_pd = feature_pd.append(pd.DataFrame(saving, index=feature).transpose(), ignore_index=True)\n",
      "/var/folders/dn/j0_7h7gx2sq58_nt9816ss480000gn/T/ipykernel_6547/4250457866.py:74: FutureWarning: The frame.append method is deprecated and will be removed from pandas in a future version. Use pandas.concat instead.\n",
      "  feature_pd = feature_pd.append(pd.DataFrame(saving, index=feature).transpose(), ignore_index=True)\n"
     ]
    },
    {
     "name": "stdout",
     "output_type": "stream",
     "text": [
      "563\n",
      "564\n"
     ]
    },
    {
     "name": "stderr",
     "output_type": "stream",
     "text": [
      "/var/folders/dn/j0_7h7gx2sq58_nt9816ss480000gn/T/ipykernel_6547/4250457866.py:74: FutureWarning: The frame.append method is deprecated and will be removed from pandas in a future version. Use pandas.concat instead.\n",
      "  feature_pd = feature_pd.append(pd.DataFrame(saving, index=feature).transpose(), ignore_index=True)\n",
      "/var/folders/dn/j0_7h7gx2sq58_nt9816ss480000gn/T/ipykernel_6547/4250457866.py:74: FutureWarning: The frame.append method is deprecated and will be removed from pandas in a future version. Use pandas.concat instead.\n",
      "  feature_pd = feature_pd.append(pd.DataFrame(saving, index=feature).transpose(), ignore_index=True)\n",
      "/var/folders/dn/j0_7h7gx2sq58_nt9816ss480000gn/T/ipykernel_6547/4250457866.py:74: FutureWarning: The frame.append method is deprecated and will be removed from pandas in a future version. Use pandas.concat instead.\n",
      "  feature_pd = feature_pd.append(pd.DataFrame(saving, index=feature).transpose(), ignore_index=True)\n"
     ]
    },
    {
     "name": "stdout",
     "output_type": "stream",
     "text": [
      "565\n",
      "566\n",
      "567\n"
     ]
    },
    {
     "name": "stderr",
     "output_type": "stream",
     "text": [
      "/var/folders/dn/j0_7h7gx2sq58_nt9816ss480000gn/T/ipykernel_6547/4250457866.py:74: FutureWarning: The frame.append method is deprecated and will be removed from pandas in a future version. Use pandas.concat instead.\n",
      "  feature_pd = feature_pd.append(pd.DataFrame(saving, index=feature).transpose(), ignore_index=True)\n",
      "/var/folders/dn/j0_7h7gx2sq58_nt9816ss480000gn/T/ipykernel_6547/4250457866.py:74: FutureWarning: The frame.append method is deprecated and will be removed from pandas in a future version. Use pandas.concat instead.\n",
      "  feature_pd = feature_pd.append(pd.DataFrame(saving, index=feature).transpose(), ignore_index=True)\n"
     ]
    },
    {
     "name": "stdout",
     "output_type": "stream",
     "text": [
      "568\n",
      "569\n",
      "570\n",
      "571\n"
     ]
    },
    {
     "name": "stderr",
     "output_type": "stream",
     "text": [
      "/var/folders/dn/j0_7h7gx2sq58_nt9816ss480000gn/T/ipykernel_6547/4250457866.py:74: FutureWarning: The frame.append method is deprecated and will be removed from pandas in a future version. Use pandas.concat instead.\n",
      "  feature_pd = feature_pd.append(pd.DataFrame(saving, index=feature).transpose(), ignore_index=True)\n",
      "/var/folders/dn/j0_7h7gx2sq58_nt9816ss480000gn/T/ipykernel_6547/4250457866.py:74: FutureWarning: The frame.append method is deprecated and will be removed from pandas in a future version. Use pandas.concat instead.\n",
      "  feature_pd = feature_pd.append(pd.DataFrame(saving, index=feature).transpose(), ignore_index=True)\n",
      "/var/folders/dn/j0_7h7gx2sq58_nt9816ss480000gn/T/ipykernel_6547/4250457866.py:74: FutureWarning: The frame.append method is deprecated and will be removed from pandas in a future version. Use pandas.concat instead.\n",
      "  feature_pd = feature_pd.append(pd.DataFrame(saving, index=feature).transpose(), ignore_index=True)\n",
      "/var/folders/dn/j0_7h7gx2sq58_nt9816ss480000gn/T/ipykernel_6547/4250457866.py:74: FutureWarning: The frame.append method is deprecated and will be removed from pandas in a future version. Use pandas.concat instead.\n",
      "  feature_pd = feature_pd.append(pd.DataFrame(saving, index=feature).transpose(), ignore_index=True)\n"
     ]
    },
    {
     "name": "stdout",
     "output_type": "stream",
     "text": [
      "572\n",
      "573\n",
      "574\n"
     ]
    },
    {
     "name": "stderr",
     "output_type": "stream",
     "text": [
      "/var/folders/dn/j0_7h7gx2sq58_nt9816ss480000gn/T/ipykernel_6547/4250457866.py:74: FutureWarning: The frame.append method is deprecated and will be removed from pandas in a future version. Use pandas.concat instead.\n",
      "  feature_pd = feature_pd.append(pd.DataFrame(saving, index=feature).transpose(), ignore_index=True)\n",
      "/var/folders/dn/j0_7h7gx2sq58_nt9816ss480000gn/T/ipykernel_6547/4250457866.py:74: FutureWarning: The frame.append method is deprecated and will be removed from pandas in a future version. Use pandas.concat instead.\n",
      "  feature_pd = feature_pd.append(pd.DataFrame(saving, index=feature).transpose(), ignore_index=True)\n",
      "/var/folders/dn/j0_7h7gx2sq58_nt9816ss480000gn/T/ipykernel_6547/4250457866.py:74: FutureWarning: The frame.append method is deprecated and will be removed from pandas in a future version. Use pandas.concat instead.\n",
      "  feature_pd = feature_pd.append(pd.DataFrame(saving, index=feature).transpose(), ignore_index=True)\n"
     ]
    },
    {
     "name": "stdout",
     "output_type": "stream",
     "text": [
      "575\n",
      "576\n"
     ]
    },
    {
     "name": "stderr",
     "output_type": "stream",
     "text": [
      "/var/folders/dn/j0_7h7gx2sq58_nt9816ss480000gn/T/ipykernel_6547/4250457866.py:74: FutureWarning: The frame.append method is deprecated and will be removed from pandas in a future version. Use pandas.concat instead.\n",
      "  feature_pd = feature_pd.append(pd.DataFrame(saving, index=feature).transpose(), ignore_index=True)\n",
      "/var/folders/dn/j0_7h7gx2sq58_nt9816ss480000gn/T/ipykernel_6547/4250457866.py:74: FutureWarning: The frame.append method is deprecated and will be removed from pandas in a future version. Use pandas.concat instead.\n",
      "  feature_pd = feature_pd.append(pd.DataFrame(saving, index=feature).transpose(), ignore_index=True)\n"
     ]
    },
    {
     "name": "stdout",
     "output_type": "stream",
     "text": [
      "577\n",
      "578\n",
      "579\n"
     ]
    },
    {
     "name": "stderr",
     "output_type": "stream",
     "text": [
      "/var/folders/dn/j0_7h7gx2sq58_nt9816ss480000gn/T/ipykernel_6547/4250457866.py:74: FutureWarning: The frame.append method is deprecated and will be removed from pandas in a future version. Use pandas.concat instead.\n",
      "  feature_pd = feature_pd.append(pd.DataFrame(saving, index=feature).transpose(), ignore_index=True)\n",
      "/var/folders/dn/j0_7h7gx2sq58_nt9816ss480000gn/T/ipykernel_6547/4250457866.py:74: FutureWarning: The frame.append method is deprecated and will be removed from pandas in a future version. Use pandas.concat instead.\n",
      "  feature_pd = feature_pd.append(pd.DataFrame(saving, index=feature).transpose(), ignore_index=True)\n",
      "/var/folders/dn/j0_7h7gx2sq58_nt9816ss480000gn/T/ipykernel_6547/4250457866.py:74: FutureWarning: The frame.append method is deprecated and will be removed from pandas in a future version. Use pandas.concat instead.\n",
      "  feature_pd = feature_pd.append(pd.DataFrame(saving, index=feature).transpose(), ignore_index=True)\n"
     ]
    },
    {
     "name": "stdout",
     "output_type": "stream",
     "text": [
      "580\n",
      "581\n",
      "582\n"
     ]
    },
    {
     "name": "stderr",
     "output_type": "stream",
     "text": [
      "/var/folders/dn/j0_7h7gx2sq58_nt9816ss480000gn/T/ipykernel_6547/4250457866.py:74: FutureWarning: The frame.append method is deprecated and will be removed from pandas in a future version. Use pandas.concat instead.\n",
      "  feature_pd = feature_pd.append(pd.DataFrame(saving, index=feature).transpose(), ignore_index=True)\n",
      "/var/folders/dn/j0_7h7gx2sq58_nt9816ss480000gn/T/ipykernel_6547/4250457866.py:74: FutureWarning: The frame.append method is deprecated and will be removed from pandas in a future version. Use pandas.concat instead.\n",
      "  feature_pd = feature_pd.append(pd.DataFrame(saving, index=feature).transpose(), ignore_index=True)\n",
      "/var/folders/dn/j0_7h7gx2sq58_nt9816ss480000gn/T/ipykernel_6547/4250457866.py:74: FutureWarning: The frame.append method is deprecated and will be removed from pandas in a future version. Use pandas.concat instead.\n",
      "  feature_pd = feature_pd.append(pd.DataFrame(saving, index=feature).transpose(), ignore_index=True)\n"
     ]
    },
    {
     "name": "stdout",
     "output_type": "stream",
     "text": [
      "583\n",
      "584\n"
     ]
    },
    {
     "name": "stderr",
     "output_type": "stream",
     "text": [
      "/var/folders/dn/j0_7h7gx2sq58_nt9816ss480000gn/T/ipykernel_6547/4250457866.py:74: FutureWarning: The frame.append method is deprecated and will be removed from pandas in a future version. Use pandas.concat instead.\n",
      "  feature_pd = feature_pd.append(pd.DataFrame(saving, index=feature).transpose(), ignore_index=True)\n",
      "/var/folders/dn/j0_7h7gx2sq58_nt9816ss480000gn/T/ipykernel_6547/4250457866.py:74: FutureWarning: The frame.append method is deprecated and will be removed from pandas in a future version. Use pandas.concat instead.\n",
      "  feature_pd = feature_pd.append(pd.DataFrame(saving, index=feature).transpose(), ignore_index=True)\n"
     ]
    },
    {
     "name": "stdout",
     "output_type": "stream",
     "text": [
      "585\n",
      "586\n"
     ]
    },
    {
     "name": "stderr",
     "output_type": "stream",
     "text": [
      "/var/folders/dn/j0_7h7gx2sq58_nt9816ss480000gn/T/ipykernel_6547/4250457866.py:74: FutureWarning: The frame.append method is deprecated and will be removed from pandas in a future version. Use pandas.concat instead.\n",
      "  feature_pd = feature_pd.append(pd.DataFrame(saving, index=feature).transpose(), ignore_index=True)\n",
      "/var/folders/dn/j0_7h7gx2sq58_nt9816ss480000gn/T/ipykernel_6547/4250457866.py:74: FutureWarning: The frame.append method is deprecated and will be removed from pandas in a future version. Use pandas.concat instead.\n",
      "  feature_pd = feature_pd.append(pd.DataFrame(saving, index=feature).transpose(), ignore_index=True)\n"
     ]
    },
    {
     "name": "stdout",
     "output_type": "stream",
     "text": [
      "587\n",
      "588\n"
     ]
    },
    {
     "name": "stderr",
     "output_type": "stream",
     "text": [
      "/var/folders/dn/j0_7h7gx2sq58_nt9816ss480000gn/T/ipykernel_6547/4250457866.py:74: FutureWarning: The frame.append method is deprecated and will be removed from pandas in a future version. Use pandas.concat instead.\n",
      "  feature_pd = feature_pd.append(pd.DataFrame(saving, index=feature).transpose(), ignore_index=True)\n",
      "/var/folders/dn/j0_7h7gx2sq58_nt9816ss480000gn/T/ipykernel_6547/4250457866.py:74: FutureWarning: The frame.append method is deprecated and will be removed from pandas in a future version. Use pandas.concat instead.\n",
      "  feature_pd = feature_pd.append(pd.DataFrame(saving, index=feature).transpose(), ignore_index=True)\n"
     ]
    },
    {
     "name": "stdout",
     "output_type": "stream",
     "text": [
      "589\n",
      "590\n",
      "591\n"
     ]
    },
    {
     "name": "stderr",
     "output_type": "stream",
     "text": [
      "/var/folders/dn/j0_7h7gx2sq58_nt9816ss480000gn/T/ipykernel_6547/4250457866.py:74: FutureWarning: The frame.append method is deprecated and will be removed from pandas in a future version. Use pandas.concat instead.\n",
      "  feature_pd = feature_pd.append(pd.DataFrame(saving, index=feature).transpose(), ignore_index=True)\n",
      "/var/folders/dn/j0_7h7gx2sq58_nt9816ss480000gn/T/ipykernel_6547/4250457866.py:74: FutureWarning: The frame.append method is deprecated and will be removed from pandas in a future version. Use pandas.concat instead.\n",
      "  feature_pd = feature_pd.append(pd.DataFrame(saving, index=feature).transpose(), ignore_index=True)\n",
      "/var/folders/dn/j0_7h7gx2sq58_nt9816ss480000gn/T/ipykernel_6547/4250457866.py:74: FutureWarning: The frame.append method is deprecated and will be removed from pandas in a future version. Use pandas.concat instead.\n",
      "  feature_pd = feature_pd.append(pd.DataFrame(saving, index=feature).transpose(), ignore_index=True)\n"
     ]
    },
    {
     "name": "stdout",
     "output_type": "stream",
     "text": [
      "592\n",
      "593\n"
     ]
    },
    {
     "name": "stderr",
     "output_type": "stream",
     "text": [
      "/var/folders/dn/j0_7h7gx2sq58_nt9816ss480000gn/T/ipykernel_6547/4250457866.py:74: FutureWarning: The frame.append method is deprecated and will be removed from pandas in a future version. Use pandas.concat instead.\n",
      "  feature_pd = feature_pd.append(pd.DataFrame(saving, index=feature).transpose(), ignore_index=True)\n",
      "/var/folders/dn/j0_7h7gx2sq58_nt9816ss480000gn/T/ipykernel_6547/4250457866.py:74: FutureWarning: The frame.append method is deprecated and will be removed from pandas in a future version. Use pandas.concat instead.\n",
      "  feature_pd = feature_pd.append(pd.DataFrame(saving, index=feature).transpose(), ignore_index=True)\n"
     ]
    },
    {
     "name": "stdout",
     "output_type": "stream",
     "text": [
      "594\n",
      "595\n"
     ]
    },
    {
     "name": "stderr",
     "output_type": "stream",
     "text": [
      "/var/folders/dn/j0_7h7gx2sq58_nt9816ss480000gn/T/ipykernel_6547/4250457866.py:74: FutureWarning: The frame.append method is deprecated and will be removed from pandas in a future version. Use pandas.concat instead.\n",
      "  feature_pd = feature_pd.append(pd.DataFrame(saving, index=feature).transpose(), ignore_index=True)\n",
      "/var/folders/dn/j0_7h7gx2sq58_nt9816ss480000gn/T/ipykernel_6547/4250457866.py:74: FutureWarning: The frame.append method is deprecated and will be removed from pandas in a future version. Use pandas.concat instead.\n",
      "  feature_pd = feature_pd.append(pd.DataFrame(saving, index=feature).transpose(), ignore_index=True)\n"
     ]
    },
    {
     "name": "stdout",
     "output_type": "stream",
     "text": [
      "596\n",
      "597\n"
     ]
    },
    {
     "name": "stderr",
     "output_type": "stream",
     "text": [
      "/var/folders/dn/j0_7h7gx2sq58_nt9816ss480000gn/T/ipykernel_6547/4250457866.py:74: FutureWarning: The frame.append method is deprecated and will be removed from pandas in a future version. Use pandas.concat instead.\n",
      "  feature_pd = feature_pd.append(pd.DataFrame(saving, index=feature).transpose(), ignore_index=True)\n",
      "/var/folders/dn/j0_7h7gx2sq58_nt9816ss480000gn/T/ipykernel_6547/4250457866.py:74: FutureWarning: The frame.append method is deprecated and will be removed from pandas in a future version. Use pandas.concat instead.\n",
      "  feature_pd = feature_pd.append(pd.DataFrame(saving, index=feature).transpose(), ignore_index=True)\n"
     ]
    },
    {
     "name": "stdout",
     "output_type": "stream",
     "text": [
      "598\n",
      "599\n",
      "600\n",
      "601\n"
     ]
    },
    {
     "name": "stderr",
     "output_type": "stream",
     "text": [
      "/var/folders/dn/j0_7h7gx2sq58_nt9816ss480000gn/T/ipykernel_6547/4250457866.py:74: FutureWarning: The frame.append method is deprecated and will be removed from pandas in a future version. Use pandas.concat instead.\n",
      "  feature_pd = feature_pd.append(pd.DataFrame(saving, index=feature).transpose(), ignore_index=True)\n",
      "/var/folders/dn/j0_7h7gx2sq58_nt9816ss480000gn/T/ipykernel_6547/4250457866.py:74: FutureWarning: The frame.append method is deprecated and will be removed from pandas in a future version. Use pandas.concat instead.\n",
      "  feature_pd = feature_pd.append(pd.DataFrame(saving, index=feature).transpose(), ignore_index=True)\n",
      "/var/folders/dn/j0_7h7gx2sq58_nt9816ss480000gn/T/ipykernel_6547/4250457866.py:74: FutureWarning: The frame.append method is deprecated and will be removed from pandas in a future version. Use pandas.concat instead.\n",
      "  feature_pd = feature_pd.append(pd.DataFrame(saving, index=feature).transpose(), ignore_index=True)\n",
      "/var/folders/dn/j0_7h7gx2sq58_nt9816ss480000gn/T/ipykernel_6547/4250457866.py:74: FutureWarning: The frame.append method is deprecated and will be removed from pandas in a future version. Use pandas.concat instead.\n",
      "  feature_pd = feature_pd.append(pd.DataFrame(saving, index=feature).transpose(), ignore_index=True)\n"
     ]
    },
    {
     "name": "stdout",
     "output_type": "stream",
     "text": [
      "602\n",
      "603\n"
     ]
    },
    {
     "name": "stderr",
     "output_type": "stream",
     "text": [
      "/var/folders/dn/j0_7h7gx2sq58_nt9816ss480000gn/T/ipykernel_6547/4250457866.py:74: FutureWarning: The frame.append method is deprecated and will be removed from pandas in a future version. Use pandas.concat instead.\n",
      "  feature_pd = feature_pd.append(pd.DataFrame(saving, index=feature).transpose(), ignore_index=True)\n",
      "/var/folders/dn/j0_7h7gx2sq58_nt9816ss480000gn/T/ipykernel_6547/4250457866.py:74: FutureWarning: The frame.append method is deprecated and will be removed from pandas in a future version. Use pandas.concat instead.\n",
      "  feature_pd = feature_pd.append(pd.DataFrame(saving, index=feature).transpose(), ignore_index=True)\n"
     ]
    },
    {
     "name": "stdout",
     "output_type": "stream",
     "text": [
      "604\n",
      "605\n",
      "606\n"
     ]
    },
    {
     "name": "stderr",
     "output_type": "stream",
     "text": [
      "/var/folders/dn/j0_7h7gx2sq58_nt9816ss480000gn/T/ipykernel_6547/4250457866.py:74: FutureWarning: The frame.append method is deprecated and will be removed from pandas in a future version. Use pandas.concat instead.\n",
      "  feature_pd = feature_pd.append(pd.DataFrame(saving, index=feature).transpose(), ignore_index=True)\n",
      "/var/folders/dn/j0_7h7gx2sq58_nt9816ss480000gn/T/ipykernel_6547/4250457866.py:74: FutureWarning: The frame.append method is deprecated and will be removed from pandas in a future version. Use pandas.concat instead.\n",
      "  feature_pd = feature_pd.append(pd.DataFrame(saving, index=feature).transpose(), ignore_index=True)\n",
      "/var/folders/dn/j0_7h7gx2sq58_nt9816ss480000gn/T/ipykernel_6547/4250457866.py:74: FutureWarning: The frame.append method is deprecated and will be removed from pandas in a future version. Use pandas.concat instead.\n",
      "  feature_pd = feature_pd.append(pd.DataFrame(saving, index=feature).transpose(), ignore_index=True)\n"
     ]
    },
    {
     "name": "stdout",
     "output_type": "stream",
     "text": [
      "607\n",
      "608\n",
      "609\n",
      "610\n",
      "611\n"
     ]
    },
    {
     "name": "stderr",
     "output_type": "stream",
     "text": [
      "/var/folders/dn/j0_7h7gx2sq58_nt9816ss480000gn/T/ipykernel_6547/4250457866.py:74: FutureWarning: The frame.append method is deprecated and will be removed from pandas in a future version. Use pandas.concat instead.\n",
      "  feature_pd = feature_pd.append(pd.DataFrame(saving, index=feature).transpose(), ignore_index=True)\n",
      "/var/folders/dn/j0_7h7gx2sq58_nt9816ss480000gn/T/ipykernel_6547/4250457866.py:74: FutureWarning: The frame.append method is deprecated and will be removed from pandas in a future version. Use pandas.concat instead.\n",
      "  feature_pd = feature_pd.append(pd.DataFrame(saving, index=feature).transpose(), ignore_index=True)\n",
      "/var/folders/dn/j0_7h7gx2sq58_nt9816ss480000gn/T/ipykernel_6547/4250457866.py:74: FutureWarning: The frame.append method is deprecated and will be removed from pandas in a future version. Use pandas.concat instead.\n",
      "  feature_pd = feature_pd.append(pd.DataFrame(saving, index=feature).transpose(), ignore_index=True)\n",
      "/var/folders/dn/j0_7h7gx2sq58_nt9816ss480000gn/T/ipykernel_6547/4250457866.py:74: FutureWarning: The frame.append method is deprecated and will be removed from pandas in a future version. Use pandas.concat instead.\n",
      "  feature_pd = feature_pd.append(pd.DataFrame(saving, index=feature).transpose(), ignore_index=True)\n",
      "/var/folders/dn/j0_7h7gx2sq58_nt9816ss480000gn/T/ipykernel_6547/4250457866.py:74: FutureWarning: The frame.append method is deprecated and will be removed from pandas in a future version. Use pandas.concat instead.\n",
      "  feature_pd = feature_pd.append(pd.DataFrame(saving, index=feature).transpose(), ignore_index=True)\n"
     ]
    },
    {
     "name": "stdout",
     "output_type": "stream",
     "text": [
      "612\n",
      "613\n",
      "614\n",
      "615\n"
     ]
    },
    {
     "name": "stderr",
     "output_type": "stream",
     "text": [
      "/var/folders/dn/j0_7h7gx2sq58_nt9816ss480000gn/T/ipykernel_6547/4250457866.py:74: FutureWarning: The frame.append method is deprecated and will be removed from pandas in a future version. Use pandas.concat instead.\n",
      "  feature_pd = feature_pd.append(pd.DataFrame(saving, index=feature).transpose(), ignore_index=True)\n",
      "/var/folders/dn/j0_7h7gx2sq58_nt9816ss480000gn/T/ipykernel_6547/4250457866.py:74: FutureWarning: The frame.append method is deprecated and will be removed from pandas in a future version. Use pandas.concat instead.\n",
      "  feature_pd = feature_pd.append(pd.DataFrame(saving, index=feature).transpose(), ignore_index=True)\n",
      "/var/folders/dn/j0_7h7gx2sq58_nt9816ss480000gn/T/ipykernel_6547/4250457866.py:74: FutureWarning: The frame.append method is deprecated and will be removed from pandas in a future version. Use pandas.concat instead.\n",
      "  feature_pd = feature_pd.append(pd.DataFrame(saving, index=feature).transpose(), ignore_index=True)\n",
      "/var/folders/dn/j0_7h7gx2sq58_nt9816ss480000gn/T/ipykernel_6547/4250457866.py:74: FutureWarning: The frame.append method is deprecated and will be removed from pandas in a future version. Use pandas.concat instead.\n",
      "  feature_pd = feature_pd.append(pd.DataFrame(saving, index=feature).transpose(), ignore_index=True)\n"
     ]
    },
    {
     "name": "stdout",
     "output_type": "stream",
     "text": [
      "616\n",
      "617\n"
     ]
    },
    {
     "name": "stderr",
     "output_type": "stream",
     "text": [
      "/var/folders/dn/j0_7h7gx2sq58_nt9816ss480000gn/T/ipykernel_6547/4250457866.py:74: FutureWarning: The frame.append method is deprecated and will be removed from pandas in a future version. Use pandas.concat instead.\n",
      "  feature_pd = feature_pd.append(pd.DataFrame(saving, index=feature).transpose(), ignore_index=True)\n",
      "/var/folders/dn/j0_7h7gx2sq58_nt9816ss480000gn/T/ipykernel_6547/4250457866.py:74: FutureWarning: The frame.append method is deprecated and will be removed from pandas in a future version. Use pandas.concat instead.\n",
      "  feature_pd = feature_pd.append(pd.DataFrame(saving, index=feature).transpose(), ignore_index=True)\n"
     ]
    },
    {
     "name": "stdout",
     "output_type": "stream",
     "text": [
      "618\n",
      "619\n",
      "620\n"
     ]
    },
    {
     "name": "stderr",
     "output_type": "stream",
     "text": [
      "/var/folders/dn/j0_7h7gx2sq58_nt9816ss480000gn/T/ipykernel_6547/4250457866.py:74: FutureWarning: The frame.append method is deprecated and will be removed from pandas in a future version. Use pandas.concat instead.\n",
      "  feature_pd = feature_pd.append(pd.DataFrame(saving, index=feature).transpose(), ignore_index=True)\n",
      "/var/folders/dn/j0_7h7gx2sq58_nt9816ss480000gn/T/ipykernel_6547/4250457866.py:74: FutureWarning: The frame.append method is deprecated and will be removed from pandas in a future version. Use pandas.concat instead.\n",
      "  feature_pd = feature_pd.append(pd.DataFrame(saving, index=feature).transpose(), ignore_index=True)\n",
      "/var/folders/dn/j0_7h7gx2sq58_nt9816ss480000gn/T/ipykernel_6547/4250457866.py:74: FutureWarning: The frame.append method is deprecated and will be removed from pandas in a future version. Use pandas.concat instead.\n",
      "  feature_pd = feature_pd.append(pd.DataFrame(saving, index=feature).transpose(), ignore_index=True)\n"
     ]
    },
    {
     "name": "stdout",
     "output_type": "stream",
     "text": [
      "621\n",
      "622\n"
     ]
    },
    {
     "name": "stderr",
     "output_type": "stream",
     "text": [
      "/var/folders/dn/j0_7h7gx2sq58_nt9816ss480000gn/T/ipykernel_6547/4250457866.py:74: FutureWarning: The frame.append method is deprecated and will be removed from pandas in a future version. Use pandas.concat instead.\n",
      "  feature_pd = feature_pd.append(pd.DataFrame(saving, index=feature).transpose(), ignore_index=True)\n",
      "/var/folders/dn/j0_7h7gx2sq58_nt9816ss480000gn/T/ipykernel_6547/4250457866.py:74: FutureWarning: The frame.append method is deprecated and will be removed from pandas in a future version. Use pandas.concat instead.\n",
      "  feature_pd = feature_pd.append(pd.DataFrame(saving, index=feature).transpose(), ignore_index=True)\n"
     ]
    },
    {
     "name": "stdout",
     "output_type": "stream",
     "text": [
      "623\n",
      "624\n",
      "625\n",
      "626\n"
     ]
    },
    {
     "name": "stderr",
     "output_type": "stream",
     "text": [
      "/var/folders/dn/j0_7h7gx2sq58_nt9816ss480000gn/T/ipykernel_6547/4250457866.py:74: FutureWarning: The frame.append method is deprecated and will be removed from pandas in a future version. Use pandas.concat instead.\n",
      "  feature_pd = feature_pd.append(pd.DataFrame(saving, index=feature).transpose(), ignore_index=True)\n",
      "/var/folders/dn/j0_7h7gx2sq58_nt9816ss480000gn/T/ipykernel_6547/4250457866.py:74: FutureWarning: The frame.append method is deprecated and will be removed from pandas in a future version. Use pandas.concat instead.\n",
      "  feature_pd = feature_pd.append(pd.DataFrame(saving, index=feature).transpose(), ignore_index=True)\n",
      "/var/folders/dn/j0_7h7gx2sq58_nt9816ss480000gn/T/ipykernel_6547/4250457866.py:74: FutureWarning: The frame.append method is deprecated and will be removed from pandas in a future version. Use pandas.concat instead.\n",
      "  feature_pd = feature_pd.append(pd.DataFrame(saving, index=feature).transpose(), ignore_index=True)\n",
      "/var/folders/dn/j0_7h7gx2sq58_nt9816ss480000gn/T/ipykernel_6547/4250457866.py:74: FutureWarning: The frame.append method is deprecated and will be removed from pandas in a future version. Use pandas.concat instead.\n",
      "  feature_pd = feature_pd.append(pd.DataFrame(saving, index=feature).transpose(), ignore_index=True)\n"
     ]
    },
    {
     "name": "stdout",
     "output_type": "stream",
     "text": [
      "627\n",
      "628\n",
      "629\n"
     ]
    },
    {
     "name": "stderr",
     "output_type": "stream",
     "text": [
      "/var/folders/dn/j0_7h7gx2sq58_nt9816ss480000gn/T/ipykernel_6547/4250457866.py:74: FutureWarning: The frame.append method is deprecated and will be removed from pandas in a future version. Use pandas.concat instead.\n",
      "  feature_pd = feature_pd.append(pd.DataFrame(saving, index=feature).transpose(), ignore_index=True)\n",
      "/var/folders/dn/j0_7h7gx2sq58_nt9816ss480000gn/T/ipykernel_6547/4250457866.py:74: FutureWarning: The frame.append method is deprecated and will be removed from pandas in a future version. Use pandas.concat instead.\n",
      "  feature_pd = feature_pd.append(pd.DataFrame(saving, index=feature).transpose(), ignore_index=True)\n",
      "/var/folders/dn/j0_7h7gx2sq58_nt9816ss480000gn/T/ipykernel_6547/4250457866.py:74: FutureWarning: The frame.append method is deprecated and will be removed from pandas in a future version. Use pandas.concat instead.\n",
      "  feature_pd = feature_pd.append(pd.DataFrame(saving, index=feature).transpose(), ignore_index=True)\n"
     ]
    },
    {
     "name": "stdout",
     "output_type": "stream",
     "text": [
      "630\n",
      "631\n",
      "632\n",
      "633\n"
     ]
    },
    {
     "name": "stderr",
     "output_type": "stream",
     "text": [
      "/var/folders/dn/j0_7h7gx2sq58_nt9816ss480000gn/T/ipykernel_6547/4250457866.py:74: FutureWarning: The frame.append method is deprecated and will be removed from pandas in a future version. Use pandas.concat instead.\n",
      "  feature_pd = feature_pd.append(pd.DataFrame(saving, index=feature).transpose(), ignore_index=True)\n",
      "/var/folders/dn/j0_7h7gx2sq58_nt9816ss480000gn/T/ipykernel_6547/4250457866.py:74: FutureWarning: The frame.append method is deprecated and will be removed from pandas in a future version. Use pandas.concat instead.\n",
      "  feature_pd = feature_pd.append(pd.DataFrame(saving, index=feature).transpose(), ignore_index=True)\n",
      "/var/folders/dn/j0_7h7gx2sq58_nt9816ss480000gn/T/ipykernel_6547/4250457866.py:74: FutureWarning: The frame.append method is deprecated and will be removed from pandas in a future version. Use pandas.concat instead.\n",
      "  feature_pd = feature_pd.append(pd.DataFrame(saving, index=feature).transpose(), ignore_index=True)\n",
      "/var/folders/dn/j0_7h7gx2sq58_nt9816ss480000gn/T/ipykernel_6547/4250457866.py:74: FutureWarning: The frame.append method is deprecated and will be removed from pandas in a future version. Use pandas.concat instead.\n",
      "  feature_pd = feature_pd.append(pd.DataFrame(saving, index=feature).transpose(), ignore_index=True)\n"
     ]
    },
    {
     "name": "stdout",
     "output_type": "stream",
     "text": [
      "634\n",
      "635\n",
      "636\n",
      "637\n"
     ]
    },
    {
     "name": "stderr",
     "output_type": "stream",
     "text": [
      "/var/folders/dn/j0_7h7gx2sq58_nt9816ss480000gn/T/ipykernel_6547/4250457866.py:74: FutureWarning: The frame.append method is deprecated and will be removed from pandas in a future version. Use pandas.concat instead.\n",
      "  feature_pd = feature_pd.append(pd.DataFrame(saving, index=feature).transpose(), ignore_index=True)\n",
      "/var/folders/dn/j0_7h7gx2sq58_nt9816ss480000gn/T/ipykernel_6547/4250457866.py:74: FutureWarning: The frame.append method is deprecated and will be removed from pandas in a future version. Use pandas.concat instead.\n",
      "  feature_pd = feature_pd.append(pd.DataFrame(saving, index=feature).transpose(), ignore_index=True)\n",
      "/var/folders/dn/j0_7h7gx2sq58_nt9816ss480000gn/T/ipykernel_6547/4250457866.py:74: FutureWarning: The frame.append method is deprecated and will be removed from pandas in a future version. Use pandas.concat instead.\n",
      "  feature_pd = feature_pd.append(pd.DataFrame(saving, index=feature).transpose(), ignore_index=True)\n",
      "/var/folders/dn/j0_7h7gx2sq58_nt9816ss480000gn/T/ipykernel_6547/4250457866.py:74: FutureWarning: The frame.append method is deprecated and will be removed from pandas in a future version. Use pandas.concat instead.\n",
      "  feature_pd = feature_pd.append(pd.DataFrame(saving, index=feature).transpose(), ignore_index=True)\n"
     ]
    },
    {
     "name": "stdout",
     "output_type": "stream",
     "text": [
      "638\n",
      "639\n",
      "640\n"
     ]
    },
    {
     "name": "stderr",
     "output_type": "stream",
     "text": [
      "/var/folders/dn/j0_7h7gx2sq58_nt9816ss480000gn/T/ipykernel_6547/4250457866.py:74: FutureWarning: The frame.append method is deprecated and will be removed from pandas in a future version. Use pandas.concat instead.\n",
      "  feature_pd = feature_pd.append(pd.DataFrame(saving, index=feature).transpose(), ignore_index=True)\n",
      "/var/folders/dn/j0_7h7gx2sq58_nt9816ss480000gn/T/ipykernel_6547/4250457866.py:74: FutureWarning: The frame.append method is deprecated and will be removed from pandas in a future version. Use pandas.concat instead.\n",
      "  feature_pd = feature_pd.append(pd.DataFrame(saving, index=feature).transpose(), ignore_index=True)\n",
      "/var/folders/dn/j0_7h7gx2sq58_nt9816ss480000gn/T/ipykernel_6547/4250457866.py:74: FutureWarning: The frame.append method is deprecated and will be removed from pandas in a future version. Use pandas.concat instead.\n",
      "  feature_pd = feature_pd.append(pd.DataFrame(saving, index=feature).transpose(), ignore_index=True)\n"
     ]
    },
    {
     "name": "stdout",
     "output_type": "stream",
     "text": [
      "641\n",
      "642\n"
     ]
    },
    {
     "name": "stderr",
     "output_type": "stream",
     "text": [
      "/var/folders/dn/j0_7h7gx2sq58_nt9816ss480000gn/T/ipykernel_6547/4250457866.py:74: FutureWarning: The frame.append method is deprecated and will be removed from pandas in a future version. Use pandas.concat instead.\n",
      "  feature_pd = feature_pd.append(pd.DataFrame(saving, index=feature).transpose(), ignore_index=True)\n",
      "/var/folders/dn/j0_7h7gx2sq58_nt9816ss480000gn/T/ipykernel_6547/4250457866.py:74: FutureWarning: The frame.append method is deprecated and will be removed from pandas in a future version. Use pandas.concat instead.\n",
      "  feature_pd = feature_pd.append(pd.DataFrame(saving, index=feature).transpose(), ignore_index=True)\n"
     ]
    },
    {
     "name": "stdout",
     "output_type": "stream",
     "text": [
      "643\n"
     ]
    },
    {
     "name": "stderr",
     "output_type": "stream",
     "text": [
      "/var/folders/dn/j0_7h7gx2sq58_nt9816ss480000gn/T/ipykernel_6547/4250457866.py:74: FutureWarning: The frame.append method is deprecated and will be removed from pandas in a future version. Use pandas.concat instead.\n",
      "  feature_pd = feature_pd.append(pd.DataFrame(saving, index=feature).transpose(), ignore_index=True)\n"
     ]
    },
    {
     "name": "stdout",
     "output_type": "stream",
     "text": [
      "644\n",
      "645\n",
      "646\n",
      "647\n"
     ]
    },
    {
     "name": "stderr",
     "output_type": "stream",
     "text": [
      "/var/folders/dn/j0_7h7gx2sq58_nt9816ss480000gn/T/ipykernel_6547/4250457866.py:74: FutureWarning: The frame.append method is deprecated and will be removed from pandas in a future version. Use pandas.concat instead.\n",
      "  feature_pd = feature_pd.append(pd.DataFrame(saving, index=feature).transpose(), ignore_index=True)\n",
      "/var/folders/dn/j0_7h7gx2sq58_nt9816ss480000gn/T/ipykernel_6547/4250457866.py:74: FutureWarning: The frame.append method is deprecated and will be removed from pandas in a future version. Use pandas.concat instead.\n",
      "  feature_pd = feature_pd.append(pd.DataFrame(saving, index=feature).transpose(), ignore_index=True)\n",
      "/var/folders/dn/j0_7h7gx2sq58_nt9816ss480000gn/T/ipykernel_6547/4250457866.py:74: FutureWarning: The frame.append method is deprecated and will be removed from pandas in a future version. Use pandas.concat instead.\n",
      "  feature_pd = feature_pd.append(pd.DataFrame(saving, index=feature).transpose(), ignore_index=True)\n",
      "/var/folders/dn/j0_7h7gx2sq58_nt9816ss480000gn/T/ipykernel_6547/4250457866.py:74: FutureWarning: The frame.append method is deprecated and will be removed from pandas in a future version. Use pandas.concat instead.\n",
      "  feature_pd = feature_pd.append(pd.DataFrame(saving, index=feature).transpose(), ignore_index=True)\n"
     ]
    },
    {
     "name": "stdout",
     "output_type": "stream",
     "text": [
      "648\n",
      "649\n",
      "650\n"
     ]
    },
    {
     "name": "stderr",
     "output_type": "stream",
     "text": [
      "/var/folders/dn/j0_7h7gx2sq58_nt9816ss480000gn/T/ipykernel_6547/4250457866.py:74: FutureWarning: The frame.append method is deprecated and will be removed from pandas in a future version. Use pandas.concat instead.\n",
      "  feature_pd = feature_pd.append(pd.DataFrame(saving, index=feature).transpose(), ignore_index=True)\n",
      "/var/folders/dn/j0_7h7gx2sq58_nt9816ss480000gn/T/ipykernel_6547/4250457866.py:74: FutureWarning: The frame.append method is deprecated and will be removed from pandas in a future version. Use pandas.concat instead.\n",
      "  feature_pd = feature_pd.append(pd.DataFrame(saving, index=feature).transpose(), ignore_index=True)\n",
      "/var/folders/dn/j0_7h7gx2sq58_nt9816ss480000gn/T/ipykernel_6547/4250457866.py:74: FutureWarning: The frame.append method is deprecated and will be removed from pandas in a future version. Use pandas.concat instead.\n",
      "  feature_pd = feature_pd.append(pd.DataFrame(saving, index=feature).transpose(), ignore_index=True)\n"
     ]
    },
    {
     "name": "stdout",
     "output_type": "stream",
     "text": [
      "651\n",
      "652\n",
      "653\n"
     ]
    },
    {
     "name": "stderr",
     "output_type": "stream",
     "text": [
      "/var/folders/dn/j0_7h7gx2sq58_nt9816ss480000gn/T/ipykernel_6547/4250457866.py:74: FutureWarning: The frame.append method is deprecated and will be removed from pandas in a future version. Use pandas.concat instead.\n",
      "  feature_pd = feature_pd.append(pd.DataFrame(saving, index=feature).transpose(), ignore_index=True)\n",
      "/var/folders/dn/j0_7h7gx2sq58_nt9816ss480000gn/T/ipykernel_6547/4250457866.py:74: FutureWarning: The frame.append method is deprecated and will be removed from pandas in a future version. Use pandas.concat instead.\n",
      "  feature_pd = feature_pd.append(pd.DataFrame(saving, index=feature).transpose(), ignore_index=True)\n",
      "/var/folders/dn/j0_7h7gx2sq58_nt9816ss480000gn/T/ipykernel_6547/4250457866.py:74: FutureWarning: The frame.append method is deprecated and will be removed from pandas in a future version. Use pandas.concat instead.\n",
      "  feature_pd = feature_pd.append(pd.DataFrame(saving, index=feature).transpose(), ignore_index=True)\n"
     ]
    },
    {
     "name": "stdout",
     "output_type": "stream",
     "text": [
      "654\n",
      "655\n",
      "656\n"
     ]
    },
    {
     "name": "stderr",
     "output_type": "stream",
     "text": [
      "/var/folders/dn/j0_7h7gx2sq58_nt9816ss480000gn/T/ipykernel_6547/4250457866.py:74: FutureWarning: The frame.append method is deprecated and will be removed from pandas in a future version. Use pandas.concat instead.\n",
      "  feature_pd = feature_pd.append(pd.DataFrame(saving, index=feature).transpose(), ignore_index=True)\n",
      "/var/folders/dn/j0_7h7gx2sq58_nt9816ss480000gn/T/ipykernel_6547/4250457866.py:74: FutureWarning: The frame.append method is deprecated and will be removed from pandas in a future version. Use pandas.concat instead.\n",
      "  feature_pd = feature_pd.append(pd.DataFrame(saving, index=feature).transpose(), ignore_index=True)\n",
      "/var/folders/dn/j0_7h7gx2sq58_nt9816ss480000gn/T/ipykernel_6547/4250457866.py:74: FutureWarning: The frame.append method is deprecated and will be removed from pandas in a future version. Use pandas.concat instead.\n",
      "  feature_pd = feature_pd.append(pd.DataFrame(saving, index=feature).transpose(), ignore_index=True)\n"
     ]
    },
    {
     "name": "stdout",
     "output_type": "stream",
     "text": [
      "657\n",
      "658\n",
      "659\n"
     ]
    },
    {
     "name": "stderr",
     "output_type": "stream",
     "text": [
      "/var/folders/dn/j0_7h7gx2sq58_nt9816ss480000gn/T/ipykernel_6547/4250457866.py:74: FutureWarning: The frame.append method is deprecated and will be removed from pandas in a future version. Use pandas.concat instead.\n",
      "  feature_pd = feature_pd.append(pd.DataFrame(saving, index=feature).transpose(), ignore_index=True)\n",
      "/var/folders/dn/j0_7h7gx2sq58_nt9816ss480000gn/T/ipykernel_6547/4250457866.py:74: FutureWarning: The frame.append method is deprecated and will be removed from pandas in a future version. Use pandas.concat instead.\n",
      "  feature_pd = feature_pd.append(pd.DataFrame(saving, index=feature).transpose(), ignore_index=True)\n",
      "/var/folders/dn/j0_7h7gx2sq58_nt9816ss480000gn/T/ipykernel_6547/4250457866.py:74: FutureWarning: The frame.append method is deprecated and will be removed from pandas in a future version. Use pandas.concat instead.\n",
      "  feature_pd = feature_pd.append(pd.DataFrame(saving, index=feature).transpose(), ignore_index=True)\n"
     ]
    },
    {
     "name": "stdout",
     "output_type": "stream",
     "text": [
      "660\n",
      "661\n",
      "662\n"
     ]
    },
    {
     "name": "stderr",
     "output_type": "stream",
     "text": [
      "/var/folders/dn/j0_7h7gx2sq58_nt9816ss480000gn/T/ipykernel_6547/4250457866.py:74: FutureWarning: The frame.append method is deprecated and will be removed from pandas in a future version. Use pandas.concat instead.\n",
      "  feature_pd = feature_pd.append(pd.DataFrame(saving, index=feature).transpose(), ignore_index=True)\n",
      "/var/folders/dn/j0_7h7gx2sq58_nt9816ss480000gn/T/ipykernel_6547/4250457866.py:74: FutureWarning: The frame.append method is deprecated and will be removed from pandas in a future version. Use pandas.concat instead.\n",
      "  feature_pd = feature_pd.append(pd.DataFrame(saving, index=feature).transpose(), ignore_index=True)\n",
      "/var/folders/dn/j0_7h7gx2sq58_nt9816ss480000gn/T/ipykernel_6547/4250457866.py:74: FutureWarning: The frame.append method is deprecated and will be removed from pandas in a future version. Use pandas.concat instead.\n",
      "  feature_pd = feature_pd.append(pd.DataFrame(saving, index=feature).transpose(), ignore_index=True)\n"
     ]
    },
    {
     "name": "stdout",
     "output_type": "stream",
     "text": [
      "663\n",
      "664\n",
      "665\n",
      "666\n"
     ]
    },
    {
     "name": "stderr",
     "output_type": "stream",
     "text": [
      "/var/folders/dn/j0_7h7gx2sq58_nt9816ss480000gn/T/ipykernel_6547/4250457866.py:74: FutureWarning: The frame.append method is deprecated and will be removed from pandas in a future version. Use pandas.concat instead.\n",
      "  feature_pd = feature_pd.append(pd.DataFrame(saving, index=feature).transpose(), ignore_index=True)\n",
      "/var/folders/dn/j0_7h7gx2sq58_nt9816ss480000gn/T/ipykernel_6547/4250457866.py:74: FutureWarning: The frame.append method is deprecated and will be removed from pandas in a future version. Use pandas.concat instead.\n",
      "  feature_pd = feature_pd.append(pd.DataFrame(saving, index=feature).transpose(), ignore_index=True)\n",
      "/var/folders/dn/j0_7h7gx2sq58_nt9816ss480000gn/T/ipykernel_6547/4250457866.py:74: FutureWarning: The frame.append method is deprecated and will be removed from pandas in a future version. Use pandas.concat instead.\n",
      "  feature_pd = feature_pd.append(pd.DataFrame(saving, index=feature).transpose(), ignore_index=True)\n",
      "/var/folders/dn/j0_7h7gx2sq58_nt9816ss480000gn/T/ipykernel_6547/4250457866.py:74: FutureWarning: The frame.append method is deprecated and will be removed from pandas in a future version. Use pandas.concat instead.\n",
      "  feature_pd = feature_pd.append(pd.DataFrame(saving, index=feature).transpose(), ignore_index=True)\n"
     ]
    },
    {
     "name": "stdout",
     "output_type": "stream",
     "text": [
      "667\n",
      "668\n",
      "669\n",
      "670\n"
     ]
    },
    {
     "name": "stderr",
     "output_type": "stream",
     "text": [
      "/var/folders/dn/j0_7h7gx2sq58_nt9816ss480000gn/T/ipykernel_6547/4250457866.py:74: FutureWarning: The frame.append method is deprecated and will be removed from pandas in a future version. Use pandas.concat instead.\n",
      "  feature_pd = feature_pd.append(pd.DataFrame(saving, index=feature).transpose(), ignore_index=True)\n",
      "/var/folders/dn/j0_7h7gx2sq58_nt9816ss480000gn/T/ipykernel_6547/4250457866.py:74: FutureWarning: The frame.append method is deprecated and will be removed from pandas in a future version. Use pandas.concat instead.\n",
      "  feature_pd = feature_pd.append(pd.DataFrame(saving, index=feature).transpose(), ignore_index=True)\n",
      "/var/folders/dn/j0_7h7gx2sq58_nt9816ss480000gn/T/ipykernel_6547/4250457866.py:74: FutureWarning: The frame.append method is deprecated and will be removed from pandas in a future version. Use pandas.concat instead.\n",
      "  feature_pd = feature_pd.append(pd.DataFrame(saving, index=feature).transpose(), ignore_index=True)\n",
      "/var/folders/dn/j0_7h7gx2sq58_nt9816ss480000gn/T/ipykernel_6547/4250457866.py:74: FutureWarning: The frame.append method is deprecated and will be removed from pandas in a future version. Use pandas.concat instead.\n",
      "  feature_pd = feature_pd.append(pd.DataFrame(saving, index=feature).transpose(), ignore_index=True)\n"
     ]
    },
    {
     "name": "stdout",
     "output_type": "stream",
     "text": [
      "671\n",
      "672\n",
      "673\n"
     ]
    },
    {
     "name": "stderr",
     "output_type": "stream",
     "text": [
      "/var/folders/dn/j0_7h7gx2sq58_nt9816ss480000gn/T/ipykernel_6547/4250457866.py:74: FutureWarning: The frame.append method is deprecated and will be removed from pandas in a future version. Use pandas.concat instead.\n",
      "  feature_pd = feature_pd.append(pd.DataFrame(saving, index=feature).transpose(), ignore_index=True)\n",
      "/var/folders/dn/j0_7h7gx2sq58_nt9816ss480000gn/T/ipykernel_6547/4250457866.py:74: FutureWarning: The frame.append method is deprecated and will be removed from pandas in a future version. Use pandas.concat instead.\n",
      "  feature_pd = feature_pd.append(pd.DataFrame(saving, index=feature).transpose(), ignore_index=True)\n",
      "/var/folders/dn/j0_7h7gx2sq58_nt9816ss480000gn/T/ipykernel_6547/4250457866.py:74: FutureWarning: The frame.append method is deprecated and will be removed from pandas in a future version. Use pandas.concat instead.\n",
      "  feature_pd = feature_pd.append(pd.DataFrame(saving, index=feature).transpose(), ignore_index=True)\n"
     ]
    },
    {
     "name": "stdout",
     "output_type": "stream",
     "text": [
      "674\n",
      "675\n",
      "676\n"
     ]
    },
    {
     "name": "stderr",
     "output_type": "stream",
     "text": [
      "/var/folders/dn/j0_7h7gx2sq58_nt9816ss480000gn/T/ipykernel_6547/4250457866.py:74: FutureWarning: The frame.append method is deprecated and will be removed from pandas in a future version. Use pandas.concat instead.\n",
      "  feature_pd = feature_pd.append(pd.DataFrame(saving, index=feature).transpose(), ignore_index=True)\n",
      "/var/folders/dn/j0_7h7gx2sq58_nt9816ss480000gn/T/ipykernel_6547/4250457866.py:74: FutureWarning: The frame.append method is deprecated and will be removed from pandas in a future version. Use pandas.concat instead.\n",
      "  feature_pd = feature_pd.append(pd.DataFrame(saving, index=feature).transpose(), ignore_index=True)\n",
      "/var/folders/dn/j0_7h7gx2sq58_nt9816ss480000gn/T/ipykernel_6547/4250457866.py:74: FutureWarning: The frame.append method is deprecated and will be removed from pandas in a future version. Use pandas.concat instead.\n",
      "  feature_pd = feature_pd.append(pd.DataFrame(saving, index=feature).transpose(), ignore_index=True)\n"
     ]
    },
    {
     "name": "stdout",
     "output_type": "stream",
     "text": [
      "677\n",
      "678\n",
      "679\n",
      "680\n"
     ]
    },
    {
     "name": "stderr",
     "output_type": "stream",
     "text": [
      "/var/folders/dn/j0_7h7gx2sq58_nt9816ss480000gn/T/ipykernel_6547/4250457866.py:74: FutureWarning: The frame.append method is deprecated and will be removed from pandas in a future version. Use pandas.concat instead.\n",
      "  feature_pd = feature_pd.append(pd.DataFrame(saving, index=feature).transpose(), ignore_index=True)\n",
      "/var/folders/dn/j0_7h7gx2sq58_nt9816ss480000gn/T/ipykernel_6547/4250457866.py:74: FutureWarning: The frame.append method is deprecated and will be removed from pandas in a future version. Use pandas.concat instead.\n",
      "  feature_pd = feature_pd.append(pd.DataFrame(saving, index=feature).transpose(), ignore_index=True)\n",
      "/var/folders/dn/j0_7h7gx2sq58_nt9816ss480000gn/T/ipykernel_6547/4250457866.py:74: FutureWarning: The frame.append method is deprecated and will be removed from pandas in a future version. Use pandas.concat instead.\n",
      "  feature_pd = feature_pd.append(pd.DataFrame(saving, index=feature).transpose(), ignore_index=True)\n",
      "/var/folders/dn/j0_7h7gx2sq58_nt9816ss480000gn/T/ipykernel_6547/4250457866.py:74: FutureWarning: The frame.append method is deprecated and will be removed from pandas in a future version. Use pandas.concat instead.\n",
      "  feature_pd = feature_pd.append(pd.DataFrame(saving, index=feature).transpose(), ignore_index=True)\n"
     ]
    },
    {
     "name": "stdout",
     "output_type": "stream",
     "text": [
      "681\n",
      "682\n",
      "683\n"
     ]
    },
    {
     "name": "stderr",
     "output_type": "stream",
     "text": [
      "/var/folders/dn/j0_7h7gx2sq58_nt9816ss480000gn/T/ipykernel_6547/4250457866.py:74: FutureWarning: The frame.append method is deprecated and will be removed from pandas in a future version. Use pandas.concat instead.\n",
      "  feature_pd = feature_pd.append(pd.DataFrame(saving, index=feature).transpose(), ignore_index=True)\n",
      "/var/folders/dn/j0_7h7gx2sq58_nt9816ss480000gn/T/ipykernel_6547/4250457866.py:74: FutureWarning: The frame.append method is deprecated and will be removed from pandas in a future version. Use pandas.concat instead.\n",
      "  feature_pd = feature_pd.append(pd.DataFrame(saving, index=feature).transpose(), ignore_index=True)\n",
      "/var/folders/dn/j0_7h7gx2sq58_nt9816ss480000gn/T/ipykernel_6547/4250457866.py:74: FutureWarning: The frame.append method is deprecated and will be removed from pandas in a future version. Use pandas.concat instead.\n",
      "  feature_pd = feature_pd.append(pd.DataFrame(saving, index=feature).transpose(), ignore_index=True)\n"
     ]
    },
    {
     "name": "stdout",
     "output_type": "stream",
     "text": [
      "684\n",
      "685\n",
      "686\n"
     ]
    },
    {
     "name": "stderr",
     "output_type": "stream",
     "text": [
      "/var/folders/dn/j0_7h7gx2sq58_nt9816ss480000gn/T/ipykernel_6547/4250457866.py:74: FutureWarning: The frame.append method is deprecated and will be removed from pandas in a future version. Use pandas.concat instead.\n",
      "  feature_pd = feature_pd.append(pd.DataFrame(saving, index=feature).transpose(), ignore_index=True)\n",
      "/var/folders/dn/j0_7h7gx2sq58_nt9816ss480000gn/T/ipykernel_6547/4250457866.py:74: FutureWarning: The frame.append method is deprecated and will be removed from pandas in a future version. Use pandas.concat instead.\n",
      "  feature_pd = feature_pd.append(pd.DataFrame(saving, index=feature).transpose(), ignore_index=True)\n",
      "/var/folders/dn/j0_7h7gx2sq58_nt9816ss480000gn/T/ipykernel_6547/4250457866.py:74: FutureWarning: The frame.append method is deprecated and will be removed from pandas in a future version. Use pandas.concat instead.\n",
      "  feature_pd = feature_pd.append(pd.DataFrame(saving, index=feature).transpose(), ignore_index=True)\n"
     ]
    },
    {
     "name": "stdout",
     "output_type": "stream",
     "text": [
      "687\n",
      "688\n",
      "689\n",
      "690\n"
     ]
    },
    {
     "name": "stderr",
     "output_type": "stream",
     "text": [
      "/var/folders/dn/j0_7h7gx2sq58_nt9816ss480000gn/T/ipykernel_6547/4250457866.py:74: FutureWarning: The frame.append method is deprecated and will be removed from pandas in a future version. Use pandas.concat instead.\n",
      "  feature_pd = feature_pd.append(pd.DataFrame(saving, index=feature).transpose(), ignore_index=True)\n",
      "/var/folders/dn/j0_7h7gx2sq58_nt9816ss480000gn/T/ipykernel_6547/4250457866.py:74: FutureWarning: The frame.append method is deprecated and will be removed from pandas in a future version. Use pandas.concat instead.\n",
      "  feature_pd = feature_pd.append(pd.DataFrame(saving, index=feature).transpose(), ignore_index=True)\n",
      "/var/folders/dn/j0_7h7gx2sq58_nt9816ss480000gn/T/ipykernel_6547/4250457866.py:74: FutureWarning: The frame.append method is deprecated and will be removed from pandas in a future version. Use pandas.concat instead.\n",
      "  feature_pd = feature_pd.append(pd.DataFrame(saving, index=feature).transpose(), ignore_index=True)\n",
      "/var/folders/dn/j0_7h7gx2sq58_nt9816ss480000gn/T/ipykernel_6547/4250457866.py:74: FutureWarning: The frame.append method is deprecated and will be removed from pandas in a future version. Use pandas.concat instead.\n",
      "  feature_pd = feature_pd.append(pd.DataFrame(saving, index=feature).transpose(), ignore_index=True)\n"
     ]
    },
    {
     "name": "stdout",
     "output_type": "stream",
     "text": [
      "691\n",
      "692\n",
      "693\n"
     ]
    },
    {
     "name": "stderr",
     "output_type": "stream",
     "text": [
      "/var/folders/dn/j0_7h7gx2sq58_nt9816ss480000gn/T/ipykernel_6547/4250457866.py:74: FutureWarning: The frame.append method is deprecated and will be removed from pandas in a future version. Use pandas.concat instead.\n",
      "  feature_pd = feature_pd.append(pd.DataFrame(saving, index=feature).transpose(), ignore_index=True)\n",
      "/var/folders/dn/j0_7h7gx2sq58_nt9816ss480000gn/T/ipykernel_6547/4250457866.py:74: FutureWarning: The frame.append method is deprecated and will be removed from pandas in a future version. Use pandas.concat instead.\n",
      "  feature_pd = feature_pd.append(pd.DataFrame(saving, index=feature).transpose(), ignore_index=True)\n",
      "/var/folders/dn/j0_7h7gx2sq58_nt9816ss480000gn/T/ipykernel_6547/4250457866.py:74: FutureWarning: The frame.append method is deprecated and will be removed from pandas in a future version. Use pandas.concat instead.\n",
      "  feature_pd = feature_pd.append(pd.DataFrame(saving, index=feature).transpose(), ignore_index=True)\n"
     ]
    },
    {
     "name": "stdout",
     "output_type": "stream",
     "text": [
      "694\n",
      "695\n",
      "696\n"
     ]
    },
    {
     "name": "stderr",
     "output_type": "stream",
     "text": [
      "/var/folders/dn/j0_7h7gx2sq58_nt9816ss480000gn/T/ipykernel_6547/4250457866.py:74: FutureWarning: The frame.append method is deprecated and will be removed from pandas in a future version. Use pandas.concat instead.\n",
      "  feature_pd = feature_pd.append(pd.DataFrame(saving, index=feature).transpose(), ignore_index=True)\n",
      "/var/folders/dn/j0_7h7gx2sq58_nt9816ss480000gn/T/ipykernel_6547/4250457866.py:74: FutureWarning: The frame.append method is deprecated and will be removed from pandas in a future version. Use pandas.concat instead.\n",
      "  feature_pd = feature_pd.append(pd.DataFrame(saving, index=feature).transpose(), ignore_index=True)\n",
      "/var/folders/dn/j0_7h7gx2sq58_nt9816ss480000gn/T/ipykernel_6547/4250457866.py:74: FutureWarning: The frame.append method is deprecated and will be removed from pandas in a future version. Use pandas.concat instead.\n",
      "  feature_pd = feature_pd.append(pd.DataFrame(saving, index=feature).transpose(), ignore_index=True)\n"
     ]
    },
    {
     "name": "stdout",
     "output_type": "stream",
     "text": [
      "697\n",
      "698\n"
     ]
    },
    {
     "name": "stderr",
     "output_type": "stream",
     "text": [
      "/var/folders/dn/j0_7h7gx2sq58_nt9816ss480000gn/T/ipykernel_6547/4250457866.py:74: FutureWarning: The frame.append method is deprecated and will be removed from pandas in a future version. Use pandas.concat instead.\n",
      "  feature_pd = feature_pd.append(pd.DataFrame(saving, index=feature).transpose(), ignore_index=True)\n",
      "/var/folders/dn/j0_7h7gx2sq58_nt9816ss480000gn/T/ipykernel_6547/4250457866.py:74: FutureWarning: The frame.append method is deprecated and will be removed from pandas in a future version. Use pandas.concat instead.\n",
      "  feature_pd = feature_pd.append(pd.DataFrame(saving, index=feature).transpose(), ignore_index=True)\n"
     ]
    },
    {
     "name": "stdout",
     "output_type": "stream",
     "text": [
      "699\n"
     ]
    },
    {
     "name": "stderr",
     "output_type": "stream",
     "text": [
      "/var/folders/dn/j0_7h7gx2sq58_nt9816ss480000gn/T/ipykernel_6547/4250457866.py:74: FutureWarning: The frame.append method is deprecated and will be removed from pandas in a future version. Use pandas.concat instead.\n",
      "  feature_pd = feature_pd.append(pd.DataFrame(saving, index=feature).transpose(), ignore_index=True)\n"
     ]
    },
    {
     "name": "stdout",
     "output_type": "stream",
     "text": [
      "700\n",
      "701\n",
      "702\n"
     ]
    },
    {
     "name": "stderr",
     "output_type": "stream",
     "text": [
      "/var/folders/dn/j0_7h7gx2sq58_nt9816ss480000gn/T/ipykernel_6547/4250457866.py:74: FutureWarning: The frame.append method is deprecated and will be removed from pandas in a future version. Use pandas.concat instead.\n",
      "  feature_pd = feature_pd.append(pd.DataFrame(saving, index=feature).transpose(), ignore_index=True)\n",
      "/var/folders/dn/j0_7h7gx2sq58_nt9816ss480000gn/T/ipykernel_6547/4250457866.py:74: FutureWarning: The frame.append method is deprecated and will be removed from pandas in a future version. Use pandas.concat instead.\n",
      "  feature_pd = feature_pd.append(pd.DataFrame(saving, index=feature).transpose(), ignore_index=True)\n",
      "/var/folders/dn/j0_7h7gx2sq58_nt9816ss480000gn/T/ipykernel_6547/4250457866.py:74: FutureWarning: The frame.append method is deprecated and will be removed from pandas in a future version. Use pandas.concat instead.\n",
      "  feature_pd = feature_pd.append(pd.DataFrame(saving, index=feature).transpose(), ignore_index=True)\n"
     ]
    },
    {
     "name": "stdout",
     "output_type": "stream",
     "text": [
      "703\n",
      "704\n",
      "705\n"
     ]
    },
    {
     "name": "stderr",
     "output_type": "stream",
     "text": [
      "/var/folders/dn/j0_7h7gx2sq58_nt9816ss480000gn/T/ipykernel_6547/4250457866.py:74: FutureWarning: The frame.append method is deprecated and will be removed from pandas in a future version. Use pandas.concat instead.\n",
      "  feature_pd = feature_pd.append(pd.DataFrame(saving, index=feature).transpose(), ignore_index=True)\n",
      "/var/folders/dn/j0_7h7gx2sq58_nt9816ss480000gn/T/ipykernel_6547/4250457866.py:74: FutureWarning: The frame.append method is deprecated and will be removed from pandas in a future version. Use pandas.concat instead.\n",
      "  feature_pd = feature_pd.append(pd.DataFrame(saving, index=feature).transpose(), ignore_index=True)\n",
      "/var/folders/dn/j0_7h7gx2sq58_nt9816ss480000gn/T/ipykernel_6547/4250457866.py:74: FutureWarning: The frame.append method is deprecated and will be removed from pandas in a future version. Use pandas.concat instead.\n",
      "  feature_pd = feature_pd.append(pd.DataFrame(saving, index=feature).transpose(), ignore_index=True)\n"
     ]
    },
    {
     "name": "stdout",
     "output_type": "stream",
     "text": [
      "706\n",
      "707\n",
      "708\n"
     ]
    },
    {
     "name": "stderr",
     "output_type": "stream",
     "text": [
      "/var/folders/dn/j0_7h7gx2sq58_nt9816ss480000gn/T/ipykernel_6547/4250457866.py:74: FutureWarning: The frame.append method is deprecated and will be removed from pandas in a future version. Use pandas.concat instead.\n",
      "  feature_pd = feature_pd.append(pd.DataFrame(saving, index=feature).transpose(), ignore_index=True)\n",
      "/var/folders/dn/j0_7h7gx2sq58_nt9816ss480000gn/T/ipykernel_6547/4250457866.py:74: FutureWarning: The frame.append method is deprecated and will be removed from pandas in a future version. Use pandas.concat instead.\n",
      "  feature_pd = feature_pd.append(pd.DataFrame(saving, index=feature).transpose(), ignore_index=True)\n",
      "/var/folders/dn/j0_7h7gx2sq58_nt9816ss480000gn/T/ipykernel_6547/4250457866.py:74: FutureWarning: The frame.append method is deprecated and will be removed from pandas in a future version. Use pandas.concat instead.\n",
      "  feature_pd = feature_pd.append(pd.DataFrame(saving, index=feature).transpose(), ignore_index=True)\n"
     ]
    },
    {
     "name": "stdout",
     "output_type": "stream",
     "text": [
      "709\n",
      "710\n",
      "711\n",
      "712\n"
     ]
    },
    {
     "name": "stderr",
     "output_type": "stream",
     "text": [
      "/var/folders/dn/j0_7h7gx2sq58_nt9816ss480000gn/T/ipykernel_6547/4250457866.py:74: FutureWarning: The frame.append method is deprecated and will be removed from pandas in a future version. Use pandas.concat instead.\n",
      "  feature_pd = feature_pd.append(pd.DataFrame(saving, index=feature).transpose(), ignore_index=True)\n",
      "/var/folders/dn/j0_7h7gx2sq58_nt9816ss480000gn/T/ipykernel_6547/4250457866.py:74: FutureWarning: The frame.append method is deprecated and will be removed from pandas in a future version. Use pandas.concat instead.\n",
      "  feature_pd = feature_pd.append(pd.DataFrame(saving, index=feature).transpose(), ignore_index=True)\n",
      "/var/folders/dn/j0_7h7gx2sq58_nt9816ss480000gn/T/ipykernel_6547/4250457866.py:74: FutureWarning: The frame.append method is deprecated and will be removed from pandas in a future version. Use pandas.concat instead.\n",
      "  feature_pd = feature_pd.append(pd.DataFrame(saving, index=feature).transpose(), ignore_index=True)\n",
      "/var/folders/dn/j0_7h7gx2sq58_nt9816ss480000gn/T/ipykernel_6547/4250457866.py:74: FutureWarning: The frame.append method is deprecated and will be removed from pandas in a future version. Use pandas.concat instead.\n",
      "  feature_pd = feature_pd.append(pd.DataFrame(saving, index=feature).transpose(), ignore_index=True)\n"
     ]
    },
    {
     "name": "stdout",
     "output_type": "stream",
     "text": [
      "713\n",
      "714\n",
      "715\n",
      "716\n"
     ]
    },
    {
     "name": "stderr",
     "output_type": "stream",
     "text": [
      "/var/folders/dn/j0_7h7gx2sq58_nt9816ss480000gn/T/ipykernel_6547/4250457866.py:74: FutureWarning: The frame.append method is deprecated and will be removed from pandas in a future version. Use pandas.concat instead.\n",
      "  feature_pd = feature_pd.append(pd.DataFrame(saving, index=feature).transpose(), ignore_index=True)\n",
      "/var/folders/dn/j0_7h7gx2sq58_nt9816ss480000gn/T/ipykernel_6547/4250457866.py:74: FutureWarning: The frame.append method is deprecated and will be removed from pandas in a future version. Use pandas.concat instead.\n",
      "  feature_pd = feature_pd.append(pd.DataFrame(saving, index=feature).transpose(), ignore_index=True)\n",
      "/var/folders/dn/j0_7h7gx2sq58_nt9816ss480000gn/T/ipykernel_6547/4250457866.py:74: FutureWarning: The frame.append method is deprecated and will be removed from pandas in a future version. Use pandas.concat instead.\n",
      "  feature_pd = feature_pd.append(pd.DataFrame(saving, index=feature).transpose(), ignore_index=True)\n",
      "/var/folders/dn/j0_7h7gx2sq58_nt9816ss480000gn/T/ipykernel_6547/4250457866.py:74: FutureWarning: The frame.append method is deprecated and will be removed from pandas in a future version. Use pandas.concat instead.\n",
      "  feature_pd = feature_pd.append(pd.DataFrame(saving, index=feature).transpose(), ignore_index=True)\n"
     ]
    },
    {
     "name": "stdout",
     "output_type": "stream",
     "text": [
      "717\n",
      "718\n",
      "719\n",
      "720\n"
     ]
    },
    {
     "name": "stderr",
     "output_type": "stream",
     "text": [
      "/var/folders/dn/j0_7h7gx2sq58_nt9816ss480000gn/T/ipykernel_6547/4250457866.py:74: FutureWarning: The frame.append method is deprecated and will be removed from pandas in a future version. Use pandas.concat instead.\n",
      "  feature_pd = feature_pd.append(pd.DataFrame(saving, index=feature).transpose(), ignore_index=True)\n",
      "/var/folders/dn/j0_7h7gx2sq58_nt9816ss480000gn/T/ipykernel_6547/4250457866.py:74: FutureWarning: The frame.append method is deprecated and will be removed from pandas in a future version. Use pandas.concat instead.\n",
      "  feature_pd = feature_pd.append(pd.DataFrame(saving, index=feature).transpose(), ignore_index=True)\n",
      "/var/folders/dn/j0_7h7gx2sq58_nt9816ss480000gn/T/ipykernel_6547/4250457866.py:74: FutureWarning: The frame.append method is deprecated and will be removed from pandas in a future version. Use pandas.concat instead.\n",
      "  feature_pd = feature_pd.append(pd.DataFrame(saving, index=feature).transpose(), ignore_index=True)\n",
      "/var/folders/dn/j0_7h7gx2sq58_nt9816ss480000gn/T/ipykernel_6547/4250457866.py:74: FutureWarning: The frame.append method is deprecated and will be removed from pandas in a future version. Use pandas.concat instead.\n",
      "  feature_pd = feature_pd.append(pd.DataFrame(saving, index=feature).transpose(), ignore_index=True)\n"
     ]
    },
    {
     "name": "stdout",
     "output_type": "stream",
     "text": [
      "721\n",
      "722\n",
      "723\n"
     ]
    },
    {
     "name": "stderr",
     "output_type": "stream",
     "text": [
      "/var/folders/dn/j0_7h7gx2sq58_nt9816ss480000gn/T/ipykernel_6547/4250457866.py:74: FutureWarning: The frame.append method is deprecated and will be removed from pandas in a future version. Use pandas.concat instead.\n",
      "  feature_pd = feature_pd.append(pd.DataFrame(saving, index=feature).transpose(), ignore_index=True)\n",
      "/var/folders/dn/j0_7h7gx2sq58_nt9816ss480000gn/T/ipykernel_6547/4250457866.py:74: FutureWarning: The frame.append method is deprecated and will be removed from pandas in a future version. Use pandas.concat instead.\n",
      "  feature_pd = feature_pd.append(pd.DataFrame(saving, index=feature).transpose(), ignore_index=True)\n",
      "/var/folders/dn/j0_7h7gx2sq58_nt9816ss480000gn/T/ipykernel_6547/4250457866.py:74: FutureWarning: The frame.append method is deprecated and will be removed from pandas in a future version. Use pandas.concat instead.\n",
      "  feature_pd = feature_pd.append(pd.DataFrame(saving, index=feature).transpose(), ignore_index=True)\n"
     ]
    },
    {
     "name": "stdout",
     "output_type": "stream",
     "text": [
      "724\n",
      "725\n",
      "726\n"
     ]
    },
    {
     "name": "stderr",
     "output_type": "stream",
     "text": [
      "/var/folders/dn/j0_7h7gx2sq58_nt9816ss480000gn/T/ipykernel_6547/4250457866.py:74: FutureWarning: The frame.append method is deprecated and will be removed from pandas in a future version. Use pandas.concat instead.\n",
      "  feature_pd = feature_pd.append(pd.DataFrame(saving, index=feature).transpose(), ignore_index=True)\n",
      "/var/folders/dn/j0_7h7gx2sq58_nt9816ss480000gn/T/ipykernel_6547/4250457866.py:74: FutureWarning: The frame.append method is deprecated and will be removed from pandas in a future version. Use pandas.concat instead.\n",
      "  feature_pd = feature_pd.append(pd.DataFrame(saving, index=feature).transpose(), ignore_index=True)\n",
      "/var/folders/dn/j0_7h7gx2sq58_nt9816ss480000gn/T/ipykernel_6547/4250457866.py:74: FutureWarning: The frame.append method is deprecated and will be removed from pandas in a future version. Use pandas.concat instead.\n",
      "  feature_pd = feature_pd.append(pd.DataFrame(saving, index=feature).transpose(), ignore_index=True)\n"
     ]
    },
    {
     "name": "stdout",
     "output_type": "stream",
     "text": [
      "727\n",
      "728\n",
      "729\n"
     ]
    },
    {
     "name": "stderr",
     "output_type": "stream",
     "text": [
      "/var/folders/dn/j0_7h7gx2sq58_nt9816ss480000gn/T/ipykernel_6547/4250457866.py:74: FutureWarning: The frame.append method is deprecated and will be removed from pandas in a future version. Use pandas.concat instead.\n",
      "  feature_pd = feature_pd.append(pd.DataFrame(saving, index=feature).transpose(), ignore_index=True)\n",
      "/var/folders/dn/j0_7h7gx2sq58_nt9816ss480000gn/T/ipykernel_6547/4250457866.py:74: FutureWarning: The frame.append method is deprecated and will be removed from pandas in a future version. Use pandas.concat instead.\n",
      "  feature_pd = feature_pd.append(pd.DataFrame(saving, index=feature).transpose(), ignore_index=True)\n",
      "/var/folders/dn/j0_7h7gx2sq58_nt9816ss480000gn/T/ipykernel_6547/4250457866.py:74: FutureWarning: The frame.append method is deprecated and will be removed from pandas in a future version. Use pandas.concat instead.\n",
      "  feature_pd = feature_pd.append(pd.DataFrame(saving, index=feature).transpose(), ignore_index=True)\n"
     ]
    },
    {
     "name": "stdout",
     "output_type": "stream",
     "text": [
      "730\n",
      "731\n",
      "732\n"
     ]
    },
    {
     "name": "stderr",
     "output_type": "stream",
     "text": [
      "/var/folders/dn/j0_7h7gx2sq58_nt9816ss480000gn/T/ipykernel_6547/4250457866.py:74: FutureWarning: The frame.append method is deprecated and will be removed from pandas in a future version. Use pandas.concat instead.\n",
      "  feature_pd = feature_pd.append(pd.DataFrame(saving, index=feature).transpose(), ignore_index=True)\n",
      "/var/folders/dn/j0_7h7gx2sq58_nt9816ss480000gn/T/ipykernel_6547/4250457866.py:74: FutureWarning: The frame.append method is deprecated and will be removed from pandas in a future version. Use pandas.concat instead.\n",
      "  feature_pd = feature_pd.append(pd.DataFrame(saving, index=feature).transpose(), ignore_index=True)\n",
      "/var/folders/dn/j0_7h7gx2sq58_nt9816ss480000gn/T/ipykernel_6547/4250457866.py:74: FutureWarning: The frame.append method is deprecated and will be removed from pandas in a future version. Use pandas.concat instead.\n",
      "  feature_pd = feature_pd.append(pd.DataFrame(saving, index=feature).transpose(), ignore_index=True)\n"
     ]
    },
    {
     "name": "stdout",
     "output_type": "stream",
     "text": [
      "733\n",
      "734\n",
      "735\n"
     ]
    },
    {
     "name": "stderr",
     "output_type": "stream",
     "text": [
      "/var/folders/dn/j0_7h7gx2sq58_nt9816ss480000gn/T/ipykernel_6547/4250457866.py:74: FutureWarning: The frame.append method is deprecated and will be removed from pandas in a future version. Use pandas.concat instead.\n",
      "  feature_pd = feature_pd.append(pd.DataFrame(saving, index=feature).transpose(), ignore_index=True)\n",
      "/var/folders/dn/j0_7h7gx2sq58_nt9816ss480000gn/T/ipykernel_6547/4250457866.py:74: FutureWarning: The frame.append method is deprecated and will be removed from pandas in a future version. Use pandas.concat instead.\n",
      "  feature_pd = feature_pd.append(pd.DataFrame(saving, index=feature).transpose(), ignore_index=True)\n",
      "/var/folders/dn/j0_7h7gx2sq58_nt9816ss480000gn/T/ipykernel_6547/4250457866.py:74: FutureWarning: The frame.append method is deprecated and will be removed from pandas in a future version. Use pandas.concat instead.\n",
      "  feature_pd = feature_pd.append(pd.DataFrame(saving, index=feature).transpose(), ignore_index=True)\n"
     ]
    },
    {
     "name": "stdout",
     "output_type": "stream",
     "text": [
      "736\n",
      "737\n",
      "738\n",
      "739\n"
     ]
    },
    {
     "name": "stderr",
     "output_type": "stream",
     "text": [
      "/var/folders/dn/j0_7h7gx2sq58_nt9816ss480000gn/T/ipykernel_6547/4250457866.py:74: FutureWarning: The frame.append method is deprecated and will be removed from pandas in a future version. Use pandas.concat instead.\n",
      "  feature_pd = feature_pd.append(pd.DataFrame(saving, index=feature).transpose(), ignore_index=True)\n",
      "/var/folders/dn/j0_7h7gx2sq58_nt9816ss480000gn/T/ipykernel_6547/4250457866.py:74: FutureWarning: The frame.append method is deprecated and will be removed from pandas in a future version. Use pandas.concat instead.\n",
      "  feature_pd = feature_pd.append(pd.DataFrame(saving, index=feature).transpose(), ignore_index=True)\n",
      "/var/folders/dn/j0_7h7gx2sq58_nt9816ss480000gn/T/ipykernel_6547/4250457866.py:74: FutureWarning: The frame.append method is deprecated and will be removed from pandas in a future version. Use pandas.concat instead.\n",
      "  feature_pd = feature_pd.append(pd.DataFrame(saving, index=feature).transpose(), ignore_index=True)\n",
      "/var/folders/dn/j0_7h7gx2sq58_nt9816ss480000gn/T/ipykernel_6547/4250457866.py:74: FutureWarning: The frame.append method is deprecated and will be removed from pandas in a future version. Use pandas.concat instead.\n",
      "  feature_pd = feature_pd.append(pd.DataFrame(saving, index=feature).transpose(), ignore_index=True)\n"
     ]
    },
    {
     "name": "stdout",
     "output_type": "stream",
     "text": [
      "740\n",
      "741\n"
     ]
    },
    {
     "name": "stderr",
     "output_type": "stream",
     "text": [
      "/var/folders/dn/j0_7h7gx2sq58_nt9816ss480000gn/T/ipykernel_6547/4250457866.py:74: FutureWarning: The frame.append method is deprecated and will be removed from pandas in a future version. Use pandas.concat instead.\n",
      "  feature_pd = feature_pd.append(pd.DataFrame(saving, index=feature).transpose(), ignore_index=True)\n",
      "/var/folders/dn/j0_7h7gx2sq58_nt9816ss480000gn/T/ipykernel_6547/4250457866.py:74: FutureWarning: The frame.append method is deprecated and will be removed from pandas in a future version. Use pandas.concat instead.\n",
      "  feature_pd = feature_pd.append(pd.DataFrame(saving, index=feature).transpose(), ignore_index=True)\n"
     ]
    },
    {
     "name": "stdout",
     "output_type": "stream",
     "text": [
      "742\n",
      "743\n",
      "744\n"
     ]
    },
    {
     "name": "stderr",
     "output_type": "stream",
     "text": [
      "/var/folders/dn/j0_7h7gx2sq58_nt9816ss480000gn/T/ipykernel_6547/4250457866.py:74: FutureWarning: The frame.append method is deprecated and will be removed from pandas in a future version. Use pandas.concat instead.\n",
      "  feature_pd = feature_pd.append(pd.DataFrame(saving, index=feature).transpose(), ignore_index=True)\n",
      "/var/folders/dn/j0_7h7gx2sq58_nt9816ss480000gn/T/ipykernel_6547/4250457866.py:74: FutureWarning: The frame.append method is deprecated and will be removed from pandas in a future version. Use pandas.concat instead.\n",
      "  feature_pd = feature_pd.append(pd.DataFrame(saving, index=feature).transpose(), ignore_index=True)\n",
      "/var/folders/dn/j0_7h7gx2sq58_nt9816ss480000gn/T/ipykernel_6547/4250457866.py:74: FutureWarning: The frame.append method is deprecated and will be removed from pandas in a future version. Use pandas.concat instead.\n",
      "  feature_pd = feature_pd.append(pd.DataFrame(saving, index=feature).transpose(), ignore_index=True)\n"
     ]
    },
    {
     "name": "stdout",
     "output_type": "stream",
     "text": [
      "745\n",
      "746\n",
      "747\n",
      "748\n"
     ]
    },
    {
     "name": "stderr",
     "output_type": "stream",
     "text": [
      "/var/folders/dn/j0_7h7gx2sq58_nt9816ss480000gn/T/ipykernel_6547/4250457866.py:74: FutureWarning: The frame.append method is deprecated and will be removed from pandas in a future version. Use pandas.concat instead.\n",
      "  feature_pd = feature_pd.append(pd.DataFrame(saving, index=feature).transpose(), ignore_index=True)\n",
      "/var/folders/dn/j0_7h7gx2sq58_nt9816ss480000gn/T/ipykernel_6547/4250457866.py:74: FutureWarning: The frame.append method is deprecated and will be removed from pandas in a future version. Use pandas.concat instead.\n",
      "  feature_pd = feature_pd.append(pd.DataFrame(saving, index=feature).transpose(), ignore_index=True)\n",
      "/var/folders/dn/j0_7h7gx2sq58_nt9816ss480000gn/T/ipykernel_6547/4250457866.py:74: FutureWarning: The frame.append method is deprecated and will be removed from pandas in a future version. Use pandas.concat instead.\n",
      "  feature_pd = feature_pd.append(pd.DataFrame(saving, index=feature).transpose(), ignore_index=True)\n",
      "/var/folders/dn/j0_7h7gx2sq58_nt9816ss480000gn/T/ipykernel_6547/4250457866.py:74: FutureWarning: The frame.append method is deprecated and will be removed from pandas in a future version. Use pandas.concat instead.\n",
      "  feature_pd = feature_pd.append(pd.DataFrame(saving, index=feature).transpose(), ignore_index=True)\n"
     ]
    },
    {
     "name": "stdout",
     "output_type": "stream",
     "text": [
      "749\n",
      "750\n",
      "751\n"
     ]
    },
    {
     "name": "stderr",
     "output_type": "stream",
     "text": [
      "/var/folders/dn/j0_7h7gx2sq58_nt9816ss480000gn/T/ipykernel_6547/4250457866.py:74: FutureWarning: The frame.append method is deprecated and will be removed from pandas in a future version. Use pandas.concat instead.\n",
      "  feature_pd = feature_pd.append(pd.DataFrame(saving, index=feature).transpose(), ignore_index=True)\n",
      "/var/folders/dn/j0_7h7gx2sq58_nt9816ss480000gn/T/ipykernel_6547/4250457866.py:74: FutureWarning: The frame.append method is deprecated and will be removed from pandas in a future version. Use pandas.concat instead.\n",
      "  feature_pd = feature_pd.append(pd.DataFrame(saving, index=feature).transpose(), ignore_index=True)\n",
      "/var/folders/dn/j0_7h7gx2sq58_nt9816ss480000gn/T/ipykernel_6547/4250457866.py:74: FutureWarning: The frame.append method is deprecated and will be removed from pandas in a future version. Use pandas.concat instead.\n",
      "  feature_pd = feature_pd.append(pd.DataFrame(saving, index=feature).transpose(), ignore_index=True)\n"
     ]
    },
    {
     "name": "stdout",
     "output_type": "stream",
     "text": [
      "752\n",
      "753\n"
     ]
    },
    {
     "name": "stderr",
     "output_type": "stream",
     "text": [
      "/var/folders/dn/j0_7h7gx2sq58_nt9816ss480000gn/T/ipykernel_6547/4250457866.py:74: FutureWarning: The frame.append method is deprecated and will be removed from pandas in a future version. Use pandas.concat instead.\n",
      "  feature_pd = feature_pd.append(pd.DataFrame(saving, index=feature).transpose(), ignore_index=True)\n",
      "/var/folders/dn/j0_7h7gx2sq58_nt9816ss480000gn/T/ipykernel_6547/4250457866.py:74: FutureWarning: The frame.append method is deprecated and will be removed from pandas in a future version. Use pandas.concat instead.\n",
      "  feature_pd = feature_pd.append(pd.DataFrame(saving, index=feature).transpose(), ignore_index=True)\n"
     ]
    },
    {
     "name": "stdout",
     "output_type": "stream",
     "text": [
      "754\n",
      "755\n",
      "756\n"
     ]
    },
    {
     "name": "stderr",
     "output_type": "stream",
     "text": [
      "/var/folders/dn/j0_7h7gx2sq58_nt9816ss480000gn/T/ipykernel_6547/4250457866.py:74: FutureWarning: The frame.append method is deprecated and will be removed from pandas in a future version. Use pandas.concat instead.\n",
      "  feature_pd = feature_pd.append(pd.DataFrame(saving, index=feature).transpose(), ignore_index=True)\n",
      "/var/folders/dn/j0_7h7gx2sq58_nt9816ss480000gn/T/ipykernel_6547/4250457866.py:74: FutureWarning: The frame.append method is deprecated and will be removed from pandas in a future version. Use pandas.concat instead.\n",
      "  feature_pd = feature_pd.append(pd.DataFrame(saving, index=feature).transpose(), ignore_index=True)\n",
      "/var/folders/dn/j0_7h7gx2sq58_nt9816ss480000gn/T/ipykernel_6547/4250457866.py:74: FutureWarning: The frame.append method is deprecated and will be removed from pandas in a future version. Use pandas.concat instead.\n",
      "  feature_pd = feature_pd.append(pd.DataFrame(saving, index=feature).transpose(), ignore_index=True)\n"
     ]
    },
    {
     "name": "stdout",
     "output_type": "stream",
     "text": [
      "757\n",
      "758\n",
      "759\n",
      "760\n"
     ]
    },
    {
     "name": "stderr",
     "output_type": "stream",
     "text": [
      "/var/folders/dn/j0_7h7gx2sq58_nt9816ss480000gn/T/ipykernel_6547/4250457866.py:74: FutureWarning: The frame.append method is deprecated and will be removed from pandas in a future version. Use pandas.concat instead.\n",
      "  feature_pd = feature_pd.append(pd.DataFrame(saving, index=feature).transpose(), ignore_index=True)\n",
      "/var/folders/dn/j0_7h7gx2sq58_nt9816ss480000gn/T/ipykernel_6547/4250457866.py:74: FutureWarning: The frame.append method is deprecated and will be removed from pandas in a future version. Use pandas.concat instead.\n",
      "  feature_pd = feature_pd.append(pd.DataFrame(saving, index=feature).transpose(), ignore_index=True)\n",
      "/var/folders/dn/j0_7h7gx2sq58_nt9816ss480000gn/T/ipykernel_6547/4250457866.py:74: FutureWarning: The frame.append method is deprecated and will be removed from pandas in a future version. Use pandas.concat instead.\n",
      "  feature_pd = feature_pd.append(pd.DataFrame(saving, index=feature).transpose(), ignore_index=True)\n",
      "/var/folders/dn/j0_7h7gx2sq58_nt9816ss480000gn/T/ipykernel_6547/4250457866.py:74: FutureWarning: The frame.append method is deprecated and will be removed from pandas in a future version. Use pandas.concat instead.\n",
      "  feature_pd = feature_pd.append(pd.DataFrame(saving, index=feature).transpose(), ignore_index=True)\n"
     ]
    },
    {
     "name": "stdout",
     "output_type": "stream",
     "text": [
      "761\n",
      "762\n",
      "763\n"
     ]
    },
    {
     "name": "stderr",
     "output_type": "stream",
     "text": [
      "/var/folders/dn/j0_7h7gx2sq58_nt9816ss480000gn/T/ipykernel_6547/4250457866.py:74: FutureWarning: The frame.append method is deprecated and will be removed from pandas in a future version. Use pandas.concat instead.\n",
      "  feature_pd = feature_pd.append(pd.DataFrame(saving, index=feature).transpose(), ignore_index=True)\n",
      "/var/folders/dn/j0_7h7gx2sq58_nt9816ss480000gn/T/ipykernel_6547/4250457866.py:74: FutureWarning: The frame.append method is deprecated and will be removed from pandas in a future version. Use pandas.concat instead.\n",
      "  feature_pd = feature_pd.append(pd.DataFrame(saving, index=feature).transpose(), ignore_index=True)\n",
      "/var/folders/dn/j0_7h7gx2sq58_nt9816ss480000gn/T/ipykernel_6547/4250457866.py:74: FutureWarning: The frame.append method is deprecated and will be removed from pandas in a future version. Use pandas.concat instead.\n",
      "  feature_pd = feature_pd.append(pd.DataFrame(saving, index=feature).transpose(), ignore_index=True)\n"
     ]
    },
    {
     "name": "stdout",
     "output_type": "stream",
     "text": [
      "764\n",
      "765\n",
      "766\n",
      "767\n"
     ]
    },
    {
     "name": "stderr",
     "output_type": "stream",
     "text": [
      "/var/folders/dn/j0_7h7gx2sq58_nt9816ss480000gn/T/ipykernel_6547/4250457866.py:74: FutureWarning: The frame.append method is deprecated and will be removed from pandas in a future version. Use pandas.concat instead.\n",
      "  feature_pd = feature_pd.append(pd.DataFrame(saving, index=feature).transpose(), ignore_index=True)\n",
      "/var/folders/dn/j0_7h7gx2sq58_nt9816ss480000gn/T/ipykernel_6547/4250457866.py:74: FutureWarning: The frame.append method is deprecated and will be removed from pandas in a future version. Use pandas.concat instead.\n",
      "  feature_pd = feature_pd.append(pd.DataFrame(saving, index=feature).transpose(), ignore_index=True)\n",
      "/var/folders/dn/j0_7h7gx2sq58_nt9816ss480000gn/T/ipykernel_6547/4250457866.py:74: FutureWarning: The frame.append method is deprecated and will be removed from pandas in a future version. Use pandas.concat instead.\n",
      "  feature_pd = feature_pd.append(pd.DataFrame(saving, index=feature).transpose(), ignore_index=True)\n",
      "/var/folders/dn/j0_7h7gx2sq58_nt9816ss480000gn/T/ipykernel_6547/4250457866.py:74: FutureWarning: The frame.append method is deprecated and will be removed from pandas in a future version. Use pandas.concat instead.\n",
      "  feature_pd = feature_pd.append(pd.DataFrame(saving, index=feature).transpose(), ignore_index=True)\n"
     ]
    },
    {
     "name": "stdout",
     "output_type": "stream",
     "text": [
      "768\n",
      "769\n"
     ]
    },
    {
     "name": "stderr",
     "output_type": "stream",
     "text": [
      "/var/folders/dn/j0_7h7gx2sq58_nt9816ss480000gn/T/ipykernel_6547/4250457866.py:74: FutureWarning: The frame.append method is deprecated and will be removed from pandas in a future version. Use pandas.concat instead.\n",
      "  feature_pd = feature_pd.append(pd.DataFrame(saving, index=feature).transpose(), ignore_index=True)\n",
      "/var/folders/dn/j0_7h7gx2sq58_nt9816ss480000gn/T/ipykernel_6547/4250457866.py:74: FutureWarning: The frame.append method is deprecated and will be removed from pandas in a future version. Use pandas.concat instead.\n",
      "  feature_pd = feature_pd.append(pd.DataFrame(saving, index=feature).transpose(), ignore_index=True)\n"
     ]
    },
    {
     "name": "stdout",
     "output_type": "stream",
     "text": [
      "770\n",
      "771\n",
      "772\n"
     ]
    },
    {
     "name": "stderr",
     "output_type": "stream",
     "text": [
      "/var/folders/dn/j0_7h7gx2sq58_nt9816ss480000gn/T/ipykernel_6547/4250457866.py:74: FutureWarning: The frame.append method is deprecated and will be removed from pandas in a future version. Use pandas.concat instead.\n",
      "  feature_pd = feature_pd.append(pd.DataFrame(saving, index=feature).transpose(), ignore_index=True)\n",
      "/var/folders/dn/j0_7h7gx2sq58_nt9816ss480000gn/T/ipykernel_6547/4250457866.py:74: FutureWarning: The frame.append method is deprecated and will be removed from pandas in a future version. Use pandas.concat instead.\n",
      "  feature_pd = feature_pd.append(pd.DataFrame(saving, index=feature).transpose(), ignore_index=True)\n",
      "/var/folders/dn/j0_7h7gx2sq58_nt9816ss480000gn/T/ipykernel_6547/4250457866.py:74: FutureWarning: The frame.append method is deprecated and will be removed from pandas in a future version. Use pandas.concat instead.\n",
      "  feature_pd = feature_pd.append(pd.DataFrame(saving, index=feature).transpose(), ignore_index=True)\n"
     ]
    },
    {
     "name": "stdout",
     "output_type": "stream",
     "text": [
      "773\n"
     ]
    },
    {
     "name": "stderr",
     "output_type": "stream",
     "text": [
      "/var/folders/dn/j0_7h7gx2sq58_nt9816ss480000gn/T/ipykernel_6547/4250457866.py:74: FutureWarning: The frame.append method is deprecated and will be removed from pandas in a future version. Use pandas.concat instead.\n",
      "  feature_pd = feature_pd.append(pd.DataFrame(saving, index=feature).transpose(), ignore_index=True)\n"
     ]
    },
    {
     "name": "stdout",
     "output_type": "stream",
     "text": [
      "774\n",
      "775\n",
      "776\n"
     ]
    },
    {
     "name": "stderr",
     "output_type": "stream",
     "text": [
      "/var/folders/dn/j0_7h7gx2sq58_nt9816ss480000gn/T/ipykernel_6547/4250457866.py:74: FutureWarning: The frame.append method is deprecated and will be removed from pandas in a future version. Use pandas.concat instead.\n",
      "  feature_pd = feature_pd.append(pd.DataFrame(saving, index=feature).transpose(), ignore_index=True)\n",
      "/var/folders/dn/j0_7h7gx2sq58_nt9816ss480000gn/T/ipykernel_6547/4250457866.py:74: FutureWarning: The frame.append method is deprecated and will be removed from pandas in a future version. Use pandas.concat instead.\n",
      "  feature_pd = feature_pd.append(pd.DataFrame(saving, index=feature).transpose(), ignore_index=True)\n",
      "/var/folders/dn/j0_7h7gx2sq58_nt9816ss480000gn/T/ipykernel_6547/4250457866.py:74: FutureWarning: The frame.append method is deprecated and will be removed from pandas in a future version. Use pandas.concat instead.\n",
      "  feature_pd = feature_pd.append(pd.DataFrame(saving, index=feature).transpose(), ignore_index=True)\n"
     ]
    },
    {
     "name": "stdout",
     "output_type": "stream",
     "text": [
      "777\n",
      "778\n",
      "779\n",
      "780\n"
     ]
    },
    {
     "name": "stderr",
     "output_type": "stream",
     "text": [
      "/var/folders/dn/j0_7h7gx2sq58_nt9816ss480000gn/T/ipykernel_6547/4250457866.py:74: FutureWarning: The frame.append method is deprecated and will be removed from pandas in a future version. Use pandas.concat instead.\n",
      "  feature_pd = feature_pd.append(pd.DataFrame(saving, index=feature).transpose(), ignore_index=True)\n",
      "/var/folders/dn/j0_7h7gx2sq58_nt9816ss480000gn/T/ipykernel_6547/4250457866.py:74: FutureWarning: The frame.append method is deprecated and will be removed from pandas in a future version. Use pandas.concat instead.\n",
      "  feature_pd = feature_pd.append(pd.DataFrame(saving, index=feature).transpose(), ignore_index=True)\n",
      "/var/folders/dn/j0_7h7gx2sq58_nt9816ss480000gn/T/ipykernel_6547/4250457866.py:74: FutureWarning: The frame.append method is deprecated and will be removed from pandas in a future version. Use pandas.concat instead.\n",
      "  feature_pd = feature_pd.append(pd.DataFrame(saving, index=feature).transpose(), ignore_index=True)\n",
      "/var/folders/dn/j0_7h7gx2sq58_nt9816ss480000gn/T/ipykernel_6547/4250457866.py:74: FutureWarning: The frame.append method is deprecated and will be removed from pandas in a future version. Use pandas.concat instead.\n",
      "  feature_pd = feature_pd.append(pd.DataFrame(saving, index=feature).transpose(), ignore_index=True)\n"
     ]
    },
    {
     "name": "stdout",
     "output_type": "stream",
     "text": [
      "781\n",
      "782\n",
      "783\n"
     ]
    },
    {
     "name": "stderr",
     "output_type": "stream",
     "text": [
      "/var/folders/dn/j0_7h7gx2sq58_nt9816ss480000gn/T/ipykernel_6547/4250457866.py:74: FutureWarning: The frame.append method is deprecated and will be removed from pandas in a future version. Use pandas.concat instead.\n",
      "  feature_pd = feature_pd.append(pd.DataFrame(saving, index=feature).transpose(), ignore_index=True)\n",
      "/var/folders/dn/j0_7h7gx2sq58_nt9816ss480000gn/T/ipykernel_6547/4250457866.py:74: FutureWarning: The frame.append method is deprecated and will be removed from pandas in a future version. Use pandas.concat instead.\n",
      "  feature_pd = feature_pd.append(pd.DataFrame(saving, index=feature).transpose(), ignore_index=True)\n",
      "/var/folders/dn/j0_7h7gx2sq58_nt9816ss480000gn/T/ipykernel_6547/4250457866.py:74: FutureWarning: The frame.append method is deprecated and will be removed from pandas in a future version. Use pandas.concat instead.\n",
      "  feature_pd = feature_pd.append(pd.DataFrame(saving, index=feature).transpose(), ignore_index=True)\n"
     ]
    },
    {
     "name": "stdout",
     "output_type": "stream",
     "text": [
      "784\n",
      "785\n",
      "786\n"
     ]
    },
    {
     "name": "stderr",
     "output_type": "stream",
     "text": [
      "/var/folders/dn/j0_7h7gx2sq58_nt9816ss480000gn/T/ipykernel_6547/4250457866.py:74: FutureWarning: The frame.append method is deprecated and will be removed from pandas in a future version. Use pandas.concat instead.\n",
      "  feature_pd = feature_pd.append(pd.DataFrame(saving, index=feature).transpose(), ignore_index=True)\n",
      "/var/folders/dn/j0_7h7gx2sq58_nt9816ss480000gn/T/ipykernel_6547/4250457866.py:74: FutureWarning: The frame.append method is deprecated and will be removed from pandas in a future version. Use pandas.concat instead.\n",
      "  feature_pd = feature_pd.append(pd.DataFrame(saving, index=feature).transpose(), ignore_index=True)\n",
      "/var/folders/dn/j0_7h7gx2sq58_nt9816ss480000gn/T/ipykernel_6547/4250457866.py:74: FutureWarning: The frame.append method is deprecated and will be removed from pandas in a future version. Use pandas.concat instead.\n",
      "  feature_pd = feature_pd.append(pd.DataFrame(saving, index=feature).transpose(), ignore_index=True)\n"
     ]
    },
    {
     "name": "stdout",
     "output_type": "stream",
     "text": [
      "787\n",
      "788\n",
      "789\n"
     ]
    },
    {
     "name": "stderr",
     "output_type": "stream",
     "text": [
      "/var/folders/dn/j0_7h7gx2sq58_nt9816ss480000gn/T/ipykernel_6547/4250457866.py:74: FutureWarning: The frame.append method is deprecated and will be removed from pandas in a future version. Use pandas.concat instead.\n",
      "  feature_pd = feature_pd.append(pd.DataFrame(saving, index=feature).transpose(), ignore_index=True)\n",
      "/var/folders/dn/j0_7h7gx2sq58_nt9816ss480000gn/T/ipykernel_6547/4250457866.py:74: FutureWarning: The frame.append method is deprecated and will be removed from pandas in a future version. Use pandas.concat instead.\n",
      "  feature_pd = feature_pd.append(pd.DataFrame(saving, index=feature).transpose(), ignore_index=True)\n",
      "/var/folders/dn/j0_7h7gx2sq58_nt9816ss480000gn/T/ipykernel_6547/4250457866.py:74: FutureWarning: The frame.append method is deprecated and will be removed from pandas in a future version. Use pandas.concat instead.\n",
      "  feature_pd = feature_pd.append(pd.DataFrame(saving, index=feature).transpose(), ignore_index=True)\n"
     ]
    },
    {
     "name": "stdout",
     "output_type": "stream",
     "text": [
      "790\n",
      "791\n",
      "792\n",
      "793\n"
     ]
    },
    {
     "name": "stderr",
     "output_type": "stream",
     "text": [
      "/var/folders/dn/j0_7h7gx2sq58_nt9816ss480000gn/T/ipykernel_6547/4250457866.py:74: FutureWarning: The frame.append method is deprecated and will be removed from pandas in a future version. Use pandas.concat instead.\n",
      "  feature_pd = feature_pd.append(pd.DataFrame(saving, index=feature).transpose(), ignore_index=True)\n",
      "/var/folders/dn/j0_7h7gx2sq58_nt9816ss480000gn/T/ipykernel_6547/4250457866.py:74: FutureWarning: The frame.append method is deprecated and will be removed from pandas in a future version. Use pandas.concat instead.\n",
      "  feature_pd = feature_pd.append(pd.DataFrame(saving, index=feature).transpose(), ignore_index=True)\n",
      "/var/folders/dn/j0_7h7gx2sq58_nt9816ss480000gn/T/ipykernel_6547/4250457866.py:74: FutureWarning: The frame.append method is deprecated and will be removed from pandas in a future version. Use pandas.concat instead.\n",
      "  feature_pd = feature_pd.append(pd.DataFrame(saving, index=feature).transpose(), ignore_index=True)\n",
      "/var/folders/dn/j0_7h7gx2sq58_nt9816ss480000gn/T/ipykernel_6547/4250457866.py:74: FutureWarning: The frame.append method is deprecated and will be removed from pandas in a future version. Use pandas.concat instead.\n",
      "  feature_pd = feature_pd.append(pd.DataFrame(saving, index=feature).transpose(), ignore_index=True)\n"
     ]
    },
    {
     "name": "stdout",
     "output_type": "stream",
     "text": [
      "794\n",
      "795\n",
      "796\n",
      "797\n"
     ]
    },
    {
     "name": "stderr",
     "output_type": "stream",
     "text": [
      "/var/folders/dn/j0_7h7gx2sq58_nt9816ss480000gn/T/ipykernel_6547/4250457866.py:74: FutureWarning: The frame.append method is deprecated and will be removed from pandas in a future version. Use pandas.concat instead.\n",
      "  feature_pd = feature_pd.append(pd.DataFrame(saving, index=feature).transpose(), ignore_index=True)\n",
      "/var/folders/dn/j0_7h7gx2sq58_nt9816ss480000gn/T/ipykernel_6547/4250457866.py:74: FutureWarning: The frame.append method is deprecated and will be removed from pandas in a future version. Use pandas.concat instead.\n",
      "  feature_pd = feature_pd.append(pd.DataFrame(saving, index=feature).transpose(), ignore_index=True)\n",
      "/var/folders/dn/j0_7h7gx2sq58_nt9816ss480000gn/T/ipykernel_6547/4250457866.py:74: FutureWarning: The frame.append method is deprecated and will be removed from pandas in a future version. Use pandas.concat instead.\n",
      "  feature_pd = feature_pd.append(pd.DataFrame(saving, index=feature).transpose(), ignore_index=True)\n",
      "/var/folders/dn/j0_7h7gx2sq58_nt9816ss480000gn/T/ipykernel_6547/4250457866.py:74: FutureWarning: The frame.append method is deprecated and will be removed from pandas in a future version. Use pandas.concat instead.\n",
      "  feature_pd = feature_pd.append(pd.DataFrame(saving, index=feature).transpose(), ignore_index=True)\n"
     ]
    },
    {
     "name": "stdout",
     "output_type": "stream",
     "text": [
      "798\n",
      "799\n",
      "800\n"
     ]
    },
    {
     "name": "stderr",
     "output_type": "stream",
     "text": [
      "/var/folders/dn/j0_7h7gx2sq58_nt9816ss480000gn/T/ipykernel_6547/4250457866.py:74: FutureWarning: The frame.append method is deprecated and will be removed from pandas in a future version. Use pandas.concat instead.\n",
      "  feature_pd = feature_pd.append(pd.DataFrame(saving, index=feature).transpose(), ignore_index=True)\n",
      "/var/folders/dn/j0_7h7gx2sq58_nt9816ss480000gn/T/ipykernel_6547/4250457866.py:74: FutureWarning: The frame.append method is deprecated and will be removed from pandas in a future version. Use pandas.concat instead.\n",
      "  feature_pd = feature_pd.append(pd.DataFrame(saving, index=feature).transpose(), ignore_index=True)\n",
      "/var/folders/dn/j0_7h7gx2sq58_nt9816ss480000gn/T/ipykernel_6547/4250457866.py:74: FutureWarning: The frame.append method is deprecated and will be removed from pandas in a future version. Use pandas.concat instead.\n",
      "  feature_pd = feature_pd.append(pd.DataFrame(saving, index=feature).transpose(), ignore_index=True)\n"
     ]
    },
    {
     "name": "stdout",
     "output_type": "stream",
     "text": [
      "801\n",
      "802\n",
      "803\n",
      "804\n"
     ]
    },
    {
     "name": "stderr",
     "output_type": "stream",
     "text": [
      "/var/folders/dn/j0_7h7gx2sq58_nt9816ss480000gn/T/ipykernel_6547/4250457866.py:74: FutureWarning: The frame.append method is deprecated and will be removed from pandas in a future version. Use pandas.concat instead.\n",
      "  feature_pd = feature_pd.append(pd.DataFrame(saving, index=feature).transpose(), ignore_index=True)\n",
      "/var/folders/dn/j0_7h7gx2sq58_nt9816ss480000gn/T/ipykernel_6547/4250457866.py:74: FutureWarning: The frame.append method is deprecated and will be removed from pandas in a future version. Use pandas.concat instead.\n",
      "  feature_pd = feature_pd.append(pd.DataFrame(saving, index=feature).transpose(), ignore_index=True)\n",
      "/var/folders/dn/j0_7h7gx2sq58_nt9816ss480000gn/T/ipykernel_6547/4250457866.py:74: FutureWarning: The frame.append method is deprecated and will be removed from pandas in a future version. Use pandas.concat instead.\n",
      "  feature_pd = feature_pd.append(pd.DataFrame(saving, index=feature).transpose(), ignore_index=True)\n",
      "/var/folders/dn/j0_7h7gx2sq58_nt9816ss480000gn/T/ipykernel_6547/4250457866.py:74: FutureWarning: The frame.append method is deprecated and will be removed from pandas in a future version. Use pandas.concat instead.\n",
      "  feature_pd = feature_pd.append(pd.DataFrame(saving, index=feature).transpose(), ignore_index=True)\n"
     ]
    },
    {
     "name": "stdout",
     "output_type": "stream",
     "text": [
      "805\n",
      "806\n"
     ]
    },
    {
     "name": "stderr",
     "output_type": "stream",
     "text": [
      "/var/folders/dn/j0_7h7gx2sq58_nt9816ss480000gn/T/ipykernel_6547/4250457866.py:74: FutureWarning: The frame.append method is deprecated and will be removed from pandas in a future version. Use pandas.concat instead.\n",
      "  feature_pd = feature_pd.append(pd.DataFrame(saving, index=feature).transpose(), ignore_index=True)\n",
      "/var/folders/dn/j0_7h7gx2sq58_nt9816ss480000gn/T/ipykernel_6547/4250457866.py:74: FutureWarning: The frame.append method is deprecated and will be removed from pandas in a future version. Use pandas.concat instead.\n",
      "  feature_pd = feature_pd.append(pd.DataFrame(saving, index=feature).transpose(), ignore_index=True)\n"
     ]
    },
    {
     "name": "stdout",
     "output_type": "stream",
     "text": [
      "807\n",
      "808\n",
      "809\n"
     ]
    },
    {
     "name": "stderr",
     "output_type": "stream",
     "text": [
      "/var/folders/dn/j0_7h7gx2sq58_nt9816ss480000gn/T/ipykernel_6547/4250457866.py:74: FutureWarning: The frame.append method is deprecated and will be removed from pandas in a future version. Use pandas.concat instead.\n",
      "  feature_pd = feature_pd.append(pd.DataFrame(saving, index=feature).transpose(), ignore_index=True)\n",
      "/var/folders/dn/j0_7h7gx2sq58_nt9816ss480000gn/T/ipykernel_6547/4250457866.py:74: FutureWarning: The frame.append method is deprecated and will be removed from pandas in a future version. Use pandas.concat instead.\n",
      "  feature_pd = feature_pd.append(pd.DataFrame(saving, index=feature).transpose(), ignore_index=True)\n",
      "/var/folders/dn/j0_7h7gx2sq58_nt9816ss480000gn/T/ipykernel_6547/4250457866.py:74: FutureWarning: The frame.append method is deprecated and will be removed from pandas in a future version. Use pandas.concat instead.\n",
      "  feature_pd = feature_pd.append(pd.DataFrame(saving, index=feature).transpose(), ignore_index=True)\n"
     ]
    },
    {
     "name": "stdout",
     "output_type": "stream",
     "text": [
      "810\n",
      "811\n",
      "812\n"
     ]
    },
    {
     "name": "stderr",
     "output_type": "stream",
     "text": [
      "/var/folders/dn/j0_7h7gx2sq58_nt9816ss480000gn/T/ipykernel_6547/4250457866.py:74: FutureWarning: The frame.append method is deprecated and will be removed from pandas in a future version. Use pandas.concat instead.\n",
      "  feature_pd = feature_pd.append(pd.DataFrame(saving, index=feature).transpose(), ignore_index=True)\n",
      "/var/folders/dn/j0_7h7gx2sq58_nt9816ss480000gn/T/ipykernel_6547/4250457866.py:74: FutureWarning: The frame.append method is deprecated and will be removed from pandas in a future version. Use pandas.concat instead.\n",
      "  feature_pd = feature_pd.append(pd.DataFrame(saving, index=feature).transpose(), ignore_index=True)\n",
      "/var/folders/dn/j0_7h7gx2sq58_nt9816ss480000gn/T/ipykernel_6547/4250457866.py:74: FutureWarning: The frame.append method is deprecated and will be removed from pandas in a future version. Use pandas.concat instead.\n",
      "  feature_pd = feature_pd.append(pd.DataFrame(saving, index=feature).transpose(), ignore_index=True)\n"
     ]
    },
    {
     "name": "stdout",
     "output_type": "stream",
     "text": [
      "813\n",
      "814\n",
      "815\n"
     ]
    },
    {
     "name": "stderr",
     "output_type": "stream",
     "text": [
      "/var/folders/dn/j0_7h7gx2sq58_nt9816ss480000gn/T/ipykernel_6547/4250457866.py:74: FutureWarning: The frame.append method is deprecated and will be removed from pandas in a future version. Use pandas.concat instead.\n",
      "  feature_pd = feature_pd.append(pd.DataFrame(saving, index=feature).transpose(), ignore_index=True)\n",
      "/var/folders/dn/j0_7h7gx2sq58_nt9816ss480000gn/T/ipykernel_6547/4250457866.py:74: FutureWarning: The frame.append method is deprecated and will be removed from pandas in a future version. Use pandas.concat instead.\n",
      "  feature_pd = feature_pd.append(pd.DataFrame(saving, index=feature).transpose(), ignore_index=True)\n",
      "/var/folders/dn/j0_7h7gx2sq58_nt9816ss480000gn/T/ipykernel_6547/4250457866.py:74: FutureWarning: The frame.append method is deprecated and will be removed from pandas in a future version. Use pandas.concat instead.\n",
      "  feature_pd = feature_pd.append(pd.DataFrame(saving, index=feature).transpose(), ignore_index=True)\n"
     ]
    },
    {
     "name": "stdout",
     "output_type": "stream",
     "text": [
      "816\n",
      "817\n",
      "818\n"
     ]
    },
    {
     "name": "stderr",
     "output_type": "stream",
     "text": [
      "/var/folders/dn/j0_7h7gx2sq58_nt9816ss480000gn/T/ipykernel_6547/4250457866.py:74: FutureWarning: The frame.append method is deprecated and will be removed from pandas in a future version. Use pandas.concat instead.\n",
      "  feature_pd = feature_pd.append(pd.DataFrame(saving, index=feature).transpose(), ignore_index=True)\n",
      "/var/folders/dn/j0_7h7gx2sq58_nt9816ss480000gn/T/ipykernel_6547/4250457866.py:74: FutureWarning: The frame.append method is deprecated and will be removed from pandas in a future version. Use pandas.concat instead.\n",
      "  feature_pd = feature_pd.append(pd.DataFrame(saving, index=feature).transpose(), ignore_index=True)\n",
      "/var/folders/dn/j0_7h7gx2sq58_nt9816ss480000gn/T/ipykernel_6547/4250457866.py:74: FutureWarning: The frame.append method is deprecated and will be removed from pandas in a future version. Use pandas.concat instead.\n",
      "  feature_pd = feature_pd.append(pd.DataFrame(saving, index=feature).transpose(), ignore_index=True)\n"
     ]
    },
    {
     "name": "stdout",
     "output_type": "stream",
     "text": [
      "819\n",
      "820\n",
      "821\n"
     ]
    },
    {
     "name": "stderr",
     "output_type": "stream",
     "text": [
      "/var/folders/dn/j0_7h7gx2sq58_nt9816ss480000gn/T/ipykernel_6547/4250457866.py:74: FutureWarning: The frame.append method is deprecated and will be removed from pandas in a future version. Use pandas.concat instead.\n",
      "  feature_pd = feature_pd.append(pd.DataFrame(saving, index=feature).transpose(), ignore_index=True)\n",
      "/var/folders/dn/j0_7h7gx2sq58_nt9816ss480000gn/T/ipykernel_6547/4250457866.py:74: FutureWarning: The frame.append method is deprecated and will be removed from pandas in a future version. Use pandas.concat instead.\n",
      "  feature_pd = feature_pd.append(pd.DataFrame(saving, index=feature).transpose(), ignore_index=True)\n",
      "/var/folders/dn/j0_7h7gx2sq58_nt9816ss480000gn/T/ipykernel_6547/4250457866.py:74: FutureWarning: The frame.append method is deprecated and will be removed from pandas in a future version. Use pandas.concat instead.\n",
      "  feature_pd = feature_pd.append(pd.DataFrame(saving, index=feature).transpose(), ignore_index=True)\n"
     ]
    },
    {
     "name": "stdout",
     "output_type": "stream",
     "text": [
      "822\n",
      "823\n",
      "824\n",
      "825\n"
     ]
    },
    {
     "name": "stderr",
     "output_type": "stream",
     "text": [
      "/var/folders/dn/j0_7h7gx2sq58_nt9816ss480000gn/T/ipykernel_6547/4250457866.py:74: FutureWarning: The frame.append method is deprecated and will be removed from pandas in a future version. Use pandas.concat instead.\n",
      "  feature_pd = feature_pd.append(pd.DataFrame(saving, index=feature).transpose(), ignore_index=True)\n",
      "/var/folders/dn/j0_7h7gx2sq58_nt9816ss480000gn/T/ipykernel_6547/4250457866.py:74: FutureWarning: The frame.append method is deprecated and will be removed from pandas in a future version. Use pandas.concat instead.\n",
      "  feature_pd = feature_pd.append(pd.DataFrame(saving, index=feature).transpose(), ignore_index=True)\n",
      "/var/folders/dn/j0_7h7gx2sq58_nt9816ss480000gn/T/ipykernel_6547/4250457866.py:74: FutureWarning: The frame.append method is deprecated and will be removed from pandas in a future version. Use pandas.concat instead.\n",
      "  feature_pd = feature_pd.append(pd.DataFrame(saving, index=feature).transpose(), ignore_index=True)\n",
      "/var/folders/dn/j0_7h7gx2sq58_nt9816ss480000gn/T/ipykernel_6547/4250457866.py:74: FutureWarning: The frame.append method is deprecated and will be removed from pandas in a future version. Use pandas.concat instead.\n",
      "  feature_pd = feature_pd.append(pd.DataFrame(saving, index=feature).transpose(), ignore_index=True)\n"
     ]
    },
    {
     "name": "stdout",
     "output_type": "stream",
     "text": [
      "826\n",
      "827\n",
      "828\n"
     ]
    },
    {
     "name": "stderr",
     "output_type": "stream",
     "text": [
      "/var/folders/dn/j0_7h7gx2sq58_nt9816ss480000gn/T/ipykernel_6547/4250457866.py:74: FutureWarning: The frame.append method is deprecated and will be removed from pandas in a future version. Use pandas.concat instead.\n",
      "  feature_pd = feature_pd.append(pd.DataFrame(saving, index=feature).transpose(), ignore_index=True)\n",
      "/var/folders/dn/j0_7h7gx2sq58_nt9816ss480000gn/T/ipykernel_6547/4250457866.py:74: FutureWarning: The frame.append method is deprecated and will be removed from pandas in a future version. Use pandas.concat instead.\n",
      "  feature_pd = feature_pd.append(pd.DataFrame(saving, index=feature).transpose(), ignore_index=True)\n",
      "/var/folders/dn/j0_7h7gx2sq58_nt9816ss480000gn/T/ipykernel_6547/4250457866.py:74: FutureWarning: The frame.append method is deprecated and will be removed from pandas in a future version. Use pandas.concat instead.\n",
      "  feature_pd = feature_pd.append(pd.DataFrame(saving, index=feature).transpose(), ignore_index=True)\n"
     ]
    },
    {
     "name": "stdout",
     "output_type": "stream",
     "text": [
      "829\n",
      "830\n",
      "831\n",
      "832\n"
     ]
    },
    {
     "name": "stderr",
     "output_type": "stream",
     "text": [
      "/var/folders/dn/j0_7h7gx2sq58_nt9816ss480000gn/T/ipykernel_6547/4250457866.py:74: FutureWarning: The frame.append method is deprecated and will be removed from pandas in a future version. Use pandas.concat instead.\n",
      "  feature_pd = feature_pd.append(pd.DataFrame(saving, index=feature).transpose(), ignore_index=True)\n",
      "/var/folders/dn/j0_7h7gx2sq58_nt9816ss480000gn/T/ipykernel_6547/4250457866.py:74: FutureWarning: The frame.append method is deprecated and will be removed from pandas in a future version. Use pandas.concat instead.\n",
      "  feature_pd = feature_pd.append(pd.DataFrame(saving, index=feature).transpose(), ignore_index=True)\n",
      "/var/folders/dn/j0_7h7gx2sq58_nt9816ss480000gn/T/ipykernel_6547/4250457866.py:74: FutureWarning: The frame.append method is deprecated and will be removed from pandas in a future version. Use pandas.concat instead.\n",
      "  feature_pd = feature_pd.append(pd.DataFrame(saving, index=feature).transpose(), ignore_index=True)\n",
      "/var/folders/dn/j0_7h7gx2sq58_nt9816ss480000gn/T/ipykernel_6547/4250457866.py:74: FutureWarning: The frame.append method is deprecated and will be removed from pandas in a future version. Use pandas.concat instead.\n",
      "  feature_pd = feature_pd.append(pd.DataFrame(saving, index=feature).transpose(), ignore_index=True)\n"
     ]
    },
    {
     "name": "stdout",
     "output_type": "stream",
     "text": [
      "833\n",
      "834\n",
      "835\n",
      "836\n",
      "837\n"
     ]
    },
    {
     "name": "stderr",
     "output_type": "stream",
     "text": [
      "/var/folders/dn/j0_7h7gx2sq58_nt9816ss480000gn/T/ipykernel_6547/4250457866.py:74: FutureWarning: The frame.append method is deprecated and will be removed from pandas in a future version. Use pandas.concat instead.\n",
      "  feature_pd = feature_pd.append(pd.DataFrame(saving, index=feature).transpose(), ignore_index=True)\n",
      "/var/folders/dn/j0_7h7gx2sq58_nt9816ss480000gn/T/ipykernel_6547/4250457866.py:74: FutureWarning: The frame.append method is deprecated and will be removed from pandas in a future version. Use pandas.concat instead.\n",
      "  feature_pd = feature_pd.append(pd.DataFrame(saving, index=feature).transpose(), ignore_index=True)\n",
      "/var/folders/dn/j0_7h7gx2sq58_nt9816ss480000gn/T/ipykernel_6547/4250457866.py:74: FutureWarning: The frame.append method is deprecated and will be removed from pandas in a future version. Use pandas.concat instead.\n",
      "  feature_pd = feature_pd.append(pd.DataFrame(saving, index=feature).transpose(), ignore_index=True)\n",
      "/var/folders/dn/j0_7h7gx2sq58_nt9816ss480000gn/T/ipykernel_6547/4250457866.py:74: FutureWarning: The frame.append method is deprecated and will be removed from pandas in a future version. Use pandas.concat instead.\n",
      "  feature_pd = feature_pd.append(pd.DataFrame(saving, index=feature).transpose(), ignore_index=True)\n",
      "/var/folders/dn/j0_7h7gx2sq58_nt9816ss480000gn/T/ipykernel_6547/4250457866.py:74: FutureWarning: The frame.append method is deprecated and will be removed from pandas in a future version. Use pandas.concat instead.\n",
      "  feature_pd = feature_pd.append(pd.DataFrame(saving, index=feature).transpose(), ignore_index=True)\n"
     ]
    },
    {
     "name": "stdout",
     "output_type": "stream",
     "text": [
      "838\n",
      "839\n",
      "840\n",
      "841\n",
      "842\n"
     ]
    },
    {
     "name": "stderr",
     "output_type": "stream",
     "text": [
      "/var/folders/dn/j0_7h7gx2sq58_nt9816ss480000gn/T/ipykernel_6547/4250457866.py:74: FutureWarning: The frame.append method is deprecated and will be removed from pandas in a future version. Use pandas.concat instead.\n",
      "  feature_pd = feature_pd.append(pd.DataFrame(saving, index=feature).transpose(), ignore_index=True)\n",
      "/var/folders/dn/j0_7h7gx2sq58_nt9816ss480000gn/T/ipykernel_6547/4250457866.py:74: FutureWarning: The frame.append method is deprecated and will be removed from pandas in a future version. Use pandas.concat instead.\n",
      "  feature_pd = feature_pd.append(pd.DataFrame(saving, index=feature).transpose(), ignore_index=True)\n",
      "/var/folders/dn/j0_7h7gx2sq58_nt9816ss480000gn/T/ipykernel_6547/4250457866.py:74: FutureWarning: The frame.append method is deprecated and will be removed from pandas in a future version. Use pandas.concat instead.\n",
      "  feature_pd = feature_pd.append(pd.DataFrame(saving, index=feature).transpose(), ignore_index=True)\n",
      "/var/folders/dn/j0_7h7gx2sq58_nt9816ss480000gn/T/ipykernel_6547/4250457866.py:74: FutureWarning: The frame.append method is deprecated and will be removed from pandas in a future version. Use pandas.concat instead.\n",
      "  feature_pd = feature_pd.append(pd.DataFrame(saving, index=feature).transpose(), ignore_index=True)\n",
      "/var/folders/dn/j0_7h7gx2sq58_nt9816ss480000gn/T/ipykernel_6547/4250457866.py:74: FutureWarning: The frame.append method is deprecated and will be removed from pandas in a future version. Use pandas.concat instead.\n",
      "  feature_pd = feature_pd.append(pd.DataFrame(saving, index=feature).transpose(), ignore_index=True)\n"
     ]
    },
    {
     "name": "stdout",
     "output_type": "stream",
     "text": [
      "843\n",
      "844\n",
      "845\n"
     ]
    },
    {
     "name": "stderr",
     "output_type": "stream",
     "text": [
      "/var/folders/dn/j0_7h7gx2sq58_nt9816ss480000gn/T/ipykernel_6547/4250457866.py:74: FutureWarning: The frame.append method is deprecated and will be removed from pandas in a future version. Use pandas.concat instead.\n",
      "  feature_pd = feature_pd.append(pd.DataFrame(saving, index=feature).transpose(), ignore_index=True)\n",
      "/var/folders/dn/j0_7h7gx2sq58_nt9816ss480000gn/T/ipykernel_6547/4250457866.py:74: FutureWarning: The frame.append method is deprecated and will be removed from pandas in a future version. Use pandas.concat instead.\n",
      "  feature_pd = feature_pd.append(pd.DataFrame(saving, index=feature).transpose(), ignore_index=True)\n",
      "/var/folders/dn/j0_7h7gx2sq58_nt9816ss480000gn/T/ipykernel_6547/4250457866.py:74: FutureWarning: The frame.append method is deprecated and will be removed from pandas in a future version. Use pandas.concat instead.\n",
      "  feature_pd = feature_pd.append(pd.DataFrame(saving, index=feature).transpose(), ignore_index=True)\n"
     ]
    },
    {
     "name": "stdout",
     "output_type": "stream",
     "text": [
      "846\n",
      "847\n",
      "848\n"
     ]
    },
    {
     "name": "stderr",
     "output_type": "stream",
     "text": [
      "/var/folders/dn/j0_7h7gx2sq58_nt9816ss480000gn/T/ipykernel_6547/4250457866.py:74: FutureWarning: The frame.append method is deprecated and will be removed from pandas in a future version. Use pandas.concat instead.\n",
      "  feature_pd = feature_pd.append(pd.DataFrame(saving, index=feature).transpose(), ignore_index=True)\n",
      "/var/folders/dn/j0_7h7gx2sq58_nt9816ss480000gn/T/ipykernel_6547/4250457866.py:74: FutureWarning: The frame.append method is deprecated and will be removed from pandas in a future version. Use pandas.concat instead.\n",
      "  feature_pd = feature_pd.append(pd.DataFrame(saving, index=feature).transpose(), ignore_index=True)\n",
      "/var/folders/dn/j0_7h7gx2sq58_nt9816ss480000gn/T/ipykernel_6547/4250457866.py:74: FutureWarning: The frame.append method is deprecated and will be removed from pandas in a future version. Use pandas.concat instead.\n",
      "  feature_pd = feature_pd.append(pd.DataFrame(saving, index=feature).transpose(), ignore_index=True)\n"
     ]
    },
    {
     "name": "stdout",
     "output_type": "stream",
     "text": [
      "849\n",
      "850\n",
      "851\n"
     ]
    },
    {
     "name": "stderr",
     "output_type": "stream",
     "text": [
      "/var/folders/dn/j0_7h7gx2sq58_nt9816ss480000gn/T/ipykernel_6547/4250457866.py:74: FutureWarning: The frame.append method is deprecated and will be removed from pandas in a future version. Use pandas.concat instead.\n",
      "  feature_pd = feature_pd.append(pd.DataFrame(saving, index=feature).transpose(), ignore_index=True)\n",
      "/var/folders/dn/j0_7h7gx2sq58_nt9816ss480000gn/T/ipykernel_6547/4250457866.py:74: FutureWarning: The frame.append method is deprecated and will be removed from pandas in a future version. Use pandas.concat instead.\n",
      "  feature_pd = feature_pd.append(pd.DataFrame(saving, index=feature).transpose(), ignore_index=True)\n",
      "/var/folders/dn/j0_7h7gx2sq58_nt9816ss480000gn/T/ipykernel_6547/4250457866.py:74: FutureWarning: The frame.append method is deprecated and will be removed from pandas in a future version. Use pandas.concat instead.\n",
      "  feature_pd = feature_pd.append(pd.DataFrame(saving, index=feature).transpose(), ignore_index=True)\n"
     ]
    },
    {
     "name": "stdout",
     "output_type": "stream",
     "text": [
      "852\n",
      "853\n",
      "854\n",
      "855\n"
     ]
    },
    {
     "name": "stderr",
     "output_type": "stream",
     "text": [
      "/var/folders/dn/j0_7h7gx2sq58_nt9816ss480000gn/T/ipykernel_6547/4250457866.py:74: FutureWarning: The frame.append method is deprecated and will be removed from pandas in a future version. Use pandas.concat instead.\n",
      "  feature_pd = feature_pd.append(pd.DataFrame(saving, index=feature).transpose(), ignore_index=True)\n",
      "/var/folders/dn/j0_7h7gx2sq58_nt9816ss480000gn/T/ipykernel_6547/4250457866.py:74: FutureWarning: The frame.append method is deprecated and will be removed from pandas in a future version. Use pandas.concat instead.\n",
      "  feature_pd = feature_pd.append(pd.DataFrame(saving, index=feature).transpose(), ignore_index=True)\n",
      "/var/folders/dn/j0_7h7gx2sq58_nt9816ss480000gn/T/ipykernel_6547/4250457866.py:74: FutureWarning: The frame.append method is deprecated and will be removed from pandas in a future version. Use pandas.concat instead.\n",
      "  feature_pd = feature_pd.append(pd.DataFrame(saving, index=feature).transpose(), ignore_index=True)\n",
      "/var/folders/dn/j0_7h7gx2sq58_nt9816ss480000gn/T/ipykernel_6547/4250457866.py:74: FutureWarning: The frame.append method is deprecated and will be removed from pandas in a future version. Use pandas.concat instead.\n",
      "  feature_pd = feature_pd.append(pd.DataFrame(saving, index=feature).transpose(), ignore_index=True)\n"
     ]
    },
    {
     "name": "stdout",
     "output_type": "stream",
     "text": [
      "856\n",
      "857\n",
      "858\n"
     ]
    },
    {
     "name": "stderr",
     "output_type": "stream",
     "text": [
      "/var/folders/dn/j0_7h7gx2sq58_nt9816ss480000gn/T/ipykernel_6547/4250457866.py:74: FutureWarning: The frame.append method is deprecated and will be removed from pandas in a future version. Use pandas.concat instead.\n",
      "  feature_pd = feature_pd.append(pd.DataFrame(saving, index=feature).transpose(), ignore_index=True)\n",
      "/var/folders/dn/j0_7h7gx2sq58_nt9816ss480000gn/T/ipykernel_6547/4250457866.py:74: FutureWarning: The frame.append method is deprecated and will be removed from pandas in a future version. Use pandas.concat instead.\n",
      "  feature_pd = feature_pd.append(pd.DataFrame(saving, index=feature).transpose(), ignore_index=True)\n",
      "/var/folders/dn/j0_7h7gx2sq58_nt9816ss480000gn/T/ipykernel_6547/4250457866.py:74: FutureWarning: The frame.append method is deprecated and will be removed from pandas in a future version. Use pandas.concat instead.\n",
      "  feature_pd = feature_pd.append(pd.DataFrame(saving, index=feature).transpose(), ignore_index=True)\n"
     ]
    },
    {
     "name": "stdout",
     "output_type": "stream",
     "text": [
      "859\n",
      "860\n"
     ]
    },
    {
     "name": "stderr",
     "output_type": "stream",
     "text": [
      "/var/folders/dn/j0_7h7gx2sq58_nt9816ss480000gn/T/ipykernel_6547/4250457866.py:74: FutureWarning: The frame.append method is deprecated and will be removed from pandas in a future version. Use pandas.concat instead.\n",
      "  feature_pd = feature_pd.append(pd.DataFrame(saving, index=feature).transpose(), ignore_index=True)\n",
      "/var/folders/dn/j0_7h7gx2sq58_nt9816ss480000gn/T/ipykernel_6547/4250457866.py:74: FutureWarning: The frame.append method is deprecated and will be removed from pandas in a future version. Use pandas.concat instead.\n",
      "  feature_pd = feature_pd.append(pd.DataFrame(saving, index=feature).transpose(), ignore_index=True)\n"
     ]
    },
    {
     "name": "stdout",
     "output_type": "stream",
     "text": [
      "861\n",
      "862\n",
      "863\n"
     ]
    },
    {
     "name": "stderr",
     "output_type": "stream",
     "text": [
      "/var/folders/dn/j0_7h7gx2sq58_nt9816ss480000gn/T/ipykernel_6547/4250457866.py:74: FutureWarning: The frame.append method is deprecated and will be removed from pandas in a future version. Use pandas.concat instead.\n",
      "  feature_pd = feature_pd.append(pd.DataFrame(saving, index=feature).transpose(), ignore_index=True)\n",
      "/var/folders/dn/j0_7h7gx2sq58_nt9816ss480000gn/T/ipykernel_6547/4250457866.py:74: FutureWarning: The frame.append method is deprecated and will be removed from pandas in a future version. Use pandas.concat instead.\n",
      "  feature_pd = feature_pd.append(pd.DataFrame(saving, index=feature).transpose(), ignore_index=True)\n",
      "/var/folders/dn/j0_7h7gx2sq58_nt9816ss480000gn/T/ipykernel_6547/4250457866.py:74: FutureWarning: The frame.append method is deprecated and will be removed from pandas in a future version. Use pandas.concat instead.\n",
      "  feature_pd = feature_pd.append(pd.DataFrame(saving, index=feature).transpose(), ignore_index=True)\n"
     ]
    },
    {
     "name": "stdout",
     "output_type": "stream",
     "text": [
      "864\n",
      "865\n",
      "866\n"
     ]
    },
    {
     "name": "stderr",
     "output_type": "stream",
     "text": [
      "/var/folders/dn/j0_7h7gx2sq58_nt9816ss480000gn/T/ipykernel_6547/4250457866.py:74: FutureWarning: The frame.append method is deprecated and will be removed from pandas in a future version. Use pandas.concat instead.\n",
      "  feature_pd = feature_pd.append(pd.DataFrame(saving, index=feature).transpose(), ignore_index=True)\n",
      "/var/folders/dn/j0_7h7gx2sq58_nt9816ss480000gn/T/ipykernel_6547/4250457866.py:74: FutureWarning: The frame.append method is deprecated and will be removed from pandas in a future version. Use pandas.concat instead.\n",
      "  feature_pd = feature_pd.append(pd.DataFrame(saving, index=feature).transpose(), ignore_index=True)\n",
      "/var/folders/dn/j0_7h7gx2sq58_nt9816ss480000gn/T/ipykernel_6547/4250457866.py:74: FutureWarning: The frame.append method is deprecated and will be removed from pandas in a future version. Use pandas.concat instead.\n",
      "  feature_pd = feature_pd.append(pd.DataFrame(saving, index=feature).transpose(), ignore_index=True)\n"
     ]
    },
    {
     "name": "stdout",
     "output_type": "stream",
     "text": [
      "867\n",
      "868\n",
      "869\n"
     ]
    },
    {
     "name": "stderr",
     "output_type": "stream",
     "text": [
      "/var/folders/dn/j0_7h7gx2sq58_nt9816ss480000gn/T/ipykernel_6547/4250457866.py:74: FutureWarning: The frame.append method is deprecated and will be removed from pandas in a future version. Use pandas.concat instead.\n",
      "  feature_pd = feature_pd.append(pd.DataFrame(saving, index=feature).transpose(), ignore_index=True)\n",
      "/var/folders/dn/j0_7h7gx2sq58_nt9816ss480000gn/T/ipykernel_6547/4250457866.py:74: FutureWarning: The frame.append method is deprecated and will be removed from pandas in a future version. Use pandas.concat instead.\n",
      "  feature_pd = feature_pd.append(pd.DataFrame(saving, index=feature).transpose(), ignore_index=True)\n",
      "/var/folders/dn/j0_7h7gx2sq58_nt9816ss480000gn/T/ipykernel_6547/4250457866.py:74: FutureWarning: The frame.append method is deprecated and will be removed from pandas in a future version. Use pandas.concat instead.\n",
      "  feature_pd = feature_pd.append(pd.DataFrame(saving, index=feature).transpose(), ignore_index=True)\n"
     ]
    },
    {
     "name": "stdout",
     "output_type": "stream",
     "text": [
      "870\n",
      "871\n"
     ]
    },
    {
     "name": "stderr",
     "output_type": "stream",
     "text": [
      "/var/folders/dn/j0_7h7gx2sq58_nt9816ss480000gn/T/ipykernel_6547/4250457866.py:74: FutureWarning: The frame.append method is deprecated and will be removed from pandas in a future version. Use pandas.concat instead.\n",
      "  feature_pd = feature_pd.append(pd.DataFrame(saving, index=feature).transpose(), ignore_index=True)\n",
      "/var/folders/dn/j0_7h7gx2sq58_nt9816ss480000gn/T/ipykernel_6547/4250457866.py:74: FutureWarning: The frame.append method is deprecated and will be removed from pandas in a future version. Use pandas.concat instead.\n",
      "  feature_pd = feature_pd.append(pd.DataFrame(saving, index=feature).transpose(), ignore_index=True)\n"
     ]
    },
    {
     "name": "stdout",
     "output_type": "stream",
     "text": [
      "872\n"
     ]
    },
    {
     "name": "stderr",
     "output_type": "stream",
     "text": [
      "/var/folders/dn/j0_7h7gx2sq58_nt9816ss480000gn/T/ipykernel_6547/4250457866.py:74: FutureWarning: The frame.append method is deprecated and will be removed from pandas in a future version. Use pandas.concat instead.\n",
      "  feature_pd = feature_pd.append(pd.DataFrame(saving, index=feature).transpose(), ignore_index=True)\n"
     ]
    },
    {
     "name": "stdout",
     "output_type": "stream",
     "text": [
      "873\n",
      "874\n"
     ]
    },
    {
     "name": "stderr",
     "output_type": "stream",
     "text": [
      "/var/folders/dn/j0_7h7gx2sq58_nt9816ss480000gn/T/ipykernel_6547/4250457866.py:74: FutureWarning: The frame.append method is deprecated and will be removed from pandas in a future version. Use pandas.concat instead.\n",
      "  feature_pd = feature_pd.append(pd.DataFrame(saving, index=feature).transpose(), ignore_index=True)\n",
      "/var/folders/dn/j0_7h7gx2sq58_nt9816ss480000gn/T/ipykernel_6547/4250457866.py:74: FutureWarning: The frame.append method is deprecated and will be removed from pandas in a future version. Use pandas.concat instead.\n",
      "  feature_pd = feature_pd.append(pd.DataFrame(saving, index=feature).transpose(), ignore_index=True)\n"
     ]
    },
    {
     "name": "stdout",
     "output_type": "stream",
     "text": [
      "875\n",
      "876\n",
      "877\n"
     ]
    },
    {
     "name": "stderr",
     "output_type": "stream",
     "text": [
      "/var/folders/dn/j0_7h7gx2sq58_nt9816ss480000gn/T/ipykernel_6547/4250457866.py:74: FutureWarning: The frame.append method is deprecated and will be removed from pandas in a future version. Use pandas.concat instead.\n",
      "  feature_pd = feature_pd.append(pd.DataFrame(saving, index=feature).transpose(), ignore_index=True)\n",
      "/var/folders/dn/j0_7h7gx2sq58_nt9816ss480000gn/T/ipykernel_6547/4250457866.py:74: FutureWarning: The frame.append method is deprecated and will be removed from pandas in a future version. Use pandas.concat instead.\n",
      "  feature_pd = feature_pd.append(pd.DataFrame(saving, index=feature).transpose(), ignore_index=True)\n",
      "/var/folders/dn/j0_7h7gx2sq58_nt9816ss480000gn/T/ipykernel_6547/4250457866.py:74: FutureWarning: The frame.append method is deprecated and will be removed from pandas in a future version. Use pandas.concat instead.\n",
      "  feature_pd = feature_pd.append(pd.DataFrame(saving, index=feature).transpose(), ignore_index=True)\n"
     ]
    },
    {
     "name": "stdout",
     "output_type": "stream",
     "text": [
      "878\n",
      "879\n",
      "880\n"
     ]
    },
    {
     "name": "stderr",
     "output_type": "stream",
     "text": [
      "/var/folders/dn/j0_7h7gx2sq58_nt9816ss480000gn/T/ipykernel_6547/4250457866.py:74: FutureWarning: The frame.append method is deprecated and will be removed from pandas in a future version. Use pandas.concat instead.\n",
      "  feature_pd = feature_pd.append(pd.DataFrame(saving, index=feature).transpose(), ignore_index=True)\n",
      "/var/folders/dn/j0_7h7gx2sq58_nt9816ss480000gn/T/ipykernel_6547/4250457866.py:74: FutureWarning: The frame.append method is deprecated and will be removed from pandas in a future version. Use pandas.concat instead.\n",
      "  feature_pd = feature_pd.append(pd.DataFrame(saving, index=feature).transpose(), ignore_index=True)\n",
      "/var/folders/dn/j0_7h7gx2sq58_nt9816ss480000gn/T/ipykernel_6547/4250457866.py:74: FutureWarning: The frame.append method is deprecated and will be removed from pandas in a future version. Use pandas.concat instead.\n",
      "  feature_pd = feature_pd.append(pd.DataFrame(saving, index=feature).transpose(), ignore_index=True)\n"
     ]
    },
    {
     "name": "stdout",
     "output_type": "stream",
     "text": [
      "881\n",
      "882\n",
      "883\n"
     ]
    },
    {
     "name": "stderr",
     "output_type": "stream",
     "text": [
      "/var/folders/dn/j0_7h7gx2sq58_nt9816ss480000gn/T/ipykernel_6547/4250457866.py:74: FutureWarning: The frame.append method is deprecated and will be removed from pandas in a future version. Use pandas.concat instead.\n",
      "  feature_pd = feature_pd.append(pd.DataFrame(saving, index=feature).transpose(), ignore_index=True)\n",
      "/var/folders/dn/j0_7h7gx2sq58_nt9816ss480000gn/T/ipykernel_6547/4250457866.py:74: FutureWarning: The frame.append method is deprecated and will be removed from pandas in a future version. Use pandas.concat instead.\n",
      "  feature_pd = feature_pd.append(pd.DataFrame(saving, index=feature).transpose(), ignore_index=True)\n",
      "/var/folders/dn/j0_7h7gx2sq58_nt9816ss480000gn/T/ipykernel_6547/4250457866.py:74: FutureWarning: The frame.append method is deprecated and will be removed from pandas in a future version. Use pandas.concat instead.\n",
      "  feature_pd = feature_pd.append(pd.DataFrame(saving, index=feature).transpose(), ignore_index=True)\n"
     ]
    },
    {
     "name": "stdout",
     "output_type": "stream",
     "text": [
      "884\n",
      "885\n",
      "886\n"
     ]
    },
    {
     "name": "stderr",
     "output_type": "stream",
     "text": [
      "/var/folders/dn/j0_7h7gx2sq58_nt9816ss480000gn/T/ipykernel_6547/4250457866.py:74: FutureWarning: The frame.append method is deprecated and will be removed from pandas in a future version. Use pandas.concat instead.\n",
      "  feature_pd = feature_pd.append(pd.DataFrame(saving, index=feature).transpose(), ignore_index=True)\n",
      "/var/folders/dn/j0_7h7gx2sq58_nt9816ss480000gn/T/ipykernel_6547/4250457866.py:74: FutureWarning: The frame.append method is deprecated and will be removed from pandas in a future version. Use pandas.concat instead.\n",
      "  feature_pd = feature_pd.append(pd.DataFrame(saving, index=feature).transpose(), ignore_index=True)\n",
      "/var/folders/dn/j0_7h7gx2sq58_nt9816ss480000gn/T/ipykernel_6547/4250457866.py:74: FutureWarning: The frame.append method is deprecated and will be removed from pandas in a future version. Use pandas.concat instead.\n",
      "  feature_pd = feature_pd.append(pd.DataFrame(saving, index=feature).transpose(), ignore_index=True)\n"
     ]
    },
    {
     "name": "stdout",
     "output_type": "stream",
     "text": [
      "887\n",
      "888\n",
      "889\n",
      "890\n"
     ]
    },
    {
     "name": "stderr",
     "output_type": "stream",
     "text": [
      "/var/folders/dn/j0_7h7gx2sq58_nt9816ss480000gn/T/ipykernel_6547/4250457866.py:74: FutureWarning: The frame.append method is deprecated and will be removed from pandas in a future version. Use pandas.concat instead.\n",
      "  feature_pd = feature_pd.append(pd.DataFrame(saving, index=feature).transpose(), ignore_index=True)\n",
      "/var/folders/dn/j0_7h7gx2sq58_nt9816ss480000gn/T/ipykernel_6547/4250457866.py:74: FutureWarning: The frame.append method is deprecated and will be removed from pandas in a future version. Use pandas.concat instead.\n",
      "  feature_pd = feature_pd.append(pd.DataFrame(saving, index=feature).transpose(), ignore_index=True)\n",
      "/var/folders/dn/j0_7h7gx2sq58_nt9816ss480000gn/T/ipykernel_6547/4250457866.py:74: FutureWarning: The frame.append method is deprecated and will be removed from pandas in a future version. Use pandas.concat instead.\n",
      "  feature_pd = feature_pd.append(pd.DataFrame(saving, index=feature).transpose(), ignore_index=True)\n",
      "/var/folders/dn/j0_7h7gx2sq58_nt9816ss480000gn/T/ipykernel_6547/4250457866.py:74: FutureWarning: The frame.append method is deprecated and will be removed from pandas in a future version. Use pandas.concat instead.\n",
      "  feature_pd = feature_pd.append(pd.DataFrame(saving, index=feature).transpose(), ignore_index=True)\n"
     ]
    },
    {
     "name": "stdout",
     "output_type": "stream",
     "text": [
      "891\n",
      "892\n",
      "893\n"
     ]
    },
    {
     "name": "stderr",
     "output_type": "stream",
     "text": [
      "/var/folders/dn/j0_7h7gx2sq58_nt9816ss480000gn/T/ipykernel_6547/4250457866.py:74: FutureWarning: The frame.append method is deprecated and will be removed from pandas in a future version. Use pandas.concat instead.\n",
      "  feature_pd = feature_pd.append(pd.DataFrame(saving, index=feature).transpose(), ignore_index=True)\n",
      "/var/folders/dn/j0_7h7gx2sq58_nt9816ss480000gn/T/ipykernel_6547/4250457866.py:74: FutureWarning: The frame.append method is deprecated and will be removed from pandas in a future version. Use pandas.concat instead.\n",
      "  feature_pd = feature_pd.append(pd.DataFrame(saving, index=feature).transpose(), ignore_index=True)\n",
      "/var/folders/dn/j0_7h7gx2sq58_nt9816ss480000gn/T/ipykernel_6547/4250457866.py:74: FutureWarning: The frame.append method is deprecated and will be removed from pandas in a future version. Use pandas.concat instead.\n",
      "  feature_pd = feature_pd.append(pd.DataFrame(saving, index=feature).transpose(), ignore_index=True)\n"
     ]
    },
    {
     "name": "stdout",
     "output_type": "stream",
     "text": [
      "894\n",
      "895\n"
     ]
    },
    {
     "name": "stderr",
     "output_type": "stream",
     "text": [
      "/var/folders/dn/j0_7h7gx2sq58_nt9816ss480000gn/T/ipykernel_6547/4250457866.py:74: FutureWarning: The frame.append method is deprecated and will be removed from pandas in a future version. Use pandas.concat instead.\n",
      "  feature_pd = feature_pd.append(pd.DataFrame(saving, index=feature).transpose(), ignore_index=True)\n",
      "/var/folders/dn/j0_7h7gx2sq58_nt9816ss480000gn/T/ipykernel_6547/4250457866.py:74: FutureWarning: The frame.append method is deprecated and will be removed from pandas in a future version. Use pandas.concat instead.\n",
      "  feature_pd = feature_pd.append(pd.DataFrame(saving, index=feature).transpose(), ignore_index=True)\n"
     ]
    },
    {
     "name": "stdout",
     "output_type": "stream",
     "text": [
      "896\n",
      "897\n",
      "898\n"
     ]
    },
    {
     "name": "stderr",
     "output_type": "stream",
     "text": [
      "/var/folders/dn/j0_7h7gx2sq58_nt9816ss480000gn/T/ipykernel_6547/4250457866.py:74: FutureWarning: The frame.append method is deprecated and will be removed from pandas in a future version. Use pandas.concat instead.\n",
      "  feature_pd = feature_pd.append(pd.DataFrame(saving, index=feature).transpose(), ignore_index=True)\n",
      "/var/folders/dn/j0_7h7gx2sq58_nt9816ss480000gn/T/ipykernel_6547/4250457866.py:74: FutureWarning: The frame.append method is deprecated and will be removed from pandas in a future version. Use pandas.concat instead.\n",
      "  feature_pd = feature_pd.append(pd.DataFrame(saving, index=feature).transpose(), ignore_index=True)\n",
      "/var/folders/dn/j0_7h7gx2sq58_nt9816ss480000gn/T/ipykernel_6547/4250457866.py:74: FutureWarning: The frame.append method is deprecated and will be removed from pandas in a future version. Use pandas.concat instead.\n",
      "  feature_pd = feature_pd.append(pd.DataFrame(saving, index=feature).transpose(), ignore_index=True)\n"
     ]
    },
    {
     "name": "stdout",
     "output_type": "stream",
     "text": [
      "899\n",
      "900\n",
      "901\n",
      "902\n"
     ]
    },
    {
     "name": "stderr",
     "output_type": "stream",
     "text": [
      "/var/folders/dn/j0_7h7gx2sq58_nt9816ss480000gn/T/ipykernel_6547/4250457866.py:74: FutureWarning: The frame.append method is deprecated and will be removed from pandas in a future version. Use pandas.concat instead.\n",
      "  feature_pd = feature_pd.append(pd.DataFrame(saving, index=feature).transpose(), ignore_index=True)\n",
      "/var/folders/dn/j0_7h7gx2sq58_nt9816ss480000gn/T/ipykernel_6547/4250457866.py:74: FutureWarning: The frame.append method is deprecated and will be removed from pandas in a future version. Use pandas.concat instead.\n",
      "  feature_pd = feature_pd.append(pd.DataFrame(saving, index=feature).transpose(), ignore_index=True)\n",
      "/var/folders/dn/j0_7h7gx2sq58_nt9816ss480000gn/T/ipykernel_6547/4250457866.py:74: FutureWarning: The frame.append method is deprecated and will be removed from pandas in a future version. Use pandas.concat instead.\n",
      "  feature_pd = feature_pd.append(pd.DataFrame(saving, index=feature).transpose(), ignore_index=True)\n",
      "/var/folders/dn/j0_7h7gx2sq58_nt9816ss480000gn/T/ipykernel_6547/4250457866.py:74: FutureWarning: The frame.append method is deprecated and will be removed from pandas in a future version. Use pandas.concat instead.\n",
      "  feature_pd = feature_pd.append(pd.DataFrame(saving, index=feature).transpose(), ignore_index=True)\n"
     ]
    },
    {
     "name": "stdout",
     "output_type": "stream",
     "text": [
      "903\n",
      "904\n",
      "905\n"
     ]
    },
    {
     "name": "stderr",
     "output_type": "stream",
     "text": [
      "/var/folders/dn/j0_7h7gx2sq58_nt9816ss480000gn/T/ipykernel_6547/4250457866.py:74: FutureWarning: The frame.append method is deprecated and will be removed from pandas in a future version. Use pandas.concat instead.\n",
      "  feature_pd = feature_pd.append(pd.DataFrame(saving, index=feature).transpose(), ignore_index=True)\n",
      "/var/folders/dn/j0_7h7gx2sq58_nt9816ss480000gn/T/ipykernel_6547/4250457866.py:74: FutureWarning: The frame.append method is deprecated and will be removed from pandas in a future version. Use pandas.concat instead.\n",
      "  feature_pd = feature_pd.append(pd.DataFrame(saving, index=feature).transpose(), ignore_index=True)\n",
      "/var/folders/dn/j0_7h7gx2sq58_nt9816ss480000gn/T/ipykernel_6547/4250457866.py:74: FutureWarning: The frame.append method is deprecated and will be removed from pandas in a future version. Use pandas.concat instead.\n",
      "  feature_pd = feature_pd.append(pd.DataFrame(saving, index=feature).transpose(), ignore_index=True)\n"
     ]
    },
    {
     "name": "stdout",
     "output_type": "stream",
     "text": [
      "906\n",
      "907\n",
      "908\n"
     ]
    },
    {
     "name": "stderr",
     "output_type": "stream",
     "text": [
      "/var/folders/dn/j0_7h7gx2sq58_nt9816ss480000gn/T/ipykernel_6547/4250457866.py:74: FutureWarning: The frame.append method is deprecated and will be removed from pandas in a future version. Use pandas.concat instead.\n",
      "  feature_pd = feature_pd.append(pd.DataFrame(saving, index=feature).transpose(), ignore_index=True)\n",
      "/var/folders/dn/j0_7h7gx2sq58_nt9816ss480000gn/T/ipykernel_6547/4250457866.py:74: FutureWarning: The frame.append method is deprecated and will be removed from pandas in a future version. Use pandas.concat instead.\n",
      "  feature_pd = feature_pd.append(pd.DataFrame(saving, index=feature).transpose(), ignore_index=True)\n",
      "/var/folders/dn/j0_7h7gx2sq58_nt9816ss480000gn/T/ipykernel_6547/4250457866.py:74: FutureWarning: The frame.append method is deprecated and will be removed from pandas in a future version. Use pandas.concat instead.\n",
      "  feature_pd = feature_pd.append(pd.DataFrame(saving, index=feature).transpose(), ignore_index=True)\n"
     ]
    },
    {
     "name": "stdout",
     "output_type": "stream",
     "text": [
      "909\n",
      "910\n",
      "911\n",
      "912\n"
     ]
    },
    {
     "name": "stderr",
     "output_type": "stream",
     "text": [
      "/var/folders/dn/j0_7h7gx2sq58_nt9816ss480000gn/T/ipykernel_6547/4250457866.py:74: FutureWarning: The frame.append method is deprecated and will be removed from pandas in a future version. Use pandas.concat instead.\n",
      "  feature_pd = feature_pd.append(pd.DataFrame(saving, index=feature).transpose(), ignore_index=True)\n",
      "/var/folders/dn/j0_7h7gx2sq58_nt9816ss480000gn/T/ipykernel_6547/4250457866.py:74: FutureWarning: The frame.append method is deprecated and will be removed from pandas in a future version. Use pandas.concat instead.\n",
      "  feature_pd = feature_pd.append(pd.DataFrame(saving, index=feature).transpose(), ignore_index=True)\n",
      "/var/folders/dn/j0_7h7gx2sq58_nt9816ss480000gn/T/ipykernel_6547/4250457866.py:74: FutureWarning: The frame.append method is deprecated and will be removed from pandas in a future version. Use pandas.concat instead.\n",
      "  feature_pd = feature_pd.append(pd.DataFrame(saving, index=feature).transpose(), ignore_index=True)\n",
      "/var/folders/dn/j0_7h7gx2sq58_nt9816ss480000gn/T/ipykernel_6547/4250457866.py:74: FutureWarning: The frame.append method is deprecated and will be removed from pandas in a future version. Use pandas.concat instead.\n",
      "  feature_pd = feature_pd.append(pd.DataFrame(saving, index=feature).transpose(), ignore_index=True)\n"
     ]
    },
    {
     "name": "stdout",
     "output_type": "stream",
     "text": [
      "913\n",
      "914\n"
     ]
    },
    {
     "name": "stderr",
     "output_type": "stream",
     "text": [
      "/var/folders/dn/j0_7h7gx2sq58_nt9816ss480000gn/T/ipykernel_6547/4250457866.py:74: FutureWarning: The frame.append method is deprecated and will be removed from pandas in a future version. Use pandas.concat instead.\n",
      "  feature_pd = feature_pd.append(pd.DataFrame(saving, index=feature).transpose(), ignore_index=True)\n",
      "/var/folders/dn/j0_7h7gx2sq58_nt9816ss480000gn/T/ipykernel_6547/4250457866.py:74: FutureWarning: The frame.append method is deprecated and will be removed from pandas in a future version. Use pandas.concat instead.\n",
      "  feature_pd = feature_pd.append(pd.DataFrame(saving, index=feature).transpose(), ignore_index=True)\n"
     ]
    },
    {
     "name": "stdout",
     "output_type": "stream",
     "text": [
      "915\n",
      "916\n",
      "917\n",
      "918\n"
     ]
    },
    {
     "name": "stderr",
     "output_type": "stream",
     "text": [
      "/var/folders/dn/j0_7h7gx2sq58_nt9816ss480000gn/T/ipykernel_6547/4250457866.py:74: FutureWarning: The frame.append method is deprecated and will be removed from pandas in a future version. Use pandas.concat instead.\n",
      "  feature_pd = feature_pd.append(pd.DataFrame(saving, index=feature).transpose(), ignore_index=True)\n",
      "/var/folders/dn/j0_7h7gx2sq58_nt9816ss480000gn/T/ipykernel_6547/4250457866.py:74: FutureWarning: The frame.append method is deprecated and will be removed from pandas in a future version. Use pandas.concat instead.\n",
      "  feature_pd = feature_pd.append(pd.DataFrame(saving, index=feature).transpose(), ignore_index=True)\n",
      "/var/folders/dn/j0_7h7gx2sq58_nt9816ss480000gn/T/ipykernel_6547/4250457866.py:74: FutureWarning: The frame.append method is deprecated and will be removed from pandas in a future version. Use pandas.concat instead.\n",
      "  feature_pd = feature_pd.append(pd.DataFrame(saving, index=feature).transpose(), ignore_index=True)\n",
      "/var/folders/dn/j0_7h7gx2sq58_nt9816ss480000gn/T/ipykernel_6547/4250457866.py:74: FutureWarning: The frame.append method is deprecated and will be removed from pandas in a future version. Use pandas.concat instead.\n",
      "  feature_pd = feature_pd.append(pd.DataFrame(saving, index=feature).transpose(), ignore_index=True)\n"
     ]
    },
    {
     "name": "stdout",
     "output_type": "stream",
     "text": [
      "919\n"
     ]
    },
    {
     "name": "stderr",
     "output_type": "stream",
     "text": [
      "/var/folders/dn/j0_7h7gx2sq58_nt9816ss480000gn/T/ipykernel_6547/4250457866.py:74: FutureWarning: The frame.append method is deprecated and will be removed from pandas in a future version. Use pandas.concat instead.\n",
      "  feature_pd = feature_pd.append(pd.DataFrame(saving, index=feature).transpose(), ignore_index=True)\n"
     ]
    },
    {
     "name": "stdout",
     "output_type": "stream",
     "text": [
      "920\n",
      "921\n"
     ]
    },
    {
     "name": "stderr",
     "output_type": "stream",
     "text": [
      "/var/folders/dn/j0_7h7gx2sq58_nt9816ss480000gn/T/ipykernel_6547/4250457866.py:74: FutureWarning: The frame.append method is deprecated and will be removed from pandas in a future version. Use pandas.concat instead.\n",
      "  feature_pd = feature_pd.append(pd.DataFrame(saving, index=feature).transpose(), ignore_index=True)\n",
      "/var/folders/dn/j0_7h7gx2sq58_nt9816ss480000gn/T/ipykernel_6547/4250457866.py:74: FutureWarning: The frame.append method is deprecated and will be removed from pandas in a future version. Use pandas.concat instead.\n",
      "  feature_pd = feature_pd.append(pd.DataFrame(saving, index=feature).transpose(), ignore_index=True)\n"
     ]
    },
    {
     "name": "stdout",
     "output_type": "stream",
     "text": [
      "922\n",
      "923\n",
      "924\n"
     ]
    },
    {
     "name": "stderr",
     "output_type": "stream",
     "text": [
      "/var/folders/dn/j0_7h7gx2sq58_nt9816ss480000gn/T/ipykernel_6547/4250457866.py:74: FutureWarning: The frame.append method is deprecated and will be removed from pandas in a future version. Use pandas.concat instead.\n",
      "  feature_pd = feature_pd.append(pd.DataFrame(saving, index=feature).transpose(), ignore_index=True)\n",
      "/var/folders/dn/j0_7h7gx2sq58_nt9816ss480000gn/T/ipykernel_6547/4250457866.py:74: FutureWarning: The frame.append method is deprecated and will be removed from pandas in a future version. Use pandas.concat instead.\n",
      "  feature_pd = feature_pd.append(pd.DataFrame(saving, index=feature).transpose(), ignore_index=True)\n",
      "/var/folders/dn/j0_7h7gx2sq58_nt9816ss480000gn/T/ipykernel_6547/4250457866.py:74: FutureWarning: The frame.append method is deprecated and will be removed from pandas in a future version. Use pandas.concat instead.\n",
      "  feature_pd = feature_pd.append(pd.DataFrame(saving, index=feature).transpose(), ignore_index=True)\n"
     ]
    },
    {
     "name": "stdout",
     "output_type": "stream",
     "text": [
      "925\n",
      "926\n",
      "927\n"
     ]
    },
    {
     "name": "stderr",
     "output_type": "stream",
     "text": [
      "/var/folders/dn/j0_7h7gx2sq58_nt9816ss480000gn/T/ipykernel_6547/4250457866.py:74: FutureWarning: The frame.append method is deprecated and will be removed from pandas in a future version. Use pandas.concat instead.\n",
      "  feature_pd = feature_pd.append(pd.DataFrame(saving, index=feature).transpose(), ignore_index=True)\n",
      "/var/folders/dn/j0_7h7gx2sq58_nt9816ss480000gn/T/ipykernel_6547/4250457866.py:74: FutureWarning: The frame.append method is deprecated and will be removed from pandas in a future version. Use pandas.concat instead.\n",
      "  feature_pd = feature_pd.append(pd.DataFrame(saving, index=feature).transpose(), ignore_index=True)\n",
      "/var/folders/dn/j0_7h7gx2sq58_nt9816ss480000gn/T/ipykernel_6547/4250457866.py:74: FutureWarning: The frame.append method is deprecated and will be removed from pandas in a future version. Use pandas.concat instead.\n",
      "  feature_pd = feature_pd.append(pd.DataFrame(saving, index=feature).transpose(), ignore_index=True)\n"
     ]
    },
    {
     "name": "stdout",
     "output_type": "stream",
     "text": [
      "928\n",
      "929\n",
      "930\n",
      "931\n"
     ]
    },
    {
     "name": "stderr",
     "output_type": "stream",
     "text": [
      "/var/folders/dn/j0_7h7gx2sq58_nt9816ss480000gn/T/ipykernel_6547/4250457866.py:74: FutureWarning: The frame.append method is deprecated and will be removed from pandas in a future version. Use pandas.concat instead.\n",
      "  feature_pd = feature_pd.append(pd.DataFrame(saving, index=feature).transpose(), ignore_index=True)\n",
      "/var/folders/dn/j0_7h7gx2sq58_nt9816ss480000gn/T/ipykernel_6547/4250457866.py:74: FutureWarning: The frame.append method is deprecated and will be removed from pandas in a future version. Use pandas.concat instead.\n",
      "  feature_pd = feature_pd.append(pd.DataFrame(saving, index=feature).transpose(), ignore_index=True)\n",
      "/var/folders/dn/j0_7h7gx2sq58_nt9816ss480000gn/T/ipykernel_6547/4250457866.py:74: FutureWarning: The frame.append method is deprecated and will be removed from pandas in a future version. Use pandas.concat instead.\n",
      "  feature_pd = feature_pd.append(pd.DataFrame(saving, index=feature).transpose(), ignore_index=True)\n",
      "/var/folders/dn/j0_7h7gx2sq58_nt9816ss480000gn/T/ipykernel_6547/4250457866.py:74: FutureWarning: The frame.append method is deprecated and will be removed from pandas in a future version. Use pandas.concat instead.\n",
      "  feature_pd = feature_pd.append(pd.DataFrame(saving, index=feature).transpose(), ignore_index=True)\n"
     ]
    },
    {
     "name": "stdout",
     "output_type": "stream",
     "text": [
      "932\n",
      "933\n",
      "934\n"
     ]
    },
    {
     "name": "stderr",
     "output_type": "stream",
     "text": [
      "/var/folders/dn/j0_7h7gx2sq58_nt9816ss480000gn/T/ipykernel_6547/4250457866.py:74: FutureWarning: The frame.append method is deprecated and will be removed from pandas in a future version. Use pandas.concat instead.\n",
      "  feature_pd = feature_pd.append(pd.DataFrame(saving, index=feature).transpose(), ignore_index=True)\n",
      "/var/folders/dn/j0_7h7gx2sq58_nt9816ss480000gn/T/ipykernel_6547/4250457866.py:74: FutureWarning: The frame.append method is deprecated and will be removed from pandas in a future version. Use pandas.concat instead.\n",
      "  feature_pd = feature_pd.append(pd.DataFrame(saving, index=feature).transpose(), ignore_index=True)\n",
      "/var/folders/dn/j0_7h7gx2sq58_nt9816ss480000gn/T/ipykernel_6547/4250457866.py:74: FutureWarning: The frame.append method is deprecated and will be removed from pandas in a future version. Use pandas.concat instead.\n",
      "  feature_pd = feature_pd.append(pd.DataFrame(saving, index=feature).transpose(), ignore_index=True)\n"
     ]
    },
    {
     "name": "stdout",
     "output_type": "stream",
     "text": [
      "935\n",
      "936\n",
      "937\n"
     ]
    },
    {
     "name": "stderr",
     "output_type": "stream",
     "text": [
      "/var/folders/dn/j0_7h7gx2sq58_nt9816ss480000gn/T/ipykernel_6547/4250457866.py:74: FutureWarning: The frame.append method is deprecated and will be removed from pandas in a future version. Use pandas.concat instead.\n",
      "  feature_pd = feature_pd.append(pd.DataFrame(saving, index=feature).transpose(), ignore_index=True)\n",
      "/var/folders/dn/j0_7h7gx2sq58_nt9816ss480000gn/T/ipykernel_6547/4250457866.py:74: FutureWarning: The frame.append method is deprecated and will be removed from pandas in a future version. Use pandas.concat instead.\n",
      "  feature_pd = feature_pd.append(pd.DataFrame(saving, index=feature).transpose(), ignore_index=True)\n",
      "/var/folders/dn/j0_7h7gx2sq58_nt9816ss480000gn/T/ipykernel_6547/4250457866.py:74: FutureWarning: The frame.append method is deprecated and will be removed from pandas in a future version. Use pandas.concat instead.\n",
      "  feature_pd = feature_pd.append(pd.DataFrame(saving, index=feature).transpose(), ignore_index=True)\n"
     ]
    },
    {
     "name": "stdout",
     "output_type": "stream",
     "text": [
      "938\n",
      "939\n",
      "940\n"
     ]
    },
    {
     "name": "stderr",
     "output_type": "stream",
     "text": [
      "/var/folders/dn/j0_7h7gx2sq58_nt9816ss480000gn/T/ipykernel_6547/4250457866.py:74: FutureWarning: The frame.append method is deprecated and will be removed from pandas in a future version. Use pandas.concat instead.\n",
      "  feature_pd = feature_pd.append(pd.DataFrame(saving, index=feature).transpose(), ignore_index=True)\n",
      "/var/folders/dn/j0_7h7gx2sq58_nt9816ss480000gn/T/ipykernel_6547/4250457866.py:74: FutureWarning: The frame.append method is deprecated and will be removed from pandas in a future version. Use pandas.concat instead.\n",
      "  feature_pd = feature_pd.append(pd.DataFrame(saving, index=feature).transpose(), ignore_index=True)\n",
      "/var/folders/dn/j0_7h7gx2sq58_nt9816ss480000gn/T/ipykernel_6547/4250457866.py:74: FutureWarning: The frame.append method is deprecated and will be removed from pandas in a future version. Use pandas.concat instead.\n",
      "  feature_pd = feature_pd.append(pd.DataFrame(saving, index=feature).transpose(), ignore_index=True)\n"
     ]
    },
    {
     "name": "stdout",
     "output_type": "stream",
     "text": [
      "941\n",
      "942\n",
      "943\n"
     ]
    },
    {
     "name": "stderr",
     "output_type": "stream",
     "text": [
      "/var/folders/dn/j0_7h7gx2sq58_nt9816ss480000gn/T/ipykernel_6547/4250457866.py:74: FutureWarning: The frame.append method is deprecated and will be removed from pandas in a future version. Use pandas.concat instead.\n",
      "  feature_pd = feature_pd.append(pd.DataFrame(saving, index=feature).transpose(), ignore_index=True)\n",
      "/var/folders/dn/j0_7h7gx2sq58_nt9816ss480000gn/T/ipykernel_6547/4250457866.py:74: FutureWarning: The frame.append method is deprecated and will be removed from pandas in a future version. Use pandas.concat instead.\n",
      "  feature_pd = feature_pd.append(pd.DataFrame(saving, index=feature).transpose(), ignore_index=True)\n",
      "/var/folders/dn/j0_7h7gx2sq58_nt9816ss480000gn/T/ipykernel_6547/4250457866.py:74: FutureWarning: The frame.append method is deprecated and will be removed from pandas in a future version. Use pandas.concat instead.\n",
      "  feature_pd = feature_pd.append(pd.DataFrame(saving, index=feature).transpose(), ignore_index=True)\n"
     ]
    },
    {
     "name": "stdout",
     "output_type": "stream",
     "text": [
      "944\n",
      "945\n",
      "946\n"
     ]
    },
    {
     "name": "stderr",
     "output_type": "stream",
     "text": [
      "/var/folders/dn/j0_7h7gx2sq58_nt9816ss480000gn/T/ipykernel_6547/4250457866.py:74: FutureWarning: The frame.append method is deprecated and will be removed from pandas in a future version. Use pandas.concat instead.\n",
      "  feature_pd = feature_pd.append(pd.DataFrame(saving, index=feature).transpose(), ignore_index=True)\n",
      "/var/folders/dn/j0_7h7gx2sq58_nt9816ss480000gn/T/ipykernel_6547/4250457866.py:74: FutureWarning: The frame.append method is deprecated and will be removed from pandas in a future version. Use pandas.concat instead.\n",
      "  feature_pd = feature_pd.append(pd.DataFrame(saving, index=feature).transpose(), ignore_index=True)\n",
      "/var/folders/dn/j0_7h7gx2sq58_nt9816ss480000gn/T/ipykernel_6547/4250457866.py:74: FutureWarning: The frame.append method is deprecated and will be removed from pandas in a future version. Use pandas.concat instead.\n",
      "  feature_pd = feature_pd.append(pd.DataFrame(saving, index=feature).transpose(), ignore_index=True)\n"
     ]
    },
    {
     "name": "stdout",
     "output_type": "stream",
     "text": [
      "947\n",
      "948\n",
      "949\n"
     ]
    },
    {
     "name": "stderr",
     "output_type": "stream",
     "text": [
      "/var/folders/dn/j0_7h7gx2sq58_nt9816ss480000gn/T/ipykernel_6547/4250457866.py:74: FutureWarning: The frame.append method is deprecated and will be removed from pandas in a future version. Use pandas.concat instead.\n",
      "  feature_pd = feature_pd.append(pd.DataFrame(saving, index=feature).transpose(), ignore_index=True)\n",
      "/var/folders/dn/j0_7h7gx2sq58_nt9816ss480000gn/T/ipykernel_6547/4250457866.py:74: FutureWarning: The frame.append method is deprecated and will be removed from pandas in a future version. Use pandas.concat instead.\n",
      "  feature_pd = feature_pd.append(pd.DataFrame(saving, index=feature).transpose(), ignore_index=True)\n",
      "/var/folders/dn/j0_7h7gx2sq58_nt9816ss480000gn/T/ipykernel_6547/4250457866.py:74: FutureWarning: The frame.append method is deprecated and will be removed from pandas in a future version. Use pandas.concat instead.\n",
      "  feature_pd = feature_pd.append(pd.DataFrame(saving, index=feature).transpose(), ignore_index=True)\n"
     ]
    },
    {
     "name": "stdout",
     "output_type": "stream",
     "text": [
      "950\n",
      "951\n",
      "952\n",
      "953\n"
     ]
    },
    {
     "name": "stderr",
     "output_type": "stream",
     "text": [
      "/var/folders/dn/j0_7h7gx2sq58_nt9816ss480000gn/T/ipykernel_6547/4250457866.py:74: FutureWarning: The frame.append method is deprecated and will be removed from pandas in a future version. Use pandas.concat instead.\n",
      "  feature_pd = feature_pd.append(pd.DataFrame(saving, index=feature).transpose(), ignore_index=True)\n",
      "/var/folders/dn/j0_7h7gx2sq58_nt9816ss480000gn/T/ipykernel_6547/4250457866.py:74: FutureWarning: The frame.append method is deprecated and will be removed from pandas in a future version. Use pandas.concat instead.\n",
      "  feature_pd = feature_pd.append(pd.DataFrame(saving, index=feature).transpose(), ignore_index=True)\n",
      "/var/folders/dn/j0_7h7gx2sq58_nt9816ss480000gn/T/ipykernel_6547/4250457866.py:74: FutureWarning: The frame.append method is deprecated and will be removed from pandas in a future version. Use pandas.concat instead.\n",
      "  feature_pd = feature_pd.append(pd.DataFrame(saving, index=feature).transpose(), ignore_index=True)\n",
      "/var/folders/dn/j0_7h7gx2sq58_nt9816ss480000gn/T/ipykernel_6547/4250457866.py:74: FutureWarning: The frame.append method is deprecated and will be removed from pandas in a future version. Use pandas.concat instead.\n",
      "  feature_pd = feature_pd.append(pd.DataFrame(saving, index=feature).transpose(), ignore_index=True)\n"
     ]
    },
    {
     "name": "stdout",
     "output_type": "stream",
     "text": [
      "954\n",
      "955\n",
      "956\n"
     ]
    },
    {
     "name": "stderr",
     "output_type": "stream",
     "text": [
      "/var/folders/dn/j0_7h7gx2sq58_nt9816ss480000gn/T/ipykernel_6547/4250457866.py:74: FutureWarning: The frame.append method is deprecated and will be removed from pandas in a future version. Use pandas.concat instead.\n",
      "  feature_pd = feature_pd.append(pd.DataFrame(saving, index=feature).transpose(), ignore_index=True)\n",
      "/var/folders/dn/j0_7h7gx2sq58_nt9816ss480000gn/T/ipykernel_6547/4250457866.py:74: FutureWarning: The frame.append method is deprecated and will be removed from pandas in a future version. Use pandas.concat instead.\n",
      "  feature_pd = feature_pd.append(pd.DataFrame(saving, index=feature).transpose(), ignore_index=True)\n",
      "/var/folders/dn/j0_7h7gx2sq58_nt9816ss480000gn/T/ipykernel_6547/4250457866.py:74: FutureWarning: The frame.append method is deprecated and will be removed from pandas in a future version. Use pandas.concat instead.\n",
      "  feature_pd = feature_pd.append(pd.DataFrame(saving, index=feature).transpose(), ignore_index=True)\n"
     ]
    },
    {
     "name": "stdout",
     "output_type": "stream",
     "text": [
      "957\n",
      "958\n",
      "959\n",
      "960\n"
     ]
    },
    {
     "name": "stderr",
     "output_type": "stream",
     "text": [
      "/var/folders/dn/j0_7h7gx2sq58_nt9816ss480000gn/T/ipykernel_6547/4250457866.py:74: FutureWarning: The frame.append method is deprecated and will be removed from pandas in a future version. Use pandas.concat instead.\n",
      "  feature_pd = feature_pd.append(pd.DataFrame(saving, index=feature).transpose(), ignore_index=True)\n",
      "/var/folders/dn/j0_7h7gx2sq58_nt9816ss480000gn/T/ipykernel_6547/4250457866.py:74: FutureWarning: The frame.append method is deprecated and will be removed from pandas in a future version. Use pandas.concat instead.\n",
      "  feature_pd = feature_pd.append(pd.DataFrame(saving, index=feature).transpose(), ignore_index=True)\n",
      "/var/folders/dn/j0_7h7gx2sq58_nt9816ss480000gn/T/ipykernel_6547/4250457866.py:74: FutureWarning: The frame.append method is deprecated and will be removed from pandas in a future version. Use pandas.concat instead.\n",
      "  feature_pd = feature_pd.append(pd.DataFrame(saving, index=feature).transpose(), ignore_index=True)\n",
      "/var/folders/dn/j0_7h7gx2sq58_nt9816ss480000gn/T/ipykernel_6547/4250457866.py:74: FutureWarning: The frame.append method is deprecated and will be removed from pandas in a future version. Use pandas.concat instead.\n",
      "  feature_pd = feature_pd.append(pd.DataFrame(saving, index=feature).transpose(), ignore_index=True)\n"
     ]
    },
    {
     "name": "stdout",
     "output_type": "stream",
     "text": [
      "961\n",
      "962\n",
      "963\n",
      "964\n"
     ]
    },
    {
     "name": "stderr",
     "output_type": "stream",
     "text": [
      "/var/folders/dn/j0_7h7gx2sq58_nt9816ss480000gn/T/ipykernel_6547/4250457866.py:74: FutureWarning: The frame.append method is deprecated and will be removed from pandas in a future version. Use pandas.concat instead.\n",
      "  feature_pd = feature_pd.append(pd.DataFrame(saving, index=feature).transpose(), ignore_index=True)\n",
      "/var/folders/dn/j0_7h7gx2sq58_nt9816ss480000gn/T/ipykernel_6547/4250457866.py:74: FutureWarning: The frame.append method is deprecated and will be removed from pandas in a future version. Use pandas.concat instead.\n",
      "  feature_pd = feature_pd.append(pd.DataFrame(saving, index=feature).transpose(), ignore_index=True)\n",
      "/var/folders/dn/j0_7h7gx2sq58_nt9816ss480000gn/T/ipykernel_6547/4250457866.py:74: FutureWarning: The frame.append method is deprecated and will be removed from pandas in a future version. Use pandas.concat instead.\n",
      "  feature_pd = feature_pd.append(pd.DataFrame(saving, index=feature).transpose(), ignore_index=True)\n",
      "/var/folders/dn/j0_7h7gx2sq58_nt9816ss480000gn/T/ipykernel_6547/4250457866.py:74: FutureWarning: The frame.append method is deprecated and will be removed from pandas in a future version. Use pandas.concat instead.\n",
      "  feature_pd = feature_pd.append(pd.DataFrame(saving, index=feature).transpose(), ignore_index=True)\n"
     ]
    },
    {
     "name": "stdout",
     "output_type": "stream",
     "text": [
      "965\n",
      "966\n",
      "967\n"
     ]
    },
    {
     "name": "stderr",
     "output_type": "stream",
     "text": [
      "/var/folders/dn/j0_7h7gx2sq58_nt9816ss480000gn/T/ipykernel_6547/4250457866.py:74: FutureWarning: The frame.append method is deprecated and will be removed from pandas in a future version. Use pandas.concat instead.\n",
      "  feature_pd = feature_pd.append(pd.DataFrame(saving, index=feature).transpose(), ignore_index=True)\n",
      "/var/folders/dn/j0_7h7gx2sq58_nt9816ss480000gn/T/ipykernel_6547/4250457866.py:74: FutureWarning: The frame.append method is deprecated and will be removed from pandas in a future version. Use pandas.concat instead.\n",
      "  feature_pd = feature_pd.append(pd.DataFrame(saving, index=feature).transpose(), ignore_index=True)\n",
      "/var/folders/dn/j0_7h7gx2sq58_nt9816ss480000gn/T/ipykernel_6547/4250457866.py:74: FutureWarning: The frame.append method is deprecated and will be removed from pandas in a future version. Use pandas.concat instead.\n",
      "  feature_pd = feature_pd.append(pd.DataFrame(saving, index=feature).transpose(), ignore_index=True)\n"
     ]
    },
    {
     "name": "stdout",
     "output_type": "stream",
     "text": [
      "968\n",
      "969\n",
      "970\n",
      "971\n"
     ]
    },
    {
     "name": "stderr",
     "output_type": "stream",
     "text": [
      "/var/folders/dn/j0_7h7gx2sq58_nt9816ss480000gn/T/ipykernel_6547/4250457866.py:74: FutureWarning: The frame.append method is deprecated and will be removed from pandas in a future version. Use pandas.concat instead.\n",
      "  feature_pd = feature_pd.append(pd.DataFrame(saving, index=feature).transpose(), ignore_index=True)\n",
      "/var/folders/dn/j0_7h7gx2sq58_nt9816ss480000gn/T/ipykernel_6547/4250457866.py:74: FutureWarning: The frame.append method is deprecated and will be removed from pandas in a future version. Use pandas.concat instead.\n",
      "  feature_pd = feature_pd.append(pd.DataFrame(saving, index=feature).transpose(), ignore_index=True)\n",
      "/var/folders/dn/j0_7h7gx2sq58_nt9816ss480000gn/T/ipykernel_6547/4250457866.py:74: FutureWarning: The frame.append method is deprecated and will be removed from pandas in a future version. Use pandas.concat instead.\n",
      "  feature_pd = feature_pd.append(pd.DataFrame(saving, index=feature).transpose(), ignore_index=True)\n",
      "/var/folders/dn/j0_7h7gx2sq58_nt9816ss480000gn/T/ipykernel_6547/4250457866.py:74: FutureWarning: The frame.append method is deprecated and will be removed from pandas in a future version. Use pandas.concat instead.\n",
      "  feature_pd = feature_pd.append(pd.DataFrame(saving, index=feature).transpose(), ignore_index=True)\n"
     ]
    },
    {
     "name": "stdout",
     "output_type": "stream",
     "text": [
      "972\n",
      "973\n",
      "974\n",
      "975\n"
     ]
    },
    {
     "name": "stderr",
     "output_type": "stream",
     "text": [
      "/var/folders/dn/j0_7h7gx2sq58_nt9816ss480000gn/T/ipykernel_6547/4250457866.py:74: FutureWarning: The frame.append method is deprecated and will be removed from pandas in a future version. Use pandas.concat instead.\n",
      "  feature_pd = feature_pd.append(pd.DataFrame(saving, index=feature).transpose(), ignore_index=True)\n",
      "/var/folders/dn/j0_7h7gx2sq58_nt9816ss480000gn/T/ipykernel_6547/4250457866.py:74: FutureWarning: The frame.append method is deprecated and will be removed from pandas in a future version. Use pandas.concat instead.\n",
      "  feature_pd = feature_pd.append(pd.DataFrame(saving, index=feature).transpose(), ignore_index=True)\n",
      "/var/folders/dn/j0_7h7gx2sq58_nt9816ss480000gn/T/ipykernel_6547/4250457866.py:74: FutureWarning: The frame.append method is deprecated and will be removed from pandas in a future version. Use pandas.concat instead.\n",
      "  feature_pd = feature_pd.append(pd.DataFrame(saving, index=feature).transpose(), ignore_index=True)\n",
      "/var/folders/dn/j0_7h7gx2sq58_nt9816ss480000gn/T/ipykernel_6547/4250457866.py:74: FutureWarning: The frame.append method is deprecated and will be removed from pandas in a future version. Use pandas.concat instead.\n",
      "  feature_pd = feature_pd.append(pd.DataFrame(saving, index=feature).transpose(), ignore_index=True)\n"
     ]
    },
    {
     "name": "stdout",
     "output_type": "stream",
     "text": [
      "976\n",
      "977\n",
      "978\n",
      "979\n"
     ]
    },
    {
     "name": "stderr",
     "output_type": "stream",
     "text": [
      "/var/folders/dn/j0_7h7gx2sq58_nt9816ss480000gn/T/ipykernel_6547/4250457866.py:74: FutureWarning: The frame.append method is deprecated and will be removed from pandas in a future version. Use pandas.concat instead.\n",
      "  feature_pd = feature_pd.append(pd.DataFrame(saving, index=feature).transpose(), ignore_index=True)\n",
      "/var/folders/dn/j0_7h7gx2sq58_nt9816ss480000gn/T/ipykernel_6547/4250457866.py:74: FutureWarning: The frame.append method is deprecated and will be removed from pandas in a future version. Use pandas.concat instead.\n",
      "  feature_pd = feature_pd.append(pd.DataFrame(saving, index=feature).transpose(), ignore_index=True)\n",
      "/var/folders/dn/j0_7h7gx2sq58_nt9816ss480000gn/T/ipykernel_6547/4250457866.py:74: FutureWarning: The frame.append method is deprecated and will be removed from pandas in a future version. Use pandas.concat instead.\n",
      "  feature_pd = feature_pd.append(pd.DataFrame(saving, index=feature).transpose(), ignore_index=True)\n",
      "/var/folders/dn/j0_7h7gx2sq58_nt9816ss480000gn/T/ipykernel_6547/4250457866.py:74: FutureWarning: The frame.append method is deprecated and will be removed from pandas in a future version. Use pandas.concat instead.\n",
      "  feature_pd = feature_pd.append(pd.DataFrame(saving, index=feature).transpose(), ignore_index=True)\n"
     ]
    },
    {
     "name": "stdout",
     "output_type": "stream",
     "text": [
      "980\n",
      "981\n",
      "982\n"
     ]
    },
    {
     "name": "stderr",
     "output_type": "stream",
     "text": [
      "/var/folders/dn/j0_7h7gx2sq58_nt9816ss480000gn/T/ipykernel_6547/4250457866.py:74: FutureWarning: The frame.append method is deprecated and will be removed from pandas in a future version. Use pandas.concat instead.\n",
      "  feature_pd = feature_pd.append(pd.DataFrame(saving, index=feature).transpose(), ignore_index=True)\n",
      "/var/folders/dn/j0_7h7gx2sq58_nt9816ss480000gn/T/ipykernel_6547/4250457866.py:74: FutureWarning: The frame.append method is deprecated and will be removed from pandas in a future version. Use pandas.concat instead.\n",
      "  feature_pd = feature_pd.append(pd.DataFrame(saving, index=feature).transpose(), ignore_index=True)\n",
      "/var/folders/dn/j0_7h7gx2sq58_nt9816ss480000gn/T/ipykernel_6547/4250457866.py:74: FutureWarning: The frame.append method is deprecated and will be removed from pandas in a future version. Use pandas.concat instead.\n",
      "  feature_pd = feature_pd.append(pd.DataFrame(saving, index=feature).transpose(), ignore_index=True)\n"
     ]
    },
    {
     "name": "stdout",
     "output_type": "stream",
     "text": [
      "983\n",
      "984\n"
     ]
    },
    {
     "name": "stderr",
     "output_type": "stream",
     "text": [
      "/var/folders/dn/j0_7h7gx2sq58_nt9816ss480000gn/T/ipykernel_6547/4250457866.py:74: FutureWarning: The frame.append method is deprecated and will be removed from pandas in a future version. Use pandas.concat instead.\n",
      "  feature_pd = feature_pd.append(pd.DataFrame(saving, index=feature).transpose(), ignore_index=True)\n",
      "/var/folders/dn/j0_7h7gx2sq58_nt9816ss480000gn/T/ipykernel_6547/4250457866.py:74: FutureWarning: The frame.append method is deprecated and will be removed from pandas in a future version. Use pandas.concat instead.\n",
      "  feature_pd = feature_pd.append(pd.DataFrame(saving, index=feature).transpose(), ignore_index=True)\n"
     ]
    },
    {
     "name": "stdout",
     "output_type": "stream",
     "text": [
      "985\n"
     ]
    },
    {
     "name": "stderr",
     "output_type": "stream",
     "text": [
      "/var/folders/dn/j0_7h7gx2sq58_nt9816ss480000gn/T/ipykernel_6547/4250457866.py:74: FutureWarning: The frame.append method is deprecated and will be removed from pandas in a future version. Use pandas.concat instead.\n",
      "  feature_pd = feature_pd.append(pd.DataFrame(saving, index=feature).transpose(), ignore_index=True)\n"
     ]
    },
    {
     "name": "stdout",
     "output_type": "stream",
     "text": [
      "986\n",
      "987\n"
     ]
    },
    {
     "name": "stderr",
     "output_type": "stream",
     "text": [
      "/var/folders/dn/j0_7h7gx2sq58_nt9816ss480000gn/T/ipykernel_6547/4250457866.py:74: FutureWarning: The frame.append method is deprecated and will be removed from pandas in a future version. Use pandas.concat instead.\n",
      "  feature_pd = feature_pd.append(pd.DataFrame(saving, index=feature).transpose(), ignore_index=True)\n",
      "/var/folders/dn/j0_7h7gx2sq58_nt9816ss480000gn/T/ipykernel_6547/4250457866.py:74: FutureWarning: The frame.append method is deprecated and will be removed from pandas in a future version. Use pandas.concat instead.\n",
      "  feature_pd = feature_pd.append(pd.DataFrame(saving, index=feature).transpose(), ignore_index=True)\n"
     ]
    },
    {
     "name": "stdout",
     "output_type": "stream",
     "text": [
      "988\n",
      "989\n"
     ]
    },
    {
     "name": "stderr",
     "output_type": "stream",
     "text": [
      "/var/folders/dn/j0_7h7gx2sq58_nt9816ss480000gn/T/ipykernel_6547/4250457866.py:74: FutureWarning: The frame.append method is deprecated and will be removed from pandas in a future version. Use pandas.concat instead.\n",
      "  feature_pd = feature_pd.append(pd.DataFrame(saving, index=feature).transpose(), ignore_index=True)\n",
      "/var/folders/dn/j0_7h7gx2sq58_nt9816ss480000gn/T/ipykernel_6547/4250457866.py:74: FutureWarning: The frame.append method is deprecated and will be removed from pandas in a future version. Use pandas.concat instead.\n",
      "  feature_pd = feature_pd.append(pd.DataFrame(saving, index=feature).transpose(), ignore_index=True)\n"
     ]
    },
    {
     "name": "stdout",
     "output_type": "stream",
     "text": [
      "990\n",
      "991\n"
     ]
    },
    {
     "name": "stderr",
     "output_type": "stream",
     "text": [
      "/var/folders/dn/j0_7h7gx2sq58_nt9816ss480000gn/T/ipykernel_6547/4250457866.py:74: FutureWarning: The frame.append method is deprecated and will be removed from pandas in a future version. Use pandas.concat instead.\n",
      "  feature_pd = feature_pd.append(pd.DataFrame(saving, index=feature).transpose(), ignore_index=True)\n",
      "/var/folders/dn/j0_7h7gx2sq58_nt9816ss480000gn/T/ipykernel_6547/4250457866.py:74: FutureWarning: The frame.append method is deprecated and will be removed from pandas in a future version. Use pandas.concat instead.\n",
      "  feature_pd = feature_pd.append(pd.DataFrame(saving, index=feature).transpose(), ignore_index=True)\n"
     ]
    },
    {
     "name": "stdout",
     "output_type": "stream",
     "text": [
      "992\n",
      "993\n"
     ]
    },
    {
     "name": "stderr",
     "output_type": "stream",
     "text": [
      "/var/folders/dn/j0_7h7gx2sq58_nt9816ss480000gn/T/ipykernel_6547/4250457866.py:74: FutureWarning: The frame.append method is deprecated and will be removed from pandas in a future version. Use pandas.concat instead.\n",
      "  feature_pd = feature_pd.append(pd.DataFrame(saving, index=feature).transpose(), ignore_index=True)\n",
      "/var/folders/dn/j0_7h7gx2sq58_nt9816ss480000gn/T/ipykernel_6547/4250457866.py:74: FutureWarning: The frame.append method is deprecated and will be removed from pandas in a future version. Use pandas.concat instead.\n",
      "  feature_pd = feature_pd.append(pd.DataFrame(saving, index=feature).transpose(), ignore_index=True)\n"
     ]
    },
    {
     "name": "stdout",
     "output_type": "stream",
     "text": [
      "994\n",
      "995\n",
      "996\n",
      "997\n"
     ]
    },
    {
     "name": "stderr",
     "output_type": "stream",
     "text": [
      "/var/folders/dn/j0_7h7gx2sq58_nt9816ss480000gn/T/ipykernel_6547/4250457866.py:74: FutureWarning: The frame.append method is deprecated and will be removed from pandas in a future version. Use pandas.concat instead.\n",
      "  feature_pd = feature_pd.append(pd.DataFrame(saving, index=feature).transpose(), ignore_index=True)\n",
      "/var/folders/dn/j0_7h7gx2sq58_nt9816ss480000gn/T/ipykernel_6547/4250457866.py:74: FutureWarning: The frame.append method is deprecated and will be removed from pandas in a future version. Use pandas.concat instead.\n",
      "  feature_pd = feature_pd.append(pd.DataFrame(saving, index=feature).transpose(), ignore_index=True)\n",
      "/var/folders/dn/j0_7h7gx2sq58_nt9816ss480000gn/T/ipykernel_6547/4250457866.py:74: FutureWarning: The frame.append method is deprecated and will be removed from pandas in a future version. Use pandas.concat instead.\n",
      "  feature_pd = feature_pd.append(pd.DataFrame(saving, index=feature).transpose(), ignore_index=True)\n",
      "/var/folders/dn/j0_7h7gx2sq58_nt9816ss480000gn/T/ipykernel_6547/4250457866.py:74: FutureWarning: The frame.append method is deprecated and will be removed from pandas in a future version. Use pandas.concat instead.\n",
      "  feature_pd = feature_pd.append(pd.DataFrame(saving, index=feature).transpose(), ignore_index=True)\n"
     ]
    },
    {
     "name": "stdout",
     "output_type": "stream",
     "text": [
      "998\n",
      "999\n",
      "1000\n",
      "1001\n"
     ]
    },
    {
     "name": "stderr",
     "output_type": "stream",
     "text": [
      "/var/folders/dn/j0_7h7gx2sq58_nt9816ss480000gn/T/ipykernel_6547/4250457866.py:74: FutureWarning: The frame.append method is deprecated and will be removed from pandas in a future version. Use pandas.concat instead.\n",
      "  feature_pd = feature_pd.append(pd.DataFrame(saving, index=feature).transpose(), ignore_index=True)\n",
      "/var/folders/dn/j0_7h7gx2sq58_nt9816ss480000gn/T/ipykernel_6547/4250457866.py:74: FutureWarning: The frame.append method is deprecated and will be removed from pandas in a future version. Use pandas.concat instead.\n",
      "  feature_pd = feature_pd.append(pd.DataFrame(saving, index=feature).transpose(), ignore_index=True)\n",
      "/var/folders/dn/j0_7h7gx2sq58_nt9816ss480000gn/T/ipykernel_6547/4250457866.py:74: FutureWarning: The frame.append method is deprecated and will be removed from pandas in a future version. Use pandas.concat instead.\n",
      "  feature_pd = feature_pd.append(pd.DataFrame(saving, index=feature).transpose(), ignore_index=True)\n",
      "/var/folders/dn/j0_7h7gx2sq58_nt9816ss480000gn/T/ipykernel_6547/4250457866.py:74: FutureWarning: The frame.append method is deprecated and will be removed from pandas in a future version. Use pandas.concat instead.\n",
      "  feature_pd = feature_pd.append(pd.DataFrame(saving, index=feature).transpose(), ignore_index=True)\n"
     ]
    },
    {
     "name": "stdout",
     "output_type": "stream",
     "text": [
      "1002\n",
      "1003\n",
      "1004\n"
     ]
    },
    {
     "name": "stderr",
     "output_type": "stream",
     "text": [
      "/var/folders/dn/j0_7h7gx2sq58_nt9816ss480000gn/T/ipykernel_6547/4250457866.py:74: FutureWarning: The frame.append method is deprecated and will be removed from pandas in a future version. Use pandas.concat instead.\n",
      "  feature_pd = feature_pd.append(pd.DataFrame(saving, index=feature).transpose(), ignore_index=True)\n",
      "/var/folders/dn/j0_7h7gx2sq58_nt9816ss480000gn/T/ipykernel_6547/4250457866.py:74: FutureWarning: The frame.append method is deprecated and will be removed from pandas in a future version. Use pandas.concat instead.\n",
      "  feature_pd = feature_pd.append(pd.DataFrame(saving, index=feature).transpose(), ignore_index=True)\n",
      "/var/folders/dn/j0_7h7gx2sq58_nt9816ss480000gn/T/ipykernel_6547/4250457866.py:74: FutureWarning: The frame.append method is deprecated and will be removed from pandas in a future version. Use pandas.concat instead.\n",
      "  feature_pd = feature_pd.append(pd.DataFrame(saving, index=feature).transpose(), ignore_index=True)\n"
     ]
    },
    {
     "name": "stdout",
     "output_type": "stream",
     "text": [
      "1005\n",
      "1006\n",
      "1007\n"
     ]
    },
    {
     "name": "stderr",
     "output_type": "stream",
     "text": [
      "/var/folders/dn/j0_7h7gx2sq58_nt9816ss480000gn/T/ipykernel_6547/4250457866.py:74: FutureWarning: The frame.append method is deprecated and will be removed from pandas in a future version. Use pandas.concat instead.\n",
      "  feature_pd = feature_pd.append(pd.DataFrame(saving, index=feature).transpose(), ignore_index=True)\n",
      "/var/folders/dn/j0_7h7gx2sq58_nt9816ss480000gn/T/ipykernel_6547/4250457866.py:74: FutureWarning: The frame.append method is deprecated and will be removed from pandas in a future version. Use pandas.concat instead.\n",
      "  feature_pd = feature_pd.append(pd.DataFrame(saving, index=feature).transpose(), ignore_index=True)\n",
      "/var/folders/dn/j0_7h7gx2sq58_nt9816ss480000gn/T/ipykernel_6547/4250457866.py:74: FutureWarning: The frame.append method is deprecated and will be removed from pandas in a future version. Use pandas.concat instead.\n",
      "  feature_pd = feature_pd.append(pd.DataFrame(saving, index=feature).transpose(), ignore_index=True)\n"
     ]
    },
    {
     "name": "stdout",
     "output_type": "stream",
     "text": [
      "1008\n",
      "1009\n",
      "1010\n"
     ]
    },
    {
     "name": "stderr",
     "output_type": "stream",
     "text": [
      "/var/folders/dn/j0_7h7gx2sq58_nt9816ss480000gn/T/ipykernel_6547/4250457866.py:74: FutureWarning: The frame.append method is deprecated and will be removed from pandas in a future version. Use pandas.concat instead.\n",
      "  feature_pd = feature_pd.append(pd.DataFrame(saving, index=feature).transpose(), ignore_index=True)\n",
      "/var/folders/dn/j0_7h7gx2sq58_nt9816ss480000gn/T/ipykernel_6547/4250457866.py:74: FutureWarning: The frame.append method is deprecated and will be removed from pandas in a future version. Use pandas.concat instead.\n",
      "  feature_pd = feature_pd.append(pd.DataFrame(saving, index=feature).transpose(), ignore_index=True)\n",
      "/var/folders/dn/j0_7h7gx2sq58_nt9816ss480000gn/T/ipykernel_6547/4250457866.py:74: FutureWarning: The frame.append method is deprecated and will be removed from pandas in a future version. Use pandas.concat instead.\n",
      "  feature_pd = feature_pd.append(pd.DataFrame(saving, index=feature).transpose(), ignore_index=True)\n"
     ]
    },
    {
     "name": "stdout",
     "output_type": "stream",
     "text": [
      "1011\n",
      "1012\n",
      "1013\n"
     ]
    },
    {
     "name": "stderr",
     "output_type": "stream",
     "text": [
      "/var/folders/dn/j0_7h7gx2sq58_nt9816ss480000gn/T/ipykernel_6547/4250457866.py:74: FutureWarning: The frame.append method is deprecated and will be removed from pandas in a future version. Use pandas.concat instead.\n",
      "  feature_pd = feature_pd.append(pd.DataFrame(saving, index=feature).transpose(), ignore_index=True)\n",
      "/var/folders/dn/j0_7h7gx2sq58_nt9816ss480000gn/T/ipykernel_6547/4250457866.py:74: FutureWarning: The frame.append method is deprecated and will be removed from pandas in a future version. Use pandas.concat instead.\n",
      "  feature_pd = feature_pd.append(pd.DataFrame(saving, index=feature).transpose(), ignore_index=True)\n",
      "/var/folders/dn/j0_7h7gx2sq58_nt9816ss480000gn/T/ipykernel_6547/4250457866.py:74: FutureWarning: The frame.append method is deprecated and will be removed from pandas in a future version. Use pandas.concat instead.\n",
      "  feature_pd = feature_pd.append(pd.DataFrame(saving, index=feature).transpose(), ignore_index=True)\n"
     ]
    },
    {
     "name": "stdout",
     "output_type": "stream",
     "text": [
      "1014\n",
      "1015\n",
      "1016\n",
      "1017\n"
     ]
    },
    {
     "name": "stderr",
     "output_type": "stream",
     "text": [
      "/var/folders/dn/j0_7h7gx2sq58_nt9816ss480000gn/T/ipykernel_6547/4250457866.py:74: FutureWarning: The frame.append method is deprecated and will be removed from pandas in a future version. Use pandas.concat instead.\n",
      "  feature_pd = feature_pd.append(pd.DataFrame(saving, index=feature).transpose(), ignore_index=True)\n",
      "/var/folders/dn/j0_7h7gx2sq58_nt9816ss480000gn/T/ipykernel_6547/4250457866.py:74: FutureWarning: The frame.append method is deprecated and will be removed from pandas in a future version. Use pandas.concat instead.\n",
      "  feature_pd = feature_pd.append(pd.DataFrame(saving, index=feature).transpose(), ignore_index=True)\n",
      "/var/folders/dn/j0_7h7gx2sq58_nt9816ss480000gn/T/ipykernel_6547/4250457866.py:74: FutureWarning: The frame.append method is deprecated and will be removed from pandas in a future version. Use pandas.concat instead.\n",
      "  feature_pd = feature_pd.append(pd.DataFrame(saving, index=feature).transpose(), ignore_index=True)\n",
      "/var/folders/dn/j0_7h7gx2sq58_nt9816ss480000gn/T/ipykernel_6547/4250457866.py:74: FutureWarning: The frame.append method is deprecated and will be removed from pandas in a future version. Use pandas.concat instead.\n",
      "  feature_pd = feature_pd.append(pd.DataFrame(saving, index=feature).transpose(), ignore_index=True)\n"
     ]
    },
    {
     "name": "stdout",
     "output_type": "stream",
     "text": [
      "1018\n",
      "1019\n",
      "1020\n",
      "1021\n"
     ]
    },
    {
     "name": "stderr",
     "output_type": "stream",
     "text": [
      "/var/folders/dn/j0_7h7gx2sq58_nt9816ss480000gn/T/ipykernel_6547/4250457866.py:74: FutureWarning: The frame.append method is deprecated and will be removed from pandas in a future version. Use pandas.concat instead.\n",
      "  feature_pd = feature_pd.append(pd.DataFrame(saving, index=feature).transpose(), ignore_index=True)\n",
      "/var/folders/dn/j0_7h7gx2sq58_nt9816ss480000gn/T/ipykernel_6547/4250457866.py:74: FutureWarning: The frame.append method is deprecated and will be removed from pandas in a future version. Use pandas.concat instead.\n",
      "  feature_pd = feature_pd.append(pd.DataFrame(saving, index=feature).transpose(), ignore_index=True)\n",
      "/var/folders/dn/j0_7h7gx2sq58_nt9816ss480000gn/T/ipykernel_6547/4250457866.py:74: FutureWarning: The frame.append method is deprecated and will be removed from pandas in a future version. Use pandas.concat instead.\n",
      "  feature_pd = feature_pd.append(pd.DataFrame(saving, index=feature).transpose(), ignore_index=True)\n",
      "/var/folders/dn/j0_7h7gx2sq58_nt9816ss480000gn/T/ipykernel_6547/4250457866.py:74: FutureWarning: The frame.append method is deprecated and will be removed from pandas in a future version. Use pandas.concat instead.\n",
      "  feature_pd = feature_pd.append(pd.DataFrame(saving, index=feature).transpose(), ignore_index=True)\n"
     ]
    },
    {
     "name": "stdout",
     "output_type": "stream",
     "text": [
      "1022\n",
      "1023\n",
      "1024\n"
     ]
    },
    {
     "name": "stderr",
     "output_type": "stream",
     "text": [
      "/var/folders/dn/j0_7h7gx2sq58_nt9816ss480000gn/T/ipykernel_6547/4250457866.py:74: FutureWarning: The frame.append method is deprecated and will be removed from pandas in a future version. Use pandas.concat instead.\n",
      "  feature_pd = feature_pd.append(pd.DataFrame(saving, index=feature).transpose(), ignore_index=True)\n",
      "/var/folders/dn/j0_7h7gx2sq58_nt9816ss480000gn/T/ipykernel_6547/4250457866.py:74: FutureWarning: The frame.append method is deprecated and will be removed from pandas in a future version. Use pandas.concat instead.\n",
      "  feature_pd = feature_pd.append(pd.DataFrame(saving, index=feature).transpose(), ignore_index=True)\n",
      "/var/folders/dn/j0_7h7gx2sq58_nt9816ss480000gn/T/ipykernel_6547/4250457866.py:74: FutureWarning: The frame.append method is deprecated and will be removed from pandas in a future version. Use pandas.concat instead.\n",
      "  feature_pd = feature_pd.append(pd.DataFrame(saving, index=feature).transpose(), ignore_index=True)\n"
     ]
    },
    {
     "name": "stdout",
     "output_type": "stream",
     "text": [
      "1025\n",
      "1026\n",
      "1027\n",
      "1028\n"
     ]
    },
    {
     "name": "stderr",
     "output_type": "stream",
     "text": [
      "/var/folders/dn/j0_7h7gx2sq58_nt9816ss480000gn/T/ipykernel_6547/4250457866.py:74: FutureWarning: The frame.append method is deprecated and will be removed from pandas in a future version. Use pandas.concat instead.\n",
      "  feature_pd = feature_pd.append(pd.DataFrame(saving, index=feature).transpose(), ignore_index=True)\n",
      "/var/folders/dn/j0_7h7gx2sq58_nt9816ss480000gn/T/ipykernel_6547/4250457866.py:74: FutureWarning: The frame.append method is deprecated and will be removed from pandas in a future version. Use pandas.concat instead.\n",
      "  feature_pd = feature_pd.append(pd.DataFrame(saving, index=feature).transpose(), ignore_index=True)\n",
      "/var/folders/dn/j0_7h7gx2sq58_nt9816ss480000gn/T/ipykernel_6547/4250457866.py:74: FutureWarning: The frame.append method is deprecated and will be removed from pandas in a future version. Use pandas.concat instead.\n",
      "  feature_pd = feature_pd.append(pd.DataFrame(saving, index=feature).transpose(), ignore_index=True)\n",
      "/var/folders/dn/j0_7h7gx2sq58_nt9816ss480000gn/T/ipykernel_6547/4250457866.py:74: FutureWarning: The frame.append method is deprecated and will be removed from pandas in a future version. Use pandas.concat instead.\n",
      "  feature_pd = feature_pd.append(pd.DataFrame(saving, index=feature).transpose(), ignore_index=True)\n"
     ]
    },
    {
     "name": "stdout",
     "output_type": "stream",
     "text": [
      "1029\n",
      "1030\n",
      "1031\n",
      "1032\n"
     ]
    },
    {
     "name": "stderr",
     "output_type": "stream",
     "text": [
      "/var/folders/dn/j0_7h7gx2sq58_nt9816ss480000gn/T/ipykernel_6547/4250457866.py:74: FutureWarning: The frame.append method is deprecated and will be removed from pandas in a future version. Use pandas.concat instead.\n",
      "  feature_pd = feature_pd.append(pd.DataFrame(saving, index=feature).transpose(), ignore_index=True)\n",
      "/var/folders/dn/j0_7h7gx2sq58_nt9816ss480000gn/T/ipykernel_6547/4250457866.py:74: FutureWarning: The frame.append method is deprecated and will be removed from pandas in a future version. Use pandas.concat instead.\n",
      "  feature_pd = feature_pd.append(pd.DataFrame(saving, index=feature).transpose(), ignore_index=True)\n",
      "/var/folders/dn/j0_7h7gx2sq58_nt9816ss480000gn/T/ipykernel_6547/4250457866.py:74: FutureWarning: The frame.append method is deprecated and will be removed from pandas in a future version. Use pandas.concat instead.\n",
      "  feature_pd = feature_pd.append(pd.DataFrame(saving, index=feature).transpose(), ignore_index=True)\n",
      "/var/folders/dn/j0_7h7gx2sq58_nt9816ss480000gn/T/ipykernel_6547/4250457866.py:74: FutureWarning: The frame.append method is deprecated and will be removed from pandas in a future version. Use pandas.concat instead.\n",
      "  feature_pd = feature_pd.append(pd.DataFrame(saving, index=feature).transpose(), ignore_index=True)\n"
     ]
    },
    {
     "name": "stdout",
     "output_type": "stream",
     "text": [
      "1033\n",
      "1034\n",
      "1035\n"
     ]
    },
    {
     "name": "stderr",
     "output_type": "stream",
     "text": [
      "/var/folders/dn/j0_7h7gx2sq58_nt9816ss480000gn/T/ipykernel_6547/4250457866.py:74: FutureWarning: The frame.append method is deprecated and will be removed from pandas in a future version. Use pandas.concat instead.\n",
      "  feature_pd = feature_pd.append(pd.DataFrame(saving, index=feature).transpose(), ignore_index=True)\n",
      "/var/folders/dn/j0_7h7gx2sq58_nt9816ss480000gn/T/ipykernel_6547/4250457866.py:74: FutureWarning: The frame.append method is deprecated and will be removed from pandas in a future version. Use pandas.concat instead.\n",
      "  feature_pd = feature_pd.append(pd.DataFrame(saving, index=feature).transpose(), ignore_index=True)\n",
      "/var/folders/dn/j0_7h7gx2sq58_nt9816ss480000gn/T/ipykernel_6547/4250457866.py:74: FutureWarning: The frame.append method is deprecated and will be removed from pandas in a future version. Use pandas.concat instead.\n",
      "  feature_pd = feature_pd.append(pd.DataFrame(saving, index=feature).transpose(), ignore_index=True)\n"
     ]
    },
    {
     "name": "stdout",
     "output_type": "stream",
     "text": [
      "1036\n",
      "1037\n",
      "1038\n"
     ]
    },
    {
     "name": "stderr",
     "output_type": "stream",
     "text": [
      "/var/folders/dn/j0_7h7gx2sq58_nt9816ss480000gn/T/ipykernel_6547/4250457866.py:74: FutureWarning: The frame.append method is deprecated and will be removed from pandas in a future version. Use pandas.concat instead.\n",
      "  feature_pd = feature_pd.append(pd.DataFrame(saving, index=feature).transpose(), ignore_index=True)\n",
      "/var/folders/dn/j0_7h7gx2sq58_nt9816ss480000gn/T/ipykernel_6547/4250457866.py:74: FutureWarning: The frame.append method is deprecated and will be removed from pandas in a future version. Use pandas.concat instead.\n",
      "  feature_pd = feature_pd.append(pd.DataFrame(saving, index=feature).transpose(), ignore_index=True)\n",
      "/var/folders/dn/j0_7h7gx2sq58_nt9816ss480000gn/T/ipykernel_6547/4250457866.py:74: FutureWarning: The frame.append method is deprecated and will be removed from pandas in a future version. Use pandas.concat instead.\n",
      "  feature_pd = feature_pd.append(pd.DataFrame(saving, index=feature).transpose(), ignore_index=True)\n"
     ]
    },
    {
     "name": "stdout",
     "output_type": "stream",
     "text": [
      "1039\n",
      "1040\n",
      "1041\n",
      "1042\n"
     ]
    },
    {
     "name": "stderr",
     "output_type": "stream",
     "text": [
      "/var/folders/dn/j0_7h7gx2sq58_nt9816ss480000gn/T/ipykernel_6547/4250457866.py:74: FutureWarning: The frame.append method is deprecated and will be removed from pandas in a future version. Use pandas.concat instead.\n",
      "  feature_pd = feature_pd.append(pd.DataFrame(saving, index=feature).transpose(), ignore_index=True)\n",
      "/var/folders/dn/j0_7h7gx2sq58_nt9816ss480000gn/T/ipykernel_6547/4250457866.py:74: FutureWarning: The frame.append method is deprecated and will be removed from pandas in a future version. Use pandas.concat instead.\n",
      "  feature_pd = feature_pd.append(pd.DataFrame(saving, index=feature).transpose(), ignore_index=True)\n",
      "/var/folders/dn/j0_7h7gx2sq58_nt9816ss480000gn/T/ipykernel_6547/4250457866.py:74: FutureWarning: The frame.append method is deprecated and will be removed from pandas in a future version. Use pandas.concat instead.\n",
      "  feature_pd = feature_pd.append(pd.DataFrame(saving, index=feature).transpose(), ignore_index=True)\n",
      "/var/folders/dn/j0_7h7gx2sq58_nt9816ss480000gn/T/ipykernel_6547/4250457866.py:74: FutureWarning: The frame.append method is deprecated and will be removed from pandas in a future version. Use pandas.concat instead.\n",
      "  feature_pd = feature_pd.append(pd.DataFrame(saving, index=feature).transpose(), ignore_index=True)\n"
     ]
    },
    {
     "name": "stdout",
     "output_type": "stream",
     "text": [
      "1043\n",
      "1044\n"
     ]
    },
    {
     "name": "stderr",
     "output_type": "stream",
     "text": [
      "/var/folders/dn/j0_7h7gx2sq58_nt9816ss480000gn/T/ipykernel_6547/4250457866.py:74: FutureWarning: The frame.append method is deprecated and will be removed from pandas in a future version. Use pandas.concat instead.\n",
      "  feature_pd = feature_pd.append(pd.DataFrame(saving, index=feature).transpose(), ignore_index=True)\n",
      "/var/folders/dn/j0_7h7gx2sq58_nt9816ss480000gn/T/ipykernel_6547/4250457866.py:74: FutureWarning: The frame.append method is deprecated and will be removed from pandas in a future version. Use pandas.concat instead.\n",
      "  feature_pd = feature_pd.append(pd.DataFrame(saving, index=feature).transpose(), ignore_index=True)\n"
     ]
    },
    {
     "name": "stdout",
     "output_type": "stream",
     "text": [
      "1045\n"
     ]
    },
    {
     "name": "stderr",
     "output_type": "stream",
     "text": [
      "/var/folders/dn/j0_7h7gx2sq58_nt9816ss480000gn/T/ipykernel_6547/4250457866.py:74: FutureWarning: The frame.append method is deprecated and will be removed from pandas in a future version. Use pandas.concat instead.\n",
      "  feature_pd = feature_pd.append(pd.DataFrame(saving, index=feature).transpose(), ignore_index=True)\n"
     ]
    },
    {
     "name": "stdout",
     "output_type": "stream",
     "text": [
      "1046\n"
     ]
    },
    {
     "name": "stderr",
     "output_type": "stream",
     "text": [
      "/var/folders/dn/j0_7h7gx2sq58_nt9816ss480000gn/T/ipykernel_6547/4250457866.py:74: FutureWarning: The frame.append method is deprecated and will be removed from pandas in a future version. Use pandas.concat instead.\n",
      "  feature_pd = feature_pd.append(pd.DataFrame(saving, index=feature).transpose(), ignore_index=True)\n"
     ]
    },
    {
     "name": "stdout",
     "output_type": "stream",
     "text": [
      "1047\n",
      "1048\n",
      "1049\n",
      "1050\n"
     ]
    },
    {
     "name": "stderr",
     "output_type": "stream",
     "text": [
      "/var/folders/dn/j0_7h7gx2sq58_nt9816ss480000gn/T/ipykernel_6547/4250457866.py:74: FutureWarning: The frame.append method is deprecated and will be removed from pandas in a future version. Use pandas.concat instead.\n",
      "  feature_pd = feature_pd.append(pd.DataFrame(saving, index=feature).transpose(), ignore_index=True)\n",
      "/var/folders/dn/j0_7h7gx2sq58_nt9816ss480000gn/T/ipykernel_6547/4250457866.py:74: FutureWarning: The frame.append method is deprecated and will be removed from pandas in a future version. Use pandas.concat instead.\n",
      "  feature_pd = feature_pd.append(pd.DataFrame(saving, index=feature).transpose(), ignore_index=True)\n",
      "/var/folders/dn/j0_7h7gx2sq58_nt9816ss480000gn/T/ipykernel_6547/4250457866.py:74: FutureWarning: The frame.append method is deprecated and will be removed from pandas in a future version. Use pandas.concat instead.\n",
      "  feature_pd = feature_pd.append(pd.DataFrame(saving, index=feature).transpose(), ignore_index=True)\n",
      "/var/folders/dn/j0_7h7gx2sq58_nt9816ss480000gn/T/ipykernel_6547/4250457866.py:74: FutureWarning: The frame.append method is deprecated and will be removed from pandas in a future version. Use pandas.concat instead.\n",
      "  feature_pd = feature_pd.append(pd.DataFrame(saving, index=feature).transpose(), ignore_index=True)\n"
     ]
    },
    {
     "name": "stdout",
     "output_type": "stream",
     "text": [
      "1051\n",
      "1052\n",
      "1053\n"
     ]
    },
    {
     "name": "stderr",
     "output_type": "stream",
     "text": [
      "/var/folders/dn/j0_7h7gx2sq58_nt9816ss480000gn/T/ipykernel_6547/4250457866.py:74: FutureWarning: The frame.append method is deprecated and will be removed from pandas in a future version. Use pandas.concat instead.\n",
      "  feature_pd = feature_pd.append(pd.DataFrame(saving, index=feature).transpose(), ignore_index=True)\n",
      "/var/folders/dn/j0_7h7gx2sq58_nt9816ss480000gn/T/ipykernel_6547/4250457866.py:74: FutureWarning: The frame.append method is deprecated and will be removed from pandas in a future version. Use pandas.concat instead.\n",
      "  feature_pd = feature_pd.append(pd.DataFrame(saving, index=feature).transpose(), ignore_index=True)\n",
      "/var/folders/dn/j0_7h7gx2sq58_nt9816ss480000gn/T/ipykernel_6547/4250457866.py:74: FutureWarning: The frame.append method is deprecated and will be removed from pandas in a future version. Use pandas.concat instead.\n",
      "  feature_pd = feature_pd.append(pd.DataFrame(saving, index=feature).transpose(), ignore_index=True)\n"
     ]
    },
    {
     "name": "stdout",
     "output_type": "stream",
     "text": [
      "1054\n",
      "1055\n",
      "1056\n"
     ]
    },
    {
     "name": "stderr",
     "output_type": "stream",
     "text": [
      "/var/folders/dn/j0_7h7gx2sq58_nt9816ss480000gn/T/ipykernel_6547/4250457866.py:74: FutureWarning: The frame.append method is deprecated and will be removed from pandas in a future version. Use pandas.concat instead.\n",
      "  feature_pd = feature_pd.append(pd.DataFrame(saving, index=feature).transpose(), ignore_index=True)\n",
      "/var/folders/dn/j0_7h7gx2sq58_nt9816ss480000gn/T/ipykernel_6547/4250457866.py:74: FutureWarning: The frame.append method is deprecated and will be removed from pandas in a future version. Use pandas.concat instead.\n",
      "  feature_pd = feature_pd.append(pd.DataFrame(saving, index=feature).transpose(), ignore_index=True)\n",
      "/var/folders/dn/j0_7h7gx2sq58_nt9816ss480000gn/T/ipykernel_6547/4250457866.py:74: FutureWarning: The frame.append method is deprecated and will be removed from pandas in a future version. Use pandas.concat instead.\n",
      "  feature_pd = feature_pd.append(pd.DataFrame(saving, index=feature).transpose(), ignore_index=True)\n"
     ]
    },
    {
     "name": "stdout",
     "output_type": "stream",
     "text": [
      "1057\n",
      "1058\n",
      "1059\n",
      "1060\n"
     ]
    },
    {
     "name": "stderr",
     "output_type": "stream",
     "text": [
      "/var/folders/dn/j0_7h7gx2sq58_nt9816ss480000gn/T/ipykernel_6547/4250457866.py:74: FutureWarning: The frame.append method is deprecated and will be removed from pandas in a future version. Use pandas.concat instead.\n",
      "  feature_pd = feature_pd.append(pd.DataFrame(saving, index=feature).transpose(), ignore_index=True)\n",
      "/var/folders/dn/j0_7h7gx2sq58_nt9816ss480000gn/T/ipykernel_6547/4250457866.py:74: FutureWarning: The frame.append method is deprecated and will be removed from pandas in a future version. Use pandas.concat instead.\n",
      "  feature_pd = feature_pd.append(pd.DataFrame(saving, index=feature).transpose(), ignore_index=True)\n",
      "/var/folders/dn/j0_7h7gx2sq58_nt9816ss480000gn/T/ipykernel_6547/4250457866.py:74: FutureWarning: The frame.append method is deprecated and will be removed from pandas in a future version. Use pandas.concat instead.\n",
      "  feature_pd = feature_pd.append(pd.DataFrame(saving, index=feature).transpose(), ignore_index=True)\n",
      "/var/folders/dn/j0_7h7gx2sq58_nt9816ss480000gn/T/ipykernel_6547/4250457866.py:74: FutureWarning: The frame.append method is deprecated and will be removed from pandas in a future version. Use pandas.concat instead.\n",
      "  feature_pd = feature_pd.append(pd.DataFrame(saving, index=feature).transpose(), ignore_index=True)\n"
     ]
    },
    {
     "name": "stdout",
     "output_type": "stream",
     "text": [
      "1061\n",
      "1062\n",
      "1063\n",
      "1064\n"
     ]
    },
    {
     "name": "stderr",
     "output_type": "stream",
     "text": [
      "/var/folders/dn/j0_7h7gx2sq58_nt9816ss480000gn/T/ipykernel_6547/4250457866.py:74: FutureWarning: The frame.append method is deprecated and will be removed from pandas in a future version. Use pandas.concat instead.\n",
      "  feature_pd = feature_pd.append(pd.DataFrame(saving, index=feature).transpose(), ignore_index=True)\n",
      "/var/folders/dn/j0_7h7gx2sq58_nt9816ss480000gn/T/ipykernel_6547/4250457866.py:74: FutureWarning: The frame.append method is deprecated and will be removed from pandas in a future version. Use pandas.concat instead.\n",
      "  feature_pd = feature_pd.append(pd.DataFrame(saving, index=feature).transpose(), ignore_index=True)\n",
      "/var/folders/dn/j0_7h7gx2sq58_nt9816ss480000gn/T/ipykernel_6547/4250457866.py:74: FutureWarning: The frame.append method is deprecated and will be removed from pandas in a future version. Use pandas.concat instead.\n",
      "  feature_pd = feature_pd.append(pd.DataFrame(saving, index=feature).transpose(), ignore_index=True)\n",
      "/var/folders/dn/j0_7h7gx2sq58_nt9816ss480000gn/T/ipykernel_6547/4250457866.py:74: FutureWarning: The frame.append method is deprecated and will be removed from pandas in a future version. Use pandas.concat instead.\n",
      "  feature_pd = feature_pd.append(pd.DataFrame(saving, index=feature).transpose(), ignore_index=True)\n"
     ]
    },
    {
     "name": "stdout",
     "output_type": "stream",
     "text": [
      "1065\n",
      "1066\n",
      "1067\n",
      "1068\n"
     ]
    },
    {
     "name": "stderr",
     "output_type": "stream",
     "text": [
      "/var/folders/dn/j0_7h7gx2sq58_nt9816ss480000gn/T/ipykernel_6547/4250457866.py:74: FutureWarning: The frame.append method is deprecated and will be removed from pandas in a future version. Use pandas.concat instead.\n",
      "  feature_pd = feature_pd.append(pd.DataFrame(saving, index=feature).transpose(), ignore_index=True)\n",
      "/var/folders/dn/j0_7h7gx2sq58_nt9816ss480000gn/T/ipykernel_6547/4250457866.py:74: FutureWarning: The frame.append method is deprecated and will be removed from pandas in a future version. Use pandas.concat instead.\n",
      "  feature_pd = feature_pd.append(pd.DataFrame(saving, index=feature).transpose(), ignore_index=True)\n",
      "/var/folders/dn/j0_7h7gx2sq58_nt9816ss480000gn/T/ipykernel_6547/4250457866.py:74: FutureWarning: The frame.append method is deprecated and will be removed from pandas in a future version. Use pandas.concat instead.\n",
      "  feature_pd = feature_pd.append(pd.DataFrame(saving, index=feature).transpose(), ignore_index=True)\n",
      "/var/folders/dn/j0_7h7gx2sq58_nt9816ss480000gn/T/ipykernel_6547/4250457866.py:74: FutureWarning: The frame.append method is deprecated and will be removed from pandas in a future version. Use pandas.concat instead.\n",
      "  feature_pd = feature_pd.append(pd.DataFrame(saving, index=feature).transpose(), ignore_index=True)\n"
     ]
    },
    {
     "name": "stdout",
     "output_type": "stream",
     "text": [
      "1069\n",
      "1070\n",
      "1071\n"
     ]
    },
    {
     "name": "stderr",
     "output_type": "stream",
     "text": [
      "/var/folders/dn/j0_7h7gx2sq58_nt9816ss480000gn/T/ipykernel_6547/4250457866.py:74: FutureWarning: The frame.append method is deprecated and will be removed from pandas in a future version. Use pandas.concat instead.\n",
      "  feature_pd = feature_pd.append(pd.DataFrame(saving, index=feature).transpose(), ignore_index=True)\n",
      "/var/folders/dn/j0_7h7gx2sq58_nt9816ss480000gn/T/ipykernel_6547/4250457866.py:74: FutureWarning: The frame.append method is deprecated and will be removed from pandas in a future version. Use pandas.concat instead.\n",
      "  feature_pd = feature_pd.append(pd.DataFrame(saving, index=feature).transpose(), ignore_index=True)\n",
      "/var/folders/dn/j0_7h7gx2sq58_nt9816ss480000gn/T/ipykernel_6547/4250457866.py:74: FutureWarning: The frame.append method is deprecated and will be removed from pandas in a future version. Use pandas.concat instead.\n",
      "  feature_pd = feature_pd.append(pd.DataFrame(saving, index=feature).transpose(), ignore_index=True)\n"
     ]
    },
    {
     "name": "stdout",
     "output_type": "stream",
     "text": [
      "1072\n",
      "1073\n",
      "1074\n"
     ]
    },
    {
     "name": "stderr",
     "output_type": "stream",
     "text": [
      "/var/folders/dn/j0_7h7gx2sq58_nt9816ss480000gn/T/ipykernel_6547/4250457866.py:74: FutureWarning: The frame.append method is deprecated and will be removed from pandas in a future version. Use pandas.concat instead.\n",
      "  feature_pd = feature_pd.append(pd.DataFrame(saving, index=feature).transpose(), ignore_index=True)\n",
      "/var/folders/dn/j0_7h7gx2sq58_nt9816ss480000gn/T/ipykernel_6547/4250457866.py:74: FutureWarning: The frame.append method is deprecated and will be removed from pandas in a future version. Use pandas.concat instead.\n",
      "  feature_pd = feature_pd.append(pd.DataFrame(saving, index=feature).transpose(), ignore_index=True)\n",
      "/var/folders/dn/j0_7h7gx2sq58_nt9816ss480000gn/T/ipykernel_6547/4250457866.py:74: FutureWarning: The frame.append method is deprecated and will be removed from pandas in a future version. Use pandas.concat instead.\n",
      "  feature_pd = feature_pd.append(pd.DataFrame(saving, index=feature).transpose(), ignore_index=True)\n"
     ]
    },
    {
     "name": "stdout",
     "output_type": "stream",
     "text": [
      "1075\n",
      "1076\n",
      "1077\n"
     ]
    },
    {
     "name": "stderr",
     "output_type": "stream",
     "text": [
      "/var/folders/dn/j0_7h7gx2sq58_nt9816ss480000gn/T/ipykernel_6547/4250457866.py:74: FutureWarning: The frame.append method is deprecated and will be removed from pandas in a future version. Use pandas.concat instead.\n",
      "  feature_pd = feature_pd.append(pd.DataFrame(saving, index=feature).transpose(), ignore_index=True)\n",
      "/var/folders/dn/j0_7h7gx2sq58_nt9816ss480000gn/T/ipykernel_6547/4250457866.py:74: FutureWarning: The frame.append method is deprecated and will be removed from pandas in a future version. Use pandas.concat instead.\n",
      "  feature_pd = feature_pd.append(pd.DataFrame(saving, index=feature).transpose(), ignore_index=True)\n",
      "/var/folders/dn/j0_7h7gx2sq58_nt9816ss480000gn/T/ipykernel_6547/4250457866.py:74: FutureWarning: The frame.append method is deprecated and will be removed from pandas in a future version. Use pandas.concat instead.\n",
      "  feature_pd = feature_pd.append(pd.DataFrame(saving, index=feature).transpose(), ignore_index=True)\n"
     ]
    },
    {
     "name": "stdout",
     "output_type": "stream",
     "text": [
      "1078\n",
      "1079\n",
      "1080\n"
     ]
    },
    {
     "name": "stderr",
     "output_type": "stream",
     "text": [
      "/var/folders/dn/j0_7h7gx2sq58_nt9816ss480000gn/T/ipykernel_6547/4250457866.py:74: FutureWarning: The frame.append method is deprecated and will be removed from pandas in a future version. Use pandas.concat instead.\n",
      "  feature_pd = feature_pd.append(pd.DataFrame(saving, index=feature).transpose(), ignore_index=True)\n",
      "/var/folders/dn/j0_7h7gx2sq58_nt9816ss480000gn/T/ipykernel_6547/4250457866.py:74: FutureWarning: The frame.append method is deprecated and will be removed from pandas in a future version. Use pandas.concat instead.\n",
      "  feature_pd = feature_pd.append(pd.DataFrame(saving, index=feature).transpose(), ignore_index=True)\n",
      "/var/folders/dn/j0_7h7gx2sq58_nt9816ss480000gn/T/ipykernel_6547/4250457866.py:74: FutureWarning: The frame.append method is deprecated and will be removed from pandas in a future version. Use pandas.concat instead.\n",
      "  feature_pd = feature_pd.append(pd.DataFrame(saving, index=feature).transpose(), ignore_index=True)\n"
     ]
    },
    {
     "name": "stdout",
     "output_type": "stream",
     "text": [
      "1081\n",
      "1082\n",
      "1083\n"
     ]
    },
    {
     "name": "stderr",
     "output_type": "stream",
     "text": [
      "/var/folders/dn/j0_7h7gx2sq58_nt9816ss480000gn/T/ipykernel_6547/4250457866.py:74: FutureWarning: The frame.append method is deprecated and will be removed from pandas in a future version. Use pandas.concat instead.\n",
      "  feature_pd = feature_pd.append(pd.DataFrame(saving, index=feature).transpose(), ignore_index=True)\n",
      "/var/folders/dn/j0_7h7gx2sq58_nt9816ss480000gn/T/ipykernel_6547/4250457866.py:74: FutureWarning: The frame.append method is deprecated and will be removed from pandas in a future version. Use pandas.concat instead.\n",
      "  feature_pd = feature_pd.append(pd.DataFrame(saving, index=feature).transpose(), ignore_index=True)\n",
      "/var/folders/dn/j0_7h7gx2sq58_nt9816ss480000gn/T/ipykernel_6547/4250457866.py:74: FutureWarning: The frame.append method is deprecated and will be removed from pandas in a future version. Use pandas.concat instead.\n",
      "  feature_pd = feature_pd.append(pd.DataFrame(saving, index=feature).transpose(), ignore_index=True)\n"
     ]
    },
    {
     "name": "stdout",
     "output_type": "stream",
     "text": [
      "1084\n",
      "1085\n",
      "1086\n"
     ]
    },
    {
     "name": "stderr",
     "output_type": "stream",
     "text": [
      "/var/folders/dn/j0_7h7gx2sq58_nt9816ss480000gn/T/ipykernel_6547/4250457866.py:74: FutureWarning: The frame.append method is deprecated and will be removed from pandas in a future version. Use pandas.concat instead.\n",
      "  feature_pd = feature_pd.append(pd.DataFrame(saving, index=feature).transpose(), ignore_index=True)\n",
      "/var/folders/dn/j0_7h7gx2sq58_nt9816ss480000gn/T/ipykernel_6547/4250457866.py:74: FutureWarning: The frame.append method is deprecated and will be removed from pandas in a future version. Use pandas.concat instead.\n",
      "  feature_pd = feature_pd.append(pd.DataFrame(saving, index=feature).transpose(), ignore_index=True)\n",
      "/var/folders/dn/j0_7h7gx2sq58_nt9816ss480000gn/T/ipykernel_6547/4250457866.py:74: FutureWarning: The frame.append method is deprecated and will be removed from pandas in a future version. Use pandas.concat instead.\n",
      "  feature_pd = feature_pd.append(pd.DataFrame(saving, index=feature).transpose(), ignore_index=True)\n"
     ]
    },
    {
     "name": "stdout",
     "output_type": "stream",
     "text": [
      "1087\n",
      "1088\n",
      "1089\n"
     ]
    },
    {
     "name": "stderr",
     "output_type": "stream",
     "text": [
      "/var/folders/dn/j0_7h7gx2sq58_nt9816ss480000gn/T/ipykernel_6547/4250457866.py:74: FutureWarning: The frame.append method is deprecated and will be removed from pandas in a future version. Use pandas.concat instead.\n",
      "  feature_pd = feature_pd.append(pd.DataFrame(saving, index=feature).transpose(), ignore_index=True)\n",
      "/var/folders/dn/j0_7h7gx2sq58_nt9816ss480000gn/T/ipykernel_6547/4250457866.py:74: FutureWarning: The frame.append method is deprecated and will be removed from pandas in a future version. Use pandas.concat instead.\n",
      "  feature_pd = feature_pd.append(pd.DataFrame(saving, index=feature).transpose(), ignore_index=True)\n",
      "/var/folders/dn/j0_7h7gx2sq58_nt9816ss480000gn/T/ipykernel_6547/4250457866.py:74: FutureWarning: The frame.append method is deprecated and will be removed from pandas in a future version. Use pandas.concat instead.\n",
      "  feature_pd = feature_pd.append(pd.DataFrame(saving, index=feature).transpose(), ignore_index=True)\n"
     ]
    },
    {
     "name": "stdout",
     "output_type": "stream",
     "text": [
      "1090\n",
      "1091\n",
      "1092\n",
      "1093\n"
     ]
    },
    {
     "name": "stderr",
     "output_type": "stream",
     "text": [
      "/var/folders/dn/j0_7h7gx2sq58_nt9816ss480000gn/T/ipykernel_6547/4250457866.py:74: FutureWarning: The frame.append method is deprecated and will be removed from pandas in a future version. Use pandas.concat instead.\n",
      "  feature_pd = feature_pd.append(pd.DataFrame(saving, index=feature).transpose(), ignore_index=True)\n",
      "/var/folders/dn/j0_7h7gx2sq58_nt9816ss480000gn/T/ipykernel_6547/4250457866.py:74: FutureWarning: The frame.append method is deprecated and will be removed from pandas in a future version. Use pandas.concat instead.\n",
      "  feature_pd = feature_pd.append(pd.DataFrame(saving, index=feature).transpose(), ignore_index=True)\n",
      "/var/folders/dn/j0_7h7gx2sq58_nt9816ss480000gn/T/ipykernel_6547/4250457866.py:74: FutureWarning: The frame.append method is deprecated and will be removed from pandas in a future version. Use pandas.concat instead.\n",
      "  feature_pd = feature_pd.append(pd.DataFrame(saving, index=feature).transpose(), ignore_index=True)\n",
      "/var/folders/dn/j0_7h7gx2sq58_nt9816ss480000gn/T/ipykernel_6547/4250457866.py:74: FutureWarning: The frame.append method is deprecated and will be removed from pandas in a future version. Use pandas.concat instead.\n",
      "  feature_pd = feature_pd.append(pd.DataFrame(saving, index=feature).transpose(), ignore_index=True)\n"
     ]
    },
    {
     "name": "stdout",
     "output_type": "stream",
     "text": [
      "1094\n",
      "1095\n",
      "1096\n",
      "1097\n"
     ]
    },
    {
     "name": "stderr",
     "output_type": "stream",
     "text": [
      "/var/folders/dn/j0_7h7gx2sq58_nt9816ss480000gn/T/ipykernel_6547/4250457866.py:74: FutureWarning: The frame.append method is deprecated and will be removed from pandas in a future version. Use pandas.concat instead.\n",
      "  feature_pd = feature_pd.append(pd.DataFrame(saving, index=feature).transpose(), ignore_index=True)\n",
      "/var/folders/dn/j0_7h7gx2sq58_nt9816ss480000gn/T/ipykernel_6547/4250457866.py:74: FutureWarning: The frame.append method is deprecated and will be removed from pandas in a future version. Use pandas.concat instead.\n",
      "  feature_pd = feature_pd.append(pd.DataFrame(saving, index=feature).transpose(), ignore_index=True)\n",
      "/var/folders/dn/j0_7h7gx2sq58_nt9816ss480000gn/T/ipykernel_6547/4250457866.py:74: FutureWarning: The frame.append method is deprecated and will be removed from pandas in a future version. Use pandas.concat instead.\n",
      "  feature_pd = feature_pd.append(pd.DataFrame(saving, index=feature).transpose(), ignore_index=True)\n",
      "/var/folders/dn/j0_7h7gx2sq58_nt9816ss480000gn/T/ipykernel_6547/4250457866.py:74: FutureWarning: The frame.append method is deprecated and will be removed from pandas in a future version. Use pandas.concat instead.\n",
      "  feature_pd = feature_pd.append(pd.DataFrame(saving, index=feature).transpose(), ignore_index=True)\n"
     ]
    },
    {
     "name": "stdout",
     "output_type": "stream",
     "text": [
      "1098\n",
      "1099\n"
     ]
    },
    {
     "name": "stderr",
     "output_type": "stream",
     "text": [
      "/var/folders/dn/j0_7h7gx2sq58_nt9816ss480000gn/T/ipykernel_6547/4250457866.py:74: FutureWarning: The frame.append method is deprecated and will be removed from pandas in a future version. Use pandas.concat instead.\n",
      "  feature_pd = feature_pd.append(pd.DataFrame(saving, index=feature).transpose(), ignore_index=True)\n",
      "/var/folders/dn/j0_7h7gx2sq58_nt9816ss480000gn/T/ipykernel_6547/4250457866.py:74: FutureWarning: The frame.append method is deprecated and will be removed from pandas in a future version. Use pandas.concat instead.\n",
      "  feature_pd = feature_pd.append(pd.DataFrame(saving, index=feature).transpose(), ignore_index=True)\n"
     ]
    },
    {
     "name": "stdout",
     "output_type": "stream",
     "text": [
      "1100\n",
      "1101\n"
     ]
    },
    {
     "name": "stderr",
     "output_type": "stream",
     "text": [
      "/var/folders/dn/j0_7h7gx2sq58_nt9816ss480000gn/T/ipykernel_6547/4250457866.py:74: FutureWarning: The frame.append method is deprecated and will be removed from pandas in a future version. Use pandas.concat instead.\n",
      "  feature_pd = feature_pd.append(pd.DataFrame(saving, index=feature).transpose(), ignore_index=True)\n",
      "/var/folders/dn/j0_7h7gx2sq58_nt9816ss480000gn/T/ipykernel_6547/4250457866.py:74: FutureWarning: The frame.append method is deprecated and will be removed from pandas in a future version. Use pandas.concat instead.\n",
      "  feature_pd = feature_pd.append(pd.DataFrame(saving, index=feature).transpose(), ignore_index=True)\n"
     ]
    },
    {
     "name": "stdout",
     "output_type": "stream",
     "text": [
      "1102\n",
      "1103\n",
      "1104\n",
      "1105\n"
     ]
    },
    {
     "name": "stderr",
     "output_type": "stream",
     "text": [
      "/var/folders/dn/j0_7h7gx2sq58_nt9816ss480000gn/T/ipykernel_6547/4250457866.py:74: FutureWarning: The frame.append method is deprecated and will be removed from pandas in a future version. Use pandas.concat instead.\n",
      "  feature_pd = feature_pd.append(pd.DataFrame(saving, index=feature).transpose(), ignore_index=True)\n",
      "/var/folders/dn/j0_7h7gx2sq58_nt9816ss480000gn/T/ipykernel_6547/4250457866.py:74: FutureWarning: The frame.append method is deprecated and will be removed from pandas in a future version. Use pandas.concat instead.\n",
      "  feature_pd = feature_pd.append(pd.DataFrame(saving, index=feature).transpose(), ignore_index=True)\n",
      "/var/folders/dn/j0_7h7gx2sq58_nt9816ss480000gn/T/ipykernel_6547/4250457866.py:74: FutureWarning: The frame.append method is deprecated and will be removed from pandas in a future version. Use pandas.concat instead.\n",
      "  feature_pd = feature_pd.append(pd.DataFrame(saving, index=feature).transpose(), ignore_index=True)\n",
      "/var/folders/dn/j0_7h7gx2sq58_nt9816ss480000gn/T/ipykernel_6547/4250457866.py:74: FutureWarning: The frame.append method is deprecated and will be removed from pandas in a future version. Use pandas.concat instead.\n",
      "  feature_pd = feature_pd.append(pd.DataFrame(saving, index=feature).transpose(), ignore_index=True)\n"
     ]
    },
    {
     "name": "stdout",
     "output_type": "stream",
     "text": [
      "1106\n",
      "1107\n",
      "1108\n",
      "1109\n",
      "1110\n"
     ]
    },
    {
     "name": "stderr",
     "output_type": "stream",
     "text": [
      "/var/folders/dn/j0_7h7gx2sq58_nt9816ss480000gn/T/ipykernel_6547/4250457866.py:74: FutureWarning: The frame.append method is deprecated and will be removed from pandas in a future version. Use pandas.concat instead.\n",
      "  feature_pd = feature_pd.append(pd.DataFrame(saving, index=feature).transpose(), ignore_index=True)\n",
      "/var/folders/dn/j0_7h7gx2sq58_nt9816ss480000gn/T/ipykernel_6547/4250457866.py:74: FutureWarning: The frame.append method is deprecated and will be removed from pandas in a future version. Use pandas.concat instead.\n",
      "  feature_pd = feature_pd.append(pd.DataFrame(saving, index=feature).transpose(), ignore_index=True)\n",
      "/var/folders/dn/j0_7h7gx2sq58_nt9816ss480000gn/T/ipykernel_6547/4250457866.py:74: FutureWarning: The frame.append method is deprecated and will be removed from pandas in a future version. Use pandas.concat instead.\n",
      "  feature_pd = feature_pd.append(pd.DataFrame(saving, index=feature).transpose(), ignore_index=True)\n",
      "/var/folders/dn/j0_7h7gx2sq58_nt9816ss480000gn/T/ipykernel_6547/4250457866.py:74: FutureWarning: The frame.append method is deprecated and will be removed from pandas in a future version. Use pandas.concat instead.\n",
      "  feature_pd = feature_pd.append(pd.DataFrame(saving, index=feature).transpose(), ignore_index=True)\n",
      "/var/folders/dn/j0_7h7gx2sq58_nt9816ss480000gn/T/ipykernel_6547/4250457866.py:74: FutureWarning: The frame.append method is deprecated and will be removed from pandas in a future version. Use pandas.concat instead.\n",
      "  feature_pd = feature_pd.append(pd.DataFrame(saving, index=feature).transpose(), ignore_index=True)\n"
     ]
    },
    {
     "name": "stdout",
     "output_type": "stream",
     "text": [
      "1111\n",
      "1112\n"
     ]
    },
    {
     "name": "stderr",
     "output_type": "stream",
     "text": [
      "/var/folders/dn/j0_7h7gx2sq58_nt9816ss480000gn/T/ipykernel_6547/4250457866.py:74: FutureWarning: The frame.append method is deprecated and will be removed from pandas in a future version. Use pandas.concat instead.\n",
      "  feature_pd = feature_pd.append(pd.DataFrame(saving, index=feature).transpose(), ignore_index=True)\n",
      "/var/folders/dn/j0_7h7gx2sq58_nt9816ss480000gn/T/ipykernel_6547/4250457866.py:74: FutureWarning: The frame.append method is deprecated and will be removed from pandas in a future version. Use pandas.concat instead.\n",
      "  feature_pd = feature_pd.append(pd.DataFrame(saving, index=feature).transpose(), ignore_index=True)\n"
     ]
    },
    {
     "name": "stdout",
     "output_type": "stream",
     "text": [
      "1113\n",
      "1114\n",
      "1115\n"
     ]
    },
    {
     "name": "stderr",
     "output_type": "stream",
     "text": [
      "/var/folders/dn/j0_7h7gx2sq58_nt9816ss480000gn/T/ipykernel_6547/4250457866.py:74: FutureWarning: The frame.append method is deprecated and will be removed from pandas in a future version. Use pandas.concat instead.\n",
      "  feature_pd = feature_pd.append(pd.DataFrame(saving, index=feature).transpose(), ignore_index=True)\n",
      "/var/folders/dn/j0_7h7gx2sq58_nt9816ss480000gn/T/ipykernel_6547/4250457866.py:74: FutureWarning: The frame.append method is deprecated and will be removed from pandas in a future version. Use pandas.concat instead.\n",
      "  feature_pd = feature_pd.append(pd.DataFrame(saving, index=feature).transpose(), ignore_index=True)\n",
      "/var/folders/dn/j0_7h7gx2sq58_nt9816ss480000gn/T/ipykernel_6547/4250457866.py:74: FutureWarning: The frame.append method is deprecated and will be removed from pandas in a future version. Use pandas.concat instead.\n",
      "  feature_pd = feature_pd.append(pd.DataFrame(saving, index=feature).transpose(), ignore_index=True)\n"
     ]
    },
    {
     "name": "stdout",
     "output_type": "stream",
     "text": [
      "1116\n",
      "1117\n",
      "1118\n"
     ]
    },
    {
     "name": "stderr",
     "output_type": "stream",
     "text": [
      "/var/folders/dn/j0_7h7gx2sq58_nt9816ss480000gn/T/ipykernel_6547/4250457866.py:74: FutureWarning: The frame.append method is deprecated and will be removed from pandas in a future version. Use pandas.concat instead.\n",
      "  feature_pd = feature_pd.append(pd.DataFrame(saving, index=feature).transpose(), ignore_index=True)\n",
      "/var/folders/dn/j0_7h7gx2sq58_nt9816ss480000gn/T/ipykernel_6547/4250457866.py:74: FutureWarning: The frame.append method is deprecated and will be removed from pandas in a future version. Use pandas.concat instead.\n",
      "  feature_pd = feature_pd.append(pd.DataFrame(saving, index=feature).transpose(), ignore_index=True)\n",
      "/var/folders/dn/j0_7h7gx2sq58_nt9816ss480000gn/T/ipykernel_6547/4250457866.py:74: FutureWarning: The frame.append method is deprecated and will be removed from pandas in a future version. Use pandas.concat instead.\n",
      "  feature_pd = feature_pd.append(pd.DataFrame(saving, index=feature).transpose(), ignore_index=True)\n"
     ]
    },
    {
     "name": "stdout",
     "output_type": "stream",
     "text": [
      "1119\n",
      "1120\n",
      "1121\n",
      "1122\n"
     ]
    },
    {
     "name": "stderr",
     "output_type": "stream",
     "text": [
      "/var/folders/dn/j0_7h7gx2sq58_nt9816ss480000gn/T/ipykernel_6547/4250457866.py:74: FutureWarning: The frame.append method is deprecated and will be removed from pandas in a future version. Use pandas.concat instead.\n",
      "  feature_pd = feature_pd.append(pd.DataFrame(saving, index=feature).transpose(), ignore_index=True)\n",
      "/var/folders/dn/j0_7h7gx2sq58_nt9816ss480000gn/T/ipykernel_6547/4250457866.py:74: FutureWarning: The frame.append method is deprecated and will be removed from pandas in a future version. Use pandas.concat instead.\n",
      "  feature_pd = feature_pd.append(pd.DataFrame(saving, index=feature).transpose(), ignore_index=True)\n",
      "/var/folders/dn/j0_7h7gx2sq58_nt9816ss480000gn/T/ipykernel_6547/4250457866.py:74: FutureWarning: The frame.append method is deprecated and will be removed from pandas in a future version. Use pandas.concat instead.\n",
      "  feature_pd = feature_pd.append(pd.DataFrame(saving, index=feature).transpose(), ignore_index=True)\n",
      "/var/folders/dn/j0_7h7gx2sq58_nt9816ss480000gn/T/ipykernel_6547/4250457866.py:74: FutureWarning: The frame.append method is deprecated and will be removed from pandas in a future version. Use pandas.concat instead.\n",
      "  feature_pd = feature_pd.append(pd.DataFrame(saving, index=feature).transpose(), ignore_index=True)\n"
     ]
    },
    {
     "name": "stdout",
     "output_type": "stream",
     "text": [
      "1123\n",
      "1124\n"
     ]
    },
    {
     "name": "stderr",
     "output_type": "stream",
     "text": [
      "/var/folders/dn/j0_7h7gx2sq58_nt9816ss480000gn/T/ipykernel_6547/4250457866.py:74: FutureWarning: The frame.append method is deprecated and will be removed from pandas in a future version. Use pandas.concat instead.\n",
      "  feature_pd = feature_pd.append(pd.DataFrame(saving, index=feature).transpose(), ignore_index=True)\n",
      "/var/folders/dn/j0_7h7gx2sq58_nt9816ss480000gn/T/ipykernel_6547/4250457866.py:74: FutureWarning: The frame.append method is deprecated and will be removed from pandas in a future version. Use pandas.concat instead.\n",
      "  feature_pd = feature_pd.append(pd.DataFrame(saving, index=feature).transpose(), ignore_index=True)\n"
     ]
    }
   ],
   "source": [
    "for i in range (1125):\n",
    "    saving = []\n",
    "    saving.append(label[i])\n",
    "    stft = np.abs(librosa.stft(raw[i]))\n",
    "    #flatness\n",
    "    flatness = np.mean(librosa.feature.spectral_flatness(y=raw[i]))\n",
    "    saving.append(flatness)\n",
    "    #zero-crossing\n",
    "    zerocr = np.mean(librosa.feature.zero_crossing_rate(raw[i]))\n",
    "    saving.append(zerocr)\n",
    "\n",
    "    S, phase = librosa.magphase(stft)\n",
    "    meanMagnitude = np.mean(S)\n",
    "    stdMagnitude = np.std(S)\n",
    "    maxMagnitude = np.max(S)\n",
    "    saving.append(meanMagnitude)\n",
    "    saving.append(maxMagnitude)\n",
    "\n",
    "    #Centroid\n",
    "    cent = librosa.feature.spectral_centroid(y=raw[i], sr=fs)\n",
    "    cent = cent / np.sum(cent)\n",
    "    meancent = np.mean(cent)\n",
    "    stdcent = np.std(cent)\n",
    "    maxcent = np.max(cent)\n",
    "    saving.append(meancent)\n",
    "    saving.append(stdcent)\n",
    "    saving.append(maxcent)\n",
    "    saving.append(stdMagnitude)\n",
    "\n",
    "    # pitch\n",
    "    pitches, magnitudes = librosa.piptrack(y=raw[i], sr=fs, S=stft, fmin=70, fmax=400)\n",
    "    pitch = []\n",
    "    for j in range(magnitudes.shape[1]):\n",
    "        indexs = magnitudes[:, 1].argmax()\n",
    "        pitch.append(pitches[indexs, j])\n",
    "    pitch_tuning_offset = librosa.pitch_tuning(pitches)\n",
    "    pitchmean = np.mean(pitch)\n",
    "    pitchstd = np.std(pitch)\n",
    "    pitchmax = np.max(pitch)\n",
    "    pitchmin = np.min(pitch)\n",
    "    saving.append(pitchmean)\n",
    "    saving.append(pitchmax)\n",
    "    saving.append(pitchstd)\n",
    "    saving.append(pitch_tuning_offset)\n",
    "\n",
    "    #rmse\n",
    "    rmse = librosa.feature.rms(S=S)[0]\n",
    "    meanrms = np.mean(rmse)\n",
    "    stdrms = np.std(rmse)\n",
    "    maxrms = np.max(rmse)\n",
    "    saving.append(meanrms)\n",
    "    saving.append(maxrms)\n",
    "    saving.append(stdrms)\n",
    "\n",
    "    #mfcc\n",
    "    mfccs = np.mean(librosa.feature.mfcc(y=raw[i], sr=fs, n_mfcc=50).T, axis=0)\n",
    "    mfccsstd = np.std(librosa.feature.mfcc(y=raw[i], sr=fs, n_mfcc=50).T, axis=0)\n",
    "    mfccmax = np.max(librosa.feature.mfcc(y=raw[i], sr=fs, n_mfcc=50).T, axis=0)\n",
    "    saving.extend(mfccs.tolist())\n",
    "    saving.extend(mfccsstd.tolist())\n",
    "    saving.extend(mfccmax.tolist())\n",
    "\n",
    "    #chromagram\n",
    "    chroma = np.mean(librosa.feature.chroma_stft(S=stft, sr=fs).T, axis=0)\n",
    "    saving.extend(chroma.tolist())\n",
    "\n",
    "    #mels\n",
    "    mel = np.mean(librosa.feature.melspectrogram(y=raw[i], sr=fs).T, axis=0)\n",
    "    saving.extend(mel.tolist())\n",
    "    #ottava对比\n",
    "    contrast = np.mean(librosa.feature.spectral_contrast(S=stft, sr=fs).T, axis=0)\n",
    "    saving.extend(contrast.tolist())\n",
    "    print(i)\n",
    "    feature_pd = feature_pd.append(pd.DataFrame(saving, index=feature).transpose(), ignore_index=True)"
   ],
   "metadata": {
    "collapsed": false,
    "pycharm": {
     "name": "#%%\n"
    }
   }
  },
  {
   "cell_type": "code",
   "execution_count": 196,
   "outputs": [
    {
     "data": {
      "text/plain": "      emotion  flatness    zerocr   meanMag      maxMag  meancent   stdcent  \\\n0        calm  0.025215  0.060741  0.026846    9.410904   0.00885  0.008068   \n1         sad  0.007192  0.107056   0.09987   22.972229  0.007353   0.00536   \n2         sad   0.00887  0.059829  0.093057   37.875198  0.005348  0.004205   \n3        calm  0.011513  0.058887  0.024574    8.392821  0.006667  0.004371   \n4     fearful  0.007202  0.056484  0.444939  110.891922  0.006289  0.004181   \n...       ...       ...       ...       ...         ...       ...       ...   \n1120      sad  0.007115  0.049032  0.047011   12.353555  0.006944  0.004845   \n1121     calm  0.004772   0.04181   0.03154    8.660782  0.007299  0.005194   \n1122  disgust  0.017978  0.074625  0.078325   26.815812  0.005435   0.00328   \n1123    angry  0.009161  0.087952  0.114873   20.943423  0.006579   0.00612   \n1124      sad  0.015481  0.058302  0.126739  101.557066  0.003509  0.002211   \n\n       maxcent    stdMag   pitchmean  ... mels126_mean mels127_mean  \\\n0     0.029945  0.161053         0.0  ...          0.0          0.0   \n1     0.019579  0.511499   66.514207  ...     0.000001          0.0   \n2     0.017702  0.619473   44.179797  ...     0.000001          0.0   \n3     0.019219  0.174096   44.710801  ...          0.0          0.0   \n4     0.017703  2.296544   26.856039  ...     0.000094     0.000008   \n...        ...       ...         ...  ...          ...          ...   \n1120  0.024145  0.336476   44.090273  ...          0.0          0.0   \n1121  0.020839  0.204246  102.420125  ...          0.0          0.0   \n1122  0.015725  0.432133   30.942438  ...     0.000003          0.0   \n1123  0.022281  0.597547   53.742613  ...     0.000005          0.0   \n1124  0.009542  0.956866         0.0  ...      0.00001     0.000001   \n\n     mels128_mean contrast1_mean contrast2_mean contrast3_mean contrast4_mean  \\\n0             0.0       17.84417      12.688804      15.974683      16.461388   \n1             0.0      11.807734      22.546581      20.587265      20.014085   \n2             0.0      20.393315      12.639328      15.273654      16.208149   \n3             0.0       19.37327      17.798835      18.696435      15.987231   \n4             0.0      21.966236      14.973455       14.80832      16.422721   \n...           ...            ...            ...            ...            ...   \n1120          0.0      16.604176      18.391297      21.093146      19.641472   \n1121          0.0      17.410227      12.587538      16.747762      16.252896   \n1122          0.0       18.45115      13.566328      15.898536      15.068925   \n1123          0.0      16.184287      19.305839      19.719753      19.085318   \n1124          0.0      20.036734      12.671948      15.638586      15.564536   \n\n     contrast5_mean contrast6_mean contrast7_mean  \n0         18.016168      21.397066      21.430682  \n1         20.327124       22.80111      29.031935  \n2         17.552429      20.433561      24.568633  \n3         18.742845       18.05437      24.122616  \n4         18.234495      17.717152      30.875616  \n...             ...            ...            ...  \n1120      21.158854      21.537565      25.479859  \n1121      17.609586      19.764173      23.710072  \n1122      18.513952      17.315592      27.457853  \n1123      20.619816      20.788578      27.559495  \n1124      17.565425      17.492022      24.104367  \n\n[1125 rows x 313 columns]",
      "text/html": "<div>\n<style scoped>\n    .dataframe tbody tr th:only-of-type {\n        vertical-align: middle;\n    }\n\n    .dataframe tbody tr th {\n        vertical-align: top;\n    }\n\n    .dataframe thead th {\n        text-align: right;\n    }\n</style>\n<table border=\"1\" class=\"dataframe\">\n  <thead>\n    <tr style=\"text-align: right;\">\n      <th></th>\n      <th>emotion</th>\n      <th>flatness</th>\n      <th>zerocr</th>\n      <th>meanMag</th>\n      <th>maxMag</th>\n      <th>meancent</th>\n      <th>stdcent</th>\n      <th>maxcent</th>\n      <th>stdMag</th>\n      <th>pitchmean</th>\n      <th>...</th>\n      <th>mels126_mean</th>\n      <th>mels127_mean</th>\n      <th>mels128_mean</th>\n      <th>contrast1_mean</th>\n      <th>contrast2_mean</th>\n      <th>contrast3_mean</th>\n      <th>contrast4_mean</th>\n      <th>contrast5_mean</th>\n      <th>contrast6_mean</th>\n      <th>contrast7_mean</th>\n    </tr>\n  </thead>\n  <tbody>\n    <tr>\n      <th>0</th>\n      <td>calm</td>\n      <td>0.025215</td>\n      <td>0.060741</td>\n      <td>0.026846</td>\n      <td>9.410904</td>\n      <td>0.00885</td>\n      <td>0.008068</td>\n      <td>0.029945</td>\n      <td>0.161053</td>\n      <td>0.0</td>\n      <td>...</td>\n      <td>0.0</td>\n      <td>0.0</td>\n      <td>0.0</td>\n      <td>17.84417</td>\n      <td>12.688804</td>\n      <td>15.974683</td>\n      <td>16.461388</td>\n      <td>18.016168</td>\n      <td>21.397066</td>\n      <td>21.430682</td>\n    </tr>\n    <tr>\n      <th>1</th>\n      <td>sad</td>\n      <td>0.007192</td>\n      <td>0.107056</td>\n      <td>0.09987</td>\n      <td>22.972229</td>\n      <td>0.007353</td>\n      <td>0.00536</td>\n      <td>0.019579</td>\n      <td>0.511499</td>\n      <td>66.514207</td>\n      <td>...</td>\n      <td>0.000001</td>\n      <td>0.0</td>\n      <td>0.0</td>\n      <td>11.807734</td>\n      <td>22.546581</td>\n      <td>20.587265</td>\n      <td>20.014085</td>\n      <td>20.327124</td>\n      <td>22.80111</td>\n      <td>29.031935</td>\n    </tr>\n    <tr>\n      <th>2</th>\n      <td>sad</td>\n      <td>0.00887</td>\n      <td>0.059829</td>\n      <td>0.093057</td>\n      <td>37.875198</td>\n      <td>0.005348</td>\n      <td>0.004205</td>\n      <td>0.017702</td>\n      <td>0.619473</td>\n      <td>44.179797</td>\n      <td>...</td>\n      <td>0.000001</td>\n      <td>0.0</td>\n      <td>0.0</td>\n      <td>20.393315</td>\n      <td>12.639328</td>\n      <td>15.273654</td>\n      <td>16.208149</td>\n      <td>17.552429</td>\n      <td>20.433561</td>\n      <td>24.568633</td>\n    </tr>\n    <tr>\n      <th>3</th>\n      <td>calm</td>\n      <td>0.011513</td>\n      <td>0.058887</td>\n      <td>0.024574</td>\n      <td>8.392821</td>\n      <td>0.006667</td>\n      <td>0.004371</td>\n      <td>0.019219</td>\n      <td>0.174096</td>\n      <td>44.710801</td>\n      <td>...</td>\n      <td>0.0</td>\n      <td>0.0</td>\n      <td>0.0</td>\n      <td>19.37327</td>\n      <td>17.798835</td>\n      <td>18.696435</td>\n      <td>15.987231</td>\n      <td>18.742845</td>\n      <td>18.05437</td>\n      <td>24.122616</td>\n    </tr>\n    <tr>\n      <th>4</th>\n      <td>fearful</td>\n      <td>0.007202</td>\n      <td>0.056484</td>\n      <td>0.444939</td>\n      <td>110.891922</td>\n      <td>0.006289</td>\n      <td>0.004181</td>\n      <td>0.017703</td>\n      <td>2.296544</td>\n      <td>26.856039</td>\n      <td>...</td>\n      <td>0.000094</td>\n      <td>0.000008</td>\n      <td>0.0</td>\n      <td>21.966236</td>\n      <td>14.973455</td>\n      <td>14.80832</td>\n      <td>16.422721</td>\n      <td>18.234495</td>\n      <td>17.717152</td>\n      <td>30.875616</td>\n    </tr>\n    <tr>\n      <th>...</th>\n      <td>...</td>\n      <td>...</td>\n      <td>...</td>\n      <td>...</td>\n      <td>...</td>\n      <td>...</td>\n      <td>...</td>\n      <td>...</td>\n      <td>...</td>\n      <td>...</td>\n      <td>...</td>\n      <td>...</td>\n      <td>...</td>\n      <td>...</td>\n      <td>...</td>\n      <td>...</td>\n      <td>...</td>\n      <td>...</td>\n      <td>...</td>\n      <td>...</td>\n      <td>...</td>\n    </tr>\n    <tr>\n      <th>1120</th>\n      <td>sad</td>\n      <td>0.007115</td>\n      <td>0.049032</td>\n      <td>0.047011</td>\n      <td>12.353555</td>\n      <td>0.006944</td>\n      <td>0.004845</td>\n      <td>0.024145</td>\n      <td>0.336476</td>\n      <td>44.090273</td>\n      <td>...</td>\n      <td>0.0</td>\n      <td>0.0</td>\n      <td>0.0</td>\n      <td>16.604176</td>\n      <td>18.391297</td>\n      <td>21.093146</td>\n      <td>19.641472</td>\n      <td>21.158854</td>\n      <td>21.537565</td>\n      <td>25.479859</td>\n    </tr>\n    <tr>\n      <th>1121</th>\n      <td>calm</td>\n      <td>0.004772</td>\n      <td>0.04181</td>\n      <td>0.03154</td>\n      <td>8.660782</td>\n      <td>0.007299</td>\n      <td>0.005194</td>\n      <td>0.020839</td>\n      <td>0.204246</td>\n      <td>102.420125</td>\n      <td>...</td>\n      <td>0.0</td>\n      <td>0.0</td>\n      <td>0.0</td>\n      <td>17.410227</td>\n      <td>12.587538</td>\n      <td>16.747762</td>\n      <td>16.252896</td>\n      <td>17.609586</td>\n      <td>19.764173</td>\n      <td>23.710072</td>\n    </tr>\n    <tr>\n      <th>1122</th>\n      <td>disgust</td>\n      <td>0.017978</td>\n      <td>0.074625</td>\n      <td>0.078325</td>\n      <td>26.815812</td>\n      <td>0.005435</td>\n      <td>0.00328</td>\n      <td>0.015725</td>\n      <td>0.432133</td>\n      <td>30.942438</td>\n      <td>...</td>\n      <td>0.000003</td>\n      <td>0.0</td>\n      <td>0.0</td>\n      <td>18.45115</td>\n      <td>13.566328</td>\n      <td>15.898536</td>\n      <td>15.068925</td>\n      <td>18.513952</td>\n      <td>17.315592</td>\n      <td>27.457853</td>\n    </tr>\n    <tr>\n      <th>1123</th>\n      <td>angry</td>\n      <td>0.009161</td>\n      <td>0.087952</td>\n      <td>0.114873</td>\n      <td>20.943423</td>\n      <td>0.006579</td>\n      <td>0.00612</td>\n      <td>0.022281</td>\n      <td>0.597547</td>\n      <td>53.742613</td>\n      <td>...</td>\n      <td>0.000005</td>\n      <td>0.0</td>\n      <td>0.0</td>\n      <td>16.184287</td>\n      <td>19.305839</td>\n      <td>19.719753</td>\n      <td>19.085318</td>\n      <td>20.619816</td>\n      <td>20.788578</td>\n      <td>27.559495</td>\n    </tr>\n    <tr>\n      <th>1124</th>\n      <td>sad</td>\n      <td>0.015481</td>\n      <td>0.058302</td>\n      <td>0.126739</td>\n      <td>101.557066</td>\n      <td>0.003509</td>\n      <td>0.002211</td>\n      <td>0.009542</td>\n      <td>0.956866</td>\n      <td>0.0</td>\n      <td>...</td>\n      <td>0.00001</td>\n      <td>0.000001</td>\n      <td>0.0</td>\n      <td>20.036734</td>\n      <td>12.671948</td>\n      <td>15.638586</td>\n      <td>15.564536</td>\n      <td>17.565425</td>\n      <td>17.492022</td>\n      <td>24.104367</td>\n    </tr>\n  </tbody>\n</table>\n<p>1125 rows × 313 columns</p>\n</div>"
     },
     "execution_count": 196,
     "metadata": {},
     "output_type": "execute_result"
    }
   ],
   "source": [
    "feature_pd"
   ],
   "metadata": {
    "collapsed": false,
    "pycharm": {
     "name": "#%%\n"
    }
   }
  },
  {
   "cell_type": "code",
   "execution_count": 197,
   "outputs": [],
   "source": [
    "feature_pd.to_csv('mfcc_mean_caca.csv', index=False)"
   ],
   "metadata": {
    "collapsed": false,
    "pycharm": {
     "name": "#%%\n"
    }
   }
  },
  {
   "cell_type": "markdown",
   "source": [],
   "metadata": {
    "collapsed": false,
    "pycharm": {
     "name": "#%% md\n"
    }
   }
  }
 ],
 "metadata": {
  "kernelspec": {
   "display_name": "Python 3",
   "language": "python",
   "name": "python3"
  },
  "language_info": {
   "codemirror_mode": {
    "name": "ipython",
    "version": 2
   },
   "file_extension": ".py",
   "mimetype": "text/x-python",
   "name": "python",
   "nbconvert_exporter": "python",
   "pygments_lexer": "ipython2",
   "version": "2.7.6"
  }
 },
 "nbformat": 4,
 "nbformat_minor": 0
}