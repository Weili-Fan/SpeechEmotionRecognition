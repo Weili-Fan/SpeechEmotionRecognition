{
 "cells": [
  {
   "cell_type": "code",
   "execution_count": 2,
   "metadata": {},
   "outputs": [],
   "source": [
    "import os\n",
    "import numpy as np\n",
    "from scipy.io import wavfile\n",
    "from python_speech_features import mfcc\n",
    "from sklearn.neighbors import KNeighborsClassifier\n",
    "\n"
   ]
  },
  {
   "cell_type": "code",
   "execution_count": 1,
   "metadata": {},
   "outputs": [
    {
     "data": {
      "text/plain": [
       "'c:\\\\Users\\\\Weili Fan\\\\Documents\\\\all\\\\rice\\\\courses\\\\2022 Fall\\\\ELEC 301\\\\project'"
      ]
     },
     "execution_count": 1,
     "metadata": {},
     "output_type": "execute_result"
    }
   ],
   "source": [
    "pwd"
   ]
  },
  {
   "cell_type": "code",
   "execution_count": 3,
   "metadata": {},
   "outputs": [],
   "source": [
    "path = \"./elec-301-speech-emotion-classification/data/data/\"\n",
    "os.chdir(path)"
   ]
  },
  {
   "cell_type": "code",
   "execution_count": 4,
   "metadata": {},
   "outputs": [],
   "source": [
    "from sklearn.metrics import accuracy_score\n",
    "import matplotlib.pyplot as plt\n",
    "import pandas as pd\n"
   ]
  },
  {
   "cell_type": "code",
   "execution_count": 5,
   "metadata": {},
   "outputs": [
    {
     "name": "stderr",
     "output_type": "stream",
     "text": [
      "C:\\Users\\Weili Fan\\AppData\\Local\\Temp\\ipykernel_37040\\4200010588.py:6: WavFileWarning: Chunk (non-data) not understood, skipping it.\n",
      "  samplerate, data = wavfile.read(file)\n",
      "C:\\Users\\Weili Fan\\AppData\\Local\\Temp\\ipykernel_37040\\4200010588.py:14: VisibleDeprecationWarning: Creating an ndarray from ragged nested sequences (which is a list-or-tuple of lists-or-tuples-or ndarrays with different lengths or shapes) is deprecated. If you meant to do this, you must specify 'dtype=object' when creating the ndarray.\n",
      "  data_all = np.asarray(data_all)\n"
     ]
    }
   ],
   "source": [
    "# read train data\n",
    "data_all = []\n",
    "samplerate_all = []\n",
    "label = []\n",
    "for file in os.listdir():     \n",
    "    samplerate, data = wavfile.read(file)\n",
    "    samplerate_all.append(samplerate)\n",
    "    if (len(data.shape) > 1):\n",
    "        data_all.append(data[:,0])\n",
    "    else:\n",
    "        data_all.append(data)\n",
    "    label.append(str(file)[ : -7])\n",
    "\n",
    "data_all = np.asarray(data_all)\n",
    "label = np.asarray(label)\n"
   ]
  },
  {
   "cell_type": "code",
   "execution_count": 6,
   "metadata": {},
   "outputs": [
    {
     "data": {
      "text/plain": [
       "(1125, 12)"
      ]
     },
     "execution_count": 6,
     "metadata": {},
     "output_type": "execute_result"
    }
   ],
   "source": [
    "mfcc_all = []\n",
    "for i in range(len(data_all)):\n",
    "    features_mfcc = mfcc(data_all[i], samplerate_all[i], nfft=1200)\n",
    "    features_mfcc = features_mfcc[:, 1:]\n",
    "    features_mfcc = features_mfcc.T\n",
    "    mfccs_processed = np.mean(features_mfcc,axis=1)\n",
    "    mfcc_all.append(mfccs_processed)\n",
    "mfcc_all = np.asarray(mfcc_all)\n",
    "mfcc_all.shape\n"
   ]
  },
  {
   "cell_type": "code",
   "execution_count": 7,
   "metadata": {},
   "outputs": [],
   "source": [
    "\n",
    "path = \"../../test/test\"\n",
    "os.chdir(path)\n"
   ]
  },
  {
   "cell_type": "code",
   "execution_count": 8,
   "metadata": {},
   "outputs": [
    {
     "name": "stderr",
     "output_type": "stream",
     "text": [
      "C:\\Users\\Weili Fan\\AppData\\Local\\Temp\\ipykernel_37040\\3221594953.py:7: WavFileWarning: Chunk (non-data) not understood, skipping it.\n",
      "  samplerate, data = wavfile.read(file)\n",
      "C:\\Users\\Weili Fan\\AppData\\Local\\Temp\\ipykernel_37040\\3221594953.py:16: VisibleDeprecationWarning: Creating an ndarray from ragged nested sequences (which is a list-or-tuple of lists-or-tuples-or ndarrays with different lengths or shapes) is deprecated. If you meant to do this, you must specify 'dtype=object' when creating the ndarray.\n",
      "  test_data = np.asarray(test_data)\n"
     ]
    }
   ],
   "source": [
    "\n",
    "test_data = []\n",
    "test_samplerate = []\n",
    "fileName = []\n",
    "NUM = []\n",
    "\n",
    "for file in os.listdir():     \n",
    "    samplerate, data = wavfile.read(file)\n",
    "    test_samplerate.append(samplerate)\n",
    "    if (len(data.shape) > 1):\n",
    "        test_data.append(data[:,0])\n",
    "    else:\n",
    "        test_data.append(data)\n",
    "    fileName.append(str(file[: -4]))\n",
    "    NUM.append(str(file[6: 9]))\n",
    "\n",
    "test_data = np.asarray(test_data)\n",
    "test_samplerate = np.asarray(test_samplerate)\n",
    "fileName = np.asarray(fileName)"
   ]
  },
  {
   "cell_type": "code",
   "execution_count": 9,
   "metadata": {},
   "outputs": [],
   "source": [
    "\n",
    "mfcc_test = []\n",
    "for i in range(len(test_data)):\n",
    "    features_mfcc = mfcc(test_data[i], test_samplerate[i], nfft=1200)\n",
    "    features_mfcc = features_mfcc[:, 1:]\n",
    "    features_mfcc = features_mfcc.T\n",
    "    mfccs_processed = np.mean(features_mfcc,axis=1)\n",
    "    mfcc_test.append(mfccs_processed)\n",
    "mfcc_test = np.asarray(mfcc_test)\n",
    "\n"
   ]
  },
  {
   "cell_type": "code",
   "execution_count": 23,
   "metadata": {},
   "outputs": [
    {
     "name": "stdout",
     "output_type": "stream",
     "text": [
      "0.8035555555555556\n"
     ]
    }
   ],
   "source": [
    "neigh = KNeighborsClassifier(n_neighbors=3)\n",
    "neigh.fit(mfcc_all,label)\n",
    "\n",
    "prediction = neigh.predict(mfcc_test)\n",
    "accuracy = accuracy_score(label, neigh.predict(mfcc_all))\n",
    "print(accuracy)"
   ]
  },
  {
   "cell_type": "code",
   "execution_count": 24,
   "metadata": {},
   "outputs": [],
   "source": [
    "res = np.array(prediction).transpose()\n",
    "NUM = np.array(NUM).transpose()\n",
    "sample = np.column_stack([NUM, res])\n",
    "sort_sample = sample[sample[:, 0].argsort()]\n",
    "name = []\n",
    "for item in sort_sample[:,0]:\n",
    "  item = 'sample'+str(item)\n",
    "  name.append(item)\n",
    "name = np.array(name).transpose()\n",
    "sort_sample[:,0] = name\n",
    "# sort_sample"
   ]
  },
  {
   "cell_type": "code",
   "execution_count": 53,
   "metadata": {},
   "outputs": [],
   "source": [
    "# result = []\n",
    "# for i in range(prediction.shape[0]):\n",
    "#     result.append([fileName[i], prediction[i]])"
   ]
  },
  {
   "cell_type": "code",
   "execution_count": 14,
   "metadata": {},
   "outputs": [],
   "source": [
    "path = \"../../../\"\n",
    "os.chdir(path)"
   ]
  },
  {
   "cell_type": "code",
   "execution_count": 16,
   "metadata": {},
   "outputs": [],
   "source": [
    "path = \"../\"\n",
    "os.chdir(path)"
   ]
  },
  {
   "cell_type": "code",
   "execution_count": 25,
   "metadata": {},
   "outputs": [],
   "source": [
    "import pandas as pd\n",
    "DF = pd.DataFrame(sort_sample)\n",
    "DF.columns = ['filename', 'label']\n",
    "DF.to_csv(\"mfcc knn N = 3.csv\", index=False)"
   ]
  },
  {
   "cell_type": "code",
   "execution_count": null,
   "metadata": {},
   "outputs": [],
   "source": []
  }
 ],
 "metadata": {
  "kernelspec": {
   "display_name": "Python 3.9.1 64-bit",
   "language": "python",
   "name": "python3"
  },
  "language_info": {
   "codemirror_mode": {
    "name": "ipython",
    "version": 3
   },
   "file_extension": ".py",
   "mimetype": "text/x-python",
   "name": "python",
   "nbconvert_exporter": "python",
   "pygments_lexer": "ipython3",
   "version": "3.9.1"
  },
  "orig_nbformat": 4,
  "vscode": {
   "interpreter": {
    "hash": "1069c1e00a215b1f02473d6a16c0760db8a56168728b44b16b6ac804c935dc98"
   }
  }
 },
 "nbformat": 4,
 "nbformat_minor": 2
}
